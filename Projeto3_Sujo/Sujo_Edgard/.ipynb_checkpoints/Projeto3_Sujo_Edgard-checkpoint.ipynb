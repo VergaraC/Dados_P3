{
 "cells": [
  {
   "cell_type": "code",
   "execution_count": 1,
   "metadata": {},
   "outputs": [],
   "source": [
    "import math\n",
    "import os.path\n",
    "import pandas as pd\n",
    "import numpy as np\n",
    "import matplotlib\n",
    "import matplotlib.pyplot as plt\n",
    "import json\n",
    "import random\n",
    "import statsmodels.api as sm\n",
    "import seaborn as sns\n",
    "\n",
    "from sklearn.feature_extraction.text import CountVectorizer\n",
    "from sklearn.metrics import accuracy_score\n",
    "from sklearn.naive_bayes import MultinomialNB\n",
    "\n",
    "from sklearn.pipeline import Pipeline\n",
    "from sklearn.ensemble import RandomForestClassifier\n",
    "from sklearn.linear_model import LogisticRegression\n",
    "from sklearn.model_selection import train_test_split"
   ]
  },
  {
   "cell_type": "code",
   "execution_count": 2,
   "metadata": {
    "scrolled": true
   },
   "outputs": [
    {
     "data": {
      "text/html": [
       "<div>\n",
       "<style scoped>\n",
       "    .dataframe tbody tr th:only-of-type {\n",
       "        vertical-align: middle;\n",
       "    }\n",
       "\n",
       "    .dataframe tbody tr th {\n",
       "        vertical-align: top;\n",
       "    }\n",
       "\n",
       "    .dataframe thead th {\n",
       "        text-align: right;\n",
       "    }\n",
       "</style>\n",
       "<table border=\"1\" class=\"dataframe\">\n",
       "  <thead>\n",
       "    <tr style=\"text-align: right;\">\n",
       "      <th></th>\n",
       "      <th>R_fighter</th>\n",
       "      <th>B_fighter</th>\n",
       "      <th>Referee</th>\n",
       "      <th>date</th>\n",
       "      <th>location</th>\n",
       "      <th>Winner</th>\n",
       "      <th>title_bout</th>\n",
       "      <th>weight_class</th>\n",
       "      <th>no_of_rounds</th>\n",
       "      <th>B_current_lose_streak</th>\n",
       "      <th>...</th>\n",
       "      <th>R_win_by_KO/TKO</th>\n",
       "      <th>R_win_by_Submission</th>\n",
       "      <th>R_win_by_TKO_Doctor_Stoppage</th>\n",
       "      <th>R_wins</th>\n",
       "      <th>R_Stance</th>\n",
       "      <th>R_Height_cms</th>\n",
       "      <th>R_Reach_cms</th>\n",
       "      <th>R_Weight_lbs</th>\n",
       "      <th>B_age</th>\n",
       "      <th>R_age</th>\n",
       "    </tr>\n",
       "  </thead>\n",
       "  <tbody>\n",
       "    <tr>\n",
       "      <th>0</th>\n",
       "      <td>Henry Cejudo</td>\n",
       "      <td>Marlon Moraes</td>\n",
       "      <td>Marc Goddard</td>\n",
       "      <td>2019</td>\n",
       "      <td>Chicago, Illinois, USA</td>\n",
       "      <td>Red</td>\n",
       "      <td>True</td>\n",
       "      <td>Bantamweight</td>\n",
       "      <td>5</td>\n",
       "      <td>0</td>\n",
       "      <td>...</td>\n",
       "      <td>2</td>\n",
       "      <td>0</td>\n",
       "      <td>0</td>\n",
       "      <td>8</td>\n",
       "      <td>Orthodox</td>\n",
       "      <td>162.56</td>\n",
       "      <td>162.56</td>\n",
       "      <td>135.0</td>\n",
       "      <td>31.0</td>\n",
       "      <td>32.0</td>\n",
       "    </tr>\n",
       "    <tr>\n",
       "      <th>1</th>\n",
       "      <td>Valentina Shevchenko</td>\n",
       "      <td>Jessica Eye</td>\n",
       "      <td>Robert Madrigal</td>\n",
       "      <td>2019</td>\n",
       "      <td>Chicago, Illinois, USA</td>\n",
       "      <td>Red</td>\n",
       "      <td>True</td>\n",
       "      <td>Women's Flyweight</td>\n",
       "      <td>5</td>\n",
       "      <td>0</td>\n",
       "      <td>...</td>\n",
       "      <td>0</td>\n",
       "      <td>2</td>\n",
       "      <td>0</td>\n",
       "      <td>5</td>\n",
       "      <td>Southpaw</td>\n",
       "      <td>165.10</td>\n",
       "      <td>167.64</td>\n",
       "      <td>125.0</td>\n",
       "      <td>32.0</td>\n",
       "      <td>31.0</td>\n",
       "    </tr>\n",
       "    <tr>\n",
       "      <th>2</th>\n",
       "      <td>Tony Ferguson</td>\n",
       "      <td>Donald Cerrone</td>\n",
       "      <td>Dan Miragliotta</td>\n",
       "      <td>2019</td>\n",
       "      <td>Chicago, Illinois, USA</td>\n",
       "      <td>Red</td>\n",
       "      <td>False</td>\n",
       "      <td>Lightweight</td>\n",
       "      <td>3</td>\n",
       "      <td>0</td>\n",
       "      <td>...</td>\n",
       "      <td>3</td>\n",
       "      <td>6</td>\n",
       "      <td>1</td>\n",
       "      <td>14</td>\n",
       "      <td>Orthodox</td>\n",
       "      <td>180.34</td>\n",
       "      <td>193.04</td>\n",
       "      <td>155.0</td>\n",
       "      <td>36.0</td>\n",
       "      <td>35.0</td>\n",
       "    </tr>\n",
       "    <tr>\n",
       "      <th>3</th>\n",
       "      <td>Jimmie Rivera</td>\n",
       "      <td>Petr Yan</td>\n",
       "      <td>Kevin MacDonald</td>\n",
       "      <td>2019</td>\n",
       "      <td>Chicago, Illinois, USA</td>\n",
       "      <td>Blue</td>\n",
       "      <td>False</td>\n",
       "      <td>Bantamweight</td>\n",
       "      <td>3</td>\n",
       "      <td>0</td>\n",
       "      <td>...</td>\n",
       "      <td>1</td>\n",
       "      <td>0</td>\n",
       "      <td>0</td>\n",
       "      <td>6</td>\n",
       "      <td>Orthodox</td>\n",
       "      <td>162.56</td>\n",
       "      <td>172.72</td>\n",
       "      <td>135.0</td>\n",
       "      <td>26.0</td>\n",
       "      <td>29.0</td>\n",
       "    </tr>\n",
       "    <tr>\n",
       "      <th>4</th>\n",
       "      <td>Tai Tuivasa</td>\n",
       "      <td>Blagoy Ivanov</td>\n",
       "      <td>Dan Miragliotta</td>\n",
       "      <td>2019</td>\n",
       "      <td>Chicago, Illinois, USA</td>\n",
       "      <td>Blue</td>\n",
       "      <td>False</td>\n",
       "      <td>Heavyweight</td>\n",
       "      <td>3</td>\n",
       "      <td>0</td>\n",
       "      <td>...</td>\n",
       "      <td>2</td>\n",
       "      <td>0</td>\n",
       "      <td>0</td>\n",
       "      <td>3</td>\n",
       "      <td>Southpaw</td>\n",
       "      <td>187.96</td>\n",
       "      <td>190.50</td>\n",
       "      <td>264.0</td>\n",
       "      <td>32.0</td>\n",
       "      <td>26.0</td>\n",
       "    </tr>\n",
       "  </tbody>\n",
       "</table>\n",
       "<p>5 rows × 145 columns</p>\n",
       "</div>"
      ],
      "text/plain": [
       "              R_fighter       B_fighter          Referee  date  \\\n",
       "0          Henry Cejudo   Marlon Moraes     Marc Goddard  2019   \n",
       "1  Valentina Shevchenko     Jessica Eye  Robert Madrigal  2019   \n",
       "2         Tony Ferguson  Donald Cerrone  Dan Miragliotta  2019   \n",
       "3         Jimmie Rivera        Petr Yan  Kevin MacDonald  2019   \n",
       "4           Tai Tuivasa   Blagoy Ivanov  Dan Miragliotta  2019   \n",
       "\n",
       "                 location Winner  title_bout       weight_class  no_of_rounds  \\\n",
       "0  Chicago, Illinois, USA    Red        True       Bantamweight             5   \n",
       "1  Chicago, Illinois, USA    Red        True  Women's Flyweight             5   \n",
       "2  Chicago, Illinois, USA    Red       False        Lightweight             3   \n",
       "3  Chicago, Illinois, USA   Blue       False       Bantamweight             3   \n",
       "4  Chicago, Illinois, USA   Blue       False        Heavyweight             3   \n",
       "\n",
       "   B_current_lose_streak  ...    R_win_by_KO/TKO  R_win_by_Submission  \\\n",
       "0                      0  ...                  2                    0   \n",
       "1                      0  ...                  0                    2   \n",
       "2                      0  ...                  3                    6   \n",
       "3                      0  ...                  1                    0   \n",
       "4                      0  ...                  2                    0   \n",
       "\n",
       "   R_win_by_TKO_Doctor_Stoppage  R_wins  R_Stance  R_Height_cms  R_Reach_cms  \\\n",
       "0                             0       8  Orthodox        162.56       162.56   \n",
       "1                             0       5  Southpaw        165.10       167.64   \n",
       "2                             1      14  Orthodox        180.34       193.04   \n",
       "3                             0       6  Orthodox        162.56       172.72   \n",
       "4                             0       3  Southpaw        187.96       190.50   \n",
       "\n",
       "   R_Weight_lbs  B_age  R_age  \n",
       "0         135.0   31.0   32.0  \n",
       "1         125.0   32.0   31.0  \n",
       "2         155.0   36.0   35.0  \n",
       "3         135.0   26.0   29.0  \n",
       "4         264.0   32.0   26.0  \n",
       "\n",
       "[5 rows x 145 columns]"
      ]
     },
     "execution_count": 2,
     "metadata": {},
     "output_type": "execute_result"
    }
   ],
   "source": [
    "data = pd.read_excel(\"data.xlsx\")\n",
    "data.head()"
   ]
  },
  {
   "cell_type": "markdown",
   "metadata": {},
   "source": [
    "### Apenas a categoria Peso-Pesados ('Heavyweights')"
   ]
  },
  {
   "cell_type": "code",
   "execution_count": 3,
   "metadata": {},
   "outputs": [],
   "source": [
    "data.weight_class = data.weight_class.astype('category')\n",
    "data.Winner = data.Winner.astype('category')"
   ]
  },
  {
   "cell_type": "code",
   "execution_count": 4,
   "metadata": {},
   "outputs": [
    {
     "data": {
      "text/plain": [
       "Red     3470\n",
       "Blue    1591\n",
       "Draw      83\n",
       "Name: Winner, dtype: int64"
      ]
     },
     "execution_count": 4,
     "metadata": {},
     "output_type": "execute_result"
    }
   ],
   "source": [
    "data.Winner.value_counts()"
   ]
  },
  {
   "cell_type": "code",
   "execution_count": 40,
   "metadata": {
    "scrolled": true
   },
   "outputs": [
    {
     "data": {
      "image/png": "[encoded data removed]",
      "text/plain": [
       "<Figure size 432x288 with 1 Axes>"
      ]
     },
     "metadata": {},
     "output_type": "display_data"
    }
   ],
   "source": [
    "data.Winner.value_counts().plot(kind='pie', colors=['red','blue','pink'], autopct=\"%0.2f\",legend=False);"
   ]
  },
  {
   "cell_type": "code",
   "execution_count": 41,
   "metadata": {},
   "outputs": [
    {
     "data": {
      "image/png": "[encoded data removed]",
      "text/plain": [
       "<Figure size 432x288 with 1 Axes>"
      ]
     },
     "metadata": {},
     "output_type": "display_data"
    }
   ],
   "source": [
    "data['title_bout'].value_counts().plot(kind='pie', colors=['green','gold'],autopct=\"%0.2f\",legend=False);"
   ]
  },
  {
   "cell_type": "code",
   "execution_count": 43,
   "metadata": {
    "scrolled": true
   },
   "outputs": [
    {
     "data": {
      "image/png": "[encoded data removed]",
      "text/plain": [
       "<Figure size 432x288 with 1 Axes>"
      ]
     },
     "metadata": {},
     "output_type": "display_data"
    }
   ],
   "source": [
    "data['weight_class'].value_counts().plot(kind='pie',autopct=\"%0.2f\",legend=False);"
   ]
  },
  {
   "cell_type": "code",
   "execution_count": 56,
   "metadata": {},
   "outputs": [
    {
     "data": {
      "image/png": "[encoded data removed]",
      "text/plain": [
       "<Figure size 432x288 with 1 Axes>"
      ]
     },
     "metadata": {},
     "output_type": "display_data"
    }
   ],
   "source": [
    "data_mulher = data.loc[(data.weight_class==\"Women's Bantamweight\")|\n",
    "                       (data.weight_class==\"Women's Featherweight\")|\n",
    "                       (data.weight_class==\"Women's Flyweight\")|\n",
    "                       (data.weight_class==\"Women's Strawweight\"),:]\n",
    "data_mulher.weight_class.value_counts().plot(kind='pie',autopct=\"%0.2f\",legend=False);"
   ]
  },
  {
   "cell_type": "code",
   "execution_count": 61,
   "metadata": {},
   "outputs": [
    {
     "data": {
      "image/png": "[encoded data removed]",
      "text/plain": [
       "<Figure size 432x288 with 1 Axes>"
      ]
     },
     "metadata": {},
     "output_type": "display_data"
    }
   ],
   "source": [
    "data_homem = data.loc[(data.weight_class==\"Flyweight\")|\n",
    "                       (data.weight_class==\"Bantamweight\")|\n",
    "                       (data.weight_class==\"Featherweight\")|\n",
    "                       (data.weight_class==\"Lightweight\")|\n",
    "                       (data.weight_class==\"Welterweight\")|\n",
    "                       (data.weight_class==\"Middleweight\")|\n",
    "                       (data.weight_class==\"Light Heavyweight\")|\n",
    "                       (data.weight_class==\"Heavyweight\"),:]\n",
    "#data_homem.weight_class.value_counts().plot(kind='pie',autopct=\"%0.2f\",legend=False);\n",
    "data_homem.weight_class.value_counts().plot(kind='pie',autopct=\"%0.2f\",legend=False);"
   ]
  },
  {
   "cell_type": "markdown",
   "metadata": {},
   "source": [
    "### Blue = 0\n",
    "### Red = 1"
   ]
  },
  {
   "cell_type": "code",
   "execution_count": 4,
   "metadata": {},
   "outputs": [
    {
     "name": "stderr",
     "output_type": "stream",
     "text": [
      "C:\\Users\\Admin\\Anaconda3\\lib\\site-packages\\ipykernel_launcher.py:4: SettingWithCopyWarning: \n",
      "A value is trying to be set on a copy of a slice from a DataFrame.\n",
      "Try using .loc[row_indexer,col_indexer] = value instead\n",
      "\n",
      "See the caveats in the documentation: http://pandas.pydata.org/pandas-docs/stable/indexing.html#indexing-view-versus-copy\n",
      "  after removing the cwd from sys.path.\n",
      "C:\\Users\\Admin\\Anaconda3\\lib\\site-packages\\ipykernel_launcher.py:5: SettingWithCopyWarning: \n",
      "A value is trying to be set on a copy of a slice from a DataFrame.\n",
      "Try using .loc[row_indexer,col_indexer] = value instead\n",
      "\n",
      "See the caveats in the documentation: http://pandas.pydata.org/pandas-docs/stable/indexing.html#indexing-view-versus-copy\n",
      "  \"\"\"\n"
     ]
    }
   ],
   "source": [
    "data_heavy = data.loc[(data.weight_class=='Lightweight'),:]\n",
    "bool_to_number = {False: 0, True: 1}\n",
    "string_to_number = {'Blue': 0, 'Red': 1, 'Draw': 2}\n",
    "data_heavy['title_bout'] = data_heavy['title_bout'].map(bool_to_number)\n",
    "data_heavy['Winner'] = data_heavy['Winner'].map(string_to_number)"
   ]
  },
  {
   "cell_type": "code",
   "execution_count": 5,
   "metadata": {},
   "outputs": [
    {
     "data": {
      "text/html": [
       "<div>\n",
       "<style scoped>\n",
       "    .dataframe tbody tr th:only-of-type {\n",
       "        vertical-align: middle;\n",
       "    }\n",
       "\n",
       "    .dataframe tbody tr th {\n",
       "        vertical-align: top;\n",
       "    }\n",
       "\n",
       "    .dataframe thead th {\n",
       "        text-align: right;\n",
       "    }\n",
       "</style>\n",
       "<table border=\"1\" class=\"dataframe\">\n",
       "  <thead>\n",
       "    <tr style=\"text-align: right;\">\n",
       "      <th></th>\n",
       "      <th>date</th>\n",
       "      <th>Winner</th>\n",
       "      <th>title_bout</th>\n",
       "      <th>no_of_rounds</th>\n",
       "      <th>B_current_lose_streak</th>\n",
       "      <th>B_current_win_streak</th>\n",
       "      <th>B_draw</th>\n",
       "      <th>B_avg_BODY_att</th>\n",
       "      <th>B_avg_BODY_landed</th>\n",
       "      <th>B_avg_CLINCH_att</th>\n",
       "      <th>...</th>\n",
       "      <th>R_win_by_Decision_Unanimous</th>\n",
       "      <th>R_win_by_KO/TKO</th>\n",
       "      <th>R_win_by_Submission</th>\n",
       "      <th>R_win_by_TKO_Doctor_Stoppage</th>\n",
       "      <th>R_wins</th>\n",
       "      <th>R_Height_cms</th>\n",
       "      <th>R_Reach_cms</th>\n",
       "      <th>R_Weight_lbs</th>\n",
       "      <th>B_age</th>\n",
       "      <th>R_age</th>\n",
       "    </tr>\n",
       "  </thead>\n",
       "  <tbody>\n",
       "    <tr>\n",
       "      <th>count</th>\n",
       "      <td>989.000000</td>\n",
       "      <td>989.000000</td>\n",
       "      <td>989.000000</td>\n",
       "      <td>989.000000</td>\n",
       "      <td>989.000000</td>\n",
       "      <td>989.000000</td>\n",
       "      <td>989.0</td>\n",
       "      <td>743.000000</td>\n",
       "      <td>743.000000</td>\n",
       "      <td>743.000000</td>\n",
       "      <td>...</td>\n",
       "      <td>989.000000</td>\n",
       "      <td>989.000000</td>\n",
       "      <td>989.000000</td>\n",
       "      <td>989.000000</td>\n",
       "      <td>989.000000</td>\n",
       "      <td>988.000000</td>\n",
       "      <td>951.000000</td>\n",
       "      <td>988.000000</td>\n",
       "      <td>960.000000</td>\n",
       "      <td>983.000000</td>\n",
       "    </tr>\n",
       "    <tr>\n",
       "      <th>mean</th>\n",
       "      <td>2012.344793</td>\n",
       "      <td>0.721941</td>\n",
       "      <td>0.042467</td>\n",
       "      <td>3.080890</td>\n",
       "      <td>0.438827</td>\n",
       "      <td>0.791709</td>\n",
       "      <td>0.0</td>\n",
       "      <td>9.211398</td>\n",
       "      <td>6.234956</td>\n",
       "      <td>7.635351</td>\n",
       "      <td>...</td>\n",
       "      <td>1.383215</td>\n",
       "      <td>0.998989</td>\n",
       "      <td>1.013145</td>\n",
       "      <td>0.101112</td>\n",
       "      <td>3.880688</td>\n",
       "      <td>176.481154</td>\n",
       "      <td>181.063807</td>\n",
       "      <td>155.992915</td>\n",
       "      <td>28.489583</td>\n",
       "      <td>28.549339</td>\n",
       "    </tr>\n",
       "    <tr>\n",
       "      <th>std</th>\n",
       "      <td>4.559484</td>\n",
       "      <td>0.487219</td>\n",
       "      <td>0.201754</td>\n",
       "      <td>0.456098</td>\n",
       "      <td>0.715325</td>\n",
       "      <td>1.251352</td>\n",
       "      <td>0.0</td>\n",
       "      <td>7.180390</td>\n",
       "      <td>5.122117</td>\n",
       "      <td>6.470686</td>\n",
       "      <td>...</td>\n",
       "      <td>1.689980</td>\n",
       "      <td>1.341867</td>\n",
       "      <td>1.649693</td>\n",
       "      <td>0.301630</td>\n",
       "      <td>3.777185</td>\n",
       "      <td>4.813499</td>\n",
       "      <td>5.795476</td>\n",
       "      <td>7.635633</td>\n",
       "      <td>3.601919</td>\n",
       "      <td>3.711785</td>\n",
       "    </tr>\n",
       "    <tr>\n",
       "      <th>min</th>\n",
       "      <td>1997.000000</td>\n",
       "      <td>0.000000</td>\n",
       "      <td>0.000000</td>\n",
       "      <td>2.000000</td>\n",
       "      <td>0.000000</td>\n",
       "      <td>0.000000</td>\n",
       "      <td>0.0</td>\n",
       "      <td>0.000000</td>\n",
       "      <td>0.000000</td>\n",
       "      <td>0.000000</td>\n",
       "      <td>...</td>\n",
       "      <td>0.000000</td>\n",
       "      <td>0.000000</td>\n",
       "      <td>0.000000</td>\n",
       "      <td>0.000000</td>\n",
       "      <td>0.000000</td>\n",
       "      <td>165.100000</td>\n",
       "      <td>165.100000</td>\n",
       "      <td>135.000000</td>\n",
       "      <td>18.000000</td>\n",
       "      <td>19.000000</td>\n",
       "    </tr>\n",
       "    <tr>\n",
       "      <th>25%</th>\n",
       "      <td>2010.000000</td>\n",
       "      <td>0.000000</td>\n",
       "      <td>0.000000</td>\n",
       "      <td>3.000000</td>\n",
       "      <td>0.000000</td>\n",
       "      <td>0.000000</td>\n",
       "      <td>0.0</td>\n",
       "      <td>4.000000</td>\n",
       "      <td>2.500000</td>\n",
       "      <td>3.000000</td>\n",
       "      <td>...</td>\n",
       "      <td>0.000000</td>\n",
       "      <td>0.000000</td>\n",
       "      <td>0.000000</td>\n",
       "      <td>0.000000</td>\n",
       "      <td>1.000000</td>\n",
       "      <td>172.720000</td>\n",
       "      <td>177.800000</td>\n",
       "      <td>155.000000</td>\n",
       "      <td>26.000000</td>\n",
       "      <td>26.000000</td>\n",
       "    </tr>\n",
       "    <tr>\n",
       "      <th>50%</th>\n",
       "      <td>2013.000000</td>\n",
       "      <td>1.000000</td>\n",
       "      <td>0.000000</td>\n",
       "      <td>3.000000</td>\n",
       "      <td>0.000000</td>\n",
       "      <td>0.000000</td>\n",
       "      <td>0.0</td>\n",
       "      <td>7.500000</td>\n",
       "      <td>5.000000</td>\n",
       "      <td>6.208333</td>\n",
       "      <td>...</td>\n",
       "      <td>1.000000</td>\n",
       "      <td>1.000000</td>\n",
       "      <td>0.000000</td>\n",
       "      <td>0.000000</td>\n",
       "      <td>3.000000</td>\n",
       "      <td>175.260000</td>\n",
       "      <td>180.340000</td>\n",
       "      <td>155.000000</td>\n",
       "      <td>28.000000</td>\n",
       "      <td>28.000000</td>\n",
       "    </tr>\n",
       "    <tr>\n",
       "      <th>75%</th>\n",
       "      <td>2016.000000</td>\n",
       "      <td>1.000000</td>\n",
       "      <td>0.000000</td>\n",
       "      <td>3.000000</td>\n",
       "      <td>1.000000</td>\n",
       "      <td>1.000000</td>\n",
       "      <td>0.0</td>\n",
       "      <td>12.750000</td>\n",
       "      <td>8.732143</td>\n",
       "      <td>10.348485</td>\n",
       "      <td>...</td>\n",
       "      <td>2.000000</td>\n",
       "      <td>1.000000</td>\n",
       "      <td>2.000000</td>\n",
       "      <td>0.000000</td>\n",
       "      <td>6.000000</td>\n",
       "      <td>178.435000</td>\n",
       "      <td>185.420000</td>\n",
       "      <td>155.000000</td>\n",
       "      <td>31.000000</td>\n",
       "      <td>31.000000</td>\n",
       "    </tr>\n",
       "    <tr>\n",
       "      <th>max</th>\n",
       "      <td>2019.000000</td>\n",
       "      <td>2.000000</td>\n",
       "      <td>1.000000</td>\n",
       "      <td>5.000000</td>\n",
       "      <td>5.000000</td>\n",
       "      <td>8.000000</td>\n",
       "      <td>0.0</td>\n",
       "      <td>49.000000</td>\n",
       "      <td>39.000000</td>\n",
       "      <td>49.000000</td>\n",
       "      <td>...</td>\n",
       "      <td>8.000000</td>\n",
       "      <td>8.000000</td>\n",
       "      <td>13.000000</td>\n",
       "      <td>1.000000</td>\n",
       "      <td>18.000000</td>\n",
       "      <td>193.040000</td>\n",
       "      <td>203.200000</td>\n",
       "      <td>210.000000</td>\n",
       "      <td>40.000000</td>\n",
       "      <td>40.000000</td>\n",
       "    </tr>\n",
       "  </tbody>\n",
       "</table>\n",
       "<p>8 rows × 138 columns</p>\n",
       "</div>"
      ],
      "text/plain": [
       "              date      Winner  title_bout  no_of_rounds  \\\n",
       "count   989.000000  989.000000  989.000000    989.000000   \n",
       "mean   2012.344793    0.721941    0.042467      3.080890   \n",
       "std       4.559484    0.487219    0.201754      0.456098   \n",
       "min    1997.000000    0.000000    0.000000      2.000000   \n",
       "25%    2010.000000    0.000000    0.000000      3.000000   \n",
       "50%    2013.000000    1.000000    0.000000      3.000000   \n",
       "75%    2016.000000    1.000000    0.000000      3.000000   \n",
       "max    2019.000000    2.000000    1.000000      5.000000   \n",
       "\n",
       "       B_current_lose_streak  B_current_win_streak  B_draw  B_avg_BODY_att  \\\n",
       "count             989.000000            989.000000   989.0      743.000000   \n",
       "mean                0.438827              0.791709     0.0        9.211398   \n",
       "std                 0.715325              1.251352     0.0        7.180390   \n",
       "min                 0.000000              0.000000     0.0        0.000000   \n",
       "25%                 0.000000              0.000000     0.0        4.000000   \n",
       "50%                 0.000000              0.000000     0.0        7.500000   \n",
       "75%                 1.000000              1.000000     0.0       12.750000   \n",
       "max                 5.000000              8.000000     0.0       49.000000   \n",
       "\n",
       "       B_avg_BODY_landed  B_avg_CLINCH_att     ...      \\\n",
       "count         743.000000        743.000000     ...       \n",
       "mean            6.234956          7.635351     ...       \n",
       "std             5.122117          6.470686     ...       \n",
       "min             0.000000          0.000000     ...       \n",
       "25%             2.500000          3.000000     ...       \n",
       "50%             5.000000          6.208333     ...       \n",
       "75%             8.732143         10.348485     ...       \n",
       "max            39.000000         49.000000     ...       \n",
       "\n",
       "       R_win_by_Decision_Unanimous  R_win_by_KO/TKO  R_win_by_Submission  \\\n",
       "count                   989.000000       989.000000           989.000000   \n",
       "mean                      1.383215         0.998989             1.013145   \n",
       "std                       1.689980         1.341867             1.649693   \n",
       "min                       0.000000         0.000000             0.000000   \n",
       "25%                       0.000000         0.000000             0.000000   \n",
       "50%                       1.000000         1.000000             0.000000   \n",
       "75%                       2.000000         1.000000             2.000000   \n",
       "max                       8.000000         8.000000            13.000000   \n",
       "\n",
       "       R_win_by_TKO_Doctor_Stoppage      R_wins  R_Height_cms  R_Reach_cms  \\\n",
       "count                    989.000000  989.000000    988.000000   951.000000   \n",
       "mean                       0.101112    3.880688    176.481154   181.063807   \n",
       "std                        0.301630    3.777185      4.813499     5.795476   \n",
       "min                        0.000000    0.000000    165.100000   165.100000   \n",
       "25%                        0.000000    1.000000    172.720000   177.800000   \n",
       "50%                        0.000000    3.000000    175.260000   180.340000   \n",
       "75%                        0.000000    6.000000    178.435000   185.420000   \n",
       "max                        1.000000   18.000000    193.040000   203.200000   \n",
       "\n",
       "       R_Weight_lbs       B_age       R_age  \n",
       "count    988.000000  960.000000  983.000000  \n",
       "mean     155.992915   28.489583   28.549339  \n",
       "std        7.635633    3.601919    3.711785  \n",
       "min      135.000000   18.000000   19.000000  \n",
       "25%      155.000000   26.000000   26.000000  \n",
       "50%      155.000000   28.000000   28.000000  \n",
       "75%      155.000000   31.000000   31.000000  \n",
       "max      210.000000   40.000000   40.000000  \n",
       "\n",
       "[8 rows x 138 columns]"
      ]
     },
     "execution_count": 5,
     "metadata": {},
     "output_type": "execute_result"
    }
   ],
   "source": [
    "data_heavy.describe()"
   ]
  },
  {
   "cell_type": "code",
   "execution_count": 6,
   "metadata": {},
   "outputs": [],
   "source": [
    "data_heavy_util = data_heavy.drop(['Referee','date','location'], axis=1)\n",
    "data_heavy_util.dropna(inplace=True)"
   ]
  },
  {
   "cell_type": "code",
   "execution_count": 7,
   "metadata": {},
   "outputs": [
    {
     "data": {
      "text/html": [
       "<div>\n",
       "<style scoped>\n",
       "    .dataframe tbody tr th:only-of-type {\n",
       "        vertical-align: middle;\n",
       "    }\n",
       "\n",
       "    .dataframe tbody tr th {\n",
       "        vertical-align: top;\n",
       "    }\n",
       "\n",
       "    .dataframe thead th {\n",
       "        text-align: right;\n",
       "    }\n",
       "</style>\n",
       "<table border=\"1\" class=\"dataframe\">\n",
       "  <thead>\n",
       "    <tr style=\"text-align: right;\">\n",
       "      <th></th>\n",
       "      <th>R_fighter</th>\n",
       "      <th>B_fighter</th>\n",
       "      <th>Winner</th>\n",
       "      <th>title_bout</th>\n",
       "      <th>weight_class</th>\n",
       "      <th>no_of_rounds</th>\n",
       "      <th>B_current_lose_streak</th>\n",
       "      <th>B_current_win_streak</th>\n",
       "      <th>B_draw</th>\n",
       "      <th>B_avg_BODY_att</th>\n",
       "      <th>...</th>\n",
       "      <th>R_win_by_KO/TKO</th>\n",
       "      <th>R_win_by_Submission</th>\n",
       "      <th>R_win_by_TKO_Doctor_Stoppage</th>\n",
       "      <th>R_wins</th>\n",
       "      <th>R_Stance</th>\n",
       "      <th>R_Height_cms</th>\n",
       "      <th>R_Reach_cms</th>\n",
       "      <th>R_Weight_lbs</th>\n",
       "      <th>B_age</th>\n",
       "      <th>R_age</th>\n",
       "    </tr>\n",
       "  </thead>\n",
       "  <tbody>\n",
       "    <tr>\n",
       "      <th>2</th>\n",
       "      <td>Tony Ferguson</td>\n",
       "      <td>Donald Cerrone</td>\n",
       "      <td>1</td>\n",
       "      <td>0</td>\n",
       "      <td>Lightweight</td>\n",
       "      <td>3</td>\n",
       "      <td>0</td>\n",
       "      <td>3</td>\n",
       "      <td>0</td>\n",
       "      <td>15.354839</td>\n",
       "      <td>...</td>\n",
       "      <td>3</td>\n",
       "      <td>6</td>\n",
       "      <td>1</td>\n",
       "      <td>14</td>\n",
       "      <td>Orthodox</td>\n",
       "      <td>180.34</td>\n",
       "      <td>193.04</td>\n",
       "      <td>155.0</td>\n",
       "      <td>36.0</td>\n",
       "      <td>35.0</td>\n",
       "    </tr>\n",
       "    <tr>\n",
       "      <th>16</th>\n",
       "      <td>Damir Hadzovic</td>\n",
       "      <td>Christos Giagos</td>\n",
       "      <td>0</td>\n",
       "      <td>0</td>\n",
       "      <td>Lightweight</td>\n",
       "      <td>3</td>\n",
       "      <td>0</td>\n",
       "      <td>1</td>\n",
       "      <td>0</td>\n",
       "      <td>7.000000</td>\n",
       "      <td>...</td>\n",
       "      <td>2</td>\n",
       "      <td>0</td>\n",
       "      <td>0</td>\n",
       "      <td>3</td>\n",
       "      <td>Orthodox</td>\n",
       "      <td>175.26</td>\n",
       "      <td>177.80</td>\n",
       "      <td>155.0</td>\n",
       "      <td>29.0</td>\n",
       "      <td>32.0</td>\n",
       "    </tr>\n",
       "    <tr>\n",
       "      <th>20</th>\n",
       "      <td>Stevie Ray</td>\n",
       "      <td>Leonardo Santos</td>\n",
       "      <td>0</td>\n",
       "      <td>0</td>\n",
       "      <td>Lightweight</td>\n",
       "      <td>3</td>\n",
       "      <td>0</td>\n",
       "      <td>4</td>\n",
       "      <td>0</td>\n",
       "      <td>9.666667</td>\n",
       "      <td>...</td>\n",
       "      <td>2</td>\n",
       "      <td>0</td>\n",
       "      <td>0</td>\n",
       "      <td>6</td>\n",
       "      <td>Southpaw</td>\n",
       "      <td>177.80</td>\n",
       "      <td>177.80</td>\n",
       "      <td>155.0</td>\n",
       "      <td>39.0</td>\n",
       "      <td>29.0</td>\n",
       "    </tr>\n",
       "    <tr>\n",
       "      <th>21</th>\n",
       "      <td>Nick Hein</td>\n",
       "      <td>Frank Camacho</td>\n",
       "      <td>0</td>\n",
       "      <td>0</td>\n",
       "      <td>Lightweight</td>\n",
       "      <td>3</td>\n",
       "      <td>2</td>\n",
       "      <td>0</td>\n",
       "      <td>0</td>\n",
       "      <td>21.666667</td>\n",
       "      <td>...</td>\n",
       "      <td>0</td>\n",
       "      <td>0</td>\n",
       "      <td>0</td>\n",
       "      <td>4</td>\n",
       "      <td>Southpaw</td>\n",
       "      <td>167.64</td>\n",
       "      <td>167.64</td>\n",
       "      <td>155.0</td>\n",
       "      <td>30.0</td>\n",
       "      <td>35.0</td>\n",
       "    </tr>\n",
       "    <tr>\n",
       "      <th>29</th>\n",
       "      <td>Charles Oliveira</td>\n",
       "      <td>Nik Lentz</td>\n",
       "      <td>1</td>\n",
       "      <td>0</td>\n",
       "      <td>Lightweight</td>\n",
       "      <td>3</td>\n",
       "      <td>0</td>\n",
       "      <td>2</td>\n",
       "      <td>0</td>\n",
       "      <td>13.181818</td>\n",
       "      <td>...</td>\n",
       "      <td>0</td>\n",
       "      <td>13</td>\n",
       "      <td>0</td>\n",
       "      <td>14</td>\n",
       "      <td>Orthodox</td>\n",
       "      <td>177.80</td>\n",
       "      <td>187.96</td>\n",
       "      <td>155.0</td>\n",
       "      <td>34.0</td>\n",
       "      <td>29.0</td>\n",
       "    </tr>\n",
       "  </tbody>\n",
       "</table>\n",
       "<p>5 rows × 142 columns</p>\n",
       "</div>"
      ],
      "text/plain": [
       "           R_fighter        B_fighter  Winner  title_bout weight_class  \\\n",
       "2      Tony Ferguson   Donald Cerrone       1           0  Lightweight   \n",
       "16    Damir Hadzovic  Christos Giagos       0           0  Lightweight   \n",
       "20        Stevie Ray  Leonardo Santos       0           0  Lightweight   \n",
       "21         Nick Hein    Frank Camacho       0           0  Lightweight   \n",
       "29  Charles Oliveira        Nik Lentz       1           0  Lightweight   \n",
       "\n",
       "    no_of_rounds  B_current_lose_streak  B_current_win_streak  B_draw  \\\n",
       "2              3                      0                     3       0   \n",
       "16             3                      0                     1       0   \n",
       "20             3                      0                     4       0   \n",
       "21             3                      2                     0       0   \n",
       "29             3                      0                     2       0   \n",
       "\n",
       "    B_avg_BODY_att  ...    R_win_by_KO/TKO  R_win_by_Submission  \\\n",
       "2        15.354839  ...                  3                    6   \n",
       "16        7.000000  ...                  2                    0   \n",
       "20        9.666667  ...                  2                    0   \n",
       "21       21.666667  ...                  0                    0   \n",
       "29       13.181818  ...                  0                   13   \n",
       "\n",
       "    R_win_by_TKO_Doctor_Stoppage  R_wins  R_Stance  R_Height_cms  R_Reach_cms  \\\n",
       "2                              1      14  Orthodox        180.34       193.04   \n",
       "16                             0       3  Orthodox        175.26       177.80   \n",
       "20                             0       6  Southpaw        177.80       177.80   \n",
       "21                             0       4  Southpaw        167.64       167.64   \n",
       "29                             0      14  Orthodox        177.80       187.96   \n",
       "\n",
       "    R_Weight_lbs  B_age  R_age  \n",
       "2          155.0   36.0   35.0  \n",
       "16         155.0   29.0   32.0  \n",
       "20         155.0   39.0   29.0  \n",
       "21         155.0   30.0   35.0  \n",
       "29         155.0   34.0   29.0  \n",
       "\n",
       "[5 rows x 142 columns]"
      ]
     },
     "execution_count": 7,
     "metadata": {},
     "output_type": "execute_result"
    }
   ],
   "source": [
    "data_heavy_util.head()"
   ]
  },
  {
   "cell_type": "code",
   "execution_count": 8,
   "metadata": {},
   "outputs": [],
   "source": [
    "colunas = list(data_heavy_util)"
   ]
  },
  {
   "cell_type": "code",
   "execution_count": 9,
   "metadata": {},
   "outputs": [],
   "source": [
    "colunas.remove('R_fighter')\n",
    "colunas.remove('B_fighter')\n",
    "colunas.remove('title_bout')\n",
    "colunas.remove('weight_class')\n",
    "colunas.remove('no_of_rounds')\n",
    "colunas.remove('B_total_rounds_fought')\n",
    "colunas.remove('R_total_rounds_fought')"
   ]
  },
  {
   "cell_type": "code",
   "execution_count": 10,
   "metadata": {},
   "outputs": [
    {
     "data": {
      "text/html": [
       "<div>\n",
       "<style scoped>\n",
       "    .dataframe tbody tr th:only-of-type {\n",
       "        vertical-align: middle;\n",
       "    }\n",
       "\n",
       "    .dataframe tbody tr th {\n",
       "        vertical-align: top;\n",
       "    }\n",
       "\n",
       "    .dataframe thead th {\n",
       "        text-align: right;\n",
       "    }\n",
       "</style>\n",
       "<table border=\"1\" class=\"dataframe\">\n",
       "  <thead>\n",
       "    <tr style=\"text-align: right;\">\n",
       "      <th></th>\n",
       "      <th>Winner</th>\n",
       "      <th>B_current_lose_streak</th>\n",
       "      <th>B_current_win_streak</th>\n",
       "      <th>B_draw</th>\n",
       "      <th>B_avg_BODY_att</th>\n",
       "      <th>B_avg_BODY_landed</th>\n",
       "      <th>B_avg_CLINCH_att</th>\n",
       "      <th>B_avg_CLINCH_landed</th>\n",
       "      <th>B_avg_DISTANCE_att</th>\n",
       "      <th>B_avg_DISTANCE_landed</th>\n",
       "      <th>...</th>\n",
       "      <th>R_win_by_KO/TKO</th>\n",
       "      <th>R_win_by_Submission</th>\n",
       "      <th>R_win_by_TKO_Doctor_Stoppage</th>\n",
       "      <th>R_wins</th>\n",
       "      <th>R_Stance</th>\n",
       "      <th>R_Height_cms</th>\n",
       "      <th>R_Reach_cms</th>\n",
       "      <th>R_Weight_lbs</th>\n",
       "      <th>B_age</th>\n",
       "      <th>R_age</th>\n",
       "    </tr>\n",
       "  </thead>\n",
       "  <tbody>\n",
       "    <tr>\n",
       "      <th>2</th>\n",
       "      <td>1</td>\n",
       "      <td>0</td>\n",
       "      <td>3</td>\n",
       "      <td>0</td>\n",
       "      <td>15.354839</td>\n",
       "      <td>11.322581</td>\n",
       "      <td>6.741935</td>\n",
       "      <td>4.387097</td>\n",
       "      <td>84.741935</td>\n",
       "      <td>38.580645</td>\n",
       "      <td>...</td>\n",
       "      <td>3</td>\n",
       "      <td>6</td>\n",
       "      <td>1</td>\n",
       "      <td>14</td>\n",
       "      <td>Orthodox</td>\n",
       "      <td>180.34</td>\n",
       "      <td>193.04</td>\n",
       "      <td>155.0</td>\n",
       "      <td>36.0</td>\n",
       "      <td>35.0</td>\n",
       "    </tr>\n",
       "    <tr>\n",
       "      <th>16</th>\n",
       "      <td>0</td>\n",
       "      <td>0</td>\n",
       "      <td>1</td>\n",
       "      <td>0</td>\n",
       "      <td>7.000000</td>\n",
       "      <td>4.200000</td>\n",
       "      <td>4.600000</td>\n",
       "      <td>2.600000</td>\n",
       "      <td>42.800000</td>\n",
       "      <td>11.000000</td>\n",
       "      <td>...</td>\n",
       "      <td>2</td>\n",
       "      <td>0</td>\n",
       "      <td>0</td>\n",
       "      <td>3</td>\n",
       "      <td>Orthodox</td>\n",
       "      <td>175.26</td>\n",
       "      <td>177.80</td>\n",
       "      <td>155.0</td>\n",
       "      <td>29.0</td>\n",
       "      <td>32.0</td>\n",
       "    </tr>\n",
       "    <tr>\n",
       "      <th>20</th>\n",
       "      <td>0</td>\n",
       "      <td>0</td>\n",
       "      <td>4</td>\n",
       "      <td>0</td>\n",
       "      <td>9.666667</td>\n",
       "      <td>5.166667</td>\n",
       "      <td>2.000000</td>\n",
       "      <td>1.000000</td>\n",
       "      <td>53.833333</td>\n",
       "      <td>18.833333</td>\n",
       "      <td>...</td>\n",
       "      <td>2</td>\n",
       "      <td>0</td>\n",
       "      <td>0</td>\n",
       "      <td>6</td>\n",
       "      <td>Southpaw</td>\n",
       "      <td>177.80</td>\n",
       "      <td>177.80</td>\n",
       "      <td>155.0</td>\n",
       "      <td>39.0</td>\n",
       "      <td>29.0</td>\n",
       "    </tr>\n",
       "    <tr>\n",
       "      <th>21</th>\n",
       "      <td>0</td>\n",
       "      <td>2</td>\n",
       "      <td>0</td>\n",
       "      <td>0</td>\n",
       "      <td>21.666667</td>\n",
       "      <td>17.666667</td>\n",
       "      <td>13.333333</td>\n",
       "      <td>10.333333</td>\n",
       "      <td>177.333333</td>\n",
       "      <td>84.000000</td>\n",
       "      <td>...</td>\n",
       "      <td>0</td>\n",
       "      <td>0</td>\n",
       "      <td>0</td>\n",
       "      <td>4</td>\n",
       "      <td>Southpaw</td>\n",
       "      <td>167.64</td>\n",
       "      <td>167.64</td>\n",
       "      <td>155.0</td>\n",
       "      <td>30.0</td>\n",
       "      <td>35.0</td>\n",
       "    </tr>\n",
       "    <tr>\n",
       "      <th>29</th>\n",
       "      <td>1</td>\n",
       "      <td>0</td>\n",
       "      <td>2</td>\n",
       "      <td>0</td>\n",
       "      <td>13.181818</td>\n",
       "      <td>10.590909</td>\n",
       "      <td>13.227273</td>\n",
       "      <td>8.863636</td>\n",
       "      <td>62.045455</td>\n",
       "      <td>25.545455</td>\n",
       "      <td>...</td>\n",
       "      <td>0</td>\n",
       "      <td>13</td>\n",
       "      <td>0</td>\n",
       "      <td>14</td>\n",
       "      <td>Orthodox</td>\n",
       "      <td>177.80</td>\n",
       "      <td>187.96</td>\n",
       "      <td>155.0</td>\n",
       "      <td>34.0</td>\n",
       "      <td>29.0</td>\n",
       "    </tr>\n",
       "  </tbody>\n",
       "</table>\n",
       "<p>5 rows × 135 columns</p>\n",
       "</div>"
      ],
      "text/plain": [
       "    Winner  B_current_lose_streak  B_current_win_streak  B_draw  \\\n",
       "2        1                      0                     3       0   \n",
       "16       0                      0                     1       0   \n",
       "20       0                      0                     4       0   \n",
       "21       0                      2                     0       0   \n",
       "29       1                      0                     2       0   \n",
       "\n",
       "    B_avg_BODY_att  B_avg_BODY_landed  B_avg_CLINCH_att  B_avg_CLINCH_landed  \\\n",
       "2        15.354839          11.322581          6.741935             4.387097   \n",
       "16        7.000000           4.200000          4.600000             2.600000   \n",
       "20        9.666667           5.166667          2.000000             1.000000   \n",
       "21       21.666667          17.666667         13.333333            10.333333   \n",
       "29       13.181818          10.590909         13.227273             8.863636   \n",
       "\n",
       "    B_avg_DISTANCE_att  B_avg_DISTANCE_landed  ...    R_win_by_KO/TKO  \\\n",
       "2            84.741935              38.580645  ...                  3   \n",
       "16           42.800000              11.000000  ...                  2   \n",
       "20           53.833333              18.833333  ...                  2   \n",
       "21          177.333333              84.000000  ...                  0   \n",
       "29           62.045455              25.545455  ...                  0   \n",
       "\n",
       "    R_win_by_Submission  R_win_by_TKO_Doctor_Stoppage  R_wins  R_Stance  \\\n",
       "2                     6                             1      14  Orthodox   \n",
       "16                    0                             0       3  Orthodox   \n",
       "20                    0                             0       6  Southpaw   \n",
       "21                    0                             0       4  Southpaw   \n",
       "29                   13                             0      14  Orthodox   \n",
       "\n",
       "    R_Height_cms  R_Reach_cms  R_Weight_lbs  B_age  R_age  \n",
       "2         180.34       193.04         155.0   36.0   35.0  \n",
       "16        175.26       177.80         155.0   29.0   32.0  \n",
       "20        177.80       177.80         155.0   39.0   29.0  \n",
       "21        167.64       167.64         155.0   30.0   35.0  \n",
       "29        177.80       187.96         155.0   34.0   29.0  \n",
       "\n",
       "[5 rows x 135 columns]"
      ]
     },
     "execution_count": 10,
     "metadata": {},
     "output_type": "execute_result"
    }
   ],
   "source": [
    "dataf = data_heavy_util.loc[:,colunas]\n",
    "dataf.head()"
   ]
  },
  {
   "cell_type": "markdown",
   "metadata": {},
   "source": [
    "### Correlações"
   ]
  },
  {
   "cell_type": "code",
   "execution_count": 11,
   "metadata": {},
   "outputs": [],
   "source": [
    "data_heavy_blue_winners = data_heavy.loc[(data_heavy.Winner==0),:]\n",
    "data_heavy_blue_winners = data_heavy_blue_winners.drop(['Winner'], axis=1)\n",
    "data_heavy_red_winners = data_heavy.loc[(data_heavy.Winner==1),:]\n",
    "data_heavy_red_winners = data_heavy_red_winners.drop(['Winner'], axis=1)"
   ]
  },
  {
   "cell_type": "code",
   "execution_count": 12,
   "metadata": {},
   "outputs": [
    {
     "data": {
      "text/html": [
       "<div>\n",
       "<style scoped>\n",
       "    .dataframe tbody tr th:only-of-type {\n",
       "        vertical-align: middle;\n",
       "    }\n",
       "\n",
       "    .dataframe tbody tr th {\n",
       "        vertical-align: top;\n",
       "    }\n",
       "\n",
       "    .dataframe thead th {\n",
       "        text-align: right;\n",
       "    }\n",
       "</style>\n",
       "<table border=\"1\" class=\"dataframe\">\n",
       "  <thead>\n",
       "    <tr style=\"text-align: right;\">\n",
       "      <th></th>\n",
       "      <th>date</th>\n",
       "      <th>title_bout</th>\n",
       "      <th>no_of_rounds</th>\n",
       "      <th>B_current_lose_streak</th>\n",
       "      <th>B_current_win_streak</th>\n",
       "      <th>B_draw</th>\n",
       "      <th>B_avg_BODY_att</th>\n",
       "      <th>B_avg_BODY_landed</th>\n",
       "      <th>B_avg_CLINCH_att</th>\n",
       "      <th>B_avg_CLINCH_landed</th>\n",
       "      <th>...</th>\n",
       "      <th>R_win_by_Decision_Unanimous</th>\n",
       "      <th>R_win_by_KO/TKO</th>\n",
       "      <th>R_win_by_Submission</th>\n",
       "      <th>R_win_by_TKO_Doctor_Stoppage</th>\n",
       "      <th>R_wins</th>\n",
       "      <th>R_Height_cms</th>\n",
       "      <th>R_Reach_cms</th>\n",
       "      <th>R_Weight_lbs</th>\n",
       "      <th>B_age</th>\n",
       "      <th>R_age</th>\n",
       "    </tr>\n",
       "  </thead>\n",
       "  <tbody>\n",
       "    <tr>\n",
       "      <th>date</th>\n",
       "      <td>1.000000</td>\n",
       "      <td>-0.017063</td>\n",
       "      <td>0.133452</td>\n",
       "      <td>0.134075</td>\n",
       "      <td>0.030633</td>\n",
       "      <td>NaN</td>\n",
       "      <td>0.064656</td>\n",
       "      <td>0.033407</td>\n",
       "      <td>-0.044410</td>\n",
       "      <td>-0.013271</td>\n",
       "      <td>...</td>\n",
       "      <td>0.103545</td>\n",
       "      <td>0.186643</td>\n",
       "      <td>0.017163</td>\n",
       "      <td>0.057950</td>\n",
       "      <td>0.157698</td>\n",
       "      <td>0.079028</td>\n",
       "      <td>-0.033772</td>\n",
       "      <td>0.179620</td>\n",
       "      <td>0.299697</td>\n",
       "      <td>0.233073</td>\n",
       "    </tr>\n",
       "    <tr>\n",
       "      <th>title_bout</th>\n",
       "      <td>-0.017063</td>\n",
       "      <td>1.000000</td>\n",
       "      <td>0.569244</td>\n",
       "      <td>-0.118739</td>\n",
       "      <td>0.121773</td>\n",
       "      <td>NaN</td>\n",
       "      <td>0.031181</td>\n",
       "      <td>0.036265</td>\n",
       "      <td>0.109884</td>\n",
       "      <td>0.102218</td>\n",
       "      <td>...</td>\n",
       "      <td>0.067474</td>\n",
       "      <td>0.115826</td>\n",
       "      <td>-0.001662</td>\n",
       "      <td>0.051952</td>\n",
       "      <td>0.077464</td>\n",
       "      <td>-0.013792</td>\n",
       "      <td>-0.114154</td>\n",
       "      <td>0.029612</td>\n",
       "      <td>-0.006608</td>\n",
       "      <td>-0.041315</td>\n",
       "    </tr>\n",
       "  </tbody>\n",
       "</table>\n",
       "<p>2 rows × 137 columns</p>\n",
       "</div>"
      ],
      "text/plain": [
       "                date  title_bout  no_of_rounds  B_current_lose_streak  \\\n",
       "date        1.000000   -0.017063      0.133452               0.134075   \n",
       "title_bout -0.017063    1.000000      0.569244              -0.118739   \n",
       "\n",
       "            B_current_win_streak  B_draw  B_avg_BODY_att  B_avg_BODY_landed  \\\n",
       "date                    0.030633     NaN        0.064656           0.033407   \n",
       "title_bout              0.121773     NaN        0.031181           0.036265   \n",
       "\n",
       "            B_avg_CLINCH_att  B_avg_CLINCH_landed    ...     \\\n",
       "date               -0.044410            -0.013271    ...      \n",
       "title_bout          0.109884             0.102218    ...      \n",
       "\n",
       "            R_win_by_Decision_Unanimous  R_win_by_KO/TKO  R_win_by_Submission  \\\n",
       "date                           0.103545         0.186643             0.017163   \n",
       "title_bout                     0.067474         0.115826            -0.001662   \n",
       "\n",
       "            R_win_by_TKO_Doctor_Stoppage    R_wins  R_Height_cms  R_Reach_cms  \\\n",
       "date                            0.057950  0.157698      0.079028    -0.033772   \n",
       "title_bout                      0.051952  0.077464     -0.013792    -0.114154   \n",
       "\n",
       "            R_Weight_lbs     B_age     R_age  \n",
       "date            0.179620  0.299697  0.233073  \n",
       "title_bout      0.029612 -0.006608 -0.041315  \n",
       "\n",
       "[2 rows x 137 columns]"
      ]
     },
     "execution_count": 12,
     "metadata": {},
     "output_type": "execute_result"
    }
   ],
   "source": [
    "blue_winners_correlation = data_heavy_blue_winners.corr()\n",
    "blue_winners_correlation.head(2)"
   ]
  },
  {
   "cell_type": "markdown",
   "metadata": {},
   "source": [
    "### Aplicando filtros"
   ]
  },
  {
   "cell_type": "code",
   "execution_count": 13,
   "metadata": {},
   "outputs": [],
   "source": [
    "filtros = ['R_fighter','B_fighter','Winner','weight_class','title_bout','R_wins','R_losses','B_wins','B_losses',\n",
    "           'B_Reach_cms','B_Height_cms','B_Weight_lbs','R_Reach_cms','R_Height_cms','R_Weight_lbs','R_Stance','B_Stance']"
   ]
  },
  {
   "cell_type": "code",
   "execution_count": 14,
   "metadata": {},
   "outputs": [],
   "source": [
    "data_heavy_filtered = data_heavy_util.loc[:,filtros]"
   ]
  },
  {
   "cell_type": "code",
   "execution_count": 15,
   "metadata": {},
   "outputs": [
    {
     "data": {
      "text/html": [
       "<div>\n",
       "<style scoped>\n",
       "    .dataframe tbody tr th:only-of-type {\n",
       "        vertical-align: middle;\n",
       "    }\n",
       "\n",
       "    .dataframe tbody tr th {\n",
       "        vertical-align: top;\n",
       "    }\n",
       "\n",
       "    .dataframe thead th {\n",
       "        text-align: right;\n",
       "    }\n",
       "</style>\n",
       "<table border=\"1\" class=\"dataframe\">\n",
       "  <thead>\n",
       "    <tr style=\"text-align: right;\">\n",
       "      <th></th>\n",
       "      <th>R_fighter</th>\n",
       "      <th>B_fighter</th>\n",
       "      <th>Winner</th>\n",
       "      <th>weight_class</th>\n",
       "      <th>title_bout</th>\n",
       "      <th>R_wins</th>\n",
       "      <th>R_losses</th>\n",
       "      <th>B_wins</th>\n",
       "      <th>B_losses</th>\n",
       "      <th>B_Reach_cms</th>\n",
       "      <th>B_Height_cms</th>\n",
       "      <th>B_Weight_lbs</th>\n",
       "      <th>R_Reach_cms</th>\n",
       "      <th>R_Height_cms</th>\n",
       "      <th>R_Weight_lbs</th>\n",
       "      <th>R_Stance</th>\n",
       "      <th>B_Stance</th>\n",
       "    </tr>\n",
       "  </thead>\n",
       "  <tbody>\n",
       "    <tr>\n",
       "      <th>2</th>\n",
       "      <td>Tony Ferguson</td>\n",
       "      <td>Donald Cerrone</td>\n",
       "      <td>1</td>\n",
       "      <td>Lightweight</td>\n",
       "      <td>0</td>\n",
       "      <td>14</td>\n",
       "      <td>1</td>\n",
       "      <td>23</td>\n",
       "      <td>8</td>\n",
       "      <td>185.42</td>\n",
       "      <td>185.42</td>\n",
       "      <td>155.0</td>\n",
       "      <td>193.04</td>\n",
       "      <td>180.34</td>\n",
       "      <td>155.0</td>\n",
       "      <td>Orthodox</td>\n",
       "      <td>Orthodox</td>\n",
       "    </tr>\n",
       "    <tr>\n",
       "      <th>16</th>\n",
       "      <td>Damir Hadzovic</td>\n",
       "      <td>Christos Giagos</td>\n",
       "      <td>0</td>\n",
       "      <td>Lightweight</td>\n",
       "      <td>0</td>\n",
       "      <td>3</td>\n",
       "      <td>2</td>\n",
       "      <td>2</td>\n",
       "      <td>3</td>\n",
       "      <td>180.34</td>\n",
       "      <td>177.80</td>\n",
       "      <td>155.0</td>\n",
       "      <td>177.80</td>\n",
       "      <td>175.26</td>\n",
       "      <td>155.0</td>\n",
       "      <td>Orthodox</td>\n",
       "      <td>Orthodox</td>\n",
       "    </tr>\n",
       "    <tr>\n",
       "      <th>20</th>\n",
       "      <td>Stevie Ray</td>\n",
       "      <td>Leonardo Santos</td>\n",
       "      <td>0</td>\n",
       "      <td>Lightweight</td>\n",
       "      <td>0</td>\n",
       "      <td>6</td>\n",
       "      <td>3</td>\n",
       "      <td>5</td>\n",
       "      <td>1</td>\n",
       "      <td>190.50</td>\n",
       "      <td>182.88</td>\n",
       "      <td>155.0</td>\n",
       "      <td>177.80</td>\n",
       "      <td>177.80</td>\n",
       "      <td>155.0</td>\n",
       "      <td>Southpaw</td>\n",
       "      <td>Orthodox</td>\n",
       "    </tr>\n",
       "    <tr>\n",
       "      <th>21</th>\n",
       "      <td>Nick Hein</td>\n",
       "      <td>Frank Camacho</td>\n",
       "      <td>0</td>\n",
       "      <td>Lightweight</td>\n",
       "      <td>0</td>\n",
       "      <td>4</td>\n",
       "      <td>3</td>\n",
       "      <td>1</td>\n",
       "      <td>2</td>\n",
       "      <td>185.42</td>\n",
       "      <td>177.80</td>\n",
       "      <td>170.0</td>\n",
       "      <td>167.64</td>\n",
       "      <td>167.64</td>\n",
       "      <td>155.0</td>\n",
       "      <td>Southpaw</td>\n",
       "      <td>Orthodox</td>\n",
       "    </tr>\n",
       "    <tr>\n",
       "      <th>29</th>\n",
       "      <td>Charles Oliveira</td>\n",
       "      <td>Nik Lentz</td>\n",
       "      <td>1</td>\n",
       "      <td>Lightweight</td>\n",
       "      <td>0</td>\n",
       "      <td>14</td>\n",
       "      <td>9</td>\n",
       "      <td>14</td>\n",
       "      <td>8</td>\n",
       "      <td>172.72</td>\n",
       "      <td>172.72</td>\n",
       "      <td>155.0</td>\n",
       "      <td>187.96</td>\n",
       "      <td>177.80</td>\n",
       "      <td>155.0</td>\n",
       "      <td>Orthodox</td>\n",
       "      <td>Orthodox</td>\n",
       "    </tr>\n",
       "  </tbody>\n",
       "</table>\n",
       "</div>"
      ],
      "text/plain": [
       "           R_fighter        B_fighter  Winner weight_class  title_bout  \\\n",
       "2      Tony Ferguson   Donald Cerrone       1  Lightweight           0   \n",
       "16    Damir Hadzovic  Christos Giagos       0  Lightweight           0   \n",
       "20        Stevie Ray  Leonardo Santos       0  Lightweight           0   \n",
       "21         Nick Hein    Frank Camacho       0  Lightweight           0   \n",
       "29  Charles Oliveira        Nik Lentz       1  Lightweight           0   \n",
       "\n",
       "    R_wins  R_losses  B_wins  B_losses  B_Reach_cms  B_Height_cms  \\\n",
       "2       14         1      23         8       185.42        185.42   \n",
       "16       3         2       2         3       180.34        177.80   \n",
       "20       6         3       5         1       190.50        182.88   \n",
       "21       4         3       1         2       185.42        177.80   \n",
       "29      14         9      14         8       172.72        172.72   \n",
       "\n",
       "    B_Weight_lbs  R_Reach_cms  R_Height_cms  R_Weight_lbs  R_Stance  B_Stance  \n",
       "2          155.0       193.04        180.34         155.0  Orthodox  Orthodox  \n",
       "16         155.0       177.80        175.26         155.0  Orthodox  Orthodox  \n",
       "20         155.0       177.80        177.80         155.0  Southpaw  Orthodox  \n",
       "21         170.0       167.64        167.64         155.0  Southpaw  Orthodox  \n",
       "29         155.0       187.96        177.80         155.0  Orthodox  Orthodox  "
      ]
     },
     "execution_count": 15,
     "metadata": {},
     "output_type": "execute_result"
    }
   ],
   "source": [
    "data_heavy_filtered.head()"
   ]
  },
  {
   "cell_type": "code",
   "execution_count": 16,
   "metadata": {},
   "outputs": [
    {
     "data": {
      "text/plain": [
       "Index(['R_fighter', 'B_fighter', 'Winner', 'weight_class', 'title_bout',\n",
       "       'R_wins', 'R_losses', 'B_wins', 'B_losses', 'B_Reach_cms',\n",
       "       'B_Height_cms', 'B_Weight_lbs', 'R_Reach_cms', 'R_Height_cms',\n",
       "       'R_Weight_lbs', 'R_Stance', 'B_Stance'],\n",
       "      dtype='object')"
      ]
     },
     "execution_count": 16,
     "metadata": {},
     "output_type": "execute_result"
    }
   ],
   "source": [
    "data_heavy_filtered.columns"
   ]
  },
  {
   "cell_type": "markdown",
   "metadata": {},
   "source": [
    "### Modelo inicial"
   ]
  },
  {
   "cell_type": "markdown",
   "metadata": {},
   "source": [
    "Separando em categóricos"
   ]
  },
  {
   "cell_type": "code",
   "execution_count": 17,
   "metadata": {},
   "outputs": [],
   "source": [
    "categoricas = [\n",
    "    'R_fighter', \n",
    "    'B_fighter', \n",
    "    'weight_class', \n",
    "    'R_Stance', \n",
    "    'B_Stance', \n",
    "]\n",
    "\n",
    "data_heavy_cat = data_heavy_filtered[categoricas].astype('category')\n",
    "data_heavy_num = data_heavy_filtered.drop(categoricas, axis=1).astype('float')"
   ]
  },
  {
   "cell_type": "code",
   "execution_count": 18,
   "metadata": {},
   "outputs": [],
   "source": [
    "X = data_heavy_num.drop('Winner', axis=1)\n",
    "y = data_heavy_num['Winner']"
   ]
  },
  {
   "cell_type": "markdown",
   "metadata": {},
   "source": [
    "Separando os dados em testes e treinamento"
   ]
  },
  {
   "cell_type": "code",
   "execution_count": 19,
   "metadata": {},
   "outputs": [],
   "source": [
    "X_train, X_test, y_train, y_test = train_test_split(X, y, test_size=0.25)"
   ]
  },
  {
   "cell_type": "code",
   "execution_count": 20,
   "metadata": {},
   "outputs": [
    {
     "data": {
      "text/plain": [
       "RandomForestClassifier(bootstrap=True, class_weight=None, criterion='gini',\n",
       "            max_depth=None, max_features='auto', max_leaf_nodes=None,\n",
       "            min_impurity_decrease=0.0, min_impurity_split=None,\n",
       "            min_samples_leaf=1, min_samples_split=2,\n",
       "            min_weight_fraction_leaf=0.0, n_estimators=100000, n_jobs=None,\n",
       "            oob_score=False, random_state=None, verbose=0,\n",
       "            warm_start=False)"
      ]
     },
     "execution_count": 20,
     "metadata": {},
     "output_type": "execute_result"
    }
   ],
   "source": [
    "model = RandomForestClassifier(n_estimators=100000)\n",
    "\n",
    "model.fit(X_train, y_train)"
   ]
  },
  {
   "cell_type": "code",
   "execution_count": 21,
   "metadata": {},
   "outputs": [],
   "source": [
    "y_pred = model.predict(X_test)"
   ]
  },
  {
   "cell_type": "code",
   "execution_count": 22,
   "metadata": {},
   "outputs": [
    {
     "name": "stdout",
     "output_type": "stream",
     "text": [
      "0.5705521472392638\n"
     ]
    }
   ],
   "source": [
    "print(accuracy_score(y_test, y_pred))"
   ]
  },
  {
   "cell_type": "code",
   "execution_count": 23,
   "metadata": {},
   "outputs": [
    {
     "name": "stdout",
     "output_type": "stream",
     "text": [
      "1 °: R_wins: 0.1430745187192008\n",
      "2 °: R_losses: 0.1262679874989131\n",
      "3 °: B_wins: 0.12419123753052091\n",
      "4 °: R_Reach_cms: 0.11859056241610509\n",
      "5 °: B_Reach_cms: 0.11514621037960507\n",
      "6 °: B_Height_cms: 0.10605966059051172\n",
      "7 °: R_Height_cms: 0.0964408506304709\n",
      "8 °: B_losses: 0.09350532309926439\n",
      "9 °: R_Weight_lbs: 0.033450111456514\n",
      "10 °: B_Weight_lbs: 0.033189490431555106\n",
      "11 °: title_bout: 0.010084047247345542\n"
     ]
    }
   ],
   "source": [
    "#Fatores que tem o maior peso na decisão da vitória\n",
    "j=1\n",
    "lista_j=list()\n",
    "for i, f in sorted(list(zip(model.feature_importances_, X_train.columns)), reverse=True):\n",
    "    print( j,'°:',f'{f}: {i}')\n",
    "    a=str(j)+'°'\n",
    "    lista_j.append(a)\n",
    "    j+=1"
   ]
  },
  {
   "cell_type": "code",
   "execution_count": 30,
   "metadata": {},
   "outputs": [
    {
     "data": {
      "text/html": [
       "<div>\n",
       "<style scoped>\n",
       "    .dataframe tbody tr th:only-of-type {\n",
       "        vertical-align: middle;\n",
       "    }\n",
       "\n",
       "    .dataframe tbody tr th {\n",
       "        vertical-align: top;\n",
       "    }\n",
       "\n",
       "    .dataframe thead th {\n",
       "        text-align: right;\n",
       "    }\n",
       "</style>\n",
       "<table border=\"1\" class=\"dataframe\">\n",
       "  <thead>\n",
       "    <tr style=\"text-align: right;\">\n",
       "      <th></th>\n",
       "      <th>Fator</th>\n",
       "      <th>Correlação</th>\n",
       "    </tr>\n",
       "    <tr>\n",
       "      <th>Grau de Importância</th>\n",
       "      <th></th>\n",
       "      <th></th>\n",
       "    </tr>\n",
       "  </thead>\n",
       "  <tbody>\n",
       "    <tr>\n",
       "      <th>1°</th>\n",
       "      <td>R_wins</td>\n",
       "      <td>0.143075</td>\n",
       "    </tr>\n",
       "    <tr>\n",
       "      <th>2°</th>\n",
       "      <td>R_losses</td>\n",
       "      <td>0.126268</td>\n",
       "    </tr>\n",
       "    <tr>\n",
       "      <th>3°</th>\n",
       "      <td>B_wins</td>\n",
       "      <td>0.124191</td>\n",
       "    </tr>\n",
       "    <tr>\n",
       "      <th>4°</th>\n",
       "      <td>R_Reach_cms</td>\n",
       "      <td>0.118591</td>\n",
       "    </tr>\n",
       "    <tr>\n",
       "      <th>5°</th>\n",
       "      <td>B_Reach_cms</td>\n",
       "      <td>0.115146</td>\n",
       "    </tr>\n",
       "    <tr>\n",
       "      <th>6°</th>\n",
       "      <td>B_Height_cms</td>\n",
       "      <td>0.106060</td>\n",
       "    </tr>\n",
       "    <tr>\n",
       "      <th>7°</th>\n",
       "      <td>R_Height_cms</td>\n",
       "      <td>0.096441</td>\n",
       "    </tr>\n",
       "    <tr>\n",
       "      <th>8°</th>\n",
       "      <td>B_losses</td>\n",
       "      <td>0.093505</td>\n",
       "    </tr>\n",
       "    <tr>\n",
       "      <th>9°</th>\n",
       "      <td>R_Weight_lbs</td>\n",
       "      <td>0.033450</td>\n",
       "    </tr>\n",
       "    <tr>\n",
       "      <th>10°</th>\n",
       "      <td>B_Weight_lbs</td>\n",
       "      <td>0.033189</td>\n",
       "    </tr>\n",
       "    <tr>\n",
       "      <th>11°</th>\n",
       "      <td>title_bout</td>\n",
       "      <td>0.010084</td>\n",
       "    </tr>\n",
       "  </tbody>\n",
       "</table>\n",
       "</div>"
      ],
      "text/plain": [
       "                            Fator  Correlação\n",
       "Grau de Importância                          \n",
       "1°                         R_wins    0.143075\n",
       "2°                       R_losses    0.126268\n",
       "3°                         B_wins    0.124191\n",
       "4°                    R_Reach_cms    0.118591\n",
       "5°                    B_Reach_cms    0.115146\n",
       "6°                   B_Height_cms    0.106060\n",
       "7°                   R_Height_cms    0.096441\n",
       "8°                       B_losses    0.093505\n",
       "9°                   R_Weight_lbs    0.033450\n",
       "10°                  B_Weight_lbs    0.033189\n",
       "11°                    title_bout    0.010084"
      ]
     },
     "execution_count": 30,
     "metadata": {},
     "output_type": "execute_result"
    }
   ],
   "source": [
    "data={'Fator':X_train.columns ,'Correlação':model.feature_importances_,}\n",
    "Fator_por_corr=pd.DataFrame(data)\n",
    "Fator_por_corr=Fator_por_corr.sort_values(by='Correlação', ascending=False)\n",
    "Fator_por_corr['Grau de Importância']=lista_j\n",
    "Fator_por_corr = Fator_por_corr.set_index('Grau de Importância')\n",
    "Fator_por_corr"
   ]
  },
  {
   "cell_type": "code",
   "execution_count": 32,
   "metadata": {},
   "outputs": [
    {
     "data": {
      "text/plain": [
       "Index(['1°', '2°', '3°', '4°', '5°', '6°', '7°', '8°', '9°', '10°', '11°'], dtype='object', name='Grau de Importância')"
      ]
     },
     "execution_count": 32,
     "metadata": {},
     "output_type": "execute_result"
    }
   ],
   "source": [
    "Fator_por_corr.index"
   ]
  },
  {
   "cell_type": "code",
   "execution_count": 34,
   "metadata": {
    "scrolled": true
   },
   "outputs": [
    {
     "data": {
      "text/plain": [
       "<matplotlib.collections.PathCollection at 0x23291306748>"
      ]
     },
     "execution_count": 34,
     "metadata": {},
     "output_type": "execute_result"
    },
    {
     "data": {
      "image/png": "[encoded data removed]",
      "text/plain": [
       "<Figure size 432x288 with 1 Axes>"
      ]
     },
     "metadata": {
      "needs_background": "light"
     },
     "output_type": "display_data"
    }
   ],
   "source": [
    "plt.title('Correlation between the columns and the Winner column')\n",
    "plt.scatter(Fator_por_corr.index,Fator_por_corr.Correlação)"
   ]
  },
  {
   "cell_type": "code",
   "execution_count": 31,
   "metadata": {},
   "outputs": [
    {
     "ename": "ValueError",
     "evalue": "x and y must have same first dimension, but have shapes (1000,) and (11,)",
     "output_type": "error",
     "traceback": [
      "\u001b[1;31m---------------------------------------------------------------------------\u001b[0m",
      "\u001b[1;31mValueError\u001b[0m                                Traceback (most recent call last)",
      "\u001b[1;32m<ipython-input-31-b2c78594b589>\u001b[0m in \u001b[0;36m<module>\u001b[1;34m\u001b[0m\n\u001b[0;32m      1\u001b[0m \u001b[0meixo_x\u001b[0m \u001b[1;33m=\u001b[0m \u001b[0mnp\u001b[0m\u001b[1;33m.\u001b[0m\u001b[0mlinspace\u001b[0m\u001b[1;33m(\u001b[0m\u001b[1;33m-\u001b[0m\u001b[1;36m1\u001b[0m\u001b[1;33m,\u001b[0m\u001b[1;36m1\u001b[0m\u001b[1;33m,\u001b[0m\u001b[1;36m1000\u001b[0m\u001b[1;33m)\u001b[0m\u001b[1;33m\u001b[0m\u001b[1;33m\u001b[0m\u001b[0m\n\u001b[1;32m----> 2\u001b[1;33m \u001b[0mplt\u001b[0m\u001b[1;33m.\u001b[0m\u001b[0mplot\u001b[0m\u001b[1;33m(\u001b[0m\u001b[0meixo_x\u001b[0m\u001b[1;33m,\u001b[0m\u001b[0mFator_por_corr\u001b[0m\u001b[1;33m.\u001b[0m\u001b[0mCorrelação\u001b[0m\u001b[1;33m,\u001b[0m\u001b[1;34m'bo'\u001b[0m\u001b[1;33m)\u001b[0m\u001b[1;33m\u001b[0m\u001b[1;33m\u001b[0m\u001b[0m\n\u001b[0m",
      "\u001b[1;32m~\\Anaconda3\\lib\\site-packages\\matplotlib\\pyplot.py\u001b[0m in \u001b[0;36mplot\u001b[1;34m(scalex, scaley, data, *args, **kwargs)\u001b[0m\n\u001b[0;32m   2811\u001b[0m     return gca().plot(\n\u001b[0;32m   2812\u001b[0m         *args, scalex=scalex, scaley=scaley, **({\"data\": data} if data\n\u001b[1;32m-> 2813\u001b[1;33m         is not None else {}), **kwargs)\n\u001b[0m\u001b[0;32m   2814\u001b[0m \u001b[1;33m\u001b[0m\u001b[0m\n\u001b[0;32m   2815\u001b[0m \u001b[1;33m\u001b[0m\u001b[0m\n",
      "\u001b[1;32m~\\Anaconda3\\lib\\site-packages\\matplotlib\\__init__.py\u001b[0m in \u001b[0;36minner\u001b[1;34m(ax, data, *args, **kwargs)\u001b[0m\n\u001b[0;32m   1808\u001b[0m                         \u001b[1;34m\"the Matplotlib list!)\"\u001b[0m \u001b[1;33m%\u001b[0m \u001b[1;33m(\u001b[0m\u001b[0mlabel_namer\u001b[0m\u001b[1;33m,\u001b[0m \u001b[0mfunc\u001b[0m\u001b[1;33m.\u001b[0m\u001b[0m__name__\u001b[0m\u001b[1;33m)\u001b[0m\u001b[1;33m,\u001b[0m\u001b[1;33m\u001b[0m\u001b[1;33m\u001b[0m\u001b[0m\n\u001b[0;32m   1809\u001b[0m                         RuntimeWarning, stacklevel=2)\n\u001b[1;32m-> 1810\u001b[1;33m             \u001b[1;32mreturn\u001b[0m \u001b[0mfunc\u001b[0m\u001b[1;33m(\u001b[0m\u001b[0max\u001b[0m\u001b[1;33m,\u001b[0m \u001b[1;33m*\u001b[0m\u001b[0margs\u001b[0m\u001b[1;33m,\u001b[0m \u001b[1;33m**\u001b[0m\u001b[0mkwargs\u001b[0m\u001b[1;33m)\u001b[0m\u001b[1;33m\u001b[0m\u001b[1;33m\u001b[0m\u001b[0m\n\u001b[0m\u001b[0;32m   1811\u001b[0m \u001b[1;33m\u001b[0m\u001b[0m\n\u001b[0;32m   1812\u001b[0m         inner.__doc__ = _add_data_doc(inner.__doc__,\n",
      "\u001b[1;32m~\\Anaconda3\\lib\\site-packages\\matplotlib\\axes\\_axes.py\u001b[0m in \u001b[0;36mplot\u001b[1;34m(self, scalex, scaley, *args, **kwargs)\u001b[0m\n\u001b[0;32m   1609\u001b[0m         \u001b[0mkwargs\u001b[0m \u001b[1;33m=\u001b[0m \u001b[0mcbook\u001b[0m\u001b[1;33m.\u001b[0m\u001b[0mnormalize_kwargs\u001b[0m\u001b[1;33m(\u001b[0m\u001b[0mkwargs\u001b[0m\u001b[1;33m,\u001b[0m \u001b[0mmlines\u001b[0m\u001b[1;33m.\u001b[0m\u001b[0mLine2D\u001b[0m\u001b[1;33m.\u001b[0m\u001b[0m_alias_map\u001b[0m\u001b[1;33m)\u001b[0m\u001b[1;33m\u001b[0m\u001b[1;33m\u001b[0m\u001b[0m\n\u001b[0;32m   1610\u001b[0m \u001b[1;33m\u001b[0m\u001b[0m\n\u001b[1;32m-> 1611\u001b[1;33m         \u001b[1;32mfor\u001b[0m \u001b[0mline\u001b[0m \u001b[1;32min\u001b[0m \u001b[0mself\u001b[0m\u001b[1;33m.\u001b[0m\u001b[0m_get_lines\u001b[0m\u001b[1;33m(\u001b[0m\u001b[1;33m*\u001b[0m\u001b[0margs\u001b[0m\u001b[1;33m,\u001b[0m \u001b[1;33m**\u001b[0m\u001b[0mkwargs\u001b[0m\u001b[1;33m)\u001b[0m\u001b[1;33m:\u001b[0m\u001b[1;33m\u001b[0m\u001b[1;33m\u001b[0m\u001b[0m\n\u001b[0m\u001b[0;32m   1612\u001b[0m             \u001b[0mself\u001b[0m\u001b[1;33m.\u001b[0m\u001b[0madd_line\u001b[0m\u001b[1;33m(\u001b[0m\u001b[0mline\u001b[0m\u001b[1;33m)\u001b[0m\u001b[1;33m\u001b[0m\u001b[1;33m\u001b[0m\u001b[0m\n\u001b[0;32m   1613\u001b[0m             \u001b[0mlines\u001b[0m\u001b[1;33m.\u001b[0m\u001b[0mappend\u001b[0m\u001b[1;33m(\u001b[0m\u001b[0mline\u001b[0m\u001b[1;33m)\u001b[0m\u001b[1;33m\u001b[0m\u001b[1;33m\u001b[0m\u001b[0m\n",
      "\u001b[1;32m~\\Anaconda3\\lib\\site-packages\\matplotlib\\axes\\_base.py\u001b[0m in \u001b[0;36m_grab_next_args\u001b[1;34m(self, *args, **kwargs)\u001b[0m\n\u001b[0;32m    391\u001b[0m                 \u001b[0mthis\u001b[0m \u001b[1;33m+=\u001b[0m \u001b[0margs\u001b[0m\u001b[1;33m[\u001b[0m\u001b[1;36m0\u001b[0m\u001b[1;33m]\u001b[0m\u001b[1;33m,\u001b[0m\u001b[1;33m\u001b[0m\u001b[1;33m\u001b[0m\u001b[0m\n\u001b[0;32m    392\u001b[0m                 \u001b[0margs\u001b[0m \u001b[1;33m=\u001b[0m \u001b[0margs\u001b[0m\u001b[1;33m[\u001b[0m\u001b[1;36m1\u001b[0m\u001b[1;33m:\u001b[0m\u001b[1;33m]\u001b[0m\u001b[1;33m\u001b[0m\u001b[1;33m\u001b[0m\u001b[0m\n\u001b[1;32m--> 393\u001b[1;33m             \u001b[1;32myield\u001b[0m \u001b[1;32mfrom\u001b[0m \u001b[0mself\u001b[0m\u001b[1;33m.\u001b[0m\u001b[0m_plot_args\u001b[0m\u001b[1;33m(\u001b[0m\u001b[0mthis\u001b[0m\u001b[1;33m,\u001b[0m \u001b[0mkwargs\u001b[0m\u001b[1;33m)\u001b[0m\u001b[1;33m\u001b[0m\u001b[1;33m\u001b[0m\u001b[0m\n\u001b[0m\u001b[0;32m    394\u001b[0m \u001b[1;33m\u001b[0m\u001b[0m\n\u001b[0;32m    395\u001b[0m \u001b[1;33m\u001b[0m\u001b[0m\n",
      "\u001b[1;32m~\\Anaconda3\\lib\\site-packages\\matplotlib\\axes\\_base.py\u001b[0m in \u001b[0;36m_plot_args\u001b[1;34m(self, tup, kwargs)\u001b[0m\n\u001b[0;32m    368\u001b[0m             \u001b[0mx\u001b[0m\u001b[1;33m,\u001b[0m \u001b[0my\u001b[0m \u001b[1;33m=\u001b[0m \u001b[0mindex_of\u001b[0m\u001b[1;33m(\u001b[0m\u001b[0mtup\u001b[0m\u001b[1;33m[\u001b[0m\u001b[1;33m-\u001b[0m\u001b[1;36m1\u001b[0m\u001b[1;33m]\u001b[0m\u001b[1;33m)\u001b[0m\u001b[1;33m\u001b[0m\u001b[1;33m\u001b[0m\u001b[0m\n\u001b[0;32m    369\u001b[0m \u001b[1;33m\u001b[0m\u001b[0m\n\u001b[1;32m--> 370\u001b[1;33m         \u001b[0mx\u001b[0m\u001b[1;33m,\u001b[0m \u001b[0my\u001b[0m \u001b[1;33m=\u001b[0m \u001b[0mself\u001b[0m\u001b[1;33m.\u001b[0m\u001b[0m_xy_from_xy\u001b[0m\u001b[1;33m(\u001b[0m\u001b[0mx\u001b[0m\u001b[1;33m,\u001b[0m \u001b[0my\u001b[0m\u001b[1;33m)\u001b[0m\u001b[1;33m\u001b[0m\u001b[1;33m\u001b[0m\u001b[0m\n\u001b[0m\u001b[0;32m    371\u001b[0m \u001b[1;33m\u001b[0m\u001b[0m\n\u001b[0;32m    372\u001b[0m         \u001b[1;32mif\u001b[0m \u001b[0mself\u001b[0m\u001b[1;33m.\u001b[0m\u001b[0mcommand\u001b[0m \u001b[1;33m==\u001b[0m \u001b[1;34m'plot'\u001b[0m\u001b[1;33m:\u001b[0m\u001b[1;33m\u001b[0m\u001b[1;33m\u001b[0m\u001b[0m\n",
      "\u001b[1;32m~\\Anaconda3\\lib\\site-packages\\matplotlib\\axes\\_base.py\u001b[0m in \u001b[0;36m_xy_from_xy\u001b[1;34m(self, x, y)\u001b[0m\n\u001b[0;32m    229\u001b[0m         \u001b[1;32mif\u001b[0m \u001b[0mx\u001b[0m\u001b[1;33m.\u001b[0m\u001b[0mshape\u001b[0m\u001b[1;33m[\u001b[0m\u001b[1;36m0\u001b[0m\u001b[1;33m]\u001b[0m \u001b[1;33m!=\u001b[0m \u001b[0my\u001b[0m\u001b[1;33m.\u001b[0m\u001b[0mshape\u001b[0m\u001b[1;33m[\u001b[0m\u001b[1;36m0\u001b[0m\u001b[1;33m]\u001b[0m\u001b[1;33m:\u001b[0m\u001b[1;33m\u001b[0m\u001b[1;33m\u001b[0m\u001b[0m\n\u001b[0;32m    230\u001b[0m             raise ValueError(\"x and y must have same first dimension, but \"\n\u001b[1;32m--> 231\u001b[1;33m                              \"have shapes {} and {}\".format(x.shape, y.shape))\n\u001b[0m\u001b[0;32m    232\u001b[0m         \u001b[1;32mif\u001b[0m \u001b[0mx\u001b[0m\u001b[1;33m.\u001b[0m\u001b[0mndim\u001b[0m \u001b[1;33m>\u001b[0m \u001b[1;36m2\u001b[0m \u001b[1;32mor\u001b[0m \u001b[0my\u001b[0m\u001b[1;33m.\u001b[0m\u001b[0mndim\u001b[0m \u001b[1;33m>\u001b[0m \u001b[1;36m2\u001b[0m\u001b[1;33m:\u001b[0m\u001b[1;33m\u001b[0m\u001b[1;33m\u001b[0m\u001b[0m\n\u001b[0;32m    233\u001b[0m             raise ValueError(\"x and y can be no greater than 2-D, but have \"\n",
      "\u001b[1;31mValueError\u001b[0m: x and y must have same first dimension, but have shapes (1000,) and (11,)"
     ]
    },
    {
     "data": {
      "image/png": "[encoded data removed]",
      "text/plain": [
       "<Figure size 432x288 with 1 Axes>"
      ]
     },
     "metadata": {
      "needs_background": "light"
     },
     "output_type": "display_data"
    }
   ],
   "source": [
    "eixo_x = np.linspace(-1,1,1000)\n",
    "plt.plot(eixo_x,Fator_por_corr.Correlação,'bo')"
   ]
  },
  {
   "cell_type": "code",
   "execution_count": 167,
   "metadata": {},
   "outputs": [],
   "source": [
    "def relevancia(df,coluna_nome,coluna_correlacao,acuracia):\n",
    "    inuteis = ['Winner']\n",
    "    uteis = ['Winner']\n",
    "    for index,row in df.iterrows():\n",
    "        if row[coluna_correlacao] >= -acuracia and row[coluna_correlacao] <= acuracia:\n",
    "            inuteis.append(row[coluna_nome])\n",
    "        else:\n",
    "            uteis.append(row[coluna_nome])\n",
    "    return uteis"
   ]
  },
  {
   "cell_type": "code",
   "execution_count": 168,
   "metadata": {},
   "outputs": [],
   "source": [
    "#def nome_e_vencedor(lista):\n",
    "    #nova_lista = lista.append('R_fighter')\n",
    "    #nova_lista = lista.append('B_fighter')\n",
    "    #nova_lista = lista.append('Winner')\n",
    "    #return nova_lista"
   ]
  },
  {
   "cell_type": "code",
   "execution_count": 169,
   "metadata": {},
   "outputs": [],
   "source": [
    "uteis = relevancia(Fator_por_corr,'Fator','Correlação',0.01)"
   ]
  },
  {
   "cell_type": "code",
   "execution_count": 170,
   "metadata": {},
   "outputs": [],
   "source": [
    "#tirando empates\n",
    "data_heavy_util_relevante = data_heavy_util[data_heavy_util.Winner != 2]"
   ]
  },
  {
   "cell_type": "code",
   "execution_count": 171,
   "metadata": {},
   "outputs": [],
   "source": [
    "data_heavy_util_relevante = data_heavy_util_relevante.loc[:,uteis]"
   ]
  },
  {
   "cell_type": "code",
   "execution_count": 172,
   "metadata": {
    "scrolled": true
   },
   "outputs": [
    {
     "data": {
      "text/html": [
       "<div>\n",
       "<style scoped>\n",
       "    .dataframe tbody tr th:only-of-type {\n",
       "        vertical-align: middle;\n",
       "    }\n",
       "\n",
       "    .dataframe tbody tr th {\n",
       "        vertical-align: top;\n",
       "    }\n",
       "\n",
       "    .dataframe thead th {\n",
       "        text-align: right;\n",
       "    }\n",
       "</style>\n",
       "<table border=\"1\" class=\"dataframe\">\n",
       "  <thead>\n",
       "    <tr style=\"text-align: right;\">\n",
       "      <th></th>\n",
       "      <th>Winner</th>\n",
       "      <th>R_wins</th>\n",
       "      <th>B_wins</th>\n",
       "      <th>R_losses</th>\n",
       "      <th>R_Reach_cms</th>\n",
       "      <th>B_Reach_cms</th>\n",
       "      <th>B_Height_cms</th>\n",
       "      <th>B_losses</th>\n",
       "      <th>R_Height_cms</th>\n",
       "      <th>B_Weight_lbs</th>\n",
       "      <th>R_Weight_lbs</th>\n",
       "    </tr>\n",
       "  </thead>\n",
       "  <tbody>\n",
       "    <tr>\n",
       "      <th>2</th>\n",
       "      <td>1</td>\n",
       "      <td>14</td>\n",
       "      <td>23</td>\n",
       "      <td>1</td>\n",
       "      <td>193.04</td>\n",
       "      <td>185.42</td>\n",
       "      <td>185.42</td>\n",
       "      <td>8</td>\n",
       "      <td>180.34</td>\n",
       "      <td>155.0</td>\n",
       "      <td>155.0</td>\n",
       "    </tr>\n",
       "    <tr>\n",
       "      <th>16</th>\n",
       "      <td>0</td>\n",
       "      <td>3</td>\n",
       "      <td>2</td>\n",
       "      <td>2</td>\n",
       "      <td>177.80</td>\n",
       "      <td>180.34</td>\n",
       "      <td>177.80</td>\n",
       "      <td>3</td>\n",
       "      <td>175.26</td>\n",
       "      <td>155.0</td>\n",
       "      <td>155.0</td>\n",
       "    </tr>\n",
       "    <tr>\n",
       "      <th>20</th>\n",
       "      <td>0</td>\n",
       "      <td>6</td>\n",
       "      <td>5</td>\n",
       "      <td>3</td>\n",
       "      <td>177.80</td>\n",
       "      <td>190.50</td>\n",
       "      <td>182.88</td>\n",
       "      <td>1</td>\n",
       "      <td>177.80</td>\n",
       "      <td>155.0</td>\n",
       "      <td>155.0</td>\n",
       "    </tr>\n",
       "    <tr>\n",
       "      <th>21</th>\n",
       "      <td>0</td>\n",
       "      <td>4</td>\n",
       "      <td>1</td>\n",
       "      <td>3</td>\n",
       "      <td>167.64</td>\n",
       "      <td>185.42</td>\n",
       "      <td>177.80</td>\n",
       "      <td>2</td>\n",
       "      <td>167.64</td>\n",
       "      <td>170.0</td>\n",
       "      <td>155.0</td>\n",
       "    </tr>\n",
       "    <tr>\n",
       "      <th>29</th>\n",
       "      <td>1</td>\n",
       "      <td>14</td>\n",
       "      <td>14</td>\n",
       "      <td>9</td>\n",
       "      <td>187.96</td>\n",
       "      <td>172.72</td>\n",
       "      <td>172.72</td>\n",
       "      <td>8</td>\n",
       "      <td>177.80</td>\n",
       "      <td>155.0</td>\n",
       "      <td>155.0</td>\n",
       "    </tr>\n",
       "  </tbody>\n",
       "</table>\n",
       "</div>"
      ],
      "text/plain": [
       "    Winner  R_wins  B_wins  R_losses  R_Reach_cms  B_Reach_cms  B_Height_cms  \\\n",
       "2        1      14      23         1       193.04       185.42        185.42   \n",
       "16       0       3       2         2       177.80       180.34        177.80   \n",
       "20       0       6       5         3       177.80       190.50        182.88   \n",
       "21       0       4       1         3       167.64       185.42        177.80   \n",
       "29       1      14      14         9       187.96       172.72        172.72   \n",
       "\n",
       "    B_losses  R_Height_cms  B_Weight_lbs  R_Weight_lbs  \n",
       "2          8        180.34         155.0         155.0  \n",
       "16         3        175.26         155.0         155.0  \n",
       "20         1        177.80         155.0         155.0  \n",
       "21         2        167.64         170.0         155.0  \n",
       "29         8        177.80         155.0         155.0  "
      ]
     },
     "execution_count": 172,
     "metadata": {},
     "output_type": "execute_result"
    }
   ],
   "source": [
    "data_heavy_util_relevante.head()"
   ]
  },
  {
   "cell_type": "code",
   "execution_count": 173,
   "metadata": {
    "scrolled": true
   },
   "outputs": [
    {
     "data": {
      "text/plain": [
       "1    416\n",
       "0    220\n",
       "Name: Winner, dtype: int64"
      ]
     },
     "execution_count": 173,
     "metadata": {},
     "output_type": "execute_result"
    }
   ],
   "source": [
    "data_heavy_util_relevante.Winner.value_counts()"
   ]
  },
  {
   "cell_type": "markdown",
   "metadata": {},
   "source": [
    "### Random forest 2.0"
   ]
  },
  {
   "cell_type": "code",
   "execution_count": 174,
   "metadata": {},
   "outputs": [],
   "source": [
    "data_heavy_num = data_heavy_util_relevante.astype('float')"
   ]
  },
  {
   "cell_type": "code",
   "execution_count": 175,
   "metadata": {},
   "outputs": [],
   "source": [
    "X = data_heavy_num.drop('Winner', axis=1)\n",
    "y = data_heavy_num['Winner']"
   ]
  },
  {
   "cell_type": "code",
   "execution_count": 176,
   "metadata": {},
   "outputs": [],
   "source": [
    "X_train, X_test, y_train, y_test = train_test_split(X, y, test_size=0.25)"
   ]
  },
  {
   "cell_type": "code",
   "execution_count": 186,
   "metadata": {},
   "outputs": [
    {
     "data": {
      "text/plain": [
       "RandomForestClassifier(bootstrap=True, class_weight=None, criterion='gini',\n",
       "            max_depth=None, max_features='auto', max_leaf_nodes=None,\n",
       "            min_impurity_decrease=0.0, min_impurity_split=None,\n",
       "            min_samples_leaf=1, min_samples_split=2,\n",
       "            min_weight_fraction_leaf=0.0, n_estimators=10000, n_jobs=None,\n",
       "            oob_score=False, random_state=None, verbose=0,\n",
       "            warm_start=False)"
      ]
     },
     "execution_count": 186,
     "metadata": {},
     "output_type": "execute_result"
    }
   ],
   "source": [
    "model = RandomForestClassifier(n_estimators=10000)\n",
    "\n",
    "model.fit(X_train, y_train)"
   ]
  },
  {
   "cell_type": "code",
   "execution_count": 187,
   "metadata": {},
   "outputs": [],
   "source": [
    "y_pred = model.predict(X_test)"
   ]
  },
  {
   "cell_type": "code",
   "execution_count": 188,
   "metadata": {},
   "outputs": [
    {
     "name": "stdout",
     "output_type": "stream",
     "text": [
      "0.6352201257861635\n"
     ]
    }
   ],
   "source": [
    "print(accuracy_score(y_test, y_pred))"
   ]
  },
  {
   "cell_type": "markdown",
   "metadata": {},
   "source": [
    "### Regressão Logística"
   ]
  },
  {
   "cell_type": "code",
   "execution_count": 197,
   "metadata": {},
   "outputs": [],
   "source": [
    "def preparo(X,Y):\n",
    "    X_cp = sm.add_constant(X)\n",
    "    model = sm.OLS(Y,X_cp,missing='drop')\n",
    "    results = model.fit()\n",
    "    return results"
   ]
  },
  {
   "cell_type": "code",
   "execution_count": 245,
   "metadata": {},
   "outputs": [],
   "source": [
    "Y_log = data_heavy_util_relevante[\"Winner\"]\n",
    "data_heavy_sem_Winner=data_heavy_util_relevante.drop('Winner',axis=1) \n",
    "X_log=data_heavy_sem_Winner\n",
    "#np.asarray(X)"
   ]
  },
  {
   "cell_type": "code",
   "execution_count": 246,
   "metadata": {},
   "outputs": [],
   "source": [
    "X_train_log, X_test_log, y_train_log, y_test_log = train_test_split(X_log, Y_log, test_size=0.25)"
   ]
  },
  {
   "cell_type": "code",
   "execution_count": 247,
   "metadata": {},
   "outputs": [
    {
     "data": {
      "text/plain": [
       "LogisticRegression(C=1.0, class_weight=None, dual=False, fit_intercept=True,\n",
       "          intercept_scaling=1, max_iter=200000, multi_class='auto',\n",
       "          n_jobs=None, penalty='l2', random_state=None, solver='lbfgs',\n",
       "          tol=0.0001, verbose=0, warm_start=False)"
      ]
     },
     "execution_count": 247,
     "metadata": {},
     "output_type": "execute_result"
    }
   ],
   "source": [
    "model = LogisticRegression(max_iter=200000,solver='lbfgs', multi_class='auto')\n",
    "\n",
    "model.fit(X_train_log, y_train_log)"
   ]
  },
  {
   "cell_type": "code",
   "execution_count": 248,
   "metadata": {},
   "outputs": [],
   "source": [
    "y_pred_log = model.predict(X_test_log)"
   ]
  },
  {
   "cell_type": "code",
   "execution_count": 249,
   "metadata": {},
   "outputs": [
    {
     "name": "stdout",
     "output_type": "stream",
     "text": [
      "0.660377358490566\n"
     ]
    }
   ],
   "source": [
    "print(accuracy_score(y_test_log, y_pred_log))"
   ]
  },
  {
   "cell_type": "code",
   "execution_count": 241,
   "metadata": {},
   "outputs": [
    {
     "data": {
      "text/html": [
       "<table class=\"simpletable\">\n",
       "<caption>OLS Regression Results</caption>\n",
       "<tr>\n",
       "  <th>Dep. Variable:</th>         <td>Winner</td>      <th>  R-squared:         </th> <td>   0.074</td>\n",
       "</tr>\n",
       "<tr>\n",
       "  <th>Model:</th>                   <td>OLS</td>       <th>  Adj. R-squared:    </th> <td>   0.060</td>\n",
       "</tr>\n",
       "<tr>\n",
       "  <th>Method:</th>             <td>Least Squares</td>  <th>  F-statistic:       </th> <td>   5.024</td>\n",
       "</tr>\n",
       "<tr>\n",
       "  <th>Date:</th>             <td>Tue, 19 Nov 2019</td> <th>  Prob (F-statistic):</th> <td>4.76e-07</td>\n",
       "</tr>\n",
       "<tr>\n",
       "  <th>Time:</th>                 <td>11:53:55</td>     <th>  Log-Likelihood:    </th> <td> -405.28</td>\n",
       "</tr>\n",
       "<tr>\n",
       "  <th>No. Observations:</th>      <td>   636</td>      <th>  AIC:               </th> <td>   832.6</td>\n",
       "</tr>\n",
       "<tr>\n",
       "  <th>Df Residuals:</th>          <td>   625</td>      <th>  BIC:               </th> <td>   881.6</td>\n",
       "</tr>\n",
       "<tr>\n",
       "  <th>Df Model:</th>              <td>    10</td>      <th>                     </th>     <td> </td>   \n",
       "</tr>\n",
       "<tr>\n",
       "  <th>Covariance Type:</th>      <td>nonrobust</td>    <th>                     </th>     <td> </td>   \n",
       "</tr>\n",
       "</table>\n",
       "<table class=\"simpletable\">\n",
       "<tr>\n",
       "        <td></td>          <th>coef</th>     <th>std err</th>      <th>t</th>      <th>P>|t|</th>  <th>[0.025</th>    <th>0.975]</th>  \n",
       "</tr>\n",
       "<tr>\n",
       "  <th>const</th>        <td>    3.7883</td> <td>    1.060</td> <td>    3.575</td> <td> 0.000</td> <td>    1.707</td> <td>    5.870</td>\n",
       "</tr>\n",
       "<tr>\n",
       "  <th>R_wins</th>       <td>    0.0102</td> <td>    0.008</td> <td>    1.302</td> <td> 0.193</td> <td>   -0.005</td> <td>    0.026</td>\n",
       "</tr>\n",
       "<tr>\n",
       "  <th>B_wins</th>       <td>   -0.0225</td> <td>    0.008</td> <td>   -2.731</td> <td> 0.006</td> <td>   -0.039</td> <td>   -0.006</td>\n",
       "</tr>\n",
       "<tr>\n",
       "  <th>R_losses</th>     <td>   -0.0525</td> <td>    0.012</td> <td>   -4.445</td> <td> 0.000</td> <td>   -0.076</td> <td>   -0.029</td>\n",
       "</tr>\n",
       "<tr>\n",
       "  <th>R_Reach_cms</th>  <td>    0.0067</td> <td>    0.004</td> <td>    1.512</td> <td> 0.131</td> <td>   -0.002</td> <td>    0.015</td>\n",
       "</tr>\n",
       "<tr>\n",
       "  <th>B_Reach_cms</th>  <td>   -0.0071</td> <td>    0.004</td> <td>   -1.713</td> <td> 0.087</td> <td>   -0.015</td> <td>    0.001</td>\n",
       "</tr>\n",
       "<tr>\n",
       "  <th>B_Height_cms</th> <td>    0.0039</td> <td>    0.005</td> <td>    0.758</td> <td> 0.449</td> <td>   -0.006</td> <td>    0.014</td>\n",
       "</tr>\n",
       "<tr>\n",
       "  <th>B_losses</th>     <td>    0.0369</td> <td>    0.013</td> <td>    2.770</td> <td> 0.006</td> <td>    0.011</td> <td>    0.063</td>\n",
       "</tr>\n",
       "<tr>\n",
       "  <th>R_Height_cms</th> <td>   -0.0132</td> <td>    0.006</td> <td>   -2.367</td> <td> 0.018</td> <td>   -0.024</td> <td>   -0.002</td>\n",
       "</tr>\n",
       "<tr>\n",
       "  <th>B_Weight_lbs</th> <td>   -0.0095</td> <td>    0.003</td> <td>   -2.904</td> <td> 0.004</td> <td>   -0.016</td> <td>   -0.003</td>\n",
       "</tr>\n",
       "<tr>\n",
       "  <th>R_Weight_lbs</th> <td>    0.0011</td> <td>    0.003</td> <td>    0.346</td> <td> 0.729</td> <td>   -0.005</td> <td>    0.007</td>\n",
       "</tr>\n",
       "</table>\n",
       "<table class=\"simpletable\">\n",
       "<tr>\n",
       "  <th>Omnibus:</th>       <td>1835.835</td> <th>  Durbin-Watson:     </th> <td>   1.887</td>\n",
       "</tr>\n",
       "<tr>\n",
       "  <th>Prob(Omnibus):</th>  <td> 0.000</td>  <th>  Jarque-Bera (JB):  </th> <td>  82.766</td>\n",
       "</tr>\n",
       "<tr>\n",
       "  <th>Skew:</th>           <td>-0.581</td>  <th>  Prob(JB):          </th> <td>1.07e-18</td>\n",
       "</tr>\n",
       "<tr>\n",
       "  <th>Kurtosis:</th>       <td> 1.669</td>  <th>  Cond. No.          </th> <td>2.43e+04</td>\n",
       "</tr>\n",
       "</table><br/><br/>Warnings:<br/>[1] Standard Errors assume that the covariance matrix of the errors is correctly specified.<br/>[2] The condition number is large, 2.43e+04. This might indicate that there are<br/>strong multicollinearity or other numerical problems."
      ],
      "text/plain": [
       "<class 'statsmodels.iolib.summary.Summary'>\n",
       "\"\"\"\n",
       "                            OLS Regression Results                            \n",
       "==============================================================================\n",
       "Dep. Variable:                 Winner   R-squared:                       0.074\n",
       "Model:                            OLS   Adj. R-squared:                  0.060\n",
       "Method:                 Least Squares   F-statistic:                     5.024\n",
       "Date:                Tue, 19 Nov 2019   Prob (F-statistic):           4.76e-07\n",
       "Time:                        11:53:55   Log-Likelihood:                -405.28\n",
       "No. Observations:                 636   AIC:                             832.6\n",
       "Df Residuals:                     625   BIC:                             881.6\n",
       "Df Model:                          10                                         \n",
       "Covariance Type:            nonrobust                                         \n",
       "================================================================================\n",
       "                   coef    std err          t      P>|t|      [0.025      0.975]\n",
       "--------------------------------------------------------------------------------\n",
       "const            3.7883      1.060      3.575      0.000       1.707       5.870\n",
       "R_wins           0.0102      0.008      1.302      0.193      -0.005       0.026\n",
       "B_wins          -0.0225      0.008     -2.731      0.006      -0.039      -0.006\n",
       "R_losses        -0.0525      0.012     -4.445      0.000      -0.076      -0.029\n",
       "R_Reach_cms      0.0067      0.004      1.512      0.131      -0.002       0.015\n",
       "B_Reach_cms     -0.0071      0.004     -1.713      0.087      -0.015       0.001\n",
       "B_Height_cms     0.0039      0.005      0.758      0.449      -0.006       0.014\n",
       "B_losses         0.0369      0.013      2.770      0.006       0.011       0.063\n",
       "R_Height_cms    -0.0132      0.006     -2.367      0.018      -0.024      -0.002\n",
       "B_Weight_lbs    -0.0095      0.003     -2.904      0.004      -0.016      -0.003\n",
       "R_Weight_lbs     0.0011      0.003      0.346      0.729      -0.005       0.007\n",
       "==============================================================================\n",
       "Omnibus:                     1835.835   Durbin-Watson:                   1.887\n",
       "Prob(Omnibus):                  0.000   Jarque-Bera (JB):               82.766\n",
       "Skew:                          -0.581   Prob(JB):                     1.07e-18\n",
       "Kurtosis:                       1.669   Cond. No.                     2.43e+04\n",
       "==============================================================================\n",
       "\n",
       "Warnings:\n",
       "[1] Standard Errors assume that the covariance matrix of the errors is correctly specified.\n",
       "[2] The condition number is large, 2.43e+04. This might indicate that there are\n",
       "strong multicollinearity or other numerical problems.\n",
       "\"\"\""
      ]
     },
     "execution_count": 241,
     "metadata": {},
     "output_type": "execute_result"
    }
   ],
   "source": [
    "result = preparo(X,Y)\n",
    "result.summary()"
   ]
  },
  {
   "cell_type": "code",
   "execution_count": null,
   "metadata": {},
   "outputs": [],
   "source": []
  }
 ],
 "metadata": {
  "kernelspec": {
   "display_name": "Python 3",
   "language": "python",
   "name": "python3"
  },
  "language_info": {
   "codemirror_mode": {
    "name": "ipython",
    "version": 3
   },
   "file_extension": ".py",
   "mimetype": "text/x-python",
   "name": "python",
   "nbconvert_exporter": "python",
   "pygments_lexer": "ipython3",
   "version": "3.7.1"
  }
 },
 "nbformat": 4,
 "nbformat_minor": 2
}
