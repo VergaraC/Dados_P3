{
 "cells": [
  {
   "cell_type": "code",
   "execution_count": 1,
   "metadata": {},
   "outputs": [],
   "source": [
    "import math\n",
    "import os.path\n",
    "import pandas as pd\n",
    "import numpy as np\n",
    "import matplotlib\n",
    "import matplotlib.pyplot as plt\n",
    "import json\n",
    "import random\n",
    "import statsmodels.api as sm\n",
    "import seaborn as sns\n",
    "\n",
    "from sklearn.feature_extraction.text import CountVectorizer\n",
    "from sklearn.metrics import accuracy_score\n",
    "from sklearn.naive_bayes import MultinomialNB\n",
    "\n",
    "from sklearn.pipeline import Pipeline\n",
    "from sklearn.ensemble import RandomForestClassifier\n",
    "from sklearn.linear_model import LogisticRegression\n",
    "from sklearn.model_selection import train_test_split"
   ]
  },
  {
   "cell_type": "code",
   "execution_count": 2,
   "metadata": {
    "scrolled": true
   },
   "outputs": [
    {
     "data": {
      "text/html": [
       "<div>\n",
       "<style scoped>\n",
       "    .dataframe tbody tr th:only-of-type {\n",
       "        vertical-align: middle;\n",
       "    }\n",
       "\n",
       "    .dataframe tbody tr th {\n",
       "        vertical-align: top;\n",
       "    }\n",
       "\n",
       "    .dataframe thead th {\n",
       "        text-align: right;\n",
       "    }\n",
       "</style>\n",
       "<table border=\"1\" class=\"dataframe\">\n",
       "  <thead>\n",
       "    <tr style=\"text-align: right;\">\n",
       "      <th></th>\n",
       "      <th>R_fighter</th>\n",
       "      <th>B_fighter</th>\n",
       "      <th>Referee</th>\n",
       "      <th>date</th>\n",
       "      <th>location</th>\n",
       "      <th>Winner</th>\n",
       "      <th>title_bout</th>\n",
       "      <th>weight_class</th>\n",
       "      <th>no_of_rounds</th>\n",
       "      <th>B_current_lose_streak</th>\n",
       "      <th>...</th>\n",
       "      <th>R_win_by_KO/TKO</th>\n",
       "      <th>R_win_by_Submission</th>\n",
       "      <th>R_win_by_TKO_Doctor_Stoppage</th>\n",
       "      <th>R_wins</th>\n",
       "      <th>R_Stance</th>\n",
       "      <th>R_Height_cms</th>\n",
       "      <th>R_Reach_cms</th>\n",
       "      <th>R_Weight_lbs</th>\n",
       "      <th>B_age</th>\n",
       "      <th>R_age</th>\n",
       "    </tr>\n",
       "  </thead>\n",
       "  <tbody>\n",
       "    <tr>\n",
       "      <th>0</th>\n",
       "      <td>Henry Cejudo</td>\n",
       "      <td>Marlon Moraes</td>\n",
       "      <td>Marc Goddard</td>\n",
       "      <td>2019</td>\n",
       "      <td>Chicago, Illinois, USA</td>\n",
       "      <td>Red</td>\n",
       "      <td>True</td>\n",
       "      <td>Bantamweight</td>\n",
       "      <td>5</td>\n",
       "      <td>0</td>\n",
       "      <td>...</td>\n",
       "      <td>2</td>\n",
       "      <td>0</td>\n",
       "      <td>0</td>\n",
       "      <td>8</td>\n",
       "      <td>Orthodox</td>\n",
       "      <td>162.56</td>\n",
       "      <td>162.56</td>\n",
       "      <td>135.0</td>\n",
       "      <td>31.0</td>\n",
       "      <td>32.0</td>\n",
       "    </tr>\n",
       "    <tr>\n",
       "      <th>1</th>\n",
       "      <td>Valentina Shevchenko</td>\n",
       "      <td>Jessica Eye</td>\n",
       "      <td>Robert Madrigal</td>\n",
       "      <td>2019</td>\n",
       "      <td>Chicago, Illinois, USA</td>\n",
       "      <td>Red</td>\n",
       "      <td>True</td>\n",
       "      <td>Women's Flyweight</td>\n",
       "      <td>5</td>\n",
       "      <td>0</td>\n",
       "      <td>...</td>\n",
       "      <td>0</td>\n",
       "      <td>2</td>\n",
       "      <td>0</td>\n",
       "      <td>5</td>\n",
       "      <td>Southpaw</td>\n",
       "      <td>165.10</td>\n",
       "      <td>167.64</td>\n",
       "      <td>125.0</td>\n",
       "      <td>32.0</td>\n",
       "      <td>31.0</td>\n",
       "    </tr>\n",
       "    <tr>\n",
       "      <th>2</th>\n",
       "      <td>Tony Ferguson</td>\n",
       "      <td>Donald Cerrone</td>\n",
       "      <td>Dan Miragliotta</td>\n",
       "      <td>2019</td>\n",
       "      <td>Chicago, Illinois, USA</td>\n",
       "      <td>Red</td>\n",
       "      <td>False</td>\n",
       "      <td>Lightweight</td>\n",
       "      <td>3</td>\n",
       "      <td>0</td>\n",
       "      <td>...</td>\n",
       "      <td>3</td>\n",
       "      <td>6</td>\n",
       "      <td>1</td>\n",
       "      <td>14</td>\n",
       "      <td>Orthodox</td>\n",
       "      <td>180.34</td>\n",
       "      <td>193.04</td>\n",
       "      <td>155.0</td>\n",
       "      <td>36.0</td>\n",
       "      <td>35.0</td>\n",
       "    </tr>\n",
       "    <tr>\n",
       "      <th>3</th>\n",
       "      <td>Jimmie Rivera</td>\n",
       "      <td>Petr Yan</td>\n",
       "      <td>Kevin MacDonald</td>\n",
       "      <td>2019</td>\n",
       "      <td>Chicago, Illinois, USA</td>\n",
       "      <td>Blue</td>\n",
       "      <td>False</td>\n",
       "      <td>Bantamweight</td>\n",
       "      <td>3</td>\n",
       "      <td>0</td>\n",
       "      <td>...</td>\n",
       "      <td>1</td>\n",
       "      <td>0</td>\n",
       "      <td>0</td>\n",
       "      <td>6</td>\n",
       "      <td>Orthodox</td>\n",
       "      <td>162.56</td>\n",
       "      <td>172.72</td>\n",
       "      <td>135.0</td>\n",
       "      <td>26.0</td>\n",
       "      <td>29.0</td>\n",
       "    </tr>\n",
       "    <tr>\n",
       "      <th>4</th>\n",
       "      <td>Tai Tuivasa</td>\n",
       "      <td>Blagoy Ivanov</td>\n",
       "      <td>Dan Miragliotta</td>\n",
       "      <td>2019</td>\n",
       "      <td>Chicago, Illinois, USA</td>\n",
       "      <td>Blue</td>\n",
       "      <td>False</td>\n",
       "      <td>Heavyweight</td>\n",
       "      <td>3</td>\n",
       "      <td>0</td>\n",
       "      <td>...</td>\n",
       "      <td>2</td>\n",
       "      <td>0</td>\n",
       "      <td>0</td>\n",
       "      <td>3</td>\n",
       "      <td>Southpaw</td>\n",
       "      <td>187.96</td>\n",
       "      <td>190.50</td>\n",
       "      <td>264.0</td>\n",
       "      <td>32.0</td>\n",
       "      <td>26.0</td>\n",
       "    </tr>\n",
       "  </tbody>\n",
       "</table>\n",
       "<p>5 rows × 145 columns</p>\n",
       "</div>"
      ],
      "text/plain": [
       "              R_fighter       B_fighter          Referee  date  \\\n",
       "0          Henry Cejudo   Marlon Moraes     Marc Goddard  2019   \n",
       "1  Valentina Shevchenko     Jessica Eye  Robert Madrigal  2019   \n",
       "2         Tony Ferguson  Donald Cerrone  Dan Miragliotta  2019   \n",
       "3         Jimmie Rivera        Petr Yan  Kevin MacDonald  2019   \n",
       "4           Tai Tuivasa   Blagoy Ivanov  Dan Miragliotta  2019   \n",
       "\n",
       "                 location Winner  title_bout       weight_class  no_of_rounds  \\\n",
       "0  Chicago, Illinois, USA    Red        True       Bantamweight             5   \n",
       "1  Chicago, Illinois, USA    Red        True  Women's Flyweight             5   \n",
       "2  Chicago, Illinois, USA    Red       False        Lightweight             3   \n",
       "3  Chicago, Illinois, USA   Blue       False       Bantamweight             3   \n",
       "4  Chicago, Illinois, USA   Blue       False        Heavyweight             3   \n",
       "\n",
       "   B_current_lose_streak  ...    R_win_by_KO/TKO  R_win_by_Submission  \\\n",
       "0                      0  ...                  2                    0   \n",
       "1                      0  ...                  0                    2   \n",
       "2                      0  ...                  3                    6   \n",
       "3                      0  ...                  1                    0   \n",
       "4                      0  ...                  2                    0   \n",
       "\n",
       "   R_win_by_TKO_Doctor_Stoppage  R_wins  R_Stance  R_Height_cms  R_Reach_cms  \\\n",
       "0                             0       8  Orthodox        162.56       162.56   \n",
       "1                             0       5  Southpaw        165.10       167.64   \n",
       "2                             1      14  Orthodox        180.34       193.04   \n",
       "3                             0       6  Orthodox        162.56       172.72   \n",
       "4                             0       3  Southpaw        187.96       190.50   \n",
       "\n",
       "   R_Weight_lbs  B_age  R_age  \n",
       "0         135.0   31.0   32.0  \n",
       "1         125.0   32.0   31.0  \n",
       "2         155.0   36.0   35.0  \n",
       "3         135.0   26.0   29.0  \n",
       "4         264.0   32.0   26.0  \n",
       "\n",
       "[5 rows x 145 columns]"
      ]
     },
     "execution_count": 2,
     "metadata": {},
     "output_type": "execute_result"
    }
   ],
   "source": [
    "data = pd.read_excel(\"data.xlsx\")\n",
    "data.head()"
   ]
  },
  {
   "cell_type": "markdown",
   "metadata": {},
   "source": [
    "### Apenas a categoria Peso-Pesados ('Heavyweights')"
   ]
  },
  {
   "cell_type": "markdown",
   "metadata": {},
   "source": [
    "   O nosso dataframe consiste em uma coleção de dados de todas as lutas da história do UFC, desde 1993 até 2019, contando com profundas informações dos lutadores do evento, como o histórico do lutador, resultados das últimas lutas, idade e até dados de cada embate, por exemplo de quantos golpes foram desferidos na cabeça do adversário naquele específico combate.\n",
    "   \n",
    "   Após o dataframe ser lido e exibido pela biblioteca do Pandas, nós nos deparamos com uma tabela que separa as lutas pelas cores dos lados do ringue, sendo o \"R_fighter\" o lutador do lado vermelho e o \"B_fighter\" o oponente do lado azul e é assim que se divide as estatísticas das lutas em geral, no caso as informações do lado vermelho começam com o prefixo \"R_\" e segue o mesmo padrão com o lado azul (\"B_\")."
   ]
  },
  {
   "cell_type": "code",
   "execution_count": 3,
   "metadata": {},
   "outputs": [],
   "source": [
    "data.weight_class = data.weight_class.astype('category')\n",
    "data.Winner = data.Winner.astype('category')"
   ]
  },
  {
   "cell_type": "code",
   "execution_count": 4,
   "metadata": {},
   "outputs": [
    {
     "data": {
      "text/plain": [
       "Red     3470\n",
       "Blue    1591\n",
       "Draw      83\n",
       "Name: Winner, dtype: int64"
      ]
     },
     "execution_count": 4,
     "metadata": {},
     "output_type": "execute_result"
    }
   ],
   "source": [
    "data.Winner.value_counts()"
   ]
  },
  {
   "cell_type": "markdown",
   "metadata": {},
   "source": [
    "Como o objetivo do projeto é prever de qual lado/cor é o lutador vencedor do combate, fizemos uma contagem do número de vitórias de cada lado."
   ]
  },
  {
   "cell_type": "code",
   "execution_count": 5,
   "metadata": {
    "scrolled": true
   },
   "outputs": [
    {
     "data": {
      "image/png": "[encoded data removed]",
      "text/plain": [
       "<Figure size 432x288 with 1 Axes>"
      ]
     },
     "metadata": {},
     "output_type": "display_data"
    }
   ],
   "source": [
    "data.Winner.value_counts().plot(kind='pie', colors=['red','blue','pink'], autopct=\"%0.2f\",legend=False);"
   ]
  },
  {
   "cell_type": "markdown",
   "metadata": {},
   "source": [
    "Após plotar o gráfico da frequência relativa da vitória em seus respectivos lados, pudermos perceber que o lado vermelho acumula 67,46% das vitórias enquanto apenas 30,93% do lado azul, desbancando uma ideia inicial de igualdade entre os lados em relação às vitórias. "
   ]
  },
  {
   "cell_type": "markdown",
   "metadata": {},
   "source": [
    "Uma vez sabendo que os lutadores campeões lutam pelo lado vermelho, pensamos que talvez o lado vermelho poderia ter alguma vantagem na porcentagem de vitórias, já que geralmente os campeões são considerados melhores que a maioria de seus oponentes.\n",
    "Portanto, resolvemos plotar um gráfico a fim de analisar esta vantagem e como esperado, os campeões realmente ganham mais que os desafiantes, cerca de uma proporção 4 para 1."
   ]
  },
  {
   "cell_type": "code",
   "execution_count": 6,
   "metadata": {},
   "outputs": [
    {
     "data": {
      "image/png": "[encoded data removed]",
      "text/plain": [
       "<Figure size 432x288 with 1 Axes>"
      ]
     },
     "metadata": {},
     "output_type": "display_data"
    }
   ],
   "source": [
    "graf_winner_with_title = data.loc[: , [\"Winner\", \"title_bout\"]]\n",
    "graf_winner_with_title1 = graf_winner_with_title.loc[(graf_winner_with_title.title_bout==True),:]\n",
    "plt.title(\"Red wins vs Blue wins em disputas pelo título\")\n",
    "graf_winner_with_title1.Winner.value_counts().plot(kind='pie', colors=['red','blue',\"white\"],autopct=\"%0.2f\",legend=False);"
   ]
  },
  {
   "cell_type": "markdown",
   "metadata": {},
   "source": [
    "Porém, quantas vezes ocorrem disputas por títulos de modo que possa alterar tão significantemente a porcentagem de vitórias dos lados?\n",
    "Para isso, plotamos um gráfico da ocorrência relativa das disputas:"
   ]
  },
  {
   "cell_type": "code",
   "execution_count": 8,
   "metadata": {
    "scrolled": false
   },
   "outputs": [
    {
     "data": {
      "image/png": "[encoded data removed]",
      "text/plain": [
       "<Figure size 432x288 with 1 Axes>"
      ]
     },
     "metadata": {},
     "output_type": "display_data"
    }
   ],
   "source": [
    "plt.title(\"Porcentagem de lutas pelo título\")\n",
    "data['title_bout'].value_counts().plot(kind='pie', colors=['green','gold'],autopct=\"%0.2f\",legend=False);"
   ]
  },
  {
   "cell_type": "markdown",
   "metadata": {},
   "source": [
    "De todas as lutas que ocorreram no UFC, 7% são disputas por títulos, mostrando-se uma quantia pequena mas relativamente relevante em relação ao total."
   ]
  },
  {
   "cell_type": "markdown",
   "metadata": {},
   "source": [
    "Agora, para saber se esta vantagem se da apenas pelo fato do lado vermelho ser o campeão, decidimos fazer o mesmo gráfico de  vitórias do Red x vitórias do Blue mas apenas pelas lutas que não disputam o cinturão:"
   ]
  },
  {
   "cell_type": "code",
   "execution_count": 9,
   "metadata": {},
   "outputs": [
    {
     "data": {
      "image/png": "[encoded data removed]",
      "text/plain": [
       "<Figure size 432x288 with 1 Axes>"
      ]
     },
     "metadata": {},
     "output_type": "display_data"
    }
   ],
   "source": [
    "graf_winner_with_title = data.loc[: , [\"Winner\", \"title_bout\"]]\n",
    "graf_winner_with_title1 = graf_winner_with_title.loc[(graf_winner_with_title.title_bout==False),:]\n",
    "plt.title(\"Red wins vs Blue wins sem disputa pelo título\")\n",
    "graf_winner_with_title1.Winner.value_counts().plot(kind='pie', colors=['red','blue',\"white\"],autopct=\"%0.2f\",legend=False);"
   ]
  },
  {
   "cell_type": "markdown",
   "metadata": {},
   "source": [
    "Como resultado, é possível analisar que mesmo em lutas quais não disputam o título, a vantagem do lado vermelho se mantém. Mas o que explicaria isso?\n",
    "\n",
    "Após pesquisas, descobrimos que o lado vermelho, na maioria das vezes, é defendido por lutadores \"favoritos\" das apostas, ou seja, são lutadores apontados como os possíveis vencedores do confronto devido aos seus últimos resultados nos recentes embates e/ou o \"status\" que o lutador possui."
   ]
  },
  {
   "cell_type": "markdown",
   "metadata": {},
   "source": [
    "Mudando de assunto, queriamos saber como é distribuída as categorias de peso no UFC, para futuras análises..."
   ]
  },
  {
   "cell_type": "code",
   "execution_count": 7,
   "metadata": {
    "scrolled": true
   },
   "outputs": [
    {
     "data": {
      "image/png": "[encoded data removed]",
      "text/plain": [
       "<Figure size 432x288 with 1 Axes>"
      ]
     },
     "metadata": {},
     "output_type": "display_data"
    }
   ],
   "source": [
    "data['weight_class'].value_counts().plot(kind='pie',autopct=\"%0.2f\",legend=False);"
   ]
  },
  {
   "cell_type": "markdown",
   "metadata": {},
   "source": [
    "Após o plot do gráfico, resolvemos dividir as categorias por gênero:"
   ]
  },
  {
   "cell_type": "code",
   "execution_count": 43,
   "metadata": {},
   "outputs": [
    {
     "data": {
      "image/png": "[encoded data removed]",
      "text/plain": [
       "<Figure size 432x288 with 1 Axes>"
      ]
     },
     "metadata": {},
     "output_type": "display_data"
    }
   ],
   "source": [
    "data_mulher = data.loc[(data.weight_class==\"Women's Bantamweight\")|\n",
    "                       (data.weight_class==\"Women's Featherweight\")|\n",
    "                       (data.weight_class==\"Women's Flyweight\")|\n",
    "                       (data.weight_class==\"Women's Strawweight\"),:]\n",
    "data_mulher.weight_class.value_counts().plot(kind='pie',autopct=\"%0.2f\",legend=False);"
   ]
  },
  {
   "cell_type": "markdown",
   "metadata": {},
   "source": [
    "São 4 categorias de peso para as mulheres."
   ]
  },
  {
   "cell_type": "code",
   "execution_count": 10,
   "metadata": {
    "scrolled": true
   },
   "outputs": [
    {
     "data": {
      "image/png": "[encoded data removed]",
      "text/plain": [
       "<Figure size 432x288 with 1 Axes>"
      ]
     },
     "metadata": {},
     "output_type": "display_data"
    }
   ],
   "source": [
    "data_homem = data.loc[(data.weight_class==\"Flyweight\")|\n",
    "                       (data.weight_class==\"Bantamweight\")|\n",
    "                       (data.weight_class==\"Featherweight\")|\n",
    "                       (data.weight_class==\"Lightweight\")|\n",
    "                       (data.weight_class==\"Welterweight\")|\n",
    "                       (data.weight_class==\"Middleweight\")|\n",
    "                       (data.weight_class==\"Light Heavyweight\")|\n",
    "                       (data.weight_class==\"Heavyweight\"),:]\n",
    "#data_homem.weight_class.value_counts().plot(kind='pie',autopct=\"%0.2f\",legend=False);\n",
    "data_homem.weight_class.value_counts().plot(kind='pie',autopct=\"%0.2f\",legend=False);"
   ]
  },
  {
   "cell_type": "markdown",
   "metadata": {},
   "source": [
    "São 8 categorias na divisão masculina, distribuídas majoritariamente entre os pesos leves (\"Lightweights\"), meio-médios (\"Welterweight\") e médios (\"Middleweight\"). "
   ]
  },
  {
   "cell_type": "markdown",
   "metadata": {
    "scrolled": true
   },
   "source": [
    "Vamos ver se a superioridade do vermelho sobre o azul prevalece no gênero masculino..."
   ]
  },
  {
   "cell_type": "markdown",
   "metadata": {},
   "source": [
    "Mas primeiro vamos fazer algumas funções...\n",
    "A primeira, vamos determinar todos os pesos de qualquer divisão de gênero.\n",
    "Enquanto na segunda vamos plotar os gráficos de vitórias entre os lados vermelhos e azuis."
   ]
  },
  {
   "cell_type": "code",
   "execution_count": 13,
   "metadata": {},
   "outputs": [],
   "source": [
    "def pesos(df_pesos):\n",
    "    data_homem_pesos = []\n",
    "    for i in df_pesos:\n",
    "        if i not in data_homem_pesos:\n",
    "            data_homem_pesos.append(i)\n",
    "    return data_homem_pesos"
   ]
  },
  {
   "cell_type": "code",
   "execution_count": 41,
   "metadata": {
    "scrolled": true
   },
   "outputs": [],
   "source": [
    "def plota_graficos_por_peso(df):\n",
    "    v=0\n",
    "    i=-1\n",
    "    for p in pesos(df.weight_class):\n",
    "        v = data_homem.Winner.loc[(df.weight_class==p)]\n",
    "        v.value_counts().plot(kind='pie',colors=['red','blue',\"white\"],autopct=\"%0.2f\",legend=False);\n",
    "        plt.title(p)\n",
    "        plt.figure(i)\n",
    "        i+=1\n",
    "    return None\n",
    "    "
   ]
  },
  {
   "cell_type": "code",
   "execution_count": 47,
   "metadata": {},
   "outputs": [
    {
     "data": {
      "image/png": "[encoded data removed]",
      "text/plain": [
       "<Figure size 432x288 with 1 Axes>"
      ]
     },
     "metadata": {},
     "output_type": "display_data"
    },
    {
     "data": {
      "image/png": "[encoded data removed]",
      "text/plain": [
       "<Figure size 432x288 with 1 Axes>"
      ]
     },
     "metadata": {},
     "output_type": "display_data"
    },
    {
     "data": {
      "image/png": "[encoded data removed]",
      "text/plain": [
       "<Figure size 432x288 with 1 Axes>"
      ]
     },
     "metadata": {},
     "output_type": "display_data"
    },
    {
     "data": {
      "image/png": "[encoded data removed]",
      "text/plain": [
       "<Figure size 432x288 with 1 Axes>"
      ]
     },
     "metadata": {},
     "output_type": "display_data"
    },
    {
     "data": {
      "image/png": "[encoded data removed]",
      "text/plain": [
       "<Figure size 432x288 with 1 Axes>"
      ]
     },
     "metadata": {},
     "output_type": "display_data"
    },
    {
     "data": {
      "image/png": "[encoded data removed]",
      "text/plain": [
       "<Figure size 432x288 with 1 Axes>"
      ]
     },
     "metadata": {},
     "output_type": "display_data"
    },
    {
     "data": {
      "image/png": "[encoded data removed]",
      "text/plain": [
       "<Figure size 432x288 with 1 Axes>"
      ]
     },
     "metadata": {},
     "output_type": "display_data"
    },
    {
     "data": {
      "text/plain": [
       "<Figure size 432x288 with 0 Axes>"
      ]
     },
     "metadata": {},
     "output_type": "display_data"
    }
   ],
   "source": [
    "plota_graficos_por_peso(data_homem)"
   ]
  },
  {
   "cell_type": "markdown",
   "metadata": {},
   "source": [
    "Após a observação dos gráficos, é possivel concluir que o lado vermelho sempre leva vantagem, em todos os pesos e em alguns mais do que outros..."
   ]
  },
  {
   "cell_type": "markdown",
   "metadata": {},
   "source": [
    "### Blue = 0\n",
    "### Red = 1"
   ]
  },
  {
   "cell_type": "code",
   "execution_count": 6,
   "metadata": {},
   "outputs": [
    {
     "name": "stderr",
     "output_type": "stream",
     "text": [
      "C:\\Users\\Admin\\Anaconda3\\lib\\site-packages\\ipykernel_launcher.py:4: SettingWithCopyWarning: \n",
      "A value is trying to be set on a copy of a slice from a DataFrame.\n",
      "Try using .loc[row_indexer,col_indexer] = value instead\n",
      "\n",
      "See the caveats in the documentation: http://pandas.pydata.org/pandas-docs/stable/indexing.html#indexing-view-versus-copy\n",
      "  after removing the cwd from sys.path.\n",
      "C:\\Users\\Admin\\Anaconda3\\lib\\site-packages\\ipykernel_launcher.py:5: SettingWithCopyWarning: \n",
      "A value is trying to be set on a copy of a slice from a DataFrame.\n",
      "Try using .loc[row_indexer,col_indexer] = value instead\n",
      "\n",
      "See the caveats in the documentation: http://pandas.pydata.org/pandas-docs/stable/indexing.html#indexing-view-versus-copy\n",
      "  \"\"\"\n"
     ]
    }
   ],
   "source": [
    "data_heavy = data.loc[(data.weight_class=='Lightweight'),:]\n",
    "bool_to_number = {False: 0, True: 1}\n",
    "string_to_number = {'Blue': 0, 'Red': 1, 'Draw': 2}\n",
    "data_heavy['title_bout'] = data_heavy['title_bout'].map(bool_to_number)\n",
    "data_heavy['Winner'] = data_heavy['Winner'].map(string_to_number)"
   ]
  },
  {
   "cell_type": "code",
   "execution_count": 7,
   "metadata": {},
   "outputs": [
    {
     "data": {
      "text/html": [
       "<div>\n",
       "<style scoped>\n",
       "    .dataframe tbody tr th:only-of-type {\n",
       "        vertical-align: middle;\n",
       "    }\n",
       "\n",
       "    .dataframe tbody tr th {\n",
       "        vertical-align: top;\n",
       "    }\n",
       "\n",
       "    .dataframe thead th {\n",
       "        text-align: right;\n",
       "    }\n",
       "</style>\n",
       "<table border=\"1\" class=\"dataframe\">\n",
       "  <thead>\n",
       "    <tr style=\"text-align: right;\">\n",
       "      <th></th>\n",
       "      <th>date</th>\n",
       "      <th>Winner</th>\n",
       "      <th>title_bout</th>\n",
       "      <th>no_of_rounds</th>\n",
       "      <th>B_current_lose_streak</th>\n",
       "      <th>B_current_win_streak</th>\n",
       "      <th>B_draw</th>\n",
       "      <th>B_avg_BODY_att</th>\n",
       "      <th>B_avg_BODY_landed</th>\n",
       "      <th>B_avg_CLINCH_att</th>\n",
       "      <th>...</th>\n",
       "      <th>R_win_by_Decision_Unanimous</th>\n",
       "      <th>R_win_by_KO/TKO</th>\n",
       "      <th>R_win_by_Submission</th>\n",
       "      <th>R_win_by_TKO_Doctor_Stoppage</th>\n",
       "      <th>R_wins</th>\n",
       "      <th>R_Height_cms</th>\n",
       "      <th>R_Reach_cms</th>\n",
       "      <th>R_Weight_lbs</th>\n",
       "      <th>B_age</th>\n",
       "      <th>R_age</th>\n",
       "    </tr>\n",
       "  </thead>\n",
       "  <tbody>\n",
       "    <tr>\n",
       "      <th>count</th>\n",
       "      <td>989.000000</td>\n",
       "      <td>989.000000</td>\n",
       "      <td>989.000000</td>\n",
       "      <td>989.000000</td>\n",
       "      <td>989.000000</td>\n",
       "      <td>989.000000</td>\n",
       "      <td>989.0</td>\n",
       "      <td>743.000000</td>\n",
       "      <td>743.000000</td>\n",
       "      <td>743.000000</td>\n",
       "      <td>...</td>\n",
       "      <td>989.000000</td>\n",
       "      <td>989.000000</td>\n",
       "      <td>989.000000</td>\n",
       "      <td>989.000000</td>\n",
       "      <td>989.000000</td>\n",
       "      <td>988.000000</td>\n",
       "      <td>951.000000</td>\n",
       "      <td>988.000000</td>\n",
       "      <td>960.000000</td>\n",
       "      <td>983.000000</td>\n",
       "    </tr>\n",
       "    <tr>\n",
       "      <th>mean</th>\n",
       "      <td>2012.344793</td>\n",
       "      <td>0.721941</td>\n",
       "      <td>0.042467</td>\n",
       "      <td>3.080890</td>\n",
       "      <td>0.438827</td>\n",
       "      <td>0.791709</td>\n",
       "      <td>0.0</td>\n",
       "      <td>9.211398</td>\n",
       "      <td>6.234956</td>\n",
       "      <td>7.635351</td>\n",
       "      <td>...</td>\n",
       "      <td>1.383215</td>\n",
       "      <td>0.998989</td>\n",
       "      <td>1.013145</td>\n",
       "      <td>0.101112</td>\n",
       "      <td>3.880688</td>\n",
       "      <td>176.481154</td>\n",
       "      <td>181.063807</td>\n",
       "      <td>155.992915</td>\n",
       "      <td>28.489583</td>\n",
       "      <td>28.549339</td>\n",
       "    </tr>\n",
       "    <tr>\n",
       "      <th>std</th>\n",
       "      <td>4.559484</td>\n",
       "      <td>0.487219</td>\n",
       "      <td>0.201754</td>\n",
       "      <td>0.456098</td>\n",
       "      <td>0.715325</td>\n",
       "      <td>1.251352</td>\n",
       "      <td>0.0</td>\n",
       "      <td>7.180390</td>\n",
       "      <td>5.122117</td>\n",
       "      <td>6.470686</td>\n",
       "      <td>...</td>\n",
       "      <td>1.689980</td>\n",
       "      <td>1.341867</td>\n",
       "      <td>1.649693</td>\n",
       "      <td>0.301630</td>\n",
       "      <td>3.777185</td>\n",
       "      <td>4.813499</td>\n",
       "      <td>5.795476</td>\n",
       "      <td>7.635633</td>\n",
       "      <td>3.601919</td>\n",
       "      <td>3.711785</td>\n",
       "    </tr>\n",
       "    <tr>\n",
       "      <th>min</th>\n",
       "      <td>1997.000000</td>\n",
       "      <td>0.000000</td>\n",
       "      <td>0.000000</td>\n",
       "      <td>2.000000</td>\n",
       "      <td>0.000000</td>\n",
       "      <td>0.000000</td>\n",
       "      <td>0.0</td>\n",
       "      <td>0.000000</td>\n",
       "      <td>0.000000</td>\n",
       "      <td>0.000000</td>\n",
       "      <td>...</td>\n",
       "      <td>0.000000</td>\n",
       "      <td>0.000000</td>\n",
       "      <td>0.000000</td>\n",
       "      <td>0.000000</td>\n",
       "      <td>0.000000</td>\n",
       "      <td>165.100000</td>\n",
       "      <td>165.100000</td>\n",
       "      <td>135.000000</td>\n",
       "      <td>18.000000</td>\n",
       "      <td>19.000000</td>\n",
       "    </tr>\n",
       "    <tr>\n",
       "      <th>25%</th>\n",
       "      <td>2010.000000</td>\n",
       "      <td>0.000000</td>\n",
       "      <td>0.000000</td>\n",
       "      <td>3.000000</td>\n",
       "      <td>0.000000</td>\n",
       "      <td>0.000000</td>\n",
       "      <td>0.0</td>\n",
       "      <td>4.000000</td>\n",
       "      <td>2.500000</td>\n",
       "      <td>3.000000</td>\n",
       "      <td>...</td>\n",
       "      <td>0.000000</td>\n",
       "      <td>0.000000</td>\n",
       "      <td>0.000000</td>\n",
       "      <td>0.000000</td>\n",
       "      <td>1.000000</td>\n",
       "      <td>172.720000</td>\n",
       "      <td>177.800000</td>\n",
       "      <td>155.000000</td>\n",
       "      <td>26.000000</td>\n",
       "      <td>26.000000</td>\n",
       "    </tr>\n",
       "    <tr>\n",
       "      <th>50%</th>\n",
       "      <td>2013.000000</td>\n",
       "      <td>1.000000</td>\n",
       "      <td>0.000000</td>\n",
       "      <td>3.000000</td>\n",
       "      <td>0.000000</td>\n",
       "      <td>0.000000</td>\n",
       "      <td>0.0</td>\n",
       "      <td>7.500000</td>\n",
       "      <td>5.000000</td>\n",
       "      <td>6.208333</td>\n",
       "      <td>...</td>\n",
       "      <td>1.000000</td>\n",
       "      <td>1.000000</td>\n",
       "      <td>0.000000</td>\n",
       "      <td>0.000000</td>\n",
       "      <td>3.000000</td>\n",
       "      <td>175.260000</td>\n",
       "      <td>180.340000</td>\n",
       "      <td>155.000000</td>\n",
       "      <td>28.000000</td>\n",
       "      <td>28.000000</td>\n",
       "    </tr>\n",
       "    <tr>\n",
       "      <th>75%</th>\n",
       "      <td>2016.000000</td>\n",
       "      <td>1.000000</td>\n",
       "      <td>0.000000</td>\n",
       "      <td>3.000000</td>\n",
       "      <td>1.000000</td>\n",
       "      <td>1.000000</td>\n",
       "      <td>0.0</td>\n",
       "      <td>12.750000</td>\n",
       "      <td>8.732143</td>\n",
       "      <td>10.348485</td>\n",
       "      <td>...</td>\n",
       "      <td>2.000000</td>\n",
       "      <td>1.000000</td>\n",
       "      <td>2.000000</td>\n",
       "      <td>0.000000</td>\n",
       "      <td>6.000000</td>\n",
       "      <td>178.435000</td>\n",
       "      <td>185.420000</td>\n",
       "      <td>155.000000</td>\n",
       "      <td>31.000000</td>\n",
       "      <td>31.000000</td>\n",
       "    </tr>\n",
       "    <tr>\n",
       "      <th>max</th>\n",
       "      <td>2019.000000</td>\n",
       "      <td>2.000000</td>\n",
       "      <td>1.000000</td>\n",
       "      <td>5.000000</td>\n",
       "      <td>5.000000</td>\n",
       "      <td>8.000000</td>\n",
       "      <td>0.0</td>\n",
       "      <td>49.000000</td>\n",
       "      <td>39.000000</td>\n",
       "      <td>49.000000</td>\n",
       "      <td>...</td>\n",
       "      <td>8.000000</td>\n",
       "      <td>8.000000</td>\n",
       "      <td>13.000000</td>\n",
       "      <td>1.000000</td>\n",
       "      <td>18.000000</td>\n",
       "      <td>193.040000</td>\n",
       "      <td>203.200000</td>\n",
       "      <td>210.000000</td>\n",
       "      <td>40.000000</td>\n",
       "      <td>40.000000</td>\n",
       "    </tr>\n",
       "  </tbody>\n",
       "</table>\n",
       "<p>8 rows × 138 columns</p>\n",
       "</div>"
      ],
      "text/plain": [
       "              date      Winner  title_bout  no_of_rounds  \\\n",
       "count   989.000000  989.000000  989.000000    989.000000   \n",
       "mean   2012.344793    0.721941    0.042467      3.080890   \n",
       "std       4.559484    0.487219    0.201754      0.456098   \n",
       "min    1997.000000    0.000000    0.000000      2.000000   \n",
       "25%    2010.000000    0.000000    0.000000      3.000000   \n",
       "50%    2013.000000    1.000000    0.000000      3.000000   \n",
       "75%    2016.000000    1.000000    0.000000      3.000000   \n",
       "max    2019.000000    2.000000    1.000000      5.000000   \n",
       "\n",
       "       B_current_lose_streak  B_current_win_streak  B_draw  B_avg_BODY_att  \\\n",
       "count             989.000000            989.000000   989.0      743.000000   \n",
       "mean                0.438827              0.791709     0.0        9.211398   \n",
       "std                 0.715325              1.251352     0.0        7.180390   \n",
       "min                 0.000000              0.000000     0.0        0.000000   \n",
       "25%                 0.000000              0.000000     0.0        4.000000   \n",
       "50%                 0.000000              0.000000     0.0        7.500000   \n",
       "75%                 1.000000              1.000000     0.0       12.750000   \n",
       "max                 5.000000              8.000000     0.0       49.000000   \n",
       "\n",
       "       B_avg_BODY_landed  B_avg_CLINCH_att     ...      \\\n",
       "count         743.000000        743.000000     ...       \n",
       "mean            6.234956          7.635351     ...       \n",
       "std             5.122117          6.470686     ...       \n",
       "min             0.000000          0.000000     ...       \n",
       "25%             2.500000          3.000000     ...       \n",
       "50%             5.000000          6.208333     ...       \n",
       "75%             8.732143         10.348485     ...       \n",
       "max            39.000000         49.000000     ...       \n",
       "\n",
       "       R_win_by_Decision_Unanimous  R_win_by_KO/TKO  R_win_by_Submission  \\\n",
       "count                   989.000000       989.000000           989.000000   \n",
       "mean                      1.383215         0.998989             1.013145   \n",
       "std                       1.689980         1.341867             1.649693   \n",
       "min                       0.000000         0.000000             0.000000   \n",
       "25%                       0.000000         0.000000             0.000000   \n",
       "50%                       1.000000         1.000000             0.000000   \n",
       "75%                       2.000000         1.000000             2.000000   \n",
       "max                       8.000000         8.000000            13.000000   \n",
       "\n",
       "       R_win_by_TKO_Doctor_Stoppage      R_wins  R_Height_cms  R_Reach_cms  \\\n",
       "count                    989.000000  989.000000    988.000000   951.000000   \n",
       "mean                       0.101112    3.880688    176.481154   181.063807   \n",
       "std                        0.301630    3.777185      4.813499     5.795476   \n",
       "min                        0.000000    0.000000    165.100000   165.100000   \n",
       "25%                        0.000000    1.000000    172.720000   177.800000   \n",
       "50%                        0.000000    3.000000    175.260000   180.340000   \n",
       "75%                        0.000000    6.000000    178.435000   185.420000   \n",
       "max                        1.000000   18.000000    193.040000   203.200000   \n",
       "\n",
       "       R_Weight_lbs       B_age       R_age  \n",
       "count    988.000000  960.000000  983.000000  \n",
       "mean     155.992915   28.489583   28.549339  \n",
       "std        7.635633    3.601919    3.711785  \n",
       "min      135.000000   18.000000   19.000000  \n",
       "25%      155.000000   26.000000   26.000000  \n",
       "50%      155.000000   28.000000   28.000000  \n",
       "75%      155.000000   31.000000   31.000000  \n",
       "max      210.000000   40.000000   40.000000  \n",
       "\n",
       "[8 rows x 138 columns]"
      ]
     },
     "execution_count": 7,
     "metadata": {},
     "output_type": "execute_result"
    }
   ],
   "source": [
    "data_heavy.describe()"
   ]
  },
  {
   "cell_type": "code",
   "execution_count": 8,
   "metadata": {},
   "outputs": [],
   "source": [
    "data_heavy_util = data_heavy.drop(['Referee','date','location'], axis=1)\n",
    "data_heavy_util.dropna(inplace=True)"
   ]
  },
  {
   "cell_type": "code",
   "execution_count": 9,
   "metadata": {},
   "outputs": [
    {
     "data": {
      "text/html": [
       "<div>\n",
       "<style scoped>\n",
       "    .dataframe tbody tr th:only-of-type {\n",
       "        vertical-align: middle;\n",
       "    }\n",
       "\n",
       "    .dataframe tbody tr th {\n",
       "        vertical-align: top;\n",
       "    }\n",
       "\n",
       "    .dataframe thead th {\n",
       "        text-align: right;\n",
       "    }\n",
       "</style>\n",
       "<table border=\"1\" class=\"dataframe\">\n",
       "  <thead>\n",
       "    <tr style=\"text-align: right;\">\n",
       "      <th></th>\n",
       "      <th>R_fighter</th>\n",
       "      <th>B_fighter</th>\n",
       "      <th>Winner</th>\n",
       "      <th>title_bout</th>\n",
       "      <th>weight_class</th>\n",
       "      <th>no_of_rounds</th>\n",
       "      <th>B_current_lose_streak</th>\n",
       "      <th>B_current_win_streak</th>\n",
       "      <th>B_draw</th>\n",
       "      <th>B_avg_BODY_att</th>\n",
       "      <th>...</th>\n",
       "      <th>R_win_by_KO/TKO</th>\n",
       "      <th>R_win_by_Submission</th>\n",
       "      <th>R_win_by_TKO_Doctor_Stoppage</th>\n",
       "      <th>R_wins</th>\n",
       "      <th>R_Stance</th>\n",
       "      <th>R_Height_cms</th>\n",
       "      <th>R_Reach_cms</th>\n",
       "      <th>R_Weight_lbs</th>\n",
       "      <th>B_age</th>\n",
       "      <th>R_age</th>\n",
       "    </tr>\n",
       "  </thead>\n",
       "  <tbody>\n",
       "    <tr>\n",
       "      <th>2</th>\n",
       "      <td>Tony Ferguson</td>\n",
       "      <td>Donald Cerrone</td>\n",
       "      <td>1</td>\n",
       "      <td>0</td>\n",
       "      <td>Lightweight</td>\n",
       "      <td>3</td>\n",
       "      <td>0</td>\n",
       "      <td>3</td>\n",
       "      <td>0</td>\n",
       "      <td>15.354839</td>\n",
       "      <td>...</td>\n",
       "      <td>3</td>\n",
       "      <td>6</td>\n",
       "      <td>1</td>\n",
       "      <td>14</td>\n",
       "      <td>Orthodox</td>\n",
       "      <td>180.34</td>\n",
       "      <td>193.04</td>\n",
       "      <td>155.0</td>\n",
       "      <td>36.0</td>\n",
       "      <td>35.0</td>\n",
       "    </tr>\n",
       "    <tr>\n",
       "      <th>16</th>\n",
       "      <td>Damir Hadzovic</td>\n",
       "      <td>Christos Giagos</td>\n",
       "      <td>0</td>\n",
       "      <td>0</td>\n",
       "      <td>Lightweight</td>\n",
       "      <td>3</td>\n",
       "      <td>0</td>\n",
       "      <td>1</td>\n",
       "      <td>0</td>\n",
       "      <td>7.000000</td>\n",
       "      <td>...</td>\n",
       "      <td>2</td>\n",
       "      <td>0</td>\n",
       "      <td>0</td>\n",
       "      <td>3</td>\n",
       "      <td>Orthodox</td>\n",
       "      <td>175.26</td>\n",
       "      <td>177.80</td>\n",
       "      <td>155.0</td>\n",
       "      <td>29.0</td>\n",
       "      <td>32.0</td>\n",
       "    </tr>\n",
       "    <tr>\n",
       "      <th>20</th>\n",
       "      <td>Stevie Ray</td>\n",
       "      <td>Leonardo Santos</td>\n",
       "      <td>0</td>\n",
       "      <td>0</td>\n",
       "      <td>Lightweight</td>\n",
       "      <td>3</td>\n",
       "      <td>0</td>\n",
       "      <td>4</td>\n",
       "      <td>0</td>\n",
       "      <td>9.666667</td>\n",
       "      <td>...</td>\n",
       "      <td>2</td>\n",
       "      <td>0</td>\n",
       "      <td>0</td>\n",
       "      <td>6</td>\n",
       "      <td>Southpaw</td>\n",
       "      <td>177.80</td>\n",
       "      <td>177.80</td>\n",
       "      <td>155.0</td>\n",
       "      <td>39.0</td>\n",
       "      <td>29.0</td>\n",
       "    </tr>\n",
       "    <tr>\n",
       "      <th>21</th>\n",
       "      <td>Nick Hein</td>\n",
       "      <td>Frank Camacho</td>\n",
       "      <td>0</td>\n",
       "      <td>0</td>\n",
       "      <td>Lightweight</td>\n",
       "      <td>3</td>\n",
       "      <td>2</td>\n",
       "      <td>0</td>\n",
       "      <td>0</td>\n",
       "      <td>21.666667</td>\n",
       "      <td>...</td>\n",
       "      <td>0</td>\n",
       "      <td>0</td>\n",
       "      <td>0</td>\n",
       "      <td>4</td>\n",
       "      <td>Southpaw</td>\n",
       "      <td>167.64</td>\n",
       "      <td>167.64</td>\n",
       "      <td>155.0</td>\n",
       "      <td>30.0</td>\n",
       "      <td>35.0</td>\n",
       "    </tr>\n",
       "    <tr>\n",
       "      <th>29</th>\n",
       "      <td>Charles Oliveira</td>\n",
       "      <td>Nik Lentz</td>\n",
       "      <td>1</td>\n",
       "      <td>0</td>\n",
       "      <td>Lightweight</td>\n",
       "      <td>3</td>\n",
       "      <td>0</td>\n",
       "      <td>2</td>\n",
       "      <td>0</td>\n",
       "      <td>13.181818</td>\n",
       "      <td>...</td>\n",
       "      <td>0</td>\n",
       "      <td>13</td>\n",
       "      <td>0</td>\n",
       "      <td>14</td>\n",
       "      <td>Orthodox</td>\n",
       "      <td>177.80</td>\n",
       "      <td>187.96</td>\n",
       "      <td>155.0</td>\n",
       "      <td>34.0</td>\n",
       "      <td>29.0</td>\n",
       "    </tr>\n",
       "  </tbody>\n",
       "</table>\n",
       "<p>5 rows × 142 columns</p>\n",
       "</div>"
      ],
      "text/plain": [
       "           R_fighter        B_fighter  Winner  title_bout weight_class  \\\n",
       "2      Tony Ferguson   Donald Cerrone       1           0  Lightweight   \n",
       "16    Damir Hadzovic  Christos Giagos       0           0  Lightweight   \n",
       "20        Stevie Ray  Leonardo Santos       0           0  Lightweight   \n",
       "21         Nick Hein    Frank Camacho       0           0  Lightweight   \n",
       "29  Charles Oliveira        Nik Lentz       1           0  Lightweight   \n",
       "\n",
       "    no_of_rounds  B_current_lose_streak  B_current_win_streak  B_draw  \\\n",
       "2              3                      0                     3       0   \n",
       "16             3                      0                     1       0   \n",
       "20             3                      0                     4       0   \n",
       "21             3                      2                     0       0   \n",
       "29             3                      0                     2       0   \n",
       "\n",
       "    B_avg_BODY_att  ...    R_win_by_KO/TKO  R_win_by_Submission  \\\n",
       "2        15.354839  ...                  3                    6   \n",
       "16        7.000000  ...                  2                    0   \n",
       "20        9.666667  ...                  2                    0   \n",
       "21       21.666667  ...                  0                    0   \n",
       "29       13.181818  ...                  0                   13   \n",
       "\n",
       "    R_win_by_TKO_Doctor_Stoppage  R_wins  R_Stance  R_Height_cms  R_Reach_cms  \\\n",
       "2                              1      14  Orthodox        180.34       193.04   \n",
       "16                             0       3  Orthodox        175.26       177.80   \n",
       "20                             0       6  Southpaw        177.80       177.80   \n",
       "21                             0       4  Southpaw        167.64       167.64   \n",
       "29                             0      14  Orthodox        177.80       187.96   \n",
       "\n",
       "    R_Weight_lbs  B_age  R_age  \n",
       "2          155.0   36.0   35.0  \n",
       "16         155.0   29.0   32.0  \n",
       "20         155.0   39.0   29.0  \n",
       "21         155.0   30.0   35.0  \n",
       "29         155.0   34.0   29.0  \n",
       "\n",
       "[5 rows x 142 columns]"
      ]
     },
     "execution_count": 9,
     "metadata": {},
     "output_type": "execute_result"
    }
   ],
   "source": [
    "data_heavy_util.head()"
   ]
  },
  {
   "cell_type": "code",
   "execution_count": 10,
   "metadata": {},
   "outputs": [],
   "source": [
    "colunas = list(data_heavy_util)"
   ]
  },
  {
   "cell_type": "code",
   "execution_count": 11,
   "metadata": {},
   "outputs": [],
   "source": [
    "colunas.remove('R_fighter')\n",
    "colunas.remove('B_fighter')\n",
    "colunas.remove('title_bout')\n",
    "colunas.remove('weight_class')\n",
    "colunas.remove('no_of_rounds')\n",
    "colunas.remove('B_total_rounds_fought')\n",
    "colunas.remove('R_total_rounds_fought')"
   ]
  },
  {
   "cell_type": "code",
   "execution_count": 12,
   "metadata": {},
   "outputs": [
    {
     "data": {
      "text/html": [
       "<div>\n",
       "<style scoped>\n",
       "    .dataframe tbody tr th:only-of-type {\n",
       "        vertical-align: middle;\n",
       "    }\n",
       "\n",
       "    .dataframe tbody tr th {\n",
       "        vertical-align: top;\n",
       "    }\n",
       "\n",
       "    .dataframe thead th {\n",
       "        text-align: right;\n",
       "    }\n",
       "</style>\n",
       "<table border=\"1\" class=\"dataframe\">\n",
       "  <thead>\n",
       "    <tr style=\"text-align: right;\">\n",
       "      <th></th>\n",
       "      <th>Winner</th>\n",
       "      <th>B_current_lose_streak</th>\n",
       "      <th>B_current_win_streak</th>\n",
       "      <th>B_draw</th>\n",
       "      <th>B_avg_BODY_att</th>\n",
       "      <th>B_avg_BODY_landed</th>\n",
       "      <th>B_avg_CLINCH_att</th>\n",
       "      <th>B_avg_CLINCH_landed</th>\n",
       "      <th>B_avg_DISTANCE_att</th>\n",
       "      <th>B_avg_DISTANCE_landed</th>\n",
       "      <th>...</th>\n",
       "      <th>R_win_by_KO/TKO</th>\n",
       "      <th>R_win_by_Submission</th>\n",
       "      <th>R_win_by_TKO_Doctor_Stoppage</th>\n",
       "      <th>R_wins</th>\n",
       "      <th>R_Stance</th>\n",
       "      <th>R_Height_cms</th>\n",
       "      <th>R_Reach_cms</th>\n",
       "      <th>R_Weight_lbs</th>\n",
       "      <th>B_age</th>\n",
       "      <th>R_age</th>\n",
       "    </tr>\n",
       "  </thead>\n",
       "  <tbody>\n",
       "    <tr>\n",
       "      <th>2</th>\n",
       "      <td>1</td>\n",
       "      <td>0</td>\n",
       "      <td>3</td>\n",
       "      <td>0</td>\n",
       "      <td>15.354839</td>\n",
       "      <td>11.322581</td>\n",
       "      <td>6.741935</td>\n",
       "      <td>4.387097</td>\n",
       "      <td>84.741935</td>\n",
       "      <td>38.580645</td>\n",
       "      <td>...</td>\n",
       "      <td>3</td>\n",
       "      <td>6</td>\n",
       "      <td>1</td>\n",
       "      <td>14</td>\n",
       "      <td>Orthodox</td>\n",
       "      <td>180.34</td>\n",
       "      <td>193.04</td>\n",
       "      <td>155.0</td>\n",
       "      <td>36.0</td>\n",
       "      <td>35.0</td>\n",
       "    </tr>\n",
       "    <tr>\n",
       "      <th>16</th>\n",
       "      <td>0</td>\n",
       "      <td>0</td>\n",
       "      <td>1</td>\n",
       "      <td>0</td>\n",
       "      <td>7.000000</td>\n",
       "      <td>4.200000</td>\n",
       "      <td>4.600000</td>\n",
       "      <td>2.600000</td>\n",
       "      <td>42.800000</td>\n",
       "      <td>11.000000</td>\n",
       "      <td>...</td>\n",
       "      <td>2</td>\n",
       "      <td>0</td>\n",
       "      <td>0</td>\n",
       "      <td>3</td>\n",
       "      <td>Orthodox</td>\n",
       "      <td>175.26</td>\n",
       "      <td>177.80</td>\n",
       "      <td>155.0</td>\n",
       "      <td>29.0</td>\n",
       "      <td>32.0</td>\n",
       "    </tr>\n",
       "    <tr>\n",
       "      <th>20</th>\n",
       "      <td>0</td>\n",
       "      <td>0</td>\n",
       "      <td>4</td>\n",
       "      <td>0</td>\n",
       "      <td>9.666667</td>\n",
       "      <td>5.166667</td>\n",
       "      <td>2.000000</td>\n",
       "      <td>1.000000</td>\n",
       "      <td>53.833333</td>\n",
       "      <td>18.833333</td>\n",
       "      <td>...</td>\n",
       "      <td>2</td>\n",
       "      <td>0</td>\n",
       "      <td>0</td>\n",
       "      <td>6</td>\n",
       "      <td>Southpaw</td>\n",
       "      <td>177.80</td>\n",
       "      <td>177.80</td>\n",
       "      <td>155.0</td>\n",
       "      <td>39.0</td>\n",
       "      <td>29.0</td>\n",
       "    </tr>\n",
       "    <tr>\n",
       "      <th>21</th>\n",
       "      <td>0</td>\n",
       "      <td>2</td>\n",
       "      <td>0</td>\n",
       "      <td>0</td>\n",
       "      <td>21.666667</td>\n",
       "      <td>17.666667</td>\n",
       "      <td>13.333333</td>\n",
       "      <td>10.333333</td>\n",
       "      <td>177.333333</td>\n",
       "      <td>84.000000</td>\n",
       "      <td>...</td>\n",
       "      <td>0</td>\n",
       "      <td>0</td>\n",
       "      <td>0</td>\n",
       "      <td>4</td>\n",
       "      <td>Southpaw</td>\n",
       "      <td>167.64</td>\n",
       "      <td>167.64</td>\n",
       "      <td>155.0</td>\n",
       "      <td>30.0</td>\n",
       "      <td>35.0</td>\n",
       "    </tr>\n",
       "    <tr>\n",
       "      <th>29</th>\n",
       "      <td>1</td>\n",
       "      <td>0</td>\n",
       "      <td>2</td>\n",
       "      <td>0</td>\n",
       "      <td>13.181818</td>\n",
       "      <td>10.590909</td>\n",
       "      <td>13.227273</td>\n",
       "      <td>8.863636</td>\n",
       "      <td>62.045455</td>\n",
       "      <td>25.545455</td>\n",
       "      <td>...</td>\n",
       "      <td>0</td>\n",
       "      <td>13</td>\n",
       "      <td>0</td>\n",
       "      <td>14</td>\n",
       "      <td>Orthodox</td>\n",
       "      <td>177.80</td>\n",
       "      <td>187.96</td>\n",
       "      <td>155.0</td>\n",
       "      <td>34.0</td>\n",
       "      <td>29.0</td>\n",
       "    </tr>\n",
       "  </tbody>\n",
       "</table>\n",
       "<p>5 rows × 135 columns</p>\n",
       "</div>"
      ],
      "text/plain": [
       "    Winner  B_current_lose_streak  B_current_win_streak  B_draw  \\\n",
       "2        1                      0                     3       0   \n",
       "16       0                      0                     1       0   \n",
       "20       0                      0                     4       0   \n",
       "21       0                      2                     0       0   \n",
       "29       1                      0                     2       0   \n",
       "\n",
       "    B_avg_BODY_att  B_avg_BODY_landed  B_avg_CLINCH_att  B_avg_CLINCH_landed  \\\n",
       "2        15.354839          11.322581          6.741935             4.387097   \n",
       "16        7.000000           4.200000          4.600000             2.600000   \n",
       "20        9.666667           5.166667          2.000000             1.000000   \n",
       "21       21.666667          17.666667         13.333333            10.333333   \n",
       "29       13.181818          10.590909         13.227273             8.863636   \n",
       "\n",
       "    B_avg_DISTANCE_att  B_avg_DISTANCE_landed  ...    R_win_by_KO/TKO  \\\n",
       "2            84.741935              38.580645  ...                  3   \n",
       "16           42.800000              11.000000  ...                  2   \n",
       "20           53.833333              18.833333  ...                  2   \n",
       "21          177.333333              84.000000  ...                  0   \n",
       "29           62.045455              25.545455  ...                  0   \n",
       "\n",
       "    R_win_by_Submission  R_win_by_TKO_Doctor_Stoppage  R_wins  R_Stance  \\\n",
       "2                     6                             1      14  Orthodox   \n",
       "16                    0                             0       3  Orthodox   \n",
       "20                    0                             0       6  Southpaw   \n",
       "21                    0                             0       4  Southpaw   \n",
       "29                   13                             0      14  Orthodox   \n",
       "\n",
       "    R_Height_cms  R_Reach_cms  R_Weight_lbs  B_age  R_age  \n",
       "2         180.34       193.04         155.0   36.0   35.0  \n",
       "16        175.26       177.80         155.0   29.0   32.0  \n",
       "20        177.80       177.80         155.0   39.0   29.0  \n",
       "21        167.64       167.64         155.0   30.0   35.0  \n",
       "29        177.80       187.96         155.0   34.0   29.0  \n",
       "\n",
       "[5 rows x 135 columns]"
      ]
     },
     "execution_count": 12,
     "metadata": {},
     "output_type": "execute_result"
    }
   ],
   "source": [
    "dataf = data_heavy_util.loc[:,colunas]\n",
    "dataf.head()"
   ]
  },
  {
   "cell_type": "markdown",
   "metadata": {},
   "source": [
    "### Correlações"
   ]
  },
  {
   "cell_type": "code",
   "execution_count": 13,
   "metadata": {},
   "outputs": [],
   "source": [
    "data_heavy_blue_winners = data_heavy.loc[(data_heavy.Winner==0),:]\n",
    "data_heavy_blue_winners = data_heavy_blue_winners.drop(['Winner'], axis=1)\n",
    "data_heavy_red_winners = data_heavy.loc[(data_heavy.Winner==1),:]\n",
    "data_heavy_red_winners = data_heavy_red_winners.drop(['Winner'], axis=1)"
   ]
  },
  {
   "cell_type": "code",
   "execution_count": 14,
   "metadata": {},
   "outputs": [
    {
     "data": {
      "text/html": [
       "<div>\n",
       "<style scoped>\n",
       "    .dataframe tbody tr th:only-of-type {\n",
       "        vertical-align: middle;\n",
       "    }\n",
       "\n",
       "    .dataframe tbody tr th {\n",
       "        vertical-align: top;\n",
       "    }\n",
       "\n",
       "    .dataframe thead th {\n",
       "        text-align: right;\n",
       "    }\n",
       "</style>\n",
       "<table border=\"1\" class=\"dataframe\">\n",
       "  <thead>\n",
       "    <tr style=\"text-align: right;\">\n",
       "      <th></th>\n",
       "      <th>date</th>\n",
       "      <th>title_bout</th>\n",
       "      <th>no_of_rounds</th>\n",
       "      <th>B_current_lose_streak</th>\n",
       "      <th>B_current_win_streak</th>\n",
       "      <th>B_draw</th>\n",
       "      <th>B_avg_BODY_att</th>\n",
       "      <th>B_avg_BODY_landed</th>\n",
       "      <th>B_avg_CLINCH_att</th>\n",
       "      <th>B_avg_CLINCH_landed</th>\n",
       "      <th>...</th>\n",
       "      <th>R_win_by_Decision_Unanimous</th>\n",
       "      <th>R_win_by_KO/TKO</th>\n",
       "      <th>R_win_by_Submission</th>\n",
       "      <th>R_win_by_TKO_Doctor_Stoppage</th>\n",
       "      <th>R_wins</th>\n",
       "      <th>R_Height_cms</th>\n",
       "      <th>R_Reach_cms</th>\n",
       "      <th>R_Weight_lbs</th>\n",
       "      <th>B_age</th>\n",
       "      <th>R_age</th>\n",
       "    </tr>\n",
       "  </thead>\n",
       "  <tbody>\n",
       "    <tr>\n",
       "      <th>date</th>\n",
       "      <td>1.000000</td>\n",
       "      <td>-0.017063</td>\n",
       "      <td>0.133452</td>\n",
       "      <td>0.134075</td>\n",
       "      <td>0.030633</td>\n",
       "      <td>NaN</td>\n",
       "      <td>0.064656</td>\n",
       "      <td>0.033407</td>\n",
       "      <td>-0.044410</td>\n",
       "      <td>-0.013271</td>\n",
       "      <td>...</td>\n",
       "      <td>0.103545</td>\n",
       "      <td>0.186643</td>\n",
       "      <td>0.017163</td>\n",
       "      <td>0.057950</td>\n",
       "      <td>0.157698</td>\n",
       "      <td>0.079028</td>\n",
       "      <td>-0.033772</td>\n",
       "      <td>0.179620</td>\n",
       "      <td>0.299697</td>\n",
       "      <td>0.233073</td>\n",
       "    </tr>\n",
       "    <tr>\n",
       "      <th>title_bout</th>\n",
       "      <td>-0.017063</td>\n",
       "      <td>1.000000</td>\n",
       "      <td>0.569244</td>\n",
       "      <td>-0.118739</td>\n",
       "      <td>0.121773</td>\n",
       "      <td>NaN</td>\n",
       "      <td>0.031181</td>\n",
       "      <td>0.036265</td>\n",
       "      <td>0.109884</td>\n",
       "      <td>0.102218</td>\n",
       "      <td>...</td>\n",
       "      <td>0.067474</td>\n",
       "      <td>0.115826</td>\n",
       "      <td>-0.001662</td>\n",
       "      <td>0.051952</td>\n",
       "      <td>0.077464</td>\n",
       "      <td>-0.013792</td>\n",
       "      <td>-0.114154</td>\n",
       "      <td>0.029612</td>\n",
       "      <td>-0.006608</td>\n",
       "      <td>-0.041315</td>\n",
       "    </tr>\n",
       "  </tbody>\n",
       "</table>\n",
       "<p>2 rows × 137 columns</p>\n",
       "</div>"
      ],
      "text/plain": [
       "                date  title_bout  no_of_rounds  B_current_lose_streak  \\\n",
       "date        1.000000   -0.017063      0.133452               0.134075   \n",
       "title_bout -0.017063    1.000000      0.569244              -0.118739   \n",
       "\n",
       "            B_current_win_streak  B_draw  B_avg_BODY_att  B_avg_BODY_landed  \\\n",
       "date                    0.030633     NaN        0.064656           0.033407   \n",
       "title_bout              0.121773     NaN        0.031181           0.036265   \n",
       "\n",
       "            B_avg_CLINCH_att  B_avg_CLINCH_landed    ...     \\\n",
       "date               -0.044410            -0.013271    ...      \n",
       "title_bout          0.109884             0.102218    ...      \n",
       "\n",
       "            R_win_by_Decision_Unanimous  R_win_by_KO/TKO  R_win_by_Submission  \\\n",
       "date                           0.103545         0.186643             0.017163   \n",
       "title_bout                     0.067474         0.115826            -0.001662   \n",
       "\n",
       "            R_win_by_TKO_Doctor_Stoppage    R_wins  R_Height_cms  R_Reach_cms  \\\n",
       "date                            0.057950  0.157698      0.079028    -0.033772   \n",
       "title_bout                      0.051952  0.077464     -0.013792    -0.114154   \n",
       "\n",
       "            R_Weight_lbs     B_age     R_age  \n",
       "date            0.179620  0.299697  0.233073  \n",
       "title_bout      0.029612 -0.006608 -0.041315  \n",
       "\n",
       "[2 rows x 137 columns]"
      ]
     },
     "execution_count": 14,
     "metadata": {},
     "output_type": "execute_result"
    }
   ],
   "source": [
    "blue_winners_correlation = data_heavy_blue_winners.corr()\n",
    "blue_winners_correlation.head(2)"
   ]
  },
  {
   "cell_type": "markdown",
   "metadata": {},
   "source": [
    "### Aplicando filtros"
   ]
  },
  {
   "cell_type": "markdown",
   "metadata": {},
   "source": [
    "### Modelo inicial"
   ]
  },
  {
   "cell_type": "markdown",
   "metadata": {},
   "source": [
    "Separando em categóricos"
   ]
  },
  {
   "cell_type": "code",
   "execution_count": 15,
   "metadata": {},
   "outputs": [],
   "source": [
    "categoricas = [\n",
    "    'R_fighter', \n",
    "    'B_fighter', \n",
    "    'weight_class', \n",
    "    'R_Stance', \n",
    "    'B_Stance', \n",
    "]\n",
    "\n",
    "data_heavy_cat = data_heavy_util[categoricas].astype('category')\n",
    "data_heavy_num = data_heavy_util.drop(categoricas, axis=1).astype('float')"
   ]
  },
  {
   "cell_type": "code",
   "execution_count": 59,
   "metadata": {},
   "outputs": [],
   "source": [
    "X = data_heavy_num.drop('Winner', axis=1)\n",
    "y = data_heavy_num['Winner']"
   ]
  },
  {
   "cell_type": "markdown",
   "metadata": {},
   "source": [
    "Separando os dados em testes e treinamento"
   ]
  },
  {
   "cell_type": "code",
   "execution_count": 60,
   "metadata": {},
   "outputs": [],
   "source": [
    "X_train, X_test, y_train, y_test = train_test_split(X, y, test_size=0.25)"
   ]
  },
  {
   "cell_type": "code",
   "execution_count": 61,
   "metadata": {},
   "outputs": [
    {
     "data": {
      "text/plain": [
       "RandomForestClassifier(bootstrap=True, class_weight=None, criterion='gini',\n",
       "            max_depth=None, max_features='auto', max_leaf_nodes=None,\n",
       "            min_impurity_decrease=0.0, min_impurity_split=None,\n",
       "            min_samples_leaf=1, min_samples_split=2,\n",
       "            min_weight_fraction_leaf=0.0, n_estimators=100000, n_jobs=None,\n",
       "            oob_score=False, random_state=None, verbose=0,\n",
       "            warm_start=False)"
      ]
     },
     "execution_count": 61,
     "metadata": {},
     "output_type": "execute_result"
    }
   ],
   "source": [
    "model = RandomForestClassifier(n_estimators=100000)\n",
    "\n",
    "model.fit(X_train, y_train)"
   ]
  },
  {
   "cell_type": "code",
   "execution_count": 62,
   "metadata": {},
   "outputs": [],
   "source": [
    "y_pred = model.predict(X_test)"
   ]
  },
  {
   "cell_type": "code",
   "execution_count": 63,
   "metadata": {},
   "outputs": [
    {
     "name": "stdout",
     "output_type": "stream",
     "text": [
      "0.6289308176100629\n"
     ]
    }
   ],
   "source": [
    "print(accuracy_score(y_test, y_pred))"
   ]
  },
  {
   "cell_type": "code",
   "execution_count": 64,
   "metadata": {},
   "outputs": [
    {
     "name": "stdout",
     "output_type": "stream",
     "text": [
      "1 °: R_avg_opp_LEG_att: 0.05992392646561519\n",
      "2 °: R_avg_DISTANCE_landed: 0.05866009437660842\n",
      "3 °: R_avg_opp_DISTANCE_landed: 0.0581659284927767\n",
      "4 °: R_avg_DISTANCE_att: 0.058045170366822614\n",
      "5 °: R_avg_opp_BODY_att: 0.0547777207997643\n",
      "6 °: B_avg_opp_TOTAL_STR_landed: 0.054686819705056205\n",
      "7 °: R_avg_opp_DISTANCE_att: 0.05439391031023379\n",
      "8 °: R_avg_opp_TD_pct: 0.05369643578304771\n",
      "9 °: R_avg_BODY_att: 0.05345671767804938\n",
      "10 °: B_avg_SIG_STR_att: 0.05302438443988727\n",
      "11 °: R_avg_opp_LEG_landed: 0.051885147044335916\n",
      "12 °: B_avg_HEAD_att: 0.050744289321898825\n",
      "13 °: R_avg_opp_SIG_STR_att: 0.05039132198155759\n",
      "14 °: R_avg_opp_SIG_STR_landed: 0.049610148947146174\n",
      "15 °: R_total_rounds_fought: 0.04942916689526611\n",
      "16 °: R_age: 0.04909303353319434\n",
      "17 °: B_avg_BODY_att: 0.04753580703237445\n",
      "18 °: B_avg_opp_HEAD_landed: 0.04636638477054995\n",
      "19 °: B_avg_opp_SUB_ATT: 0.046113592055816326\n"
     ]
    }
   ],
   "source": [
    "#Fatores que tem o maior peso na decisão da vitória\n",
    "j=1\n",
    "lista_j=list()\n",
    "for i, f in sorted(list(zip(model.feature_importances_, X_train.columns)), reverse=True):\n",
    "    print( j,'°:',f'{f}: {i}')\n",
    "    a=str(j)+'°'\n",
    "    lista_j.append(a)\n",
    "    j+=1"
   ]
  },
  {
   "cell_type": "code",
   "execution_count": 65,
   "metadata": {},
   "outputs": [
    {
     "data": {
      "text/html": [
       "<div>\n",
       "<style scoped>\n",
       "    .dataframe tbody tr th:only-of-type {\n",
       "        vertical-align: middle;\n",
       "    }\n",
       "\n",
       "    .dataframe tbody tr th {\n",
       "        vertical-align: top;\n",
       "    }\n",
       "\n",
       "    .dataframe thead th {\n",
       "        text-align: right;\n",
       "    }\n",
       "</style>\n",
       "<table border=\"1\" class=\"dataframe\">\n",
       "  <thead>\n",
       "    <tr style=\"text-align: right;\">\n",
       "      <th></th>\n",
       "      <th>Fator</th>\n",
       "      <th>Correlação</th>\n",
       "    </tr>\n",
       "    <tr>\n",
       "      <th>Grau de Importância</th>\n",
       "      <th></th>\n",
       "      <th></th>\n",
       "    </tr>\n",
       "  </thead>\n",
       "  <tbody>\n",
       "    <tr>\n",
       "      <th>1°</th>\n",
       "      <td>R_avg_opp_LEG_att</td>\n",
       "      <td>0.059924</td>\n",
       "    </tr>\n",
       "    <tr>\n",
       "      <th>2°</th>\n",
       "      <td>R_avg_DISTANCE_landed</td>\n",
       "      <td>0.058660</td>\n",
       "    </tr>\n",
       "    <tr>\n",
       "      <th>3°</th>\n",
       "      <td>R_avg_opp_DISTANCE_landed</td>\n",
       "      <td>0.058166</td>\n",
       "    </tr>\n",
       "  </tbody>\n",
       "</table>\n",
       "</div>"
      ],
      "text/plain": [
       "                                         Fator  Correlação\n",
       "Grau de Importância                                       \n",
       "1°                           R_avg_opp_LEG_att    0.059924\n",
       "2°                       R_avg_DISTANCE_landed    0.058660\n",
       "3°                   R_avg_opp_DISTANCE_landed    0.058166"
      ]
     },
     "execution_count": 65,
     "metadata": {},
     "output_type": "execute_result"
    }
   ],
   "source": [
    "data1={'Fator':X_train.columns ,'Correlação':model.feature_importances_,}\n",
    "Fator_por_corr=pd.DataFrame(data1)\n",
    "Fator_por_corr=Fator_por_corr.sort_values(by='Correlação', ascending=False)\n",
    "Fator_por_corr['Grau de Importância']=lista_j\n",
    "Fator_por_corr = Fator_por_corr.set_index('Grau de Importância')\n",
    "Fator_por_corr.head(3)"
   ]
  },
  {
   "cell_type": "code",
   "execution_count": 25,
   "metadata": {},
   "outputs": [
    {
     "data": {
      "text/plain": [
       "Index(['1°', '2°', '3°', '4°', '5°', '6°', '7°', '8°', '9°', '10°',\n",
       "       ...\n",
       "       '127°', '128°', '129°', '130°', '131°', '132°', '133°', '134°', '135°',\n",
       "       '136°'],\n",
       "      dtype='object', name='Grau de Importância', length=136)"
      ]
     },
     "execution_count": 25,
     "metadata": {},
     "output_type": "execute_result"
    }
   ],
   "source": [
    "Fator_por_corr.index"
   ]
  },
  {
   "cell_type": "code",
   "execution_count": 69,
   "metadata": {
    "scrolled": true
   },
   "outputs": [
    {
     "data": {
      "text/plain": [
       "<matplotlib.collections.PathCollection at 0x115a3f0c3c8>"
      ]
     },
     "execution_count": 69,
     "metadata": {},
     "output_type": "execute_result"
    },
    {
     "data": {
      "image/png": "[encoded data removed]",
      "text/plain": [
       "<Figure size 432x288 with 1 Axes>"
      ]
     },
     "metadata": {
      "needs_background": "light"
     },
     "output_type": "display_data"
    }
   ],
   "source": [
    "plt.title('Correlation between the columns and the Winner column')\n",
    "plt.scatter(Fator_por_corr.index,Fator_por_corr.Correlação)"
   ]
  },
  {
   "cell_type": "code",
   "execution_count": 70,
   "metadata": {},
   "outputs": [],
   "source": [
    "def relevancia(df,coluna_nome,coluna_correlacao,acuracia):\n",
    "    inuteis = ['Winner']\n",
    "    uteis = ['Winner']\n",
    "    for index,row in df.iterrows():\n",
    "        if row[coluna_correlacao] >= -acuracia and row[coluna_correlacao] <= acuracia:\n",
    "            inuteis.append(row[coluna_nome])\n",
    "        else:\n",
    "            uteis.append(row[coluna_nome])\n",
    "    return uteis"
   ]
  },
  {
   "cell_type": "code",
   "execution_count": 71,
   "metadata": {},
   "outputs": [],
   "source": [
    "#def nome_e_vencedor(lista):\n",
    "    #nova_lista = lista.append('R_fighter')\n",
    "    #nova_lista = lista.append('B_fighter')\n",
    "    #nova_lista = lista.append('Winner')\n",
    "    #return nova_lista"
   ]
  },
  {
   "cell_type": "code",
   "execution_count": 72,
   "metadata": {},
   "outputs": [],
   "source": [
    "uteis = relevancia(Fator_por_corr,'Fator','Correlação',0.01)"
   ]
  },
  {
   "cell_type": "code",
   "execution_count": 73,
   "metadata": {},
   "outputs": [],
   "source": [
    "#tirando empates\n",
    "data_heavy_util_relevante = data_heavy_util[data_heavy_util.Winner != 2]"
   ]
  },
  {
   "cell_type": "code",
   "execution_count": 74,
   "metadata": {},
   "outputs": [],
   "source": [
    "data_heavy_util_relevante = data_heavy_util_relevante.loc[:,uteis]"
   ]
  },
  {
   "cell_type": "code",
   "execution_count": 75,
   "metadata": {
    "scrolled": true
   },
   "outputs": [
    {
     "data": {
      "text/html": [
       "<div>\n",
       "<style scoped>\n",
       "    .dataframe tbody tr th:only-of-type {\n",
       "        vertical-align: middle;\n",
       "    }\n",
       "\n",
       "    .dataframe tbody tr th {\n",
       "        vertical-align: top;\n",
       "    }\n",
       "\n",
       "    .dataframe thead th {\n",
       "        text-align: right;\n",
       "    }\n",
       "</style>\n",
       "<table border=\"1\" class=\"dataframe\">\n",
       "  <thead>\n",
       "    <tr style=\"text-align: right;\">\n",
       "      <th></th>\n",
       "      <th>Winner</th>\n",
       "      <th>R_avg_opp_LEG_att</th>\n",
       "      <th>R_avg_DISTANCE_landed</th>\n",
       "      <th>R_avg_opp_DISTANCE_landed</th>\n",
       "      <th>R_avg_DISTANCE_att</th>\n",
       "      <th>R_avg_opp_BODY_att</th>\n",
       "      <th>B_avg_opp_TOTAL_STR_landed</th>\n",
       "      <th>R_avg_opp_DISTANCE_att</th>\n",
       "      <th>R_avg_opp_TD_pct</th>\n",
       "      <th>R_avg_BODY_att</th>\n",
       "      <th>B_avg_SIG_STR_att</th>\n",
       "      <th>R_avg_opp_LEG_landed</th>\n",
       "      <th>B_avg_HEAD_att</th>\n",
       "      <th>R_avg_opp_SIG_STR_att</th>\n",
       "      <th>R_avg_opp_SIG_STR_landed</th>\n",
       "      <th>R_total_rounds_fought</th>\n",
       "      <th>R_age</th>\n",
       "      <th>B_avg_BODY_att</th>\n",
       "      <th>B_avg_opp_HEAD_landed</th>\n",
       "      <th>B_avg_opp_SUB_ATT</th>\n",
       "    </tr>\n",
       "  </thead>\n",
       "  <tbody>\n",
       "    <tr>\n",
       "      <th>2</th>\n",
       "      <td>1</td>\n",
       "      <td>6.000000</td>\n",
       "      <td>49.466667</td>\n",
       "      <td>32.200000</td>\n",
       "      <td>116.133333</td>\n",
       "      <td>14.466667</td>\n",
       "      <td>49.774194</td>\n",
       "      <td>91.066667</td>\n",
       "      <td>0.131333</td>\n",
       "      <td>13.866667</td>\n",
       "      <td>97.000000</td>\n",
       "      <td>4.400000</td>\n",
       "      <td>67.645161</td>\n",
       "      <td>98.733333</td>\n",
       "      <td>35.733333</td>\n",
       "      <td>33</td>\n",
       "      <td>35.0</td>\n",
       "      <td>15.354839</td>\n",
       "      <td>25.483871</td>\n",
       "      <td>0.096774</td>\n",
       "    </tr>\n",
       "    <tr>\n",
       "      <th>16</th>\n",
       "      <td>0</td>\n",
       "      <td>4.000000</td>\n",
       "      <td>25.400000</td>\n",
       "      <td>22.600000</td>\n",
       "      <td>60.000000</td>\n",
       "      <td>7.400000</td>\n",
       "      <td>31.800000</td>\n",
       "      <td>84.400000</td>\n",
       "      <td>0.320000</td>\n",
       "      <td>9.000000</td>\n",
       "      <td>60.200000</td>\n",
       "      <td>3.800000</td>\n",
       "      <td>52.200000</td>\n",
       "      <td>95.000000</td>\n",
       "      <td>30.200000</td>\n",
       "      <td>12</td>\n",
       "      <td>32.0</td>\n",
       "      <td>7.000000</td>\n",
       "      <td>9.400000</td>\n",
       "      <td>0.800000</td>\n",
       "    </tr>\n",
       "    <tr>\n",
       "      <th>20</th>\n",
       "      <td>0</td>\n",
       "      <td>6.111111</td>\n",
       "      <td>29.888889</td>\n",
       "      <td>22.111111</td>\n",
       "      <td>74.888889</td>\n",
       "      <td>11.222222</td>\n",
       "      <td>47.000000</td>\n",
       "      <td>54.888889</td>\n",
       "      <td>0.203333</td>\n",
       "      <td>8.000000</td>\n",
       "      <td>62.333333</td>\n",
       "      <td>5.333333</td>\n",
       "      <td>46.666667</td>\n",
       "      <td>65.666667</td>\n",
       "      <td>29.222222</td>\n",
       "      <td>22</td>\n",
       "      <td>29.0</td>\n",
       "      <td>9.666667</td>\n",
       "      <td>15.166667</td>\n",
       "      <td>0.000000</td>\n",
       "    </tr>\n",
       "    <tr>\n",
       "      <th>21</th>\n",
       "      <td>0</td>\n",
       "      <td>7.142857</td>\n",
       "      <td>32.714286</td>\n",
       "      <td>36.285714</td>\n",
       "      <td>98.000000</td>\n",
       "      <td>13.142857</td>\n",
       "      <td>112.666667</td>\n",
       "      <td>101.285714</td>\n",
       "      <td>0.178571</td>\n",
       "      <td>10.428571</td>\n",
       "      <td>193.000000</td>\n",
       "      <td>5.571429</td>\n",
       "      <td>170.333333</td>\n",
       "      <td>105.142857</td>\n",
       "      <td>39.428571</td>\n",
       "      <td>19</td>\n",
       "      <td>35.0</td>\n",
       "      <td>21.666667</td>\n",
       "      <td>74.666667</td>\n",
       "      <td>0.333333</td>\n",
       "    </tr>\n",
       "    <tr>\n",
       "      <th>29</th>\n",
       "      <td>1</td>\n",
       "      <td>2.826087</td>\n",
       "      <td>12.000000</td>\n",
       "      <td>13.217391</td>\n",
       "      <td>29.434783</td>\n",
       "      <td>6.434783</td>\n",
       "      <td>59.863636</td>\n",
       "      <td>32.826087</td>\n",
       "      <td>0.244783</td>\n",
       "      <td>8.608696</td>\n",
       "      <td>87.227273</td>\n",
       "      <td>2.043478</td>\n",
       "      <td>66.136364</td>\n",
       "      <td>43.956522</td>\n",
       "      <td>20.260870</td>\n",
       "      <td>42</td>\n",
       "      <td>29.0</td>\n",
       "      <td>13.181818</td>\n",
       "      <td>27.772727</td>\n",
       "      <td>0.636364</td>\n",
       "    </tr>\n",
       "  </tbody>\n",
       "</table>\n",
       "</div>"
      ],
      "text/plain": [
       "    Winner  R_avg_opp_LEG_att  R_avg_DISTANCE_landed  \\\n",
       "2        1           6.000000              49.466667   \n",
       "16       0           4.000000              25.400000   \n",
       "20       0           6.111111              29.888889   \n",
       "21       0           7.142857              32.714286   \n",
       "29       1           2.826087              12.000000   \n",
       "\n",
       "    R_avg_opp_DISTANCE_landed  R_avg_DISTANCE_att  R_avg_opp_BODY_att  \\\n",
       "2                   32.200000          116.133333           14.466667   \n",
       "16                  22.600000           60.000000            7.400000   \n",
       "20                  22.111111           74.888889           11.222222   \n",
       "21                  36.285714           98.000000           13.142857   \n",
       "29                  13.217391           29.434783            6.434783   \n",
       "\n",
       "    B_avg_opp_TOTAL_STR_landed  R_avg_opp_DISTANCE_att  R_avg_opp_TD_pct  \\\n",
       "2                    49.774194               91.066667          0.131333   \n",
       "16                   31.800000               84.400000          0.320000   \n",
       "20                   47.000000               54.888889          0.203333   \n",
       "21                  112.666667              101.285714          0.178571   \n",
       "29                   59.863636               32.826087          0.244783   \n",
       "\n",
       "    R_avg_BODY_att  B_avg_SIG_STR_att  R_avg_opp_LEG_landed  B_avg_HEAD_att  \\\n",
       "2        13.866667          97.000000              4.400000       67.645161   \n",
       "16        9.000000          60.200000              3.800000       52.200000   \n",
       "20        8.000000          62.333333              5.333333       46.666667   \n",
       "21       10.428571         193.000000              5.571429      170.333333   \n",
       "29        8.608696          87.227273              2.043478       66.136364   \n",
       "\n",
       "    R_avg_opp_SIG_STR_att  R_avg_opp_SIG_STR_landed  R_total_rounds_fought  \\\n",
       "2               98.733333                 35.733333                     33   \n",
       "16              95.000000                 30.200000                     12   \n",
       "20              65.666667                 29.222222                     22   \n",
       "21             105.142857                 39.428571                     19   \n",
       "29              43.956522                 20.260870                     42   \n",
       "\n",
       "    R_age  B_avg_BODY_att  B_avg_opp_HEAD_landed  B_avg_opp_SUB_ATT  \n",
       "2    35.0       15.354839              25.483871           0.096774  \n",
       "16   32.0        7.000000               9.400000           0.800000  \n",
       "20   29.0        9.666667              15.166667           0.000000  \n",
       "21   35.0       21.666667              74.666667           0.333333  \n",
       "29   29.0       13.181818              27.772727           0.636364  "
      ]
     },
     "execution_count": 75,
     "metadata": {},
     "output_type": "execute_result"
    }
   ],
   "source": [
    "data_heavy_util_relevante.head()"
   ]
  },
  {
   "cell_type": "code",
   "execution_count": 76,
   "metadata": {
    "scrolled": true
   },
   "outputs": [
    {
     "data": {
      "text/plain": [
       "1    416\n",
       "0    220\n",
       "Name: Winner, dtype: int64"
      ]
     },
     "execution_count": 76,
     "metadata": {},
     "output_type": "execute_result"
    }
   ],
   "source": [
    "data_heavy_util_relevante.Winner.value_counts()"
   ]
  },
  {
   "cell_type": "markdown",
   "metadata": {},
   "source": [
    "### Random forest 2.0"
   ]
  },
  {
   "cell_type": "code",
   "execution_count": 77,
   "metadata": {},
   "outputs": [],
   "source": [
    "data_heavy_num = data_heavy_util_relevante.astype('float')"
   ]
  },
  {
   "cell_type": "code",
   "execution_count": 78,
   "metadata": {},
   "outputs": [],
   "source": [
    "X = data_heavy_num.drop('Winner', axis=1)\n",
    "y = data_heavy_num['Winner']"
   ]
  },
  {
   "cell_type": "code",
   "execution_count": 79,
   "metadata": {},
   "outputs": [],
   "source": [
    "X_train, X_test, y_train, y_test = train_test_split(X, y, test_size=0.25)"
   ]
  },
  {
   "cell_type": "code",
   "execution_count": 80,
   "metadata": {},
   "outputs": [
    {
     "data": {
      "text/plain": [
       "RandomForestClassifier(bootstrap=True, class_weight=None, criterion='gini',\n",
       "            max_depth=None, max_features='auto', max_leaf_nodes=None,\n",
       "            min_impurity_decrease=0.0, min_impurity_split=None,\n",
       "            min_samples_leaf=1, min_samples_split=2,\n",
       "            min_weight_fraction_leaf=0.0, n_estimators=10000, n_jobs=None,\n",
       "            oob_score=False, random_state=None, verbose=0,\n",
       "            warm_start=False)"
      ]
     },
     "execution_count": 80,
     "metadata": {},
     "output_type": "execute_result"
    }
   ],
   "source": [
    "model = RandomForestClassifier(n_estimators=10000)\n",
    "\n",
    "model.fit(X_train, y_train)"
   ]
  },
  {
   "cell_type": "code",
   "execution_count": 81,
   "metadata": {},
   "outputs": [],
   "source": [
    "y_pred = model.predict(X_test)"
   ]
  },
  {
   "cell_type": "code",
   "execution_count": 82,
   "metadata": {},
   "outputs": [
    {
     "name": "stdout",
     "output_type": "stream",
     "text": [
      "0.6163522012578616\n"
     ]
    }
   ],
   "source": [
    "print(accuracy_score(y_test, y_pred))"
   ]
  },
  {
   "cell_type": "markdown",
   "metadata": {},
   "source": [
    "### Regressão Logística"
   ]
  },
  {
   "cell_type": "code",
   "execution_count": 41,
   "metadata": {},
   "outputs": [],
   "source": [
    "def preparo(X,Y):\n",
    "    X_cp = sm.add_constant(X)\n",
    "    model = sm.OLS(Y,X_cp,missing='drop')\n",
    "    results = model.fit()\n",
    "    return results"
   ]
  },
  {
   "cell_type": "code",
   "execution_count": 42,
   "metadata": {},
   "outputs": [],
   "source": [
    "Y_log = data_heavy_util_relevante[\"Winner\"]\n",
    "data_heavy_sem_Winner=data_heavy_util_relevante.drop('Winner',axis=1) \n",
    "X_log=data_heavy_sem_Winner\n",
    "#np.asarray(X)"
   ]
  },
  {
   "cell_type": "code",
   "execution_count": 43,
   "metadata": {},
   "outputs": [],
   "source": [
    "X_train_log, X_test_log, y_train_log, y_test_log = train_test_split(X_log, Y_log, test_size=0.25)"
   ]
  },
  {
   "cell_type": "code",
   "execution_count": 44,
   "metadata": {},
   "outputs": [
    {
     "data": {
      "text/plain": [
       "LogisticRegression(C=1.0, class_weight=None, dual=False, fit_intercept=True,\n",
       "          intercept_scaling=1, max_iter=200000, multi_class='auto',\n",
       "          n_jobs=None, penalty='l2', random_state=None, solver='lbfgs',\n",
       "          tol=0.0001, verbose=0, warm_start=False)"
      ]
     },
     "execution_count": 44,
     "metadata": {},
     "output_type": "execute_result"
    }
   ],
   "source": [
    "model = LogisticRegression(max_iter=200000,solver='lbfgs', multi_class='auto')\n",
    "\n",
    "model.fit(X_train_log, y_train_log)"
   ]
  },
  {
   "cell_type": "code",
   "execution_count": 45,
   "metadata": {},
   "outputs": [],
   "source": [
    "y_pred_log = model.predict(X_test_log)"
   ]
  },
  {
   "cell_type": "code",
   "execution_count": 46,
   "metadata": {},
   "outputs": [
    {
     "name": "stdout",
     "output_type": "stream",
     "text": [
      "0.6918238993710691\n"
     ]
    }
   ],
   "source": [
    "print(accuracy_score(y_test_log, y_pred_log))"
   ]
  },
  {
   "cell_type": "code",
   "execution_count": 48,
   "metadata": {},
   "outputs": [
    {
     "data": {
      "text/html": [
       "<table class=\"simpletable\">\n",
       "<caption>OLS Regression Results</caption>\n",
       "<tr>\n",
       "  <th>Dep. Variable:</th>         <td>Winner</td>      <th>  R-squared:         </th> <td>   0.123</td>\n",
       "</tr>\n",
       "<tr>\n",
       "  <th>Model:</th>                   <td>OLS</td>       <th>  Adj. R-squared:    </th> <td>   0.096</td>\n",
       "</tr>\n",
       "<tr>\n",
       "  <th>Method:</th>             <td>Least Squares</td>  <th>  F-statistic:       </th> <td>   4.558</td>\n",
       "</tr>\n",
       "<tr>\n",
       "  <th>Date:</th>             <td>Thu, 21 Nov 2019</td> <th>  Prob (F-statistic):</th> <td>7.94e-10</td>\n",
       "</tr>\n",
       "<tr>\n",
       "  <th>Time:</th>                 <td>14:29:52</td>     <th>  Log-Likelihood:    </th> <td> -388.04</td>\n",
       "</tr>\n",
       "<tr>\n",
       "  <th>No. Observations:</th>      <td>   636</td>      <th>  AIC:               </th> <td>   816.1</td>\n",
       "</tr>\n",
       "<tr>\n",
       "  <th>Df Residuals:</th>          <td>   616</td>      <th>  BIC:               </th> <td>   905.2</td>\n",
       "</tr>\n",
       "<tr>\n",
       "  <th>Df Model:</th>              <td>    19</td>      <th>                     </th>     <td> </td>   \n",
       "</tr>\n",
       "<tr>\n",
       "  <th>Covariance Type:</th>      <td>nonrobust</td>    <th>                     </th>     <td> </td>   \n",
       "</tr>\n",
       "</table>\n",
       "<table class=\"simpletable\">\n",
       "<tr>\n",
       "               <td></td>                 <th>coef</th>     <th>std err</th>      <th>t</th>      <th>P>|t|</th>  <th>[0.025</th>    <th>0.975]</th>  \n",
       "</tr>\n",
       "<tr>\n",
       "  <th>const</th>                      <td>    1.4170</td> <td>    0.161</td> <td>    8.816</td> <td> 0.000</td> <td>    1.101</td> <td>    1.733</td>\n",
       "</tr>\n",
       "<tr>\n",
       "  <th>R_avg_opp_LEG_att</th>          <td>   -0.0400</td> <td>    0.018</td> <td>   -2.206</td> <td> 0.028</td> <td>   -0.076</td> <td>   -0.004</td>\n",
       "</tr>\n",
       "<tr>\n",
       "  <th>R_avg_opp_DISTANCE_landed</th>  <td>    0.0274</td> <td>    0.013</td> <td>    2.125</td> <td> 0.034</td> <td>    0.002</td> <td>    0.053</td>\n",
       "</tr>\n",
       "<tr>\n",
       "  <th>R_avg_opp_LEG_landed</th>       <td>    0.0426</td> <td>    0.022</td> <td>    1.900</td> <td> 0.058</td> <td>   -0.001</td> <td>    0.087</td>\n",
       "</tr>\n",
       "<tr>\n",
       "  <th>R_avg_opp_DISTANCE_att</th>     <td>   -0.0144</td> <td>    0.008</td> <td>   -1.708</td> <td> 0.088</td> <td>   -0.031</td> <td>    0.002</td>\n",
       "</tr>\n",
       "<tr>\n",
       "  <th>R_avg_DISTANCE_att</th>         <td>   -0.0029</td> <td>    0.001</td> <td>   -2.016</td> <td> 0.044</td> <td>   -0.006</td> <td>-7.47e-05</td>\n",
       "</tr>\n",
       "<tr>\n",
       "  <th>R_avg_opp_TD_pct</th>           <td>   -0.0745</td> <td>    0.100</td> <td>   -0.747</td> <td> 0.455</td> <td>   -0.271</td> <td>    0.121</td>\n",
       "</tr>\n",
       "<tr>\n",
       "  <th>B_avg_SIG_STR_att</th>          <td>    0.0022</td> <td>    0.004</td> <td>    0.575</td> <td> 0.565</td> <td>   -0.005</td> <td>    0.010</td>\n",
       "</tr>\n",
       "<tr>\n",
       "  <th>R_avg_opp_BODY_att</th>         <td>    0.0030</td> <td>    0.006</td> <td>    0.489</td> <td> 0.625</td> <td>   -0.009</td> <td>    0.015</td>\n",
       "</tr>\n",
       "<tr>\n",
       "  <th>B_avg_BODY_att</th>             <td>   -0.0072</td> <td>    0.006</td> <td>   -1.218</td> <td> 0.224</td> <td>   -0.019</td> <td>    0.004</td>\n",
       "</tr>\n",
       "<tr>\n",
       "  <th>R_avg_DISTANCE_landed</th>      <td>    0.0046</td> <td>    0.004</td> <td>    1.185</td> <td> 0.236</td> <td>   -0.003</td> <td>    0.012</td>\n",
       "</tr>\n",
       "<tr>\n",
       "  <th>B_avg_HEAD_att</th>             <td>   -0.0037</td> <td>    0.004</td> <td>   -0.928</td> <td> 0.354</td> <td>   -0.011</td> <td>    0.004</td>\n",
       "</tr>\n",
       "<tr>\n",
       "  <th>R_avg_opp_SIG_STR_landed</th>   <td>   -0.0247</td> <td>    0.012</td> <td>   -2.001</td> <td> 0.046</td> <td>   -0.049</td> <td>   -0.000</td>\n",
       "</tr>\n",
       "<tr>\n",
       "  <th>R_total_rounds_fought</th>      <td>   -0.0019</td> <td>    0.001</td> <td>   -1.317</td> <td> 0.188</td> <td>   -0.005</td> <td>    0.001</td>\n",
       "</tr>\n",
       "<tr>\n",
       "  <th>R_avg_opp_SIG_STR_att</th>      <td>    0.0137</td> <td>    0.008</td> <td>    1.724</td> <td> 0.085</td> <td>   -0.002</td> <td>    0.029</td>\n",
       "</tr>\n",
       "<tr>\n",
       "  <th>R_avg_BODY_att</th>             <td>   -0.0023</td> <td>    0.004</td> <td>   -0.507</td> <td> 0.612</td> <td>   -0.011</td> <td>    0.007</td>\n",
       "</tr>\n",
       "<tr>\n",
       "  <th>B_avg_opp_TOTAL_STR_landed</th> <td>    0.0035</td> <td>    0.001</td> <td>    2.660</td> <td> 0.008</td> <td>    0.001</td> <td>    0.006</td>\n",
       "</tr>\n",
       "<tr>\n",
       "  <th>R_age</th>                      <td>   -0.0199</td> <td>    0.006</td> <td>   -3.492</td> <td> 0.001</td> <td>   -0.031</td> <td>   -0.009</td>\n",
       "</tr>\n",
       "<tr>\n",
       "  <th>B_avg_opp_HEAD_landed</th>      <td>   -0.0040</td> <td>    0.003</td> <td>   -1.367</td> <td> 0.172</td> <td>   -0.010</td> <td>    0.002</td>\n",
       "</tr>\n",
       "<tr>\n",
       "  <th>B_avg_opp_SUB_ATT</th>          <td>    0.0502</td> <td>    0.029</td> <td>    1.717</td> <td> 0.086</td> <td>   -0.007</td> <td>    0.108</td>\n",
       "</tr>\n",
       "</table>\n",
       "<table class=\"simpletable\">\n",
       "<tr>\n",
       "  <th>Omnibus:</th>       <td>900.123</td> <th>  Durbin-Watson:     </th> <td>   1.966</td>\n",
       "</tr>\n",
       "<tr>\n",
       "  <th>Prob(Omnibus):</th> <td> 0.000</td>  <th>  Jarque-Bera (JB):  </th> <td>  68.881</td>\n",
       "</tr>\n",
       "<tr>\n",
       "  <th>Skew:</th>          <td>-0.490</td>  <th>  Prob(JB):          </th> <td>1.10e-15</td>\n",
       "</tr>\n",
       "<tr>\n",
       "  <th>Kurtosis:</th>      <td> 1.720</td>  <th>  Cond. No.          </th> <td>1.57e+03</td>\n",
       "</tr>\n",
       "</table><br/><br/>Warnings:<br/>[1] Standard Errors assume that the covariance matrix of the errors is correctly specified.<br/>[2] The condition number is large, 1.57e+03. This might indicate that there are<br/>strong multicollinearity or other numerical problems."
      ],
      "text/plain": [
       "<class 'statsmodels.iolib.summary.Summary'>\n",
       "\"\"\"\n",
       "                            OLS Regression Results                            \n",
       "==============================================================================\n",
       "Dep. Variable:                 Winner   R-squared:                       0.123\n",
       "Model:                            OLS   Adj. R-squared:                  0.096\n",
       "Method:                 Least Squares   F-statistic:                     4.558\n",
       "Date:                Thu, 21 Nov 2019   Prob (F-statistic):           7.94e-10\n",
       "Time:                        14:29:52   Log-Likelihood:                -388.04\n",
       "No. Observations:                 636   AIC:                             816.1\n",
       "Df Residuals:                     616   BIC:                             905.2\n",
       "Df Model:                          19                                         \n",
       "Covariance Type:            nonrobust                                         \n",
       "==============================================================================================\n",
       "                                 coef    std err          t      P>|t|      [0.025      0.975]\n",
       "----------------------------------------------------------------------------------------------\n",
       "const                          1.4170      0.161      8.816      0.000       1.101       1.733\n",
       "R_avg_opp_LEG_att             -0.0400      0.018     -2.206      0.028      -0.076      -0.004\n",
       "R_avg_opp_DISTANCE_landed      0.0274      0.013      2.125      0.034       0.002       0.053\n",
       "R_avg_opp_LEG_landed           0.0426      0.022      1.900      0.058      -0.001       0.087\n",
       "R_avg_opp_DISTANCE_att        -0.0144      0.008     -1.708      0.088      -0.031       0.002\n",
       "R_avg_DISTANCE_att            -0.0029      0.001     -2.016      0.044      -0.006   -7.47e-05\n",
       "R_avg_opp_TD_pct              -0.0745      0.100     -0.747      0.455      -0.271       0.121\n",
       "B_avg_SIG_STR_att              0.0022      0.004      0.575      0.565      -0.005       0.010\n",
       "R_avg_opp_BODY_att             0.0030      0.006      0.489      0.625      -0.009       0.015\n",
       "B_avg_BODY_att                -0.0072      0.006     -1.218      0.224      -0.019       0.004\n",
       "R_avg_DISTANCE_landed          0.0046      0.004      1.185      0.236      -0.003       0.012\n",
       "B_avg_HEAD_att                -0.0037      0.004     -0.928      0.354      -0.011       0.004\n",
       "R_avg_opp_SIG_STR_landed      -0.0247      0.012     -2.001      0.046      -0.049      -0.000\n",
       "R_total_rounds_fought         -0.0019      0.001     -1.317      0.188      -0.005       0.001\n",
       "R_avg_opp_SIG_STR_att          0.0137      0.008      1.724      0.085      -0.002       0.029\n",
       "R_avg_BODY_att                -0.0023      0.004     -0.507      0.612      -0.011       0.007\n",
       "B_avg_opp_TOTAL_STR_landed     0.0035      0.001      2.660      0.008       0.001       0.006\n",
       "R_age                         -0.0199      0.006     -3.492      0.001      -0.031      -0.009\n",
       "B_avg_opp_HEAD_landed         -0.0040      0.003     -1.367      0.172      -0.010       0.002\n",
       "B_avg_opp_SUB_ATT              0.0502      0.029      1.717      0.086      -0.007       0.108\n",
       "==============================================================================\n",
       "Omnibus:                      900.123   Durbin-Watson:                   1.966\n",
       "Prob(Omnibus):                  0.000   Jarque-Bera (JB):               68.881\n",
       "Skew:                          -0.490   Prob(JB):                     1.10e-15\n",
       "Kurtosis:                       1.720   Cond. No.                     1.57e+03\n",
       "==============================================================================\n",
       "\n",
       "Warnings:\n",
       "[1] Standard Errors assume that the covariance matrix of the errors is correctly specified.\n",
       "[2] The condition number is large, 1.57e+03. This might indicate that there are\n",
       "strong multicollinearity or other numerical problems.\n",
       "\"\"\""
      ]
     },
     "execution_count": 48,
     "metadata": {},
     "output_type": "execute_result"
    }
   ],
   "source": [
    "result = preparo(X_log,Y_log)\n",
    "result.summary()"
   ]
  },
  {
   "cell_type": "code",
   "execution_count": 90,
   "metadata": {},
   "outputs": [],
   "source": [
    "#criando um novo dataframe com apenas os lutadores sem repetição\n",
    "def fighter_clean(data):\n",
    "    newdata = pd.DataFrame()\n",
    "    namelist = []\n",
    "\n",
    "    for n in range(len(data.Fighter)):\n",
    "        if data.loc[n,:][\"Fighter\"] not in namelist:\n",
    "            namelist.append(data.loc[n,:][\"Fighter\"])\n",
    "            newdata = pd.concat([newdata,data.loc[n,:]], axis=1, join='outer')\n",
    "\n",
    "    newdata = newdata.transpose()\n",
    "    return newdata\n"
   ]
  },
  {
   "cell_type": "code",
   "execution_count": 91,
   "metadata": {},
   "outputs": [],
   "source": [
    "# Função que separa todos os atributos do red e blue\n",
    "def colunas_RB(df):\n",
    "    coluna_R = ['weight_class']\n",
    "    coluna_B = ['weight_class']\n",
    "    for e in df.columns:\n",
    "        if e != 'Referee':\n",
    "            for i in range(0,1):\n",
    "                if e[i] == 'R':\n",
    "                    coluna_R.append(e)\n",
    "                elif e[i] == 'B':\n",
    "                    coluna_B.append(e)\n",
    "    return coluna_R,coluna_B"
   ]
  },
  {
   "cell_type": "code",
   "execution_count": 92,
   "metadata": {},
   "outputs": [
    {
     "name": "stderr",
     "output_type": "stream",
     "text": [
      "C:\\Users\\Admin\\Anaconda3\\lib\\site-packages\\ipykernel_launcher.py:9: FutureWarning: Sorting because non-concatenation axis is not aligned. A future version\n",
      "of pandas will change to not sort by default.\n",
      "\n",
      "To accept the future behavior, pass 'sort=False'.\n",
      "\n",
      "To retain the current behavior and silence the warning, pass 'sort=True'.\n",
      "\n",
      "  if __name__ == '__main__':\n"
     ]
    },
    {
     "data": {
      "text/html": [
       "<div>\n",
       "<style scoped>\n",
       "    .dataframe tbody tr th:only-of-type {\n",
       "        vertical-align: middle;\n",
       "    }\n",
       "\n",
       "    .dataframe tbody tr th {\n",
       "        vertical-align: top;\n",
       "    }\n",
       "\n",
       "    .dataframe thead th {\n",
       "        text-align: right;\n",
       "    }\n",
       "</style>\n",
       "<table border=\"1\" class=\"dataframe\">\n",
       "  <thead>\n",
       "    <tr style=\"text-align: right;\">\n",
       "      <th></th>\n",
       "      <th>Weight Class</th>\n",
       "      <th>Current Lose Streak</th>\n",
       "      <th>Current Win Streak</th>\n",
       "      <th>Draw</th>\n",
       "      <th>Avg BODY Att</th>\n",
       "      <th>Avg BODY Landed</th>\n",
       "      <th>Avg CLINCH Att</th>\n",
       "      <th>Avg CLINCH Landed</th>\n",
       "      <th>Avg DISTANCE Att</th>\n",
       "      <th>Avg DISTANCE Landed</th>\n",
       "      <th>...</th>\n",
       "      <th>Win by Decision Unanimous</th>\n",
       "      <th>Win by KO/TKO</th>\n",
       "      <th>Win by Submission</th>\n",
       "      <th>Win by TKO Doctor Stoppage</th>\n",
       "      <th>Wins</th>\n",
       "      <th>Stance</th>\n",
       "      <th>Height Cms</th>\n",
       "      <th>Reach Cms</th>\n",
       "      <th>Weight Lbs</th>\n",
       "      <th>Age</th>\n",
       "    </tr>\n",
       "    <tr>\n",
       "      <th>Fighter</th>\n",
       "      <th></th>\n",
       "      <th></th>\n",
       "      <th></th>\n",
       "      <th></th>\n",
       "      <th></th>\n",
       "      <th></th>\n",
       "      <th></th>\n",
       "      <th></th>\n",
       "      <th></th>\n",
       "      <th></th>\n",
       "      <th></th>\n",
       "      <th></th>\n",
       "      <th></th>\n",
       "      <th></th>\n",
       "      <th></th>\n",
       "      <th></th>\n",
       "      <th></th>\n",
       "      <th></th>\n",
       "      <th></th>\n",
       "      <th></th>\n",
       "      <th></th>\n",
       "    </tr>\n",
       "  </thead>\n",
       "  <tbody>\n",
       "    <tr>\n",
       "      <th>Henry Cejudo</th>\n",
       "      <td>Bantamweight</td>\n",
       "      <td>0</td>\n",
       "      <td>4</td>\n",
       "      <td>0</td>\n",
       "      <td>21.9</td>\n",
       "      <td>16.4</td>\n",
       "      <td>17</td>\n",
       "      <td>11</td>\n",
       "      <td>75</td>\n",
       "      <td>26.5</td>\n",
       "      <td>...</td>\n",
       "      <td>4</td>\n",
       "      <td>2</td>\n",
       "      <td>0</td>\n",
       "      <td>0</td>\n",
       "      <td>8</td>\n",
       "      <td>Orthodox</td>\n",
       "      <td>162.56</td>\n",
       "      <td>162.56</td>\n",
       "      <td>135</td>\n",
       "      <td>32</td>\n",
       "    </tr>\n",
       "    <tr>\n",
       "      <th>Valentina Shevchenko</th>\n",
       "      <td>Women's Flyweight</td>\n",
       "      <td>0</td>\n",
       "      <td>2</td>\n",
       "      <td>0</td>\n",
       "      <td>12</td>\n",
       "      <td>7.71429</td>\n",
       "      <td>9.28571</td>\n",
       "      <td>6.85714</td>\n",
       "      <td>88.1429</td>\n",
       "      <td>36.1429</td>\n",
       "      <td>...</td>\n",
       "      <td>2</td>\n",
       "      <td>0</td>\n",
       "      <td>2</td>\n",
       "      <td>0</td>\n",
       "      <td>5</td>\n",
       "      <td>Southpaw</td>\n",
       "      <td>165.1</td>\n",
       "      <td>167.64</td>\n",
       "      <td>125</td>\n",
       "      <td>31</td>\n",
       "    </tr>\n",
       "    <tr>\n",
       "      <th>Tony Ferguson</th>\n",
       "      <td>Lightweight</td>\n",
       "      <td>0</td>\n",
       "      <td>11</td>\n",
       "      <td>0</td>\n",
       "      <td>13.8667</td>\n",
       "      <td>8.66667</td>\n",
       "      <td>2.86667</td>\n",
       "      <td>1.73333</td>\n",
       "      <td>116.133</td>\n",
       "      <td>49.4667</td>\n",
       "      <td>...</td>\n",
       "      <td>3</td>\n",
       "      <td>3</td>\n",
       "      <td>6</td>\n",
       "      <td>1</td>\n",
       "      <td>14</td>\n",
       "      <td>Orthodox</td>\n",
       "      <td>180.34</td>\n",
       "      <td>193.04</td>\n",
       "      <td>155</td>\n",
       "      <td>35</td>\n",
       "    </tr>\n",
       "  </tbody>\n",
       "</table>\n",
       "<p>3 rows × 69 columns</p>\n",
       "</div>"
      ],
      "text/plain": [
       "                           Weight Class Current Lose Streak  \\\n",
       "Fighter                                                       \n",
       "Henry Cejudo               Bantamweight                   0   \n",
       "Valentina Shevchenko  Women's Flyweight                   0   \n",
       "Tony Ferguson               Lightweight                   0   \n",
       "\n",
       "                     Current Win Streak Draw Avg BODY Att Avg BODY Landed  \\\n",
       "Fighter                                                                     \n",
       "Henry Cejudo                          4    0         21.9            16.4   \n",
       "Valentina Shevchenko                  2    0           12         7.71429   \n",
       "Tony Ferguson                        11    0      13.8667         8.66667   \n",
       "\n",
       "                     Avg CLINCH Att Avg CLINCH Landed Avg DISTANCE Att  \\\n",
       "Fighter                                                                  \n",
       "Henry Cejudo                     17                11               75   \n",
       "Valentina Shevchenko        9.28571           6.85714          88.1429   \n",
       "Tony Ferguson               2.86667           1.73333          116.133   \n",
       "\n",
       "                     Avg DISTANCE Landed ... Win by Decision Unanimous  \\\n",
       "Fighter                                  ...                             \n",
       "Henry Cejudo                        26.5 ...                         4   \n",
       "Valentina Shevchenko             36.1429 ...                         2   \n",
       "Tony Ferguson                    49.4667 ...                         3   \n",
       "\n",
       "                     Win by KO/TKO Win by Submission  \\\n",
       "Fighter                                                \n",
       "Henry Cejudo                     2                 0   \n",
       "Valentina Shevchenko             0                 2   \n",
       "Tony Ferguson                    3                 6   \n",
       "\n",
       "                     Win by TKO Doctor Stoppage Wins    Stance Height Cms  \\\n",
       "Fighter                                                                     \n",
       "Henry Cejudo                                  0    8  Orthodox     162.56   \n",
       "Valentina Shevchenko                          0    5  Southpaw      165.1   \n",
       "Tony Ferguson                                 1   14  Orthodox     180.34   \n",
       "\n",
       "                     Reach Cms Weight Lbs Age  \n",
       "Fighter                                        \n",
       "Henry Cejudo            162.56        135  32  \n",
       "Valentina Shevchenko    167.64        125  31  \n",
       "Tony Ferguson           193.04        155  35  \n",
       "\n",
       "[3 rows x 69 columns]"
      ]
     },
     "execution_count": 92,
     "metadata": {},
     "output_type": "execute_result"
    }
   ],
   "source": [
    "#criando um novo dataframe\n",
    "lista_locB = colunas_RB(data)[1]\n",
    "lista_locR = colunas_RB(data)[0]\n",
    "data_red = data.loc[: , lista_locR]\n",
    "data_blue = data.loc[: , lista_locB]\n",
    "\n",
    "data_blue.columns = ['Weight Class','Fighter','Current Lose Streak','Current Win Streak','Draw','Avg BODY Att','Avg BODY Landed','Avg CLINCH Att','Avg CLINCH Landed','Avg DISTANCE Att','Avg DISTANCE Landed','Avg GROUND Att','Avg GROUND Landed','Avg HEAD Att','Avg HEAD Landed','Avg KD','Avg LEG Att','Avg LEG Landed','Avg PASS','Avg REV','Avg SIG STR Att', 'Avg SIG STR Landed', 'Avg SIG STR Pct', 'Avg SUB ATT', 'Avg TD Att', 'Avg TD Landed', 'Avg TD Pct', 'Avg TOTAL STR Att', 'Avg TOTAL STR Landed', 'Longest Win Streak', 'Losses', 'Avg_Opp BODY Att', 'Avg Opp BODY Landed', 'Avg Opp CLINCH Att', 'Avg Opp CLINCH Landed', 'Avg Opp DISTANCE Att', 'Avg Opp DISTANCE Landed', 'Avg Opp GROUND Att', 'Avg Opp GROUND Landed', 'Avg Opp HEAD Att', 'Avg Opp HEAD Landed', 'Avg Opp KD', 'Avg Opp LEG Att', 'Avg Opp LEG Landed', 'Avg Opp PASS', 'Avg Opp REV', 'Avg Opp SIG STR Att', 'Avg Opp SIG STR Landed', 'Avg Opp SIG STR Pct', 'Avg Opp SUB ATT', 'Avg Opp TD Att', 'Avg Opp TD Landed', 'Avg Opp TD Pct', 'Avg Opp TOTAL STR Att', 'Avg Opp TOTAL STR Landed', 'Total Rounds Fought', 'Total Time Fought(seconds)', 'Total Title Bouts', 'Win by Decision Majority', 'Win by Decision Split', 'Win by Decision Unanimous', 'Win by KO/TKO', 'Win by Submission', 'Win by TKO Doctor Stoppage', 'Wins', 'Stance', 'Height Cms', 'Reach Cms', 'Weight Lbs', 'Age']\n",
    "data_red.columns = ['Weight Class','Fighter','Current Lose Streak','Current Win Streak','Draw','Avg BODY Att','Avg BODY Landed','Avg CLINCH Att','Avg CLINCH Landed','Avg DISTANCE Att','Avg DISTANCE Landed','Avg GROUND Att','Avg GROUND Landed','Avg HEAD Att','Avg HEAD Landed','Avg KD','Avg LEG Att','Avg LEG Landed','Avg PASS','Avg REV','Avg SIG STR Att', 'Avg SIG STR Landed', 'Avg SIG STR Pct', 'Avg SUB ATT', 'Avg TD Att', 'Avg TD Landed', 'Avg TD Pct', 'Avg TOTAL STR Att', 'Avg TOTAL STR Landed', 'Longest Win Streak', 'Losses', 'Avg_Opp BODY Att', 'Avg Opp BODY Landed', 'Avg Opp CLINCH Att', 'Avg Opp CLINCH Landed', 'Avg Opp DISTANCE Att', 'Avg Opp DISTANCE Landed', 'Avg Opp GROUND Att', 'Avg Opp GROUND Landed', 'Avg Opp HEAD Att', 'Avg Opp HEAD Landed', 'Avg Opp KD', 'Avg Opp LEG Att', 'Avg Opp LEG Landed', 'Avg Opp PASS', 'Avg Opp REV', 'Avg Opp SIG STR Att', 'Avg Opp SIG STR Landed', 'Avg Opp SIG STR Pct', 'Avg Opp SUB ATT', 'Avg Opp TD Att', 'Avg Opp TD Landed', 'Avg Opp TD Pct', 'Avg Opp TOTAL STR Att', 'Avg Opp TOTAL STR Landed', 'Total Rounds Fought', 'Total Time Fought(seconds)', 'Total Title Bouts', 'Win by Decision Majority', 'Win by Decision Split', 'Win by Decision Unanimous', 'Win by KO/TKO', 'Win by Submission', 'Win by TKO Doctor Stoppage', 'Wins', 'Stance', 'Height Cms', 'Reach Cms', 'Weight Lbs', 'Age']\n",
    "\n",
    "data_blue = fighter_clean(data_blue)\n",
    "data_red = fighter_clean(data_red)\n",
    "\n",
    "dataRB = pd.concat([data_red,data_blue], axis=0, join='outer')\n",
    "\n",
    "dataRB.reset_index(inplace=True)\n",
    "dataRB = fighter_clean(dataRB).loc[: , ['Weight Class','Fighter','Current Lose Streak','Current Win Streak','Draw','Avg BODY Att','Avg BODY Landed','Avg CLINCH Att','Avg CLINCH Landed','Avg DISTANCE Att','Avg DISTANCE Landed','Avg GROUND Att','Avg GROUND Landed','Avg HEAD Att','Avg HEAD Landed','Avg KD','Avg LEG Att','Avg LEG Landed','Avg PASS','Avg REV','Avg SIG STR Att', 'Avg SIG STR Landed', 'Avg SIG STR Pct', 'Avg SUB ATT', 'Avg TD Att', 'Avg TD Landed', 'Avg TD Pct', 'Avg TOTAL STR Att', 'Avg TOTAL STR Landed', 'Longest Win Streak', 'Losses', 'Avg_Opp BODY Att', 'Avg Opp BODY Landed', 'Avg Opp CLINCH Att', 'Avg Opp CLINCH Landed', 'Avg Opp DISTANCE Att', 'Avg Opp DISTANCE Landed', 'Avg Opp GROUND Att', 'Avg Opp GROUND Landed', 'Avg Opp HEAD Att', 'Avg Opp HEAD Landed', 'Avg Opp KD', 'Avg Opp LEG Att', 'Avg Opp LEG Landed', 'Avg Opp PASS', 'Avg Opp REV', 'Avg Opp SIG STR Att', 'Avg Opp SIG STR Landed', 'Avg Opp SIG STR Pct', 'Avg Opp SUB ATT', 'Avg Opp TD Att', 'Avg Opp TD Landed', 'Avg Opp TD Pct', 'Avg Opp TOTAL STR Att', 'Avg Opp TOTAL STR Landed', 'Total Rounds Fought', 'Total Time Fought(seconds)', 'Total Title Bouts', 'Win by Decision Majority', 'Win by Decision Split', 'Win by Decision Unanimous', 'Win by KO/TKO', 'Win by Submission', 'Win by TKO Doctor Stoppage', 'Wins', 'Stance', 'Height Cms', 'Reach Cms', 'Weight Lbs', 'Age']]\n",
    "\n",
    "dataRB = dataRB.set_index(\"Fighter\")\n",
    "\n",
    "dataRB = dataRB.dropna()\n",
    "\n",
    "dataRB.head(3)"
   ]
  },
  {
   "cell_type": "code",
   "execution_count": 93,
   "metadata": {},
   "outputs": [
    {
     "data": {
      "text/plain": [
       "['weight_class',\n",
       " 'B_fighter',\n",
       " 'B_current_lose_streak',\n",
       " 'B_current_win_streak',\n",
       " 'B_draw',\n",
       " 'B_avg_BODY_att',\n",
       " 'B_avg_BODY_landed',\n",
       " 'B_avg_CLINCH_att',\n",
       " 'B_avg_CLINCH_landed',\n",
       " 'B_avg_DISTANCE_att',\n",
       " 'B_avg_DISTANCE_landed',\n",
       " 'B_avg_GROUND_att',\n",
       " 'B_avg_GROUND_landed',\n",
       " 'B_avg_HEAD_att',\n",
       " 'B_avg_HEAD_landed',\n",
       " 'B_avg_KD',\n",
       " 'B_avg_LEG_att',\n",
       " 'B_avg_LEG_landed',\n",
       " 'B_avg_PASS',\n",
       " 'B_avg_REV',\n",
       " 'B_avg_SIG_STR_att',\n",
       " 'B_avg_SIG_STR_landed',\n",
       " 'B_avg_SIG_STR_pct',\n",
       " 'B_avg_SUB_ATT',\n",
       " 'B_avg_TD_att',\n",
       " 'B_avg_TD_landed',\n",
       " 'B_avg_TD_pct',\n",
       " 'B_avg_TOTAL_STR_att',\n",
       " 'B_avg_TOTAL_STR_landed',\n",
       " 'B_longest_win_streak',\n",
       " 'B_losses',\n",
       " 'B_avg_opp_BODY_att',\n",
       " 'B_avg_opp_BODY_landed',\n",
       " 'B_avg_opp_CLINCH_att',\n",
       " 'B_avg_opp_CLINCH_landed',\n",
       " 'B_avg_opp_DISTANCE_att',\n",
       " 'B_avg_opp_DISTANCE_landed',\n",
       " 'B_avg_opp_GROUND_att',\n",
       " 'B_avg_opp_GROUND_landed',\n",
       " 'B_avg_opp_HEAD_att',\n",
       " 'B_avg_opp_HEAD_landed',\n",
       " 'B_avg_opp_KD',\n",
       " 'B_avg_opp_LEG_att',\n",
       " 'B_avg_opp_LEG_landed',\n",
       " 'B_avg_opp_PASS',\n",
       " 'B_avg_opp_REV',\n",
       " 'B_avg_opp_SIG_STR_att',\n",
       " 'B_avg_opp_SIG_STR_landed',\n",
       " 'B_avg_opp_SIG_STR_pct',\n",
       " 'B_avg_opp_SUB_ATT',\n",
       " 'B_avg_opp_TD_att',\n",
       " 'B_avg_opp_TD_landed',\n",
       " 'B_avg_opp_TD_pct',\n",
       " 'B_avg_opp_TOTAL_STR_att',\n",
       " 'B_avg_opp_TOTAL_STR_landed',\n",
       " 'B_total_rounds_fought',\n",
       " 'B_total_time_fought(seconds)',\n",
       " 'B_total_title_bouts',\n",
       " 'B_win_by_Decision_Majority',\n",
       " 'B_win_by_Decision_Split',\n",
       " 'B_win_by_Decision_Unanimous',\n",
       " 'B_win_by_KO/TKO',\n",
       " 'B_win_by_Submission',\n",
       " 'B_win_by_TKO_Doctor_Stoppage',\n",
       " 'B_wins',\n",
       " 'B_Stance',\n",
       " 'B_Height_cms',\n",
       " 'B_Reach_cms',\n",
       " 'B_Weight_lbs',\n",
       " 'B_age']"
      ]
     },
     "execution_count": 93,
     "metadata": {},
     "output_type": "execute_result"
    }
   ],
   "source": [
    "colunas_RB(data)[1]"
   ]
  },
  {
   "cell_type": "code",
   "execution_count": 95,
   "metadata": {},
   "outputs": [
    {
     "data": {
      "text/plain": [
       "['edgard', 'victor', 'yama']"
      ]
     },
     "execution_count": 95,
     "metadata": {},
     "output_type": "execute_result"
    }
   ],
   "source": [
    "p3 = ['edgard','victor','maulem','yama']\n",
    "p3.pop(2)\n",
    "p3"
   ]
  },
  {
   "cell_type": "code",
   "execution_count": null,
   "metadata": {},
   "outputs": [],
   "source": []
  }
 ],
 "metadata": {
  "kernelspec": {
   "display_name": "Python 3",
   "language": "python",
   "name": "python3"
  },
  "language_info": {
   "codemirror_mode": {
    "name": "ipython",
    "version": 3
   },
   "file_extension": ".py",
   "mimetype": "text/x-python",
   "name": "python",
   "nbconvert_exporter": "python",
   "pygments_lexer": "ipython3",
   "version": "3.7.1"
  }
 },
 "nbformat": 4,
 "nbformat_minor": 2
}
