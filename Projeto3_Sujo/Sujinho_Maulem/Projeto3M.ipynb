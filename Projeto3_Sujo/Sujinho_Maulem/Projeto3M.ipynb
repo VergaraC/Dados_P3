{
 "cells": [
  {
   "cell_type": "markdown",
   "metadata": {},
   "source": [
    "# Projeto 3 - Ciência dos Dados"
   ]
  },
  {
   "cell_type": "markdown",
   "metadata": {},
   "source": [
    "#  Projeto UFC"
   ]
  },
  {
   "cell_type": "markdown",
   "metadata": {},
   "source": [
    "Nome: Victor Vergara Arcoverde de Albuquerque Cavalcanti\n",
    "\n",
    "Nome: Edgard Neto\n",
    "\n",
    "Nome: Gabriel Yamashita\n",
    "\n",
    "Nome: Henrique Mualem Marti\n",
    "\n"
   ]
  },
  {
   "cell_type": "markdown",
   "metadata": {},
   "source": [
    "  ___\n",
    "## Objetivo:"
   ]
  },
  {
   "cell_type": "markdown",
   "metadata": {},
   "source": [
    "### O objetivo desse projeto é fazer um machine learning para poder prever qual lutador ganhará uma luta do UFC baseado no seu histórico. Para isso serão usados os dados de todas as lutas do UFC (mais de 5 mil) a fim de descobrir quais os fatores dos lutadores que impactam mais no resultado das lutas. "
   ]
  },
  {
   "cell_type": "markdown",
   "metadata": {},
   "source": [
    "[Database utilizado](https://www.kaggle.com/rajeevw/ufcdata#data.csv)"
   ]
  },
  {
   "cell_type": "markdown",
   "metadata": {},
   "source": [
    "____\n",
    "## Método escolhido:\n",
    "\n",
    "\n"
   ]
  },
  {
   "cell_type": "markdown",
   "metadata": {},
   "source": [
    "    "
   ]
  },
  {
   "cell_type": "markdown",
   "metadata": {},
   "source": [
    "\n",
    "\n",
    "### Random Forest:\n",
    "#### Esse método usa várias árvores de decisão para encontrar o que melhor se adequa, a que tem menos erros, para os nossos dados e o resultado que queremos, nesse caso qual é o vencedor.\n",
    "\n",
    "![randomforest.png](randomforest.png)\n"
   ]
  },
  {
   "cell_type": "markdown",
   "metadata": {},
   "source": [
    "___\n",
    "### Regressão Logística:\n",
    "#### Esse método usa a função abaixo que vai sempre tender a 0 ou a 1, assim sendo um classificador binário. Ele atribui um coeficiente(β) para cada fator levado em consideração, assim tendo uma ordem de impacto dos fatores no resultado final.\n",
    "\n",
    "$$Prob(y = 1 | X = x) = \\frac{1}{1 + e^{-\\left(\\beta_0 + \\beta_1 x_1 + \\beta_2 x_2\\right)}}$$"
   ]
  },
  {
   "cell_type": "markdown",
   "metadata": {},
   "source": [
    " ___\n",
    "## Preparando o ambiente no jupyter:"
   ]
  },
  {
   "cell_type": "markdown",
   "metadata": {},
   "source": [
    "___\n",
    "### Imports:"
   ]
  },
  {
   "cell_type": "code",
   "execution_count": 2,
   "metadata": {
    "jupyter": {
     "outputs_hidden": true
    }
   },
   "outputs": [],
   "source": [
    "import math\n",
    "import os.path\n",
    "import pandas as pd\n",
    "import numpy as np\n",
    "import matplotlib\n",
    "import matplotlib.pyplot as plt\n",
    "import json\n",
    "import random\n",
    "import statsmodels.api as sm\n",
    "import seaborn as sns\n",
    "\n",
    "from sklearn.feature_extraction.text import CountVectorizer\n",
    "from sklearn.metrics import accuracy_score\n",
    "from sklearn.naive_bayes import MultinomialNB\n",
    "\n",
    "from sklearn.pipeline import Pipeline\n",
    "from sklearn.ensemble import RandomForestClassifier\n",
    "from sklearn.linear_model import LogisticRegression\n",
    "from sklearn.model_selection import train_test_split"
   ]
  },
  {
   "cell_type": "markdown",
   "metadata": {},
   "source": [
    "___\n",
    "### Trabalhando com os Excels:"
   ]
  },
  {
   "cell_type": "code",
   "execution_count": 92,
   "metadata": {},
   "outputs": [
    {
     "data": {
      "text/html": [
       "<div>\n",
       "<style scoped>\n",
       "    .dataframe tbody tr th:only-of-type {\n",
       "        vertical-align: middle;\n",
       "    }\n",
       "\n",
       "    .dataframe tbody tr th {\n",
       "        vertical-align: top;\n",
       "    }\n",
       "\n",
       "    .dataframe thead th {\n",
       "        text-align: right;\n",
       "    }\n",
       "</style>\n",
       "<table border=\"1\" class=\"dataframe\">\n",
       "  <thead>\n",
       "    <tr style=\"text-align: right;\">\n",
       "      <th></th>\n",
       "      <th>R_fighter</th>\n",
       "      <th>B_fighter</th>\n",
       "      <th>Referee</th>\n",
       "      <th>date</th>\n",
       "      <th>location</th>\n",
       "      <th>Winner</th>\n",
       "      <th>title_bout</th>\n",
       "      <th>weight_class</th>\n",
       "      <th>no_of_rounds</th>\n",
       "      <th>B_current_lose_streak</th>\n",
       "      <th>...</th>\n",
       "      <th>R_win_by_KO/TKO</th>\n",
       "      <th>R_win_by_Submission</th>\n",
       "      <th>R_win_by_TKO_Doctor_Stoppage</th>\n",
       "      <th>R_wins</th>\n",
       "      <th>R_Stance</th>\n",
       "      <th>R_Height_cms</th>\n",
       "      <th>R_Reach_cms</th>\n",
       "      <th>R_Weight_lbs</th>\n",
       "      <th>B_age</th>\n",
       "      <th>R_age</th>\n",
       "    </tr>\n",
       "  </thead>\n",
       "  <tbody>\n",
       "    <tr>\n",
       "      <th>0</th>\n",
       "      <td>Henry Cejudo</td>\n",
       "      <td>Marlon Moraes</td>\n",
       "      <td>Marc Goddard</td>\n",
       "      <td>2019</td>\n",
       "      <td>Chicago, Illinois, USA</td>\n",
       "      <td>Red</td>\n",
       "      <td>True</td>\n",
       "      <td>Bantamweight</td>\n",
       "      <td>5</td>\n",
       "      <td>0</td>\n",
       "      <td>...</td>\n",
       "      <td>2</td>\n",
       "      <td>0</td>\n",
       "      <td>0</td>\n",
       "      <td>8</td>\n",
       "      <td>Orthodox</td>\n",
       "      <td>162.56</td>\n",
       "      <td>162.56</td>\n",
       "      <td>135.0</td>\n",
       "      <td>31.0</td>\n",
       "      <td>32.0</td>\n",
       "    </tr>\n",
       "    <tr>\n",
       "      <th>1</th>\n",
       "      <td>Valentina Shevchenko</td>\n",
       "      <td>Jessica Eye</td>\n",
       "      <td>Robert Madrigal</td>\n",
       "      <td>2019</td>\n",
       "      <td>Chicago, Illinois, USA</td>\n",
       "      <td>Red</td>\n",
       "      <td>True</td>\n",
       "      <td>Women's Flyweight</td>\n",
       "      <td>5</td>\n",
       "      <td>0</td>\n",
       "      <td>...</td>\n",
       "      <td>0</td>\n",
       "      <td>2</td>\n",
       "      <td>0</td>\n",
       "      <td>5</td>\n",
       "      <td>Southpaw</td>\n",
       "      <td>165.10</td>\n",
       "      <td>167.64</td>\n",
       "      <td>125.0</td>\n",
       "      <td>32.0</td>\n",
       "      <td>31.0</td>\n",
       "    </tr>\n",
       "  </tbody>\n",
       "</table>\n",
       "<p>2 rows × 145 columns</p>\n",
       "</div>"
      ],
      "text/plain": [
       "              R_fighter      B_fighter          Referee  date  \\\n",
       "0          Henry Cejudo  Marlon Moraes     Marc Goddard  2019   \n",
       "1  Valentina Shevchenko    Jessica Eye  Robert Madrigal  2019   \n",
       "\n",
       "                 location Winner  title_bout       weight_class  no_of_rounds  \\\n",
       "0  Chicago, Illinois, USA    Red        True       Bantamweight             5   \n",
       "1  Chicago, Illinois, USA    Red        True  Women's Flyweight             5   \n",
       "\n",
       "   B_current_lose_streak  ...    R_win_by_KO/TKO  R_win_by_Submission  \\\n",
       "0                      0  ...                  2                    0   \n",
       "1                      0  ...                  0                    2   \n",
       "\n",
       "   R_win_by_TKO_Doctor_Stoppage  R_wins  R_Stance  R_Height_cms  R_Reach_cms  \\\n",
       "0                             0       8  Orthodox        162.56       162.56   \n",
       "1                             0       5  Southpaw        165.10       167.64   \n",
       "\n",
       "   R_Weight_lbs  B_age  R_age  \n",
       "0         135.0   31.0   32.0  \n",
       "1         125.0   32.0   31.0  \n",
       "\n",
       "[2 rows x 145 columns]"
      ]
     },
     "execution_count": 92,
     "metadata": {},
     "output_type": "execute_result"
    }
   ],
   "source": [
    "data = pd.read_excel(\"data.xlsx\")\n",
    "data2 = data\n",
    "data.head(2)"
   ]
  },
  {
   "cell_type": "code",
   "execution_count": 73,
   "metadata": {},
   "outputs": [],
   "source": [
    "data.weight_class = data.weight_class.astype('category')\n",
    "data.Winner = data.Winner.astype('category')"
   ]
  },
  {
   "cell_type": "markdown",
   "metadata": {},
   "source": [
    "### Análise exploratória\n",
    "#### Explorando o dataframe inicial"
   ]
  },
  {
   "cell_type": "code",
   "execution_count": 74,
   "metadata": {
    "scrolled": true
   },
   "outputs": [
    {
     "data": {
      "text/plain": [
       "Red     3470\n",
       "Blue    1591\n",
       "Draw      83\n",
       "Name: Winner, dtype: int64"
      ]
     },
     "execution_count": 74,
     "metadata": {},
     "output_type": "execute_result"
    }
   ],
   "source": [
    "data.Winner.value_counts()"
   ]
  },
  {
   "cell_type": "code",
   "execution_count": 156,
   "metadata": {},
   "outputs": [
    {
     "data": {
      "image/png": "[encoded data removed]",
      "text/plain": [
       "<Figure size 432x288 with 1 Axes>"
      ]
     },
     "metadata": {},
     "output_type": "display_data"
    }
   ],
   "source": [
    "plt.title(\"Red wins vs Blue wins\")\n",
    "data.Winner.value_counts().plot(kind='pie', colors=['red','blue','white'], autopct=\"%0.2f\",legend=False);"
   ]
  },
  {
   "cell_type": "code",
   "execution_count": 155,
   "metadata": {},
   "outputs": [
    {
     "data": {
      "image/png": "[encoded data removed]",
      "text/plain": [
       "<Figure size 432x288 with 1 Axes>"
      ]
     },
     "metadata": {},
     "output_type": "display_data"
    }
   ],
   "source": [
    "plt.title(\"Title bout fights\")\n",
    "data['title_bout'].value_counts().plot(kind='pie', colors=['green','gold'],autopct=\"%0.2f\",legend=True);"
   ]
  },
  {
   "cell_type": "code",
   "execution_count": 152,
   "metadata": {},
   "outputs": [
    {
     "data": {
      "image/png": "[encoded data removed]",
      "text/plain": [
       "<Figure size 432x288 with 1 Axes>"
      ]
     },
     "metadata": {},
     "output_type": "display_data"
    }
   ],
   "source": [
    "graf_winner_with_title = data.loc[: , [\"Winner\", \"title_bout\"]]\n",
    "graf_winner_with_title1 = graf_winner_with_title.loc[(graf_winner_with_title.title_bout==True),:]\n",
    "plt.title(\"Red vs Blue wins with title bout\")\n",
    "graf_winner_with_title1.Winner.value_counts().plot(kind='pie', colors=['red','blue',\"white\"],autopct=\"%0.2f\",legend=True);  "
   ]
  },
  {
   "cell_type": "code",
   "execution_count": 151,
   "metadata": {},
   "outputs": [
    {
     "data": {
      "image/png": "[encoded data removed]",
      "text/plain": [
       "<Figure size 432x288 with 1 Axes>"
      ]
     },
     "metadata": {},
     "output_type": "display_data"
    }
   ],
   "source": [
    "graf_winner_with_title = data.loc[: , [\"Winner\", \"title_bout\"]]\n",
    "graf_winner_with_title1 = graf_winner_with_title.loc[(graf_winner_with_title.title_bout==False),:]\n",
    "plt.title(\"Red vs Blue wins without title bout\")\n",
    "graf_winner_with_title1.Winner.value_counts().plot(kind='pie', colors=['red','blue',\"white\"],autopct=\"%0.2f\",legend=True);"
   ]
  },
  {
   "cell_type": "code",
   "execution_count": 134,
   "metadata": {},
   "outputs": [
    {
     "data": {
      "text/plain": [
       "False"
      ]
     },
     "execution_count": 134,
     "metadata": {},
     "output_type": "execute_result"
    }
   ],
   "source": []
  },
  {
   "cell_type": "code",
   "execution_count": null,
   "metadata": {},
   "outputs": [],
   "source": []
  },
  {
   "cell_type": "code",
   "execution_count": 24,
   "metadata": {},
   "outputs": [
    {
     "name": "stderr",
     "output_type": "stream",
     "text": [
      "C:\\ProgramData\\Anaconda3\\lib\\site-packages\\ipykernel_launcher.py:4: SettingWithCopyWarning: \n",
      "A value is trying to be set on a copy of a slice from a DataFrame.\n",
      "Try using .loc[row_indexer,col_indexer] = value instead\n",
      "\n",
      "See the caveats in the documentation: http://pandas.pydata.org/pandas-docs/stable/indexing.html#indexing-view-versus-copy\n",
      "  after removing the cwd from sys.path.\n",
      "C:\\ProgramData\\Anaconda3\\lib\\site-packages\\ipykernel_launcher.py:5: SettingWithCopyWarning: \n",
      "A value is trying to be set on a copy of a slice from a DataFrame.\n",
      "Try using .loc[row_indexer,col_indexer] = value instead\n",
      "\n",
      "See the caveats in the documentation: http://pandas.pydata.org/pandas-docs/stable/indexing.html#indexing-view-versus-copy\n",
      "  \"\"\"\n"
     ]
    }
   ],
   "source": [
    "data_heavy = data.loc[(data.weight_class=='Heavyweight'),:]\n",
    "bool_to_number = {False: 0, True: 1}\n",
    "string_to_number = {'Blue': 0, 'Red': 1, 'Draw': 2}\n",
    "data_heavy['title_bout'] = data_heavy['title_bout'].map(bool_to_number)\n",
    "data_heavy['Winner'] = data_heavy['Winner'].map(string_to_number)"
   ]
  },
  {
   "cell_type": "markdown",
   "metadata": {},
   "source": [
    "#### Blue = 0\n",
    "#### Red = 1"
   ]
  },
  {
   "cell_type": "code",
   "execution_count": 25,
   "metadata": {},
   "outputs": [
    {
     "data": {
      "text/html": [
       "<div>\n",
       "<style scoped>\n",
       "    .dataframe tbody tr th:only-of-type {\n",
       "        vertical-align: middle;\n",
       "    }\n",
       "\n",
       "    .dataframe tbody tr th {\n",
       "        vertical-align: top;\n",
       "    }\n",
       "\n",
       "    .dataframe thead th {\n",
       "        text-align: right;\n",
       "    }\n",
       "</style>\n",
       "<table border=\"1\" class=\"dataframe\">\n",
       "  <thead>\n",
       "    <tr style=\"text-align: right;\">\n",
       "      <th></th>\n",
       "      <th>R_fighter</th>\n",
       "      <th>B_fighter</th>\n",
       "      <th>Referee</th>\n",
       "      <th>date</th>\n",
       "      <th>location</th>\n",
       "      <th>Winner</th>\n",
       "      <th>title_bout</th>\n",
       "      <th>weight_class</th>\n",
       "      <th>no_of_rounds</th>\n",
       "      <th>B_current_lose_streak</th>\n",
       "      <th>...</th>\n",
       "      <th>R_win_by_KO/TKO</th>\n",
       "      <th>R_win_by_Submission</th>\n",
       "      <th>R_win_by_TKO_Doctor_Stoppage</th>\n",
       "      <th>R_wins</th>\n",
       "      <th>R_Stance</th>\n",
       "      <th>R_Height_cms</th>\n",
       "      <th>R_Reach_cms</th>\n",
       "      <th>R_Weight_lbs</th>\n",
       "      <th>B_age</th>\n",
       "      <th>R_age</th>\n",
       "    </tr>\n",
       "  </thead>\n",
       "  <tbody>\n",
       "    <tr>\n",
       "      <th>4</th>\n",
       "      <td>Tai Tuivasa</td>\n",
       "      <td>Blagoy Ivanov</td>\n",
       "      <td>Dan Miragliotta</td>\n",
       "      <td>2019</td>\n",
       "      <td>Chicago, Illinois, USA</td>\n",
       "      <td>0</td>\n",
       "      <td>0</td>\n",
       "      <td>Heavyweight</td>\n",
       "      <td>3</td>\n",
       "      <td>0</td>\n",
       "      <td>...</td>\n",
       "      <td>2</td>\n",
       "      <td>0</td>\n",
       "      <td>0</td>\n",
       "      <td>3</td>\n",
       "      <td>Southpaw</td>\n",
       "      <td>187.96</td>\n",
       "      <td>190.50</td>\n",
       "      <td>264.0</td>\n",
       "      <td>32.0</td>\n",
       "      <td>26.0</td>\n",
       "    </tr>\n",
       "    <tr>\n",
       "      <th>54</th>\n",
       "      <td>Walt Harris</td>\n",
       "      <td>Serghei Spivac</td>\n",
       "      <td>Jerin Valel</td>\n",
       "      <td>2019</td>\n",
       "      <td>Ottawa, Ontario, Canada</td>\n",
       "      <td>1</td>\n",
       "      <td>0</td>\n",
       "      <td>Heavyweight</td>\n",
       "      <td>3</td>\n",
       "      <td>0</td>\n",
       "      <td>...</td>\n",
       "      <td>4</td>\n",
       "      <td>0</td>\n",
       "      <td>0</td>\n",
       "      <td>4</td>\n",
       "      <td>Southpaw</td>\n",
       "      <td>195.58</td>\n",
       "      <td>195.58</td>\n",
       "      <td>250.0</td>\n",
       "      <td>24.0</td>\n",
       "      <td>35.0</td>\n",
       "    </tr>\n",
       "  </tbody>\n",
       "</table>\n",
       "<p>2 rows × 145 columns</p>\n",
       "</div>"
      ],
      "text/plain": [
       "      R_fighter       B_fighter          Referee  date  \\\n",
       "4   Tai Tuivasa   Blagoy Ivanov  Dan Miragliotta  2019   \n",
       "54  Walt Harris  Serghei Spivac      Jerin Valel  2019   \n",
       "\n",
       "                   location  Winner  title_bout weight_class  no_of_rounds  \\\n",
       "4    Chicago, Illinois, USA       0           0  Heavyweight             3   \n",
       "54  Ottawa, Ontario, Canada       1           0  Heavyweight             3   \n",
       "\n",
       "    B_current_lose_streak  ...    R_win_by_KO/TKO  R_win_by_Submission  \\\n",
       "4                       0  ...                  2                    0   \n",
       "54                      0  ...                  4                    0   \n",
       "\n",
       "    R_win_by_TKO_Doctor_Stoppage  R_wins  R_Stance  R_Height_cms  R_Reach_cms  \\\n",
       "4                              0       3  Southpaw        187.96       190.50   \n",
       "54                             0       4  Southpaw        195.58       195.58   \n",
       "\n",
       "    R_Weight_lbs  B_age  R_age  \n",
       "4          264.0   32.0   26.0  \n",
       "54         250.0   24.0   35.0  \n",
       "\n",
       "[2 rows x 145 columns]"
      ]
     },
     "execution_count": 25,
     "metadata": {},
     "output_type": "execute_result"
    }
   ],
   "source": [
    "data_heavy.head(2)"
   ]
  },
  {
   "cell_type": "code",
   "execution_count": 26,
   "metadata": {},
   "outputs": [],
   "source": [
    "data_heavy_util = data_heavy.drop(['Referee','date','location'], axis=1)\n",
    "#dados que não se relacionam com os lutadores ou seus resultado"
   ]
  },
  {
   "cell_type": "code",
   "execution_count": 27,
   "metadata": {
    "scrolled": true
   },
   "outputs": [
    {
     "data": {
      "text/html": [
       "<div>\n",
       "<style scoped>\n",
       "    .dataframe tbody tr th:only-of-type {\n",
       "        vertical-align: middle;\n",
       "    }\n",
       "\n",
       "    .dataframe tbody tr th {\n",
       "        vertical-align: top;\n",
       "    }\n",
       "\n",
       "    .dataframe thead th {\n",
       "        text-align: right;\n",
       "    }\n",
       "</style>\n",
       "<table border=\"1\" class=\"dataframe\">\n",
       "  <thead>\n",
       "    <tr style=\"text-align: right;\">\n",
       "      <th></th>\n",
       "      <th>R_fighter</th>\n",
       "      <th>B_fighter</th>\n",
       "      <th>Winner</th>\n",
       "      <th>title_bout</th>\n",
       "      <th>weight_class</th>\n",
       "      <th>no_of_rounds</th>\n",
       "      <th>B_current_lose_streak</th>\n",
       "      <th>B_current_win_streak</th>\n",
       "      <th>B_draw</th>\n",
       "      <th>B_avg_BODY_att</th>\n",
       "      <th>...</th>\n",
       "      <th>R_win_by_KO/TKO</th>\n",
       "      <th>R_win_by_Submission</th>\n",
       "      <th>R_win_by_TKO_Doctor_Stoppage</th>\n",
       "      <th>R_wins</th>\n",
       "      <th>R_Stance</th>\n",
       "      <th>R_Height_cms</th>\n",
       "      <th>R_Reach_cms</th>\n",
       "      <th>R_Weight_lbs</th>\n",
       "      <th>B_age</th>\n",
       "      <th>R_age</th>\n",
       "    </tr>\n",
       "  </thead>\n",
       "  <tbody>\n",
       "    <tr>\n",
       "      <th>4</th>\n",
       "      <td>Tai Tuivasa</td>\n",
       "      <td>Blagoy Ivanov</td>\n",
       "      <td>0</td>\n",
       "      <td>0</td>\n",
       "      <td>Heavyweight</td>\n",
       "      <td>3</td>\n",
       "      <td>0</td>\n",
       "      <td>1</td>\n",
       "      <td>0</td>\n",
       "      <td>17.0</td>\n",
       "      <td>...</td>\n",
       "      <td>2</td>\n",
       "      <td>0</td>\n",
       "      <td>0</td>\n",
       "      <td>3</td>\n",
       "      <td>Southpaw</td>\n",
       "      <td>187.96</td>\n",
       "      <td>190.50</td>\n",
       "      <td>264.0</td>\n",
       "      <td>32.0</td>\n",
       "      <td>26.0</td>\n",
       "    </tr>\n",
       "    <tr>\n",
       "      <th>54</th>\n",
       "      <td>Walt Harris</td>\n",
       "      <td>Serghei Spivac</td>\n",
       "      <td>1</td>\n",
       "      <td>0</td>\n",
       "      <td>Heavyweight</td>\n",
       "      <td>3</td>\n",
       "      <td>0</td>\n",
       "      <td>0</td>\n",
       "      <td>0</td>\n",
       "      <td>NaN</td>\n",
       "      <td>...</td>\n",
       "      <td>4</td>\n",
       "      <td>0</td>\n",
       "      <td>0</td>\n",
       "      <td>4</td>\n",
       "      <td>Southpaw</td>\n",
       "      <td>195.58</td>\n",
       "      <td>195.58</td>\n",
       "      <td>250.0</td>\n",
       "      <td>24.0</td>\n",
       "      <td>35.0</td>\n",
       "    </tr>\n",
       "  </tbody>\n",
       "</table>\n",
       "<p>2 rows × 142 columns</p>\n",
       "</div>"
      ],
      "text/plain": [
       "      R_fighter       B_fighter  Winner  title_bout weight_class  \\\n",
       "4   Tai Tuivasa   Blagoy Ivanov       0           0  Heavyweight   \n",
       "54  Walt Harris  Serghei Spivac       1           0  Heavyweight   \n",
       "\n",
       "    no_of_rounds  B_current_lose_streak  B_current_win_streak  B_draw  \\\n",
       "4              3                      0                     1       0   \n",
       "54             3                      0                     0       0   \n",
       "\n",
       "    B_avg_BODY_att  ...    R_win_by_KO/TKO  R_win_by_Submission  \\\n",
       "4             17.0  ...                  2                    0   \n",
       "54             NaN  ...                  4                    0   \n",
       "\n",
       "    R_win_by_TKO_Doctor_Stoppage  R_wins  R_Stance  R_Height_cms  R_Reach_cms  \\\n",
       "4                              0       3  Southpaw        187.96       190.50   \n",
       "54                             0       4  Southpaw        195.58       195.58   \n",
       "\n",
       "    R_Weight_lbs  B_age  R_age  \n",
       "4          264.0   32.0   26.0  \n",
       "54         250.0   24.0   35.0  \n",
       "\n",
       "[2 rows x 142 columns]"
      ]
     },
     "execution_count": 27,
     "metadata": {},
     "output_type": "execute_result"
    }
   ],
   "source": [
    "data_heavy_util.head(2)"
   ]
  },
  {
   "cell_type": "code",
   "execution_count": 28,
   "metadata": {},
   "outputs": [
    {
     "data": {
      "text/html": [
       "<div>\n",
       "<style scoped>\n",
       "    .dataframe tbody tr th:only-of-type {\n",
       "        vertical-align: middle;\n",
       "    }\n",
       "\n",
       "    .dataframe tbody tr th {\n",
       "        vertical-align: top;\n",
       "    }\n",
       "\n",
       "    .dataframe thead th {\n",
       "        text-align: right;\n",
       "    }\n",
       "</style>\n",
       "<table border=\"1\" class=\"dataframe\">\n",
       "  <thead>\n",
       "    <tr style=\"text-align: right;\">\n",
       "      <th></th>\n",
       "      <th>R_fighter</th>\n",
       "      <th>B_fighter</th>\n",
       "      <th>Winner</th>\n",
       "      <th>title_bout</th>\n",
       "      <th>weight_class</th>\n",
       "      <th>no_of_rounds</th>\n",
       "      <th>B_current_lose_streak</th>\n",
       "      <th>B_current_win_streak</th>\n",
       "      <th>B_draw</th>\n",
       "      <th>B_avg_BODY_att</th>\n",
       "      <th>...</th>\n",
       "      <th>R_win_by_KO/TKO</th>\n",
       "      <th>R_win_by_Submission</th>\n",
       "      <th>R_win_by_TKO_Doctor_Stoppage</th>\n",
       "      <th>R_wins</th>\n",
       "      <th>R_Stance</th>\n",
       "      <th>R_Height_cms</th>\n",
       "      <th>R_Reach_cms</th>\n",
       "      <th>R_Weight_lbs</th>\n",
       "      <th>B_age</th>\n",
       "      <th>R_age</th>\n",
       "    </tr>\n",
       "  </thead>\n",
       "  <tbody>\n",
       "    <tr>\n",
       "      <th>4</th>\n",
       "      <td>Tai Tuivasa</td>\n",
       "      <td>Blagoy Ivanov</td>\n",
       "      <td>0</td>\n",
       "      <td>0</td>\n",
       "      <td>Heavyweight</td>\n",
       "      <td>3</td>\n",
       "      <td>0</td>\n",
       "      <td>1</td>\n",
       "      <td>0</td>\n",
       "      <td>17.0</td>\n",
       "      <td>...</td>\n",
       "      <td>2</td>\n",
       "      <td>0</td>\n",
       "      <td>0</td>\n",
       "      <td>3</td>\n",
       "      <td>Southpaw</td>\n",
       "      <td>187.96</td>\n",
       "      <td>190.5</td>\n",
       "      <td>264.0</td>\n",
       "      <td>32.0</td>\n",
       "      <td>26.0</td>\n",
       "    </tr>\n",
       "    <tr>\n",
       "      <th>60</th>\n",
       "      <td>Arjan Bhullar</td>\n",
       "      <td>Juan Adams</td>\n",
       "      <td>1</td>\n",
       "      <td>0</td>\n",
       "      <td>Heavyweight</td>\n",
       "      <td>3</td>\n",
       "      <td>0</td>\n",
       "      <td>1</td>\n",
       "      <td>0</td>\n",
       "      <td>8.0</td>\n",
       "      <td>...</td>\n",
       "      <td>0</td>\n",
       "      <td>0</td>\n",
       "      <td>0</td>\n",
       "      <td>2</td>\n",
       "      <td>Orthodox</td>\n",
       "      <td>185.42</td>\n",
       "      <td>190.5</td>\n",
       "      <td>245.0</td>\n",
       "      <td>27.0</td>\n",
       "      <td>32.0</td>\n",
       "    </tr>\n",
       "  </tbody>\n",
       "</table>\n",
       "<p>2 rows × 142 columns</p>\n",
       "</div>"
      ],
      "text/plain": [
       "        R_fighter      B_fighter  Winner  title_bout weight_class  \\\n",
       "4     Tai Tuivasa  Blagoy Ivanov       0           0  Heavyweight   \n",
       "60  Arjan Bhullar     Juan Adams       1           0  Heavyweight   \n",
       "\n",
       "    no_of_rounds  B_current_lose_streak  B_current_win_streak  B_draw  \\\n",
       "4              3                      0                     1       0   \n",
       "60             3                      0                     1       0   \n",
       "\n",
       "    B_avg_BODY_att  ...    R_win_by_KO/TKO  R_win_by_Submission  \\\n",
       "4             17.0  ...                  2                    0   \n",
       "60             8.0  ...                  0                    0   \n",
       "\n",
       "    R_win_by_TKO_Doctor_Stoppage  R_wins  R_Stance  R_Height_cms  R_Reach_cms  \\\n",
       "4                              0       3  Southpaw        187.96        190.5   \n",
       "60                             0       2  Orthodox        185.42        190.5   \n",
       "\n",
       "    R_Weight_lbs  B_age  R_age  \n",
       "4          264.0   32.0   26.0  \n",
       "60         245.0   27.0   32.0  \n",
       "\n",
       "[2 rows x 142 columns]"
      ]
     },
     "execution_count": 28,
     "metadata": {},
     "output_type": "execute_result"
    }
   ],
   "source": [
    "data_heavy_util.dropna(inplace=True)\n",
    "data_heavy_util.head(2)"
   ]
  },
  {
   "cell_type": "markdown",
   "metadata": {},
   "source": [
    "___\n",
    "### Tirando os dados categóricos:"
   ]
  },
  {
   "cell_type": "code",
   "execution_count": 29,
   "metadata": {},
   "outputs": [],
   "source": [
    "categoricas = [\n",
    "    'R_fighter', \n",
    "    'B_fighter', \n",
    "    'weight_class', \n",
    "    'R_Stance', \n",
    "    'B_Stance', \n",
    "]\n",
    "\n",
    "data_heavy_cat = data_heavy_util[categoricas].astype('category')\n",
    "data_heavy_num = data_heavy_util.drop(categoricas, axis=1).astype('float')"
   ]
  },
  {
   "cell_type": "markdown",
   "metadata": {},
   "source": [
    "## Teste temporário   ARRUMAR DEPOIS"
   ]
  },
  {
   "cell_type": "code",
   "execution_count": 30,
   "metadata": {},
   "outputs": [],
   "source": [
    "teste_x=data_heavy_num.loc[:,['B_current_lose_streak','B_current_win_streak','R_current_lose_streak','R_current_win_streak']]\n",
    "teste_y=data_heavy_num['Winner']"
   ]
  },
  {
   "cell_type": "code",
   "execution_count": 31,
   "metadata": {},
   "outputs": [
    {
     "name": "stdout",
     "output_type": "stream",
     "text": [
      "0.6060606060606061\n"
     ]
    }
   ],
   "source": [
    "X_Train, X_Test, y_Train, y_Test = train_test_split(teste_x, teste_y, test_size=0.25)\n",
    "model = RandomForestClassifier(n_estimators=10000)\n",
    "\n",
    "model.fit(X_Train, y_Train)\n",
    "y_Pred = model.predict(X_Test)\n",
    "\n",
    "print(accuracy_score(y_Test, y_Pred))"
   ]
  },
  {
   "cell_type": "markdown",
   "metadata": {},
   "source": [
    "___\n",
    "# Teste 1 - Random Forest"
   ]
  },
  {
   "cell_type": "code",
   "execution_count": 32,
   "metadata": {},
   "outputs": [],
   "source": [
    "X = data_heavy_num.drop('Winner', axis=1)\n",
    "y = data_heavy_num['Winner']"
   ]
  },
  {
   "cell_type": "markdown",
   "metadata": {},
   "source": [
    "## Separando os dados em testes e treinamento"
   ]
  },
  {
   "cell_type": "code",
   "execution_count": 33,
   "metadata": {},
   "outputs": [],
   "source": [
    "X_train_random, X_test_random, y_train_random, y_test_random = train_test_split(X, y, test_size=0.25)"
   ]
  },
  {
   "cell_type": "markdown",
   "metadata": {},
   "source": [
    "___\n",
    "## Montando modelo Random Forest"
   ]
  },
  {
   "cell_type": "code",
   "execution_count": 34,
   "metadata": {},
   "outputs": [
    {
     "data": {
      "text/plain": [
       "RandomForestClassifier(bootstrap=True, class_weight=None, criterion='gini',\n",
       "            max_depth=None, max_features='auto', max_leaf_nodes=None,\n",
       "            min_impurity_decrease=0.0, min_impurity_split=None,\n",
       "            min_samples_leaf=1, min_samples_split=2,\n",
       "            min_weight_fraction_leaf=0.0, n_estimators=10000, n_jobs=None,\n",
       "            oob_score=False, random_state=None, verbose=0,\n",
       "            warm_start=False)"
      ]
     },
     "execution_count": 34,
     "metadata": {},
     "output_type": "execute_result"
    }
   ],
   "source": [
    "model_random = RandomForestClassifier(n_estimators=10000)\n",
    "\n",
    "model_random.fit(X_train_random, y_train_random)"
   ]
  },
  {
   "cell_type": "markdown",
   "metadata": {},
   "source": [
    "___\n",
    "## Verificando a performance\n"
   ]
  },
  {
   "cell_type": "code",
   "execution_count": 35,
   "metadata": {},
   "outputs": [
    {
     "data": {
      "text/plain": [
       "Index(['title_bout', 'no_of_rounds', 'B_current_lose_streak',\n",
       "       'B_current_win_streak', 'B_draw', 'B_avg_BODY_att', 'B_avg_BODY_landed',\n",
       "       'B_avg_CLINCH_att', 'B_avg_CLINCH_landed', 'B_avg_DISTANCE_att',\n",
       "       ...\n",
       "       'R_win_by_Decision_Unanimous', 'R_win_by_KO/TKO', 'R_win_by_Submission',\n",
       "       'R_win_by_TKO_Doctor_Stoppage', 'R_wins', 'R_Height_cms', 'R_Reach_cms',\n",
       "       'R_Weight_lbs', 'B_age', 'R_age'],\n",
       "      dtype='object', length=136)"
      ]
     },
     "execution_count": 35,
     "metadata": {},
     "output_type": "execute_result"
    }
   ],
   "source": [
    "X_train_random.columns"
   ]
  },
  {
   "cell_type": "code",
   "execution_count": 36,
   "metadata": {
    "scrolled": true
   },
   "outputs": [
    {
     "data": {
      "text/plain": [
       "array([0.00039842, 0.0007982 , 0.00316457, 0.00292289, 0.        ,\n",
       "       0.01272663, 0.01183135, 0.00808746, 0.00837056, 0.00992644,\n",
       "       0.00946308, 0.00878109, 0.00937581, 0.01026415, 0.00900936,\n",
       "       0.00564233, 0.00943604, 0.00840461, 0.00681294, 0.00541592,\n",
       "       0.00961443, 0.00836938, 0.00812098, 0.00486232, 0.00917926,\n",
       "       0.00623138, 0.00613686, 0.01020084, 0.00895179, 0.0037845 ,\n",
       "       0.00357768, 0.00935141, 0.01025392, 0.00769637, 0.00771841,\n",
       "       0.00805765, 0.00853123, 0.01087959, 0.01068599, 0.00859753,\n",
       "       0.0083359 , 0.00436722, 0.01110645, 0.00895094, 0.00718057,\n",
       "       0.00407678, 0.00933084, 0.0077914 , 0.0088473 , 0.00606731,\n",
       "       0.00652738, 0.0056491 , 0.00631335, 0.01003571, 0.01287625,\n",
       "       0.00606956, 0.007096  , 0.00157905, 0.00050798, 0.00104345,\n",
       "       0.0027865 , 0.00426653, 0.0017338 , 0.00028288, 0.0038011 ,\n",
       "       0.00534477, 0.00839953, 0.00821804, 0.00292261, 0.00428449,\n",
       "       0.        , 0.00820921, 0.0074974 , 0.00907138, 0.00814767,\n",
       "       0.00888257, 0.00864878, 0.00920797, 0.00905817, 0.00981365,\n",
       "       0.00912282, 0.00774601, 0.00700471, 0.00676747, 0.00606502,\n",
       "       0.0025904 , 0.00925319, 0.00973048, 0.0097584 , 0.00441572,\n",
       "       0.00743257, 0.00756523, 0.01031   , 0.01003848, 0.00907209,\n",
       "       0.00346212, 0.01294773, 0.00829246, 0.01014161, 0.01213065,\n",
       "       0.01343344, 0.00849654, 0.00809371, 0.01304536, 0.01246677,\n",
       "       0.00969554, 0.01168456, 0.0084913 , 0.0068911 , 0.00715344,\n",
       "       0.007184  , 0.00317822, 0.00955586, 0.01013221, 0.00896683,\n",
       "       0.00610984, 0.00857135, 0.00597559, 0.0057061 , 0.00823433,\n",
       "       0.0134755 , 0.01258244, 0.00875418, 0.00277717, 0.00091866,\n",
       "       0.00058382, 0.00406698, 0.0054056 , 0.0025905 , 0.00062272,\n",
       "       0.0064827 , 0.00710439, 0.00939288, 0.00494801, 0.00887213,\n",
       "       0.01854613])"
      ]
     },
     "execution_count": 36,
     "metadata": {},
     "output_type": "execute_result"
    }
   ],
   "source": [
    "model_random.feature_importances_"
   ]
  },
  {
   "cell_type": "code",
   "execution_count": 37,
   "metadata": {},
   "outputs": [],
   "source": [
    "y_pred_random = model_random.predict(X_test_random)"
   ]
  },
  {
   "cell_type": "code",
   "execution_count": 38,
   "metadata": {},
   "outputs": [
    {
     "name": "stdout",
     "output_type": "stream",
     "text": [
      "0.5757575757575758\n"
     ]
    }
   ],
   "source": [
    "print(accuracy_score(y_test_random, y_pred_random))"
   ]
  },
  {
   "cell_type": "code",
   "execution_count": 39,
   "metadata": {},
   "outputs": [
    {
     "data": {
      "text/plain": [
       "array([1., 1., 1., 1., 1., 0., 1., 1., 1., 1., 1., 0., 1., 1., 1., 0., 1.,\n",
       "       0., 1., 1., 1., 0., 1., 1., 1., 1., 1., 1., 1., 1., 1., 1., 1., 1.,\n",
       "       1., 1., 1., 1., 1., 1., 0., 1., 1., 1., 1., 1., 1., 1., 1., 1., 1.,\n",
       "       1., 1., 1., 1., 1., 1., 1., 0., 1., 1., 1., 1., 1., 1., 1.])"
      ]
     },
     "execution_count": 39,
     "metadata": {},
     "output_type": "execute_result"
    }
   ],
   "source": [
    "y_pred_random"
   ]
  },
  {
   "cell_type": "code",
   "execution_count": 40,
   "metadata": {
    "scrolled": false
   },
   "outputs": [
    {
     "data": {
      "text/plain": [
       "1.0    0.590909\n",
       "0.0    0.409091\n",
       "Name: Winner, dtype: float64"
      ]
     },
     "execution_count": 40,
     "metadata": {},
     "output_type": "execute_result"
    }
   ],
   "source": [
    "y_test_random.value_counts(True)"
   ]
  },
  {
   "cell_type": "code",
   "execution_count": 41,
   "metadata": {},
   "outputs": [
    {
     "data": {
      "text/plain": [
       "1.0    167\n",
       "0.0     92\n",
       "2.0      5\n",
       "Name: Winner, dtype: int64"
      ]
     },
     "execution_count": 41,
     "metadata": {},
     "output_type": "execute_result"
    }
   ],
   "source": [
    "data_heavy_num.Winner.value_counts()"
   ]
  },
  {
   "cell_type": "markdown",
   "metadata": {},
   "source": [
    "   ___\n",
    "## Conclusão do Modelo inicial Random Forest:"
   ]
  },
  {
   "cell_type": "markdown",
   "metadata": {},
   "source": [
    "Tendo um acurácia de 0.6667 não é um bom resultado, visto que o modelo praticamente sempre tem como resultado o vermelho como vencedor, e como a probabilidade do lutador vermelho ganhar é de 0.6212112 ele praticamente só acerta os que o vencedor é o vermelho e erra os que o azul é o vencedor.\n",
    "\n",
    "Assim é possível concluir que é necessário desconsiderar algumas variáveis para melhorar a acurácia."
   ]
  },
  {
   "cell_type": "markdown",
   "metadata": {},
   "source": [
    "   ___\n",
    "## Criando um dataframe dos fatores mais impactantes no resultado segundo o teste acima:"
   ]
  },
  {
   "cell_type": "code",
   "execution_count": 47,
   "metadata": {},
   "outputs": [],
   "source": [
    "#Fatores que tem o maior peso na decisão da vitória\n",
    "j=1\n",
    "lista_j=list()\n",
    "for i, f in sorted(list(zip(model_random.feature_importances_, X_train_random.columns)), reverse=True):\n",
    "    a=str(j)+'°'\n",
    "    lista_j.append(a)\n",
    "    j+=1"
   ]
  },
  {
   "cell_type": "code",
   "execution_count": 48,
   "metadata": {},
   "outputs": [
    {
     "data": {
      "text/html": [
       "<div>\n",
       "<style scoped>\n",
       "    .dataframe tbody tr th:only-of-type {\n",
       "        vertical-align: middle;\n",
       "    }\n",
       "\n",
       "    .dataframe tbody tr th {\n",
       "        vertical-align: top;\n",
       "    }\n",
       "\n",
       "    .dataframe thead th {\n",
       "        text-align: right;\n",
       "    }\n",
       "</style>\n",
       "<table border=\"1\" class=\"dataframe\">\n",
       "  <thead>\n",
       "    <tr style=\"text-align: right;\">\n",
       "      <th></th>\n",
       "      <th>Fator</th>\n",
       "      <th>Correlação</th>\n",
       "    </tr>\n",
       "    <tr>\n",
       "      <th>Grau de Importância</th>\n",
       "      <th></th>\n",
       "      <th></th>\n",
       "    </tr>\n",
       "  </thead>\n",
       "  <tbody>\n",
       "    <tr>\n",
       "      <th>1°</th>\n",
       "      <td>R_age</td>\n",
       "      <td>0.018546</td>\n",
       "    </tr>\n",
       "    <tr>\n",
       "      <th>2°</th>\n",
       "      <td>R_avg_opp_TOTAL_STR_landed</td>\n",
       "      <td>0.013475</td>\n",
       "    </tr>\n",
       "  </tbody>\n",
       "</table>\n",
       "</div>"
      ],
      "text/plain": [
       "                                          Fator  Correlação\n",
       "Grau de Importância                                        \n",
       "1°                                        R_age    0.018546\n",
       "2°                   R_avg_opp_TOTAL_STR_landed    0.013475"
      ]
     },
     "execution_count": 48,
     "metadata": {},
     "output_type": "execute_result"
    }
   ],
   "source": [
    "data={'Fator':X_train_random.columns ,'Correlação':model_random.feature_importances_,}\n",
    "Fator_por_corr=pd.DataFrame(data)\n",
    "Fator_por_corr=Fator_por_corr.sort_values(by='Correlação', ascending=False)\n",
    "Fator_por_corr['Grau de Importância']=lista_j\n",
    "Fator_por_corr = Fator_por_corr.set_index('Grau de Importância')\n",
    "Fator_por_corr.head(2)"
   ]
  },
  {
   "cell_type": "code",
   "execution_count": 53,
   "metadata": {
    "scrolled": true
   },
   "outputs": [
    {
     "data": {
      "text/html": [
       "<div>\n",
       "<style scoped>\n",
       "    .dataframe tbody tr th:only-of-type {\n",
       "        vertical-align: middle;\n",
       "    }\n",
       "\n",
       "    .dataframe tbody tr th {\n",
       "        vertical-align: top;\n",
       "    }\n",
       "\n",
       "    .dataframe thead th {\n",
       "        text-align: right;\n",
       "    }\n",
       "</style>\n",
       "<table border=\"1\" class=\"dataframe\">\n",
       "  <thead>\n",
       "    <tr style=\"text-align: right;\">\n",
       "      <th></th>\n",
       "      <th>Winner</th>\n",
       "      <th>R_age</th>\n",
       "      <th>R_avg_opp_TOTAL_STR_landed</th>\n",
       "      <th>R_avg_opp_CLINCH_landed</th>\n",
       "      <th>R_avg_opp_GROUND_att</th>\n",
       "      <th>R_losses</th>\n",
       "      <th>B_avg_opp_TOTAL_STR_landed</th>\n",
       "      <th>B_avg_BODY_att</th>\n",
       "      <th>R_total_rounds_fought</th>\n",
       "      <th>R_avg_opp_GROUND_landed</th>\n",
       "      <th>...</th>\n",
       "      <th>B_avg_opp_GROUND_att</th>\n",
       "      <th>B_avg_opp_GROUND_landed</th>\n",
       "      <th>R_avg_TD_pct</th>\n",
       "      <th>B_avg_HEAD_att</th>\n",
       "      <th>B_avg_opp_BODY_landed</th>\n",
       "      <th>B_avg_TOTAL_STR_att</th>\n",
       "      <th>R_avg_opp_BODY_landed</th>\n",
       "      <th>R_avg_opp_SIG_STR_landed</th>\n",
       "      <th>R_avg_TOTAL_STR_att</th>\n",
       "      <th>B_avg_opp_TOTAL_STR_att</th>\n",
       "    </tr>\n",
       "  </thead>\n",
       "  <tbody>\n",
       "    <tr>\n",
       "      <th>4</th>\n",
       "      <td>0</td>\n",
       "      <td>26.0</td>\n",
       "      <td>27.750000</td>\n",
       "      <td>3.500000</td>\n",
       "      <td>7.750000</td>\n",
       "      <td>1</td>\n",
       "      <td>90.0</td>\n",
       "      <td>17.0</td>\n",
       "      <td>7</td>\n",
       "      <td>2.750000</td>\n",
       "      <td>...</td>\n",
       "      <td>0.0</td>\n",
       "      <td>0.0</td>\n",
       "      <td>0.00</td>\n",
       "      <td>184.5</td>\n",
       "      <td>23.5</td>\n",
       "      <td>204.0</td>\n",
       "      <td>4.750000</td>\n",
       "      <td>22.500000</td>\n",
       "      <td>63.500000</td>\n",
       "      <td>205.5</td>\n",
       "    </tr>\n",
       "    <tr>\n",
       "      <th>60</th>\n",
       "      <td>1</td>\n",
       "      <td>32.0</td>\n",
       "      <td>42.333333</td>\n",
       "      <td>5.333333</td>\n",
       "      <td>1.333333</td>\n",
       "      <td>1</td>\n",
       "      <td>46.0</td>\n",
       "      <td>8.0</td>\n",
       "      <td>8</td>\n",
       "      <td>0.666667</td>\n",
       "      <td>...</td>\n",
       "      <td>2.0</td>\n",
       "      <td>2.0</td>\n",
       "      <td>0.72</td>\n",
       "      <td>131.0</td>\n",
       "      <td>10.0</td>\n",
       "      <td>180.0</td>\n",
       "      <td>7.666667</td>\n",
       "      <td>29.333333</td>\n",
       "      <td>98.666667</td>\n",
       "      <td>81.0</td>\n",
       "    </tr>\n",
       "  </tbody>\n",
       "</table>\n",
       "<p>2 rows × 24 columns</p>\n",
       "</div>"
      ],
      "text/plain": [
       "    Winner  R_age  R_avg_opp_TOTAL_STR_landed  R_avg_opp_CLINCH_landed  \\\n",
       "4        0   26.0                   27.750000                 3.500000   \n",
       "60       1   32.0                   42.333333                 5.333333   \n",
       "\n",
       "    R_avg_opp_GROUND_att  R_losses  B_avg_opp_TOTAL_STR_landed  \\\n",
       "4               7.750000         1                        90.0   \n",
       "60              1.333333         1                        46.0   \n",
       "\n",
       "    B_avg_BODY_att  R_total_rounds_fought  R_avg_opp_GROUND_landed  \\\n",
       "4             17.0                      7                 2.750000   \n",
       "60             8.0                      8                 0.666667   \n",
       "\n",
       "             ...             B_avg_opp_GROUND_att  B_avg_opp_GROUND_landed  \\\n",
       "4            ...                              0.0                      0.0   \n",
       "60           ...                              2.0                      2.0   \n",
       "\n",
       "    R_avg_TD_pct  B_avg_HEAD_att  B_avg_opp_BODY_landed  B_avg_TOTAL_STR_att  \\\n",
       "4           0.00           184.5                   23.5                204.0   \n",
       "60          0.72           131.0                   10.0                180.0   \n",
       "\n",
       "    R_avg_opp_BODY_landed  R_avg_opp_SIG_STR_landed  R_avg_TOTAL_STR_att  \\\n",
       "4                4.750000                 22.500000            63.500000   \n",
       "60               7.666667                 29.333333            98.666667   \n",
       "\n",
       "    B_avg_opp_TOTAL_STR_att  \n",
       "4                     205.5  \n",
       "60                     81.0  \n",
       "\n",
       "[2 rows x 24 columns]"
      ]
     },
     "execution_count": 53,
     "metadata": {},
     "output_type": "execute_result"
    }
   ],
   "source": [
    "data_heavy_util_relevante = data_heavy_util.loc[:,uteis]\n",
    "data_heavy_util_relevante.head(2)"
   ]
  },
  {
   "cell_type": "markdown",
   "metadata": {},
   "source": [
    "   ___\n",
    "## Escolhendo quais dados devem ser usados nos modelos de predição:"
   ]
  },
  {
   "cell_type": "code",
   "execution_count": 50,
   "metadata": {},
   "outputs": [],
   "source": [
    "def relevancia(df,coluna_nome,coluna_correlacao,acuracia):\n",
    "    inuteis = []\n",
    "    uteis = ['Winner']\n",
    "    for index,row in df.iterrows():\n",
    "        if row[coluna_correlacao] >= -acuracia and row[coluna_correlacao] <= acuracia:\n",
    "            inuteis.append(row[coluna_nome])\n",
    "        else:\n",
    "            uteis.append(row[coluna_nome])\n",
    "    return uteis"
   ]
  },
  {
   "cell_type": "code",
   "execution_count": 51,
   "metadata": {},
   "outputs": [],
   "source": [
    "uteis = relevancia(Fator_por_corr,'Fator','Correlação',0.01)"
   ]
  },
  {
   "cell_type": "code",
   "execution_count": 52,
   "metadata": {
    "scrolled": true
   },
   "outputs": [
    {
     "data": {
      "text/html": [
       "<div>\n",
       "<style scoped>\n",
       "    .dataframe tbody tr th:only-of-type {\n",
       "        vertical-align: middle;\n",
       "    }\n",
       "\n",
       "    .dataframe tbody tr th {\n",
       "        vertical-align: top;\n",
       "    }\n",
       "\n",
       "    .dataframe thead th {\n",
       "        text-align: right;\n",
       "    }\n",
       "</style>\n",
       "<table border=\"1\" class=\"dataframe\">\n",
       "  <thead>\n",
       "    <tr style=\"text-align: right;\">\n",
       "      <th></th>\n",
       "      <th>Winner</th>\n",
       "      <th>R_age</th>\n",
       "      <th>R_avg_opp_TOTAL_STR_landed</th>\n",
       "      <th>R_avg_opp_CLINCH_landed</th>\n",
       "      <th>R_avg_opp_GROUND_att</th>\n",
       "      <th>R_losses</th>\n",
       "      <th>B_avg_opp_TOTAL_STR_landed</th>\n",
       "      <th>B_avg_BODY_att</th>\n",
       "      <th>R_total_rounds_fought</th>\n",
       "      <th>R_avg_opp_GROUND_landed</th>\n",
       "      <th>...</th>\n",
       "      <th>B_avg_opp_GROUND_att</th>\n",
       "      <th>B_avg_opp_GROUND_landed</th>\n",
       "      <th>R_avg_TD_pct</th>\n",
       "      <th>B_avg_HEAD_att</th>\n",
       "      <th>B_avg_opp_BODY_landed</th>\n",
       "      <th>B_avg_TOTAL_STR_att</th>\n",
       "      <th>R_avg_opp_BODY_landed</th>\n",
       "      <th>R_avg_opp_SIG_STR_landed</th>\n",
       "      <th>R_avg_TOTAL_STR_att</th>\n",
       "      <th>B_avg_opp_TOTAL_STR_att</th>\n",
       "    </tr>\n",
       "  </thead>\n",
       "  <tbody>\n",
       "    <tr>\n",
       "      <th>4</th>\n",
       "      <td>0</td>\n",
       "      <td>26.0</td>\n",
       "      <td>27.750000</td>\n",
       "      <td>3.500000</td>\n",
       "      <td>7.750000</td>\n",
       "      <td>1</td>\n",
       "      <td>90.000</td>\n",
       "      <td>17.00</td>\n",
       "      <td>7</td>\n",
       "      <td>2.750000</td>\n",
       "      <td>...</td>\n",
       "      <td>0.000</td>\n",
       "      <td>0.00</td>\n",
       "      <td>0.000000</td>\n",
       "      <td>184.5</td>\n",
       "      <td>23.5</td>\n",
       "      <td>204.00</td>\n",
       "      <td>4.750000</td>\n",
       "      <td>22.500000</td>\n",
       "      <td>63.500000</td>\n",
       "      <td>205.500</td>\n",
       "    </tr>\n",
       "    <tr>\n",
       "      <th>60</th>\n",
       "      <td>1</td>\n",
       "      <td>32.0</td>\n",
       "      <td>42.333333</td>\n",
       "      <td>5.333333</td>\n",
       "      <td>1.333333</td>\n",
       "      <td>1</td>\n",
       "      <td>46.000</td>\n",
       "      <td>8.00</td>\n",
       "      <td>8</td>\n",
       "      <td>0.666667</td>\n",
       "      <td>...</td>\n",
       "      <td>2.000</td>\n",
       "      <td>2.00</td>\n",
       "      <td>0.720000</td>\n",
       "      <td>131.0</td>\n",
       "      <td>10.0</td>\n",
       "      <td>180.00</td>\n",
       "      <td>7.666667</td>\n",
       "      <td>29.333333</td>\n",
       "      <td>98.666667</td>\n",
       "      <td>81.000</td>\n",
       "    </tr>\n",
       "    <tr>\n",
       "      <th>63</th>\n",
       "      <td>1</td>\n",
       "      <td>30.0</td>\n",
       "      <td>16.000000</td>\n",
       "      <td>1.000000</td>\n",
       "      <td>3.000000</td>\n",
       "      <td>1</td>\n",
       "      <td>58.000</td>\n",
       "      <td>5.00</td>\n",
       "      <td>2</td>\n",
       "      <td>3.000000</td>\n",
       "      <td>...</td>\n",
       "      <td>28.500</td>\n",
       "      <td>14.50</td>\n",
       "      <td>0.000000</td>\n",
       "      <td>15.5</td>\n",
       "      <td>2.0</td>\n",
       "      <td>65.00</td>\n",
       "      <td>0.000000</td>\n",
       "      <td>12.000000</td>\n",
       "      <td>70.000000</td>\n",
       "      <td>115.500</td>\n",
       "    </tr>\n",
       "    <tr>\n",
       "      <th>69</th>\n",
       "      <td>0</td>\n",
       "      <td>40.0</td>\n",
       "      <td>34.821429</td>\n",
       "      <td>3.035714</td>\n",
       "      <td>7.964286</td>\n",
       "      <td>12</td>\n",
       "      <td>84.000</td>\n",
       "      <td>35.00</td>\n",
       "      <td>59</td>\n",
       "      <td>5.357143</td>\n",
       "      <td>...</td>\n",
       "      <td>0.000</td>\n",
       "      <td>0.00</td>\n",
       "      <td>0.128571</td>\n",
       "      <td>169.0</td>\n",
       "      <td>24.0</td>\n",
       "      <td>233.00</td>\n",
       "      <td>3.750000</td>\n",
       "      <td>22.321429</td>\n",
       "      <td>74.250000</td>\n",
       "      <td>183.000</td>\n",
       "    </tr>\n",
       "    <tr>\n",
       "      <th>75</th>\n",
       "      <td>1</td>\n",
       "      <td>38.0</td>\n",
       "      <td>28.533333</td>\n",
       "      <td>4.200000</td>\n",
       "      <td>4.133333</td>\n",
       "      <td>6</td>\n",
       "      <td>31.125</td>\n",
       "      <td>4.25</td>\n",
       "      <td>29</td>\n",
       "      <td>3.466667</td>\n",
       "      <td>...</td>\n",
       "      <td>3.625</td>\n",
       "      <td>2.75</td>\n",
       "      <td>0.200000</td>\n",
       "      <td>28.5</td>\n",
       "      <td>3.5</td>\n",
       "      <td>58.25</td>\n",
       "      <td>3.533333</td>\n",
       "      <td>18.933333</td>\n",
       "      <td>51.600000</td>\n",
       "      <td>52.375</td>\n",
       "    </tr>\n",
       "  </tbody>\n",
       "</table>\n",
       "<p>5 rows × 24 columns</p>\n",
       "</div>"
      ],
      "text/plain": [
       "    Winner  R_age  R_avg_opp_TOTAL_STR_landed  R_avg_opp_CLINCH_landed  \\\n",
       "4        0   26.0                   27.750000                 3.500000   \n",
       "60       1   32.0                   42.333333                 5.333333   \n",
       "63       1   30.0                   16.000000                 1.000000   \n",
       "69       0   40.0                   34.821429                 3.035714   \n",
       "75       1   38.0                   28.533333                 4.200000   \n",
       "\n",
       "    R_avg_opp_GROUND_att  R_losses  B_avg_opp_TOTAL_STR_landed  \\\n",
       "4               7.750000         1                      90.000   \n",
       "60              1.333333         1                      46.000   \n",
       "63              3.000000         1                      58.000   \n",
       "69              7.964286        12                      84.000   \n",
       "75              4.133333         6                      31.125   \n",
       "\n",
       "    B_avg_BODY_att  R_total_rounds_fought  R_avg_opp_GROUND_landed  \\\n",
       "4            17.00                      7                 2.750000   \n",
       "60            8.00                      8                 0.666667   \n",
       "63            5.00                      2                 3.000000   \n",
       "69           35.00                     59                 5.357143   \n",
       "75            4.25                     29                 3.466667   \n",
       "\n",
       "             ...             B_avg_opp_GROUND_att  B_avg_opp_GROUND_landed  \\\n",
       "4            ...                            0.000                     0.00   \n",
       "60           ...                            2.000                     2.00   \n",
       "63           ...                           28.500                    14.50   \n",
       "69           ...                            0.000                     0.00   \n",
       "75           ...                            3.625                     2.75   \n",
       "\n",
       "    R_avg_TD_pct  B_avg_HEAD_att  B_avg_opp_BODY_landed  B_avg_TOTAL_STR_att  \\\n",
       "4       0.000000           184.5                   23.5               204.00   \n",
       "60      0.720000           131.0                   10.0               180.00   \n",
       "63      0.000000            15.5                    2.0                65.00   \n",
       "69      0.128571           169.0                   24.0               233.00   \n",
       "75      0.200000            28.5                    3.5                58.25   \n",
       "\n",
       "    R_avg_opp_BODY_landed  R_avg_opp_SIG_STR_landed  R_avg_TOTAL_STR_att  \\\n",
       "4                4.750000                 22.500000            63.500000   \n",
       "60               7.666667                 29.333333            98.666667   \n",
       "63               0.000000                 12.000000            70.000000   \n",
       "69               3.750000                 22.321429            74.250000   \n",
       "75               3.533333                 18.933333            51.600000   \n",
       "\n",
       "    B_avg_opp_TOTAL_STR_att  \n",
       "4                   205.500  \n",
       "60                   81.000  \n",
       "63                  115.500  \n",
       "69                  183.000  \n",
       "75                   52.375  \n",
       "\n",
       "[5 rows x 24 columns]"
      ]
     },
     "execution_count": 52,
     "metadata": {},
     "output_type": "execute_result"
    }
   ],
   "source": [
    "data_heavy_util_relevante = data_heavy_util.loc[:,uteis]\n",
    "data_heavy_util_relevante.head()"
   ]
  },
  {
   "cell_type": "markdown",
   "metadata": {},
   "source": [
    "___\n",
    "# Teste 2- Regressão Logística"
   ]
  },
  {
   "cell_type": "markdown",
   "metadata": {},
   "source": [
    "___\n",
    "## Montando a Regressão Logística\n"
   ]
  },
  {
   "cell_type": "markdown",
   "metadata": {},
   "source": [
    "## !Ainda é necessário tirar os fatores que foram julgados ter um baixo grau de importância pelo teste anterior!"
   ]
  },
  {
   "cell_type": "code",
   "execution_count": 54,
   "metadata": {
    "scrolled": false
   },
   "outputs": [],
   "source": [
    "def preparo(X,Y):\n",
    "    X_cp = sm.add_constant(X)\n",
    "    model = sm.OLS(Y,X_cp,missing='drop')\n",
    "    results = model.fit()\n",
    "    return results"
   ]
  },
  {
   "cell_type": "code",
   "execution_count": 55,
   "metadata": {},
   "outputs": [],
   "source": [
    "Y_log = data_heavy_util_relevante[\"Winner\"]\n",
    "data_heavy_sem_Winner=data_heavy_util_relevante.drop('Winner',axis=1) \n",
    "X_log=data_heavy_sem_Winner\n",
    "#np.asarray(X)"
   ]
  },
  {
   "cell_type": "code",
   "execution_count": 56,
   "metadata": {},
   "outputs": [],
   "source": [
    "X_train_log, X_test_log, y_train_log, y_test_log = train_test_split(X_log, Y_log, test_size=0.25)"
   ]
  },
  {
   "cell_type": "code",
   "execution_count": 57,
   "metadata": {},
   "outputs": [
    {
     "data": {
      "text/plain": [
       "LogisticRegression(C=1.0, class_weight=None, dual=False, fit_intercept=True,\n",
       "          intercept_scaling=1, max_iter=200000, multi_class='auto',\n",
       "          n_jobs=None, penalty='l2', random_state=None, solver='lbfgs',\n",
       "          tol=0.0001, verbose=0, warm_start=False)"
      ]
     },
     "execution_count": 57,
     "metadata": {},
     "output_type": "execute_result"
    }
   ],
   "source": [
    "model = LogisticRegression(max_iter=200000,solver='lbfgs', multi_class='auto')\n",
    "\n",
    "model.fit(X_train_log, y_train_log)"
   ]
  },
  {
   "cell_type": "code",
   "execution_count": 58,
   "metadata": {},
   "outputs": [],
   "source": [
    "y_pred_log = model.predict(X_test_log)"
   ]
  },
  {
   "cell_type": "code",
   "execution_count": 59,
   "metadata": {},
   "outputs": [
    {
     "name": "stdout",
     "output_type": "stream",
     "text": [
      "0.5606060606060606\n"
     ]
    }
   ],
   "source": [
    "print(accuracy_score(y_test_log, y_pred_log))"
   ]
  },
  {
   "cell_type": "code",
   "execution_count": 60,
   "metadata": {},
   "outputs": [
    {
     "data": {
      "text/plain": [
       "array([1, 2, 1, 1, 1, 1, 1, 1, 0, 0, 0, 1, 1, 1, 1, 1, 1, 1, 2, 1, 1, 1,\n",
       "       0, 1, 1, 2, 0, 0, 1, 0, 1, 1, 1, 1, 0, 1, 0, 1, 0, 1, 1, 1, 0, 1,\n",
       "       0, 2, 0, 1, 1, 1, 1, 1, 2, 1, 1, 1, 1, 1, 0, 1, 1, 0, 0, 1, 1, 1],\n",
       "      dtype=int64)"
      ]
     },
     "execution_count": 60,
     "metadata": {},
     "output_type": "execute_result"
    }
   ],
   "source": [
    "y_pred_log"
   ]
  },
  {
   "cell_type": "code",
   "execution_count": 61,
   "metadata": {},
   "outputs": [
    {
     "data": {
      "text/plain": [
       "1    0.606061\n",
       "0    0.363636\n",
       "2    0.030303\n",
       "Name: Winner, dtype: float64"
      ]
     },
     "execution_count": 61,
     "metadata": {},
     "output_type": "execute_result"
    }
   ],
   "source": [
    "y_test_log.value_counts(True)"
   ]
  },
  {
   "cell_type": "code",
   "execution_count": 62,
   "metadata": {},
   "outputs": [
    {
     "data": {
      "text/plain": [
       "1    167\n",
       "0     92\n",
       "2      5\n",
       "Name: Winner, dtype: int64"
      ]
     },
     "execution_count": 62,
     "metadata": {},
     "output_type": "execute_result"
    }
   ],
   "source": [
    "data_heavy_util_relevante.Winner.value_counts()"
   ]
  },
  {
   "cell_type": "code",
   "execution_count": 63,
   "metadata": {},
   "outputs": [
    {
     "data": {
      "text/html": [
       "<table class=\"simpletable\">\n",
       "<caption>OLS Regression Results</caption>\n",
       "<tr>\n",
       "  <th>Dep. Variable:</th>         <td>Winner</td>      <th>  R-squared:         </th> <td>   0.099</td>\n",
       "</tr>\n",
       "<tr>\n",
       "  <th>Model:</th>                   <td>OLS</td>       <th>  Adj. R-squared:    </th> <td>   0.012</td>\n",
       "</tr>\n",
       "<tr>\n",
       "  <th>Method:</th>             <td>Least Squares</td>  <th>  F-statistic:       </th> <td>   1.141</td>\n",
       "</tr>\n",
       "<tr>\n",
       "  <th>Date:</th>             <td>Tue, 19 Nov 2019</td> <th>  Prob (F-statistic):</th>  <td> 0.302</td> \n",
       "</tr>\n",
       "<tr>\n",
       "  <th>Time:</th>                 <td>15:59:10</td>     <th>  Log-Likelihood:    </th> <td> -182.48</td>\n",
       "</tr>\n",
       "<tr>\n",
       "  <th>No. Observations:</th>      <td>   264</td>      <th>  AIC:               </th> <td>   413.0</td>\n",
       "</tr>\n",
       "<tr>\n",
       "  <th>Df Residuals:</th>          <td>   240</td>      <th>  BIC:               </th> <td>   498.8</td>\n",
       "</tr>\n",
       "<tr>\n",
       "  <th>Df Model:</th>              <td>    23</td>      <th>                     </th>     <td> </td>   \n",
       "</tr>\n",
       "<tr>\n",
       "  <th>Covariance Type:</th>      <td>nonrobust</td>    <th>                     </th>     <td> </td>   \n",
       "</tr>\n",
       "</table>\n",
       "<table class=\"simpletable\">\n",
       "<tr>\n",
       "               <td></td>                 <th>coef</th>     <th>std err</th>      <th>t</th>      <th>P>|t|</th>  <th>[0.025</th>    <th>0.975]</th>  \n",
       "</tr>\n",
       "<tr>\n",
       "  <th>const</th>                      <td>    0.9992</td> <td>    0.306</td> <td>    3.265</td> <td> 0.001</td> <td>    0.396</td> <td>    1.602</td>\n",
       "</tr>\n",
       "<tr>\n",
       "  <th>R_age</th>                      <td>   -0.0070</td> <td>    0.009</td> <td>   -0.733</td> <td> 0.464</td> <td>   -0.026</td> <td>    0.012</td>\n",
       "</tr>\n",
       "<tr>\n",
       "  <th>R_avg_opp_TOTAL_STR_landed</th> <td>   -0.0005</td> <td>    0.004</td> <td>   -0.134</td> <td> 0.894</td> <td>   -0.009</td> <td>    0.007</td>\n",
       "</tr>\n",
       "<tr>\n",
       "  <th>R_avg_opp_CLINCH_landed</th>    <td>   -0.0070</td> <td>    0.037</td> <td>   -0.190</td> <td> 0.849</td> <td>   -0.080</td> <td>    0.066</td>\n",
       "</tr>\n",
       "<tr>\n",
       "  <th>R_avg_opp_GROUND_att</th>       <td>    0.0068</td> <td>    0.021</td> <td>    0.321</td> <td> 0.748</td> <td>   -0.035</td> <td>    0.049</td>\n",
       "</tr>\n",
       "<tr>\n",
       "  <th>R_losses</th>                   <td>   -0.0133</td> <td>    0.032</td> <td>   -0.410</td> <td> 0.682</td> <td>   -0.077</td> <td>    0.051</td>\n",
       "</tr>\n",
       "<tr>\n",
       "  <th>B_avg_opp_TOTAL_STR_landed</th> <td>    0.0044</td> <td>    0.005</td> <td>    0.919</td> <td> 0.359</td> <td>   -0.005</td> <td>    0.014</td>\n",
       "</tr>\n",
       "<tr>\n",
       "  <th>B_avg_BODY_att</th>             <td>    0.0029</td> <td>    0.026</td> <td>    0.112</td> <td> 0.911</td> <td>   -0.048</td> <td>    0.054</td>\n",
       "</tr>\n",
       "<tr>\n",
       "  <th>R_total_rounds_fought</th>      <td>    0.0012</td> <td>    0.006</td> <td>    0.194</td> <td> 0.846</td> <td>   -0.011</td> <td>    0.014</td>\n",
       "</tr>\n",
       "<tr>\n",
       "  <th>R_avg_opp_GROUND_landed</th>    <td>   -0.0136</td> <td>    0.031</td> <td>   -0.437</td> <td> 0.662</td> <td>   -0.075</td> <td>    0.048</td>\n",
       "</tr>\n",
       "<tr>\n",
       "  <th>R_avg_opp_CLINCH_att</th>       <td>   -0.0074</td> <td>    0.027</td> <td>   -0.273</td> <td> 0.785</td> <td>   -0.060</td> <td>    0.046</td>\n",
       "</tr>\n",
       "<tr>\n",
       "  <th>B_avg_BODY_landed</th>          <td>   -0.0167</td> <td>    0.032</td> <td>   -0.530</td> <td> 0.597</td> <td>   -0.079</td> <td>    0.046</td>\n",
       "</tr>\n",
       "<tr>\n",
       "  <th>R_avg_opp_HEAD_landed</th>      <td>   -0.0083</td> <td>    0.015</td> <td>   -0.559</td> <td> 0.577</td> <td>   -0.037</td> <td>    0.021</td>\n",
       "</tr>\n",
       "<tr>\n",
       "  <th>B_avg_opp_LEG_att</th>          <td>   -0.0027</td> <td>    0.012</td> <td>   -0.234</td> <td> 0.815</td> <td>   -0.026</td> <td>    0.020</td>\n",
       "</tr>\n",
       "<tr>\n",
       "  <th>B_avg_opp_GROUND_att</th>       <td>   -0.0023</td> <td>    0.019</td> <td>   -0.123</td> <td> 0.902</td> <td>   -0.040</td> <td>    0.035</td>\n",
       "</tr>\n",
       "<tr>\n",
       "  <th>B_avg_opp_GROUND_landed</th>    <td>   -0.0006</td> <td>    0.028</td> <td>   -0.021</td> <td> 0.984</td> <td>   -0.056</td> <td>    0.055</td>\n",
       "</tr>\n",
       "<tr>\n",
       "  <th>R_avg_TD_pct</th>               <td>    0.2047</td> <td>    0.152</td> <td>    1.344</td> <td> 0.180</td> <td>   -0.095</td> <td>    0.505</td>\n",
       "</tr>\n",
       "<tr>\n",
       "  <th>B_avg_HEAD_att</th>             <td>   -0.0012</td> <td>    0.003</td> <td>   -0.405</td> <td> 0.686</td> <td>   -0.007</td> <td>    0.005</td>\n",
       "</tr>\n",
       "<tr>\n",
       "  <th>B_avg_opp_BODY_landed</th>      <td>   -0.0034</td> <td>    0.009</td> <td>   -0.375</td> <td> 0.708</td> <td>   -0.021</td> <td>    0.014</td>\n",
       "</tr>\n",
       "<tr>\n",
       "  <th>B_avg_TOTAL_STR_att</th>        <td>   -0.0012</td> <td>    0.002</td> <td>   -0.572</td> <td> 0.568</td> <td>   -0.005</td> <td>    0.003</td>\n",
       "</tr>\n",
       "<tr>\n",
       "  <th>R_avg_opp_BODY_landed</th>      <td>   -0.0038</td> <td>    0.018</td> <td>   -0.214</td> <td> 0.830</td> <td>   -0.038</td> <td>    0.031</td>\n",
       "</tr>\n",
       "<tr>\n",
       "  <th>R_avg_opp_SIG_STR_landed</th>   <td>    0.0056</td> <td>    0.014</td> <td>    0.406</td> <td> 0.685</td> <td>   -0.022</td> <td>    0.033</td>\n",
       "</tr>\n",
       "<tr>\n",
       "  <th>R_avg_TOTAL_STR_att</th>        <td>    0.0013</td> <td>    0.001</td> <td>    0.962</td> <td> 0.337</td> <td>   -0.001</td> <td>    0.004</td>\n",
       "</tr>\n",
       "<tr>\n",
       "  <th>B_avg_opp_TOTAL_STR_att</th>    <td>   -0.0004</td> <td>    0.003</td> <td>   -0.132</td> <td> 0.895</td> <td>   -0.006</td> <td>    0.005</td>\n",
       "</tr>\n",
       "</table>\n",
       "<table class=\"simpletable\">\n",
       "<tr>\n",
       "  <th>Omnibus:</th>       <td> 8.223</td> <th>  Durbin-Watson:     </th> <td>   1.992</td>\n",
       "</tr>\n",
       "<tr>\n",
       "  <th>Prob(Omnibus):</th> <td> 0.016</td> <th>  Jarque-Bera (JB):  </th> <td>   5.698</td>\n",
       "</tr>\n",
       "<tr>\n",
       "  <th>Skew:</th>          <td>-0.225</td> <th>  Prob(JB):          </th> <td>  0.0579</td>\n",
       "</tr>\n",
       "<tr>\n",
       "  <th>Kurtosis:</th>      <td> 2.439</td> <th>  Cond. No.          </th> <td>1.58e+03</td>\n",
       "</tr>\n",
       "</table><br/><br/>Warnings:<br/>[1] Standard Errors assume that the covariance matrix of the errors is correctly specified.<br/>[2] The condition number is large, 1.58e+03. This might indicate that there are<br/>strong multicollinearity or other numerical problems."
      ],
      "text/plain": [
       "<class 'statsmodels.iolib.summary.Summary'>\n",
       "\"\"\"\n",
       "                            OLS Regression Results                            \n",
       "==============================================================================\n",
       "Dep. Variable:                 Winner   R-squared:                       0.099\n",
       "Model:                            OLS   Adj. R-squared:                  0.012\n",
       "Method:                 Least Squares   F-statistic:                     1.141\n",
       "Date:                Tue, 19 Nov 2019   Prob (F-statistic):              0.302\n",
       "Time:                        15:59:10   Log-Likelihood:                -182.48\n",
       "No. Observations:                 264   AIC:                             413.0\n",
       "Df Residuals:                     240   BIC:                             498.8\n",
       "Df Model:                          23                                         \n",
       "Covariance Type:            nonrobust                                         \n",
       "==============================================================================================\n",
       "                                 coef    std err          t      P>|t|      [0.025      0.975]\n",
       "----------------------------------------------------------------------------------------------\n",
       "const                          0.9992      0.306      3.265      0.001       0.396       1.602\n",
       "R_age                         -0.0070      0.009     -0.733      0.464      -0.026       0.012\n",
       "R_avg_opp_TOTAL_STR_landed    -0.0005      0.004     -0.134      0.894      -0.009       0.007\n",
       "R_avg_opp_CLINCH_landed       -0.0070      0.037     -0.190      0.849      -0.080       0.066\n",
       "R_avg_opp_GROUND_att           0.0068      0.021      0.321      0.748      -0.035       0.049\n",
       "R_losses                      -0.0133      0.032     -0.410      0.682      -0.077       0.051\n",
       "B_avg_opp_TOTAL_STR_landed     0.0044      0.005      0.919      0.359      -0.005       0.014\n",
       "B_avg_BODY_att                 0.0029      0.026      0.112      0.911      -0.048       0.054\n",
       "R_total_rounds_fought          0.0012      0.006      0.194      0.846      -0.011       0.014\n",
       "R_avg_opp_GROUND_landed       -0.0136      0.031     -0.437      0.662      -0.075       0.048\n",
       "R_avg_opp_CLINCH_att          -0.0074      0.027     -0.273      0.785      -0.060       0.046\n",
       "B_avg_BODY_landed             -0.0167      0.032     -0.530      0.597      -0.079       0.046\n",
       "R_avg_opp_HEAD_landed         -0.0083      0.015     -0.559      0.577      -0.037       0.021\n",
       "B_avg_opp_LEG_att             -0.0027      0.012     -0.234      0.815      -0.026       0.020\n",
       "B_avg_opp_GROUND_att          -0.0023      0.019     -0.123      0.902      -0.040       0.035\n",
       "B_avg_opp_GROUND_landed       -0.0006      0.028     -0.021      0.984      -0.056       0.055\n",
       "R_avg_TD_pct                   0.2047      0.152      1.344      0.180      -0.095       0.505\n",
       "B_avg_HEAD_att                -0.0012      0.003     -0.405      0.686      -0.007       0.005\n",
       "B_avg_opp_BODY_landed         -0.0034      0.009     -0.375      0.708      -0.021       0.014\n",
       "B_avg_TOTAL_STR_att           -0.0012      0.002     -0.572      0.568      -0.005       0.003\n",
       "R_avg_opp_BODY_landed         -0.0038      0.018     -0.214      0.830      -0.038       0.031\n",
       "R_avg_opp_SIG_STR_landed       0.0056      0.014      0.406      0.685      -0.022       0.033\n",
       "R_avg_TOTAL_STR_att            0.0013      0.001      0.962      0.337      -0.001       0.004\n",
       "B_avg_opp_TOTAL_STR_att       -0.0004      0.003     -0.132      0.895      -0.006       0.005\n",
       "==============================================================================\n",
       "Omnibus:                        8.223   Durbin-Watson:                   1.992\n",
       "Prob(Omnibus):                  0.016   Jarque-Bera (JB):                5.698\n",
       "Skew:                          -0.225   Prob(JB):                       0.0579\n",
       "Kurtosis:                       2.439   Cond. No.                     1.58e+03\n",
       "==============================================================================\n",
       "\n",
       "Warnings:\n",
       "[1] Standard Errors assume that the covariance matrix of the errors is correctly specified.\n",
       "[2] The condition number is large, 1.58e+03. This might indicate that there are\n",
       "strong multicollinearity or other numerical problems.\n",
       "\"\"\""
      ]
     },
     "execution_count": 63,
     "metadata": {},
     "output_type": "execute_result"
    }
   ],
   "source": [
    "result = preparo(X_log,Y_log)\n",
    "result.summary()"
   ]
  },
  {
   "cell_type": "markdown",
   "metadata": {},
   "source": [
    "____\n",
    "## Predição do modelo"
   ]
  },
  {
   "cell_type": "markdown",
   "metadata": {},
   "source": [
    "___\n",
    "## Conclusão"
   ]
  },
  {
   "cell_type": "markdown",
   "metadata": {},
   "source": []
  },
  {
   "cell_type": "markdown",
   "metadata": {},
   "source": [
    "   ___\n",
    "## Aperfeiçoamento:\n"
   ]
  },
  {
   "cell_type": "markdown",
   "metadata": {},
   "source": []
  },
  {
   "cell_type": "markdown",
   "metadata": {},
   "source": [
    "   ___\n",
    "## Referências"
   ]
  },
  {
   "cell_type": "markdown",
   "metadata": {},
   "source": [
    "[Como usar a biblioteca Scikit-lear](https://scikit-learn.org/stable/modules/linear_model.html#logistic-regression)\n",
    "\n",
    "[Como funciona o Random Forest](https://towardsdatascience.com/understanding-random-forest-58381e0602d2)\n",
    "\n",
    "[Referencia do Random Forest Classifier](https://scikit-learn.org/stable/modules/generated/sklearn.ensemble.RandomForestClassifier.html)\n",
    "\n",
    "[Como funciona regressão linear](https://www.saedsayad.com/logistic_regression.htm)\n",
    "\n",
    "[Como usar a Regressão Linear](https://scikit-learn.org/stable/modules/generated/sklearn.linear_model.LinearRegression.html)\n",
    "\n"
   ]
  },
  {
   "cell_type": "code",
   "execution_count": 64,
   "metadata": {
    "scrolled": true
   },
   "outputs": [
    {
     "data": {
      "text/html": [
       "<div>\n",
       "<style scoped>\n",
       "    .dataframe tbody tr th:only-of-type {\n",
       "        vertical-align: middle;\n",
       "    }\n",
       "\n",
       "    .dataframe tbody tr th {\n",
       "        vertical-align: top;\n",
       "    }\n",
       "\n",
       "    .dataframe thead th {\n",
       "        text-align: right;\n",
       "    }\n",
       "</style>\n",
       "<table border=\"1\" class=\"dataframe\">\n",
       "  <thead>\n",
       "    <tr style=\"text-align: right;\">\n",
       "      <th></th>\n",
       "      <th>Fighter</th>\n",
       "      <th>Weight_class</th>\n",
       "      <th>Height_cms</th>\n",
       "      <th>Reach_cms</th>\n",
       "      <th>Weight_lbs</th>\n",
       "      <th>Age</th>\n",
       "    </tr>\n",
       "  </thead>\n",
       "  <tbody>\n",
       "    <tr>\n",
       "      <th>0</th>\n",
       "      <td>Henry Cejudo</td>\n",
       "      <td>Bantamweight</td>\n",
       "      <td>162.56</td>\n",
       "      <td>162.56</td>\n",
       "      <td>135.0</td>\n",
       "      <td>32.0</td>\n",
       "    </tr>\n",
       "    <tr>\n",
       "      <th>1</th>\n",
       "      <td>Valentina Shevchenko</td>\n",
       "      <td>Women's Flyweight</td>\n",
       "      <td>165.10</td>\n",
       "      <td>167.64</td>\n",
       "      <td>125.0</td>\n",
       "      <td>31.0</td>\n",
       "    </tr>\n",
       "  </tbody>\n",
       "</table>\n",
       "</div>"
      ],
      "text/plain": [
       "                Fighter       Weight_class  Height_cms  Reach_cms  Weight_lbs  \\\n",
       "0          Henry Cejudo       Bantamweight      162.56     162.56       135.0   \n",
       "1  Valentina Shevchenko  Women's Flyweight      165.10     167.64       125.0   \n",
       "\n",
       "    Age  \n",
       "0  32.0  \n",
       "1  31.0  "
      ]
     },
     "execution_count": 64,
     "metadata": {},
     "output_type": "execute_result"
    }
   ],
   "source": [
    "#criando um novo dataframe\n",
    "lista_locB = [\"B_fighter\", \"weight_class\",\"B_Height_cms\",\"B_Reach_cms\",\"B_Weight_lbs\",\"B_age\"]\n",
    "lista_locR = [\"R_fighter\", \"weight_class\",\"R_Height_cms\",\"R_Reach_cms\",\"R_Weight_lbs\",\"R_age\"]\n",
    "data_red = data2.loc[: , lista_locR]\n",
    "data_blue = data2.loc[: , lista_locB]\n",
    "\n",
    "data_blue.columns = [\"Fighter\",\"Weight_class\",\"Height_cms\",\"Reach_cms\",\"Weight_lbs\",\"Age\"]\n",
    "data_red.columns = [\"Fighter\",\"Weight_class\",\"Height_cms\",\"Reach_cms\",\"Weight_lbs\",\"Age\"]\n",
    "\n",
    "data_red.head(2)"
   ]
  },
  {
   "cell_type": "code",
   "execution_count": 65,
   "metadata": {
    "scrolled": true
   },
   "outputs": [
    {
     "name": "stderr",
     "output_type": "stream",
     "text": [
      "C:\\ProgramData\\Anaconda3\\lib\\site-packages\\ipykernel_launcher.py:9: FutureWarning: Sorting because non-concatenation axis is not aligned. A future version\n",
      "of pandas will change to not sort by default.\n",
      "\n",
      "To accept the future behavior, pass 'sort=False'.\n",
      "\n",
      "To retain the current behavior and silence the warning, pass 'sort=True'.\n",
      "\n",
      "  if __name__ == '__main__':\n"
     ]
    },
    {
     "data": {
      "text/html": [
       "<div>\n",
       "<style scoped>\n",
       "    .dataframe tbody tr th:only-of-type {\n",
       "        vertical-align: middle;\n",
       "    }\n",
       "\n",
       "    .dataframe tbody tr th {\n",
       "        vertical-align: top;\n",
       "    }\n",
       "\n",
       "    .dataframe thead th {\n",
       "        text-align: right;\n",
       "    }\n",
       "</style>\n",
       "<table border=\"1\" class=\"dataframe\">\n",
       "  <thead>\n",
       "    <tr style=\"text-align: right;\">\n",
       "      <th></th>\n",
       "      <th>Age</th>\n",
       "      <th>Fighter</th>\n",
       "      <th>Height_cms</th>\n",
       "      <th>Reach_cms</th>\n",
       "      <th>Weight_class</th>\n",
       "      <th>Weight_lbs</th>\n",
       "    </tr>\n",
       "  </thead>\n",
       "  <tbody>\n",
       "    <tr>\n",
       "      <th>0</th>\n",
       "      <td>32</td>\n",
       "      <td>Henry Cejudo</td>\n",
       "      <td>162.56</td>\n",
       "      <td>162.56</td>\n",
       "      <td>Bantamweight</td>\n",
       "      <td>135</td>\n",
       "    </tr>\n",
       "    <tr>\n",
       "      <th>1</th>\n",
       "      <td>31</td>\n",
       "      <td>Valentina Shevchenko</td>\n",
       "      <td>165.1</td>\n",
       "      <td>167.64</td>\n",
       "      <td>Women's Flyweight</td>\n",
       "      <td>125</td>\n",
       "    </tr>\n",
       "  </tbody>\n",
       "</table>\n",
       "</div>"
      ],
      "text/plain": [
       "  Age               Fighter Height_cms Reach_cms       Weight_class Weight_lbs\n",
       "0  32          Henry Cejudo     162.56    162.56       Bantamweight        135\n",
       "1  31  Valentina Shevchenko      165.1    167.64  Women's Flyweight        125"
      ]
     },
     "execution_count": 65,
     "metadata": {},
     "output_type": "execute_result"
    }
   ],
   "source": [
    "newdataR = pd.DataFrame()\n",
    "\n",
    "\n",
    "namelist = []\n",
    "\n",
    "for n in range(0,5143):\n",
    "    if data_red.loc[n,:][\"Fighter\"] not in namelist:\n",
    "        namelist.append(data_red.loc[n,:][\"Fighter\"])\n",
    "        newdataR = pd.concat([newdataR,data_red.loc[n,:]], axis=1, join='outer')\n",
    "\n",
    "newdataR = newdataR.transpose()\n",
    "\n",
    "newdataR.head(2)"
   ]
  },
  {
   "cell_type": "code",
   "execution_count": 66,
   "metadata": {
    "scrolled": true
   },
   "outputs": [
    {
     "name": "stderr",
     "output_type": "stream",
     "text": [
      "C:\\ProgramData\\Anaconda3\\lib\\site-packages\\ipykernel_launcher.py:8: FutureWarning: Sorting because non-concatenation axis is not aligned. A future version\n",
      "of pandas will change to not sort by default.\n",
      "\n",
      "To accept the future behavior, pass 'sort=False'.\n",
      "\n",
      "To retain the current behavior and silence the warning, pass 'sort=True'.\n",
      "\n",
      "  \n"
     ]
    },
    {
     "data": {
      "text/html": [
       "<div>\n",
       "<style scoped>\n",
       "    .dataframe tbody tr th:only-of-type {\n",
       "        vertical-align: middle;\n",
       "    }\n",
       "\n",
       "    .dataframe tbody tr th {\n",
       "        vertical-align: top;\n",
       "    }\n",
       "\n",
       "    .dataframe thead th {\n",
       "        text-align: right;\n",
       "    }\n",
       "</style>\n",
       "<table border=\"1\" class=\"dataframe\">\n",
       "  <thead>\n",
       "    <tr style=\"text-align: right;\">\n",
       "      <th></th>\n",
       "      <th>Age</th>\n",
       "      <th>Fighter</th>\n",
       "      <th>Height_cms</th>\n",
       "      <th>Reach_cms</th>\n",
       "      <th>Weight_class</th>\n",
       "      <th>Weight_lbs</th>\n",
       "    </tr>\n",
       "  </thead>\n",
       "  <tbody>\n",
       "    <tr>\n",
       "      <th>0</th>\n",
       "      <td>31</td>\n",
       "      <td>Marlon Moraes</td>\n",
       "      <td>167.64</td>\n",
       "      <td>170.18</td>\n",
       "      <td>Bantamweight</td>\n",
       "      <td>135</td>\n",
       "    </tr>\n",
       "    <tr>\n",
       "      <th>1</th>\n",
       "      <td>32</td>\n",
       "      <td>Jessica Eye</td>\n",
       "      <td>167.64</td>\n",
       "      <td>167.64</td>\n",
       "      <td>Women's Flyweight</td>\n",
       "      <td>125</td>\n",
       "    </tr>\n",
       "  </tbody>\n",
       "</table>\n",
       "</div>"
      ],
      "text/plain": [
       "  Age        Fighter Height_cms Reach_cms       Weight_class Weight_lbs\n",
       "0  31  Marlon Moraes     167.64    170.18       Bantamweight        135\n",
       "1  32    Jessica Eye     167.64    167.64  Women's Flyweight        125"
      ]
     },
     "execution_count": 66,
     "metadata": {},
     "output_type": "execute_result"
    }
   ],
   "source": [
    "newdataB = pd.DataFrame()\n",
    "\n",
    "namelist = []\n",
    "\n",
    "for n in range(0,5143):\n",
    "    if data_blue.loc[n,:][\"Fighter\"] not in namelist:\n",
    "        namelist.append(data_blue.loc[n,:][\"Fighter\"])\n",
    "        newdataB = pd.concat([newdataB,data_blue.loc[n,:]], axis=1, join='outer')\n",
    "\n",
    "newdataB = newdataB.transpose()\n",
    "\n",
    "newdataB.head(2)"
   ]
  },
  {
   "cell_type": "code",
   "execution_count": 67,
   "metadata": {
    "scrolled": true
   },
   "outputs": [
    {
     "data": {
      "text/html": [
       "<div>\n",
       "<style scoped>\n",
       "    .dataframe tbody tr th:only-of-type {\n",
       "        vertical-align: middle;\n",
       "    }\n",
       "\n",
       "    .dataframe tbody tr th {\n",
       "        vertical-align: top;\n",
       "    }\n",
       "\n",
       "    .dataframe thead th {\n",
       "        text-align: right;\n",
       "    }\n",
       "</style>\n",
       "<table border=\"1\" class=\"dataframe\">\n",
       "  <thead>\n",
       "    <tr style=\"text-align: right;\">\n",
       "      <th></th>\n",
       "      <th>Age</th>\n",
       "      <th>Height_cms</th>\n",
       "      <th>Reach_cms</th>\n",
       "      <th>Weight_class</th>\n",
       "      <th>Weight_lbs</th>\n",
       "    </tr>\n",
       "    <tr>\n",
       "      <th>Fighter</th>\n",
       "      <th></th>\n",
       "      <th></th>\n",
       "      <th></th>\n",
       "      <th></th>\n",
       "      <th></th>\n",
       "    </tr>\n",
       "  </thead>\n",
       "  <tbody>\n",
       "    <tr>\n",
       "      <th>Marlon Moraes</th>\n",
       "      <td>31</td>\n",
       "      <td>167.64</td>\n",
       "      <td>170.18</td>\n",
       "      <td>Bantamweight</td>\n",
       "      <td>135</td>\n",
       "    </tr>\n",
       "    <tr>\n",
       "      <th>Jessica Eye</th>\n",
       "      <td>32</td>\n",
       "      <td>167.64</td>\n",
       "      <td>167.64</td>\n",
       "      <td>Women's Flyweight</td>\n",
       "      <td>125</td>\n",
       "    </tr>\n",
       "  </tbody>\n",
       "</table>\n",
       "</div>"
      ],
      "text/plain": [
       "              Age Height_cms Reach_cms       Weight_class Weight_lbs\n",
       "Fighter                                                             \n",
       "Marlon Moraes  31     167.64    170.18       Bantamweight        135\n",
       "Jessica Eye    32     167.64    167.64  Women's Flyweight        125"
      ]
     },
     "execution_count": 67,
     "metadata": {},
     "output_type": "execute_result"
    }
   ],
   "source": [
    "newdata = pd.concat([newdataB, newdataR], axis=0, join='outer', ignore_index=False, keys=None,levels=None, names=None, verify_integrity=False, copy=True)\n",
    "newdata = newdata.set_index(\"Fighter\")\n",
    "\n",
    "newdata.head(2)"
   ]
  },
  {
   "cell_type": "code",
   "execution_count": 69,
   "metadata": {},
   "outputs": [
    {
     "data": {
      "text/plain": [
       "{'Fator': Index(['title_bout', 'no_of_rounds', 'B_current_lose_streak',\n",
       "        'B_current_win_streak', 'B_draw', 'B_avg_BODY_att', 'B_avg_BODY_landed',\n",
       "        'B_avg_CLINCH_att', 'B_avg_CLINCH_landed', 'B_avg_DISTANCE_att',\n",
       "        ...\n",
       "        'R_win_by_Decision_Unanimous', 'R_win_by_KO/TKO', 'R_win_by_Submission',\n",
       "        'R_win_by_TKO_Doctor_Stoppage', 'R_wins', 'R_Height_cms', 'R_Reach_cms',\n",
       "        'R_Weight_lbs', 'B_age', 'R_age'],\n",
       "       dtype='object', length=136),\n",
       " 'Correlação': array([0.00039842, 0.0007982 , 0.00316457, 0.00292289, 0.        ,\n",
       "        0.01272663, 0.01183135, 0.00808746, 0.00837056, 0.00992644,\n",
       "        0.00946308, 0.00878109, 0.00937581, 0.01026415, 0.00900936,\n",
       "        0.00564233, 0.00943604, 0.00840461, 0.00681294, 0.00541592,\n",
       "        0.00961443, 0.00836938, 0.00812098, 0.00486232, 0.00917926,\n",
       "        0.00623138, 0.00613686, 0.01020084, 0.00895179, 0.0037845 ,\n",
       "        0.00357768, 0.00935141, 0.01025392, 0.00769637, 0.00771841,\n",
       "        0.00805765, 0.00853123, 0.01087959, 0.01068599, 0.00859753,\n",
       "        0.0083359 , 0.00436722, 0.01110645, 0.00895094, 0.00718057,\n",
       "        0.00407678, 0.00933084, 0.0077914 , 0.0088473 , 0.00606731,\n",
       "        0.00652738, 0.0056491 , 0.00631335, 0.01003571, 0.01287625,\n",
       "        0.00606956, 0.007096  , 0.00157905, 0.00050798, 0.00104345,\n",
       "        0.0027865 , 0.00426653, 0.0017338 , 0.00028288, 0.0038011 ,\n",
       "        0.00534477, 0.00839953, 0.00821804, 0.00292261, 0.00428449,\n",
       "        0.        , 0.00820921, 0.0074974 , 0.00907138, 0.00814767,\n",
       "        0.00888257, 0.00864878, 0.00920797, 0.00905817, 0.00981365,\n",
       "        0.00912282, 0.00774601, 0.00700471, 0.00676747, 0.00606502,\n",
       "        0.0025904 , 0.00925319, 0.00973048, 0.0097584 , 0.00441572,\n",
       "        0.00743257, 0.00756523, 0.01031   , 0.01003848, 0.00907209,\n",
       "        0.00346212, 0.01294773, 0.00829246, 0.01014161, 0.01213065,\n",
       "        0.01343344, 0.00849654, 0.00809371, 0.01304536, 0.01246677,\n",
       "        0.00969554, 0.01168456, 0.0084913 , 0.0068911 , 0.00715344,\n",
       "        0.007184  , 0.00317822, 0.00955586, 0.01013221, 0.00896683,\n",
       "        0.00610984, 0.00857135, 0.00597559, 0.0057061 , 0.00823433,\n",
       "        0.0134755 , 0.01258244, 0.00875418, 0.00277717, 0.00091866,\n",
       "        0.00058382, 0.00406698, 0.0054056 , 0.0025905 , 0.00062272,\n",
       "        0.0064827 , 0.00710439, 0.00939288, 0.00494801, 0.00887213,\n",
       "        0.01854613])}"
      ]
     },
     "execution_count": 69,
     "metadata": {},
     "output_type": "execute_result"
    }
   ],
   "source": [
    "data"
   ]
  },
  {
   "cell_type": "code",
   "execution_count": null,
   "metadata": {},
   "outputs": [],
   "source": []
  },
  {
   "cell_type": "code",
   "execution_count": null,
   "metadata": {},
   "outputs": [],
   "source": []
  },
  {
   "cell_type": "code",
   "execution_count": null,
   "metadata": {},
   "outputs": [],
   "source": []
  }
 ],
 "metadata": {
  "kernelspec": {
   "display_name": "Python 3",
   "language": "python",
   "name": "python3"
  },
  "language_info": {
   "codemirror_mode": {
    "name": "ipython",
    "version": 3
   },
   "file_extension": ".py",
   "mimetype": "text/x-python",
   "name": "python",
   "nbconvert_exporter": "python",
   "pygments_lexer": "ipython3",
   "version": "3.7.1"
  }
 },
 "nbformat": 4,
 "nbformat_minor": 4
}
