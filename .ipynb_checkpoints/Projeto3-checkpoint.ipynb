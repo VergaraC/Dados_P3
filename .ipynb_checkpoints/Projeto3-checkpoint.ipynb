{
 "cells": [
  {
   "cell_type": "markdown",
   "metadata": {},
   "source": [
    "# Projeto 3 - Ciência dos Dados"
   ]
  },
  {
   "cell_type": "markdown",
   "metadata": {},
   "source": [
    "#  Projeto UFC"
   ]
  },
  {
   "cell_type": "markdown",
   "metadata": {},
   "source": [
    "Nome: Victor Vergara Arcoverde de Albuquerque Cavalcanti\n",
    "\n",
    "Nome: Edgard Neto\n",
    "\n",
    "Nome: Gabriel Yamashita\n",
    "\n",
    "Nome: Henrique Mualem Marti\n",
    "\n"
   ]
  },
  {
   "cell_type": "markdown",
   "metadata": {},
   "source": [
    "  ___\n",
    "## Objetivo:"
   ]
  },
  {
   "cell_type": "markdown",
   "metadata": {},
   "source": [
    "### O objetivo desse projeto é fazer um machine learning para poder prever qual lutador ganhará uma luta do UFC baseado no seu histórico. Para isso serão usados os dados de todas as lutas do UFC (mais de 5 mil) a fim de descobrir quais os fatores dos lutadores que impactam mais no resultado das lutas. "
   ]
  },
  {
   "cell_type": "markdown",
   "metadata": {},
   "source": [
    "[Database utilizado](https://www.kaggle.com/rajeevw/ufcdata#data.csv)"
   ]
  },
  {
   "cell_type": "markdown",
   "metadata": {},
   "source": [
    "____\n",
    "## Método escolhido:"
   ]
  },
  {
   "cell_type": "markdown",
   "metadata": {},
   "source": [
    "### Random Forest:\n",
    "# ESPLICAR CADA UM\n",
    "\n",
    "### Regressão Logística:"
   ]
  },
  {
   "cell_type": "markdown",
   "metadata": {},
   "source": [
    " ___\n",
    "## Preparando o ambiente no jupyter:"
   ]
  },
  {
   "cell_type": "markdown",
   "metadata": {},
   "source": [
    "___\n",
    "### Imports:"
   ]
  },
  {
   "cell_type": "code",
   "execution_count": 247,
   "metadata": {
    "jupyter": {
     "outputs_hidden": true
    }
   },
   "outputs": [],
   "source": [
    "import math\n",
    "import os.path\n",
    "import pandas as pd\n",
    "import numpy as np\n",
    "import matplotlib\n",
    "import matplotlib.pyplot as plt\n",
    "import json\n",
    "import random\n",
    "import statsmodels.api as sm\n",
    "import seaborn as sns\n",
    "\n",
    "from sklearn.feature_extraction.text import CountVectorizer\n",
    "from sklearn.metrics import accuracy_score\n",
    "from sklearn.naive_bayes import MultinomialNB\n",
    "\n",
    "from sklearn.pipeline import Pipeline\n",
    "from sklearn.ensemble import RandomForestClassifier\n",
    "from sklearn.linear_model import LogisticRegression\n",
    "from sklearn.model_selection import train_test_split"
   ]
  },
  {
   "cell_type": "markdown",
   "metadata": {},
   "source": [
    "___\n",
    "### Trabalhando com os Excels:"
   ]
  },
  {
   "cell_type": "code",
   "execution_count": 272,
   "metadata": {},
   "outputs": [
    {
     "data": {
      "text/html": [
       "<div>\n",
       "<style scoped>\n",
       "    .dataframe tbody tr th:only-of-type {\n",
       "        vertical-align: middle;\n",
       "    }\n",
       "\n",
       "    .dataframe tbody tr th {\n",
       "        vertical-align: top;\n",
       "    }\n",
       "\n",
       "    .dataframe thead th {\n",
       "        text-align: right;\n",
       "    }\n",
       "</style>\n",
       "<table border=\"1\" class=\"dataframe\">\n",
       "  <thead>\n",
       "    <tr style=\"text-align: right;\">\n",
       "      <th></th>\n",
       "      <th>R_fighter</th>\n",
       "      <th>B_fighter</th>\n",
       "      <th>Referee</th>\n",
       "      <th>date</th>\n",
       "      <th>location</th>\n",
       "      <th>Winner</th>\n",
       "      <th>title_bout</th>\n",
       "      <th>weight_class</th>\n",
       "      <th>no_of_rounds</th>\n",
       "      <th>B_current_lose_streak</th>\n",
       "      <th>...</th>\n",
       "      <th>R_win_by_KO/TKO</th>\n",
       "      <th>R_win_by_Submission</th>\n",
       "      <th>R_win_by_TKO_Doctor_Stoppage</th>\n",
       "      <th>R_wins</th>\n",
       "      <th>R_Stance</th>\n",
       "      <th>R_Height_cms</th>\n",
       "      <th>R_Reach_cms</th>\n",
       "      <th>R_Weight_lbs</th>\n",
       "      <th>B_age</th>\n",
       "      <th>R_age</th>\n",
       "    </tr>\n",
       "  </thead>\n",
       "  <tbody>\n",
       "    <tr>\n",
       "      <th>0</th>\n",
       "      <td>Henry Cejudo</td>\n",
       "      <td>Marlon Moraes</td>\n",
       "      <td>Marc Goddard</td>\n",
       "      <td>2019</td>\n",
       "      <td>Chicago, Illinois, USA</td>\n",
       "      <td>Red</td>\n",
       "      <td>True</td>\n",
       "      <td>Bantamweight</td>\n",
       "      <td>5</td>\n",
       "      <td>0</td>\n",
       "      <td>...</td>\n",
       "      <td>2</td>\n",
       "      <td>0</td>\n",
       "      <td>0</td>\n",
       "      <td>8</td>\n",
       "      <td>Orthodox</td>\n",
       "      <td>162.56</td>\n",
       "      <td>162.56</td>\n",
       "      <td>135.0</td>\n",
       "      <td>31.0</td>\n",
       "      <td>32.0</td>\n",
       "    </tr>\n",
       "    <tr>\n",
       "      <th>1</th>\n",
       "      <td>Valentina Shevchenko</td>\n",
       "      <td>Jessica Eye</td>\n",
       "      <td>Robert Madrigal</td>\n",
       "      <td>2019</td>\n",
       "      <td>Chicago, Illinois, USA</td>\n",
       "      <td>Red</td>\n",
       "      <td>True</td>\n",
       "      <td>Women's Flyweight</td>\n",
       "      <td>5</td>\n",
       "      <td>0</td>\n",
       "      <td>...</td>\n",
       "      <td>0</td>\n",
       "      <td>2</td>\n",
       "      <td>0</td>\n",
       "      <td>5</td>\n",
       "      <td>Southpaw</td>\n",
       "      <td>165.10</td>\n",
       "      <td>167.64</td>\n",
       "      <td>125.0</td>\n",
       "      <td>32.0</td>\n",
       "      <td>31.0</td>\n",
       "    </tr>\n",
       "  </tbody>\n",
       "</table>\n",
       "<p>2 rows × 145 columns</p>\n",
       "</div>"
      ],
      "text/plain": [
       "              R_fighter      B_fighter          Referee  date  \\\n",
       "0          Henry Cejudo  Marlon Moraes     Marc Goddard  2019   \n",
       "1  Valentina Shevchenko    Jessica Eye  Robert Madrigal  2019   \n",
       "\n",
       "                 location Winner  title_bout       weight_class  no_of_rounds  \\\n",
       "0  Chicago, Illinois, USA    Red        True       Bantamweight             5   \n",
       "1  Chicago, Illinois, USA    Red        True  Women's Flyweight             5   \n",
       "\n",
       "   B_current_lose_streak  ...    R_win_by_KO/TKO  R_win_by_Submission  \\\n",
       "0                      0  ...                  2                    0   \n",
       "1                      0  ...                  0                    2   \n",
       "\n",
       "   R_win_by_TKO_Doctor_Stoppage  R_wins  R_Stance  R_Height_cms  R_Reach_cms  \\\n",
       "0                             0       8  Orthodox        162.56       162.56   \n",
       "1                             0       5  Southpaw        165.10       167.64   \n",
       "\n",
       "   R_Weight_lbs  B_age  R_age  \n",
       "0         135.0   31.0   32.0  \n",
       "1         125.0   32.0   31.0  \n",
       "\n",
       "[2 rows x 145 columns]"
      ]
     },
     "execution_count": 272,
     "metadata": {},
     "output_type": "execute_result"
    }
   ],
   "source": [
    "data = pd.read_excel(\"data.xlsx\")\n",
    "preproc = pd.read_excel(\"preprocessed_data.xlsx\")\n",
    "fighter = pd.read_excel(\"raw_fighter_details.xlsx\")\n",
    "total = pd.read_excel(\"raw_total_fight_data.xlsx\")\n",
    "data2 = data\n",
    "data.head(2)"
   ]
  },
  {
   "cell_type": "code",
   "execution_count": 274,
   "metadata": {},
   "outputs": [],
   "source": [
    "data.weight_class = data.weight_class.astype('category')\n",
    "data.Winner = data.Winner.astype('category')"
   ]
  },
  {
   "cell_type": "code",
   "execution_count": 275,
   "metadata": {},
   "outputs": [
    {
     "data": {
      "text/plain": [
       "Red     3470\n",
       "Blue    1591\n",
       "Draw      83\n",
       "Name: Winner, dtype: int64"
      ]
     },
     "execution_count": 275,
     "metadata": {},
     "output_type": "execute_result"
    }
   ],
   "source": [
    "data.Winner.value_counts()"
   ]
  },
  {
   "cell_type": "code",
   "execution_count": 251,
   "metadata": {},
   "outputs": [
    {
     "name": "stderr",
     "output_type": "stream",
     "text": [
      "C:\\ProgramData\\Anaconda3\\lib\\site-packages\\ipykernel_launcher.py:4: SettingWithCopyWarning: \n",
      "A value is trying to be set on a copy of a slice from a DataFrame.\n",
      "Try using .loc[row_indexer,col_indexer] = value instead\n",
      "\n",
      "See the caveats in the documentation: http://pandas.pydata.org/pandas-docs/stable/indexing.html#indexing-view-versus-copy\n",
      "  after removing the cwd from sys.path.\n",
      "C:\\ProgramData\\Anaconda3\\lib\\site-packages\\ipykernel_launcher.py:5: SettingWithCopyWarning: \n",
      "A value is trying to be set on a copy of a slice from a DataFrame.\n",
      "Try using .loc[row_indexer,col_indexer] = value instead\n",
      "\n",
      "See the caveats in the documentation: http://pandas.pydata.org/pandas-docs/stable/indexing.html#indexing-view-versus-copy\n",
      "  \"\"\"\n"
     ]
    }
   ],
   "source": [
    "data_heavy = data.loc[(data.weight_class=='Heavyweight'),:]\n",
    "bool_to_number = {False: 0, True: 1}\n",
    "string_to_number = {'Blue': 0, 'Red': 1, 'Draw': 2}\n",
    "data_heavy['title_bout'] = data_heavy['title_bout'].map(bool_to_number)\n",
    "data_heavy['Winner'] = data_heavy['Winner'].map(string_to_number)"
   ]
  },
  {
   "cell_type": "markdown",
   "metadata": {},
   "source": [
    "#### Blue = 0\n",
    "#### Red = 1"
   ]
  },
  {
   "cell_type": "code",
   "execution_count": 252,
   "metadata": {},
   "outputs": [
    {
     "data": {
      "text/html": [
       "<div>\n",
       "<style scoped>\n",
       "    .dataframe tbody tr th:only-of-type {\n",
       "        vertical-align: middle;\n",
       "    }\n",
       "\n",
       "    .dataframe tbody tr th {\n",
       "        vertical-align: top;\n",
       "    }\n",
       "\n",
       "    .dataframe thead th {\n",
       "        text-align: right;\n",
       "    }\n",
       "</style>\n",
       "<table border=\"1\" class=\"dataframe\">\n",
       "  <thead>\n",
       "    <tr style=\"text-align: right;\">\n",
       "      <th></th>\n",
       "      <th>R_fighter</th>\n",
       "      <th>B_fighter</th>\n",
       "      <th>Referee</th>\n",
       "      <th>date</th>\n",
       "      <th>location</th>\n",
       "      <th>Winner</th>\n",
       "      <th>title_bout</th>\n",
       "      <th>weight_class</th>\n",
       "      <th>no_of_rounds</th>\n",
       "      <th>B_current_lose_streak</th>\n",
       "      <th>...</th>\n",
       "      <th>R_win_by_KO/TKO</th>\n",
       "      <th>R_win_by_Submission</th>\n",
       "      <th>R_win_by_TKO_Doctor_Stoppage</th>\n",
       "      <th>R_wins</th>\n",
       "      <th>R_Stance</th>\n",
       "      <th>R_Height_cms</th>\n",
       "      <th>R_Reach_cms</th>\n",
       "      <th>R_Weight_lbs</th>\n",
       "      <th>B_age</th>\n",
       "      <th>R_age</th>\n",
       "    </tr>\n",
       "  </thead>\n",
       "  <tbody>\n",
       "    <tr>\n",
       "      <th>4</th>\n",
       "      <td>Tai Tuivasa</td>\n",
       "      <td>Blagoy Ivanov</td>\n",
       "      <td>Dan Miragliotta</td>\n",
       "      <td>2019</td>\n",
       "      <td>Chicago, Illinois, USA</td>\n",
       "      <td>0</td>\n",
       "      <td>0</td>\n",
       "      <td>Heavyweight</td>\n",
       "      <td>3</td>\n",
       "      <td>0</td>\n",
       "      <td>...</td>\n",
       "      <td>2</td>\n",
       "      <td>0</td>\n",
       "      <td>0</td>\n",
       "      <td>3</td>\n",
       "      <td>Southpaw</td>\n",
       "      <td>187.96</td>\n",
       "      <td>190.50</td>\n",
       "      <td>264.0</td>\n",
       "      <td>32.0</td>\n",
       "      <td>26.0</td>\n",
       "    </tr>\n",
       "    <tr>\n",
       "      <th>54</th>\n",
       "      <td>Walt Harris</td>\n",
       "      <td>Serghei Spivac</td>\n",
       "      <td>Jerin Valel</td>\n",
       "      <td>2019</td>\n",
       "      <td>Ottawa, Ontario, Canada</td>\n",
       "      <td>1</td>\n",
       "      <td>0</td>\n",
       "      <td>Heavyweight</td>\n",
       "      <td>3</td>\n",
       "      <td>0</td>\n",
       "      <td>...</td>\n",
       "      <td>4</td>\n",
       "      <td>0</td>\n",
       "      <td>0</td>\n",
       "      <td>4</td>\n",
       "      <td>Southpaw</td>\n",
       "      <td>195.58</td>\n",
       "      <td>195.58</td>\n",
       "      <td>250.0</td>\n",
       "      <td>24.0</td>\n",
       "      <td>35.0</td>\n",
       "    </tr>\n",
       "  </tbody>\n",
       "</table>\n",
       "<p>2 rows × 145 columns</p>\n",
       "</div>"
      ],
      "text/plain": [
       "      R_fighter       B_fighter          Referee  date  \\\n",
       "4   Tai Tuivasa   Blagoy Ivanov  Dan Miragliotta  2019   \n",
       "54  Walt Harris  Serghei Spivac      Jerin Valel  2019   \n",
       "\n",
       "                   location  Winner  title_bout weight_class  no_of_rounds  \\\n",
       "4    Chicago, Illinois, USA       0           0  Heavyweight             3   \n",
       "54  Ottawa, Ontario, Canada       1           0  Heavyweight             3   \n",
       "\n",
       "    B_current_lose_streak  ...    R_win_by_KO/TKO  R_win_by_Submission  \\\n",
       "4                       0  ...                  2                    0   \n",
       "54                      0  ...                  4                    0   \n",
       "\n",
       "    R_win_by_TKO_Doctor_Stoppage  R_wins  R_Stance  R_Height_cms  R_Reach_cms  \\\n",
       "4                              0       3  Southpaw        187.96       190.50   \n",
       "54                             0       4  Southpaw        195.58       195.58   \n",
       "\n",
       "    R_Weight_lbs  B_age  R_age  \n",
       "4          264.0   32.0   26.0  \n",
       "54         250.0   24.0   35.0  \n",
       "\n",
       "[2 rows x 145 columns]"
      ]
     },
     "execution_count": 252,
     "metadata": {},
     "output_type": "execute_result"
    }
   ],
   "source": [
    "data_heavy.head(2)"
   ]
  },
  {
   "cell_type": "code",
   "execution_count": 253,
   "metadata": {},
   "outputs": [],
   "source": [
    "data_heavy_util = data_heavy.drop(['Referee','date','location'], axis=1)\n",
    "#dados que não se relacionam com os lutadores ou seus resultado"
   ]
  },
  {
   "cell_type": "code",
   "execution_count": 254,
   "metadata": {
    "scrolled": true
   },
   "outputs": [
    {
     "data": {
      "text/html": [
       "<div>\n",
       "<style scoped>\n",
       "    .dataframe tbody tr th:only-of-type {\n",
       "        vertical-align: middle;\n",
       "    }\n",
       "\n",
       "    .dataframe tbody tr th {\n",
       "        vertical-align: top;\n",
       "    }\n",
       "\n",
       "    .dataframe thead th {\n",
       "        text-align: right;\n",
       "    }\n",
       "</style>\n",
       "<table border=\"1\" class=\"dataframe\">\n",
       "  <thead>\n",
       "    <tr style=\"text-align: right;\">\n",
       "      <th></th>\n",
       "      <th>R_fighter</th>\n",
       "      <th>B_fighter</th>\n",
       "      <th>Winner</th>\n",
       "      <th>title_bout</th>\n",
       "      <th>weight_class</th>\n",
       "      <th>no_of_rounds</th>\n",
       "      <th>B_current_lose_streak</th>\n",
       "      <th>B_current_win_streak</th>\n",
       "      <th>B_draw</th>\n",
       "      <th>B_avg_BODY_att</th>\n",
       "      <th>...</th>\n",
       "      <th>R_win_by_KO/TKO</th>\n",
       "      <th>R_win_by_Submission</th>\n",
       "      <th>R_win_by_TKO_Doctor_Stoppage</th>\n",
       "      <th>R_wins</th>\n",
       "      <th>R_Stance</th>\n",
       "      <th>R_Height_cms</th>\n",
       "      <th>R_Reach_cms</th>\n",
       "      <th>R_Weight_lbs</th>\n",
       "      <th>B_age</th>\n",
       "      <th>R_age</th>\n",
       "    </tr>\n",
       "  </thead>\n",
       "  <tbody>\n",
       "    <tr>\n",
       "      <th>4</th>\n",
       "      <td>Tai Tuivasa</td>\n",
       "      <td>Blagoy Ivanov</td>\n",
       "      <td>0</td>\n",
       "      <td>0</td>\n",
       "      <td>Heavyweight</td>\n",
       "      <td>3</td>\n",
       "      <td>0</td>\n",
       "      <td>1</td>\n",
       "      <td>0</td>\n",
       "      <td>17.0</td>\n",
       "      <td>...</td>\n",
       "      <td>2</td>\n",
       "      <td>0</td>\n",
       "      <td>0</td>\n",
       "      <td>3</td>\n",
       "      <td>Southpaw</td>\n",
       "      <td>187.96</td>\n",
       "      <td>190.50</td>\n",
       "      <td>264.0</td>\n",
       "      <td>32.0</td>\n",
       "      <td>26.0</td>\n",
       "    </tr>\n",
       "    <tr>\n",
       "      <th>54</th>\n",
       "      <td>Walt Harris</td>\n",
       "      <td>Serghei Spivac</td>\n",
       "      <td>1</td>\n",
       "      <td>0</td>\n",
       "      <td>Heavyweight</td>\n",
       "      <td>3</td>\n",
       "      <td>0</td>\n",
       "      <td>0</td>\n",
       "      <td>0</td>\n",
       "      <td>NaN</td>\n",
       "      <td>...</td>\n",
       "      <td>4</td>\n",
       "      <td>0</td>\n",
       "      <td>0</td>\n",
       "      <td>4</td>\n",
       "      <td>Southpaw</td>\n",
       "      <td>195.58</td>\n",
       "      <td>195.58</td>\n",
       "      <td>250.0</td>\n",
       "      <td>24.0</td>\n",
       "      <td>35.0</td>\n",
       "    </tr>\n",
       "  </tbody>\n",
       "</table>\n",
       "<p>2 rows × 142 columns</p>\n",
       "</div>"
      ],
      "text/plain": [
       "      R_fighter       B_fighter  Winner  title_bout weight_class  \\\n",
       "4   Tai Tuivasa   Blagoy Ivanov       0           0  Heavyweight   \n",
       "54  Walt Harris  Serghei Spivac       1           0  Heavyweight   \n",
       "\n",
       "    no_of_rounds  B_current_lose_streak  B_current_win_streak  B_draw  \\\n",
       "4              3                      0                     1       0   \n",
       "54             3                      0                     0       0   \n",
       "\n",
       "    B_avg_BODY_att  ...    R_win_by_KO/TKO  R_win_by_Submission  \\\n",
       "4             17.0  ...                  2                    0   \n",
       "54             NaN  ...                  4                    0   \n",
       "\n",
       "    R_win_by_TKO_Doctor_Stoppage  R_wins  R_Stance  R_Height_cms  R_Reach_cms  \\\n",
       "4                              0       3  Southpaw        187.96       190.50   \n",
       "54                             0       4  Southpaw        195.58       195.58   \n",
       "\n",
       "    R_Weight_lbs  B_age  R_age  \n",
       "4          264.0   32.0   26.0  \n",
       "54         250.0   24.0   35.0  \n",
       "\n",
       "[2 rows x 142 columns]"
      ]
     },
     "execution_count": 254,
     "metadata": {},
     "output_type": "execute_result"
    }
   ],
   "source": [
    "data_heavy_util.head(2)"
   ]
  },
  {
   "cell_type": "code",
   "execution_count": 255,
   "metadata": {},
   "outputs": [
    {
     "data": {
      "text/html": [
       "<div>\n",
       "<style scoped>\n",
       "    .dataframe tbody tr th:only-of-type {\n",
       "        vertical-align: middle;\n",
       "    }\n",
       "\n",
       "    .dataframe tbody tr th {\n",
       "        vertical-align: top;\n",
       "    }\n",
       "\n",
       "    .dataframe thead th {\n",
       "        text-align: right;\n",
       "    }\n",
       "</style>\n",
       "<table border=\"1\" class=\"dataframe\">\n",
       "  <thead>\n",
       "    <tr style=\"text-align: right;\">\n",
       "      <th></th>\n",
       "      <th>R_fighter</th>\n",
       "      <th>B_fighter</th>\n",
       "      <th>Winner</th>\n",
       "      <th>title_bout</th>\n",
       "      <th>weight_class</th>\n",
       "      <th>no_of_rounds</th>\n",
       "      <th>B_current_lose_streak</th>\n",
       "      <th>B_current_win_streak</th>\n",
       "      <th>B_draw</th>\n",
       "      <th>B_avg_BODY_att</th>\n",
       "      <th>...</th>\n",
       "      <th>R_win_by_KO/TKO</th>\n",
       "      <th>R_win_by_Submission</th>\n",
       "      <th>R_win_by_TKO_Doctor_Stoppage</th>\n",
       "      <th>R_wins</th>\n",
       "      <th>R_Stance</th>\n",
       "      <th>R_Height_cms</th>\n",
       "      <th>R_Reach_cms</th>\n",
       "      <th>R_Weight_lbs</th>\n",
       "      <th>B_age</th>\n",
       "      <th>R_age</th>\n",
       "    </tr>\n",
       "  </thead>\n",
       "  <tbody>\n",
       "    <tr>\n",
       "      <th>4</th>\n",
       "      <td>Tai Tuivasa</td>\n",
       "      <td>Blagoy Ivanov</td>\n",
       "      <td>0</td>\n",
       "      <td>0</td>\n",
       "      <td>Heavyweight</td>\n",
       "      <td>3</td>\n",
       "      <td>0</td>\n",
       "      <td>1</td>\n",
       "      <td>0</td>\n",
       "      <td>17.0</td>\n",
       "      <td>...</td>\n",
       "      <td>2</td>\n",
       "      <td>0</td>\n",
       "      <td>0</td>\n",
       "      <td>3</td>\n",
       "      <td>Southpaw</td>\n",
       "      <td>187.96</td>\n",
       "      <td>190.5</td>\n",
       "      <td>264.0</td>\n",
       "      <td>32.0</td>\n",
       "      <td>26.0</td>\n",
       "    </tr>\n",
       "    <tr>\n",
       "      <th>60</th>\n",
       "      <td>Arjan Bhullar</td>\n",
       "      <td>Juan Adams</td>\n",
       "      <td>1</td>\n",
       "      <td>0</td>\n",
       "      <td>Heavyweight</td>\n",
       "      <td>3</td>\n",
       "      <td>0</td>\n",
       "      <td>1</td>\n",
       "      <td>0</td>\n",
       "      <td>8.0</td>\n",
       "      <td>...</td>\n",
       "      <td>0</td>\n",
       "      <td>0</td>\n",
       "      <td>0</td>\n",
       "      <td>2</td>\n",
       "      <td>Orthodox</td>\n",
       "      <td>185.42</td>\n",
       "      <td>190.5</td>\n",
       "      <td>245.0</td>\n",
       "      <td>27.0</td>\n",
       "      <td>32.0</td>\n",
       "    </tr>\n",
       "  </tbody>\n",
       "</table>\n",
       "<p>2 rows × 142 columns</p>\n",
       "</div>"
      ],
      "text/plain": [
       "        R_fighter      B_fighter  Winner  title_bout weight_class  \\\n",
       "4     Tai Tuivasa  Blagoy Ivanov       0           0  Heavyweight   \n",
       "60  Arjan Bhullar     Juan Adams       1           0  Heavyweight   \n",
       "\n",
       "    no_of_rounds  B_current_lose_streak  B_current_win_streak  B_draw  \\\n",
       "4              3                      0                     1       0   \n",
       "60             3                      0                     1       0   \n",
       "\n",
       "    B_avg_BODY_att  ...    R_win_by_KO/TKO  R_win_by_Submission  \\\n",
       "4             17.0  ...                  2                    0   \n",
       "60             8.0  ...                  0                    0   \n",
       "\n",
       "    R_win_by_TKO_Doctor_Stoppage  R_wins  R_Stance  R_Height_cms  R_Reach_cms  \\\n",
       "4                              0       3  Southpaw        187.96        190.5   \n",
       "60                             0       2  Orthodox        185.42        190.5   \n",
       "\n",
       "    R_Weight_lbs  B_age  R_age  \n",
       "4          264.0   32.0   26.0  \n",
       "60         245.0   27.0   32.0  \n",
       "\n",
       "[2 rows x 142 columns]"
      ]
     },
     "execution_count": 255,
     "metadata": {},
     "output_type": "execute_result"
    }
   ],
   "source": [
    "data_heavy_util.dropna(inplace=True)\n",
    "data_heavy_util.head(2)"
   ]
  },
  {
   "cell_type": "markdown",
   "metadata": {},
   "source": [
    "___\n",
    "### Tirando os dados categóricos:"
   ]
  },
  {
   "cell_type": "code",
   "execution_count": 256,
   "metadata": {},
   "outputs": [],
   "source": [
    "categoricas = [\n",
    "    'R_fighter', \n",
    "    'B_fighter', \n",
    "    'weight_class', \n",
    "    'R_Stance', \n",
    "    'B_Stance', \n",
    "]\n",
    "\n",
    "data_heavy_cat = data_heavy_util[categoricas].astype('category')\n",
    "data_heavy_num = data_heavy_util.drop(categoricas, axis=1).astype('float')"
   ]
  },
  {
   "cell_type": "markdown",
   "metadata": {},
   "source": [
    "## Teste temporário   ARRUMAR DEPOIS"
   ]
  },
  {
   "cell_type": "code",
   "execution_count": 257,
   "metadata": {},
   "outputs": [],
   "source": [
    "teste_x=data_heavy_num.loc[:,['B_current_lose_streak','B_current_win_streak','R_current_lose_streak','R_current_win_streak']]\n",
    "teste_y=data_heavy_num['Winner']"
   ]
  },
  {
   "cell_type": "code",
   "execution_count": 258,
   "metadata": {},
   "outputs": [
    {
     "name": "stdout",
     "output_type": "stream",
     "text": [
      "0.6818181818181818\n"
     ]
    }
   ],
   "source": [
    "X_Train, X_Test, y_Train, y_Test = train_test_split(teste_x, teste_y, test_size=0.25)\n",
    "model = RandomForestClassifier(n_estimators=10000)\n",
    "\n",
    "model.fit(X_Train, y_Train)\n",
    "y_Pred = model.predict(X_Test)\n",
    "\n",
    "print(accuracy_score(y_Test, y_Pred))"
   ]
  },
  {
   "cell_type": "markdown",
   "metadata": {},
   "source": [
    "___\n",
    "# Teste 1 - Random Forest"
   ]
  },
  {
   "cell_type": "code",
   "execution_count": 276,
   "metadata": {},
   "outputs": [],
   "source": [
    "X = data_heavy_num.drop('Winner', axis=1)\n",
    "y = data_heavy_num['Winner']"
   ]
  },
  {
   "cell_type": "markdown",
   "metadata": {},
   "source": [
    "## Separando os dados em testes e treinamento"
   ]
  },
  {
   "cell_type": "code",
   "execution_count": 277,
   "metadata": {},
   "outputs": [],
   "source": [
    "X_train_random, X_test_random, y_train_random, y_test_random = train_test_split(X, y, test_size=0.25)"
   ]
  },
  {
   "cell_type": "markdown",
   "metadata": {},
   "source": [
    "___\n",
    "## Montando modelo Random Forest"
   ]
  },
  {
   "cell_type": "code",
   "execution_count": 278,
   "metadata": {},
   "outputs": [
    {
     "data": {
      "text/plain": [
       "RandomForestClassifier(bootstrap=True, class_weight=None, criterion='gini',\n",
       "            max_depth=None, max_features='auto', max_leaf_nodes=None,\n",
       "            min_impurity_decrease=0.0, min_impurity_split=None,\n",
       "            min_samples_leaf=1, min_samples_split=2,\n",
       "            min_weight_fraction_leaf=0.0, n_estimators=10000, n_jobs=None,\n",
       "            oob_score=False, random_state=None, verbose=0,\n",
       "            warm_start=False)"
      ]
     },
     "execution_count": 278,
     "metadata": {},
     "output_type": "execute_result"
    }
   ],
   "source": [
    "model_random = RandomForestClassifier(n_estimators=10000)\n",
    "\n",
    "model_random.fit(X_train_random, y_train_random)"
   ]
  },
  {
   "cell_type": "markdown",
   "metadata": {},
   "source": [
    "___\n",
    "## Verificando a performance\n"
   ]
  },
  {
   "cell_type": "code",
   "execution_count": 279,
   "metadata": {},
   "outputs": [
    {
     "data": {
      "text/plain": [
       "Index(['title_bout', 'no_of_rounds', 'B_current_lose_streak',\n",
       "       'B_current_win_streak', 'B_draw', 'B_avg_BODY_att', 'B_avg_BODY_landed',\n",
       "       'B_avg_CLINCH_att', 'B_avg_CLINCH_landed', 'B_avg_DISTANCE_att',\n",
       "       ...\n",
       "       'R_win_by_Decision_Unanimous', 'R_win_by_KO/TKO', 'R_win_by_Submission',\n",
       "       'R_win_by_TKO_Doctor_Stoppage', 'R_wins', 'R_Height_cms', 'R_Reach_cms',\n",
       "       'R_Weight_lbs', 'B_age', 'R_age'],\n",
       "      dtype='object', length=136)"
      ]
     },
     "execution_count": 279,
     "metadata": {},
     "output_type": "execute_result"
    }
   ],
   "source": [
    "X_train_random.columns"
   ]
  },
  {
   "cell_type": "code",
   "execution_count": 280,
   "metadata": {
    "scrolled": true
   },
   "outputs": [
    {
     "data": {
      "text/plain": [
       "array([0.00039858, 0.00109252, 0.00191712, 0.00380583, 0.        ,\n",
       "       0.02469296, 0.02187625, 0.00919552, 0.00955146, 0.01042005,\n",
       "       0.00904849, 0.00859086, 0.00798474, 0.01162293, 0.01093133,\n",
       "       0.00526104, 0.00904463, 0.00780882, 0.00683675, 0.00617193,\n",
       "       0.01199975, 0.01103503, 0.00843265, 0.00607374, 0.01183814,\n",
       "       0.00566785, 0.00872406, 0.01061377, 0.00910422, 0.00462285,\n",
       "       0.00395032, 0.00771737, 0.00817638, 0.00808217, 0.00723945,\n",
       "       0.00851092, 0.00731896, 0.0104615 , 0.00992341, 0.00906625,\n",
       "       0.00856003, 0.00619545, 0.01015016, 0.00854731, 0.00753945,\n",
       "       0.00372448, 0.00768816, 0.00687279, 0.01191989, 0.00417461,\n",
       "       0.01036044, 0.00810192, 0.00786093, 0.00952511, 0.0117437 ,\n",
       "       0.00760159, 0.00880495, 0.00193672, 0.0004282 , 0.00128265,\n",
       "       0.00240586, 0.00457102, 0.00247608, 0.00026567, 0.00444056,\n",
       "       0.00796019, 0.01011957, 0.00887855, 0.00211968, 0.00538634,\n",
       "       0.        , 0.00936087, 0.00804444, 0.00840456, 0.00886825,\n",
       "       0.00872042, 0.00850889, 0.0100096 , 0.01058454, 0.01014522,\n",
       "       0.00917414, 0.00660776, 0.00716311, 0.00632201, 0.00602401,\n",
       "       0.00449017, 0.0107667 , 0.00789279, 0.00903683, 0.0047103 ,\n",
       "       0.00874562, 0.00730278, 0.00675438, 0.01029141, 0.00766526,\n",
       "       0.00393302, 0.00674995, 0.00781894, 0.00713556, 0.01166007,\n",
       "       0.0096369 , 0.00757624, 0.00852056, 0.00964346, 0.00878575,\n",
       "       0.00813008, 0.00958755, 0.00904919, 0.00819197, 0.00776717,\n",
       "       0.00654619, 0.00353082, 0.00721699, 0.00858719, 0.00774307,\n",
       "       0.00554577, 0.00759237, 0.00561027, 0.00566445, 0.00795366,\n",
       "       0.01175808, 0.00755334, 0.00728166, 0.00196832, 0.00083203,\n",
       "       0.00067833, 0.0024075 , 0.00666035, 0.00300205, 0.00090039,\n",
       "       0.00568406, 0.00548609, 0.00970919, 0.00446307, 0.00770268,\n",
       "       0.01168895])"
      ]
     },
     "execution_count": 280,
     "metadata": {},
     "output_type": "execute_result"
    }
   ],
   "source": [
    "model_random.feature_importances_"
   ]
  },
  {
   "cell_type": "code",
   "execution_count": 281,
   "metadata": {},
   "outputs": [],
   "source": [
    "y_pred_random = model_random.predict(X_test_random)"
   ]
  },
  {
   "cell_type": "code",
   "execution_count": 282,
   "metadata": {},
   "outputs": [
    {
     "name": "stdout",
     "output_type": "stream",
     "text": [
      "0.6212121212121212\n"
     ]
    }
   ],
   "source": [
    "print(accuracy_score(y_test_random, y_pred_random))"
   ]
  },
  {
   "cell_type": "code",
   "execution_count": 283,
   "metadata": {},
   "outputs": [
    {
     "data": {
      "text/plain": [
       "array([1., 0., 0., 1., 1., 1., 1., 1., 1., 1., 1., 1., 1., 1., 1., 0., 1.,\n",
       "       1., 1., 0., 1., 0., 0., 1., 1., 0., 0., 1., 1., 1., 1., 1., 0., 1.,\n",
       "       1., 0., 1., 1., 1., 0., 0., 1., 1., 1., 1., 1., 1., 0., 1., 1., 1.,\n",
       "       1., 1., 1., 1., 1., 1., 1., 1., 1., 1., 1., 1., 1., 1., 1.])"
      ]
     },
     "execution_count": 283,
     "metadata": {},
     "output_type": "execute_result"
    }
   ],
   "source": [
    "y_pred_random"
   ]
  },
  {
   "cell_type": "code",
   "execution_count": 284,
   "metadata": {
    "scrolled": false
   },
   "outputs": [
    {
     "data": {
      "text/plain": [
       "1.0    0.606061\n",
       "0.0    0.363636\n",
       "2.0    0.030303\n",
       "Name: Winner, dtype: float64"
      ]
     },
     "execution_count": 284,
     "metadata": {},
     "output_type": "execute_result"
    }
   ],
   "source": [
    "y_test_random.value_counts(True)"
   ]
  },
  {
   "cell_type": "code",
   "execution_count": 285,
   "metadata": {},
   "outputs": [
    {
     "data": {
      "text/plain": [
       "1.0    167\n",
       "0.0     92\n",
       "2.0      5\n",
       "Name: Winner, dtype: int64"
      ]
     },
     "execution_count": 285,
     "metadata": {},
     "output_type": "execute_result"
    }
   ],
   "source": [
    "data_heavy_num.Winner.value_counts()"
   ]
  },
  {
   "cell_type": "markdown",
   "metadata": {},
   "source": [
    "   ___\n",
    "## Conclusão do Modelo inicial Random Forest:"
   ]
  },
  {
   "cell_type": "markdown",
   "metadata": {},
   "source": [
    "Tendo um acurácia de 0.6667 não é um bom resultado, visto que o modelo praticamente sempre tem como resultado o vermelho como vencedor, e como a probabilidade do lutador vermelho ganhar é de 0.6212112 ele praticamente só acerta os que o vencedor é o vermelho e erra os que o azul é o vencedor.\n",
    "\n",
    "Assim é possível concluir que é necessário desconsiderar algumas variáveis para melhorar a acurácia."
   ]
  },
  {
   "cell_type": "markdown",
   "metadata": {},
   "source": [
    "   ___\n",
    "## Criando um dataframe dos fatores mais impactantes no resultado segundo o teste acima:"
   ]
  },
  {
   "cell_type": "code",
   "execution_count": 312,
   "metadata": {},
   "outputs": [],
   "source": [
    "#Fatores que tem o maior peso na decisão da vitória\n",
    "j=1\n",
    "lista_j=list()\n",
    "for i, f in sorted(list(zip(model_random.feature_importances_, X_train_random.columns)), reverse=True):\n",
    "    a=str(j)+'°'\n",
    "    lista_j.append(a)\n",
    "    j+=1"
   ]
  },
  {
   "cell_type": "code",
   "execution_count": 315,
   "metadata": {},
   "outputs": [
    {
     "data": {
      "text/html": [
       "<div>\n",
       "<style scoped>\n",
       "    .dataframe tbody tr th:only-of-type {\n",
       "        vertical-align: middle;\n",
       "    }\n",
       "\n",
       "    .dataframe tbody tr th {\n",
       "        vertical-align: top;\n",
       "    }\n",
       "\n",
       "    .dataframe thead th {\n",
       "        text-align: right;\n",
       "    }\n",
       "</style>\n",
       "<table border=\"1\" class=\"dataframe\">\n",
       "  <thead>\n",
       "    <tr style=\"text-align: right;\">\n",
       "      <th></th>\n",
       "      <th>Fator</th>\n",
       "      <th>Correlação</th>\n",
       "    </tr>\n",
       "    <tr>\n",
       "      <th>Grau de Importância</th>\n",
       "      <th></th>\n",
       "      <th></th>\n",
       "    </tr>\n",
       "  </thead>\n",
       "  <tbody>\n",
       "    <tr>\n",
       "      <th>1°</th>\n",
       "      <td>B_avg_BODY_att</td>\n",
       "      <td>0.024693</td>\n",
       "    </tr>\n",
       "    <tr>\n",
       "      <th>2°</th>\n",
       "      <td>B_avg_BODY_landed</td>\n",
       "      <td>0.021876</td>\n",
       "    </tr>\n",
       "  </tbody>\n",
       "</table>\n",
       "</div>"
      ],
      "text/plain": [
       "                                 Fator  Correlação\n",
       "Grau de Importância                               \n",
       "1°                      B_avg_BODY_att    0.024693\n",
       "2°                   B_avg_BODY_landed    0.021876"
      ]
     },
     "execution_count": 315,
     "metadata": {},
     "output_type": "execute_result"
    }
   ],
   "source": [
    "data={'Fator':X_train_random.columns ,'Correlação':model_random.feature_importances_,}\n",
    "Fator_por_corr=pd.DataFrame(data)\n",
    "Fator_por_corr=Fator_por_corr.sort_values(by='Correlação', ascending=False)\n",
    "Fator_por_corr['Grau de Importância']=lista_j\n",
    "Fator_por_corr = Fator_por_corr.set_index('Grau de Importância')\n",
    "Fator_por_corr.head(2)"
   ]
  },
  {
   "cell_type": "code",
   "execution_count": 288,
   "metadata": {
    "scrolled": true
   },
   "outputs": [
    {
     "data": {
      "text/html": [
       "<div>\n",
       "<style scoped>\n",
       "    .dataframe tbody tr th:only-of-type {\n",
       "        vertical-align: middle;\n",
       "    }\n",
       "\n",
       "    .dataframe tbody tr th {\n",
       "        vertical-align: top;\n",
       "    }\n",
       "\n",
       "    .dataframe thead th {\n",
       "        text-align: right;\n",
       "    }\n",
       "</style>\n",
       "<table border=\"1\" class=\"dataframe\">\n",
       "  <thead>\n",
       "    <tr style=\"text-align: right;\">\n",
       "      <th></th>\n",
       "      <th>Winner</th>\n",
       "      <th>R_losses</th>\n",
       "      <th>R_age</th>\n",
       "      <th>R_total_rounds_fought</th>\n",
       "      <th>B_avg_BODY_att</th>\n",
       "      <th>B_avg_HEAD_landed</th>\n",
       "      <th>B_avg_BODY_landed</th>\n",
       "      <th>B_avg_SIG_STR_landed</th>\n",
       "      <th>B_Weight_lbs</th>\n",
       "      <th>B_avg_opp_GROUND_att</th>\n",
       "      <th>...</th>\n",
       "      <th>B_avg_TOTAL_STR_att</th>\n",
       "      <th>B_avg_opp_GROUND_landed</th>\n",
       "      <th>B_avg_SIG_STR_att</th>\n",
       "      <th>R_avg_BODY_landed</th>\n",
       "      <th>R_win_by_KO/TKO</th>\n",
       "      <th>R_avg_TD_att</th>\n",
       "      <th>R_avg_opp_SIG_STR_pct</th>\n",
       "      <th>R_avg_opp_CLINCH_landed</th>\n",
       "      <th>R_avg_TD_pct</th>\n",
       "      <th>B_avg_opp_TD_att</th>\n",
       "    </tr>\n",
       "  </thead>\n",
       "  <tbody>\n",
       "    <tr>\n",
       "      <th>4</th>\n",
       "      <td>0</td>\n",
       "      <td>1</td>\n",
       "      <td>26.0</td>\n",
       "      <td>7</td>\n",
       "      <td>17.0</td>\n",
       "      <td>45.0</td>\n",
       "      <td>14.5</td>\n",
       "      <td>61.5</td>\n",
       "      <td>250.0</td>\n",
       "      <td>0.0</td>\n",
       "      <td>...</td>\n",
       "      <td>204.0</td>\n",
       "      <td>0.0</td>\n",
       "      <td>203.5</td>\n",
       "      <td>6.750000</td>\n",
       "      <td>2</td>\n",
       "      <td>0.5</td>\n",
       "      <td>0.397500</td>\n",
       "      <td>3.500000</td>\n",
       "      <td>0.00</td>\n",
       "      <td>0.5</td>\n",
       "    </tr>\n",
       "    <tr>\n",
       "      <th>60</th>\n",
       "      <td>1</td>\n",
       "      <td>1</td>\n",
       "      <td>32.0</td>\n",
       "      <td>8</td>\n",
       "      <td>8.0</td>\n",
       "      <td>74.0</td>\n",
       "      <td>8.0</td>\n",
       "      <td>86.0</td>\n",
       "      <td>265.0</td>\n",
       "      <td>2.0</td>\n",
       "      <td>...</td>\n",
       "      <td>180.0</td>\n",
       "      <td>2.0</td>\n",
       "      <td>144.0</td>\n",
       "      <td>1.666667</td>\n",
       "      <td>0</td>\n",
       "      <td>2.0</td>\n",
       "      <td>0.416667</td>\n",
       "      <td>5.333333</td>\n",
       "      <td>0.72</td>\n",
       "      <td>2.0</td>\n",
       "    </tr>\n",
       "  </tbody>\n",
       "</table>\n",
       "<p>2 rows × 24 columns</p>\n",
       "</div>"
      ],
      "text/plain": [
       "    Winner  R_losses  R_age  R_total_rounds_fought  B_avg_BODY_att  \\\n",
       "4        0         1   26.0                      7            17.0   \n",
       "60       1         1   32.0                      8             8.0   \n",
       "\n",
       "    B_avg_HEAD_landed  B_avg_BODY_landed  B_avg_SIG_STR_landed  B_Weight_lbs  \\\n",
       "4                45.0               14.5                  61.5         250.0   \n",
       "60               74.0                8.0                  86.0         265.0   \n",
       "\n",
       "    B_avg_opp_GROUND_att        ...         B_avg_TOTAL_STR_att  \\\n",
       "4                    0.0        ...                       204.0   \n",
       "60                   2.0        ...                       180.0   \n",
       "\n",
       "    B_avg_opp_GROUND_landed  B_avg_SIG_STR_att  R_avg_BODY_landed  \\\n",
       "4                       0.0              203.5           6.750000   \n",
       "60                      2.0              144.0           1.666667   \n",
       "\n",
       "    R_win_by_KO/TKO  R_avg_TD_att  R_avg_opp_SIG_STR_pct  \\\n",
       "4                 2           0.5               0.397500   \n",
       "60                0           2.0               0.416667   \n",
       "\n",
       "    R_avg_opp_CLINCH_landed  R_avg_TD_pct  B_avg_opp_TD_att  \n",
       "4                  3.500000          0.00               0.5  \n",
       "60                 5.333333          0.72               2.0  \n",
       "\n",
       "[2 rows x 24 columns]"
      ]
     },
     "execution_count": 288,
     "metadata": {},
     "output_type": "execute_result"
    }
   ],
   "source": [
    "data_heavy_util_relevante = data_heavy_util.loc[:,uteis]\n",
    "data_heavy_util_relevante.head(2)"
   ]
  },
  {
   "cell_type": "markdown",
   "metadata": {},
   "source": [
    "   ___\n",
    "## Escolhendo quais dados devem ser usados nos modelos de predição:"
   ]
  },
  {
   "cell_type": "code",
   "execution_count": 289,
   "metadata": {},
   "outputs": [],
   "source": [
    "def relevancia(df,coluna_nome,coluna_correlacao,acuracia):\n",
    "    inuteis = []\n",
    "    uteis = ['Winner']\n",
    "    for index,row in df.iterrows():\n",
    "        if row[coluna_correlacao] >= -acuracia and row[coluna_correlacao] <= acuracia:\n",
    "            inuteis.append(row[coluna_nome])\n",
    "        else:\n",
    "            uteis.append(row[coluna_nome])\n",
    "    return uteis"
   ]
  },
  {
   "cell_type": "code",
   "execution_count": 290,
   "metadata": {},
   "outputs": [],
   "source": [
    "uteis = relevancia(Fator_por_corr,'Fator','Correlação',0.01)"
   ]
  },
  {
   "cell_type": "code",
   "execution_count": 291,
   "metadata": {
    "scrolled": true
   },
   "outputs": [
    {
     "data": {
      "text/html": [
       "<div>\n",
       "<style scoped>\n",
       "    .dataframe tbody tr th:only-of-type {\n",
       "        vertical-align: middle;\n",
       "    }\n",
       "\n",
       "    .dataframe tbody tr th {\n",
       "        vertical-align: top;\n",
       "    }\n",
       "\n",
       "    .dataframe thead th {\n",
       "        text-align: right;\n",
       "    }\n",
       "</style>\n",
       "<table border=\"1\" class=\"dataframe\">\n",
       "  <thead>\n",
       "    <tr style=\"text-align: right;\">\n",
       "      <th></th>\n",
       "      <th>Winner</th>\n",
       "      <th>R_losses</th>\n",
       "      <th>R_age</th>\n",
       "      <th>R_total_rounds_fought</th>\n",
       "      <th>B_avg_BODY_att</th>\n",
       "      <th>B_avg_HEAD_landed</th>\n",
       "      <th>B_avg_BODY_landed</th>\n",
       "      <th>B_avg_SIG_STR_landed</th>\n",
       "      <th>B_Weight_lbs</th>\n",
       "      <th>B_avg_opp_GROUND_att</th>\n",
       "      <th>...</th>\n",
       "      <th>B_avg_TOTAL_STR_att</th>\n",
       "      <th>B_avg_opp_GROUND_landed</th>\n",
       "      <th>B_avg_SIG_STR_att</th>\n",
       "      <th>R_avg_BODY_landed</th>\n",
       "      <th>R_win_by_KO/TKO</th>\n",
       "      <th>R_avg_TD_att</th>\n",
       "      <th>R_avg_opp_SIG_STR_pct</th>\n",
       "      <th>R_avg_opp_CLINCH_landed</th>\n",
       "      <th>R_avg_TD_pct</th>\n",
       "      <th>B_avg_opp_TD_att</th>\n",
       "    </tr>\n",
       "  </thead>\n",
       "  <tbody>\n",
       "    <tr>\n",
       "      <th>4</th>\n",
       "      <td>0</td>\n",
       "      <td>1</td>\n",
       "      <td>26.0</td>\n",
       "      <td>7</td>\n",
       "      <td>17.00</td>\n",
       "      <td>45.0</td>\n",
       "      <td>14.500</td>\n",
       "      <td>61.50</td>\n",
       "      <td>250.0</td>\n",
       "      <td>0.000</td>\n",
       "      <td>...</td>\n",
       "      <td>204.00</td>\n",
       "      <td>0.00</td>\n",
       "      <td>203.50</td>\n",
       "      <td>6.750000</td>\n",
       "      <td>2</td>\n",
       "      <td>0.500000</td>\n",
       "      <td>0.397500</td>\n",
       "      <td>3.500000</td>\n",
       "      <td>0.000000</td>\n",
       "      <td>0.500</td>\n",
       "    </tr>\n",
       "    <tr>\n",
       "      <th>60</th>\n",
       "      <td>1</td>\n",
       "      <td>1</td>\n",
       "      <td>32.0</td>\n",
       "      <td>8</td>\n",
       "      <td>8.00</td>\n",
       "      <td>74.0</td>\n",
       "      <td>8.000</td>\n",
       "      <td>86.00</td>\n",
       "      <td>265.0</td>\n",
       "      <td>2.000</td>\n",
       "      <td>...</td>\n",
       "      <td>180.00</td>\n",
       "      <td>2.00</td>\n",
       "      <td>144.00</td>\n",
       "      <td>1.666667</td>\n",
       "      <td>0</td>\n",
       "      <td>2.000000</td>\n",
       "      <td>0.416667</td>\n",
       "      <td>5.333333</td>\n",
       "      <td>0.720000</td>\n",
       "      <td>2.000</td>\n",
       "    </tr>\n",
       "    <tr>\n",
       "      <th>63</th>\n",
       "      <td>1</td>\n",
       "      <td>1</td>\n",
       "      <td>30.0</td>\n",
       "      <td>2</td>\n",
       "      <td>5.00</td>\n",
       "      <td>5.0</td>\n",
       "      <td>3.500</td>\n",
       "      <td>9.50</td>\n",
       "      <td>253.0</td>\n",
       "      <td>28.500</td>\n",
       "      <td>...</td>\n",
       "      <td>65.00</td>\n",
       "      <td>14.50</td>\n",
       "      <td>22.00</td>\n",
       "      <td>5.000000</td>\n",
       "      <td>0</td>\n",
       "      <td>0.000000</td>\n",
       "      <td>0.400000</td>\n",
       "      <td>1.000000</td>\n",
       "      <td>0.000000</td>\n",
       "      <td>4.000</td>\n",
       "    </tr>\n",
       "    <tr>\n",
       "      <th>69</th>\n",
       "      <td>0</td>\n",
       "      <td>12</td>\n",
       "      <td>40.0</td>\n",
       "      <td>59</td>\n",
       "      <td>35.00</td>\n",
       "      <td>81.0</td>\n",
       "      <td>21.000</td>\n",
       "      <td>111.00</td>\n",
       "      <td>265.0</td>\n",
       "      <td>0.000</td>\n",
       "      <td>...</td>\n",
       "      <td>233.00</td>\n",
       "      <td>0.00</td>\n",
       "      <td>218.00</td>\n",
       "      <td>4.571429</td>\n",
       "      <td>9</td>\n",
       "      <td>0.892857</td>\n",
       "      <td>0.389286</td>\n",
       "      <td>3.035714</td>\n",
       "      <td>0.128571</td>\n",
       "      <td>0.000</td>\n",
       "    </tr>\n",
       "    <tr>\n",
       "      <th>75</th>\n",
       "      <td>1</td>\n",
       "      <td>6</td>\n",
       "      <td>38.0</td>\n",
       "      <td>29</td>\n",
       "      <td>4.25</td>\n",
       "      <td>11.5</td>\n",
       "      <td>3.875</td>\n",
       "      <td>17.25</td>\n",
       "      <td>240.0</td>\n",
       "      <td>3.625</td>\n",
       "      <td>...</td>\n",
       "      <td>58.25</td>\n",
       "      <td>2.75</td>\n",
       "      <td>35.25</td>\n",
       "      <td>11.533333</td>\n",
       "      <td>6</td>\n",
       "      <td>0.866667</td>\n",
       "      <td>0.437333</td>\n",
       "      <td>4.200000</td>\n",
       "      <td>0.200000</td>\n",
       "      <td>1.125</td>\n",
       "    </tr>\n",
       "  </tbody>\n",
       "</table>\n",
       "<p>5 rows × 24 columns</p>\n",
       "</div>"
      ],
      "text/plain": [
       "    Winner  R_losses  R_age  R_total_rounds_fought  B_avg_BODY_att  \\\n",
       "4        0         1   26.0                      7           17.00   \n",
       "60       1         1   32.0                      8            8.00   \n",
       "63       1         1   30.0                      2            5.00   \n",
       "69       0        12   40.0                     59           35.00   \n",
       "75       1         6   38.0                     29            4.25   \n",
       "\n",
       "    B_avg_HEAD_landed  B_avg_BODY_landed  B_avg_SIG_STR_landed  B_Weight_lbs  \\\n",
       "4                45.0             14.500                 61.50         250.0   \n",
       "60               74.0              8.000                 86.00         265.0   \n",
       "63                5.0              3.500                  9.50         253.0   \n",
       "69               81.0             21.000                111.00         265.0   \n",
       "75               11.5              3.875                 17.25         240.0   \n",
       "\n",
       "    B_avg_opp_GROUND_att        ...         B_avg_TOTAL_STR_att  \\\n",
       "4                  0.000        ...                      204.00   \n",
       "60                 2.000        ...                      180.00   \n",
       "63                28.500        ...                       65.00   \n",
       "69                 0.000        ...                      233.00   \n",
       "75                 3.625        ...                       58.25   \n",
       "\n",
       "    B_avg_opp_GROUND_landed  B_avg_SIG_STR_att  R_avg_BODY_landed  \\\n",
       "4                      0.00             203.50           6.750000   \n",
       "60                     2.00             144.00           1.666667   \n",
       "63                    14.50              22.00           5.000000   \n",
       "69                     0.00             218.00           4.571429   \n",
       "75                     2.75              35.25          11.533333   \n",
       "\n",
       "    R_win_by_KO/TKO  R_avg_TD_att  R_avg_opp_SIG_STR_pct  \\\n",
       "4                 2      0.500000               0.397500   \n",
       "60                0      2.000000               0.416667   \n",
       "63                0      0.000000               0.400000   \n",
       "69                9      0.892857               0.389286   \n",
       "75                6      0.866667               0.437333   \n",
       "\n",
       "    R_avg_opp_CLINCH_landed  R_avg_TD_pct  B_avg_opp_TD_att  \n",
       "4                  3.500000      0.000000             0.500  \n",
       "60                 5.333333      0.720000             2.000  \n",
       "63                 1.000000      0.000000             4.000  \n",
       "69                 3.035714      0.128571             0.000  \n",
       "75                 4.200000      0.200000             1.125  \n",
       "\n",
       "[5 rows x 24 columns]"
      ]
     },
     "execution_count": 291,
     "metadata": {},
     "output_type": "execute_result"
    }
   ],
   "source": [
    "data_heavy_util_relevante = data_heavy_util.loc[:,uteis]\n",
    "data_heavy_util_relevante.head()"
   ]
  },
  {
   "cell_type": "markdown",
   "metadata": {},
   "source": [
    "___\n",
    "# Teste 2- Regressão Logística"
   ]
  },
  {
   "cell_type": "markdown",
   "metadata": {},
   "source": [
    "___\n",
    "## Montando a Regressão Logística\n"
   ]
  },
  {
   "cell_type": "markdown",
   "metadata": {},
   "source": [
    "## !Ainda é necessário tirar os fatores que foram julgados ter um baixo grau de importância pelo teste anterior!"
   ]
  },
  {
   "cell_type": "code",
   "execution_count": 292,
   "metadata": {
    "scrolled": false
   },
   "outputs": [],
   "source": [
    "def preparo(X,Y):\n",
    "    X_cp = sm.add_constant(X)\n",
    "    model = sm.OLS(Y,X_cp,missing='drop')\n",
    "    results = model.fit()\n",
    "    return results"
   ]
  },
  {
   "cell_type": "code",
   "execution_count": 293,
   "metadata": {},
   "outputs": [],
   "source": [
    "Y_log = data_heavy_util_relevante[\"Winner\"]\n",
    "data_heavy_sem_Winner=data_heavy_util_relevante.drop('Winner',axis=1) \n",
    "X_log=data_heavy_sem_Winner\n",
    "#np.asarray(X)"
   ]
  },
  {
   "cell_type": "code",
   "execution_count": 294,
   "metadata": {},
   "outputs": [],
   "source": [
    "X_train_log, X_test_log, y_train_log, y_test_log = train_test_split(X_log, Y_log, test_size=0.25)"
   ]
  },
  {
   "cell_type": "code",
   "execution_count": 295,
   "metadata": {},
   "outputs": [
    {
     "data": {
      "text/plain": [
       "LogisticRegression(C=1.0, class_weight=None, dual=False, fit_intercept=True,\n",
       "          intercept_scaling=1, max_iter=200000, multi_class='auto',\n",
       "          n_jobs=None, penalty='l2', random_state=None, solver='lbfgs',\n",
       "          tol=0.0001, verbose=0, warm_start=False)"
      ]
     },
     "execution_count": 295,
     "metadata": {},
     "output_type": "execute_result"
    }
   ],
   "source": [
    "model = LogisticRegression(max_iter=200000,solver='lbfgs', multi_class='auto')\n",
    "\n",
    "model.fit(X_train_log, y_train_log)"
   ]
  },
  {
   "cell_type": "code",
   "execution_count": 296,
   "metadata": {},
   "outputs": [],
   "source": [
    "y_pred_log = model.predict(X_test_log)"
   ]
  },
  {
   "cell_type": "code",
   "execution_count": 297,
   "metadata": {},
   "outputs": [
    {
     "name": "stdout",
     "output_type": "stream",
     "text": [
      "0.5\n"
     ]
    }
   ],
   "source": [
    "print(accuracy_score(y_test_log, y_pred_log))"
   ]
  },
  {
   "cell_type": "code",
   "execution_count": 298,
   "metadata": {},
   "outputs": [
    {
     "data": {
      "text/plain": [
       "array([1, 1, 0, 0, 0, 0, 1, 1, 0, 0, 1, 0, 1, 1, 0, 1, 1, 1, 0, 0, 1, 0,\n",
       "       1, 1, 1, 0, 1, 1, 1, 1, 1, 1, 1, 1, 0, 1, 1, 1, 0, 0, 1, 1, 0, 1,\n",
       "       1, 1, 1, 0, 0, 1, 1, 0, 1, 1, 1, 1, 1, 1, 1, 0, 1, 1, 1, 1, 1, 0],\n",
       "      dtype=int64)"
      ]
     },
     "execution_count": 298,
     "metadata": {},
     "output_type": "execute_result"
    }
   ],
   "source": [
    "y_pred_log"
   ]
  },
  {
   "cell_type": "code",
   "execution_count": 299,
   "metadata": {},
   "outputs": [
    {
     "data": {
      "text/plain": [
       "1    0.545455\n",
       "0    0.439394\n",
       "2    0.015152\n",
       "Name: Winner, dtype: float64"
      ]
     },
     "execution_count": 299,
     "metadata": {},
     "output_type": "execute_result"
    }
   ],
   "source": [
    "y_test_log.value_counts(True)"
   ]
  },
  {
   "cell_type": "code",
   "execution_count": 300,
   "metadata": {},
   "outputs": [
    {
     "data": {
      "text/plain": [
       "1    167\n",
       "0     92\n",
       "2      5\n",
       "Name: Winner, dtype: int64"
      ]
     },
     "execution_count": 300,
     "metadata": {},
     "output_type": "execute_result"
    }
   ],
   "source": [
    "data_heavy_util_relevante.Winner.value_counts()"
   ]
  },
  {
   "cell_type": "code",
   "execution_count": 301,
   "metadata": {},
   "outputs": [
    {
     "data": {
      "text/html": [
       "<table class=\"simpletable\">\n",
       "<caption>OLS Regression Results</caption>\n",
       "<tr>\n",
       "  <th>Dep. Variable:</th>         <td>Winner</td>      <th>  R-squared:         </th> <td>   0.093</td>\n",
       "</tr>\n",
       "<tr>\n",
       "  <th>Model:</th>                   <td>OLS</td>       <th>  Adj. R-squared:    </th> <td>   0.006</td>\n",
       "</tr>\n",
       "<tr>\n",
       "  <th>Method:</th>             <td>Least Squares</td>  <th>  F-statistic:       </th> <td>   1.073</td>\n",
       "</tr>\n",
       "<tr>\n",
       "  <th>Date:</th>             <td>Tue, 19 Nov 2019</td> <th>  Prob (F-statistic):</th>  <td> 0.377</td> \n",
       "</tr>\n",
       "<tr>\n",
       "  <th>Time:</th>                 <td>13:11:47</td>     <th>  Log-Likelihood:    </th> <td> -183.27</td>\n",
       "</tr>\n",
       "<tr>\n",
       "  <th>No. Observations:</th>      <td>   264</td>      <th>  AIC:               </th> <td>   414.5</td>\n",
       "</tr>\n",
       "<tr>\n",
       "  <th>Df Residuals:</th>          <td>   240</td>      <th>  BIC:               </th> <td>   500.4</td>\n",
       "</tr>\n",
       "<tr>\n",
       "  <th>Df Model:</th>              <td>    23</td>      <th>                     </th>     <td> </td>   \n",
       "</tr>\n",
       "<tr>\n",
       "  <th>Covariance Type:</th>      <td>nonrobust</td>    <th>                     </th>     <td> </td>   \n",
       "</tr>\n",
       "</table>\n",
       "<table class=\"simpletable\">\n",
       "<tr>\n",
       "             <td></td>                <th>coef</th>     <th>std err</th>      <th>t</th>      <th>P>|t|</th>  <th>[0.025</th>    <th>0.975]</th>  \n",
       "</tr>\n",
       "<tr>\n",
       "  <th>const</th>                   <td>    1.8179</td> <td>    0.591</td> <td>    3.074</td> <td> 0.002</td> <td>    0.653</td> <td>    2.983</td>\n",
       "</tr>\n",
       "<tr>\n",
       "  <th>R_losses</th>                <td>   -0.0267</td> <td>    0.030</td> <td>   -0.889</td> <td> 0.375</td> <td>   -0.086</td> <td>    0.033</td>\n",
       "</tr>\n",
       "<tr>\n",
       "  <th>R_age</th>                   <td>   -0.0087</td> <td>    0.009</td> <td>   -0.966</td> <td> 0.335</td> <td>   -0.026</td> <td>    0.009</td>\n",
       "</tr>\n",
       "<tr>\n",
       "  <th>R_total_rounds_fought</th>   <td>    0.0049</td> <td>    0.008</td> <td>    0.593</td> <td> 0.554</td> <td>   -0.011</td> <td>    0.021</td>\n",
       "</tr>\n",
       "<tr>\n",
       "  <th>B_avg_BODY_att</th>          <td>    0.0050</td> <td>    0.062</td> <td>    0.081</td> <td> 0.935</td> <td>   -0.117</td> <td>    0.127</td>\n",
       "</tr>\n",
       "<tr>\n",
       "  <th>B_avg_HEAD_landed</th>       <td>   -0.0018</td> <td>    0.062</td> <td>   -0.029</td> <td> 0.977</td> <td>   -0.125</td> <td>    0.121</td>\n",
       "</tr>\n",
       "<tr>\n",
       "  <th>B_avg_BODY_landed</th>       <td>   -0.0303</td> <td>    0.076</td> <td>   -0.401</td> <td> 0.689</td> <td>   -0.179</td> <td>    0.119</td>\n",
       "</tr>\n",
       "<tr>\n",
       "  <th>B_avg_SIG_STR_landed</th>    <td>    0.0167</td> <td>    0.065</td> <td>    0.257</td> <td> 0.797</td> <td>   -0.111</td> <td>    0.145</td>\n",
       "</tr>\n",
       "<tr>\n",
       "  <th>B_Weight_lbs</th>            <td>   -0.0025</td> <td>    0.002</td> <td>   -1.177</td> <td> 0.240</td> <td>   -0.007</td> <td>    0.002</td>\n",
       "</tr>\n",
       "<tr>\n",
       "  <th>B_avg_opp_GROUND_att</th>    <td>   -0.0038</td> <td>    0.017</td> <td>   -0.216</td> <td> 0.829</td> <td>   -0.038</td> <td>    0.031</td>\n",
       "</tr>\n",
       "<tr>\n",
       "  <th>B_avg_TOTAL_STR_landed</th>  <td>   -0.0096</td> <td>    0.021</td> <td>   -0.450</td> <td> 0.653</td> <td>   -0.051</td> <td>    0.032</td>\n",
       "</tr>\n",
       "<tr>\n",
       "  <th>B_avg_HEAD_att</th>          <td>   -0.0052</td> <td>    0.051</td> <td>   -0.103</td> <td> 0.918</td> <td>   -0.105</td> <td>    0.094</td>\n",
       "</tr>\n",
       "<tr>\n",
       "  <th>R_avg_TD_landed</th>         <td>   -0.0266</td> <td>    0.114</td> <td>   -0.234</td> <td> 0.815</td> <td>   -0.250</td> <td>    0.197</td>\n",
       "</tr>\n",
       "<tr>\n",
       "  <th>R_avg_BODY_att</th>          <td>   -0.0019</td> <td>    0.031</td> <td>   -0.061</td> <td> 0.952</td> <td>   -0.063</td> <td>    0.059</td>\n",
       "</tr>\n",
       "<tr>\n",
       "  <th>B_avg_TOTAL_STR_att</th>     <td>    0.0070</td> <td>    0.019</td> <td>    0.375</td> <td> 0.708</td> <td>   -0.030</td> <td>    0.044</td>\n",
       "</tr>\n",
       "<tr>\n",
       "  <th>B_avg_opp_GROUND_landed</th> <td>    0.0098</td> <td>    0.025</td> <td>    0.385</td> <td> 0.701</td> <td>   -0.040</td> <td>    0.060</td>\n",
       "</tr>\n",
       "<tr>\n",
       "  <th>B_avg_SIG_STR_att</th>       <td>   -0.0057</td> <td>    0.053</td> <td>   -0.107</td> <td> 0.915</td> <td>   -0.110</td> <td>    0.099</td>\n",
       "</tr>\n",
       "<tr>\n",
       "  <th>R_avg_BODY_landed</th>       <td>   -0.0033</td> <td>    0.037</td> <td>   -0.089</td> <td> 0.929</td> <td>   -0.077</td> <td>    0.070</td>\n",
       "</tr>\n",
       "<tr>\n",
       "  <th>R_win_by_KO/TKO</th>         <td>   -0.0059</td> <td>    0.023</td> <td>   -0.260</td> <td> 0.795</td> <td>   -0.051</td> <td>    0.039</td>\n",
       "</tr>\n",
       "<tr>\n",
       "  <th>R_avg_TD_att</th>            <td>    0.0197</td> <td>    0.047</td> <td>    0.416</td> <td> 0.678</td> <td>   -0.073</td> <td>    0.113</td>\n",
       "</tr>\n",
       "<tr>\n",
       "  <th>R_avg_opp_SIG_STR_pct</th>   <td>   -0.1705</td> <td>    0.281</td> <td>   -0.607</td> <td> 0.544</td> <td>   -0.724</td> <td>    0.383</td>\n",
       "</tr>\n",
       "<tr>\n",
       "  <th>R_avg_opp_CLINCH_landed</th> <td>   -0.0125</td> <td>    0.011</td> <td>   -1.187</td> <td> 0.236</td> <td>   -0.033</td> <td>    0.008</td>\n",
       "</tr>\n",
       "<tr>\n",
       "  <th>R_avg_TD_pct</th>            <td>    0.2031</td> <td>    0.219</td> <td>    0.928</td> <td> 0.354</td> <td>   -0.228</td> <td>    0.634</td>\n",
       "</tr>\n",
       "<tr>\n",
       "  <th>B_avg_opp_TD_att</th>        <td>   -0.0034</td> <td>    0.022</td> <td>   -0.159</td> <td> 0.874</td> <td>   -0.046</td> <td>    0.039</td>\n",
       "</tr>\n",
       "</table>\n",
       "<table class=\"simpletable\">\n",
       "<tr>\n",
       "  <th>Omnibus:</th>       <td> 6.295</td> <th>  Durbin-Watson:     </th> <td>   1.955</td>\n",
       "</tr>\n",
       "<tr>\n",
       "  <th>Prob(Omnibus):</th> <td> 0.043</td> <th>  Jarque-Bera (JB):  </th> <td>   4.320</td>\n",
       "</tr>\n",
       "<tr>\n",
       "  <th>Skew:</th>          <td>-0.166</td> <th>  Prob(JB):          </th> <td>   0.115</td>\n",
       "</tr>\n",
       "<tr>\n",
       "  <th>Kurtosis:</th>      <td> 2.468</td> <th>  Cond. No.          </th> <td>5.33e+03</td>\n",
       "</tr>\n",
       "</table><br/><br/>Warnings:<br/>[1] Standard Errors assume that the covariance matrix of the errors is correctly specified.<br/>[2] The condition number is large, 5.33e+03. This might indicate that there are<br/>strong multicollinearity or other numerical problems."
      ],
      "text/plain": [
       "<class 'statsmodels.iolib.summary.Summary'>\n",
       "\"\"\"\n",
       "                            OLS Regression Results                            \n",
       "==============================================================================\n",
       "Dep. Variable:                 Winner   R-squared:                       0.093\n",
       "Model:                            OLS   Adj. R-squared:                  0.006\n",
       "Method:                 Least Squares   F-statistic:                     1.073\n",
       "Date:                Tue, 19 Nov 2019   Prob (F-statistic):              0.377\n",
       "Time:                        13:11:47   Log-Likelihood:                -183.27\n",
       "No. Observations:                 264   AIC:                             414.5\n",
       "Df Residuals:                     240   BIC:                             500.4\n",
       "Df Model:                          23                                         \n",
       "Covariance Type:            nonrobust                                         \n",
       "===========================================================================================\n",
       "                              coef    std err          t      P>|t|      [0.025      0.975]\n",
       "-------------------------------------------------------------------------------------------\n",
       "const                       1.8179      0.591      3.074      0.002       0.653       2.983\n",
       "R_losses                   -0.0267      0.030     -0.889      0.375      -0.086       0.033\n",
       "R_age                      -0.0087      0.009     -0.966      0.335      -0.026       0.009\n",
       "R_total_rounds_fought       0.0049      0.008      0.593      0.554      -0.011       0.021\n",
       "B_avg_BODY_att              0.0050      0.062      0.081      0.935      -0.117       0.127\n",
       "B_avg_HEAD_landed          -0.0018      0.062     -0.029      0.977      -0.125       0.121\n",
       "B_avg_BODY_landed          -0.0303      0.076     -0.401      0.689      -0.179       0.119\n",
       "B_avg_SIG_STR_landed        0.0167      0.065      0.257      0.797      -0.111       0.145\n",
       "B_Weight_lbs               -0.0025      0.002     -1.177      0.240      -0.007       0.002\n",
       "B_avg_opp_GROUND_att       -0.0038      0.017     -0.216      0.829      -0.038       0.031\n",
       "B_avg_TOTAL_STR_landed     -0.0096      0.021     -0.450      0.653      -0.051       0.032\n",
       "B_avg_HEAD_att             -0.0052      0.051     -0.103      0.918      -0.105       0.094\n",
       "R_avg_TD_landed            -0.0266      0.114     -0.234      0.815      -0.250       0.197\n",
       "R_avg_BODY_att             -0.0019      0.031     -0.061      0.952      -0.063       0.059\n",
       "B_avg_TOTAL_STR_att         0.0070      0.019      0.375      0.708      -0.030       0.044\n",
       "B_avg_opp_GROUND_landed     0.0098      0.025      0.385      0.701      -0.040       0.060\n",
       "B_avg_SIG_STR_att          -0.0057      0.053     -0.107      0.915      -0.110       0.099\n",
       "R_avg_BODY_landed          -0.0033      0.037     -0.089      0.929      -0.077       0.070\n",
       "R_win_by_KO/TKO            -0.0059      0.023     -0.260      0.795      -0.051       0.039\n",
       "R_avg_TD_att                0.0197      0.047      0.416      0.678      -0.073       0.113\n",
       "R_avg_opp_SIG_STR_pct      -0.1705      0.281     -0.607      0.544      -0.724       0.383\n",
       "R_avg_opp_CLINCH_landed    -0.0125      0.011     -1.187      0.236      -0.033       0.008\n",
       "R_avg_TD_pct                0.2031      0.219      0.928      0.354      -0.228       0.634\n",
       "B_avg_opp_TD_att           -0.0034      0.022     -0.159      0.874      -0.046       0.039\n",
       "==============================================================================\n",
       "Omnibus:                        6.295   Durbin-Watson:                   1.955\n",
       "Prob(Omnibus):                  0.043   Jarque-Bera (JB):                4.320\n",
       "Skew:                          -0.166   Prob(JB):                        0.115\n",
       "Kurtosis:                       2.468   Cond. No.                     5.33e+03\n",
       "==============================================================================\n",
       "\n",
       "Warnings:\n",
       "[1] Standard Errors assume that the covariance matrix of the errors is correctly specified.\n",
       "[2] The condition number is large, 5.33e+03. This might indicate that there are\n",
       "strong multicollinearity or other numerical problems.\n",
       "\"\"\""
      ]
     },
     "execution_count": 301,
     "metadata": {},
     "output_type": "execute_result"
    }
   ],
   "source": [
    "result = preparo(X_log,Y_log)\n",
    "result.summary()"
   ]
  },
  {
   "cell_type": "markdown",
   "metadata": {},
   "source": [
    "____\n",
    "## Predição do modelo"
   ]
  },
  {
   "cell_type": "markdown",
   "metadata": {},
   "source": [
    "___\n",
    "## Conclusão"
   ]
  },
  {
   "cell_type": "markdown",
   "metadata": {},
   "source": []
  },
  {
   "cell_type": "markdown",
   "metadata": {},
   "source": [
    "   ___\n",
    "## Aperfeiçoamento:\n"
   ]
  },
  {
   "cell_type": "markdown",
   "metadata": {},
   "source": []
  },
  {
   "cell_type": "markdown",
   "metadata": {},
   "source": [
    "   ___\n",
    "## Referências"
   ]
  },
  {
   "cell_type": "markdown",
   "metadata": {},
   "source": [
    "[Como usar a biblioteca Scikit-lear](https://scikit-learn.org/stable/modules/linear_model.html#logistic-regression)\n",
    "\n",
    "[Como funciona o Random Forest](https://towardsdatascience.com/understanding-random-forest-58381e0602d2)\n",
    "\n",
    "[Referencia do Random Forest Classifier](https://scikit-learn.org/stable/modules/generated/sklearn.ensemble.RandomForestClassifier.html)\n",
    "\n",
    "[Como funciona regressão linear](https://www.saedsayad.com/logistic_regression.htm)\n",
    "\n",
    "[Como usar a Regressão Linear](https://scikit-learn.org/stable/modules/generated/sklearn.linear_model.LinearRegression.html)\n",
    "\n"
   ]
  },
  {
   "cell_type": "code",
   "execution_count": 302,
   "metadata": {
    "scrolled": true
   },
   "outputs": [
    {
     "data": {
      "text/html": [
       "<div>\n",
       "<style scoped>\n",
       "    .dataframe tbody tr th:only-of-type {\n",
       "        vertical-align: middle;\n",
       "    }\n",
       "\n",
       "    .dataframe tbody tr th {\n",
       "        vertical-align: top;\n",
       "    }\n",
       "\n",
       "    .dataframe thead th {\n",
       "        text-align: right;\n",
       "    }\n",
       "</style>\n",
       "<table border=\"1\" class=\"dataframe\">\n",
       "  <thead>\n",
       "    <tr style=\"text-align: right;\">\n",
       "      <th></th>\n",
       "      <th>Fighter</th>\n",
       "      <th>Weight_class</th>\n",
       "      <th>Height_cms</th>\n",
       "      <th>Reach_cms</th>\n",
       "      <th>Weight_lbs</th>\n",
       "      <th>Age</th>\n",
       "    </tr>\n",
       "  </thead>\n",
       "  <tbody>\n",
       "    <tr>\n",
       "      <th>0</th>\n",
       "      <td>Henry Cejudo</td>\n",
       "      <td>Bantamweight</td>\n",
       "      <td>162.56</td>\n",
       "      <td>162.56</td>\n",
       "      <td>135.0</td>\n",
       "      <td>32.0</td>\n",
       "    </tr>\n",
       "    <tr>\n",
       "      <th>1</th>\n",
       "      <td>Valentina Shevchenko</td>\n",
       "      <td>Women's Flyweight</td>\n",
       "      <td>165.10</td>\n",
       "      <td>167.64</td>\n",
       "      <td>125.0</td>\n",
       "      <td>31.0</td>\n",
       "    </tr>\n",
       "  </tbody>\n",
       "</table>\n",
       "</div>"
      ],
      "text/plain": [
       "                Fighter       Weight_class  Height_cms  Reach_cms  Weight_lbs  \\\n",
       "0          Henry Cejudo       Bantamweight      162.56     162.56       135.0   \n",
       "1  Valentina Shevchenko  Women's Flyweight      165.10     167.64       125.0   \n",
       "\n",
       "    Age  \n",
       "0  32.0  \n",
       "1  31.0  "
      ]
     },
     "execution_count": 302,
     "metadata": {},
     "output_type": "execute_result"
    }
   ],
   "source": [
    "#criando um novo dataframe\n",
    "lista_locB = [\"B_fighter\", \"weight_class\",\"B_Height_cms\",\"B_Reach_cms\",\"B_Weight_lbs\",\"B_age\"]\n",
    "lista_locR = [\"R_fighter\", \"weight_class\",\"R_Height_cms\",\"R_Reach_cms\",\"R_Weight_lbs\",\"R_age\"]\n",
    "data_red = data2.loc[: , lista_locR]\n",
    "data_blue = data2.loc[: , lista_locB]\n",
    "\n",
    "data_blue.columns = [\"Fighter\",\"Weight_class\",\"Height_cms\",\"Reach_cms\",\"Weight_lbs\",\"Age\"]\n",
    "data_red.columns = [\"Fighter\",\"Weight_class\",\"Height_cms\",\"Reach_cms\",\"Weight_lbs\",\"Age\"]\n",
    "\n",
    "data_red.head(2)"
   ]
  },
  {
   "cell_type": "code",
   "execution_count": 303,
   "metadata": {
    "scrolled": true
   },
   "outputs": [
    {
     "name": "stderr",
     "output_type": "stream",
     "text": [
      "C:\\ProgramData\\Anaconda3\\lib\\site-packages\\ipykernel_launcher.py:9: FutureWarning: Sorting because non-concatenation axis is not aligned. A future version\n",
      "of pandas will change to not sort by default.\n",
      "\n",
      "To accept the future behavior, pass 'sort=False'.\n",
      "\n",
      "To retain the current behavior and silence the warning, pass 'sort=True'.\n",
      "\n",
      "  if __name__ == '__main__':\n"
     ]
    },
    {
     "data": {
      "text/html": [
       "<div>\n",
       "<style scoped>\n",
       "    .dataframe tbody tr th:only-of-type {\n",
       "        vertical-align: middle;\n",
       "    }\n",
       "\n",
       "    .dataframe tbody tr th {\n",
       "        vertical-align: top;\n",
       "    }\n",
       "\n",
       "    .dataframe thead th {\n",
       "        text-align: right;\n",
       "    }\n",
       "</style>\n",
       "<table border=\"1\" class=\"dataframe\">\n",
       "  <thead>\n",
       "    <tr style=\"text-align: right;\">\n",
       "      <th></th>\n",
       "      <th>Age</th>\n",
       "      <th>Fighter</th>\n",
       "      <th>Height_cms</th>\n",
       "      <th>Reach_cms</th>\n",
       "      <th>Weight_class</th>\n",
       "      <th>Weight_lbs</th>\n",
       "    </tr>\n",
       "  </thead>\n",
       "  <tbody>\n",
       "    <tr>\n",
       "      <th>0</th>\n",
       "      <td>32</td>\n",
       "      <td>Henry Cejudo</td>\n",
       "      <td>162.56</td>\n",
       "      <td>162.56</td>\n",
       "      <td>Bantamweight</td>\n",
       "      <td>135</td>\n",
       "    </tr>\n",
       "    <tr>\n",
       "      <th>1</th>\n",
       "      <td>31</td>\n",
       "      <td>Valentina Shevchenko</td>\n",
       "      <td>165.1</td>\n",
       "      <td>167.64</td>\n",
       "      <td>Women's Flyweight</td>\n",
       "      <td>125</td>\n",
       "    </tr>\n",
       "  </tbody>\n",
       "</table>\n",
       "</div>"
      ],
      "text/plain": [
       "  Age               Fighter Height_cms Reach_cms       Weight_class Weight_lbs\n",
       "0  32          Henry Cejudo     162.56    162.56       Bantamweight        135\n",
       "1  31  Valentina Shevchenko      165.1    167.64  Women's Flyweight        125"
      ]
     },
     "execution_count": 303,
     "metadata": {},
     "output_type": "execute_result"
    }
   ],
   "source": [
    "newdataR = pd.DataFrame()\n",
    "\n",
    "\n",
    "namelistR = []\n",
    "\n",
    "for n in range(0,5143):\n",
    "    if data_red.loc[n,:][\"Fighter\"] not in namelistR:\n",
    "        namelistR.append(data_red.loc[n,:][\"Fighter\"])\n",
    "        newdataR = pd.concat([newdataR,data_red.loc[n,:]], axis=1, join='outer')\n",
    "\n",
    "newdataR = newdataR.transpose()\n",
    "\n",
    "newdataR.head(2)"
   ]
  },
  {
   "cell_type": "code",
   "execution_count": 304,
   "metadata": {
    "scrolled": true
   },
   "outputs": [
    {
     "name": "stderr",
     "output_type": "stream",
     "text": [
      "C:\\ProgramData\\Anaconda3\\lib\\site-packages\\ipykernel_launcher.py:8: FutureWarning: Sorting because non-concatenation axis is not aligned. A future version\n",
      "of pandas will change to not sort by default.\n",
      "\n",
      "To accept the future behavior, pass 'sort=False'.\n",
      "\n",
      "To retain the current behavior and silence the warning, pass 'sort=True'.\n",
      "\n",
      "  \n"
     ]
    },
    {
     "data": {
      "text/html": [
       "<div>\n",
       "<style scoped>\n",
       "    .dataframe tbody tr th:only-of-type {\n",
       "        vertical-align: middle;\n",
       "    }\n",
       "\n",
       "    .dataframe tbody tr th {\n",
       "        vertical-align: top;\n",
       "    }\n",
       "\n",
       "    .dataframe thead th {\n",
       "        text-align: right;\n",
       "    }\n",
       "</style>\n",
       "<table border=\"1\" class=\"dataframe\">\n",
       "  <thead>\n",
       "    <tr style=\"text-align: right;\">\n",
       "      <th></th>\n",
       "      <th>Age</th>\n",
       "      <th>Fighter</th>\n",
       "      <th>Height_cms</th>\n",
       "      <th>Reach_cms</th>\n",
       "      <th>Weight_class</th>\n",
       "      <th>Weight_lbs</th>\n",
       "    </tr>\n",
       "  </thead>\n",
       "  <tbody>\n",
       "    <tr>\n",
       "      <th>0</th>\n",
       "      <td>31</td>\n",
       "      <td>Marlon Moraes</td>\n",
       "      <td>167.64</td>\n",
       "      <td>170.18</td>\n",
       "      <td>Bantamweight</td>\n",
       "      <td>135</td>\n",
       "    </tr>\n",
       "    <tr>\n",
       "      <th>1</th>\n",
       "      <td>32</td>\n",
       "      <td>Jessica Eye</td>\n",
       "      <td>167.64</td>\n",
       "      <td>167.64</td>\n",
       "      <td>Women's Flyweight</td>\n",
       "      <td>125</td>\n",
       "    </tr>\n",
       "  </tbody>\n",
       "</table>\n",
       "</div>"
      ],
      "text/plain": [
       "  Age        Fighter Height_cms Reach_cms       Weight_class Weight_lbs\n",
       "0  31  Marlon Moraes     167.64    170.18       Bantamweight        135\n",
       "1  32    Jessica Eye     167.64    167.64  Women's Flyweight        125"
      ]
     },
     "execution_count": 304,
     "metadata": {},
     "output_type": "execute_result"
    }
   ],
   "source": [
    "newdataB = pd.DataFrame()\n",
    "\n",
    "namelistB = []\n",
    "\n",
    "for n in range(0,5143):\n",
    "    if data_blue.loc[n,:][\"Fighter\"] not in namelistB:\n",
    "        namelistB.append(data_blue.loc[n,:][\"Fighter\"])\n",
    "        newdataB = pd.concat([newdataB,data_blue.loc[n,:]], axis=1, join='outer')\n",
    "\n",
    "newdataB = newdataB.transpose()\n",
    "\n",
    "newdataB.head(2)"
   ]
  },
  {
   "cell_type": "code",
   "execution_count": 305,
   "metadata": {
    "scrolled": true
   },
   "outputs": [
    {
     "data": {
      "text/html": [
       "<div>\n",
       "<style scoped>\n",
       "    .dataframe tbody tr th:only-of-type {\n",
       "        vertical-align: middle;\n",
       "    }\n",
       "\n",
       "    .dataframe tbody tr th {\n",
       "        vertical-align: top;\n",
       "    }\n",
       "\n",
       "    .dataframe thead th {\n",
       "        text-align: right;\n",
       "    }\n",
       "</style>\n",
       "<table border=\"1\" class=\"dataframe\">\n",
       "  <thead>\n",
       "    <tr style=\"text-align: right;\">\n",
       "      <th></th>\n",
       "      <th>Age</th>\n",
       "      <th>Height_cms</th>\n",
       "      <th>Reach_cms</th>\n",
       "      <th>Weight_class</th>\n",
       "      <th>Weight_lbs</th>\n",
       "    </tr>\n",
       "    <tr>\n",
       "      <th>Fighter</th>\n",
       "      <th></th>\n",
       "      <th></th>\n",
       "      <th></th>\n",
       "      <th></th>\n",
       "      <th></th>\n",
       "    </tr>\n",
       "  </thead>\n",
       "  <tbody>\n",
       "    <tr>\n",
       "      <th>Marlon Moraes</th>\n",
       "      <td>31</td>\n",
       "      <td>167.64</td>\n",
       "      <td>170.18</td>\n",
       "      <td>Bantamweight</td>\n",
       "      <td>135</td>\n",
       "    </tr>\n",
       "    <tr>\n",
       "      <th>Jessica Eye</th>\n",
       "      <td>32</td>\n",
       "      <td>167.64</td>\n",
       "      <td>167.64</td>\n",
       "      <td>Women's Flyweight</td>\n",
       "      <td>125</td>\n",
       "    </tr>\n",
       "  </tbody>\n",
       "</table>\n",
       "</div>"
      ],
      "text/plain": [
       "              Age Height_cms Reach_cms       Weight_class Weight_lbs\n",
       "Fighter                                                             \n",
       "Marlon Moraes  31     167.64    170.18       Bantamweight        135\n",
       "Jessica Eye    32     167.64    167.64  Women's Flyweight        125"
      ]
     },
     "execution_count": 305,
     "metadata": {},
     "output_type": "execute_result"
    }
   ],
   "source": [
    "newdata = pd.concat([newdataB, newdataR], axis=0, join='outer', ignore_index=False, keys=None,levels=None, names=None, verify_integrity=False, copy=True)\n",
    "newdata = newdata.set_index(\"Fighter\")\n",
    "\n",
    "newdata.head(2)"
   ]
  },
  {
   "cell_type": "code",
   "execution_count": null,
   "metadata": {},
   "outputs": [],
   "source": []
  },
  {
   "cell_type": "code",
   "execution_count": null,
   "metadata": {},
   "outputs": [],
   "source": []
  },
  {
   "cell_type": "code",
   "execution_count": null,
   "metadata": {},
   "outputs": [],
   "source": []
  },
  {
   "cell_type": "code",
   "execution_count": null,
   "metadata": {},
   "outputs": [],
   "source": []
  }
 ],
 "metadata": {
  "kernelspec": {
   "display_name": "Python 3",
   "language": "python",
   "name": "python3"
  },
  "language_info": {
   "codemirror_mode": {
    "name": "ipython",
    "version": 3
   },
   "file_extension": ".py",
   "mimetype": "text/x-python",
   "name": "python",
   "nbconvert_exporter": "python",
   "pygments_lexer": "ipython3",
   "version": "3.7.1"
  }
 },
 "nbformat": 4,
 "nbformat_minor": 4
}
