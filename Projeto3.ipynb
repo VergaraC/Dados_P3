{
 "cells": [
  {
   "cell_type": "markdown",
   "metadata": {},
   "source": [
    "# Projeto 3 - Ciência dos Dados"
   ]
  },
  {
   "cell_type": "markdown",
   "metadata": {},
   "source": [
    "#  Projeto UFC"
   ]
  },
  {
   "cell_type": "markdown",
   "metadata": {},
   "source": [
    "Nome: Victor Vergara Arcoverde de Albuquerque Cavalcanti\n",
    "\n",
    "Nome: Edgard Ortiz Neto\n",
    "\n",
    "Nome: Gabriel Yamashita\n",
    "\n",
    "Nome: Henrique Mualem Marti\n",
    "\n"
   ]
  },
  {
   "cell_type": "markdown",
   "metadata": {},
   "source": [
    "  ___\n",
    "## Objetivo:"
   ]
  },
  {
   "cell_type": "markdown",
   "metadata": {},
   "source": [
    "### O objetivo desse projeto é fazer um machine learning para poder prever qual lutador ganhará uma luta do UFC baseado no seu histórico. Para isso serão usados os dados de todas as lutas do UFC (mais de 5 mil) a fim de descobrir quais os fatores dos lutadores que impactam mais no resultado das lutas. \n",
    "### Assim esse projeto poderia ser usado para apostadores nas lutas de UFC e os próprios atlétas que participam nessas lutas, pois seria possível comparar os seus dados e os de seus oponentes, assim sabendo como está em relação a eles e quais fatores seria melhor treinar ou manter a fim de manter uma vantagem sobre eles."
   ]
  },
  {
   "cell_type": "markdown",
   "metadata": {},
   "source": [
    "[Database utilizado](https://www.kaggle.com/rajeevw/ufcdata#data.csv)"
   ]
  },
  {
   "cell_type": "markdown",
   "metadata": {},
   "source": [
    "____\n",
    "## Método escolhido:\n",
    "\n",
    "\n"
   ]
  },
  {
   "cell_type": "markdown",
   "metadata": {},
   "source": [
    "    "
   ]
  },
  {
   "cell_type": "markdown",
   "metadata": {},
   "source": [
    "\n",
    "\n",
    "### Random Forest:\n",
    "#### Esse método usa várias árvores de decisão para encontrar o que melhor se adequa, a que tem menos erros, para os nossos dados e o resultado que queremos, nesse caso quem é o vencedor.\n",
    "\n",
    "![randomforest.png](randomforest.png)\n"
   ]
  },
  {
   "cell_type": "markdown",
   "metadata": {},
   "source": [
    "\n",
    "### Regressão Logística:\n",
    "#### Esse método usa a função abaixo que vai sempre tender a 0 ou a 1, assim sendo um classificador binário. Ele atribui um coeficiente(β) para cada fator levado em consideração, assim tendo uma ordem de impacto dos fatores no resultado final.\n",
    "\n",
    "$$Prob(y = 1 | X = x) = \\frac{1}{1 + e^{-\\left(\\beta_0 + \\beta_1 x_1 + \\beta_2 x_2\\right)}}$$"
   ]
  },
  {
   "cell_type": "markdown",
   "metadata": {},
   "source": [
    " ___\n",
    "## Preparando o ambiente no jupyter:"
   ]
  },
  {
   "cell_type": "markdown",
   "metadata": {},
   "source": [
    "\n",
    "### Imports:"
   ]
  },
  {
   "cell_type": "code",
   "execution_count": 88,
   "metadata": {
    "jupyter": {
     "outputs_hidden": true
    }
   },
   "outputs": [],
   "source": [
    "import math\n",
    "import os.path\n",
    "import pandas as pd\n",
    "import numpy as np\n",
    "import matplotlib\n",
    "import matplotlib.pyplot as plt\n",
    "import json\n",
    "import random\n",
    "import statsmodels.api as sm\n",
    "import seaborn as sns\n",
    "\n",
    "from sklearn.feature_extraction.text import CountVectorizer\n",
    "from sklearn.metrics import accuracy_score\n",
    "from sklearn.naive_bayes import MultinomialNB\n",
    "\n",
    "from sklearn.pipeline import Pipeline\n",
    "from sklearn.ensemble import RandomForestClassifier\n",
    "from sklearn.linear_model import LogisticRegression\n",
    "from sklearn.model_selection import train_test_split"
   ]
  },
  {
   "cell_type": "markdown",
   "metadata": {},
   "source": [
    "\n",
    "### Trabalhando com os Excels:"
   ]
  },
  {
   "cell_type": "code",
   "execution_count": 89,
   "metadata": {},
   "outputs": [
    {
     "data": {
      "text/html": [
       "<div>\n",
       "<style scoped>\n",
       "    .dataframe tbody tr th:only-of-type {\n",
       "        vertical-align: middle;\n",
       "    }\n",
       "\n",
       "    .dataframe tbody tr th {\n",
       "        vertical-align: top;\n",
       "    }\n",
       "\n",
       "    .dataframe thead th {\n",
       "        text-align: right;\n",
       "    }\n",
       "</style>\n",
       "<table border=\"1\" class=\"dataframe\">\n",
       "  <thead>\n",
       "    <tr style=\"text-align: right;\">\n",
       "      <th></th>\n",
       "      <th>R_fighter</th>\n",
       "      <th>B_fighter</th>\n",
       "      <th>Referee</th>\n",
       "      <th>date</th>\n",
       "      <th>location</th>\n",
       "      <th>Winner</th>\n",
       "      <th>title_bout</th>\n",
       "      <th>weight_class</th>\n",
       "      <th>no_of_rounds</th>\n",
       "      <th>B_current_lose_streak</th>\n",
       "      <th>...</th>\n",
       "      <th>R_win_by_KO/TKO</th>\n",
       "      <th>R_win_by_Submission</th>\n",
       "      <th>R_win_by_TKO_Doctor_Stoppage</th>\n",
       "      <th>R_wins</th>\n",
       "      <th>R_Stance</th>\n",
       "      <th>R_Height_cms</th>\n",
       "      <th>R_Reach_cms</th>\n",
       "      <th>R_Weight_lbs</th>\n",
       "      <th>B_age</th>\n",
       "      <th>R_age</th>\n",
       "    </tr>\n",
       "  </thead>\n",
       "  <tbody>\n",
       "    <tr>\n",
       "      <th>0</th>\n",
       "      <td>Henry Cejudo</td>\n",
       "      <td>Marlon Moraes</td>\n",
       "      <td>Marc Goddard</td>\n",
       "      <td>2019</td>\n",
       "      <td>Chicago, Illinois, USA</td>\n",
       "      <td>Red</td>\n",
       "      <td>True</td>\n",
       "      <td>Bantamweight</td>\n",
       "      <td>5</td>\n",
       "      <td>0</td>\n",
       "      <td>...</td>\n",
       "      <td>2</td>\n",
       "      <td>0</td>\n",
       "      <td>0</td>\n",
       "      <td>8</td>\n",
       "      <td>Orthodox</td>\n",
       "      <td>162.56</td>\n",
       "      <td>162.56</td>\n",
       "      <td>135.0</td>\n",
       "      <td>31.0</td>\n",
       "      <td>32.0</td>\n",
       "    </tr>\n",
       "    <tr>\n",
       "      <th>1</th>\n",
       "      <td>Valentina Shevchenko</td>\n",
       "      <td>Jessica Eye</td>\n",
       "      <td>Robert Madrigal</td>\n",
       "      <td>2019</td>\n",
       "      <td>Chicago, Illinois, USA</td>\n",
       "      <td>Red</td>\n",
       "      <td>True</td>\n",
       "      <td>Women's Flyweight</td>\n",
       "      <td>5</td>\n",
       "      <td>0</td>\n",
       "      <td>...</td>\n",
       "      <td>0</td>\n",
       "      <td>2</td>\n",
       "      <td>0</td>\n",
       "      <td>5</td>\n",
       "      <td>Southpaw</td>\n",
       "      <td>165.10</td>\n",
       "      <td>167.64</td>\n",
       "      <td>125.0</td>\n",
       "      <td>32.0</td>\n",
       "      <td>31.0</td>\n",
       "    </tr>\n",
       "  </tbody>\n",
       "</table>\n",
       "<p>2 rows × 145 columns</p>\n",
       "</div>"
      ],
      "text/plain": [
       "              R_fighter      B_fighter          Referee  date  \\\n",
       "0          Henry Cejudo  Marlon Moraes     Marc Goddard  2019   \n",
       "1  Valentina Shevchenko    Jessica Eye  Robert Madrigal  2019   \n",
       "\n",
       "                 location Winner  title_bout       weight_class  no_of_rounds  \\\n",
       "0  Chicago, Illinois, USA    Red        True       Bantamweight             5   \n",
       "1  Chicago, Illinois, USA    Red        True  Women's Flyweight             5   \n",
       "\n",
       "   B_current_lose_streak  ...  R_win_by_KO/TKO  R_win_by_Submission  \\\n",
       "0                      0  ...                2                    0   \n",
       "1                      0  ...                0                    2   \n",
       "\n",
       "   R_win_by_TKO_Doctor_Stoppage  R_wins  R_Stance  R_Height_cms  R_Reach_cms  \\\n",
       "0                             0       8  Orthodox        162.56       162.56   \n",
       "1                             0       5  Southpaw        165.10       167.64   \n",
       "\n",
       "   R_Weight_lbs  B_age  R_age  \n",
       "0         135.0   31.0   32.0  \n",
       "1         125.0   32.0   31.0  \n",
       "\n",
       "[2 rows x 145 columns]"
      ]
     },
     "execution_count": 89,
     "metadata": {},
     "output_type": "execute_result"
    }
   ],
   "source": [
    "data = pd.read_excel(\"data.xlsx\")\n",
    "data.head(2)"
   ]
  },
  {
   "cell_type": "code",
   "execution_count": 90,
   "metadata": {},
   "outputs": [],
   "source": [
    "data.weight_class = data.weight_class.astype('category')\n",
    "data.Winner = data.Winner.astype('category')"
   ]
  },
  {
   "cell_type": "markdown",
   "metadata": {},
   "source": [
    "### Análise Exploratória"
   ]
  },
  {
   "cell_type": "code",
   "execution_count": 91,
   "metadata": {
    "scrolled": true
   },
   "outputs": [
    {
     "data": {
      "text/plain": [
       "Red     3470\n",
       "Blue    1591\n",
       "Draw      83\n",
       "Name: Winner, dtype: int64"
      ]
     },
     "execution_count": 91,
     "metadata": {},
     "output_type": "execute_result"
    }
   ],
   "source": [
    "data.Winner.value_counts()"
   ]
  },
  {
   "cell_type": "code",
   "execution_count": 92,
   "metadata": {},
   "outputs": [
    {
     "data": {
      "image/png": "[encoded data removed]",
      "text/plain": [
       "<Figure size 432x288 with 1 Axes>"
      ]
     },
     "metadata": {},
     "output_type": "display_data"
    }
   ],
   "source": [
    "plt.title(\"Red wins vs Blue wins\")\n",
    "data.Winner.value_counts().plot(kind='pie', colors=['red','blue','white'], autopct=\"%0.2f\",legend=False);"
   ]
  },
  {
   "cell_type": "code",
   "execution_count": 93,
   "metadata": {},
   "outputs": [
    {
     "data": {
      "image/png": "[encoded data removed]",
      "text/plain": [
       "<Figure size 432x288 with 1 Axes>"
      ]
     },
     "metadata": {},
     "output_type": "display_data"
    }
   ],
   "source": [
    "plt.title(\"Porcentagem de lutas pelo título\")\n",
    "data['title_bout'].value_counts().plot(kind='pie', colors=['green','gold'],autopct=\"%0.2f\",legend=False);"
   ]
  },
  {
   "cell_type": "code",
   "execution_count": 94,
   "metadata": {},
   "outputs": [
    {
     "data": {
      "image/png": "[encoded data removed]",
      "text/plain": [
       "<Figure size 432x288 with 1 Axes>"
      ]
     },
     "metadata": {},
     "output_type": "display_data"
    }
   ],
   "source": [
    "graf_winner_with_title = data.loc[: , [\"Winner\", \"title_bout\"]]\n",
    "graf_winner_with_title1 = graf_winner_with_title.loc[(graf_winner_with_title.title_bout==True),:]\n",
    "plt.title(\"Red wins vs Blue wins em disputas pelo título\")\n",
    "graf_winner_with_title1.Winner.value_counts().plot(kind='pie', colors=['red','blue',\"white\"],autopct=\"%0.2f\",legend=False); "
   ]
  },
  {
   "cell_type": "code",
   "execution_count": 95,
   "metadata": {},
   "outputs": [
    {
     "data": {
      "image/png": "[encoded data removed]",
      "text/plain": [
       "<Figure size 432x288 with 1 Axes>"
      ]
     },
     "metadata": {},
     "output_type": "display_data"
    }
   ],
   "source": [
    "graf_winner_with_title = data.loc[: , [\"Winner\", \"title_bout\"]]\n",
    "graf_winner_with_title1 = graf_winner_with_title.loc[(graf_winner_with_title.title_bout==False),:]\n",
    "plt.title(\"Red wins vs Blue wins sem disputa pelo título\")\n",
    "graf_winner_with_title1.Winner.value_counts().plot(kind='pie', colors=['red','blue',\"white\"],autopct=\"%0.2f\",legend=False);"
   ]
  },
  {
   "cell_type": "code",
   "execution_count": 96,
   "metadata": {},
   "outputs": [
    {
     "data": {
      "image/png": "[encoded data removed]",
      "text/plain": [
       "<Figure size 1440x1080 with 1 Axes>"
      ]
     },
     "metadata": {},
     "output_type": "display_data"
    }
   ],
   "source": [
    "plt.figure(figsize=(20,15))\n",
    "plt.title(\"Fighters distribuition by weight\")\n",
    "data['weight_class'].value_counts().plot(kind='pie',autopct=\"%0.2f\",legend=False);"
   ]
  },
  {
   "cell_type": "code",
   "execution_count": 97,
   "metadata": {},
   "outputs": [
    {
     "data": {
      "image/png": "[encoded data removed]",
      "text/plain": [
       "<Figure size 432x288 with 1 Axes>"
      ]
     },
     "metadata": {},
     "output_type": "display_data"
    }
   ],
   "source": [
    "data_mulher = data.loc[(data.weight_class==\"Women's Bantamweight\")|\n",
    "                       (data.weight_class==\"Women's Featherweight\")|\n",
    "                       (data.weight_class==\"Women's Flyweight\")|\n",
    "                       (data.weight_class==\"Women's Strawweight\"),:]\n",
    "plt.title(\"Women's distribuition by weight\")\n",
    "data_mulher.weight_class.value_counts().plot(kind='pie',autopct=\"%0.2f\",legend=False);"
   ]
  },
  {
   "cell_type": "code",
   "execution_count": 98,
   "metadata": {},
   "outputs": [
    {
     "data": {
      "image/png": "[encoded data removed]",
      "text/plain": [
       "<Figure size 432x288 with 1 Axes>"
      ]
     },
     "metadata": {},
     "output_type": "display_data"
    }
   ],
   "source": [
    "data_homem = data.loc[(data.weight_class==\"Flyweight\")|\n",
    "                       (data.weight_class==\"Bantamweight\")|\n",
    "                       (data.weight_class==\"Featherweight\")|\n",
    "                       (data.weight_class==\"Lightweight\")|\n",
    "                       (data.weight_class==\"Welterweight\")|\n",
    "                       (data.weight_class==\"Middleweight\")|\n",
    "                       (data.weight_class==\"Light Heavyweight\")|\n",
    "                       (data.weight_class==\"Heavyweight\"),:]\n",
    "plt.title(\"Men's distribuition by weight\")\n",
    "data_homem.weight_class.value_counts().plot(kind='pie',autopct=\"%0.2f\",legend=False);"
   ]
  },
  {
   "cell_type": "code",
   "execution_count": 99,
   "metadata": {},
   "outputs": [
    {
     "data": {
      "image/png": "[encoded data removed]",
      "text/plain": [
       "<Figure size 432x288 with 1 Axes>"
      ]
     },
     "metadata": {},
     "output_type": "display_data"
    }
   ],
   "source": [
    "plt.title(\"Red wins vs Blue wins among women's\")\n",
    "data_mulher.Winner.value_counts().plot(kind='pie', colors=['red','blue',\"white\"],autopct=\"%0.2f\",legend=False);"
   ]
  },
  {
   "cell_type": "code",
   "execution_count": 100,
   "metadata": {},
   "outputs": [
    {
     "data": {
      "image/png": "[encoded data removed]",
      "text/plain": [
       "<Figure size 432x288 with 1 Axes>"
      ]
     },
     "metadata": {},
     "output_type": "display_data"
    }
   ],
   "source": [
    "plt.title(\"Red wins vs Blue wins among men's\")\n",
    "data_homem.Winner.value_counts().plot(kind='pie', colors=['red','blue',\"white\"],autopct=\"%0.2f\",legend=False);"
   ]
  },
  {
   "cell_type": "code",
   "execution_count": 101,
   "metadata": {},
   "outputs": [
    {
     "data": {
      "text/html": [
       "<div>\n",
       "<style scoped>\n",
       "    .dataframe tbody tr th:only-of-type {\n",
       "        vertical-align: middle;\n",
       "    }\n",
       "\n",
       "    .dataframe tbody tr th {\n",
       "        vertical-align: top;\n",
       "    }\n",
       "\n",
       "    .dataframe thead th {\n",
       "        text-align: right;\n",
       "    }\n",
       "</style>\n",
       "<table border=\"1\" class=\"dataframe\">\n",
       "  <thead>\n",
       "    <tr style=\"text-align: right;\">\n",
       "      <th></th>\n",
       "      <th>R_fighter</th>\n",
       "      <th>B_fighter</th>\n",
       "      <th>Referee</th>\n",
       "      <th>date</th>\n",
       "      <th>location</th>\n",
       "      <th>Winner</th>\n",
       "      <th>title_bout</th>\n",
       "      <th>weight_class</th>\n",
       "      <th>no_of_rounds</th>\n",
       "      <th>B_current_lose_streak</th>\n",
       "      <th>...</th>\n",
       "      <th>R_win_by_KO/TKO</th>\n",
       "      <th>R_win_by_Submission</th>\n",
       "      <th>R_win_by_TKO_Doctor_Stoppage</th>\n",
       "      <th>R_wins</th>\n",
       "      <th>R_Stance</th>\n",
       "      <th>R_Height_cms</th>\n",
       "      <th>R_Reach_cms</th>\n",
       "      <th>R_Weight_lbs</th>\n",
       "      <th>B_age</th>\n",
       "      <th>R_age</th>\n",
       "    </tr>\n",
       "  </thead>\n",
       "  <tbody>\n",
       "    <tr>\n",
       "      <th>0</th>\n",
       "      <td>Henry Cejudo</td>\n",
       "      <td>Marlon Moraes</td>\n",
       "      <td>Marc Goddard</td>\n",
       "      <td>2019</td>\n",
       "      <td>Chicago, Illinois, USA</td>\n",
       "      <td>1</td>\n",
       "      <td>1</td>\n",
       "      <td>Bantamweight</td>\n",
       "      <td>5</td>\n",
       "      <td>0</td>\n",
       "      <td>...</td>\n",
       "      <td>2</td>\n",
       "      <td>0</td>\n",
       "      <td>0</td>\n",
       "      <td>8</td>\n",
       "      <td>Orthodox</td>\n",
       "      <td>162.56</td>\n",
       "      <td>162.56</td>\n",
       "      <td>135.0</td>\n",
       "      <td>31.0</td>\n",
       "      <td>32.0</td>\n",
       "    </tr>\n",
       "    <tr>\n",
       "      <th>1</th>\n",
       "      <td>Valentina Shevchenko</td>\n",
       "      <td>Jessica Eye</td>\n",
       "      <td>Robert Madrigal</td>\n",
       "      <td>2019</td>\n",
       "      <td>Chicago, Illinois, USA</td>\n",
       "      <td>1</td>\n",
       "      <td>1</td>\n",
       "      <td>Women's Flyweight</td>\n",
       "      <td>5</td>\n",
       "      <td>0</td>\n",
       "      <td>...</td>\n",
       "      <td>0</td>\n",
       "      <td>2</td>\n",
       "      <td>0</td>\n",
       "      <td>5</td>\n",
       "      <td>Southpaw</td>\n",
       "      <td>165.10</td>\n",
       "      <td>167.64</td>\n",
       "      <td>125.0</td>\n",
       "      <td>32.0</td>\n",
       "      <td>31.0</td>\n",
       "    </tr>\n",
       "  </tbody>\n",
       "</table>\n",
       "<p>2 rows × 145 columns</p>\n",
       "</div>"
      ],
      "text/plain": [
       "              R_fighter      B_fighter          Referee  date  \\\n",
       "0          Henry Cejudo  Marlon Moraes     Marc Goddard  2019   \n",
       "1  Valentina Shevchenko    Jessica Eye  Robert Madrigal  2019   \n",
       "\n",
       "                 location  Winner  title_bout       weight_class  \\\n",
       "0  Chicago, Illinois, USA       1           1       Bantamweight   \n",
       "1  Chicago, Illinois, USA       1           1  Women's Flyweight   \n",
       "\n",
       "   no_of_rounds  B_current_lose_streak  ...  R_win_by_KO/TKO  \\\n",
       "0             5                      0  ...                2   \n",
       "1             5                      0  ...                0   \n",
       "\n",
       "   R_win_by_Submission  R_win_by_TKO_Doctor_Stoppage  R_wins  R_Stance  \\\n",
       "0                    0                             0       8  Orthodox   \n",
       "1                    2                             0       5  Southpaw   \n",
       "\n",
       "   R_Height_cms  R_Reach_cms  R_Weight_lbs  B_age  R_age  \n",
       "0        162.56       162.56         135.0   31.0   32.0  \n",
       "1        165.10       167.64         125.0   32.0   31.0  \n",
       "\n",
       "[2 rows x 145 columns]"
      ]
     },
     "execution_count": 101,
     "metadata": {},
     "output_type": "execute_result"
    }
   ],
   "source": [
    "#Escolhendo apenas as lutas entre lutadores da classe 'Heavyweight', pois as característica\n",
    "#data_heavy = data.loc[(data.weight_class=='Heavyweight'),:]\n",
    "bool_to_number = {False: 0, True: 1}\n",
    "string_to_number = {'Blue': 0, 'Red': 1, 'Draw': 2}\n",
    "data['title_bout'] = data['title_bout'].map(bool_to_number)\n",
    "data['Winner'] = data['Winner'].map(string_to_number)\n",
    "data.head(2)"
   ]
  },
  {
   "cell_type": "markdown",
   "metadata": {},
   "source": [
    "#### Blue = 0\n",
    "#### Red = 1"
   ]
  },
  {
   "cell_type": "code",
   "execution_count": 102,
   "metadata": {},
   "outputs": [],
   "source": [
    "data_util = data.drop(['Referee','date','location'], axis=1)\n",
    "#dados que não se relacionam com os lutadores ou seus resultado"
   ]
  },
  {
   "cell_type": "code",
   "execution_count": 103,
   "metadata": {
    "scrolled": true
   },
   "outputs": [
    {
     "data": {
      "text/html": [
       "<div>\n",
       "<style scoped>\n",
       "    .dataframe tbody tr th:only-of-type {\n",
       "        vertical-align: middle;\n",
       "    }\n",
       "\n",
       "    .dataframe tbody tr th {\n",
       "        vertical-align: top;\n",
       "    }\n",
       "\n",
       "    .dataframe thead th {\n",
       "        text-align: right;\n",
       "    }\n",
       "</style>\n",
       "<table border=\"1\" class=\"dataframe\">\n",
       "  <thead>\n",
       "    <tr style=\"text-align: right;\">\n",
       "      <th></th>\n",
       "      <th>R_fighter</th>\n",
       "      <th>B_fighter</th>\n",
       "      <th>Winner</th>\n",
       "      <th>title_bout</th>\n",
       "      <th>weight_class</th>\n",
       "      <th>no_of_rounds</th>\n",
       "      <th>B_current_lose_streak</th>\n",
       "      <th>B_current_win_streak</th>\n",
       "      <th>B_draw</th>\n",
       "      <th>B_avg_BODY_att</th>\n",
       "      <th>...</th>\n",
       "      <th>R_win_by_KO/TKO</th>\n",
       "      <th>R_win_by_Submission</th>\n",
       "      <th>R_win_by_TKO_Doctor_Stoppage</th>\n",
       "      <th>R_wins</th>\n",
       "      <th>R_Stance</th>\n",
       "      <th>R_Height_cms</th>\n",
       "      <th>R_Reach_cms</th>\n",
       "      <th>R_Weight_lbs</th>\n",
       "      <th>B_age</th>\n",
       "      <th>R_age</th>\n",
       "    </tr>\n",
       "  </thead>\n",
       "  <tbody>\n",
       "    <tr>\n",
       "      <th>0</th>\n",
       "      <td>Henry Cejudo</td>\n",
       "      <td>Marlon Moraes</td>\n",
       "      <td>1</td>\n",
       "      <td>1</td>\n",
       "      <td>Bantamweight</td>\n",
       "      <td>5</td>\n",
       "      <td>0</td>\n",
       "      <td>4</td>\n",
       "      <td>0</td>\n",
       "      <td>9.2</td>\n",
       "      <td>...</td>\n",
       "      <td>2</td>\n",
       "      <td>0</td>\n",
       "      <td>0</td>\n",
       "      <td>8</td>\n",
       "      <td>Orthodox</td>\n",
       "      <td>162.56</td>\n",
       "      <td>162.56</td>\n",
       "      <td>135.0</td>\n",
       "      <td>31.0</td>\n",
       "      <td>32.0</td>\n",
       "    </tr>\n",
       "    <tr>\n",
       "      <th>1</th>\n",
       "      <td>Valentina Shevchenko</td>\n",
       "      <td>Jessica Eye</td>\n",
       "      <td>1</td>\n",
       "      <td>1</td>\n",
       "      <td>Women's Flyweight</td>\n",
       "      <td>5</td>\n",
       "      <td>0</td>\n",
       "      <td>3</td>\n",
       "      <td>0</td>\n",
       "      <td>14.6</td>\n",
       "      <td>...</td>\n",
       "      <td>0</td>\n",
       "      <td>2</td>\n",
       "      <td>0</td>\n",
       "      <td>5</td>\n",
       "      <td>Southpaw</td>\n",
       "      <td>165.10</td>\n",
       "      <td>167.64</td>\n",
       "      <td>125.0</td>\n",
       "      <td>32.0</td>\n",
       "      <td>31.0</td>\n",
       "    </tr>\n",
       "  </tbody>\n",
       "</table>\n",
       "<p>2 rows × 142 columns</p>\n",
       "</div>"
      ],
      "text/plain": [
       "              R_fighter      B_fighter  Winner  title_bout       weight_class  \\\n",
       "0          Henry Cejudo  Marlon Moraes       1           1       Bantamweight   \n",
       "1  Valentina Shevchenko    Jessica Eye       1           1  Women's Flyweight   \n",
       "\n",
       "   no_of_rounds  B_current_lose_streak  B_current_win_streak  B_draw  \\\n",
       "0             5                      0                     4       0   \n",
       "1             5                      0                     3       0   \n",
       "\n",
       "   B_avg_BODY_att  ...  R_win_by_KO/TKO  R_win_by_Submission  \\\n",
       "0             9.2  ...                2                    0   \n",
       "1            14.6  ...                0                    2   \n",
       "\n",
       "   R_win_by_TKO_Doctor_Stoppage  R_wins  R_Stance  R_Height_cms  R_Reach_cms  \\\n",
       "0                             0       8  Orthodox        162.56       162.56   \n",
       "1                             0       5  Southpaw        165.10       167.64   \n",
       "\n",
       "   R_Weight_lbs  B_age  R_age  \n",
       "0         135.0   31.0   32.0  \n",
       "1         125.0   32.0   31.0  \n",
       "\n",
       "[2 rows x 142 columns]"
      ]
     },
     "execution_count": 103,
     "metadata": {},
     "output_type": "execute_result"
    }
   ],
   "source": [
    "data_util.head(2)"
   ]
  },
  {
   "cell_type": "code",
   "execution_count": 104,
   "metadata": {},
   "outputs": [
    {
     "data": {
      "text/html": [
       "<div>\n",
       "<style scoped>\n",
       "    .dataframe tbody tr th:only-of-type {\n",
       "        vertical-align: middle;\n",
       "    }\n",
       "\n",
       "    .dataframe tbody tr th {\n",
       "        vertical-align: top;\n",
       "    }\n",
       "\n",
       "    .dataframe thead th {\n",
       "        text-align: right;\n",
       "    }\n",
       "</style>\n",
       "<table border=\"1\" class=\"dataframe\">\n",
       "  <thead>\n",
       "    <tr style=\"text-align: right;\">\n",
       "      <th></th>\n",
       "      <th>R_fighter</th>\n",
       "      <th>B_fighter</th>\n",
       "      <th>Winner</th>\n",
       "      <th>title_bout</th>\n",
       "      <th>weight_class</th>\n",
       "      <th>no_of_rounds</th>\n",
       "      <th>B_current_lose_streak</th>\n",
       "      <th>B_current_win_streak</th>\n",
       "      <th>B_draw</th>\n",
       "      <th>B_avg_BODY_att</th>\n",
       "      <th>...</th>\n",
       "      <th>R_win_by_KO/TKO</th>\n",
       "      <th>R_win_by_Submission</th>\n",
       "      <th>R_win_by_TKO_Doctor_Stoppage</th>\n",
       "      <th>R_wins</th>\n",
       "      <th>R_Stance</th>\n",
       "      <th>R_Height_cms</th>\n",
       "      <th>R_Reach_cms</th>\n",
       "      <th>R_Weight_lbs</th>\n",
       "      <th>B_age</th>\n",
       "      <th>R_age</th>\n",
       "    </tr>\n",
       "  </thead>\n",
       "  <tbody>\n",
       "    <tr>\n",
       "      <th>0</th>\n",
       "      <td>Henry Cejudo</td>\n",
       "      <td>Marlon Moraes</td>\n",
       "      <td>1</td>\n",
       "      <td>1</td>\n",
       "      <td>Bantamweight</td>\n",
       "      <td>5</td>\n",
       "      <td>0</td>\n",
       "      <td>4</td>\n",
       "      <td>0</td>\n",
       "      <td>9.2</td>\n",
       "      <td>...</td>\n",
       "      <td>2</td>\n",
       "      <td>0</td>\n",
       "      <td>0</td>\n",
       "      <td>8</td>\n",
       "      <td>Orthodox</td>\n",
       "      <td>162.56</td>\n",
       "      <td>162.56</td>\n",
       "      <td>135.0</td>\n",
       "      <td>31.0</td>\n",
       "      <td>32.0</td>\n",
       "    </tr>\n",
       "    <tr>\n",
       "      <th>1</th>\n",
       "      <td>Valentina Shevchenko</td>\n",
       "      <td>Jessica Eye</td>\n",
       "      <td>1</td>\n",
       "      <td>1</td>\n",
       "      <td>Women's Flyweight</td>\n",
       "      <td>5</td>\n",
       "      <td>0</td>\n",
       "      <td>3</td>\n",
       "      <td>0</td>\n",
       "      <td>14.6</td>\n",
       "      <td>...</td>\n",
       "      <td>0</td>\n",
       "      <td>2</td>\n",
       "      <td>0</td>\n",
       "      <td>5</td>\n",
       "      <td>Southpaw</td>\n",
       "      <td>165.10</td>\n",
       "      <td>167.64</td>\n",
       "      <td>125.0</td>\n",
       "      <td>32.0</td>\n",
       "      <td>31.0</td>\n",
       "    </tr>\n",
       "  </tbody>\n",
       "</table>\n",
       "<p>2 rows × 142 columns</p>\n",
       "</div>"
      ],
      "text/plain": [
       "              R_fighter      B_fighter  Winner  title_bout       weight_class  \\\n",
       "0          Henry Cejudo  Marlon Moraes       1           1       Bantamweight   \n",
       "1  Valentina Shevchenko    Jessica Eye       1           1  Women's Flyweight   \n",
       "\n",
       "   no_of_rounds  B_current_lose_streak  B_current_win_streak  B_draw  \\\n",
       "0             5                      0                     4       0   \n",
       "1             5                      0                     3       0   \n",
       "\n",
       "   B_avg_BODY_att  ...  R_win_by_KO/TKO  R_win_by_Submission  \\\n",
       "0             9.2  ...                2                    0   \n",
       "1            14.6  ...                0                    2   \n",
       "\n",
       "   R_win_by_TKO_Doctor_Stoppage  R_wins  R_Stance  R_Height_cms  R_Reach_cms  \\\n",
       "0                             0       8  Orthodox        162.56       162.56   \n",
       "1                             0       5  Southpaw        165.10       167.64   \n",
       "\n",
       "   R_Weight_lbs  B_age  R_age  \n",
       "0         135.0   31.0   32.0  \n",
       "1         125.0   32.0   31.0  \n",
       "\n",
       "[2 rows x 142 columns]"
      ]
     },
     "execution_count": 104,
     "metadata": {},
     "output_type": "execute_result"
    }
   ],
   "source": [
    "data_util.dropna(inplace=True)\n",
    "data_util.head(2)"
   ]
  },
  {
   "cell_type": "markdown",
   "metadata": {},
   "source": [
    "\n",
    "### Tirando os dados categóricos:"
   ]
  },
  {
   "cell_type": "code",
   "execution_count": 105,
   "metadata": {},
   "outputs": [],
   "source": [
    "categoricas = [\n",
    "    'R_fighter', \n",
    "    'B_fighter', \n",
    "    'weight_class', \n",
    "    'R_Stance', \n",
    "    'B_Stance', \n",
    "]\n",
    "\n",
    "data_cat = data_util[categoricas].astype('category')\n",
    "data_num = data_util.drop(categoricas, axis=1).astype('float')"
   ]
  },
  {
   "cell_type": "markdown",
   "metadata": {},
   "source": [
    "___\n",
    "# Teste 1\n",
    "___"
   ]
  },
  {
   "cell_type": "code",
   "execution_count": 106,
   "metadata": {},
   "outputs": [],
   "source": [
    "X = data_num.drop('Winner', axis=1)\n",
    "Y = data_num['Winner']"
   ]
  },
  {
   "cell_type": "markdown",
   "metadata": {},
   "source": [
    "\n",
    "## Random Forest -1"
   ]
  },
  {
   "cell_type": "markdown",
   "metadata": {},
   "source": [
    "### Separando os dados em testes e treinamento"
   ]
  },
  {
   "cell_type": "code",
   "execution_count": 107,
   "metadata": {},
   "outputs": [],
   "source": [
    "X_train_random, X_test_random, y_train_random, y_test_random = train_test_split(X, Y, test_size=0.25)"
   ]
  },
  {
   "cell_type": "code",
   "execution_count": 108,
   "metadata": {},
   "outputs": [
    {
     "data": {
      "text/plain": [
       "RandomForestClassifier(bootstrap=True, class_weight=None, criterion='gini',\n",
       "            max_depth=None, max_features='auto', max_leaf_nodes=None,\n",
       "            min_impurity_decrease=0.0, min_impurity_split=None,\n",
       "            min_samples_leaf=1, min_samples_split=2,\n",
       "            min_weight_fraction_leaf=0.0, n_estimators=10000, n_jobs=None,\n",
       "            oob_score=False, random_state=None, verbose=0,\n",
       "            warm_start=False)"
      ]
     },
     "execution_count": 108,
     "metadata": {},
     "output_type": "execute_result"
    }
   ],
   "source": [
    "model_random = RandomForestClassifier(n_estimators=10000)\n",
    "\n",
    "model_random.fit(X_train_random, y_train_random)"
   ]
  },
  {
   "cell_type": "markdown",
   "metadata": {},
   "source": [
    "\n",
    "### Verificando a performance \n"
   ]
  },
  {
   "cell_type": "code",
   "execution_count": 111,
   "metadata": {},
   "outputs": [],
   "source": [
    "y_pred_random = model_random.predict(X_test_random)"
   ]
  },
  {
   "cell_type": "code",
   "execution_count": 112,
   "metadata": {},
   "outputs": [
    {
     "name": "stdout",
     "output_type": "stream",
     "text": [
      "0.6442786069651741\n"
     ]
    }
   ],
   "source": [
    "print(accuracy_score(y_test_random, y_pred_random))"
   ]
  },
  {
   "cell_type": "code",
   "execution_count": 114,
   "metadata": {
    "scrolled": false
   },
   "outputs": [
    {
     "data": {
      "text/plain": [
       "1.0    0.630597\n",
       "0.0    0.354478\n",
       "2.0    0.014925\n",
       "Name: Winner, dtype: float64"
      ]
     },
     "execution_count": 114,
     "metadata": {},
     "output_type": "execute_result"
    }
   ],
   "source": [
    "y_test_random.value_counts(True)"
   ]
  },
  {
   "cell_type": "code",
   "execution_count": 115,
   "metadata": {},
   "outputs": [
    {
     "data": {
      "text/plain": [
       "1.0    2023\n",
       "0.0    1141\n",
       "2.0      51\n",
       "Name: Winner, dtype: int64"
      ]
     },
     "execution_count": 115,
     "metadata": {},
     "output_type": "execute_result"
    }
   ],
   "source": [
    "data_num.Winner.value_counts()"
   ]
  },
  {
   "cell_type": "markdown",
   "metadata": {},
   "source": [
    "## Regressão Logística -1"
   ]
  },
  {
   "cell_type": "markdown",
   "metadata": {},
   "source": [
    "### Separando os dados em teste e treinamento"
   ]
  },
  {
   "cell_type": "code",
   "execution_count": 116,
   "metadata": {},
   "outputs": [],
   "source": [
    "X_train_log, X_test_log, y_train_log, y_test_log = train_test_split(X, Y, test_size=0.25)"
   ]
  },
  {
   "cell_type": "code",
   "execution_count": 117,
   "metadata": {},
   "outputs": [],
   "source": [
    "def preparo(X,Y):\n",
    "    X_cp = sm.add_constant(X)\n",
    "    model = sm.OLS(Y,X_cp,missing='drop')\n",
    "    results = model.fit()\n",
    "    return results"
   ]
  },
  {
   "cell_type": "code",
   "execution_count": 118,
   "metadata": {},
   "outputs": [
    {
     "name": "stderr",
     "output_type": "stream",
     "text": [
      "C:\\Users\\Maulem\\Spyder\\lib\\site-packages\\sklearn\\linear_model\\logistic.py:758: ConvergenceWarning: lbfgs failed to converge. Increase the number of iterations.\n",
      "  \"of iterations.\", ConvergenceWarning)\n"
     ]
    },
    {
     "data": {
      "text/plain": [
       "LogisticRegression(C=1.0, class_weight=None, dual=False, fit_intercept=True,\n",
       "          intercept_scaling=1, max_iter=200000, multi_class='auto',\n",
       "          n_jobs=None, penalty='l2', random_state=None, solver='lbfgs',\n",
       "          tol=0.0001, verbose=0, warm_start=False)"
      ]
     },
     "execution_count": 118,
     "metadata": {},
     "output_type": "execute_result"
    }
   ],
   "source": [
    "model = LogisticRegression(max_iter=200000,solver='lbfgs', multi_class='auto')\n",
    "\n",
    "model.fit(X_train_log, y_train_log)"
   ]
  },
  {
   "cell_type": "markdown",
   "metadata": {},
   "source": [
    "\n",
    "### Verificando a performance \n"
   ]
  },
  {
   "cell_type": "code",
   "execution_count": 119,
   "metadata": {},
   "outputs": [],
   "source": [
    "y_pred_log = model.predict(X_test_log)"
   ]
  },
  {
   "cell_type": "code",
   "execution_count": 120,
   "metadata": {},
   "outputs": [
    {
     "name": "stdout",
     "output_type": "stream",
     "text": [
      "0.6691542288557214\n"
     ]
    }
   ],
   "source": [
    "print(accuracy_score(y_test_log, y_pred_log))"
   ]
  },
  {
   "cell_type": "code",
   "execution_count": 122,
   "metadata": {},
   "outputs": [
    {
     "data": {
      "text/plain": [
       "1.0    0.630597\n",
       "0.0    0.354478\n",
       "2.0    0.014925\n",
       "Name: Winner, dtype: float64"
      ]
     },
     "execution_count": 122,
     "metadata": {},
     "output_type": "execute_result"
    }
   ],
   "source": [
    "y_test_random.value_counts(True)"
   ]
  },
  {
   "cell_type": "code",
   "execution_count": 123,
   "metadata": {},
   "outputs": [
    {
     "data": {
      "text/plain": [
       "1.0    2023\n",
       "0.0    1141\n",
       "2.0      51\n",
       "Name: Winner, dtype: int64"
      ]
     },
     "execution_count": 123,
     "metadata": {},
     "output_type": "execute_result"
    }
   ],
   "source": [
    "data_num.Winner.value_counts()"
   ]
  },
  {
   "cell_type": "code",
   "execution_count": 124,
   "metadata": {},
   "outputs": [
    {
     "name": "stderr",
     "output_type": "stream",
     "text": [
      "C:\\Users\\Maulem\\Spyder\\lib\\site-packages\\numpy\\core\\fromnumeric.py:2389: FutureWarning: Method .ptp is deprecated and will be removed in a future version. Use numpy.ptp instead.\n",
      "  return ptp(axis=axis, out=out, **kwargs)\n"
     ]
    },
    {
     "data": {
      "text/html": [
       "<table class=\"simpletable\">\n",
       "<caption>OLS Regression Results</caption>\n",
       "<tr>\n",
       "  <th>Dep. Variable:</th>         <td>Winner</td>      <th>  R-squared:         </th> <td>   0.134</td>\n",
       "</tr>\n",
       "<tr>\n",
       "  <th>Model:</th>                   <td>OLS</td>       <th>  Adj. R-squared:    </th> <td>   0.090</td>\n",
       "</tr>\n",
       "<tr>\n",
       "  <th>Method:</th>             <td>Least Squares</td>  <th>  F-statistic:       </th> <td>   3.008</td>\n",
       "</tr>\n",
       "<tr>\n",
       "  <th>Date:</th>             <td>Tue, 19 Nov 2019</td> <th>  Prob (F-statistic):</th> <td>3.96e-23</td>\n",
       "</tr>\n",
       "<tr>\n",
       "  <th>Time:</th>                 <td>23:20:56</td>     <th>  Log-Likelihood:    </th> <td> -1605.7</td>\n",
       "</tr>\n",
       "<tr>\n",
       "  <th>No. Observations:</th>      <td>  2411</td>      <th>  AIC:               </th> <td>   3449.</td>\n",
       "</tr>\n",
       "<tr>\n",
       "  <th>Df Residuals:</th>          <td>  2292</td>      <th>  BIC:               </th> <td>   4138.</td>\n",
       "</tr>\n",
       "<tr>\n",
       "  <th>Df Model:</th>              <td>   118</td>      <th>                     </th>     <td> </td>   \n",
       "</tr>\n",
       "<tr>\n",
       "  <th>Covariance Type:</th>      <td>nonrobust</td>    <th>                     </th>     <td> </td>   \n",
       "</tr>\n",
       "</table>\n",
       "<table class=\"simpletable\">\n",
       "<tr>\n",
       "                <td></td>                  <th>coef</th>     <th>std err</th>      <th>t</th>      <th>P>|t|</th>  <th>[0.025</th>    <th>0.975]</th>  \n",
       "</tr>\n",
       "<tr>\n",
       "  <th>const</th>                        <td>    2.0246</td> <td>    0.449</td> <td>    4.511</td> <td> 0.000</td> <td>    1.145</td> <td>    2.905</td>\n",
       "</tr>\n",
       "<tr>\n",
       "  <th>title_bout</th>                   <td>    0.1085</td> <td>    0.065</td> <td>    1.670</td> <td> 0.095</td> <td>   -0.019</td> <td>    0.236</td>\n",
       "</tr>\n",
       "<tr>\n",
       "  <th>no_of_rounds</th>                 <td>   -0.0468</td> <td>    0.024</td> <td>   -1.963</td> <td> 0.050</td> <td>   -0.094</td> <td>-3.74e-05</td>\n",
       "</tr>\n",
       "<tr>\n",
       "  <th>B_current_lose_streak</th>        <td>   -0.0075</td> <td>    0.018</td> <td>   -0.425</td> <td> 0.671</td> <td>   -0.042</td> <td>    0.027</td>\n",
       "</tr>\n",
       "<tr>\n",
       "  <th>B_current_win_streak</th>         <td>   -0.0148</td> <td>    0.011</td> <td>   -1.401</td> <td> 0.161</td> <td>   -0.036</td> <td>    0.006</td>\n",
       "</tr>\n",
       "<tr>\n",
       "  <th>B_draw</th>                       <td>-4.542e-15</td> <td>  9.3e-15</td> <td>   -0.488</td> <td> 0.625</td> <td>-2.28e-14</td> <td> 1.37e-14</td>\n",
       "</tr>\n",
       "<tr>\n",
       "  <th>B_avg_BODY_att</th>               <td>    0.0089</td> <td>    0.005</td> <td>    1.655</td> <td> 0.098</td> <td>   -0.002</td> <td>    0.020</td>\n",
       "</tr>\n",
       "<tr>\n",
       "  <th>B_avg_BODY_landed</th>            <td>   -0.0163</td> <td>    0.007</td> <td>   -2.241</td> <td> 0.025</td> <td>   -0.030</td> <td>   -0.002</td>\n",
       "</tr>\n",
       "<tr>\n",
       "  <th>B_avg_CLINCH_att</th>             <td>    0.0086</td> <td>    0.005</td> <td>    1.634</td> <td> 0.102</td> <td>   -0.002</td> <td>    0.019</td>\n",
       "</tr>\n",
       "<tr>\n",
       "  <th>B_avg_CLINCH_landed</th>          <td>   -0.0134</td> <td>    0.007</td> <td>   -1.876</td> <td> 0.061</td> <td>   -0.027</td> <td>    0.001</td>\n",
       "</tr>\n",
       "<tr>\n",
       "  <th>B_avg_DISTANCE_att</th>           <td>   -0.0017</td> <td>    0.003</td> <td>   -0.634</td> <td> 0.526</td> <td>   -0.007</td> <td>    0.004</td>\n",
       "</tr>\n",
       "<tr>\n",
       "  <th>B_avg_DISTANCE_landed</th>        <td>    0.0003</td> <td>    0.004</td> <td>    0.085</td> <td> 0.932</td> <td>   -0.007</td> <td>    0.008</td>\n",
       "</tr>\n",
       "<tr>\n",
       "  <th>B_avg_GROUND_att</th>             <td>   -0.0113</td> <td>    0.005</td> <td>   -2.401</td> <td> 0.016</td> <td>   -0.020</td> <td>   -0.002</td>\n",
       "</tr>\n",
       "<tr>\n",
       "  <th>B_avg_GROUND_landed</th>          <td>    0.0169</td> <td>    0.007</td> <td>    2.477</td> <td> 0.013</td> <td>    0.004</td> <td>    0.030</td>\n",
       "</tr>\n",
       "<tr>\n",
       "  <th>B_avg_HEAD_att</th>               <td>    0.0048</td> <td>    0.003</td> <td>    1.444</td> <td> 0.149</td> <td>   -0.002</td> <td>    0.011</td>\n",
       "</tr>\n",
       "<tr>\n",
       "  <th>B_avg_HEAD_landed</th>            <td>   -0.0089</td> <td>    0.005</td> <td>   -1.938</td> <td> 0.053</td> <td>   -0.018</td> <td>    0.000</td>\n",
       "</tr>\n",
       "<tr>\n",
       "  <th>B_avg_KD</th>                     <td>   -0.0357</td> <td>    0.038</td> <td>   -0.944</td> <td> 0.345</td> <td>   -0.110</td> <td>    0.038</td>\n",
       "</tr>\n",
       "<tr>\n",
       "  <th>B_avg_LEG_att</th>                <td>   -0.0181</td> <td>    0.007</td> <td>   -2.532</td> <td> 0.011</td> <td>   -0.032</td> <td>   -0.004</td>\n",
       "</tr>\n",
       "<tr>\n",
       "  <th>B_avg_LEG_landed</th>             <td>    0.0290</td> <td>    0.009</td> <td>    3.182</td> <td> 0.001</td> <td>    0.011</td> <td>    0.047</td>\n",
       "</tr>\n",
       "<tr>\n",
       "  <th>B_avg_PASS</th>                   <td>   -0.0075</td> <td>    0.011</td> <td>   -0.666</td> <td> 0.505</td> <td>   -0.029</td> <td>    0.014</td>\n",
       "</tr>\n",
       "<tr>\n",
       "  <th>B_avg_REV</th>                    <td>    0.0123</td> <td>    0.040</td> <td>    0.306</td> <td> 0.760</td> <td>   -0.066</td> <td>    0.091</td>\n",
       "</tr>\n",
       "<tr>\n",
       "  <th>B_avg_SIG_STR_att</th>            <td>   -0.0044</td> <td>    0.004</td> <td>   -1.043</td> <td> 0.297</td> <td>   -0.013</td> <td>    0.004</td>\n",
       "</tr>\n",
       "<tr>\n",
       "  <th>B_avg_SIG_STR_landed</th>         <td>    0.0039</td> <td>    0.005</td> <td>    0.767</td> <td> 0.443</td> <td>   -0.006</td> <td>    0.014</td>\n",
       "</tr>\n",
       "<tr>\n",
       "  <th>B_avg_SIG_STR_pct</th>            <td>   -0.0592</td> <td>    0.127</td> <td>   -0.467</td> <td> 0.640</td> <td>   -0.308</td> <td>    0.189</td>\n",
       "</tr>\n",
       "<tr>\n",
       "  <th>B_avg_SUB_ATT</th>                <td>    0.0152</td> <td>    0.019</td> <td>    0.796</td> <td> 0.426</td> <td>   -0.022</td> <td>    0.053</td>\n",
       "</tr>\n",
       "<tr>\n",
       "  <th>B_avg_TD_att</th>                 <td>   -0.0215</td> <td>    0.008</td> <td>   -2.599</td> <td> 0.009</td> <td>   -0.038</td> <td>   -0.005</td>\n",
       "</tr>\n",
       "<tr>\n",
       "  <th>B_avg_TD_landed</th>              <td>   -0.0027</td> <td>    0.021</td> <td>   -0.131</td> <td> 0.896</td> <td>   -0.043</td> <td>    0.038</td>\n",
       "</tr>\n",
       "<tr>\n",
       "  <th>B_avg_TD_pct</th>                 <td>   -0.0037</td> <td>    0.061</td> <td>   -0.061</td> <td> 0.951</td> <td>   -0.124</td> <td>    0.116</td>\n",
       "</tr>\n",
       "<tr>\n",
       "  <th>B_avg_TOTAL_STR_att</th>          <td>   -0.0006</td> <td>    0.005</td> <td>   -0.111</td> <td> 0.912</td> <td>   -0.011</td> <td>    0.010</td>\n",
       "</tr>\n",
       "<tr>\n",
       "  <th>B_avg_TOTAL_STR_landed</th>       <td>    0.0031</td> <td>    0.006</td> <td>    0.519</td> <td> 0.604</td> <td>   -0.009</td> <td>    0.015</td>\n",
       "</tr>\n",
       "<tr>\n",
       "  <th>B_longest_win_streak</th>         <td>    0.0136</td> <td>    0.013</td> <td>    1.033</td> <td> 0.302</td> <td>   -0.012</td> <td>    0.039</td>\n",
       "</tr>\n",
       "<tr>\n",
       "  <th>B_losses</th>                     <td>    0.0026</td> <td>    0.017</td> <td>    0.148</td> <td> 0.882</td> <td>   -0.032</td> <td>    0.037</td>\n",
       "</tr>\n",
       "<tr>\n",
       "  <th>B_avg_opp_BODY_att</th>           <td>   -0.0041</td> <td>    0.006</td> <td>   -0.685</td> <td> 0.493</td> <td>   -0.016</td> <td>    0.008</td>\n",
       "</tr>\n",
       "<tr>\n",
       "  <th>B_avg_opp_BODY_landed</th>        <td>    0.0054</td> <td>    0.008</td> <td>    0.705</td> <td> 0.481</td> <td>   -0.010</td> <td>    0.020</td>\n",
       "</tr>\n",
       "<tr>\n",
       "  <th>B_avg_opp_CLINCH_att</th>         <td>    0.0031</td> <td>    0.006</td> <td>    0.552</td> <td> 0.581</td> <td>   -0.008</td> <td>    0.014</td>\n",
       "</tr>\n",
       "<tr>\n",
       "  <th>B_avg_opp_CLINCH_landed</th>      <td>   -0.0029</td> <td>    0.008</td> <td>   -0.377</td> <td> 0.706</td> <td>   -0.018</td> <td>    0.012</td>\n",
       "</tr>\n",
       "<tr>\n",
       "  <th>B_avg_opp_DISTANCE_att</th>       <td>   -0.0001</td> <td>    0.003</td> <td>   -0.044</td> <td> 0.965</td> <td>   -0.005</td> <td>    0.005</td>\n",
       "</tr>\n",
       "<tr>\n",
       "  <th>B_avg_opp_DISTANCE_landed</th>    <td>   -0.0002</td> <td>    0.004</td> <td>   -0.050</td> <td> 0.960</td> <td>   -0.007</td> <td>    0.007</td>\n",
       "</tr>\n",
       "<tr>\n",
       "  <th>B_avg_opp_GROUND_att</th>         <td>    0.0042</td> <td>    0.005</td> <td>    0.898</td> <td> 0.369</td> <td>   -0.005</td> <td>    0.014</td>\n",
       "</tr>\n",
       "<tr>\n",
       "  <th>B_avg_opp_GROUND_landed</th>      <td>   -0.0037</td> <td>    0.007</td> <td>   -0.567</td> <td> 0.571</td> <td>   -0.017</td> <td>    0.009</td>\n",
       "</tr>\n",
       "<tr>\n",
       "  <th>B_avg_opp_HEAD_att</th>           <td>    0.0042</td> <td>    0.003</td> <td>    1.202</td> <td> 0.229</td> <td>   -0.003</td> <td>    0.011</td>\n",
       "</tr>\n",
       "<tr>\n",
       "  <th>B_avg_opp_HEAD_landed</th>        <td>   -0.0042</td> <td>    0.005</td> <td>   -0.885</td> <td> 0.376</td> <td>   -0.014</td> <td>    0.005</td>\n",
       "</tr>\n",
       "<tr>\n",
       "  <th>B_avg_opp_KD</th>                 <td>    0.0050</td> <td>    0.041</td> <td>    0.122</td> <td> 0.903</td> <td>   -0.075</td> <td>    0.085</td>\n",
       "</tr>\n",
       "<tr>\n",
       "  <th>B_avg_opp_LEG_att</th>            <td>    0.0071</td> <td>    0.008</td> <td>    0.880</td> <td> 0.379</td> <td>   -0.009</td> <td>    0.023</td>\n",
       "</tr>\n",
       "<tr>\n",
       "  <th>B_avg_opp_LEG_landed</th>         <td>   -0.0079</td> <td>    0.010</td> <td>   -0.796</td> <td> 0.426</td> <td>   -0.027</td> <td>    0.012</td>\n",
       "</tr>\n",
       "<tr>\n",
       "  <th>B_avg_opp_PASS</th>               <td>   -0.0202</td> <td>    0.011</td> <td>   -1.788</td> <td> 0.074</td> <td>   -0.042</td> <td>    0.002</td>\n",
       "</tr>\n",
       "<tr>\n",
       "  <th>B_avg_opp_REV</th>                <td>    0.0075</td> <td>    0.042</td> <td>    0.177</td> <td> 0.860</td> <td>   -0.075</td> <td>    0.090</td>\n",
       "</tr>\n",
       "<tr>\n",
       "  <th>B_avg_opp_SIG_STR_att</th>        <td>    0.0072</td> <td>    0.005</td> <td>    1.592</td> <td> 0.112</td> <td>   -0.002</td> <td>    0.016</td>\n",
       "</tr>\n",
       "<tr>\n",
       "  <th>B_avg_opp_SIG_STR_landed</th>     <td>   -0.0067</td> <td>    0.005</td> <td>   -1.226</td> <td> 0.220</td> <td>   -0.018</td> <td>    0.004</td>\n",
       "</tr>\n",
       "<tr>\n",
       "  <th>B_avg_opp_SIG_STR_pct</th>        <td>    0.0712</td> <td>    0.123</td> <td>    0.578</td> <td> 0.564</td> <td>   -0.171</td> <td>    0.313</td>\n",
       "</tr>\n",
       "<tr>\n",
       "  <th>B_avg_opp_SUB_ATT</th>            <td>    0.0366</td> <td>    0.021</td> <td>    1.778</td> <td> 0.075</td> <td>   -0.004</td> <td>    0.077</td>\n",
       "</tr>\n",
       "<tr>\n",
       "  <th>B_avg_opp_TD_att</th>             <td>   -0.0026</td> <td>    0.008</td> <td>   -0.324</td> <td> 0.746</td> <td>   -0.018</td> <td>    0.013</td>\n",
       "</tr>\n",
       "<tr>\n",
       "  <th>B_avg_opp_TD_landed</th>          <td>   -0.0103</td> <td>    0.020</td> <td>   -0.517</td> <td> 0.606</td> <td>   -0.049</td> <td>    0.029</td>\n",
       "</tr>\n",
       "<tr>\n",
       "  <th>B_avg_opp_TD_pct</th>             <td>    0.0713</td> <td>    0.064</td> <td>    1.117</td> <td> 0.264</td> <td>   -0.054</td> <td>    0.196</td>\n",
       "</tr>\n",
       "<tr>\n",
       "  <th>B_avg_opp_TOTAL_STR_att</th>      <td>   -0.0090</td> <td>    0.006</td> <td>   -1.611</td> <td> 0.107</td> <td>   -0.020</td> <td>    0.002</td>\n",
       "</tr>\n",
       "<tr>\n",
       "  <th>B_avg_opp_TOTAL_STR_landed</th>   <td>    0.0111</td> <td>    0.006</td> <td>    1.761</td> <td> 0.078</td> <td>   -0.001</td> <td>    0.023</td>\n",
       "</tr>\n",
       "<tr>\n",
       "  <th>B_total_rounds_fought</th>        <td>    0.0003</td> <td>    0.006</td> <td>    0.050</td> <td> 0.960</td> <td>   -0.011</td> <td>    0.011</td>\n",
       "</tr>\n",
       "<tr>\n",
       "  <th>B_total_time_fought(seconds)</th> <td>   -0.0002</td> <td>    0.000</td> <td>   -1.564</td> <td> 0.118</td> <td>   -0.000</td> <td>  4.8e-05</td>\n",
       "</tr>\n",
       "<tr>\n",
       "  <th>B_total_title_bouts</th>          <td>    0.0146</td> <td>    0.011</td> <td>    1.389</td> <td> 0.165</td> <td>   -0.006</td> <td>    0.035</td>\n",
       "</tr>\n",
       "<tr>\n",
       "  <th>B_win_by_Decision_Majority</th>   <td>   -0.1906</td> <td>    0.144</td> <td>   -1.325</td> <td> 0.185</td> <td>   -0.473</td> <td>    0.092</td>\n",
       "</tr>\n",
       "<tr>\n",
       "  <th>B_win_by_Decision_Split</th>      <td>   -0.1296</td> <td>    0.128</td> <td>   -1.013</td> <td> 0.311</td> <td>   -0.381</td> <td>    0.121</td>\n",
       "</tr>\n",
       "<tr>\n",
       "  <th>B_win_by_Decision_Unanimous</th>  <td>   -0.1928</td> <td>    0.127</td> <td>   -1.515</td> <td> 0.130</td> <td>   -0.442</td> <td>    0.057</td>\n",
       "</tr>\n",
       "<tr>\n",
       "  <th>B_win_by_KO/TKO</th>              <td>   -0.1852</td> <td>    0.126</td> <td>   -1.466</td> <td> 0.143</td> <td>   -0.433</td> <td>    0.062</td>\n",
       "</tr>\n",
       "<tr>\n",
       "  <th>B_win_by_Submission</th>          <td>   -0.1955</td> <td>    0.127</td> <td>   -1.543</td> <td> 0.123</td> <td>   -0.444</td> <td>    0.053</td>\n",
       "</tr>\n",
       "<tr>\n",
       "  <th>B_win_by_TKO_Doctor_Stoppage</th> <td>   -0.1558</td> <td>    0.132</td> <td>   -1.184</td> <td> 0.237</td> <td>   -0.414</td> <td>    0.102</td>\n",
       "</tr>\n",
       "<tr>\n",
       "  <th>B_wins</th>                       <td>    0.1834</td> <td>    0.125</td> <td>    1.465</td> <td> 0.143</td> <td>   -0.062</td> <td>    0.429</td>\n",
       "</tr>\n",
       "<tr>\n",
       "  <th>B_Height_cms</th>                 <td>   -0.0010</td> <td>    0.003</td> <td>   -0.349</td> <td> 0.727</td> <td>   -0.007</td> <td>    0.005</td>\n",
       "</tr>\n",
       "<tr>\n",
       "  <th>B_Reach_cms</th>                  <td>   -0.0004</td> <td>    0.002</td> <td>   -0.156</td> <td> 0.876</td> <td>   -0.005</td> <td>    0.004</td>\n",
       "</tr>\n",
       "<tr>\n",
       "  <th>B_Weight_lbs</th>                 <td>   -0.0004</td> <td>    0.001</td> <td>   -0.357</td> <td> 0.721</td> <td>   -0.002</td> <td>    0.002</td>\n",
       "</tr>\n",
       "<tr>\n",
       "  <th>R_current_lose_streak</th>        <td>   -0.0006</td> <td>    0.017</td> <td>   -0.036</td> <td> 0.971</td> <td>   -0.034</td> <td>    0.033</td>\n",
       "</tr>\n",
       "<tr>\n",
       "  <th>R_current_win_streak</th>         <td>   -0.0101</td> <td>    0.009</td> <td>   -1.171</td> <td> 0.242</td> <td>   -0.027</td> <td>    0.007</td>\n",
       "</tr>\n",
       "<tr>\n",
       "  <th>R_draw</th>                       <td> 6.866e-16</td> <td> 5.67e-16</td> <td>    1.212</td> <td> 0.226</td> <td>-4.25e-16</td> <td>  1.8e-15</td>\n",
       "</tr>\n",
       "<tr>\n",
       "  <th>R_avg_BODY_att</th>               <td>   -0.0070</td> <td>    0.006</td> <td>   -1.135</td> <td> 0.256</td> <td>   -0.019</td> <td>    0.005</td>\n",
       "</tr>\n",
       "<tr>\n",
       "  <th>R_avg_BODY_landed</th>            <td>    0.0084</td> <td>    0.008</td> <td>    1.027</td> <td> 0.305</td> <td>   -0.008</td> <td>    0.024</td>\n",
       "</tr>\n",
       "<tr>\n",
       "  <th>R_avg_CLINCH_att</th>             <td>    0.0043</td> <td>    0.006</td> <td>    0.699</td> <td> 0.484</td> <td>   -0.008</td> <td>    0.016</td>\n",
       "</tr>\n",
       "<tr>\n",
       "  <th>R_avg_CLINCH_landed</th>          <td>   -0.0063</td> <td>    0.008</td> <td>   -0.747</td> <td> 0.455</td> <td>   -0.023</td> <td>    0.010</td>\n",
       "</tr>\n",
       "<tr>\n",
       "  <th>R_avg_DISTANCE_att</th>           <td>   -0.0043</td> <td>    0.003</td> <td>   -1.408</td> <td> 0.159</td> <td>   -0.010</td> <td>    0.002</td>\n",
       "</tr>\n",
       "<tr>\n",
       "  <th>R_avg_DISTANCE_landed</th>        <td>    0.0087</td> <td>    0.004</td> <td>    1.978</td> <td> 0.048</td> <td> 7.35e-05</td> <td>    0.017</td>\n",
       "</tr>\n",
       "<tr>\n",
       "  <th>R_avg_GROUND_att</th>             <td>    0.0081</td> <td>    0.005</td> <td>    1.498</td> <td> 0.134</td> <td>   -0.002</td> <td>    0.019</td>\n",
       "</tr>\n",
       "<tr>\n",
       "  <th>R_avg_GROUND_landed</th>          <td>   -0.0115</td> <td>    0.008</td> <td>   -1.454</td> <td> 0.146</td> <td>   -0.027</td> <td>    0.004</td>\n",
       "</tr>\n",
       "<tr>\n",
       "  <th>R_avg_HEAD_att</th>               <td>    0.0011</td> <td>    0.003</td> <td>    0.320</td> <td> 0.749</td> <td>   -0.006</td> <td>    0.008</td>\n",
       "</tr>\n",
       "<tr>\n",
       "  <th>R_avg_HEAD_landed</th>            <td>   -0.0005</td> <td>    0.005</td> <td>   -0.104</td> <td> 0.917</td> <td>   -0.010</td> <td>    0.009</td>\n",
       "</tr>\n",
       "<tr>\n",
       "  <th>R_avg_KD</th>                     <td>   -0.0527</td> <td>    0.040</td> <td>   -1.318</td> <td> 0.187</td> <td>   -0.131</td> <td>    0.026</td>\n",
       "</tr>\n",
       "<tr>\n",
       "  <th>R_avg_LEG_att</th>                <td>    0.0139</td> <td>    0.007</td> <td>    1.918</td> <td> 0.055</td> <td>   -0.000</td> <td>    0.028</td>\n",
       "</tr>\n",
       "<tr>\n",
       "  <th>R_avg_LEG_landed</th>             <td>   -0.0169</td> <td>    0.009</td> <td>   -1.831</td> <td> 0.067</td> <td>   -0.035</td> <td>    0.001</td>\n",
       "</tr>\n",
       "<tr>\n",
       "  <th>R_avg_PASS</th>                   <td>    0.0060</td> <td>    0.012</td> <td>    0.516</td> <td> 0.606</td> <td>   -0.017</td> <td>    0.029</td>\n",
       "</tr>\n",
       "<tr>\n",
       "  <th>R_avg_REV</th>                    <td>   -0.1085</td> <td>    0.048</td> <td>   -2.241</td> <td> 0.025</td> <td>   -0.203</td> <td>   -0.014</td>\n",
       "</tr>\n",
       "<tr>\n",
       "  <th>R_avg_SIG_STR_att</th>            <td>    0.0081</td> <td>    0.005</td> <td>    1.743</td> <td> 0.081</td> <td>   -0.001</td> <td>    0.017</td>\n",
       "</tr>\n",
       "<tr>\n",
       "  <th>R_avg_SIG_STR_landed</th>         <td>   -0.0090</td> <td>    0.006</td> <td>   -1.634</td> <td> 0.102</td> <td>   -0.020</td> <td>    0.002</td>\n",
       "</tr>\n",
       "<tr>\n",
       "  <th>R_avg_SIG_STR_pct</th>            <td>    0.0350</td> <td>    0.146</td> <td>    0.241</td> <td> 0.810</td> <td>   -0.251</td> <td>    0.321</td>\n",
       "</tr>\n",
       "<tr>\n",
       "  <th>R_avg_SUB_ATT</th>                <td>    0.0208</td> <td>    0.021</td> <td>    0.991</td> <td> 0.322</td> <td>   -0.020</td> <td>    0.062</td>\n",
       "</tr>\n",
       "<tr>\n",
       "  <th>R_avg_TD_att</th>                 <td>    0.0121</td> <td>    0.009</td> <td>    1.305</td> <td> 0.192</td> <td>   -0.006</td> <td>    0.030</td>\n",
       "</tr>\n",
       "<tr>\n",
       "  <th>R_avg_TD_landed</th>              <td>    0.0012</td> <td>    0.023</td> <td>    0.051</td> <td> 0.960</td> <td>   -0.044</td> <td>    0.047</td>\n",
       "</tr>\n",
       "<tr>\n",
       "  <th>R_avg_TD_pct</th>                 <td>    0.0449</td> <td>    0.067</td> <td>    0.666</td> <td> 0.505</td> <td>   -0.087</td> <td>    0.177</td>\n",
       "</tr>\n",
       "<tr>\n",
       "  <th>R_avg_TOTAL_STR_att</th>          <td>   -0.0060</td> <td>    0.006</td> <td>   -0.984</td> <td> 0.325</td> <td>   -0.018</td> <td>    0.006</td>\n",
       "</tr>\n",
       "<tr>\n",
       "  <th>R_avg_TOTAL_STR_landed</th>       <td>    0.0062</td> <td>    0.007</td> <td>    0.912</td> <td> 0.362</td> <td>   -0.007</td> <td>    0.020</td>\n",
       "</tr>\n",
       "<tr>\n",
       "  <th>R_longest_win_streak</th>         <td>   -0.0081</td> <td>    0.011</td> <td>   -0.727</td> <td> 0.467</td> <td>   -0.030</td> <td>    0.014</td>\n",
       "</tr>\n",
       "<tr>\n",
       "  <th>R_losses</th>                     <td>   -0.0258</td> <td>    0.015</td> <td>   -1.714</td> <td> 0.087</td> <td>   -0.055</td> <td>    0.004</td>\n",
       "</tr>\n",
       "<tr>\n",
       "  <th>R_avg_opp_BODY_att</th>           <td>    0.0134</td> <td>    0.007</td> <td>    1.993</td> <td> 0.046</td> <td>    0.000</td> <td>    0.027</td>\n",
       "</tr>\n",
       "<tr>\n",
       "  <th>R_avg_opp_BODY_landed</th>        <td>   -0.0165</td> <td>    0.009</td> <td>   -1.792</td> <td> 0.073</td> <td>   -0.034</td> <td>    0.002</td>\n",
       "</tr>\n",
       "<tr>\n",
       "  <th>R_avg_opp_CLINCH_att</th>         <td>    0.0027</td> <td>    0.006</td> <td>    0.465</td> <td> 0.642</td> <td>   -0.009</td> <td>    0.014</td>\n",
       "</tr>\n",
       "<tr>\n",
       "  <th>R_avg_opp_CLINCH_landed</th>      <td>   -0.0043</td> <td>    0.008</td> <td>   -0.510</td> <td> 0.610</td> <td>   -0.021</td> <td>    0.012</td>\n",
       "</tr>\n",
       "<tr>\n",
       "  <th>R_avg_opp_DISTANCE_att</th>       <td>   -0.0002</td> <td>    0.003</td> <td>   -0.066</td> <td> 0.948</td> <td>   -0.006</td> <td>    0.006</td>\n",
       "</tr>\n",
       "<tr>\n",
       "  <th>R_avg_opp_DISTANCE_landed</th>    <td>    0.0027</td> <td>    0.004</td> <td>    0.617</td> <td> 0.537</td> <td>   -0.006</td> <td>    0.011</td>\n",
       "</tr>\n",
       "<tr>\n",
       "  <th>R_avg_opp_GROUND_att</th>         <td>    0.0112</td> <td>    0.005</td> <td>    2.279</td> <td> 0.023</td> <td>    0.002</td> <td>    0.021</td>\n",
       "</tr>\n",
       "<tr>\n",
       "  <th>R_avg_opp_GROUND_landed</th>      <td>   -0.0171</td> <td>    0.008</td> <td>   -2.223</td> <td> 0.026</td> <td>   -0.032</td> <td>   -0.002</td>\n",
       "</tr>\n",
       "<tr>\n",
       "  <th>R_avg_opp_HEAD_att</th>           <td>    0.0010</td> <td>    0.003</td> <td>    0.284</td> <td> 0.776</td> <td>   -0.006</td> <td>    0.008</td>\n",
       "</tr>\n",
       "<tr>\n",
       "  <th>R_avg_opp_HEAD_landed</th>        <td>   -0.0028</td> <td>    0.005</td> <td>   -0.555</td> <td> 0.579</td> <td>   -0.013</td> <td>    0.007</td>\n",
       "</tr>\n",
       "<tr>\n",
       "  <th>R_avg_opp_KD</th>                 <td>   -0.0005</td> <td>    0.049</td> <td>   -0.011</td> <td> 0.991</td> <td>   -0.096</td> <td>    0.095</td>\n",
       "</tr>\n",
       "<tr>\n",
       "  <th>R_avg_opp_LEG_att</th>            <td>   -0.0007</td> <td>    0.008</td> <td>   -0.087</td> <td> 0.931</td> <td>   -0.016</td> <td>    0.015</td>\n",
       "</tr>\n",
       "<tr>\n",
       "  <th>R_avg_opp_LEG_landed</th>         <td>    0.0006</td> <td>    0.010</td> <td>    0.062</td> <td> 0.951</td> <td>   -0.020</td> <td>    0.021</td>\n",
       "</tr>\n",
       "<tr>\n",
       "  <th>R_avg_opp_PASS</th>               <td>    0.0110</td> <td>    0.013</td> <td>    0.819</td> <td> 0.413</td> <td>   -0.015</td> <td>    0.037</td>\n",
       "</tr>\n",
       "<tr>\n",
       "  <th>R_avg_opp_REV</th>                <td>   -0.0230</td> <td>    0.046</td> <td>   -0.501</td> <td> 0.617</td> <td>   -0.113</td> <td>    0.067</td>\n",
       "</tr>\n",
       "<tr>\n",
       "  <th>R_avg_opp_SIG_STR_att</th>        <td>    0.0137</td> <td>    0.005</td> <td>    2.907</td> <td> 0.004</td> <td>    0.004</td> <td>    0.023</td>\n",
       "</tr>\n",
       "<tr>\n",
       "  <th>R_avg_opp_SIG_STR_landed</th>     <td>   -0.0186</td> <td>    0.006</td> <td>   -3.203</td> <td> 0.001</td> <td>   -0.030</td> <td>   -0.007</td>\n",
       "</tr>\n",
       "<tr>\n",
       "  <th>R_avg_opp_SIG_STR_pct</th>        <td>   -0.1267</td> <td>    0.142</td> <td>   -0.894</td> <td> 0.371</td> <td>   -0.405</td> <td>    0.151</td>\n",
       "</tr>\n",
       "<tr>\n",
       "  <th>R_avg_opp_SUB_ATT</th>            <td>   -0.0059</td> <td>    0.021</td> <td>   -0.282</td> <td> 0.778</td> <td>   -0.047</td> <td>    0.035</td>\n",
       "</tr>\n",
       "<tr>\n",
       "  <th>R_avg_opp_TD_att</th>             <td>    0.0191</td> <td>    0.009</td> <td>    2.186</td> <td> 0.029</td> <td>    0.002</td> <td>    0.036</td>\n",
       "</tr>\n",
       "<tr>\n",
       "  <th>R_avg_opp_TD_landed</th>          <td>   -0.0232</td> <td>    0.023</td> <td>   -1.024</td> <td> 0.306</td> <td>   -0.068</td> <td>    0.021</td>\n",
       "</tr>\n",
       "<tr>\n",
       "  <th>R_avg_opp_TD_pct</th>             <td>    0.0440</td> <td>    0.075</td> <td>    0.586</td> <td> 0.558</td> <td>   -0.103</td> <td>    0.191</td>\n",
       "</tr>\n",
       "<tr>\n",
       "  <th>R_avg_opp_TOTAL_STR_att</th>      <td>   -0.0162</td> <td>    0.006</td> <td>   -2.643</td> <td> 0.008</td> <td>   -0.028</td> <td>   -0.004</td>\n",
       "</tr>\n",
       "<tr>\n",
       "  <th>R_avg_opp_TOTAL_STR_landed</th>   <td>    0.0181</td> <td>    0.007</td> <td>    2.607</td> <td> 0.009</td> <td>    0.004</td> <td>    0.032</td>\n",
       "</tr>\n",
       "<tr>\n",
       "  <th>R_total_rounds_fought</th>        <td>    0.0016</td> <td>    0.005</td> <td>    0.351</td> <td> 0.726</td> <td>   -0.007</td> <td>    0.011</td>\n",
       "</tr>\n",
       "<tr>\n",
       "  <th>R_total_time_fought(seconds)</th> <td> 3.059e-05</td> <td>    0.000</td> <td>    0.234</td> <td> 0.815</td> <td>   -0.000</td> <td>    0.000</td>\n",
       "</tr>\n",
       "<tr>\n",
       "  <th>R_total_title_bouts</th>          <td>    0.0096</td> <td>    0.009</td> <td>    1.088</td> <td> 0.277</td> <td>   -0.008</td> <td>    0.027</td>\n",
       "</tr>\n",
       "<tr>\n",
       "  <th>R_win_by_Decision_Majority</th>   <td>   -0.0567</td> <td>    0.121</td> <td>   -0.470</td> <td> 0.638</td> <td>   -0.293</td> <td>    0.180</td>\n",
       "</tr>\n",
       "<tr>\n",
       "  <th>R_win_by_Decision_Split</th>      <td>   -0.0637</td> <td>    0.105</td> <td>   -0.604</td> <td> 0.546</td> <td>   -0.271</td> <td>    0.143</td>\n",
       "</tr>\n",
       "<tr>\n",
       "  <th>R_win_by_Decision_Unanimous</th>  <td>   -0.0298</td> <td>    0.105</td> <td>   -0.285</td> <td> 0.776</td> <td>   -0.235</td> <td>    0.175</td>\n",
       "</tr>\n",
       "<tr>\n",
       "  <th>R_win_by_KO/TKO</th>              <td>   -0.0063</td> <td>    0.103</td> <td>   -0.061</td> <td> 0.951</td> <td>   -0.209</td> <td>    0.196</td>\n",
       "</tr>\n",
       "<tr>\n",
       "  <th>R_win_by_Submission</th>          <td>   -0.0086</td> <td>    0.104</td> <td>   -0.082</td> <td> 0.934</td> <td>   -0.213</td> <td>    0.196</td>\n",
       "</tr>\n",
       "<tr>\n",
       "  <th>R_win_by_TKO_Doctor_Stoppage</th> <td>   -0.0449</td> <td>    0.108</td> <td>   -0.417</td> <td> 0.677</td> <td>   -0.256</td> <td>    0.166</td>\n",
       "</tr>\n",
       "<tr>\n",
       "  <th>R_wins</th>                       <td>    0.0247</td> <td>    0.103</td> <td>    0.239</td> <td> 0.811</td> <td>   -0.178</td> <td>    0.227</td>\n",
       "</tr>\n",
       "<tr>\n",
       "  <th>R_Height_cms</th>                 <td>   -0.0079</td> <td>    0.003</td> <td>   -2.599</td> <td> 0.009</td> <td>   -0.014</td> <td>   -0.002</td>\n",
       "</tr>\n",
       "<tr>\n",
       "  <th>R_Reach_cms</th>                  <td>    0.0031</td> <td>    0.002</td> <td>    1.327</td> <td> 0.185</td> <td>   -0.001</td> <td>    0.008</td>\n",
       "</tr>\n",
       "<tr>\n",
       "  <th>R_Weight_lbs</th>                 <td>    0.0019</td> <td>    0.001</td> <td>    1.836</td> <td> 0.066</td> <td>   -0.000</td> <td>    0.004</td>\n",
       "</tr>\n",
       "<tr>\n",
       "  <th>B_age</th>                        <td>    0.0057</td> <td>    0.003</td> <td>    1.875</td> <td> 0.061</td> <td>   -0.000</td> <td>    0.012</td>\n",
       "</tr>\n",
       "<tr>\n",
       "  <th>R_age</th>                        <td>   -0.0145</td> <td>    0.003</td> <td>   -4.664</td> <td> 0.000</td> <td>   -0.021</td> <td>   -0.008</td>\n",
       "</tr>\n",
       "</table>\n",
       "<table class=\"simpletable\">\n",
       "<tr>\n",
       "  <th>Omnibus:</th>       <td>82.116</td> <th>  Durbin-Watson:     </th> <td>   1.983</td>\n",
       "</tr>\n",
       "<tr>\n",
       "  <th>Prob(Omnibus):</th> <td> 0.000</td> <th>  Jarque-Bera (JB):  </th> <td>  42.815</td>\n",
       "</tr>\n",
       "<tr>\n",
       "  <th>Skew:</th>          <td>-0.134</td> <th>  Prob(JB):          </th> <td>5.04e-10</td>\n",
       "</tr>\n",
       "<tr>\n",
       "  <th>Kurtosis:</th>      <td> 2.405</td> <th>  Cond. No.          </th> <td>4.21e+16</td>\n",
       "</tr>\n",
       "</table><br/><br/>Warnings:<br/>[1] Standard Errors assume that the covariance matrix of the errors is correctly specified.<br/>[2] The smallest eigenvalue is 1.48e-24. This might indicate that there are<br/>strong multicollinearity problems or that the design matrix is singular."
      ],
      "text/plain": [
       "<class 'statsmodels.iolib.summary.Summary'>\n",
       "\"\"\"\n",
       "                            OLS Regression Results                            \n",
       "==============================================================================\n",
       "Dep. Variable:                 Winner   R-squared:                       0.134\n",
       "Model:                            OLS   Adj. R-squared:                  0.090\n",
       "Method:                 Least Squares   F-statistic:                     3.008\n",
       "Date:                Tue, 19 Nov 2019   Prob (F-statistic):           3.96e-23\n",
       "Time:                        23:20:56   Log-Likelihood:                -1605.7\n",
       "No. Observations:                2411   AIC:                             3449.\n",
       "Df Residuals:                    2292   BIC:                             4138.\n",
       "Df Model:                         118                                         \n",
       "Covariance Type:            nonrobust                                         \n",
       "================================================================================================\n",
       "                                   coef    std err          t      P>|t|      [0.025      0.975]\n",
       "------------------------------------------------------------------------------------------------\n",
       "const                            2.0246      0.449      4.511      0.000       1.145       2.905\n",
       "title_bout                       0.1085      0.065      1.670      0.095      -0.019       0.236\n",
       "no_of_rounds                    -0.0468      0.024     -1.963      0.050      -0.094   -3.74e-05\n",
       "B_current_lose_streak           -0.0075      0.018     -0.425      0.671      -0.042       0.027\n",
       "B_current_win_streak            -0.0148      0.011     -1.401      0.161      -0.036       0.006\n",
       "B_draw                       -4.542e-15    9.3e-15     -0.488      0.625   -2.28e-14    1.37e-14\n",
       "B_avg_BODY_att                   0.0089      0.005      1.655      0.098      -0.002       0.020\n",
       "B_avg_BODY_landed               -0.0163      0.007     -2.241      0.025      -0.030      -0.002\n",
       "B_avg_CLINCH_att                 0.0086      0.005      1.634      0.102      -0.002       0.019\n",
       "B_avg_CLINCH_landed             -0.0134      0.007     -1.876      0.061      -0.027       0.001\n",
       "B_avg_DISTANCE_att              -0.0017      0.003     -0.634      0.526      -0.007       0.004\n",
       "B_avg_DISTANCE_landed            0.0003      0.004      0.085      0.932      -0.007       0.008\n",
       "B_avg_GROUND_att                -0.0113      0.005     -2.401      0.016      -0.020      -0.002\n",
       "B_avg_GROUND_landed              0.0169      0.007      2.477      0.013       0.004       0.030\n",
       "B_avg_HEAD_att                   0.0048      0.003      1.444      0.149      -0.002       0.011\n",
       "B_avg_HEAD_landed               -0.0089      0.005     -1.938      0.053      -0.018       0.000\n",
       "B_avg_KD                        -0.0357      0.038     -0.944      0.345      -0.110       0.038\n",
       "B_avg_LEG_att                   -0.0181      0.007     -2.532      0.011      -0.032      -0.004\n",
       "B_avg_LEG_landed                 0.0290      0.009      3.182      0.001       0.011       0.047\n",
       "B_avg_PASS                      -0.0075      0.011     -0.666      0.505      -0.029       0.014\n",
       "B_avg_REV                        0.0123      0.040      0.306      0.760      -0.066       0.091\n",
       "B_avg_SIG_STR_att               -0.0044      0.004     -1.043      0.297      -0.013       0.004\n",
       "B_avg_SIG_STR_landed             0.0039      0.005      0.767      0.443      -0.006       0.014\n",
       "B_avg_SIG_STR_pct               -0.0592      0.127     -0.467      0.640      -0.308       0.189\n",
       "B_avg_SUB_ATT                    0.0152      0.019      0.796      0.426      -0.022       0.053\n",
       "B_avg_TD_att                    -0.0215      0.008     -2.599      0.009      -0.038      -0.005\n",
       "B_avg_TD_landed                 -0.0027      0.021     -0.131      0.896      -0.043       0.038\n",
       "B_avg_TD_pct                    -0.0037      0.061     -0.061      0.951      -0.124       0.116\n",
       "B_avg_TOTAL_STR_att             -0.0006      0.005     -0.111      0.912      -0.011       0.010\n",
       "B_avg_TOTAL_STR_landed           0.0031      0.006      0.519      0.604      -0.009       0.015\n",
       "B_longest_win_streak             0.0136      0.013      1.033      0.302      -0.012       0.039\n",
       "B_losses                         0.0026      0.017      0.148      0.882      -0.032       0.037\n",
       "B_avg_opp_BODY_att              -0.0041      0.006     -0.685      0.493      -0.016       0.008\n",
       "B_avg_opp_BODY_landed            0.0054      0.008      0.705      0.481      -0.010       0.020\n",
       "B_avg_opp_CLINCH_att             0.0031      0.006      0.552      0.581      -0.008       0.014\n",
       "B_avg_opp_CLINCH_landed         -0.0029      0.008     -0.377      0.706      -0.018       0.012\n",
       "B_avg_opp_DISTANCE_att          -0.0001      0.003     -0.044      0.965      -0.005       0.005\n",
       "B_avg_opp_DISTANCE_landed       -0.0002      0.004     -0.050      0.960      -0.007       0.007\n",
       "B_avg_opp_GROUND_att             0.0042      0.005      0.898      0.369      -0.005       0.014\n",
       "B_avg_opp_GROUND_landed         -0.0037      0.007     -0.567      0.571      -0.017       0.009\n",
       "B_avg_opp_HEAD_att               0.0042      0.003      1.202      0.229      -0.003       0.011\n",
       "B_avg_opp_HEAD_landed           -0.0042      0.005     -0.885      0.376      -0.014       0.005\n",
       "B_avg_opp_KD                     0.0050      0.041      0.122      0.903      -0.075       0.085\n",
       "B_avg_opp_LEG_att                0.0071      0.008      0.880      0.379      -0.009       0.023\n",
       "B_avg_opp_LEG_landed            -0.0079      0.010     -0.796      0.426      -0.027       0.012\n",
       "B_avg_opp_PASS                  -0.0202      0.011     -1.788      0.074      -0.042       0.002\n",
       "B_avg_opp_REV                    0.0075      0.042      0.177      0.860      -0.075       0.090\n",
       "B_avg_opp_SIG_STR_att            0.0072      0.005      1.592      0.112      -0.002       0.016\n",
       "B_avg_opp_SIG_STR_landed        -0.0067      0.005     -1.226      0.220      -0.018       0.004\n",
       "B_avg_opp_SIG_STR_pct            0.0712      0.123      0.578      0.564      -0.171       0.313\n",
       "B_avg_opp_SUB_ATT                0.0366      0.021      1.778      0.075      -0.004       0.077\n",
       "B_avg_opp_TD_att                -0.0026      0.008     -0.324      0.746      -0.018       0.013\n",
       "B_avg_opp_TD_landed             -0.0103      0.020     -0.517      0.606      -0.049       0.029\n",
       "B_avg_opp_TD_pct                 0.0713      0.064      1.117      0.264      -0.054       0.196\n",
       "B_avg_opp_TOTAL_STR_att         -0.0090      0.006     -1.611      0.107      -0.020       0.002\n",
       "B_avg_opp_TOTAL_STR_landed       0.0111      0.006      1.761      0.078      -0.001       0.023\n",
       "B_total_rounds_fought            0.0003      0.006      0.050      0.960      -0.011       0.011\n",
       "B_total_time_fought(seconds)    -0.0002      0.000     -1.564      0.118      -0.000     4.8e-05\n",
       "B_total_title_bouts              0.0146      0.011      1.389      0.165      -0.006       0.035\n",
       "B_win_by_Decision_Majority      -0.1906      0.144     -1.325      0.185      -0.473       0.092\n",
       "B_win_by_Decision_Split         -0.1296      0.128     -1.013      0.311      -0.381       0.121\n",
       "B_win_by_Decision_Unanimous     -0.1928      0.127     -1.515      0.130      -0.442       0.057\n",
       "B_win_by_KO/TKO                 -0.1852      0.126     -1.466      0.143      -0.433       0.062\n",
       "B_win_by_Submission             -0.1955      0.127     -1.543      0.123      -0.444       0.053\n",
       "B_win_by_TKO_Doctor_Stoppage    -0.1558      0.132     -1.184      0.237      -0.414       0.102\n",
       "B_wins                           0.1834      0.125      1.465      0.143      -0.062       0.429\n",
       "B_Height_cms                    -0.0010      0.003     -0.349      0.727      -0.007       0.005\n",
       "B_Reach_cms                     -0.0004      0.002     -0.156      0.876      -0.005       0.004\n",
       "B_Weight_lbs                    -0.0004      0.001     -0.357      0.721      -0.002       0.002\n",
       "R_current_lose_streak           -0.0006      0.017     -0.036      0.971      -0.034       0.033\n",
       "R_current_win_streak            -0.0101      0.009     -1.171      0.242      -0.027       0.007\n",
       "R_draw                        6.866e-16   5.67e-16      1.212      0.226   -4.25e-16     1.8e-15\n",
       "R_avg_BODY_att                  -0.0070      0.006     -1.135      0.256      -0.019       0.005\n",
       "R_avg_BODY_landed                0.0084      0.008      1.027      0.305      -0.008       0.024\n",
       "R_avg_CLINCH_att                 0.0043      0.006      0.699      0.484      -0.008       0.016\n",
       "R_avg_CLINCH_landed             -0.0063      0.008     -0.747      0.455      -0.023       0.010\n",
       "R_avg_DISTANCE_att              -0.0043      0.003     -1.408      0.159      -0.010       0.002\n",
       "R_avg_DISTANCE_landed            0.0087      0.004      1.978      0.048    7.35e-05       0.017\n",
       "R_avg_GROUND_att                 0.0081      0.005      1.498      0.134      -0.002       0.019\n",
       "R_avg_GROUND_landed             -0.0115      0.008     -1.454      0.146      -0.027       0.004\n",
       "R_avg_HEAD_att                   0.0011      0.003      0.320      0.749      -0.006       0.008\n",
       "R_avg_HEAD_landed               -0.0005      0.005     -0.104      0.917      -0.010       0.009\n",
       "R_avg_KD                        -0.0527      0.040     -1.318      0.187      -0.131       0.026\n",
       "R_avg_LEG_att                    0.0139      0.007      1.918      0.055      -0.000       0.028\n",
       "R_avg_LEG_landed                -0.0169      0.009     -1.831      0.067      -0.035       0.001\n",
       "R_avg_PASS                       0.0060      0.012      0.516      0.606      -0.017       0.029\n",
       "R_avg_REV                       -0.1085      0.048     -2.241      0.025      -0.203      -0.014\n",
       "R_avg_SIG_STR_att                0.0081      0.005      1.743      0.081      -0.001       0.017\n",
       "R_avg_SIG_STR_landed            -0.0090      0.006     -1.634      0.102      -0.020       0.002\n",
       "R_avg_SIG_STR_pct                0.0350      0.146      0.241      0.810      -0.251       0.321\n",
       "R_avg_SUB_ATT                    0.0208      0.021      0.991      0.322      -0.020       0.062\n",
       "R_avg_TD_att                     0.0121      0.009      1.305      0.192      -0.006       0.030\n",
       "R_avg_TD_landed                  0.0012      0.023      0.051      0.960      -0.044       0.047\n",
       "R_avg_TD_pct                     0.0449      0.067      0.666      0.505      -0.087       0.177\n",
       "R_avg_TOTAL_STR_att             -0.0060      0.006     -0.984      0.325      -0.018       0.006\n",
       "R_avg_TOTAL_STR_landed           0.0062      0.007      0.912      0.362      -0.007       0.020\n",
       "R_longest_win_streak            -0.0081      0.011     -0.727      0.467      -0.030       0.014\n",
       "R_losses                        -0.0258      0.015     -1.714      0.087      -0.055       0.004\n",
       "R_avg_opp_BODY_att               0.0134      0.007      1.993      0.046       0.000       0.027\n",
       "R_avg_opp_BODY_landed           -0.0165      0.009     -1.792      0.073      -0.034       0.002\n",
       "R_avg_opp_CLINCH_att             0.0027      0.006      0.465      0.642      -0.009       0.014\n",
       "R_avg_opp_CLINCH_landed         -0.0043      0.008     -0.510      0.610      -0.021       0.012\n",
       "R_avg_opp_DISTANCE_att          -0.0002      0.003     -0.066      0.948      -0.006       0.006\n",
       "R_avg_opp_DISTANCE_landed        0.0027      0.004      0.617      0.537      -0.006       0.011\n",
       "R_avg_opp_GROUND_att             0.0112      0.005      2.279      0.023       0.002       0.021\n",
       "R_avg_opp_GROUND_landed         -0.0171      0.008     -2.223      0.026      -0.032      -0.002\n",
       "R_avg_opp_HEAD_att               0.0010      0.003      0.284      0.776      -0.006       0.008\n",
       "R_avg_opp_HEAD_landed           -0.0028      0.005     -0.555      0.579      -0.013       0.007\n",
       "R_avg_opp_KD                    -0.0005      0.049     -0.011      0.991      -0.096       0.095\n",
       "R_avg_opp_LEG_att               -0.0007      0.008     -0.087      0.931      -0.016       0.015\n",
       "R_avg_opp_LEG_landed             0.0006      0.010      0.062      0.951      -0.020       0.021\n",
       "R_avg_opp_PASS                   0.0110      0.013      0.819      0.413      -0.015       0.037\n",
       "R_avg_opp_REV                   -0.0230      0.046     -0.501      0.617      -0.113       0.067\n",
       "R_avg_opp_SIG_STR_att            0.0137      0.005      2.907      0.004       0.004       0.023\n",
       "R_avg_opp_SIG_STR_landed        -0.0186      0.006     -3.203      0.001      -0.030      -0.007\n",
       "R_avg_opp_SIG_STR_pct           -0.1267      0.142     -0.894      0.371      -0.405       0.151\n",
       "R_avg_opp_SUB_ATT               -0.0059      0.021     -0.282      0.778      -0.047       0.035\n",
       "R_avg_opp_TD_att                 0.0191      0.009      2.186      0.029       0.002       0.036\n",
       "R_avg_opp_TD_landed             -0.0232      0.023     -1.024      0.306      -0.068       0.021\n",
       "R_avg_opp_TD_pct                 0.0440      0.075      0.586      0.558      -0.103       0.191\n",
       "R_avg_opp_TOTAL_STR_att         -0.0162      0.006     -2.643      0.008      -0.028      -0.004\n",
       "R_avg_opp_TOTAL_STR_landed       0.0181      0.007      2.607      0.009       0.004       0.032\n",
       "R_total_rounds_fought            0.0016      0.005      0.351      0.726      -0.007       0.011\n",
       "R_total_time_fought(seconds)  3.059e-05      0.000      0.234      0.815      -0.000       0.000\n",
       "R_total_title_bouts              0.0096      0.009      1.088      0.277      -0.008       0.027\n",
       "R_win_by_Decision_Majority      -0.0567      0.121     -0.470      0.638      -0.293       0.180\n",
       "R_win_by_Decision_Split         -0.0637      0.105     -0.604      0.546      -0.271       0.143\n",
       "R_win_by_Decision_Unanimous     -0.0298      0.105     -0.285      0.776      -0.235       0.175\n",
       "R_win_by_KO/TKO                 -0.0063      0.103     -0.061      0.951      -0.209       0.196\n",
       "R_win_by_Submission             -0.0086      0.104     -0.082      0.934      -0.213       0.196\n",
       "R_win_by_TKO_Doctor_Stoppage    -0.0449      0.108     -0.417      0.677      -0.256       0.166\n",
       "R_wins                           0.0247      0.103      0.239      0.811      -0.178       0.227\n",
       "R_Height_cms                    -0.0079      0.003     -2.599      0.009      -0.014      -0.002\n",
       "R_Reach_cms                      0.0031      0.002      1.327      0.185      -0.001       0.008\n",
       "R_Weight_lbs                     0.0019      0.001      1.836      0.066      -0.000       0.004\n",
       "B_age                            0.0057      0.003      1.875      0.061      -0.000       0.012\n",
       "R_age                           -0.0145      0.003     -4.664      0.000      -0.021      -0.008\n",
       "==============================================================================\n",
       "Omnibus:                       82.116   Durbin-Watson:                   1.983\n",
       "Prob(Omnibus):                  0.000   Jarque-Bera (JB):               42.815\n",
       "Skew:                          -0.134   Prob(JB):                     5.04e-10\n",
       "Kurtosis:                       2.405   Cond. No.                     4.21e+16\n",
       "==============================================================================\n",
       "\n",
       "Warnings:\n",
       "[1] Standard Errors assume that the covariance matrix of the errors is correctly specified.\n",
       "[2] The smallest eigenvalue is 1.48e-24. This might indicate that there are\n",
       "strong multicollinearity problems or that the design matrix is singular.\n",
       "\"\"\""
      ]
     },
     "execution_count": 124,
     "metadata": {},
     "output_type": "execute_result"
    }
   ],
   "source": [
    "result = preparo(X_train_log,y_train_log)\n",
    "result.summary()"
   ]
  },
  {
   "cell_type": "markdown",
   "metadata": {},
   "source": [
    "   ___\n",
    "## Conclusão Teste 1 :"
   ]
  },
  {
   "cell_type": "markdown",
   "metadata": {},
   "source": [
    "Tendo um acurácia média de 64% em ambos modelos não é um bom resultado, visto que o modelo praticamente sempre tem como resultado o vermelho como vencedor, e como a probabilidade do lutador vermelho ganhar é de 62.12112% ele praticamente só acerta os que o vencedor é o vermelho e erra os que o azul é o vencedor.\n",
    "\n",
    "Assim é possível concluir que é necessário desconsiderar algumas variáveis para melhorar a acurácia."
   ]
  },
  {
   "cell_type": "markdown",
   "metadata": {},
   "source": [
    "   ___\n",
    "## Criando um dataframe dos fatores mais impactantes no resultado segundo o Teste 1:"
   ]
  },
  {
   "cell_type": "code",
   "execution_count": 125,
   "metadata": {},
   "outputs": [],
   "source": [
    "#Fatores que tem o maior peso na decisão da vitória\n",
    "j=1\n",
    "lista_j=list()\n",
    "for i, f in sorted(list(zip(model_random.feature_importances_, X_train_random.columns)), reverse=True):\n",
    "    a=str(j)+'°'\n",
    "    lista_j.append(a)\n",
    "    j+=1"
   ]
  },
  {
   "cell_type": "code",
   "execution_count": 126,
   "metadata": {},
   "outputs": [
    {
     "data": {
      "text/html": [
       "<div>\n",
       "<style scoped>\n",
       "    .dataframe tbody tr th:only-of-type {\n",
       "        vertical-align: middle;\n",
       "    }\n",
       "\n",
       "    .dataframe tbody tr th {\n",
       "        vertical-align: top;\n",
       "    }\n",
       "\n",
       "    .dataframe thead th {\n",
       "        text-align: right;\n",
       "    }\n",
       "</style>\n",
       "<table border=\"1\" class=\"dataframe\">\n",
       "  <thead>\n",
       "    <tr style=\"text-align: right;\">\n",
       "      <th></th>\n",
       "      <th>Fator</th>\n",
       "      <th>Correlação</th>\n",
       "    </tr>\n",
       "    <tr>\n",
       "      <th>Grau de Importância</th>\n",
       "      <th></th>\n",
       "      <th></th>\n",
       "    </tr>\n",
       "  </thead>\n",
       "  <tbody>\n",
       "    <tr>\n",
       "      <th>1°</th>\n",
       "      <td>R_avg_opp_HEAD_landed</td>\n",
       "      <td>0.014745</td>\n",
       "    </tr>\n",
       "    <tr>\n",
       "      <th>2°</th>\n",
       "      <td>R_avg_opp_SIG_STR_landed</td>\n",
       "      <td>0.014574</td>\n",
       "    </tr>\n",
       "  </tbody>\n",
       "</table>\n",
       "</div>"
      ],
      "text/plain": [
       "                                        Fator  Correlação\n",
       "Grau de Importância                                      \n",
       "1°                      R_avg_opp_HEAD_landed    0.014745\n",
       "2°                   R_avg_opp_SIG_STR_landed    0.014574"
      ]
     },
     "execution_count": 126,
     "metadata": {},
     "output_type": "execute_result"
    }
   ],
   "source": [
    "data={'Fator':X_train_random.columns ,'Correlação':model_random.feature_importances_,}\n",
    "Fator_por_corr=pd.DataFrame(data)\n",
    "Fator_por_corr=Fator_por_corr.sort_values(by='Correlação', ascending=False)\n",
    "Fator_por_corr['Grau de Importância']=lista_j\n",
    "Fator_por_corr = Fator_por_corr.set_index('Grau de Importância')\n",
    "Fator_por_corr.head(2)"
   ]
  },
  {
   "cell_type": "code",
   "execution_count": null,
   "metadata": {},
   "outputs": [],
   "source": [
    "plt.title('Correlation between the columns and the Winner column')\n",
    "plt.scatter(Fator_por_corr.index,Fator_por_corr.Correlação)"
   ]
  },
  {
   "cell_type": "markdown",
   "metadata": {},
   "source": [
    "   ___\n",
    "## Escolhendo quais dados devem ser usados nos modelos de predição:"
   ]
  },
  {
   "cell_type": "code",
   "execution_count": 127,
   "metadata": {},
   "outputs": [],
   "source": [
    "def relevancia(df,coluna_nome,coluna_correlacao,acuracia):\n",
    "    inuteis = []\n",
    "    uteis = ['Winner']\n",
    "    for index,row in df.iterrows():\n",
    "        if row[coluna_correlacao] >= -acuracia and row[coluna_correlacao] <= acuracia:\n",
    "            inuteis.append(row[coluna_nome])\n",
    "        else:\n",
    "            uteis.append(row[coluna_nome])\n",
    "    return uteis"
   ]
  },
  {
   "cell_type": "code",
   "execution_count": 128,
   "metadata": {},
   "outputs": [],
   "source": [
    "uteis = relevancia(Fator_por_corr,'Fator','Correlação',0.01)"
   ]
  },
  {
   "cell_type": "code",
   "execution_count": 129,
   "metadata": {
    "scrolled": true
   },
   "outputs": [
    {
     "data": {
      "text/html": [
       "<div>\n",
       "<style scoped>\n",
       "    .dataframe tbody tr th:only-of-type {\n",
       "        vertical-align: middle;\n",
       "    }\n",
       "\n",
       "    .dataframe tbody tr th {\n",
       "        vertical-align: top;\n",
       "    }\n",
       "\n",
       "    .dataframe thead th {\n",
       "        text-align: right;\n",
       "    }\n",
       "</style>\n",
       "<table border=\"1\" class=\"dataframe\">\n",
       "  <thead>\n",
       "    <tr style=\"text-align: right;\">\n",
       "      <th></th>\n",
       "      <th>Winner</th>\n",
       "      <th>R_avg_opp_HEAD_landed</th>\n",
       "      <th>R_avg_opp_SIG_STR_landed</th>\n",
       "      <th>R_avg_opp_SIG_STR_pct</th>\n",
       "      <th>R_age</th>\n",
       "      <th>R_avg_opp_DISTANCE_landed</th>\n",
       "      <th>R_avg_opp_TOTAL_STR_landed</th>\n",
       "      <th>B_age</th>\n",
       "      <th>R_avg_opp_BODY_att</th>\n",
       "      <th>R_avg_opp_TOTAL_STR_att</th>\n",
       "      <th>B_avg_SIG_STR_att</th>\n",
       "      <th>B_avg_SIG_STR_landed</th>\n",
       "      <th>B_avg_opp_SIG_STR_pct</th>\n",
       "      <th>B_avg_BODY_att</th>\n",
       "      <th>R_avg_TD_pct</th>\n",
       "      <th>R_avg_opp_BODY_landed</th>\n",
       "    </tr>\n",
       "  </thead>\n",
       "  <tbody>\n",
       "    <tr>\n",
       "      <th>0</th>\n",
       "      <td>1</td>\n",
       "      <td>17.300000</td>\n",
       "      <td>32.200000</td>\n",
       "      <td>0.336000</td>\n",
       "      <td>32.0</td>\n",
       "      <td>26.800000</td>\n",
       "      <td>43.300000</td>\n",
       "      <td>31.0</td>\n",
       "      <td>13.300000</td>\n",
       "      <td>110.500000</td>\n",
       "      <td>65.40</td>\n",
       "      <td>22.600000</td>\n",
       "      <td>0.236000</td>\n",
       "      <td>9.200000</td>\n",
       "      <td>0.458000</td>\n",
       "      <td>8.800000</td>\n",
       "    </tr>\n",
       "    <tr>\n",
       "      <th>1</th>\n",
       "      <td>1</td>\n",
       "      <td>12.428571</td>\n",
       "      <td>44.714286</td>\n",
       "      <td>0.437143</td>\n",
       "      <td>31.0</td>\n",
       "      <td>32.571429</td>\n",
       "      <td>82.285714</td>\n",
       "      <td>32.0</td>\n",
       "      <td>24.571429</td>\n",
       "      <td>158.142857</td>\n",
       "      <td>138.90</td>\n",
       "      <td>51.300000</td>\n",
       "      <td>0.408000</td>\n",
       "      <td>14.600000</td>\n",
       "      <td>0.601429</td>\n",
       "      <td>14.142857</td>\n",
       "    </tr>\n",
       "    <tr>\n",
       "      <th>2</th>\n",
       "      <td>1</td>\n",
       "      <td>23.200000</td>\n",
       "      <td>35.733333</td>\n",
       "      <td>0.340000</td>\n",
       "      <td>35.0</td>\n",
       "      <td>32.200000</td>\n",
       "      <td>38.600000</td>\n",
       "      <td>36.0</td>\n",
       "      <td>14.466667</td>\n",
       "      <td>102.133333</td>\n",
       "      <td>97.00</td>\n",
       "      <td>46.774194</td>\n",
       "      <td>0.453226</td>\n",
       "      <td>15.354839</td>\n",
       "      <td>0.277333</td>\n",
       "      <td>8.133333</td>\n",
       "    </tr>\n",
       "    <tr>\n",
       "      <th>3</th>\n",
       "      <td>0</td>\n",
       "      <td>20.375000</td>\n",
       "      <td>44.875000</td>\n",
       "      <td>0.446250</td>\n",
       "      <td>29.0</td>\n",
       "      <td>38.500000</td>\n",
       "      <td>48.875000</td>\n",
       "      <td>26.0</td>\n",
       "      <td>20.250000</td>\n",
       "      <td>115.125000</td>\n",
       "      <td>136.25</td>\n",
       "      <td>70.250000</td>\n",
       "      <td>0.337500</td>\n",
       "      <td>17.000000</td>\n",
       "      <td>0.103750</td>\n",
       "      <td>13.375000</td>\n",
       "    </tr>\n",
       "    <tr>\n",
       "      <th>4</th>\n",
       "      <td>0</td>\n",
       "      <td>14.000000</td>\n",
       "      <td>22.500000</td>\n",
       "      <td>0.397500</td>\n",
       "      <td>26.0</td>\n",
       "      <td>16.250000</td>\n",
       "      <td>27.750000</td>\n",
       "      <td>32.0</td>\n",
       "      <td>6.250000</td>\n",
       "      <td>60.500000</td>\n",
       "      <td>203.50</td>\n",
       "      <td>61.500000</td>\n",
       "      <td>0.430000</td>\n",
       "      <td>17.000000</td>\n",
       "      <td>0.000000</td>\n",
       "      <td>4.750000</td>\n",
       "    </tr>\n",
       "  </tbody>\n",
       "</table>\n",
       "</div>"
      ],
      "text/plain": [
       "   Winner  R_avg_opp_HEAD_landed  R_avg_opp_SIG_STR_landed  \\\n",
       "0       1              17.300000                 32.200000   \n",
       "1       1              12.428571                 44.714286   \n",
       "2       1              23.200000                 35.733333   \n",
       "3       0              20.375000                 44.875000   \n",
       "4       0              14.000000                 22.500000   \n",
       "\n",
       "   R_avg_opp_SIG_STR_pct  R_age  R_avg_opp_DISTANCE_landed  \\\n",
       "0               0.336000   32.0                  26.800000   \n",
       "1               0.437143   31.0                  32.571429   \n",
       "2               0.340000   35.0                  32.200000   \n",
       "3               0.446250   29.0                  38.500000   \n",
       "4               0.397500   26.0                  16.250000   \n",
       "\n",
       "   R_avg_opp_TOTAL_STR_landed  B_age  R_avg_opp_BODY_att  \\\n",
       "0                   43.300000   31.0           13.300000   \n",
       "1                   82.285714   32.0           24.571429   \n",
       "2                   38.600000   36.0           14.466667   \n",
       "3                   48.875000   26.0           20.250000   \n",
       "4                   27.750000   32.0            6.250000   \n",
       "\n",
       "   R_avg_opp_TOTAL_STR_att  B_avg_SIG_STR_att  B_avg_SIG_STR_landed  \\\n",
       "0               110.500000              65.40             22.600000   \n",
       "1               158.142857             138.90             51.300000   \n",
       "2               102.133333              97.00             46.774194   \n",
       "3               115.125000             136.25             70.250000   \n",
       "4                60.500000             203.50             61.500000   \n",
       "\n",
       "   B_avg_opp_SIG_STR_pct  B_avg_BODY_att  R_avg_TD_pct  R_avg_opp_BODY_landed  \n",
       "0               0.236000        9.200000      0.458000               8.800000  \n",
       "1               0.408000       14.600000      0.601429              14.142857  \n",
       "2               0.453226       15.354839      0.277333               8.133333  \n",
       "3               0.337500       17.000000      0.103750              13.375000  \n",
       "4               0.430000       17.000000      0.000000               4.750000  "
      ]
     },
     "execution_count": 129,
     "metadata": {},
     "output_type": "execute_result"
    }
   ],
   "source": [
    "data_util_relevante = data_util.loc[:,uteis]\n",
    "data_util_relevante.head()"
   ]
  },
  {
   "cell_type": "markdown",
   "metadata": {},
   "source": [
    "___\n",
    "# Teste 2\n",
    "____"
   ]
  },
  {
   "cell_type": "code",
   "execution_count": 130,
   "metadata": {},
   "outputs": [],
   "source": [
    "x = data_util_relevante.drop('Winner', axis=1)\n",
    "y = data_util_relevante['Winner']"
   ]
  },
  {
   "cell_type": "markdown",
   "metadata": {},
   "source": [
    "\n",
    "## Random Forest -2"
   ]
  },
  {
   "cell_type": "markdown",
   "metadata": {},
   "source": [
    "### Separando os dados em testes e treinamento"
   ]
  },
  {
   "cell_type": "code",
   "execution_count": 131,
   "metadata": {},
   "outputs": [],
   "source": [
    "X_train_random2, X_test_random2, y_train_random2, y_test_random2 = train_test_split(x, y, test_size=0.25)"
   ]
  },
  {
   "cell_type": "code",
   "execution_count": 132,
   "metadata": {},
   "outputs": [
    {
     "data": {
      "text/plain": [
       "RandomForestClassifier(bootstrap=True, class_weight=None, criterion='gini',\n",
       "            max_depth=None, max_features='auto', max_leaf_nodes=None,\n",
       "            min_impurity_decrease=0.0, min_impurity_split=None,\n",
       "            min_samples_leaf=1, min_samples_split=2,\n",
       "            min_weight_fraction_leaf=0.0, n_estimators=10000, n_jobs=None,\n",
       "            oob_score=False, random_state=None, verbose=0,\n",
       "            warm_start=False)"
      ]
     },
     "execution_count": 132,
     "metadata": {},
     "output_type": "execute_result"
    }
   ],
   "source": [
    "model_random2 = RandomForestClassifier(n_estimators=10000)\n",
    "\n",
    "model_random2.fit(X_train_random2, y_train_random2)"
   ]
  },
  {
   "cell_type": "code",
   "execution_count": 134,
   "metadata": {
    "scrolled": true
   },
   "outputs": [
    {
     "data": {
      "text/plain": [
       "array([0.06878305, 0.07114077, 0.07428007, 0.06097287, 0.06990811,\n",
       "       0.06724793, 0.05576256, 0.06353908, 0.06665142, 0.0738484 ,\n",
       "       0.06944276, 0.06902001, 0.06707201, 0.06235789, 0.05997307])"
      ]
     },
     "execution_count": 134,
     "metadata": {},
     "output_type": "execute_result"
    }
   ],
   "source": [
    "model_random2.feature_importances_"
   ]
  },
  {
   "cell_type": "code",
   "execution_count": 135,
   "metadata": {},
   "outputs": [],
   "source": [
    "y_pred_random2 = model_random2.predict(X_test_random2)"
   ]
  },
  {
   "cell_type": "code",
   "execution_count": 136,
   "metadata": {},
   "outputs": [
    {
     "name": "stdout",
     "output_type": "stream",
     "text": [
      "0.6368159203980099\n"
     ]
    }
   ],
   "source": [
    "print(accuracy_score(y_test_random2, y_pred_random2))"
   ]
  },
  {
   "cell_type": "code",
   "execution_count": 138,
   "metadata": {
    "scrolled": false
   },
   "outputs": [
    {
     "data": {
      "text/plain": [
       "1    0.628109\n",
       "0    0.360697\n",
       "2    0.011194\n",
       "Name: Winner, dtype: float64"
      ]
     },
     "execution_count": 138,
     "metadata": {},
     "output_type": "execute_result"
    }
   ],
   "source": [
    "y_test_random2.value_counts(True)"
   ]
  },
  {
   "cell_type": "code",
   "execution_count": 139,
   "metadata": {},
   "outputs": [
    {
     "data": {
      "text/plain": [
       "1    2023\n",
       "0    1141\n",
       "2      51\n",
       "Name: Winner, dtype: int64"
      ]
     },
     "execution_count": 139,
     "metadata": {},
     "output_type": "execute_result"
    }
   ],
   "source": [
    "data_util_relevante.Winner.value_counts()"
   ]
  },
  {
   "cell_type": "markdown",
   "metadata": {},
   "source": [
    "___\n",
    "## Montando a Regressão Logística -2\n",
    "\n"
   ]
  },
  {
   "cell_type": "markdown",
   "metadata": {},
   "source": [
    "### Separando os dados em testes e treinamento"
   ]
  },
  {
   "cell_type": "code",
   "execution_count": 140,
   "metadata": {},
   "outputs": [],
   "source": [
    "X_train_log2, X_test_log2, y_train_log2, y_test_log2 = train_test_split(X, Y, test_size=0.25)"
   ]
  },
  {
   "cell_type": "code",
   "execution_count": 141,
   "metadata": {},
   "outputs": [
    {
     "name": "stderr",
     "output_type": "stream",
     "text": [
      "C:\\Users\\Maulem\\Spyder\\lib\\site-packages\\sklearn\\linear_model\\logistic.py:758: ConvergenceWarning: lbfgs failed to converge. Increase the number of iterations.\n",
      "  \"of iterations.\", ConvergenceWarning)\n"
     ]
    },
    {
     "data": {
      "text/plain": [
       "LogisticRegression(C=1.0, class_weight=None, dual=False, fit_intercept=True,\n",
       "          intercept_scaling=1, max_iter=500000, multi_class='auto',\n",
       "          n_jobs=None, penalty='l2', random_state=None, solver='lbfgs',\n",
       "          tol=0.0001, verbose=0, warm_start=False)"
      ]
     },
     "execution_count": 141,
     "metadata": {},
     "output_type": "execute_result"
    }
   ],
   "source": [
    "model = LogisticRegression(max_iter=500000,solver='lbfgs', multi_class='auto')\n",
    "\n",
    "model.fit(X_train_log2, y_train_log2)"
   ]
  },
  {
   "cell_type": "code",
   "execution_count": 142,
   "metadata": {},
   "outputs": [],
   "source": [
    "y_pred_log2 = model.predict(X_test_log2)"
   ]
  },
  {
   "cell_type": "code",
   "execution_count": 143,
   "metadata": {},
   "outputs": [
    {
     "name": "stdout",
     "output_type": "stream",
     "text": [
      "0.6256218905472637\n"
     ]
    }
   ],
   "source": [
    "print(accuracy_score(y_test_log2, y_pred_log2))"
   ]
  },
  {
   "cell_type": "code",
   "execution_count": 145,
   "metadata": {},
   "outputs": [
    {
     "data": {
      "text/plain": [
       "1.0    0.599502\n",
       "0.0    0.383085\n",
       "2.0    0.017413\n",
       "Name: Winner, dtype: float64"
      ]
     },
     "execution_count": 145,
     "metadata": {},
     "output_type": "execute_result"
    }
   ],
   "source": [
    "y_test_log2.value_counts(True)"
   ]
  },
  {
   "cell_type": "code",
   "execution_count": 146,
   "metadata": {},
   "outputs": [
    {
     "data": {
      "text/plain": [
       "1    2023\n",
       "0    1141\n",
       "2      51\n",
       "Name: Winner, dtype: int64"
      ]
     },
     "execution_count": 146,
     "metadata": {},
     "output_type": "execute_result"
    }
   ],
   "source": [
    "data_util_relevante.Winner.value_counts()"
   ]
  },
  {
   "cell_type": "code",
   "execution_count": 147,
   "metadata": {
    "scrolled": false
   },
   "outputs": [],
   "source": [
    "def preparo(X,Y):\n",
    "    X_cp = sm.add_constant(X)\n",
    "    model = sm.OLS(Y,X_cp,missing='drop')\n",
    "    results = model.fit()\n",
    "    return results"
   ]
  },
  {
   "cell_type": "code",
   "execution_count": 148,
   "metadata": {},
   "outputs": [
    {
     "name": "stderr",
     "output_type": "stream",
     "text": [
      "C:\\Users\\Maulem\\Spyder\\lib\\site-packages\\numpy\\core\\fromnumeric.py:2389: FutureWarning: Method .ptp is deprecated and will be removed in a future version. Use numpy.ptp instead.\n",
      "  return ptp(axis=axis, out=out, **kwargs)\n"
     ]
    },
    {
     "data": {
      "text/html": [
       "<table class=\"simpletable\">\n",
       "<caption>OLS Regression Results</caption>\n",
       "<tr>\n",
       "  <th>Dep. Variable:</th>         <td>Winner</td>      <th>  R-squared:         </th> <td>   0.059</td>\n",
       "</tr>\n",
       "<tr>\n",
       "  <th>Model:</th>                   <td>OLS</td>       <th>  Adj. R-squared:    </th> <td>   0.055</td>\n",
       "</tr>\n",
       "<tr>\n",
       "  <th>Method:</th>             <td>Least Squares</td>  <th>  F-statistic:       </th> <td>   13.41</td>\n",
       "</tr>\n",
       "<tr>\n",
       "  <th>Date:</th>             <td>Tue, 19 Nov 2019</td> <th>  Prob (F-statistic):</th> <td>1.80e-33</td>\n",
       "</tr>\n",
       "<tr>\n",
       "  <th>Time:</th>                 <td>23:22:43</td>     <th>  Log-Likelihood:    </th> <td> -2272.4</td>\n",
       "</tr>\n",
       "<tr>\n",
       "  <th>No. Observations:</th>      <td>  3215</td>      <th>  AIC:               </th> <td>   4577.</td>\n",
       "</tr>\n",
       "<tr>\n",
       "  <th>Df Residuals:</th>          <td>  3199</td>      <th>  BIC:               </th> <td>   4674.</td>\n",
       "</tr>\n",
       "<tr>\n",
       "  <th>Df Model:</th>              <td>    15</td>      <th>                     </th>     <td> </td>   \n",
       "</tr>\n",
       "<tr>\n",
       "  <th>Covariance Type:</th>      <td>nonrobust</td>    <th>                     </th>     <td> </td>   \n",
       "</tr>\n",
       "</table>\n",
       "<table class=\"simpletable\">\n",
       "<tr>\n",
       "               <td></td>                 <th>coef</th>     <th>std err</th>      <th>t</th>      <th>P>|t|</th>  <th>[0.025</th>    <th>0.975]</th>  \n",
       "</tr>\n",
       "<tr>\n",
       "  <th>const</th>                      <td>    0.9397</td> <td>    0.107</td> <td>    8.770</td> <td> 0.000</td> <td>    0.730</td> <td>    1.150</td>\n",
       "</tr>\n",
       "<tr>\n",
       "  <th>R_avg_opp_HEAD_landed</th>      <td>   -0.0015</td> <td>    0.003</td> <td>   -0.493</td> <td> 0.622</td> <td>   -0.007</td> <td>    0.004</td>\n",
       "</tr>\n",
       "<tr>\n",
       "  <th>R_avg_opp_SIG_STR_landed</th>   <td>   -0.0031</td> <td>    0.004</td> <td>   -0.822</td> <td> 0.411</td> <td>   -0.010</td> <td>    0.004</td>\n",
       "</tr>\n",
       "<tr>\n",
       "  <th>R_avg_opp_SIG_STR_pct</th>      <td>   -0.2319</td> <td>    0.113</td> <td>   -2.049</td> <td> 0.040</td> <td>   -0.454</td> <td>   -0.010</td>\n",
       "</tr>\n",
       "<tr>\n",
       "  <th>R_age</th>                      <td>   -0.0168</td> <td>    0.002</td> <td>   -7.737</td> <td> 0.000</td> <td>   -0.021</td> <td>   -0.013</td>\n",
       "</tr>\n",
       "<tr>\n",
       "  <th>R_avg_opp_DISTANCE_landed</th>  <td>    0.0003</td> <td>    0.002</td> <td>    0.119</td> <td> 0.905</td> <td>   -0.004</td> <td>    0.004</td>\n",
       "</tr>\n",
       "<tr>\n",
       "  <th>R_avg_opp_TOTAL_STR_landed</th> <td>    0.0002</td> <td>    0.001</td> <td>    0.163</td> <td> 0.871</td> <td>   -0.002</td> <td>    0.002</td>\n",
       "</tr>\n",
       "<tr>\n",
       "  <th>B_age</th>                      <td>    0.0121</td> <td>    0.002</td> <td>    5.460</td> <td> 0.000</td> <td>    0.008</td> <td>    0.016</td>\n",
       "</tr>\n",
       "<tr>\n",
       "  <th>R_avg_opp_BODY_att</th>         <td>    0.0018</td> <td>    0.006</td> <td>    0.290</td> <td> 0.772</td> <td>   -0.010</td> <td>    0.014</td>\n",
       "</tr>\n",
       "<tr>\n",
       "  <th>R_avg_opp_TOTAL_STR_att</th>    <td>   -0.0002</td> <td>    0.001</td> <td>   -0.293</td> <td> 0.770</td> <td>   -0.002</td> <td>    0.001</td>\n",
       "</tr>\n",
       "<tr>\n",
       "  <th>B_avg_SIG_STR_att</th>          <td>   -0.0007</td> <td>    0.001</td> <td>   -1.405</td> <td> 0.160</td> <td>   -0.002</td> <td>    0.000</td>\n",
       "</tr>\n",
       "<tr>\n",
       "  <th>B_avg_SIG_STR_landed</th>       <td>    0.0005</td> <td>    0.001</td> <td>    0.411</td> <td> 0.681</td> <td>   -0.002</td> <td>    0.003</td>\n",
       "</tr>\n",
       "<tr>\n",
       "  <th>B_avg_opp_SIG_STR_pct</th>      <td>    0.1883</td> <td>    0.078</td> <td>    2.409</td> <td> 0.016</td> <td>    0.035</td> <td>    0.342</td>\n",
       "</tr>\n",
       "<tr>\n",
       "  <th>B_avg_BODY_att</th>             <td>   -0.0032</td> <td>    0.002</td> <td>   -1.726</td> <td> 0.084</td> <td>   -0.007</td> <td>    0.000</td>\n",
       "</tr>\n",
       "<tr>\n",
       "  <th>R_avg_TD_pct</th>               <td>    0.1142</td> <td>    0.041</td> <td>    2.816</td> <td> 0.005</td> <td>    0.035</td> <td>    0.194</td>\n",
       "</tr>\n",
       "<tr>\n",
       "  <th>R_avg_opp_BODY_landed</th>      <td>    0.0027</td> <td>    0.009</td> <td>    0.307</td> <td> 0.759</td> <td>   -0.015</td> <td>    0.020</td>\n",
       "</tr>\n",
       "</table>\n",
       "<table class=\"simpletable\">\n",
       "<tr>\n",
       "  <th>Omnibus:</th>       <td>236.821</td> <th>  Durbin-Watson:     </th> <td>   1.891</td>\n",
       "</tr>\n",
       "<tr>\n",
       "  <th>Prob(Omnibus):</th> <td> 0.000</td>  <th>  Jarque-Bera (JB):  </th> <td>  99.369</td>\n",
       "</tr>\n",
       "<tr>\n",
       "  <th>Skew:</th>          <td>-0.211</td>  <th>  Prob(JB):          </th> <td>2.64e-22</td>\n",
       "</tr>\n",
       "<tr>\n",
       "  <th>Kurtosis:</th>      <td> 2.249</td>  <th>  Cond. No.          </th> <td>2.30e+03</td>\n",
       "</tr>\n",
       "</table><br/><br/>Warnings:<br/>[1] Standard Errors assume that the covariance matrix of the errors is correctly specified.<br/>[2] The condition number is large, 2.3e+03. This might indicate that there are<br/>strong multicollinearity or other numerical problems."
      ],
      "text/plain": [
       "<class 'statsmodels.iolib.summary.Summary'>\n",
       "\"\"\"\n",
       "                            OLS Regression Results                            \n",
       "==============================================================================\n",
       "Dep. Variable:                 Winner   R-squared:                       0.059\n",
       "Model:                            OLS   Adj. R-squared:                  0.055\n",
       "Method:                 Least Squares   F-statistic:                     13.41\n",
       "Date:                Tue, 19 Nov 2019   Prob (F-statistic):           1.80e-33\n",
       "Time:                        23:22:43   Log-Likelihood:                -2272.4\n",
       "No. Observations:                3215   AIC:                             4577.\n",
       "Df Residuals:                    3199   BIC:                             4674.\n",
       "Df Model:                          15                                         \n",
       "Covariance Type:            nonrobust                                         \n",
       "==============================================================================================\n",
       "                                 coef    std err          t      P>|t|      [0.025      0.975]\n",
       "----------------------------------------------------------------------------------------------\n",
       "const                          0.9397      0.107      8.770      0.000       0.730       1.150\n",
       "R_avg_opp_HEAD_landed         -0.0015      0.003     -0.493      0.622      -0.007       0.004\n",
       "R_avg_opp_SIG_STR_landed      -0.0031      0.004     -0.822      0.411      -0.010       0.004\n",
       "R_avg_opp_SIG_STR_pct         -0.2319      0.113     -2.049      0.040      -0.454      -0.010\n",
       "R_age                         -0.0168      0.002     -7.737      0.000      -0.021      -0.013\n",
       "R_avg_opp_DISTANCE_landed      0.0003      0.002      0.119      0.905      -0.004       0.004\n",
       "R_avg_opp_TOTAL_STR_landed     0.0002      0.001      0.163      0.871      -0.002       0.002\n",
       "B_age                          0.0121      0.002      5.460      0.000       0.008       0.016\n",
       "R_avg_opp_BODY_att             0.0018      0.006      0.290      0.772      -0.010       0.014\n",
       "R_avg_opp_TOTAL_STR_att       -0.0002      0.001     -0.293      0.770      -0.002       0.001\n",
       "B_avg_SIG_STR_att             -0.0007      0.001     -1.405      0.160      -0.002       0.000\n",
       "B_avg_SIG_STR_landed           0.0005      0.001      0.411      0.681      -0.002       0.003\n",
       "B_avg_opp_SIG_STR_pct          0.1883      0.078      2.409      0.016       0.035       0.342\n",
       "B_avg_BODY_att                -0.0032      0.002     -1.726      0.084      -0.007       0.000\n",
       "R_avg_TD_pct                   0.1142      0.041      2.816      0.005       0.035       0.194\n",
       "R_avg_opp_BODY_landed          0.0027      0.009      0.307      0.759      -0.015       0.020\n",
       "==============================================================================\n",
       "Omnibus:                      236.821   Durbin-Watson:                   1.891\n",
       "Prob(Omnibus):                  0.000   Jarque-Bera (JB):               99.369\n",
       "Skew:                          -0.211   Prob(JB):                     2.64e-22\n",
       "Kurtosis:                       2.249   Cond. No.                     2.30e+03\n",
       "==============================================================================\n",
       "\n",
       "Warnings:\n",
       "[1] Standard Errors assume that the covariance matrix of the errors is correctly specified.\n",
       "[2] The condition number is large, 2.3e+03. This might indicate that there are\n",
       "strong multicollinearity or other numerical problems.\n",
       "\"\"\""
      ]
     },
     "execution_count": 148,
     "metadata": {},
     "output_type": "execute_result"
    }
   ],
   "source": [
    "result = preparo(x,y)\n",
    "result.summary()"
   ]
  },
  {
   "cell_type": "markdown",
   "metadata": {},
   "source": [
    "___\n",
    "## Conclusão Teste 2"
   ]
  },
  {
   "cell_type": "markdown",
   "metadata": {},
   "source": [
    "Após a retirada dos dados considerados inúteis pelo primeiro modelo a acurácia de ambos modelos subiu um pouco, antes com uma média de 64% e agora com uma de 68%, ainda é considerada baixa levando em consideração a maioria das vitórias pelo lado vermelho (62.12112%). Se o modelo só tivesse como resultado vermelho a quantidade de acertos seria quase a mesma.\n",
    "\n",
    "Para melhorar a acurâcia pode-se diminuir ainda mais o número de variáveis que o modelo usa ou até separar os dados por classe de Peso ou feminino e masculino."
   ]
  },
  {
   "cell_type": "markdown",
   "metadata": {},
   "source": [
    "## Teste 3"
   ]
  },
  {
   "cell_type": "markdown",
   "metadata": {},
   "source": [
    "   ___\n",
    "## Referências"
   ]
  },
  {
   "cell_type": "markdown",
   "metadata": {},
   "source": [
    "[Como usar a biblioteca Scikit-lear](https://scikit-learn.org/stable/modules/linear_model.html#logistic-regression)\n",
    "\n",
    "[Como funciona o Random Forest](https://towardsdatascience.com/understanding-random-forest-58381e0602d2)\n",
    "\n",
    "[Referencia do Random Forest Classifier](https://scikit-learn.org/stable/modules/generated/sklearn.ensemble.RandomForestClassifier.html)\n",
    "\n",
    "[Como funciona regressão linear](https://www.saedsayad.com/logistic_regression.htm)\n",
    "\n",
    "[Como usar a Regressão Linear](https://scikit-learn.org/stable/modules/generated/sklearn.linear_model.LinearRegression.html)\n",
    "\n"
   ]
  },
  {
   "cell_type": "code",
   "execution_count": null,
   "metadata": {},
   "outputs": [],
   "source": [
    "#criando um novo dataframe com apenas os lutadores sem repetição\n",
    "def fighter_clean(data):\n",
    "    newdata = pd.DataFrame()\n",
    "    namelist = []\n",
    "\n",
    "    for n in range(len(data.Fighter)):\n",
    "        if data.loc[n,:][\"Fighter\"] not in namelist:\n",
    "            namelist.append(data.loc[n,:][\"Fighter\"])\n",
    "            newdata = pd.concat([newdata,data.loc[n,:]], axis=1, join='outer')\n",
    "\n",
    "    newdata = newdata.transpose()\n",
    "    return newdata\n"
   ]
  },
  {
   "cell_type": "code",
   "execution_count": null,
   "metadata": {
    "scrolled": true
   },
   "outputs": [],
   "source": [
    "#criando um novo dataframe\n",
    "lista_locB = [\"B_fighter\", \"weight_class\",\"B_Height_cms\",\"B_Reach_cms\",\"B_Weight_lbs\",\"B_age\"]\n",
    "lista_locR = [\"R_fighter\", \"weight_class\",\"R_Height_cms\",\"R_Reach_cms\",\"R_Weight_lbs\",\"R_age\"]\n",
    "data_red = data.loc[: , lista_locR]\n",
    "data_blue = data.loc[: , lista_locB]\n",
    "\n",
    "data_blue.columns = [\"Fighter\",\"Weight_class\",\"Height_cms\",\"Reach_cms\",\"Weight_lbs\",\"Age\"]\n",
    "data_red.columns = [\"Fighter\",\"Weight_class\",\"Height_cms\",\"Reach_cms\",\"Weight_lbs\",\"Age\"]\n",
    "\n",
    "data_blue = fighter_clean(data_blue)\n",
    "data_red = fighter_clean(data_red)\n",
    "\n",
    "dataRB = pd.concat([data_red,data_blue], axis=0, join='outer')\n",
    "\n",
    "dataRB.reset_index(inplace=True)\n",
    "dataRB = fighter_clean(dataRB).loc[: , [\"Age\",\"Fighter\",\"Height_cms\",\"Reach_cms\",\"Weight_class\",\"Weight_lbs\"]]\n",
    "\n",
    "dataRB = dataRB.set_index(\"Fighter\")\n",
    "\n",
    "dataRB"
   ]
  },
  {
   "cell_type": "code",
   "execution_count": null,
   "metadata": {},
   "outputs": [],
   "source": [
    "dataRB.loc[\"Henry Cejudo\" , :]"
   ]
  },
  {
   "cell_type": "code",
   "execution_count": null,
   "metadata": {
    "scrolled": true
   },
   "outputs": [],
   "source": []
  },
  {
   "cell_type": "code",
   "execution_count": null,
   "metadata": {
    "scrolled": true
   },
   "outputs": [],
   "source": []
  },
  {
   "cell_type": "code",
   "execution_count": null,
   "metadata": {
    "scrolled": true
   },
   "outputs": [],
   "source": []
  },
  {
   "cell_type": "code",
   "execution_count": null,
   "metadata": {},
   "outputs": [],
   "source": []
  }
 ],
 "metadata": {
  "kernelspec": {
   "display_name": "Python 3",
   "language": "python",
   "name": "python3"
  },
  "language_info": {
   "codemirror_mode": {
    "name": "ipython",
    "version": 3
   },
   "file_extension": ".py",
   "mimetype": "text/x-python",
   "name": "python",
   "nbconvert_exporter": "python",
   "pygments_lexer": "ipython3",
   "version": "3.7.3"
  }
 },
 "nbformat": 4,
 "nbformat_minor": 4
}
