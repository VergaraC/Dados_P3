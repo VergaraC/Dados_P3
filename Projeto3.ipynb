{
 "cells": [
  {
   "cell_type": "markdown",
   "metadata": {},
   "source": [
    "# Projeto 3 - Ciência dos Dados"
   ]
  },
  {
   "cell_type": "markdown",
   "metadata": {},
   "source": [
    "#  Projeto UFC"
   ]
  },
  {
   "cell_type": "markdown",
   "metadata": {},
   "source": [
    "Nome: Victor Vergara Arcoverde de Albuquerque Cavalcanti\n",
    "\n",
    "Nome: Edgard Ortiz Neto\n",
    "\n",
    "Nome: Gabriel Yamashita\n",
    "\n",
    "Nome: Henrique Mualem Marti\n",
    "\n"
   ]
  },
  {
   "cell_type": "markdown",
   "metadata": {},
   "source": [
    "  ___\n",
    "## Objetivo:"
   ]
  },
  {
   "cell_type": "markdown",
   "metadata": {},
   "source": [
    "### O objetivo desse projeto é fazer um machine learning para poder prever qual lutador ganhará uma luta do UFC baseado no seu histórico. Para isso serão usados os dados de todas as lutas do UFC (mais de 5 mil) a fim de descobrir quais os fatores dos lutadores que impactam mais no resultado das lutas. \n",
    "### Assim esse projeto poderia ser usado para apostadores nas lutas de UFC e os próprios atlétas que participam nessas lutas, pois seria possível comparar os seus dados e os de seus oponentes, assim sabendo como está em relação a eles e quais fatores seria melhor treinar ou manter a fim de manter uma vantage sobre eles."
   ]
  },
  {
   "cell_type": "markdown",
   "metadata": {},
   "source": [
    "[Database utilizado](https://www.kaggle.com/rajeevw/ufcdata#data.csv)"
   ]
  },
  {
   "cell_type": "markdown",
   "metadata": {},
   "source": [
    "____\n",
    "## Método escolhido:\n",
    "\n",
    "\n"
   ]
  },
  {
   "cell_type": "markdown",
   "metadata": {},
   "source": [
    "    "
   ]
  },
  {
   "cell_type": "markdown",
   "metadata": {},
   "source": [
    "\n",
    "\n",
    "### Random Forest:\n",
    "#### Esse método usa várias árvores de decisão para encontrar o que melhor se adequa, a que tem menos erros, para os nossos dados e o resultado que queremos, nesse caso qual é o vencedor.\n",
    "\n",
    "![randomforest.png](randomforest.png)\n"
   ]
  },
  {
   "cell_type": "markdown",
   "metadata": {},
   "source": [
    "\n",
    "### Regressão Logística:\n",
    "#### Esse método usa a função abaixo que vai sempre tender a 0 ou a 1, assim sendo um classificador binário. Ele atribui um coeficiente(β) para cada fator levado em consideração, assim tendo uma ordem de impacto dos fatores no resultado final.\n",
    "\n",
    "$$Prob(y = 1 | X = x) = \\frac{1}{1 + e^{-\\left(\\beta_0 + \\beta_1 x_1 + \\beta_2 x_2\\right)}}$$"
   ]
  },
  {
   "cell_type": "markdown",
   "metadata": {},
   "source": [
    " ___\n",
    "## Preparando o ambiente no jupyter:"
   ]
  },
  {
   "cell_type": "markdown",
   "metadata": {},
   "source": [
    "\n",
    "### Imports:"
   ]
  },
  {
   "cell_type": "code",
   "execution_count": null,
   "metadata": {
    "jupyter": {
     "outputs_hidden": true
    }
   },
   "outputs": [],
   "source": [
    "import math\n",
    "import os.path\n",
    "import pandas as pd\n",
    "import numpy as np\n",
    "import matplotlib\n",
    "import matplotlib.pyplot as plt\n",
    "import json\n",
    "import random\n",
    "import statsmodels.api as sm\n",
    "import seaborn as sns\n",
    "\n",
    "from sklearn.feature_extraction.text import CountVectorizer\n",
    "from sklearn.metrics import accuracy_score\n",
    "from sklearn.naive_bayes import MultinomialNB\n",
    "\n",
    "from sklearn.pipeline import Pipeline\n",
    "from sklearn.ensemble import RandomForestClassifier\n",
    "from sklearn.linear_model import LogisticRegression\n",
    "from sklearn.model_selection import train_test_split"
   ]
  },
  {
   "cell_type": "markdown",
   "metadata": {},
   "source": [
    "\n",
    "### Trabalhando com os Excels:"
   ]
  },
  {
   "cell_type": "code",
   "execution_count": null,
   "metadata": {},
   "outputs": [],
   "source": [
    "data = pd.read_excel(\"data.xlsx\")\n",
    "data.head(2)"
   ]
  },
  {
   "cell_type": "code",
   "execution_count": null,
   "metadata": {},
   "outputs": [],
   "source": [
    "data.weight_class = data.weight_class.astype('category')\n",
    "data.Winner = data.Winner.astype('category')"
   ]
  },
  {
   "cell_type": "markdown",
   "metadata": {},
   "source": [
    "### Análise Exploratória"
   ]
  },
  {
   "cell_type": "code",
   "execution_count": null,
   "metadata": {
    "scrolled": true
   },
   "outputs": [],
   "source": [
    "data.Winner.value_counts()"
   ]
  },
  {
   "cell_type": "code",
   "execution_count": null,
   "metadata": {},
   "outputs": [],
   "source": [
    "data.Winner.value_counts().plot(kind='pie', colors=['red','blue','pink'], autopct=\"%0.2f\",legend=False);"
   ]
  },
  {
   "cell_type": "code",
   "execution_count": null,
   "metadata": {},
   "outputs": [],
   "source": [
    "data['title_bout'].value_counts().plot(kind='pie', colors=['green','gold'],autopct=\"%0.2f\",legend=False);"
   ]
  },
  {
   "cell_type": "code",
   "execution_count": null,
   "metadata": {},
   "outputs": [],
   "source": [
    "data['weight_class'].value_counts().plot(kind='pie',autopct=\"%0.2f\",legend=False);"
   ]
  },
  {
   "cell_type": "code",
   "execution_count": null,
   "metadata": {},
   "outputs": [],
   "source": [
    "data_mulher = data.loc[(data.weight_class==\"Women's Bantamweight\")|\n",
    "                       (data.weight_class==\"Women's Featherweight\")|\n",
    "                       (data.weight_class==\"Women's Flyweight\")|\n",
    "                       (data.weight_class==\"Women's Strawweight\"),:]\n",
    "data_mulher.weight_class.value_counts().plot(kind='pie',autopct=\"%0.2f\",legend=False);"
   ]
  },
  {
   "cell_type": "code",
   "execution_count": null,
   "metadata": {},
   "outputs": [],
   "source": [
    "data_homem = data.loc[(data.weight_class==\"Flyweight\")|\n",
    "                       (data.weight_class==\"Bantamweight\")|\n",
    "                       (data.weight_class==\"Featherweight\")|\n",
    "                       (data.weight_class==\"Lightweight\")|\n",
    "                       (data.weight_class==\"Welterweight\")|\n",
    "                       (data.weight_class==\"Middleweight\")|\n",
    "                       (data.weight_class==\"Light Heavyweight\")|\n",
    "                       (data.weight_class==\"Heavyweight\"),:]\n",
    "data_homem.weight_class.value_counts().plot(kind='pie',autopct=\"%0.2f\",legend=False);"
   ]
  },
  {
   "cell_type": "code",
   "execution_count": null,
   "metadata": {},
   "outputs": [],
   "source": [
    "#Escolhendo apenas as lutas entre lutadores da classe 'Heavyweight', pois as característica\n",
    "#data_heavy = data.loc[(data.weight_class=='Heavyweight'),:]\n",
    "bool_to_number = {False: 0, True: 1}\n",
    "string_to_number = {'Blue': 0, 'Red': 1, 'Draw': 2}\n",
    "data['title_bout'] = data['title_bout'].map(bool_to_number)\n",
    "data['Winner'] = data['Winner'].map(string_to_number)\n",
    "data.head(2)"
   ]
  },
  {
   "cell_type": "markdown",
   "metadata": {},
   "source": [
    "#### Blue = 0\n",
    "#### Red = 1"
   ]
  },
  {
   "cell_type": "code",
   "execution_count": null,
   "metadata": {},
   "outputs": [],
   "source": [
    "data_util = data.drop(['Referee','date','location'], axis=1)\n",
    "#dados que não se relacionam com os lutadores ou seus resultado"
   ]
  },
  {
   "cell_type": "code",
   "execution_count": null,
   "metadata": {
    "scrolled": true
   },
   "outputs": [],
   "source": [
    "data_util.head(2)"
   ]
  },
  {
   "cell_type": "code",
   "execution_count": null,
   "metadata": {},
   "outputs": [],
   "source": [
    "data_util.dropna(inplace=True)\n",
    "data_util.head(2)"
   ]
  },
  {
   "cell_type": "markdown",
   "metadata": {},
   "source": [
    "\n",
    "### Tirando os dados categóricos:"
   ]
  },
  {
   "cell_type": "code",
   "execution_count": null,
   "metadata": {},
   "outputs": [],
   "source": [
    "categoricas = [\n",
    "    'R_fighter', \n",
    "    'B_fighter', \n",
    "    'weight_class', \n",
    "    'R_Stance', \n",
    "    'B_Stance', \n",
    "]\n",
    "\n",
    "data_cat = data_util[categoricas].astype('category')\n",
    "data_num = data_util.drop(categoricas, axis=1).astype('float')"
   ]
  },
  {
   "cell_type": "markdown",
   "metadata": {},
   "source": [
    "___\n",
    "# Teste 1 - Random Forest\n",
    "___"
   ]
  },
  {
   "cell_type": "code",
   "execution_count": null,
   "metadata": {},
   "outputs": [],
   "source": [
    "X = data_num.drop('Winner', axis=1)\n",
    "y = data_num['Winner']"
   ]
  },
  {
   "cell_type": "markdown",
   "metadata": {},
   "source": [
    "## Separando os dados em testes e treinamento"
   ]
  },
  {
   "cell_type": "code",
   "execution_count": null,
   "metadata": {},
   "outputs": [],
   "source": [
    "X_train_random, X_test_random, y_train_random, y_test_random = train_test_split(X, y, test_size=0.25)"
   ]
  },
  {
   "cell_type": "markdown",
   "metadata": {},
   "source": [
    "\n",
    "## Montando modelo Random Forest"
   ]
  },
  {
   "cell_type": "code",
   "execution_count": null,
   "metadata": {},
   "outputs": [],
   "source": [
    "model_random = RandomForestClassifier(n_estimators=10000)\n",
    "\n",
    "model_random.fit(X_train_random, y_train_random)"
   ]
  },
  {
   "cell_type": "markdown",
   "metadata": {},
   "source": [
    "\n",
    "## Verificando a performance\n"
   ]
  },
  {
   "cell_type": "code",
   "execution_count": null,
   "metadata": {},
   "outputs": [],
   "source": [
    "X_train_random.columns"
   ]
  },
  {
   "cell_type": "code",
   "execution_count": null,
   "metadata": {
    "scrolled": true
   },
   "outputs": [],
   "source": [
    "model_random.feature_importances_"
   ]
  },
  {
   "cell_type": "code",
   "execution_count": null,
   "metadata": {},
   "outputs": [],
   "source": [
    "y_pred_random = model_random.predict(X_test_random)"
   ]
  },
  {
   "cell_type": "code",
   "execution_count": null,
   "metadata": {},
   "outputs": [],
   "source": [
    "print(accuracy_score(y_test_random, y_pred_random))"
   ]
  },
  {
   "cell_type": "code",
   "execution_count": null,
   "metadata": {},
   "outputs": [],
   "source": [
    "y_pred_random"
   ]
  },
  {
   "cell_type": "code",
   "execution_count": null,
   "metadata": {
    "scrolled": false
   },
   "outputs": [],
   "source": [
    "y_test_random.value_counts(True)"
   ]
  },
  {
   "cell_type": "code",
   "execution_count": null,
   "metadata": {},
   "outputs": [],
   "source": [
    "data_num.Winner.value_counts()"
   ]
  },
  {
   "cell_type": "markdown",
   "metadata": {},
   "source": [
    "   ___\n",
    "## Conclusão do Modelo inicial Random Forest:"
   ]
  },
  {
   "cell_type": "markdown",
   "metadata": {},
   "source": [
    "Tendo um acurácia de 0.6667 não é um bom resultado, visto que o modelo praticamente sempre tem como resultado o vermelho como vencedor, e como a probabilidade do lutador vermelho ganhar é de 0.6212112 ele praticamente só acerta os que o vencedor é o vermelho e erra os que o azul é o vencedor.\n",
    "\n",
    "Assim é possível concluir que é necessário desconsiderar algumas variáveis para melhorar a acurácia."
   ]
  },
  {
   "cell_type": "markdown",
   "metadata": {},
   "source": [
    "   ___\n",
    "## Criando um dataframe dos fatores mais impactantes no resultado segundo o teste acima:"
   ]
  },
  {
   "cell_type": "code",
   "execution_count": null,
   "metadata": {},
   "outputs": [],
   "source": [
    "#Fatores que tem o maior peso na decisão da vitória\n",
    "j=1\n",
    "lista_j=list()\n",
    "for i, f in sorted(list(zip(model_random.feature_importances_, X_train_random.columns)), reverse=True):\n",
    "    a=str(j)+'°'\n",
    "    lista_j.append(a)\n",
    "    j+=1"
   ]
  },
  {
   "cell_type": "code",
   "execution_count": null,
   "metadata": {},
   "outputs": [],
   "source": [
    "data={'Fator':X_train_random.columns ,'Correlação':model_random.feature_importances_,}\n",
    "Fator_por_corr=pd.DataFrame(data)\n",
    "Fator_por_corr=Fator_por_corr.sort_values(by='Correlação', ascending=False)\n",
    "Fator_por_corr['Grau de Importância']=lista_j\n",
    "Fator_por_corr = Fator_por_corr.set_index('Grau de Importância')\n",
    "Fator_por_corr.head(2)"
   ]
  },
  {
   "cell_type": "markdown",
   "metadata": {},
   "source": [
    "   ___\n",
    "## Escolhendo quais dados devem ser usados nos modelos de predição:"
   ]
  },
  {
   "cell_type": "code",
   "execution_count": null,
   "metadata": {},
   "outputs": [],
   "source": [
    "def relevancia(df,coluna_nome,coluna_correlacao,acuracia):\n",
    "    inuteis = []\n",
    "    uteis = ['Winner']\n",
    "    for index,row in df.iterrows():\n",
    "        if row[coluna_correlacao] >= -acuracia and row[coluna_correlacao] <= acuracia:\n",
    "            inuteis.append(row[coluna_nome])\n",
    "        else:\n",
    "            uteis.append(row[coluna_nome])\n",
    "    return uteis"
   ]
  },
  {
   "cell_type": "code",
   "execution_count": null,
   "metadata": {},
   "outputs": [],
   "source": [
    "uteis = relevancia(Fator_por_corr,'Fator','Correlação',0.01)"
   ]
  },
  {
   "cell_type": "code",
   "execution_count": null,
   "metadata": {
    "scrolled": true
   },
   "outputs": [],
   "source": [
    "data_util_relevante = data_util.loc[:,uteis]\n",
    "data_util_relevante.head()"
   ]
  },
  {
   "cell_type": "markdown",
   "metadata": {},
   "source": [
    "___\n",
    "# Teste 2- Regressão Logística\n",
    "____"
   ]
  },
  {
   "cell_type": "markdown",
   "metadata": {},
   "source": [
    "\n",
    "## Montando a Regressão Logística\n"
   ]
  },
  {
   "cell_type": "code",
   "execution_count": null,
   "metadata": {
    "scrolled": false
   },
   "outputs": [],
   "source": [
    "def preparo(X,Y):\n",
    "    X_cp = sm.add_constant(X)\n",
    "    model = sm.OLS(Y,X_cp,missing='drop')\n",
    "    results = model.fit()\n",
    "    return results"
   ]
  },
  {
   "cell_type": "code",
   "execution_count": null,
   "metadata": {},
   "outputs": [],
   "source": [
    "Y_log = data_util_relevante[\"Winner\"]\n",
    "data_sem_Winner=data_util_relevante.drop('Winner',axis=1) \n",
    "X_log=data_sem_Winner\n",
    "#np.asarray(X)"
   ]
  },
  {
   "cell_type": "code",
   "execution_count": null,
   "metadata": {},
   "outputs": [],
   "source": [
    "X_train_log, X_test_log, y_train_log, y_test_log = train_test_split(X_log, Y_log, test_size=0.25)"
   ]
  },
  {
   "cell_type": "code",
   "execution_count": null,
   "metadata": {},
   "outputs": [],
   "source": [
    "model = LogisticRegression(max_iter=200000,solver='lbfgs', multi_class='auto')\n",
    "\n",
    "model.fit(X_train_log, y_train_log)"
   ]
  },
  {
   "cell_type": "code",
   "execution_count": null,
   "metadata": {},
   "outputs": [],
   "source": [
    "y_pred_log = model.predict(X_test_log)"
   ]
  },
  {
   "cell_type": "code",
   "execution_count": null,
   "metadata": {},
   "outputs": [],
   "source": [
    "print(accuracy_score(y_test_log, y_pred_log))"
   ]
  },
  {
   "cell_type": "code",
   "execution_count": null,
   "metadata": {},
   "outputs": [],
   "source": [
    "y_pred_log"
   ]
  },
  {
   "cell_type": "code",
   "execution_count": null,
   "metadata": {},
   "outputs": [],
   "source": [
    "y_test_log.value_counts(True)"
   ]
  },
  {
   "cell_type": "code",
   "execution_count": null,
   "metadata": {},
   "outputs": [],
   "source": [
    "data_util_relevante.Winner.value_counts()"
   ]
  },
  {
   "cell_type": "code",
   "execution_count": null,
   "metadata": {},
   "outputs": [],
   "source": [
    "result = preparo(X_log,Y_log)\n",
    "result.summary()"
   ]
  },
  {
   "cell_type": "markdown",
   "metadata": {},
   "source": [
    "___\n",
    "## Conclusão"
   ]
  },
  {
   "cell_type": "markdown",
   "metadata": {},
   "source": []
  },
  {
   "cell_type": "markdown",
   "metadata": {},
   "source": [
    "   ___\n",
    "## Referências"
   ]
  },
  {
   "cell_type": "markdown",
   "metadata": {},
   "source": [
    "[Como usar a biblioteca Scikit-lear](https://scikit-learn.org/stable/modules/linear_model.html#logistic-regression)\n",
    "\n",
    "[Como funciona o Random Forest](https://towardsdatascience.com/understanding-random-forest-58381e0602d2)\n",
    "\n",
    "[Referencia do Random Forest Classifier](https://scikit-learn.org/stable/modules/generated/sklearn.ensemble.RandomForestClassifier.html)\n",
    "\n",
    "[Como funciona regressão linear](https://www.saedsayad.com/logistic_regression.htm)\n",
    "\n",
    "[Como usar a Regressão Linear](https://scikit-learn.org/stable/modules/generated/sklearn.linear_model.LinearRegression.html)\n",
    "\n"
   ]
  },
  {
   "cell_type": "code",
   "execution_count": null,
   "metadata": {
    "scrolled": true
   },
   "outputs": [],
   "source": [
    "#criando um novo dataframe\n",
    "lista_locB = [\"B_fighter\", \"weight_class\",\"B_Height_cms\",\"B_Reach_cms\",\"B_Weight_lbs\",\"B_age\"]\n",
    "lista_locR = [\"R_fighter\", \"weight_class\",\"R_Height_cms\",\"R_Reach_cms\",\"R_Weight_lbs\",\"R_age\"]\n",
    "data_red = data2.loc[: , lista_locR]\n",
    "data_blue = data2.loc[: , lista_locB]\n",
    "\n",
    "data_blue.columns = [\"Fighter\",\"Weight_class\",\"Height_cms\",\"Reach_cms\",\"Weight_lbs\",\"Age\"]\n",
    "data_red.columns = [\"Fighter\",\"Weight_class\",\"Height_cms\",\"Reach_cms\",\"Weight_lbs\",\"Age\"]\n",
    "\n",
    "data_red.head(2)"
   ]
  },
  {
   "cell_type": "code",
   "execution_count": null,
   "metadata": {
    "scrolled": true
   },
   "outputs": [],
   "source": [
    "newdataR = pd.DataFrame()\n",
    "\n",
    "\n",
    "namelist = []\n",
    "\n",
    "for n in range(0,5143):\n",
    "    if data_red.loc[n,:][\"Fighter\"] not in namelist:\n",
    "        namelist.append(data_red.loc[n,:][\"Fighter\"])\n",
    "        newdataR = pd.concat([newdataR,data_red.loc[n,:]], axis=1, join='outer')\n",
    "\n",
    "newdataR = newdataR.transpose()\n",
    "\n",
    "newdataR.head(2)"
   ]
  },
  {
   "cell_type": "code",
   "execution_count": null,
   "metadata": {
    "scrolled": true
   },
   "outputs": [],
   "source": [
    "newdataB = pd.DataFrame()\n",
    "\n",
    "namelist = []\n",
    "\n",
    "for n in range(0,5143):\n",
    "    if data_blue.loc[n,:][\"Fighter\"] not in namelist:\n",
    "        namelist.append(data_blue.loc[n,:][\"Fighter\"])\n",
    "        newdataB = pd.concat([newdataB,data_blue.loc[n,:]], axis=1, join='outer')\n",
    "\n",
    "newdataB = newdataB.transpose()\n",
    "\n",
    "newdataB.head(2)"
   ]
  },
  {
   "cell_type": "code",
   "execution_count": null,
   "metadata": {
    "scrolled": true
   },
   "outputs": [],
   "source": [
    "newdata = pd.concat([newdataB, newdataR], axis=0, join='outer', ignore_index=False, keys=None,levels=None, names=None, verify_integrity=False, copy=True)\n",
    "newdata = newdata.set_index(\"Fighter\")\n",
    "\n",
    "newdata.head(2)"
   ]
  },
  {
   "cell_type": "code",
   "execution_count": null,
   "metadata": {},
   "outputs": [],
   "source": []
  }
 ],
 "metadata": {
  "kernelspec": {
   "display_name": "Python 3",
   "language": "python",
   "name": "python3"
  },
  "language_info": {
   "codemirror_mode": {
    "name": "ipython",
    "version": 3
   },
   "file_extension": ".py",
   "mimetype": "text/x-python",
   "name": "python",
   "nbconvert_exporter": "python",
   "pygments_lexer": "ipython3",
   "version": "3.7.1"
  }
 },
 "nbformat": 4,
 "nbformat_minor": 4
}
