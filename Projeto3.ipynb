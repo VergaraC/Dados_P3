{
 "cells": [
  {
   "cell_type": "markdown",
   "metadata": {},
   "source": [
    "# Projeto 3 - Ciência dos Dados"
   ]
  },
  {
   "cell_type": "markdown",
   "metadata": {},
   "source": [
    "#  Projeto UFC"
   ]
  },
  {
   "cell_type": "markdown",
   "metadata": {},
   "source": [
    "Nome: Victor Vergara Arcoverde de Albuquerque Cavalcanti\n",
    "\n",
    "Nome: Edgard Ortiz Neto\n",
    "\n",
    "Nome: Gabriel Yamashita\n",
    "\n",
    "Nome: Henrique Mualem Marti\n",
    "\n"
   ]
  },
  {
   "cell_type": "markdown",
   "metadata": {},
   "source": [
    "  ___\n",
    "## Objetivo:"
   ]
  },
  {
   "cell_type": "markdown",
   "metadata": {},
   "source": [
    "### O objetivo desse projeto é fazer um machine learning para poder prever qual lutador ganhará uma luta do UFC baseado no seu histórico. Para isso serão usados os dados de todas as lutas do UFC (mais de 5 mil) a fim de descobrir quais os fatores dos lutadores que impactam mais no resultado das lutas. \n",
    "### Assim esse projeto poderia ser usado para apostadores nas lutas de UFC e os próprios atlétas que participam nessas lutas, pois seria possível comparar os seus dados e os de seus oponentes, assim sabendo como está em relação a eles e quais fatores seria melhor treinar ou manter a fim de manter uma vantage sobre eles."
   ]
  },
  {
   "cell_type": "markdown",
   "metadata": {},
   "source": [
    "[Database utilizado](https://www.kaggle.com/rajeevw/ufcdata#data.csv)"
   ]
  },
  {
   "cell_type": "markdown",
   "metadata": {},
   "source": [
    "____\n",
    "## Método escolhido:\n",
    "\n",
    "\n"
   ]
  },
  {
   "cell_type": "markdown",
   "metadata": {},
   "source": [
    "    "
   ]
  },
  {
   "cell_type": "markdown",
   "metadata": {},
   "source": [
    "\n",
    "\n",
    "### Random Forest:\n",
    "#### Esse método usa várias árvores de decisão para encontrar o que melhor se adequa, a que tem menos erros, para os nossos dados e o resultado que queremos, nesse caso qual é o vencedor.\n",
    "\n",
    "![randomforest.png](randomforest.png)\n"
   ]
  },
  {
   "cell_type": "markdown",
   "metadata": {},
   "source": [
    "\n",
    "### Regressão Logística:\n",
    "#### Esse método usa a função abaixo que vai sempre tender a 0 ou a 1, assim sendo um classificador binário. Ele atribui um coeficiente(β) para cada fator levado em consideração, assim tendo uma ordem de impacto dos fatores no resultado final.\n",
    "\n",
    "$$Prob(y = 1 | X = x) = \\frac{1}{1 + e^{-\\left(\\beta_0 + \\beta_1 x_1 + \\beta_2 x_2\\right)}}$$"
   ]
  },
  {
   "cell_type": "markdown",
   "metadata": {},
   "source": [
    " ___\n",
    "## Preparando o ambiente no jupyter:"
   ]
  },
  {
   "cell_type": "markdown",
   "metadata": {},
   "source": [
    "\n",
    "### Imports:"
   ]
  },
  {
   "cell_type": "code",
   "execution_count": 1,
   "metadata": {
    "jupyter": {
     "outputs_hidden": true
    }
   },
   "outputs": [],
   "source": [
    "import math\n",
    "import os.path\n",
    "import pandas as pd\n",
    "import numpy as np\n",
    "import matplotlib\n",
    "import matplotlib.pyplot as plt\n",
    "import json\n",
    "import random\n",
    "import statsmodels.api as sm\n",
    "import seaborn as sns\n",
    "\n",
    "from sklearn.feature_extraction.text import CountVectorizer\n",
    "from sklearn.metrics import accuracy_score\n",
    "from sklearn.naive_bayes import MultinomialNB\n",
    "\n",
    "from sklearn.pipeline import Pipeline\n",
    "from sklearn.ensemble import RandomForestClassifier\n",
    "from sklearn.linear_model import LogisticRegression\n",
    "from sklearn.model_selection import train_test_split"
   ]
  },
  {
   "cell_type": "markdown",
   "metadata": {},
   "source": [
    "\n",
    "### Trabalhando com os Excels:"
   ]
  },
  {
   "cell_type": "code",
   "execution_count": 2,
   "metadata": {},
   "outputs": [
    {
     "data": {
      "text/html": [
       "<div>\n",
       "<style scoped>\n",
       "    .dataframe tbody tr th:only-of-type {\n",
       "        vertical-align: middle;\n",
       "    }\n",
       "\n",
       "    .dataframe tbody tr th {\n",
       "        vertical-align: top;\n",
       "    }\n",
       "\n",
       "    .dataframe thead th {\n",
       "        text-align: right;\n",
       "    }\n",
       "</style>\n",
       "<table border=\"1\" class=\"dataframe\">\n",
       "  <thead>\n",
       "    <tr style=\"text-align: right;\">\n",
       "      <th></th>\n",
       "      <th>R_fighter</th>\n",
       "      <th>B_fighter</th>\n",
       "      <th>Referee</th>\n",
       "      <th>date</th>\n",
       "      <th>location</th>\n",
       "      <th>Winner</th>\n",
       "      <th>title_bout</th>\n",
       "      <th>weight_class</th>\n",
       "      <th>no_of_rounds</th>\n",
       "      <th>B_current_lose_streak</th>\n",
       "      <th>...</th>\n",
       "      <th>R_win_by_KO/TKO</th>\n",
       "      <th>R_win_by_Submission</th>\n",
       "      <th>R_win_by_TKO_Doctor_Stoppage</th>\n",
       "      <th>R_wins</th>\n",
       "      <th>R_Stance</th>\n",
       "      <th>R_Height_cms</th>\n",
       "      <th>R_Reach_cms</th>\n",
       "      <th>R_Weight_lbs</th>\n",
       "      <th>B_age</th>\n",
       "      <th>R_age</th>\n",
       "    </tr>\n",
       "  </thead>\n",
       "  <tbody>\n",
       "    <tr>\n",
       "      <th>0</th>\n",
       "      <td>Henry Cejudo</td>\n",
       "      <td>Marlon Moraes</td>\n",
       "      <td>Marc Goddard</td>\n",
       "      <td>2019</td>\n",
       "      <td>Chicago, Illinois, USA</td>\n",
       "      <td>Red</td>\n",
       "      <td>True</td>\n",
       "      <td>Bantamweight</td>\n",
       "      <td>5</td>\n",
       "      <td>0</td>\n",
       "      <td>...</td>\n",
       "      <td>2</td>\n",
       "      <td>0</td>\n",
       "      <td>0</td>\n",
       "      <td>8</td>\n",
       "      <td>Orthodox</td>\n",
       "      <td>162.56</td>\n",
       "      <td>162.56</td>\n",
       "      <td>135.0</td>\n",
       "      <td>31.0</td>\n",
       "      <td>32.0</td>\n",
       "    </tr>\n",
       "    <tr>\n",
       "      <th>1</th>\n",
       "      <td>Valentina Shevchenko</td>\n",
       "      <td>Jessica Eye</td>\n",
       "      <td>Robert Madrigal</td>\n",
       "      <td>2019</td>\n",
       "      <td>Chicago, Illinois, USA</td>\n",
       "      <td>Red</td>\n",
       "      <td>True</td>\n",
       "      <td>Women's Flyweight</td>\n",
       "      <td>5</td>\n",
       "      <td>0</td>\n",
       "      <td>...</td>\n",
       "      <td>0</td>\n",
       "      <td>2</td>\n",
       "      <td>0</td>\n",
       "      <td>5</td>\n",
       "      <td>Southpaw</td>\n",
       "      <td>165.10</td>\n",
       "      <td>167.64</td>\n",
       "      <td>125.0</td>\n",
       "      <td>32.0</td>\n",
       "      <td>31.0</td>\n",
       "    </tr>\n",
       "  </tbody>\n",
       "</table>\n",
       "<p>2 rows × 145 columns</p>\n",
       "</div>"
      ],
      "text/plain": [
       "              R_fighter      B_fighter          Referee  date  \\\n",
       "0          Henry Cejudo  Marlon Moraes     Marc Goddard  2019   \n",
       "1  Valentina Shevchenko    Jessica Eye  Robert Madrigal  2019   \n",
       "\n",
       "                 location Winner  title_bout       weight_class  no_of_rounds  \\\n",
       "0  Chicago, Illinois, USA    Red        True       Bantamweight             5   \n",
       "1  Chicago, Illinois, USA    Red        True  Women's Flyweight             5   \n",
       "\n",
       "   B_current_lose_streak  ...    R_win_by_KO/TKO  R_win_by_Submission  \\\n",
       "0                      0  ...                  2                    0   \n",
       "1                      0  ...                  0                    2   \n",
       "\n",
       "   R_win_by_TKO_Doctor_Stoppage  R_wins  R_Stance  R_Height_cms  R_Reach_cms  \\\n",
       "0                             0       8  Orthodox        162.56       162.56   \n",
       "1                             0       5  Southpaw        165.10       167.64   \n",
       "\n",
       "   R_Weight_lbs  B_age  R_age  \n",
       "0         135.0   31.0   32.0  \n",
       "1         125.0   32.0   31.0  \n",
       "\n",
       "[2 rows x 145 columns]"
      ]
     },
     "execution_count": 2,
     "metadata": {},
     "output_type": "execute_result"
    }
   ],
   "source": [
    "data = pd.read_excel(\"data.xlsx\")\n",
    "data.head(2)"
   ]
  },
  {
   "cell_type": "code",
   "execution_count": 3,
   "metadata": {},
   "outputs": [],
   "source": [
    "data.weight_class = data.weight_class.astype('category')\n",
    "data.Winner = data.Winner.astype('category')"
   ]
  },
  {
   "cell_type": "markdown",
   "metadata": {},
   "source": [
    "### Análise Exploratória"
   ]
  },
  {
   "cell_type": "code",
   "execution_count": 4,
   "metadata": {
    "scrolled": true
   },
   "outputs": [
    {
     "data": {
      "text/plain": [
       "Red     3470\n",
       "Blue    1591\n",
       "Draw      83\n",
       "Name: Winner, dtype: int64"
      ]
     },
     "execution_count": 4,
     "metadata": {},
     "output_type": "execute_result"
    }
   ],
   "source": [
    "data.Winner.value_counts()"
   ]
  },
  {
   "cell_type": "code",
   "execution_count": 92,
   "metadata": {},
   "outputs": [
    {
     "data": {
      "image/png": "[encoded data removed]",
      "text/plain": [
       "<Figure size 432x288 with 1 Axes>"
      ]
     },
     "metadata": {},
     "output_type": "display_data"
    }
   ],
   "source": [
    "plt.title(\"Red wins vs Blue wins\")\n",
    "data.Winner.value_counts().plot(kind='pie', colors=['red','blue','white'], autopct=\"%0.2f\",legend=False);"
   ]
  },
  {
   "cell_type": "code",
   "execution_count": 93,
   "metadata": {},
   "outputs": [
    {
     "data": {
      "image/png": "[encoded data removed]",
      "text/plain": [
       "<Figure size 432x288 with 1 Axes>"
      ]
     },
     "metadata": {},
     "output_type": "display_data"
    }
   ],
   "source": [
    "plt.title(\"Title bout fights\")\n",
    "data['title_bout'].value_counts().plot(kind='pie', colors=['green','gold'],autopct=\"%0.2f\",legend=False);"
   ]
  },
  {
   "cell_type": "code",
   "execution_count": 94,
   "metadata": {},
   "outputs": [
    {
     "data": {
      "image/png": "[encoded data removed]",
      "text/plain": [
       "<Figure size 432x288 with 1 Axes>"
      ]
     },
     "metadata": {},
     "output_type": "display_data"
    }
   ],
   "source": [
    "graf_winner_with_title = data.loc[: , [\"Winner\", \"title_bout\"]]\n",
    "graf_winner_with_title1 = graf_winner_with_title.loc[(graf_winner_with_title.title_bout==True),:]\n",
    "plt.title(\"Red wins vs Blue wins with title bout\")\n",
    "graf_winner_with_title1.Winner.value_counts().plot(kind='pie', colors=['red','blue',\"white\"],autopct=\"%0.2f\",legend=False); "
   ]
  },
  {
   "cell_type": "code",
   "execution_count": 95,
   "metadata": {},
   "outputs": [
    {
     "data": {
      "image/png": "[encoded data removed]",
      "text/plain": [
       "<Figure size 432x288 with 1 Axes>"
      ]
     },
     "metadata": {},
     "output_type": "display_data"
    }
   ],
   "source": [
    "graf_winner_with_title = data.loc[: , [\"Winner\", \"title_bout\"]]\n",
    "graf_winner_with_title1 = graf_winner_with_title.loc[(graf_winner_with_title.title_bout==False),:]\n",
    "plt.title(\"Red wins vs Blue wins without title bout\")\n",
    "graf_winner_with_title1.Winner.value_counts().plot(kind='pie', colors=['red','blue',\"white\"],autopct=\"%0.2f\",legend=False);"
   ]
  },
  {
   "cell_type": "code",
   "execution_count": 96,
   "metadata": {},
   "outputs": [
    {
     "data": {
      "image/png": "[encoded data removed]",
      "text/plain": [
       "<Figure size 1440x1080 with 1 Axes>"
      ]
     },
     "metadata": {},
     "output_type": "display_data"
    }
   ],
   "source": [
    "plt.figure(figsize=(20,15))\n",
    "plt.title(\"Fighters distribuition by weight category\")\n",
    "data['weight_class'].value_counts().plot(kind='pie',autopct=\"%0.2f\",legend=False);"
   ]
  },
  {
   "cell_type": "code",
   "execution_count": null,
   "metadata": {},
   "outputs": [
    {
     "data": {
      "image/png": "[encoded data removed]",
      "text/plain": [
       "<Figure size 432x288 with 1 Axes>"
      ]
     },
     "metadata": {},
     "output_type": "display_data"
    }
   ],
   "source": [
    "data_mulher = data.loc[(data.weight_class==\"Women's Bantamweight\")|\n",
    "                       (data.weight_class==\"Women's Featherweight\")|\n",
    "                       (data.weight_class==\"Women's Flyweight\")|\n",
    "                       (data.weight_class==\"Women's Strawweight\"),:]\n",
    "plt.title(\"Women's distribuition by weight category\")\n",
    "data_mulher.weight_class.value_counts().plot(kind='pie',autopct=\"%0.2f\",legend=False);"
   ]
  },
  {
   "cell_type": "code",
   "execution_count": null,
   "metadata": {},
   "outputs": [
    {
     "data": {
      "image/png": "[encoded data removed]",
      "text/plain": [
       "<Figure size 432x288 with 1 Axes>"
      ]
     },
     "metadata": {},
     "output_type": "display_data"
    }
   ],
   "source": [
    "data_homem = data.loc[(data.weight_class==\"Flyweight\")|\n",
    "                       (data.weight_class==\"Bantamweight\")|\n",
    "                       (data.weight_class==\"Featherweight\")|\n",
    "                       (data.weight_class==\"Lightweight\")|\n",
    "                       (data.weight_class==\"Welterweight\")|\n",
    "                       (data.weight_class==\"Middleweight\")|\n",
    "                       (data.weight_class==\"Light Heavyweight\")|\n",
    "                       (data.weight_class==\"Heavyweight\"),:]\n",
    "plt.title(\"Men's distribuition by weight category\")\n",
    "data_homem.weight_class.value_counts().plot(kind='pie',autopct=\"%0.2f\",legend=False);"
   ]
  },
  {
   "cell_type": "code",
   "execution_count": 5,
   "metadata": {},
   "outputs": [
    {
     "data": {
      "text/html": [
       "<div>\n",
       "<style scoped>\n",
       "    .dataframe tbody tr th:only-of-type {\n",
       "        vertical-align: middle;\n",
       "    }\n",
       "\n",
       "    .dataframe tbody tr th {\n",
       "        vertical-align: top;\n",
       "    }\n",
       "\n",
       "    .dataframe thead th {\n",
       "        text-align: right;\n",
       "    }\n",
       "</style>\n",
       "<table border=\"1\" class=\"dataframe\">\n",
       "  <thead>\n",
       "    <tr style=\"text-align: right;\">\n",
       "      <th></th>\n",
       "      <th>R_fighter</th>\n",
       "      <th>B_fighter</th>\n",
       "      <th>Referee</th>\n",
       "      <th>date</th>\n",
       "      <th>location</th>\n",
       "      <th>Winner</th>\n",
       "      <th>title_bout</th>\n",
       "      <th>weight_class</th>\n",
       "      <th>no_of_rounds</th>\n",
       "      <th>B_current_lose_streak</th>\n",
       "      <th>...</th>\n",
       "      <th>R_win_by_KO/TKO</th>\n",
       "      <th>R_win_by_Submission</th>\n",
       "      <th>R_win_by_TKO_Doctor_Stoppage</th>\n",
       "      <th>R_wins</th>\n",
       "      <th>R_Stance</th>\n",
       "      <th>R_Height_cms</th>\n",
       "      <th>R_Reach_cms</th>\n",
       "      <th>R_Weight_lbs</th>\n",
       "      <th>B_age</th>\n",
       "      <th>R_age</th>\n",
       "    </tr>\n",
       "  </thead>\n",
       "  <tbody>\n",
       "    <tr>\n",
       "      <th>0</th>\n",
       "      <td>Henry Cejudo</td>\n",
       "      <td>Marlon Moraes</td>\n",
       "      <td>Marc Goddard</td>\n",
       "      <td>2019</td>\n",
       "      <td>Chicago, Illinois, USA</td>\n",
       "      <td>1</td>\n",
       "      <td>1</td>\n",
       "      <td>Bantamweight</td>\n",
       "      <td>5</td>\n",
       "      <td>0</td>\n",
       "      <td>...</td>\n",
       "      <td>2</td>\n",
       "      <td>0</td>\n",
       "      <td>0</td>\n",
       "      <td>8</td>\n",
       "      <td>Orthodox</td>\n",
       "      <td>162.56</td>\n",
       "      <td>162.56</td>\n",
       "      <td>135.0</td>\n",
       "      <td>31.0</td>\n",
       "      <td>32.0</td>\n",
       "    </tr>\n",
       "    <tr>\n",
       "      <th>1</th>\n",
       "      <td>Valentina Shevchenko</td>\n",
       "      <td>Jessica Eye</td>\n",
       "      <td>Robert Madrigal</td>\n",
       "      <td>2019</td>\n",
       "      <td>Chicago, Illinois, USA</td>\n",
       "      <td>1</td>\n",
       "      <td>1</td>\n",
       "      <td>Women's Flyweight</td>\n",
       "      <td>5</td>\n",
       "      <td>0</td>\n",
       "      <td>...</td>\n",
       "      <td>0</td>\n",
       "      <td>2</td>\n",
       "      <td>0</td>\n",
       "      <td>5</td>\n",
       "      <td>Southpaw</td>\n",
       "      <td>165.10</td>\n",
       "      <td>167.64</td>\n",
       "      <td>125.0</td>\n",
       "      <td>32.0</td>\n",
       "      <td>31.0</td>\n",
       "    </tr>\n",
       "  </tbody>\n",
       "</table>\n",
       "<p>2 rows × 145 columns</p>\n",
       "</div>"
      ],
      "text/plain": [
       "              R_fighter      B_fighter          Referee  date  \\\n",
       "0          Henry Cejudo  Marlon Moraes     Marc Goddard  2019   \n",
       "1  Valentina Shevchenko    Jessica Eye  Robert Madrigal  2019   \n",
       "\n",
       "                 location  Winner  title_bout       weight_class  \\\n",
       "0  Chicago, Illinois, USA       1           1       Bantamweight   \n",
       "1  Chicago, Illinois, USA       1           1  Women's Flyweight   \n",
       "\n",
       "   no_of_rounds  B_current_lose_streak  ...    R_win_by_KO/TKO  \\\n",
       "0             5                      0  ...                  2   \n",
       "1             5                      0  ...                  0   \n",
       "\n",
       "   R_win_by_Submission  R_win_by_TKO_Doctor_Stoppage  R_wins  R_Stance  \\\n",
       "0                    0                             0       8  Orthodox   \n",
       "1                    2                             0       5  Southpaw   \n",
       "\n",
       "   R_Height_cms  R_Reach_cms  R_Weight_lbs  B_age  R_age  \n",
       "0        162.56       162.56         135.0   31.0   32.0  \n",
       "1        165.10       167.64         125.0   32.0   31.0  \n",
       "\n",
       "[2 rows x 145 columns]"
      ]
     },
     "execution_count": 5,
     "metadata": {},
     "output_type": "execute_result"
    }
   ],
   "source": [
    "#Escolhendo apenas as lutas entre lutadores da classe 'Heavyweight', pois as característica\n",
    "#data_heavy = data.loc[(data.weight_class=='Heavyweight'),:]\n",
    "bool_to_number = {False: 0, True: 1}\n",
    "string_to_number = {'Blue': 0, 'Red': 1, 'Draw': 2}\n",
    "data['title_bout'] = data['title_bout'].map(bool_to_number)\n",
    "data['Winner'] = data['Winner'].map(string_to_number)\n",
    "data.head(2)"
   ]
  },
  {
   "cell_type": "markdown",
   "metadata": {},
   "source": [
    "#### Blue = 0\n",
    "#### Red = 1"
   ]
  },
  {
   "cell_type": "code",
   "execution_count": 6,
   "metadata": {},
   "outputs": [],
   "source": [
    "data_util = data.drop(['Referee','date','location'], axis=1)\n",
    "#dados que não se relacionam com os lutadores ou seus resultado"
   ]
  },
  {
   "cell_type": "code",
   "execution_count": 7,
   "metadata": {
    "scrolled": true
   },
   "outputs": [
    {
     "data": {
      "text/html": [
       "<div>\n",
       "<style scoped>\n",
       "    .dataframe tbody tr th:only-of-type {\n",
       "        vertical-align: middle;\n",
       "    }\n",
       "\n",
       "    .dataframe tbody tr th {\n",
       "        vertical-align: top;\n",
       "    }\n",
       "\n",
       "    .dataframe thead th {\n",
       "        text-align: right;\n",
       "    }\n",
       "</style>\n",
       "<table border=\"1\" class=\"dataframe\">\n",
       "  <thead>\n",
       "    <tr style=\"text-align: right;\">\n",
       "      <th></th>\n",
       "      <th>R_fighter</th>\n",
       "      <th>B_fighter</th>\n",
       "      <th>Winner</th>\n",
       "      <th>title_bout</th>\n",
       "      <th>weight_class</th>\n",
       "      <th>no_of_rounds</th>\n",
       "      <th>B_current_lose_streak</th>\n",
       "      <th>B_current_win_streak</th>\n",
       "      <th>B_draw</th>\n",
       "      <th>B_avg_BODY_att</th>\n",
       "      <th>...</th>\n",
       "      <th>R_win_by_KO/TKO</th>\n",
       "      <th>R_win_by_Submission</th>\n",
       "      <th>R_win_by_TKO_Doctor_Stoppage</th>\n",
       "      <th>R_wins</th>\n",
       "      <th>R_Stance</th>\n",
       "      <th>R_Height_cms</th>\n",
       "      <th>R_Reach_cms</th>\n",
       "      <th>R_Weight_lbs</th>\n",
       "      <th>B_age</th>\n",
       "      <th>R_age</th>\n",
       "    </tr>\n",
       "  </thead>\n",
       "  <tbody>\n",
       "    <tr>\n",
       "      <th>0</th>\n",
       "      <td>Henry Cejudo</td>\n",
       "      <td>Marlon Moraes</td>\n",
       "      <td>1</td>\n",
       "      <td>1</td>\n",
       "      <td>Bantamweight</td>\n",
       "      <td>5</td>\n",
       "      <td>0</td>\n",
       "      <td>4</td>\n",
       "      <td>0</td>\n",
       "      <td>9.2</td>\n",
       "      <td>...</td>\n",
       "      <td>2</td>\n",
       "      <td>0</td>\n",
       "      <td>0</td>\n",
       "      <td>8</td>\n",
       "      <td>Orthodox</td>\n",
       "      <td>162.56</td>\n",
       "      <td>162.56</td>\n",
       "      <td>135.0</td>\n",
       "      <td>31.0</td>\n",
       "      <td>32.0</td>\n",
       "    </tr>\n",
       "    <tr>\n",
       "      <th>1</th>\n",
       "      <td>Valentina Shevchenko</td>\n",
       "      <td>Jessica Eye</td>\n",
       "      <td>1</td>\n",
       "      <td>1</td>\n",
       "      <td>Women's Flyweight</td>\n",
       "      <td>5</td>\n",
       "      <td>0</td>\n",
       "      <td>3</td>\n",
       "      <td>0</td>\n",
       "      <td>14.6</td>\n",
       "      <td>...</td>\n",
       "      <td>0</td>\n",
       "      <td>2</td>\n",
       "      <td>0</td>\n",
       "      <td>5</td>\n",
       "      <td>Southpaw</td>\n",
       "      <td>165.10</td>\n",
       "      <td>167.64</td>\n",
       "      <td>125.0</td>\n",
       "      <td>32.0</td>\n",
       "      <td>31.0</td>\n",
       "    </tr>\n",
       "  </tbody>\n",
       "</table>\n",
       "<p>2 rows × 142 columns</p>\n",
       "</div>"
      ],
      "text/plain": [
       "              R_fighter      B_fighter  Winner  title_bout       weight_class  \\\n",
       "0          Henry Cejudo  Marlon Moraes       1           1       Bantamweight   \n",
       "1  Valentina Shevchenko    Jessica Eye       1           1  Women's Flyweight   \n",
       "\n",
       "   no_of_rounds  B_current_lose_streak  B_current_win_streak  B_draw  \\\n",
       "0             5                      0                     4       0   \n",
       "1             5                      0                     3       0   \n",
       "\n",
       "   B_avg_BODY_att  ...    R_win_by_KO/TKO  R_win_by_Submission  \\\n",
       "0             9.2  ...                  2                    0   \n",
       "1            14.6  ...                  0                    2   \n",
       "\n",
       "   R_win_by_TKO_Doctor_Stoppage  R_wins  R_Stance  R_Height_cms  R_Reach_cms  \\\n",
       "0                             0       8  Orthodox        162.56       162.56   \n",
       "1                             0       5  Southpaw        165.10       167.64   \n",
       "\n",
       "   R_Weight_lbs  B_age  R_age  \n",
       "0         135.0   31.0   32.0  \n",
       "1         125.0   32.0   31.0  \n",
       "\n",
       "[2 rows x 142 columns]"
      ]
     },
     "execution_count": 7,
     "metadata": {},
     "output_type": "execute_result"
    }
   ],
   "source": [
    "data_util.head(2)"
   ]
  },
  {
   "cell_type": "code",
   "execution_count": 8,
   "metadata": {},
   "outputs": [
    {
     "data": {
      "text/html": [
       "<div>\n",
       "<style scoped>\n",
       "    .dataframe tbody tr th:only-of-type {\n",
       "        vertical-align: middle;\n",
       "    }\n",
       "\n",
       "    .dataframe tbody tr th {\n",
       "        vertical-align: top;\n",
       "    }\n",
       "\n",
       "    .dataframe thead th {\n",
       "        text-align: right;\n",
       "    }\n",
       "</style>\n",
       "<table border=\"1\" class=\"dataframe\">\n",
       "  <thead>\n",
       "    <tr style=\"text-align: right;\">\n",
       "      <th></th>\n",
       "      <th>R_fighter</th>\n",
       "      <th>B_fighter</th>\n",
       "      <th>Winner</th>\n",
       "      <th>title_bout</th>\n",
       "      <th>weight_class</th>\n",
       "      <th>no_of_rounds</th>\n",
       "      <th>B_current_lose_streak</th>\n",
       "      <th>B_current_win_streak</th>\n",
       "      <th>B_draw</th>\n",
       "      <th>B_avg_BODY_att</th>\n",
       "      <th>...</th>\n",
       "      <th>R_win_by_KO/TKO</th>\n",
       "      <th>R_win_by_Submission</th>\n",
       "      <th>R_win_by_TKO_Doctor_Stoppage</th>\n",
       "      <th>R_wins</th>\n",
       "      <th>R_Stance</th>\n",
       "      <th>R_Height_cms</th>\n",
       "      <th>R_Reach_cms</th>\n",
       "      <th>R_Weight_lbs</th>\n",
       "      <th>B_age</th>\n",
       "      <th>R_age</th>\n",
       "    </tr>\n",
       "  </thead>\n",
       "  <tbody>\n",
       "    <tr>\n",
       "      <th>0</th>\n",
       "      <td>Henry Cejudo</td>\n",
       "      <td>Marlon Moraes</td>\n",
       "      <td>1</td>\n",
       "      <td>1</td>\n",
       "      <td>Bantamweight</td>\n",
       "      <td>5</td>\n",
       "      <td>0</td>\n",
       "      <td>4</td>\n",
       "      <td>0</td>\n",
       "      <td>9.2</td>\n",
       "      <td>...</td>\n",
       "      <td>2</td>\n",
       "      <td>0</td>\n",
       "      <td>0</td>\n",
       "      <td>8</td>\n",
       "      <td>Orthodox</td>\n",
       "      <td>162.56</td>\n",
       "      <td>162.56</td>\n",
       "      <td>135.0</td>\n",
       "      <td>31.0</td>\n",
       "      <td>32.0</td>\n",
       "    </tr>\n",
       "    <tr>\n",
       "      <th>1</th>\n",
       "      <td>Valentina Shevchenko</td>\n",
       "      <td>Jessica Eye</td>\n",
       "      <td>1</td>\n",
       "      <td>1</td>\n",
       "      <td>Women's Flyweight</td>\n",
       "      <td>5</td>\n",
       "      <td>0</td>\n",
       "      <td>3</td>\n",
       "      <td>0</td>\n",
       "      <td>14.6</td>\n",
       "      <td>...</td>\n",
       "      <td>0</td>\n",
       "      <td>2</td>\n",
       "      <td>0</td>\n",
       "      <td>5</td>\n",
       "      <td>Southpaw</td>\n",
       "      <td>165.10</td>\n",
       "      <td>167.64</td>\n",
       "      <td>125.0</td>\n",
       "      <td>32.0</td>\n",
       "      <td>31.0</td>\n",
       "    </tr>\n",
       "  </tbody>\n",
       "</table>\n",
       "<p>2 rows × 142 columns</p>\n",
       "</div>"
      ],
      "text/plain": [
       "              R_fighter      B_fighter  Winner  title_bout       weight_class  \\\n",
       "0          Henry Cejudo  Marlon Moraes       1           1       Bantamweight   \n",
       "1  Valentina Shevchenko    Jessica Eye       1           1  Women's Flyweight   \n",
       "\n",
       "   no_of_rounds  B_current_lose_streak  B_current_win_streak  B_draw  \\\n",
       "0             5                      0                     4       0   \n",
       "1             5                      0                     3       0   \n",
       "\n",
       "   B_avg_BODY_att  ...    R_win_by_KO/TKO  R_win_by_Submission  \\\n",
       "0             9.2  ...                  2                    0   \n",
       "1            14.6  ...                  0                    2   \n",
       "\n",
       "   R_win_by_TKO_Doctor_Stoppage  R_wins  R_Stance  R_Height_cms  R_Reach_cms  \\\n",
       "0                             0       8  Orthodox        162.56       162.56   \n",
       "1                             0       5  Southpaw        165.10       167.64   \n",
       "\n",
       "   R_Weight_lbs  B_age  R_age  \n",
       "0         135.0   31.0   32.0  \n",
       "1         125.0   32.0   31.0  \n",
       "\n",
       "[2 rows x 142 columns]"
      ]
     },
     "execution_count": 8,
     "metadata": {},
     "output_type": "execute_result"
    }
   ],
   "source": [
    "data_util.dropna(inplace=True)\n",
    "data_util.head(2)"
   ]
  },
  {
   "cell_type": "markdown",
   "metadata": {},
   "source": [
    "\n",
    "### Tirando os dados categóricos:"
   ]
  },
  {
   "cell_type": "code",
   "execution_count": 9,
   "metadata": {},
   "outputs": [],
   "source": [
    "categoricas = [\n",
    "    'R_fighter', \n",
    "    'B_fighter', \n",
    "    'weight_class', \n",
    "    'R_Stance', \n",
    "    'B_Stance', \n",
    "]\n",
    "\n",
    "data_cat = data_util[categoricas].astype('category')\n",
    "data_num = data_util.drop(categoricas, axis=1).astype('float')"
   ]
  },
  {
   "cell_type": "markdown",
   "metadata": {},
   "source": [
    "___\n",
    "# Teste 1\n",
    "___"
   ]
  },
  {
   "cell_type": "code",
   "execution_count": 10,
   "metadata": {},
   "outputs": [],
   "source": [
    "X = data_num.drop('Winner', axis=1)\n",
    "Y = data_num['Winner']"
   ]
  },
  {
   "cell_type": "markdown",
   "metadata": {},
   "source": [
    "\n",
    "## Random Forest -1"
   ]
  },
  {
   "cell_type": "markdown",
   "metadata": {},
   "source": [
    "### Separando os dados em testes e treinamento"
   ]
  },
  {
   "cell_type": "code",
   "execution_count": 11,
   "metadata": {},
   "outputs": [],
   "source": [
    "X_train_random, X_test_random, y_train_random, y_test_random = train_test_split(X, Y, test_size=0.25)"
   ]
  },
  {
   "cell_type": "code",
   "execution_count": 12,
   "metadata": {},
   "outputs": [
    {
     "data": {
      "text/plain": [
       "RandomForestClassifier(bootstrap=True, class_weight=None, criterion='gini',\n",
       "            max_depth=None, max_features='auto', max_leaf_nodes=None,\n",
       "            min_impurity_decrease=0.0, min_impurity_split=None,\n",
       "            min_samples_leaf=1, min_samples_split=2,\n",
       "            min_weight_fraction_leaf=0.0, n_estimators=10000, n_jobs=None,\n",
       "            oob_score=False, random_state=None, verbose=0,\n",
       "            warm_start=False)"
      ]
     },
     "execution_count": 12,
     "metadata": {},
     "output_type": "execute_result"
    }
   ],
   "source": [
    "model_random = RandomForestClassifier(n_estimators=10000)\n",
    "\n",
    "model_random.fit(X_train_random, y_train_random)"
   ]
  },
  {
   "cell_type": "markdown",
   "metadata": {},
   "source": [
    "\n",
    "### Verificando a performance \n"
   ]
  },
  {
   "cell_type": "code",
   "execution_count": 13,
   "metadata": {},
   "outputs": [],
   "source": [
    "#X_train_random.columns"
   ]
  },
  {
   "cell_type": "code",
   "execution_count": 14,
   "metadata": {
    "scrolled": true
   },
   "outputs": [],
   "source": [
    "#model_random.feature_importances_"
   ]
  },
  {
   "cell_type": "code",
   "execution_count": 15,
   "metadata": {},
   "outputs": [],
   "source": [
    "y_pred_random = model_random.predict(X_test_random)"
   ]
  },
  {
   "cell_type": "code",
   "execution_count": 16,
   "metadata": {},
   "outputs": [
    {
     "name": "stdout",
     "output_type": "stream",
     "text": [
      "0.6766169154228856\n"
     ]
    }
   ],
   "source": [
    "print(accuracy_score(y_test_random, y_pred_random))"
   ]
  },
  {
   "cell_type": "code",
   "execution_count": 17,
   "metadata": {},
   "outputs": [],
   "source": [
    "#y_pred_random"
   ]
  },
  {
   "cell_type": "code",
   "execution_count": 18,
   "metadata": {
    "scrolled": false
   },
   "outputs": [
    {
     "data": {
      "text/plain": [
       "1.0    0.646766\n",
       "0.0    0.338308\n",
       "2.0    0.014925\n",
       "Name: Winner, dtype: float64"
      ]
     },
     "execution_count": 18,
     "metadata": {},
     "output_type": "execute_result"
    }
   ],
   "source": [
    "y_test_random.value_counts(True)"
   ]
  },
  {
   "cell_type": "code",
   "execution_count": 19,
   "metadata": {},
   "outputs": [
    {
     "data": {
      "text/plain": [
       "1.0    2023\n",
       "0.0    1141\n",
       "2.0      51\n",
       "Name: Winner, dtype: int64"
      ]
     },
     "execution_count": 19,
     "metadata": {},
     "output_type": "execute_result"
    }
   ],
   "source": [
    "data_num.Winner.value_counts()"
   ]
  },
  {
   "cell_type": "markdown",
   "metadata": {},
   "source": [
    "## Regressão Logística -1"
   ]
  },
  {
   "cell_type": "markdown",
   "metadata": {},
   "source": [
    "### Separando os dados em teste e treinamento"
   ]
  },
  {
   "cell_type": "code",
   "execution_count": 20,
   "metadata": {},
   "outputs": [],
   "source": [
    "X_train_log, X_test_log, y_train_log, y_test_log = train_test_split(X, Y, test_size=0.25)"
   ]
  },
  {
   "cell_type": "code",
   "execution_count": 21,
   "metadata": {},
   "outputs": [],
   "source": [
    "def preparo(X,Y):\n",
    "    X_cp = sm.add_constant(X)\n",
    "    model = sm.OLS(Y,X_cp,missing='drop')\n",
    "    results = model.fit()\n",
    "    return results"
   ]
  },
  {
   "cell_type": "code",
   "execution_count": 22,
   "metadata": {},
   "outputs": [
    {
     "data": {
      "text/plain": [
       "LogisticRegression(C=1.0, class_weight=None, dual=False, fit_intercept=True,\n",
       "          intercept_scaling=1, max_iter=200000, multi_class='auto',\n",
       "          n_jobs=None, penalty='l2', random_state=None, solver='lbfgs',\n",
       "          tol=0.0001, verbose=0, warm_start=False)"
      ]
     },
     "execution_count": 22,
     "metadata": {},
     "output_type": "execute_result"
    }
   ],
   "source": [
    "model = LogisticRegression(max_iter=200000,solver='lbfgs', multi_class='auto')\n",
    "\n",
    "model.fit(X_train_log, y_train_log)"
   ]
  },
  {
   "cell_type": "markdown",
   "metadata": {},
   "source": [
    "\n",
    "### Verificando a performance \n"
   ]
  },
  {
   "cell_type": "code",
   "execution_count": 23,
   "metadata": {},
   "outputs": [],
   "source": [
    "y_pred_log = model.predict(X_test_log)"
   ]
  },
  {
   "cell_type": "code",
   "execution_count": 53,
   "metadata": {},
   "outputs": [
    {
     "name": "stdout",
     "output_type": "stream",
     "text": [
      "0.6616915422885572\n"
     ]
    }
   ],
   "source": [
    "print(accuracy_score(y_test_log, y_pred_log))"
   ]
  },
  {
   "cell_type": "code",
   "execution_count": 54,
   "metadata": {},
   "outputs": [],
   "source": [
    "#y_pred_random"
   ]
  },
  {
   "cell_type": "code",
   "execution_count": 26,
   "metadata": {},
   "outputs": [
    {
     "data": {
      "text/plain": [
       "1.0    0.646766\n",
       "0.0    0.338308\n",
       "2.0    0.014925\n",
       "Name: Winner, dtype: float64"
      ]
     },
     "execution_count": 26,
     "metadata": {},
     "output_type": "execute_result"
    }
   ],
   "source": [
    "y_test_random.value_counts(True)"
   ]
  },
  {
   "cell_type": "code",
   "execution_count": 27,
   "metadata": {},
   "outputs": [
    {
     "data": {
      "text/plain": [
       "1.0    2023\n",
       "0.0    1141\n",
       "2.0      51\n",
       "Name: Winner, dtype: int64"
      ]
     },
     "execution_count": 27,
     "metadata": {},
     "output_type": "execute_result"
    }
   ],
   "source": [
    "data_num.Winner.value_counts()"
   ]
  },
  {
   "cell_type": "code",
   "execution_count": 28,
   "metadata": {},
   "outputs": [
    {
     "data": {
      "text/html": [
       "<table class=\"simpletable\">\n",
       "<caption>OLS Regression Results</caption>\n",
       "<tr>\n",
       "  <th>Dep. Variable:</th>         <td>Winner</td>      <th>  R-squared:         </th> <td>   0.139</td>\n",
       "</tr>\n",
       "<tr>\n",
       "  <th>Model:</th>                   <td>OLS</td>       <th>  Adj. R-squared:    </th> <td>   0.095</td>\n",
       "</tr>\n",
       "<tr>\n",
       "  <th>Method:</th>             <td>Least Squares</td>  <th>  F-statistic:       </th> <td>   3.144</td>\n",
       "</tr>\n",
       "<tr>\n",
       "  <th>Date:</th>             <td>Tue, 19 Nov 2019</td> <th>  Prob (F-statistic):</th> <td>3.56e-25</td>\n",
       "</tr>\n",
       "<tr>\n",
       "  <th>Time:</th>                 <td>20:03:00</td>     <th>  Log-Likelihood:    </th> <td> -1599.9</td>\n",
       "</tr>\n",
       "<tr>\n",
       "  <th>No. Observations:</th>      <td>  2411</td>      <th>  AIC:               </th> <td>   3438.</td>\n",
       "</tr>\n",
       "<tr>\n",
       "  <th>Df Residuals:</th>          <td>  2292</td>      <th>  BIC:               </th> <td>   4127.</td>\n",
       "</tr>\n",
       "<tr>\n",
       "  <th>Df Model:</th>              <td>   118</td>      <th>                     </th>     <td> </td>   \n",
       "</tr>\n",
       "<tr>\n",
       "  <th>Covariance Type:</th>      <td>nonrobust</td>    <th>                     </th>     <td> </td>   \n",
       "</tr>\n",
       "</table>\n",
       "<table class=\"simpletable\">\n",
       "<tr>\n",
       "                <td></td>                  <th>coef</th>     <th>std err</th>      <th>t</th>      <th>P>|t|</th>  <th>[0.025</th>    <th>0.975]</th>  \n",
       "</tr>\n",
       "<tr>\n",
       "  <th>const</th>                        <td>    1.5090</td> <td>    0.443</td> <td>    3.409</td> <td> 0.001</td> <td>    0.641</td> <td>    2.377</td>\n",
       "</tr>\n",
       "<tr>\n",
       "  <th>title_bout</th>                   <td>    0.0874</td> <td>    0.066</td> <td>    1.315</td> <td> 0.189</td> <td>   -0.043</td> <td>    0.218</td>\n",
       "</tr>\n",
       "<tr>\n",
       "  <th>no_of_rounds</th>                 <td>   -0.0186</td> <td>    0.024</td> <td>   -0.773</td> <td> 0.440</td> <td>   -0.066</td> <td>    0.029</td>\n",
       "</tr>\n",
       "<tr>\n",
       "  <th>B_current_lose_streak</th>        <td>   -0.0196</td> <td>    0.018</td> <td>   -1.099</td> <td> 0.272</td> <td>   -0.055</td> <td>    0.015</td>\n",
       "</tr>\n",
       "<tr>\n",
       "  <th>B_current_win_streak</th>         <td>   -0.0119</td> <td>    0.011</td> <td>   -1.111</td> <td> 0.267</td> <td>   -0.033</td> <td>    0.009</td>\n",
       "</tr>\n",
       "<tr>\n",
       "  <th>B_draw</th>                       <td> 9.427e-15</td> <td> 1.59e-14</td> <td>    0.591</td> <td> 0.554</td> <td>-2.18e-14</td> <td> 4.07e-14</td>\n",
       "</tr>\n",
       "<tr>\n",
       "  <th>B_avg_BODY_att</th>               <td>    0.0121</td> <td>    0.005</td> <td>    2.255</td> <td> 0.024</td> <td>    0.002</td> <td>    0.023</td>\n",
       "</tr>\n",
       "<tr>\n",
       "  <th>B_avg_BODY_landed</th>            <td>   -0.0188</td> <td>    0.007</td> <td>   -2.642</td> <td> 0.008</td> <td>   -0.033</td> <td>   -0.005</td>\n",
       "</tr>\n",
       "<tr>\n",
       "  <th>B_avg_CLINCH_att</th>             <td>    0.0076</td> <td>    0.005</td> <td>    1.454</td> <td> 0.146</td> <td>   -0.003</td> <td>    0.018</td>\n",
       "</tr>\n",
       "<tr>\n",
       "  <th>B_avg_CLINCH_landed</th>          <td>   -0.0115</td> <td>    0.007</td> <td>   -1.627</td> <td> 0.104</td> <td>   -0.025</td> <td>    0.002</td>\n",
       "</tr>\n",
       "<tr>\n",
       "  <th>B_avg_DISTANCE_att</th>           <td>   -0.0034</td> <td>    0.003</td> <td>   -1.251</td> <td> 0.211</td> <td>   -0.009</td> <td>    0.002</td>\n",
       "</tr>\n",
       "<tr>\n",
       "  <th>B_avg_DISTANCE_landed</th>        <td>    0.0030</td> <td>    0.004</td> <td>    0.768</td> <td> 0.442</td> <td>   -0.005</td> <td>    0.011</td>\n",
       "</tr>\n",
       "<tr>\n",
       "  <th>B_avg_GROUND_att</th>             <td>   -0.0028</td> <td>    0.005</td> <td>   -0.603</td> <td> 0.546</td> <td>   -0.012</td> <td>    0.006</td>\n",
       "</tr>\n",
       "<tr>\n",
       "  <th>B_avg_GROUND_landed</th>          <td>    0.0039</td> <td>    0.007</td> <td>    0.565</td> <td> 0.572</td> <td>   -0.010</td> <td>    0.017</td>\n",
       "</tr>\n",
       "<tr>\n",
       "  <th>B_avg_HEAD_att</th>               <td>    0.0020</td> <td>    0.003</td> <td>    0.597</td> <td> 0.551</td> <td>   -0.005</td> <td>    0.009</td>\n",
       "</tr>\n",
       "<tr>\n",
       "  <th>B_avg_HEAD_landed</th>            <td>   -0.0048</td> <td>    0.005</td> <td>   -1.023</td> <td> 0.307</td> <td>   -0.014</td> <td>    0.004</td>\n",
       "</tr>\n",
       "<tr>\n",
       "  <th>B_avg_KD</th>                     <td>    0.0056</td> <td>    0.035</td> <td>    0.161</td> <td> 0.872</td> <td>   -0.062</td> <td>    0.073</td>\n",
       "</tr>\n",
       "<tr>\n",
       "  <th>B_avg_LEG_att</th>                <td>   -0.0127</td> <td>    0.007</td> <td>   -1.778</td> <td> 0.076</td> <td>   -0.027</td> <td>    0.001</td>\n",
       "</tr>\n",
       "<tr>\n",
       "  <th>B_avg_LEG_landed</th>             <td>    0.0190</td> <td>    0.009</td> <td>    2.078</td> <td> 0.038</td> <td>    0.001</td> <td>    0.037</td>\n",
       "</tr>\n",
       "<tr>\n",
       "  <th>B_avg_PASS</th>                   <td>    0.0029</td> <td>    0.011</td> <td>    0.254</td> <td> 0.799</td> <td>   -0.019</td> <td>    0.025</td>\n",
       "</tr>\n",
       "<tr>\n",
       "  <th>B_avg_REV</th>                    <td>   -0.0502</td> <td>    0.040</td> <td>   -1.244</td> <td> 0.214</td> <td>   -0.129</td> <td>    0.029</td>\n",
       "</tr>\n",
       "<tr>\n",
       "  <th>B_avg_SIG_STR_att</th>            <td>    0.0015</td> <td>    0.004</td> <td>    0.337</td> <td> 0.736</td> <td>   -0.007</td> <td>    0.010</td>\n",
       "</tr>\n",
       "<tr>\n",
       "  <th>B_avg_SIG_STR_landed</th>         <td>   -0.0046</td> <td>    0.005</td> <td>   -0.870</td> <td> 0.384</td> <td>   -0.015</td> <td>    0.006</td>\n",
       "</tr>\n",
       "<tr>\n",
       "  <th>B_avg_SIG_STR_pct</th>            <td>    0.0123</td> <td>    0.129</td> <td>    0.095</td> <td> 0.924</td> <td>   -0.240</td> <td>    0.265</td>\n",
       "</tr>\n",
       "<tr>\n",
       "  <th>B_avg_SUB_ATT</th>                <td>    0.0271</td> <td>    0.019</td> <td>    1.452</td> <td> 0.147</td> <td>   -0.009</td> <td>    0.064</td>\n",
       "</tr>\n",
       "<tr>\n",
       "  <th>B_avg_TD_att</th>                 <td>   -0.0167</td> <td>    0.008</td> <td>   -2.037</td> <td> 0.042</td> <td>   -0.033</td> <td>   -0.001</td>\n",
       "</tr>\n",
       "<tr>\n",
       "  <th>B_avg_TD_landed</th>              <td>   -0.0255</td> <td>    0.021</td> <td>   -1.236</td> <td> 0.217</td> <td>   -0.066</td> <td>    0.015</td>\n",
       "</tr>\n",
       "<tr>\n",
       "  <th>B_avg_TD_pct</th>                 <td>    0.0618</td> <td>    0.062</td> <td>    1.005</td> <td> 0.315</td> <td>   -0.059</td> <td>    0.183</td>\n",
       "</tr>\n",
       "<tr>\n",
       "  <th>B_avg_TOTAL_STR_att</th>          <td>   -0.0012</td> <td>    0.005</td> <td>   -0.226</td> <td> 0.821</td> <td>   -0.012</td> <td>    0.009</td>\n",
       "</tr>\n",
       "<tr>\n",
       "  <th>B_avg_TOTAL_STR_landed</th>       <td>    0.0040</td> <td>    0.006</td> <td>    0.673</td> <td> 0.501</td> <td>   -0.008</td> <td>    0.016</td>\n",
       "</tr>\n",
       "<tr>\n",
       "  <th>B_longest_win_streak</th>         <td>    0.0085</td> <td>    0.014</td> <td>    0.612</td> <td> 0.540</td> <td>   -0.019</td> <td>    0.036</td>\n",
       "</tr>\n",
       "<tr>\n",
       "  <th>B_losses</th>                     <td>    0.0197</td> <td>    0.017</td> <td>    1.161</td> <td> 0.246</td> <td>   -0.014</td> <td>    0.053</td>\n",
       "</tr>\n",
       "<tr>\n",
       "  <th>B_avg_opp_BODY_att</th>           <td>   -0.0004</td> <td>    0.006</td> <td>   -0.064</td> <td> 0.949</td> <td>   -0.012</td> <td>    0.011</td>\n",
       "</tr>\n",
       "<tr>\n",
       "  <th>B_avg_opp_BODY_landed</th>        <td>    0.0035</td> <td>    0.008</td> <td>    0.458</td> <td> 0.647</td> <td>   -0.011</td> <td>    0.018</td>\n",
       "</tr>\n",
       "<tr>\n",
       "  <th>B_avg_opp_CLINCH_att</th>         <td>    0.0031</td> <td>    0.006</td> <td>    0.552</td> <td> 0.581</td> <td>   -0.008</td> <td>    0.014</td>\n",
       "</tr>\n",
       "<tr>\n",
       "  <th>B_avg_opp_CLINCH_landed</th>      <td>   -0.0030</td> <td>    0.007</td> <td>   -0.409</td> <td> 0.683</td> <td>   -0.018</td> <td>    0.012</td>\n",
       "</tr>\n",
       "<tr>\n",
       "  <th>B_avg_opp_DISTANCE_att</th>       <td>   -0.0004</td> <td>    0.003</td> <td>   -0.155</td> <td> 0.877</td> <td>   -0.005</td> <td>    0.005</td>\n",
       "</tr>\n",
       "<tr>\n",
       "  <th>B_avg_opp_DISTANCE_landed</th>    <td>    0.0005</td> <td>    0.004</td> <td>    0.138</td> <td> 0.890</td> <td>   -0.007</td> <td>    0.008</td>\n",
       "</tr>\n",
       "<tr>\n",
       "  <th>B_avg_opp_GROUND_att</th>         <td>    0.0003</td> <td>    0.005</td> <td>    0.076</td> <td> 0.940</td> <td>   -0.009</td> <td>    0.009</td>\n",
       "</tr>\n",
       "<tr>\n",
       "  <th>B_avg_opp_GROUND_landed</th>      <td>    0.0011</td> <td>    0.006</td> <td>    0.167</td> <td> 0.867</td> <td>   -0.012</td> <td>    0.014</td>\n",
       "</tr>\n",
       "<tr>\n",
       "  <th>B_avg_opp_HEAD_att</th>           <td>    0.0054</td> <td>    0.003</td> <td>    1.576</td> <td> 0.115</td> <td>   -0.001</td> <td>    0.012</td>\n",
       "</tr>\n",
       "<tr>\n",
       "  <th>B_avg_opp_HEAD_landed</th>        <td>   -0.0069</td> <td>    0.005</td> <td>   -1.465</td> <td> 0.143</td> <td>   -0.016</td> <td>    0.002</td>\n",
       "</tr>\n",
       "<tr>\n",
       "  <th>B_avg_opp_KD</th>                 <td>    0.0341</td> <td>    0.042</td> <td>    0.820</td> <td> 0.412</td> <td>   -0.047</td> <td>    0.116</td>\n",
       "</tr>\n",
       "<tr>\n",
       "  <th>B_avg_opp_LEG_att</th>            <td>   -0.0020</td> <td>    0.008</td> <td>   -0.251</td> <td> 0.802</td> <td>   -0.018</td> <td>    0.014</td>\n",
       "</tr>\n",
       "<tr>\n",
       "  <th>B_avg_opp_LEG_landed</th>         <td>    0.0020</td> <td>    0.010</td> <td>    0.201</td> <td> 0.841</td> <td>   -0.017</td> <td>    0.021</td>\n",
       "</tr>\n",
       "<tr>\n",
       "  <th>B_avg_opp_PASS</th>               <td>   -0.0109</td> <td>    0.011</td> <td>   -1.001</td> <td> 0.317</td> <td>   -0.032</td> <td>    0.010</td>\n",
       "</tr>\n",
       "<tr>\n",
       "  <th>B_avg_opp_REV</th>                <td>    0.0592</td> <td>    0.041</td> <td>    1.435</td> <td> 0.151</td> <td>   -0.022</td> <td>    0.140</td>\n",
       "</tr>\n",
       "<tr>\n",
       "  <th>B_avg_opp_SIG_STR_att</th>        <td>    0.0030</td> <td>    0.004</td> <td>    0.677</td> <td> 0.499</td> <td>   -0.006</td> <td>    0.012</td>\n",
       "</tr>\n",
       "<tr>\n",
       "  <th>B_avg_opp_SIG_STR_landed</th>     <td>   -0.0015</td> <td>    0.005</td> <td>   -0.272</td> <td> 0.785</td> <td>   -0.012</td> <td>    0.009</td>\n",
       "</tr>\n",
       "<tr>\n",
       "  <th>B_avg_opp_SIG_STR_pct</th>        <td>   -0.0165</td> <td>    0.124</td> <td>   -0.133</td> <td> 0.894</td> <td>   -0.259</td> <td>    0.226</td>\n",
       "</tr>\n",
       "<tr>\n",
       "  <th>B_avg_opp_SUB_ATT</th>            <td>    0.0289</td> <td>    0.021</td> <td>    1.377</td> <td> 0.169</td> <td>   -0.012</td> <td>    0.070</td>\n",
       "</tr>\n",
       "<tr>\n",
       "  <th>B_avg_opp_TD_att</th>             <td>   -0.0027</td> <td>    0.008</td> <td>   -0.351</td> <td> 0.726</td> <td>   -0.018</td> <td>    0.012</td>\n",
       "</tr>\n",
       "<tr>\n",
       "  <th>B_avg_opp_TD_landed</th>          <td>   -0.0167</td> <td>    0.019</td> <td>   -0.858</td> <td> 0.391</td> <td>   -0.055</td> <td>    0.021</td>\n",
       "</tr>\n",
       "<tr>\n",
       "  <th>B_avg_opp_TD_pct</th>             <td>    0.0956</td> <td>    0.063</td> <td>    1.510</td> <td> 0.131</td> <td>   -0.029</td> <td>    0.220</td>\n",
       "</tr>\n",
       "<tr>\n",
       "  <th>B_avg_opp_TOTAL_STR_att</th>      <td>   -0.0070</td> <td>    0.005</td> <td>   -1.286</td> <td> 0.199</td> <td>   -0.018</td> <td>    0.004</td>\n",
       "</tr>\n",
       "<tr>\n",
       "  <th>B_avg_opp_TOTAL_STR_landed</th>   <td>    0.0097</td> <td>    0.006</td> <td>    1.574</td> <td> 0.116</td> <td>   -0.002</td> <td>    0.022</td>\n",
       "</tr>\n",
       "<tr>\n",
       "  <th>B_total_rounds_fought</th>        <td>   -0.0078</td> <td>    0.005</td> <td>   -1.419</td> <td> 0.156</td> <td>   -0.019</td> <td>    0.003</td>\n",
       "</tr>\n",
       "<tr>\n",
       "  <th>B_total_time_fought(seconds)</th> <td>   -0.0002</td> <td>    0.000</td> <td>   -1.363</td> <td> 0.173</td> <td>   -0.000</td> <td> 7.15e-05</td>\n",
       "</tr>\n",
       "<tr>\n",
       "  <th>B_total_title_bouts</th>          <td>    0.0122</td> <td>    0.010</td> <td>    1.192</td> <td> 0.233</td> <td>   -0.008</td> <td>    0.032</td>\n",
       "</tr>\n",
       "<tr>\n",
       "  <th>B_win_by_Decision_Majority</th>   <td>    0.0026</td> <td>    0.152</td> <td>    0.017</td> <td> 0.987</td> <td>   -0.296</td> <td>    0.301</td>\n",
       "</tr>\n",
       "<tr>\n",
       "  <th>B_win_by_Decision_Split</th>      <td>    0.0029</td> <td>    0.135</td> <td>    0.021</td> <td> 0.983</td> <td>   -0.262</td> <td>    0.268</td>\n",
       "</tr>\n",
       "<tr>\n",
       "  <th>B_win_by_Decision_Unanimous</th>  <td>   -0.0360</td> <td>    0.135</td> <td>   -0.267</td> <td> 0.790</td> <td>   -0.300</td> <td>    0.228</td>\n",
       "</tr>\n",
       "<tr>\n",
       "  <th>B_win_by_KO/TKO</th>              <td>   -0.0430</td> <td>    0.134</td> <td>   -0.321</td> <td> 0.748</td> <td>   -0.306</td> <td>    0.220</td>\n",
       "</tr>\n",
       "<tr>\n",
       "  <th>B_win_by_Submission</th>          <td>   -0.0551</td> <td>    0.134</td> <td>   -0.410</td> <td> 0.682</td> <td>   -0.319</td> <td>    0.208</td>\n",
       "</tr>\n",
       "<tr>\n",
       "  <th>B_win_by_TKO_Doctor_Stoppage</th> <td>   -0.0034</td> <td>    0.138</td> <td>   -0.025</td> <td> 0.980</td> <td>   -0.274</td> <td>    0.267</td>\n",
       "</tr>\n",
       "<tr>\n",
       "  <th>B_wins</th>                       <td>    0.0525</td> <td>    0.133</td> <td>    0.395</td> <td> 0.693</td> <td>   -0.208</td> <td>    0.313</td>\n",
       "</tr>\n",
       "<tr>\n",
       "  <th>B_Height_cms</th>                 <td>    0.0026</td> <td>    0.003</td> <td>    0.876</td> <td> 0.381</td> <td>   -0.003</td> <td>    0.008</td>\n",
       "</tr>\n",
       "<tr>\n",
       "  <th>B_Reach_cms</th>                  <td>   -0.0025</td> <td>    0.002</td> <td>   -1.096</td> <td> 0.273</td> <td>   -0.007</td> <td>    0.002</td>\n",
       "</tr>\n",
       "<tr>\n",
       "  <th>B_Weight_lbs</th>                 <td>   -0.0007</td> <td>    0.001</td> <td>   -0.681</td> <td> 0.496</td> <td>   -0.003</td> <td>    0.001</td>\n",
       "</tr>\n",
       "<tr>\n",
       "  <th>R_current_lose_streak</th>        <td>   -0.0087</td> <td>    0.017</td> <td>   -0.513</td> <td> 0.608</td> <td>   -0.042</td> <td>    0.025</td>\n",
       "</tr>\n",
       "<tr>\n",
       "  <th>R_current_win_streak</th>         <td>   -0.0119</td> <td>    0.009</td> <td>   -1.351</td> <td> 0.177</td> <td>   -0.029</td> <td>    0.005</td>\n",
       "</tr>\n",
       "<tr>\n",
       "  <th>R_draw</th>                       <td>-8.334e-17</td> <td> 4.22e-16</td> <td>   -0.197</td> <td> 0.844</td> <td>-9.11e-16</td> <td> 7.45e-16</td>\n",
       "</tr>\n",
       "<tr>\n",
       "  <th>R_avg_BODY_att</th>               <td>   -0.0066</td> <td>    0.006</td> <td>   -1.080</td> <td> 0.280</td> <td>   -0.018</td> <td>    0.005</td>\n",
       "</tr>\n",
       "<tr>\n",
       "  <th>R_avg_BODY_landed</th>            <td>    0.0067</td> <td>    0.008</td> <td>    0.818</td> <td> 0.413</td> <td>   -0.009</td> <td>    0.023</td>\n",
       "</tr>\n",
       "<tr>\n",
       "  <th>R_avg_CLINCH_att</th>             <td>    0.0075</td> <td>    0.006</td> <td>    1.246</td> <td> 0.213</td> <td>   -0.004</td> <td>    0.019</td>\n",
       "</tr>\n",
       "<tr>\n",
       "  <th>R_avg_CLINCH_landed</th>          <td>   -0.0088</td> <td>    0.008</td> <td>   -1.059</td> <td> 0.290</td> <td>   -0.025</td> <td>    0.007</td>\n",
       "</tr>\n",
       "<tr>\n",
       "  <th>R_avg_DISTANCE_att</th>           <td>   -0.0047</td> <td>    0.003</td> <td>   -1.579</td> <td> 0.114</td> <td>   -0.011</td> <td>    0.001</td>\n",
       "</tr>\n",
       "<tr>\n",
       "  <th>R_avg_DISTANCE_landed</th>        <td>    0.0095</td> <td>    0.004</td> <td>    2.181</td> <td> 0.029</td> <td>    0.001</td> <td>    0.018</td>\n",
       "</tr>\n",
       "<tr>\n",
       "  <th>R_avg_GROUND_att</th>             <td>    0.0091</td> <td>    0.005</td> <td>    1.708</td> <td> 0.088</td> <td>   -0.001</td> <td>    0.020</td>\n",
       "</tr>\n",
       "<tr>\n",
       "  <th>R_avg_GROUND_landed</th>          <td>   -0.0141</td> <td>    0.008</td> <td>   -1.811</td> <td> 0.070</td> <td>   -0.029</td> <td>    0.001</td>\n",
       "</tr>\n",
       "<tr>\n",
       "  <th>R_avg_HEAD_att</th>               <td>    0.0041</td> <td>    0.003</td> <td>    1.245</td> <td> 0.213</td> <td>   -0.002</td> <td>    0.010</td>\n",
       "</tr>\n",
       "<tr>\n",
       "  <th>R_avg_HEAD_landed</th>            <td>   -0.0028</td> <td>    0.005</td> <td>   -0.592</td> <td> 0.554</td> <td>   -0.012</td> <td>    0.006</td>\n",
       "</tr>\n",
       "<tr>\n",
       "  <th>R_avg_KD</th>                     <td>   -0.0413</td> <td>    0.038</td> <td>   -1.077</td> <td> 0.281</td> <td>   -0.117</td> <td>    0.034</td>\n",
       "</tr>\n",
       "<tr>\n",
       "  <th>R_avg_LEG_att</th>                <td>    0.0144</td> <td>    0.007</td> <td>    1.936</td> <td> 0.053</td> <td>   -0.000</td> <td>    0.029</td>\n",
       "</tr>\n",
       "<tr>\n",
       "  <th>R_avg_LEG_landed</th>             <td>   -0.0174</td> <td>    0.009</td> <td>   -1.838</td> <td> 0.066</td> <td>   -0.036</td> <td>    0.001</td>\n",
       "</tr>\n",
       "<tr>\n",
       "  <th>R_avg_PASS</th>                   <td>    0.0144</td> <td>    0.011</td> <td>    1.266</td> <td> 0.206</td> <td>   -0.008</td> <td>    0.037</td>\n",
       "</tr>\n",
       "<tr>\n",
       "  <th>R_avg_REV</th>                    <td>   -0.0682</td> <td>    0.046</td> <td>   -1.478</td> <td> 0.139</td> <td>   -0.159</td> <td>    0.022</td>\n",
       "</tr>\n",
       "<tr>\n",
       "  <th>R_avg_SIG_STR_att</th>            <td>    0.0119</td> <td>    0.005</td> <td>    2.538</td> <td> 0.011</td> <td>    0.003</td> <td>    0.021</td>\n",
       "</tr>\n",
       "<tr>\n",
       "  <th>R_avg_SIG_STR_landed</th>         <td>   -0.0135</td> <td>    0.006</td> <td>   -2.408</td> <td> 0.016</td> <td>   -0.024</td> <td>   -0.003</td>\n",
       "</tr>\n",
       "<tr>\n",
       "  <th>R_avg_SIG_STR_pct</th>            <td>    0.1463</td> <td>    0.140</td> <td>    1.045</td> <td> 0.296</td> <td>   -0.128</td> <td>    0.421</td>\n",
       "</tr>\n",
       "<tr>\n",
       "  <th>R_avg_SUB_ATT</th>                <td>   -0.0020</td> <td>    0.021</td> <td>   -0.093</td> <td> 0.926</td> <td>   -0.043</td> <td>    0.039</td>\n",
       "</tr>\n",
       "<tr>\n",
       "  <th>R_avg_TD_att</th>                 <td>    0.0154</td> <td>    0.009</td> <td>    1.719</td> <td> 0.086</td> <td>   -0.002</td> <td>    0.033</td>\n",
       "</tr>\n",
       "<tr>\n",
       "  <th>R_avg_TD_landed</th>              <td>    0.0065</td> <td>    0.022</td> <td>    0.289</td> <td> 0.773</td> <td>   -0.037</td> <td>    0.050</td>\n",
       "</tr>\n",
       "<tr>\n",
       "  <th>R_avg_TD_pct</th>                 <td>   -0.0045</td> <td>    0.066</td> <td>   -0.068</td> <td> 0.946</td> <td>   -0.134</td> <td>    0.125</td>\n",
       "</tr>\n",
       "<tr>\n",
       "  <th>R_avg_TOTAL_STR_att</th>          <td>   -0.0123</td> <td>    0.006</td> <td>   -1.949</td> <td> 0.051</td> <td>   -0.025</td> <td> 7.83e-05</td>\n",
       "</tr>\n",
       "<tr>\n",
       "  <th>R_avg_TOTAL_STR_landed</th>       <td>    0.0124</td> <td>    0.007</td> <td>    1.762</td> <td> 0.078</td> <td>   -0.001</td> <td>    0.026</td>\n",
       "</tr>\n",
       "<tr>\n",
       "  <th>R_longest_win_streak</th>         <td>   -0.0015</td> <td>    0.011</td> <td>   -0.138</td> <td> 0.890</td> <td>   -0.023</td> <td>    0.020</td>\n",
       "</tr>\n",
       "<tr>\n",
       "  <th>R_losses</th>                     <td>   -0.0124</td> <td>    0.015</td> <td>   -0.822</td> <td> 0.411</td> <td>   -0.042</td> <td>    0.017</td>\n",
       "</tr>\n",
       "<tr>\n",
       "  <th>R_avg_opp_BODY_att</th>           <td>    0.0135</td> <td>    0.006</td> <td>    2.119</td> <td> 0.034</td> <td>    0.001</td> <td>    0.026</td>\n",
       "</tr>\n",
       "<tr>\n",
       "  <th>R_avg_opp_BODY_landed</th>        <td>   -0.0130</td> <td>    0.009</td> <td>   -1.462</td> <td> 0.144</td> <td>   -0.030</td> <td>    0.004</td>\n",
       "</tr>\n",
       "<tr>\n",
       "  <th>R_avg_opp_CLINCH_att</th>         <td>   -0.0022</td> <td>    0.006</td> <td>   -0.374</td> <td> 0.709</td> <td>   -0.013</td> <td>    0.009</td>\n",
       "</tr>\n",
       "<tr>\n",
       "  <th>R_avg_opp_CLINCH_landed</th>      <td>    0.0002</td> <td>    0.008</td> <td>    0.020</td> <td> 0.984</td> <td>   -0.016</td> <td>    0.016</td>\n",
       "</tr>\n",
       "<tr>\n",
       "  <th>R_avg_opp_DISTANCE_att</th>       <td>   -0.0004</td> <td>    0.003</td> <td>   -0.131</td> <td> 0.896</td> <td>   -0.006</td> <td>    0.005</td>\n",
       "</tr>\n",
       "<tr>\n",
       "  <th>R_avg_opp_DISTANCE_landed</th>    <td>    0.0041</td> <td>    0.004</td> <td>    0.957</td> <td> 0.339</td> <td>   -0.004</td> <td>    0.013</td>\n",
       "</tr>\n",
       "<tr>\n",
       "  <th>R_avg_opp_GROUND_att</th>         <td>    0.0128</td> <td>    0.005</td> <td>    2.650</td> <td> 0.008</td> <td>    0.003</td> <td>    0.022</td>\n",
       "</tr>\n",
       "<tr>\n",
       "  <th>R_avg_opp_GROUND_landed</th>      <td>   -0.0189</td> <td>    0.008</td> <td>   -2.483</td> <td> 0.013</td> <td>   -0.034</td> <td>   -0.004</td>\n",
       "</tr>\n",
       "<tr>\n",
       "  <th>R_avg_opp_HEAD_att</th>           <td>    0.0024</td> <td>    0.003</td> <td>    0.701</td> <td> 0.483</td> <td>   -0.004</td> <td>    0.009</td>\n",
       "</tr>\n",
       "<tr>\n",
       "  <th>R_avg_opp_HEAD_landed</th>        <td>   -0.0056</td> <td>    0.005</td> <td>   -1.125</td> <td> 0.261</td> <td>   -0.015</td> <td>    0.004</td>\n",
       "</tr>\n",
       "<tr>\n",
       "  <th>R_avg_opp_KD</th>                 <td>   -0.0653</td> <td>    0.050</td> <td>   -1.311</td> <td> 0.190</td> <td>   -0.163</td> <td>    0.032</td>\n",
       "</tr>\n",
       "<tr>\n",
       "  <th>R_avg_opp_LEG_att</th>            <td>   -0.0056</td> <td>    0.008</td> <td>   -0.697</td> <td> 0.486</td> <td>   -0.021</td> <td>    0.010</td>\n",
       "</tr>\n",
       "<tr>\n",
       "  <th>R_avg_opp_LEG_landed</th>         <td>    0.0039</td> <td>    0.010</td> <td>    0.372</td> <td> 0.710</td> <td>   -0.017</td> <td>    0.024</td>\n",
       "</tr>\n",
       "<tr>\n",
       "  <th>R_avg_opp_PASS</th>               <td>   -0.0043</td> <td>    0.014</td> <td>   -0.315</td> <td> 0.753</td> <td>   -0.031</td> <td>    0.023</td>\n",
       "</tr>\n",
       "<tr>\n",
       "  <th>R_avg_opp_REV</th>                <td>   -0.0118</td> <td>    0.046</td> <td>   -0.254</td> <td> 0.799</td> <td>   -0.103</td> <td>    0.079</td>\n",
       "</tr>\n",
       "<tr>\n",
       "  <th>R_avg_opp_SIG_STR_att</th>        <td>    0.0103</td> <td>    0.004</td> <td>    2.306</td> <td> 0.021</td> <td>    0.002</td> <td>    0.019</td>\n",
       "</tr>\n",
       "<tr>\n",
       "  <th>R_avg_opp_SIG_STR_landed</th>     <td>   -0.0146</td> <td>    0.006</td> <td>   -2.628</td> <td> 0.009</td> <td>   -0.026</td> <td>   -0.004</td>\n",
       "</tr>\n",
       "<tr>\n",
       "  <th>R_avg_opp_SIG_STR_pct</th>        <td>   -0.1616</td> <td>    0.142</td> <td>   -1.140</td> <td> 0.254</td> <td>   -0.440</td> <td>    0.116</td>\n",
       "</tr>\n",
       "<tr>\n",
       "  <th>R_avg_opp_SUB_ATT</th>            <td>    0.0113</td> <td>    0.022</td> <td>    0.522</td> <td> 0.602</td> <td>   -0.031</td> <td>    0.054</td>\n",
       "</tr>\n",
       "<tr>\n",
       "  <th>R_avg_opp_TD_att</th>             <td>    0.0162</td> <td>    0.009</td> <td>    1.856</td> <td> 0.064</td> <td>   -0.001</td> <td>    0.033</td>\n",
       "</tr>\n",
       "<tr>\n",
       "  <th>R_avg_opp_TD_landed</th>          <td>    0.0040</td> <td>    0.023</td> <td>    0.173</td> <td> 0.862</td> <td>   -0.041</td> <td>    0.049</td>\n",
       "</tr>\n",
       "<tr>\n",
       "  <th>R_avg_opp_TD_pct</th>             <td>   -0.0127</td> <td>    0.075</td> <td>   -0.171</td> <td> 0.865</td> <td>   -0.159</td> <td>    0.134</td>\n",
       "</tr>\n",
       "<tr>\n",
       "  <th>R_avg_opp_TOTAL_STR_att</th>      <td>   -0.0131</td> <td>    0.006</td> <td>   -2.349</td> <td> 0.019</td> <td>   -0.024</td> <td>   -0.002</td>\n",
       "</tr>\n",
       "<tr>\n",
       "  <th>R_avg_opp_TOTAL_STR_landed</th>   <td>    0.0144</td> <td>    0.006</td> <td>    2.278</td> <td> 0.023</td> <td>    0.002</td> <td>    0.027</td>\n",
       "</tr>\n",
       "<tr>\n",
       "  <th>R_total_rounds_fought</th>        <td>   -0.0027</td> <td>    0.005</td> <td>   -0.599</td> <td> 0.549</td> <td>   -0.012</td> <td>    0.006</td>\n",
       "</tr>\n",
       "<tr>\n",
       "  <th>R_total_time_fought(seconds)</th> <td>-6.153e-05</td> <td>    0.000</td> <td>   -0.471</td> <td> 0.638</td> <td>   -0.000</td> <td>    0.000</td>\n",
       "</tr>\n",
       "<tr>\n",
       "  <th>R_total_title_bouts</th>          <td>    0.0144</td> <td>    0.008</td> <td>    1.708</td> <td> 0.088</td> <td>   -0.002</td> <td>    0.031</td>\n",
       "</tr>\n",
       "<tr>\n",
       "  <th>R_win_by_Decision_Majority</th>   <td>    0.0257</td> <td>    0.126</td> <td>    0.203</td> <td> 0.839</td> <td>   -0.222</td> <td>    0.274</td>\n",
       "</tr>\n",
       "<tr>\n",
       "  <th>R_win_by_Decision_Split</th>      <td>    0.0123</td> <td>    0.115</td> <td>    0.107</td> <td> 0.915</td> <td>   -0.214</td> <td>    0.239</td>\n",
       "</tr>\n",
       "<tr>\n",
       "  <th>R_win_by_Decision_Unanimous</th>  <td>    0.0725</td> <td>    0.115</td> <td>    0.633</td> <td> 0.527</td> <td>   -0.152</td> <td>    0.297</td>\n",
       "</tr>\n",
       "<tr>\n",
       "  <th>R_win_by_KO/TKO</th>              <td>    0.0794</td> <td>    0.113</td> <td>    0.704</td> <td> 0.482</td> <td>   -0.142</td> <td>    0.300</td>\n",
       "</tr>\n",
       "<tr>\n",
       "  <th>R_win_by_Submission</th>          <td>    0.0736</td> <td>    0.114</td> <td>    0.645</td> <td> 0.519</td> <td>   -0.150</td> <td>    0.298</td>\n",
       "</tr>\n",
       "<tr>\n",
       "  <th>R_win_by_TKO_Doctor_Stoppage</th> <td>    0.0008</td> <td>    0.116</td> <td>    0.007</td> <td> 0.994</td> <td>   -0.227</td> <td>    0.228</td>\n",
       "</tr>\n",
       "<tr>\n",
       "  <th>R_wins</th>                       <td>   -0.0604</td> <td>    0.112</td> <td>   -0.540</td> <td> 0.590</td> <td>   -0.280</td> <td>    0.159</td>\n",
       "</tr>\n",
       "<tr>\n",
       "  <th>R_Height_cms</th>                 <td>   -0.0090</td> <td>    0.003</td> <td>   -3.012</td> <td> 0.003</td> <td>   -0.015</td> <td>   -0.003</td>\n",
       "</tr>\n",
       "<tr>\n",
       "  <th>R_Reach_cms</th>                  <td>    0.0046</td> <td>    0.002</td> <td>    1.929</td> <td> 0.054</td> <td>-7.49e-05</td> <td>    0.009</td>\n",
       "</tr>\n",
       "<tr>\n",
       "  <th>R_Weight_lbs</th>                 <td>    0.0012</td> <td>    0.001</td> <td>    1.200</td> <td> 0.230</td> <td>   -0.001</td> <td>    0.003</td>\n",
       "</tr>\n",
       "<tr>\n",
       "  <th>B_age</th>                        <td>    0.0120</td> <td>    0.003</td> <td>    3.952</td> <td> 0.000</td> <td>    0.006</td> <td>    0.018</td>\n",
       "</tr>\n",
       "<tr>\n",
       "  <th>R_age</th>                        <td>   -0.0116</td> <td>    0.003</td> <td>   -3.745</td> <td> 0.000</td> <td>   -0.018</td> <td>   -0.006</td>\n",
       "</tr>\n",
       "</table>\n",
       "<table class=\"simpletable\">\n",
       "<tr>\n",
       "  <th>Omnibus:</th>       <td>67.965</td> <th>  Durbin-Watson:     </th> <td>   1.956</td>\n",
       "</tr>\n",
       "<tr>\n",
       "  <th>Prob(Omnibus):</th> <td> 0.000</td> <th>  Jarque-Bera (JB):  </th> <td>  37.334</td>\n",
       "</tr>\n",
       "<tr>\n",
       "  <th>Skew:</th>          <td>-0.122</td> <th>  Prob(JB):          </th> <td>7.82e-09</td>\n",
       "</tr>\n",
       "<tr>\n",
       "  <th>Kurtosis:</th>      <td> 2.442</td> <th>  Cond. No.          </th> <td>1.29e+17</td>\n",
       "</tr>\n",
       "</table><br/><br/>Warnings:<br/>[1] Standard Errors assume that the covariance matrix of the errors is correctly specified.<br/>[2] The smallest eigenvalue is 1.57e-25. This might indicate that there are<br/>strong multicollinearity problems or that the design matrix is singular."
      ],
      "text/plain": [
       "<class 'statsmodels.iolib.summary.Summary'>\n",
       "\"\"\"\n",
       "                            OLS Regression Results                            \n",
       "==============================================================================\n",
       "Dep. Variable:                 Winner   R-squared:                       0.139\n",
       "Model:                            OLS   Adj. R-squared:                  0.095\n",
       "Method:                 Least Squares   F-statistic:                     3.144\n",
       "Date:                Tue, 19 Nov 2019   Prob (F-statistic):           3.56e-25\n",
       "Time:                        20:03:00   Log-Likelihood:                -1599.9\n",
       "No. Observations:                2411   AIC:                             3438.\n",
       "Df Residuals:                    2292   BIC:                             4127.\n",
       "Df Model:                         118                                         \n",
       "Covariance Type:            nonrobust                                         \n",
       "================================================================================================\n",
       "                                   coef    std err          t      P>|t|      [0.025      0.975]\n",
       "------------------------------------------------------------------------------------------------\n",
       "const                            1.5090      0.443      3.409      0.001       0.641       2.377\n",
       "title_bout                       0.0874      0.066      1.315      0.189      -0.043       0.218\n",
       "no_of_rounds                    -0.0186      0.024     -0.773      0.440      -0.066       0.029\n",
       "B_current_lose_streak           -0.0196      0.018     -1.099      0.272      -0.055       0.015\n",
       "B_current_win_streak            -0.0119      0.011     -1.111      0.267      -0.033       0.009\n",
       "B_draw                        9.427e-15   1.59e-14      0.591      0.554   -2.18e-14    4.07e-14\n",
       "B_avg_BODY_att                   0.0121      0.005      2.255      0.024       0.002       0.023\n",
       "B_avg_BODY_landed               -0.0188      0.007     -2.642      0.008      -0.033      -0.005\n",
       "B_avg_CLINCH_att                 0.0076      0.005      1.454      0.146      -0.003       0.018\n",
       "B_avg_CLINCH_landed             -0.0115      0.007     -1.627      0.104      -0.025       0.002\n",
       "B_avg_DISTANCE_att              -0.0034      0.003     -1.251      0.211      -0.009       0.002\n",
       "B_avg_DISTANCE_landed            0.0030      0.004      0.768      0.442      -0.005       0.011\n",
       "B_avg_GROUND_att                -0.0028      0.005     -0.603      0.546      -0.012       0.006\n",
       "B_avg_GROUND_landed              0.0039      0.007      0.565      0.572      -0.010       0.017\n",
       "B_avg_HEAD_att                   0.0020      0.003      0.597      0.551      -0.005       0.009\n",
       "B_avg_HEAD_landed               -0.0048      0.005     -1.023      0.307      -0.014       0.004\n",
       "B_avg_KD                         0.0056      0.035      0.161      0.872      -0.062       0.073\n",
       "B_avg_LEG_att                   -0.0127      0.007     -1.778      0.076      -0.027       0.001\n",
       "B_avg_LEG_landed                 0.0190      0.009      2.078      0.038       0.001       0.037\n",
       "B_avg_PASS                       0.0029      0.011      0.254      0.799      -0.019       0.025\n",
       "B_avg_REV                       -0.0502      0.040     -1.244      0.214      -0.129       0.029\n",
       "B_avg_SIG_STR_att                0.0015      0.004      0.337      0.736      -0.007       0.010\n",
       "B_avg_SIG_STR_landed            -0.0046      0.005     -0.870      0.384      -0.015       0.006\n",
       "B_avg_SIG_STR_pct                0.0123      0.129      0.095      0.924      -0.240       0.265\n",
       "B_avg_SUB_ATT                    0.0271      0.019      1.452      0.147      -0.009       0.064\n",
       "B_avg_TD_att                    -0.0167      0.008     -2.037      0.042      -0.033      -0.001\n",
       "B_avg_TD_landed                 -0.0255      0.021     -1.236      0.217      -0.066       0.015\n",
       "B_avg_TD_pct                     0.0618      0.062      1.005      0.315      -0.059       0.183\n",
       "B_avg_TOTAL_STR_att             -0.0012      0.005     -0.226      0.821      -0.012       0.009\n",
       "B_avg_TOTAL_STR_landed           0.0040      0.006      0.673      0.501      -0.008       0.016\n",
       "B_longest_win_streak             0.0085      0.014      0.612      0.540      -0.019       0.036\n",
       "B_losses                         0.0197      0.017      1.161      0.246      -0.014       0.053\n",
       "B_avg_opp_BODY_att              -0.0004      0.006     -0.064      0.949      -0.012       0.011\n",
       "B_avg_opp_BODY_landed            0.0035      0.008      0.458      0.647      -0.011       0.018\n",
       "B_avg_opp_CLINCH_att             0.0031      0.006      0.552      0.581      -0.008       0.014\n",
       "B_avg_opp_CLINCH_landed         -0.0030      0.007     -0.409      0.683      -0.018       0.012\n",
       "B_avg_opp_DISTANCE_att          -0.0004      0.003     -0.155      0.877      -0.005       0.005\n",
       "B_avg_opp_DISTANCE_landed        0.0005      0.004      0.138      0.890      -0.007       0.008\n",
       "B_avg_opp_GROUND_att             0.0003      0.005      0.076      0.940      -0.009       0.009\n",
       "B_avg_opp_GROUND_landed          0.0011      0.006      0.167      0.867      -0.012       0.014\n",
       "B_avg_opp_HEAD_att               0.0054      0.003      1.576      0.115      -0.001       0.012\n",
       "B_avg_opp_HEAD_landed           -0.0069      0.005     -1.465      0.143      -0.016       0.002\n",
       "B_avg_opp_KD                     0.0341      0.042      0.820      0.412      -0.047       0.116\n",
       "B_avg_opp_LEG_att               -0.0020      0.008     -0.251      0.802      -0.018       0.014\n",
       "B_avg_opp_LEG_landed             0.0020      0.010      0.201      0.841      -0.017       0.021\n",
       "B_avg_opp_PASS                  -0.0109      0.011     -1.001      0.317      -0.032       0.010\n",
       "B_avg_opp_REV                    0.0592      0.041      1.435      0.151      -0.022       0.140\n",
       "B_avg_opp_SIG_STR_att            0.0030      0.004      0.677      0.499      -0.006       0.012\n",
       "B_avg_opp_SIG_STR_landed        -0.0015      0.005     -0.272      0.785      -0.012       0.009\n",
       "B_avg_opp_SIG_STR_pct           -0.0165      0.124     -0.133      0.894      -0.259       0.226\n",
       "B_avg_opp_SUB_ATT                0.0289      0.021      1.377      0.169      -0.012       0.070\n",
       "B_avg_opp_TD_att                -0.0027      0.008     -0.351      0.726      -0.018       0.012\n",
       "B_avg_opp_TD_landed             -0.0167      0.019     -0.858      0.391      -0.055       0.021\n",
       "B_avg_opp_TD_pct                 0.0956      0.063      1.510      0.131      -0.029       0.220\n",
       "B_avg_opp_TOTAL_STR_att         -0.0070      0.005     -1.286      0.199      -0.018       0.004\n",
       "B_avg_opp_TOTAL_STR_landed       0.0097      0.006      1.574      0.116      -0.002       0.022\n",
       "B_total_rounds_fought           -0.0078      0.005     -1.419      0.156      -0.019       0.003\n",
       "B_total_time_fought(seconds)    -0.0002      0.000     -1.363      0.173      -0.000    7.15e-05\n",
       "B_total_title_bouts              0.0122      0.010      1.192      0.233      -0.008       0.032\n",
       "B_win_by_Decision_Majority       0.0026      0.152      0.017      0.987      -0.296       0.301\n",
       "B_win_by_Decision_Split          0.0029      0.135      0.021      0.983      -0.262       0.268\n",
       "B_win_by_Decision_Unanimous     -0.0360      0.135     -0.267      0.790      -0.300       0.228\n",
       "B_win_by_KO/TKO                 -0.0430      0.134     -0.321      0.748      -0.306       0.220\n",
       "B_win_by_Submission             -0.0551      0.134     -0.410      0.682      -0.319       0.208\n",
       "B_win_by_TKO_Doctor_Stoppage    -0.0034      0.138     -0.025      0.980      -0.274       0.267\n",
       "B_wins                           0.0525      0.133      0.395      0.693      -0.208       0.313\n",
       "B_Height_cms                     0.0026      0.003      0.876      0.381      -0.003       0.008\n",
       "B_Reach_cms                     -0.0025      0.002     -1.096      0.273      -0.007       0.002\n",
       "B_Weight_lbs                    -0.0007      0.001     -0.681      0.496      -0.003       0.001\n",
       "R_current_lose_streak           -0.0087      0.017     -0.513      0.608      -0.042       0.025\n",
       "R_current_win_streak            -0.0119      0.009     -1.351      0.177      -0.029       0.005\n",
       "R_draw                       -8.334e-17   4.22e-16     -0.197      0.844   -9.11e-16    7.45e-16\n",
       "R_avg_BODY_att                  -0.0066      0.006     -1.080      0.280      -0.018       0.005\n",
       "R_avg_BODY_landed                0.0067      0.008      0.818      0.413      -0.009       0.023\n",
       "R_avg_CLINCH_att                 0.0075      0.006      1.246      0.213      -0.004       0.019\n",
       "R_avg_CLINCH_landed             -0.0088      0.008     -1.059      0.290      -0.025       0.007\n",
       "R_avg_DISTANCE_att              -0.0047      0.003     -1.579      0.114      -0.011       0.001\n",
       "R_avg_DISTANCE_landed            0.0095      0.004      2.181      0.029       0.001       0.018\n",
       "R_avg_GROUND_att                 0.0091      0.005      1.708      0.088      -0.001       0.020\n",
       "R_avg_GROUND_landed             -0.0141      0.008     -1.811      0.070      -0.029       0.001\n",
       "R_avg_HEAD_att                   0.0041      0.003      1.245      0.213      -0.002       0.010\n",
       "R_avg_HEAD_landed               -0.0028      0.005     -0.592      0.554      -0.012       0.006\n",
       "R_avg_KD                        -0.0413      0.038     -1.077      0.281      -0.117       0.034\n",
       "R_avg_LEG_att                    0.0144      0.007      1.936      0.053      -0.000       0.029\n",
       "R_avg_LEG_landed                -0.0174      0.009     -1.838      0.066      -0.036       0.001\n",
       "R_avg_PASS                       0.0144      0.011      1.266      0.206      -0.008       0.037\n",
       "R_avg_REV                       -0.0682      0.046     -1.478      0.139      -0.159       0.022\n",
       "R_avg_SIG_STR_att                0.0119      0.005      2.538      0.011       0.003       0.021\n",
       "R_avg_SIG_STR_landed            -0.0135      0.006     -2.408      0.016      -0.024      -0.003\n",
       "R_avg_SIG_STR_pct                0.1463      0.140      1.045      0.296      -0.128       0.421\n",
       "R_avg_SUB_ATT                   -0.0020      0.021     -0.093      0.926      -0.043       0.039\n",
       "R_avg_TD_att                     0.0154      0.009      1.719      0.086      -0.002       0.033\n",
       "R_avg_TD_landed                  0.0065      0.022      0.289      0.773      -0.037       0.050\n",
       "R_avg_TD_pct                    -0.0045      0.066     -0.068      0.946      -0.134       0.125\n",
       "R_avg_TOTAL_STR_att             -0.0123      0.006     -1.949      0.051      -0.025    7.83e-05\n",
       "R_avg_TOTAL_STR_landed           0.0124      0.007      1.762      0.078      -0.001       0.026\n",
       "R_longest_win_streak            -0.0015      0.011     -0.138      0.890      -0.023       0.020\n",
       "R_losses                        -0.0124      0.015     -0.822      0.411      -0.042       0.017\n",
       "R_avg_opp_BODY_att               0.0135      0.006      2.119      0.034       0.001       0.026\n",
       "R_avg_opp_BODY_landed           -0.0130      0.009     -1.462      0.144      -0.030       0.004\n",
       "R_avg_opp_CLINCH_att            -0.0022      0.006     -0.374      0.709      -0.013       0.009\n",
       "R_avg_opp_CLINCH_landed          0.0002      0.008      0.020      0.984      -0.016       0.016\n",
       "R_avg_opp_DISTANCE_att          -0.0004      0.003     -0.131      0.896      -0.006       0.005\n",
       "R_avg_opp_DISTANCE_landed        0.0041      0.004      0.957      0.339      -0.004       0.013\n",
       "R_avg_opp_GROUND_att             0.0128      0.005      2.650      0.008       0.003       0.022\n",
       "R_avg_opp_GROUND_landed         -0.0189      0.008     -2.483      0.013      -0.034      -0.004\n",
       "R_avg_opp_HEAD_att               0.0024      0.003      0.701      0.483      -0.004       0.009\n",
       "R_avg_opp_HEAD_landed           -0.0056      0.005     -1.125      0.261      -0.015       0.004\n",
       "R_avg_opp_KD                    -0.0653      0.050     -1.311      0.190      -0.163       0.032\n",
       "R_avg_opp_LEG_att               -0.0056      0.008     -0.697      0.486      -0.021       0.010\n",
       "R_avg_opp_LEG_landed             0.0039      0.010      0.372      0.710      -0.017       0.024\n",
       "R_avg_opp_PASS                  -0.0043      0.014     -0.315      0.753      -0.031       0.023\n",
       "R_avg_opp_REV                   -0.0118      0.046     -0.254      0.799      -0.103       0.079\n",
       "R_avg_opp_SIG_STR_att            0.0103      0.004      2.306      0.021       0.002       0.019\n",
       "R_avg_opp_SIG_STR_landed        -0.0146      0.006     -2.628      0.009      -0.026      -0.004\n",
       "R_avg_opp_SIG_STR_pct           -0.1616      0.142     -1.140      0.254      -0.440       0.116\n",
       "R_avg_opp_SUB_ATT                0.0113      0.022      0.522      0.602      -0.031       0.054\n",
       "R_avg_opp_TD_att                 0.0162      0.009      1.856      0.064      -0.001       0.033\n",
       "R_avg_opp_TD_landed              0.0040      0.023      0.173      0.862      -0.041       0.049\n",
       "R_avg_opp_TD_pct                -0.0127      0.075     -0.171      0.865      -0.159       0.134\n",
       "R_avg_opp_TOTAL_STR_att         -0.0131      0.006     -2.349      0.019      -0.024      -0.002\n",
       "R_avg_opp_TOTAL_STR_landed       0.0144      0.006      2.278      0.023       0.002       0.027\n",
       "R_total_rounds_fought           -0.0027      0.005     -0.599      0.549      -0.012       0.006\n",
       "R_total_time_fought(seconds) -6.153e-05      0.000     -0.471      0.638      -0.000       0.000\n",
       "R_total_title_bouts              0.0144      0.008      1.708      0.088      -0.002       0.031\n",
       "R_win_by_Decision_Majority       0.0257      0.126      0.203      0.839      -0.222       0.274\n",
       "R_win_by_Decision_Split          0.0123      0.115      0.107      0.915      -0.214       0.239\n",
       "R_win_by_Decision_Unanimous      0.0725      0.115      0.633      0.527      -0.152       0.297\n",
       "R_win_by_KO/TKO                  0.0794      0.113      0.704      0.482      -0.142       0.300\n",
       "R_win_by_Submission              0.0736      0.114      0.645      0.519      -0.150       0.298\n",
       "R_win_by_TKO_Doctor_Stoppage     0.0008      0.116      0.007      0.994      -0.227       0.228\n",
       "R_wins                          -0.0604      0.112     -0.540      0.590      -0.280       0.159\n",
       "R_Height_cms                    -0.0090      0.003     -3.012      0.003      -0.015      -0.003\n",
       "R_Reach_cms                      0.0046      0.002      1.929      0.054   -7.49e-05       0.009\n",
       "R_Weight_lbs                     0.0012      0.001      1.200      0.230      -0.001       0.003\n",
       "B_age                            0.0120      0.003      3.952      0.000       0.006       0.018\n",
       "R_age                           -0.0116      0.003     -3.745      0.000      -0.018      -0.006\n",
       "==============================================================================\n",
       "Omnibus:                       67.965   Durbin-Watson:                   1.956\n",
       "Prob(Omnibus):                  0.000   Jarque-Bera (JB):               37.334\n",
       "Skew:                          -0.122   Prob(JB):                     7.82e-09\n",
       "Kurtosis:                       2.442   Cond. No.                     1.29e+17\n",
       "==============================================================================\n",
       "\n",
       "Warnings:\n",
       "[1] Standard Errors assume that the covariance matrix of the errors is correctly specified.\n",
       "[2] The smallest eigenvalue is 1.57e-25. This might indicate that there are\n",
       "strong multicollinearity problems or that the design matrix is singular.\n",
       "\"\"\""
      ]
     },
     "execution_count": 28,
     "metadata": {},
     "output_type": "execute_result"
    }
   ],
   "source": [
    "result = preparo(X_train_log,y_train_log)\n",
    "result.summary()"
   ]
  },
  {
   "cell_type": "markdown",
   "metadata": {},
   "source": [
    "   ___\n",
    "## Conclusão Teste 1 :"
   ]
  },
  {
   "cell_type": "markdown",
   "metadata": {},
   "source": [
    "Tendo um acurácia média de 64% em ambos modelos não é um bom resultado, visto que o modelo praticamente sempre tem como resultado o vermelho como vencedor, e como a probabilidade do lutador vermelho ganhar é de 62.12112% ele praticamente só acerta os que o vencedor é o vermelho e erra os que o azul é o vencedor.\n",
    "\n",
    "Assim é possível concluir que é necessário desconsiderar algumas variáveis para melhorar a acurácia."
   ]
  },
  {
   "cell_type": "markdown",
   "metadata": {},
   "source": [
    "   ___\n",
    "## Criando um dataframe dos fatores mais impactantes no resultado segundo o Teste 1:"
   ]
  },
  {
   "cell_type": "code",
   "execution_count": 60,
   "metadata": {},
   "outputs": [],
   "source": [
    "#Fatores que tem o maior peso na decisão da vitória\n",
    "j=1\n",
    "lista_j=list()\n",
    "for i, f in sorted(list(zip(model_random.feature_importances_, X_train_random.columns)), reverse=True):\n",
    "    a=str(j)+'°'\n",
    "    lista_j.append(a)\n",
    "    j+=1"
   ]
  },
  {
   "cell_type": "code",
   "execution_count": 61,
   "metadata": {},
   "outputs": [
    {
     "data": {
      "text/html": [
       "<div>\n",
       "<style scoped>\n",
       "    .dataframe tbody tr th:only-of-type {\n",
       "        vertical-align: middle;\n",
       "    }\n",
       "\n",
       "    .dataframe tbody tr th {\n",
       "        vertical-align: top;\n",
       "    }\n",
       "\n",
       "    .dataframe thead th {\n",
       "        text-align: right;\n",
       "    }\n",
       "</style>\n",
       "<table border=\"1\" class=\"dataframe\">\n",
       "  <thead>\n",
       "    <tr style=\"text-align: right;\">\n",
       "      <th></th>\n",
       "      <th>Fator</th>\n",
       "      <th>Correlação</th>\n",
       "    </tr>\n",
       "    <tr>\n",
       "      <th>Grau de Importância</th>\n",
       "      <th></th>\n",
       "      <th></th>\n",
       "    </tr>\n",
       "  </thead>\n",
       "  <tbody>\n",
       "    <tr>\n",
       "      <th>1°</th>\n",
       "      <td>R_avg_opp_SIG_STR_pct</td>\n",
       "      <td>0.013832</td>\n",
       "    </tr>\n",
       "    <tr>\n",
       "      <th>2°</th>\n",
       "      <td>R_avg_opp_HEAD_landed</td>\n",
       "      <td>0.013196</td>\n",
       "    </tr>\n",
       "  </tbody>\n",
       "</table>\n",
       "</div>"
      ],
      "text/plain": [
       "                                     Fator  Correlação\n",
       "Grau de Importância                                   \n",
       "1°                   R_avg_opp_SIG_STR_pct    0.013832\n",
       "2°                   R_avg_opp_HEAD_landed    0.013196"
      ]
     },
     "execution_count": 61,
     "metadata": {},
     "output_type": "execute_result"
    }
   ],
   "source": [
    "data={'Fator':X_train_random.columns ,'Correlação':model_random.feature_importances_,}\n",
    "Fator_por_corr=pd.DataFrame(data)\n",
    "Fator_por_corr=Fator_por_corr.sort_values(by='Correlação', ascending=False)\n",
    "Fator_por_corr['Grau de Importância']=lista_j\n",
    "Fator_por_corr = Fator_por_corr.set_index('Grau de Importância')\n",
    "Fator_por_corr.head(2)"
   ]
  },
  {
   "cell_type": "markdown",
   "metadata": {},
   "source": [
    "   ___\n",
    "## Escolhendo quais dados devem ser usados nos modelos de predição:"
   ]
  },
  {
   "cell_type": "code",
   "execution_count": 31,
   "metadata": {},
   "outputs": [],
   "source": [
    "def relevancia(df,coluna_nome,coluna_correlacao,acuracia):\n",
    "    inuteis = []\n",
    "    uteis = ['Winner']\n",
    "    for index,row in df.iterrows():\n",
    "        if row[coluna_correlacao] >= -acuracia and row[coluna_correlacao] <= acuracia:\n",
    "            inuteis.append(row[coluna_nome])\n",
    "        else:\n",
    "            uteis.append(row[coluna_nome])\n",
    "    return uteis"
   ]
  },
  {
   "cell_type": "code",
   "execution_count": 32,
   "metadata": {},
   "outputs": [],
   "source": [
    "uteis = relevancia(Fator_por_corr,'Fator','Correlação',0.01)"
   ]
  },
  {
   "cell_type": "code",
   "execution_count": 33,
   "metadata": {
    "scrolled": true
   },
   "outputs": [
    {
     "data": {
      "text/html": [
       "<div>\n",
       "<style scoped>\n",
       "    .dataframe tbody tr th:only-of-type {\n",
       "        vertical-align: middle;\n",
       "    }\n",
       "\n",
       "    .dataframe tbody tr th {\n",
       "        vertical-align: top;\n",
       "    }\n",
       "\n",
       "    .dataframe thead th {\n",
       "        text-align: right;\n",
       "    }\n",
       "</style>\n",
       "<table border=\"1\" class=\"dataframe\">\n",
       "  <thead>\n",
       "    <tr style=\"text-align: right;\">\n",
       "      <th></th>\n",
       "      <th>Winner</th>\n",
       "      <th>R_avg_opp_SIG_STR_pct</th>\n",
       "      <th>R_avg_opp_HEAD_landed</th>\n",
       "      <th>R_avg_opp_SIG_STR_landed</th>\n",
       "      <th>R_age</th>\n",
       "      <th>R_avg_TD_pct</th>\n",
       "      <th>B_avg_DISTANCE_landed</th>\n",
       "      <th>R_avg_opp_BODY_att</th>\n",
       "      <th>B_avg_BODY_att</th>\n",
       "      <th>R_avg_opp_DISTANCE_landed</th>\n",
       "      <th>B_avg_SIG_STR_att</th>\n",
       "      <th>B_avg_DISTANCE_att</th>\n",
       "      <th>R_avg_opp_TOTAL_STR_landed</th>\n",
       "      <th>R_avg_SIG_STR_pct</th>\n",
       "      <th>B_age</th>\n",
       "      <th>B_avg_opp_TOTAL_STR_landed</th>\n",
       "      <th>B_avg_SIG_STR_landed</th>\n",
       "      <th>R_avg_opp_BODY_landed</th>\n",
       "      <th>B_avg_HEAD_att</th>\n",
       "    </tr>\n",
       "  </thead>\n",
       "  <tbody>\n",
       "    <tr>\n",
       "      <th>0</th>\n",
       "      <td>1</td>\n",
       "      <td>0.336000</td>\n",
       "      <td>17.300000</td>\n",
       "      <td>32.200000</td>\n",
       "      <td>32.0</td>\n",
       "      <td>0.458000</td>\n",
       "      <td>20.600000</td>\n",
       "      <td>13.300000</td>\n",
       "      <td>9.200000</td>\n",
       "      <td>26.800000</td>\n",
       "      <td>65.40</td>\n",
       "      <td>62.600000</td>\n",
       "      <td>43.300000</td>\n",
       "      <td>0.466000</td>\n",
       "      <td>31.0</td>\n",
       "      <td>19.200000</td>\n",
       "      <td>22.600000</td>\n",
       "      <td>8.800000</td>\n",
       "      <td>48.600000</td>\n",
       "    </tr>\n",
       "    <tr>\n",
       "      <th>1</th>\n",
       "      <td>1</td>\n",
       "      <td>0.437143</td>\n",
       "      <td>12.428571</td>\n",
       "      <td>44.714286</td>\n",
       "      <td>31.0</td>\n",
       "      <td>0.601429</td>\n",
       "      <td>42.100000</td>\n",
       "      <td>24.571429</td>\n",
       "      <td>14.600000</td>\n",
       "      <td>32.571429</td>\n",
       "      <td>138.90</td>\n",
       "      <td>124.700000</td>\n",
       "      <td>82.285714</td>\n",
       "      <td>0.575714</td>\n",
       "      <td>32.0</td>\n",
       "      <td>75.400000</td>\n",
       "      <td>51.300000</td>\n",
       "      <td>14.142857</td>\n",
       "      <td>112.000000</td>\n",
       "    </tr>\n",
       "    <tr>\n",
       "      <th>2</th>\n",
       "      <td>1</td>\n",
       "      <td>0.340000</td>\n",
       "      <td>23.200000</td>\n",
       "      <td>35.733333</td>\n",
       "      <td>35.0</td>\n",
       "      <td>0.277333</td>\n",
       "      <td>38.580645</td>\n",
       "      <td>14.466667</td>\n",
       "      <td>15.354839</td>\n",
       "      <td>32.200000</td>\n",
       "      <td>97.00</td>\n",
       "      <td>84.741935</td>\n",
       "      <td>38.600000</td>\n",
       "      <td>0.430000</td>\n",
       "      <td>36.0</td>\n",
       "      <td>49.774194</td>\n",
       "      <td>46.774194</td>\n",
       "      <td>8.133333</td>\n",
       "      <td>67.645161</td>\n",
       "    </tr>\n",
       "    <tr>\n",
       "      <th>3</th>\n",
       "      <td>0</td>\n",
       "      <td>0.446250</td>\n",
       "      <td>20.375000</td>\n",
       "      <td>44.875000</td>\n",
       "      <td>29.0</td>\n",
       "      <td>0.103750</td>\n",
       "      <td>48.750000</td>\n",
       "      <td>20.250000</td>\n",
       "      <td>17.000000</td>\n",
       "      <td>38.500000</td>\n",
       "      <td>136.25</td>\n",
       "      <td>109.500000</td>\n",
       "      <td>48.875000</td>\n",
       "      <td>0.366250</td>\n",
       "      <td>26.0</td>\n",
       "      <td>34.250000</td>\n",
       "      <td>70.250000</td>\n",
       "      <td>13.375000</td>\n",
       "      <td>116.250000</td>\n",
       "    </tr>\n",
       "    <tr>\n",
       "      <th>4</th>\n",
       "      <td>0</td>\n",
       "      <td>0.397500</td>\n",
       "      <td>14.000000</td>\n",
       "      <td>22.500000</td>\n",
       "      <td>26.0</td>\n",
       "      <td>0.000000</td>\n",
       "      <td>59.500000</td>\n",
       "      <td>6.250000</td>\n",
       "      <td>17.000000</td>\n",
       "      <td>16.250000</td>\n",
       "      <td>203.50</td>\n",
       "      <td>201.000000</td>\n",
       "      <td>27.750000</td>\n",
       "      <td>0.545000</td>\n",
       "      <td>32.0</td>\n",
       "      <td>90.000000</td>\n",
       "      <td>61.500000</td>\n",
       "      <td>4.750000</td>\n",
       "      <td>184.500000</td>\n",
       "    </tr>\n",
       "  </tbody>\n",
       "</table>\n",
       "</div>"
      ],
      "text/plain": [
       "   Winner  R_avg_opp_SIG_STR_pct  R_avg_opp_HEAD_landed  \\\n",
       "0       1               0.336000              17.300000   \n",
       "1       1               0.437143              12.428571   \n",
       "2       1               0.340000              23.200000   \n",
       "3       0               0.446250              20.375000   \n",
       "4       0               0.397500              14.000000   \n",
       "\n",
       "   R_avg_opp_SIG_STR_landed  R_age  R_avg_TD_pct  B_avg_DISTANCE_landed  \\\n",
       "0                 32.200000   32.0      0.458000              20.600000   \n",
       "1                 44.714286   31.0      0.601429              42.100000   \n",
       "2                 35.733333   35.0      0.277333              38.580645   \n",
       "3                 44.875000   29.0      0.103750              48.750000   \n",
       "4                 22.500000   26.0      0.000000              59.500000   \n",
       "\n",
       "   R_avg_opp_BODY_att  B_avg_BODY_att  R_avg_opp_DISTANCE_landed  \\\n",
       "0           13.300000        9.200000                  26.800000   \n",
       "1           24.571429       14.600000                  32.571429   \n",
       "2           14.466667       15.354839                  32.200000   \n",
       "3           20.250000       17.000000                  38.500000   \n",
       "4            6.250000       17.000000                  16.250000   \n",
       "\n",
       "   B_avg_SIG_STR_att  B_avg_DISTANCE_att  R_avg_opp_TOTAL_STR_landed  \\\n",
       "0              65.40           62.600000                   43.300000   \n",
       "1             138.90          124.700000                   82.285714   \n",
       "2              97.00           84.741935                   38.600000   \n",
       "3             136.25          109.500000                   48.875000   \n",
       "4             203.50          201.000000                   27.750000   \n",
       "\n",
       "   R_avg_SIG_STR_pct  B_age  B_avg_opp_TOTAL_STR_landed  B_avg_SIG_STR_landed  \\\n",
       "0           0.466000   31.0                   19.200000             22.600000   \n",
       "1           0.575714   32.0                   75.400000             51.300000   \n",
       "2           0.430000   36.0                   49.774194             46.774194   \n",
       "3           0.366250   26.0                   34.250000             70.250000   \n",
       "4           0.545000   32.0                   90.000000             61.500000   \n",
       "\n",
       "   R_avg_opp_BODY_landed  B_avg_HEAD_att  \n",
       "0               8.800000       48.600000  \n",
       "1              14.142857      112.000000  \n",
       "2               8.133333       67.645161  \n",
       "3              13.375000      116.250000  \n",
       "4               4.750000      184.500000  "
      ]
     },
     "execution_count": 33,
     "metadata": {},
     "output_type": "execute_result"
    }
   ],
   "source": [
    "data_util_relevante = data_util.loc[:,uteis]\n",
    "data_util_relevante.head()"
   ]
  },
  {
   "cell_type": "markdown",
   "metadata": {},
   "source": [
    "___\n",
    "# Teste 2\n",
    "____"
   ]
  },
  {
   "cell_type": "code",
   "execution_count": 34,
   "metadata": {},
   "outputs": [],
   "source": [
    "x = data_util_relevante.drop('Winner', axis=1)\n",
    "y = data_util_relevante['Winner']"
   ]
  },
  {
   "cell_type": "markdown",
   "metadata": {},
   "source": [
    "\n",
    "## Random Forest -2"
   ]
  },
  {
   "cell_type": "markdown",
   "metadata": {},
   "source": [
    "### Separando os dados em testes e treinamento"
   ]
  },
  {
   "cell_type": "code",
   "execution_count": 35,
   "metadata": {},
   "outputs": [],
   "source": [
    "X_train_random2, X_test_random2, y_train_random2, y_test_random2 = train_test_split(x, y, test_size=0.25)"
   ]
  },
  {
   "cell_type": "code",
   "execution_count": 36,
   "metadata": {},
   "outputs": [
    {
     "data": {
      "text/plain": [
       "RandomForestClassifier(bootstrap=True, class_weight=None, criterion='gini',\n",
       "            max_depth=None, max_features='auto', max_leaf_nodes=None,\n",
       "            min_impurity_decrease=0.0, min_impurity_split=None,\n",
       "            min_samples_leaf=1, min_samples_split=2,\n",
       "            min_weight_fraction_leaf=0.0, n_estimators=10000, n_jobs=None,\n",
       "            oob_score=False, random_state=None, verbose=0,\n",
       "            warm_start=False)"
      ]
     },
     "execution_count": 36,
     "metadata": {},
     "output_type": "execute_result"
    }
   ],
   "source": [
    "model_random2 = RandomForestClassifier(n_estimators=10000)\n",
    "\n",
    "model_random2.fit(X_train_random2, y_train_random2)"
   ]
  },
  {
   "cell_type": "code",
   "execution_count": 37,
   "metadata": {},
   "outputs": [],
   "source": [
    "#X_train_random2.columns"
   ]
  },
  {
   "cell_type": "code",
   "execution_count": 38,
   "metadata": {
    "scrolled": true
   },
   "outputs": [],
   "source": [
    "#model_random2.feature_importances_"
   ]
  },
  {
   "cell_type": "code",
   "execution_count": 39,
   "metadata": {},
   "outputs": [],
   "source": [
    "y_pred_random2 = model_random2.predict(X_test_random2)"
   ]
  },
  {
   "cell_type": "code",
   "execution_count": 40,
   "metadata": {},
   "outputs": [
    {
     "name": "stdout",
     "output_type": "stream",
     "text": [
      "0.6169154228855721\n"
     ]
    }
   ],
   "source": [
    "print(accuracy_score(y_test_random2, y_pred_random2))"
   ]
  },
  {
   "cell_type": "code",
   "execution_count": 41,
   "metadata": {},
   "outputs": [],
   "source": [
    "#y_pred_random2"
   ]
  },
  {
   "cell_type": "code",
   "execution_count": 42,
   "metadata": {
    "scrolled": false
   },
   "outputs": [
    {
     "data": {
      "text/plain": [
       "1    0.606965\n",
       "0    0.373134\n",
       "2    0.019900\n",
       "Name: Winner, dtype: float64"
      ]
     },
     "execution_count": 42,
     "metadata": {},
     "output_type": "execute_result"
    }
   ],
   "source": [
    "y_test_random2.value_counts(True)"
   ]
  },
  {
   "cell_type": "code",
   "execution_count": 43,
   "metadata": {},
   "outputs": [
    {
     "data": {
      "text/plain": [
       "1    2023\n",
       "0    1141\n",
       "2      51\n",
       "Name: Winner, dtype: int64"
      ]
     },
     "execution_count": 43,
     "metadata": {},
     "output_type": "execute_result"
    }
   ],
   "source": [
    "data_util_relevante.Winner.value_counts()"
   ]
  },
  {
   "cell_type": "markdown",
   "metadata": {},
   "source": [
    "___\n",
    "## Montando a Regressão Logística -2\n",
    "\n"
   ]
  },
  {
   "cell_type": "markdown",
   "metadata": {},
   "source": [
    "### Separando os dados em testes e treinamento"
   ]
  },
  {
   "cell_type": "code",
   "execution_count": 44,
   "metadata": {},
   "outputs": [],
   "source": [
    "X_train_log2, X_test_log2, y_train_log2, y_test_log2 = train_test_split(X, Y, test_size=0.25)"
   ]
  },
  {
   "cell_type": "code",
   "execution_count": 45,
   "metadata": {},
   "outputs": [
    {
     "name": "stderr",
     "output_type": "stream",
     "text": [
      "C:\\ProgramData\\Anaconda3\\lib\\site-packages\\sklearn\\linear_model\\logistic.py:758: ConvergenceWarning: lbfgs failed to converge. Increase the number of iterations.\n",
      "  \"of iterations.\", ConvergenceWarning)\n"
     ]
    },
    {
     "data": {
      "text/plain": [
       "LogisticRegression(C=1.0, class_weight=None, dual=False, fit_intercept=True,\n",
       "          intercept_scaling=1, max_iter=300000, multi_class='auto',\n",
       "          n_jobs=None, penalty='l2', random_state=None, solver='lbfgs',\n",
       "          tol=0.0001, verbose=0, warm_start=False)"
      ]
     },
     "execution_count": 45,
     "metadata": {},
     "output_type": "execute_result"
    }
   ],
   "source": [
    "model = LogisticRegression(max_iter=500000,solver='lbfgs', multi_class='auto')\n",
    "\n",
    "model.fit(X_train_log2, y_train_log2)"
   ]
  },
  {
   "cell_type": "code",
   "execution_count": 46,
   "metadata": {},
   "outputs": [],
   "source": [
    "y_pred_log2 = model.predict(X_test_log2)"
   ]
  },
  {
   "cell_type": "code",
   "execution_count": 47,
   "metadata": {},
   "outputs": [
    {
     "name": "stdout",
     "output_type": "stream",
     "text": [
      "0.6393034825870647\n"
     ]
    }
   ],
   "source": [
    "print(accuracy_score(y_test_log2, y_pred_log2))"
   ]
  },
  {
   "cell_type": "code",
   "execution_count": 48,
   "metadata": {},
   "outputs": [],
   "source": [
    "#y_pred_log2"
   ]
  },
  {
   "cell_type": "code",
   "execution_count": 49,
   "metadata": {},
   "outputs": [
    {
     "data": {
      "text/plain": [
       "1.0    0.666667\n",
       "0.0    0.320896\n",
       "2.0    0.012438\n",
       "Name: Winner, dtype: float64"
      ]
     },
     "execution_count": 49,
     "metadata": {},
     "output_type": "execute_result"
    }
   ],
   "source": [
    "y_test_log2.value_counts(True)"
   ]
  },
  {
   "cell_type": "code",
   "execution_count": 50,
   "metadata": {},
   "outputs": [
    {
     "data": {
      "text/plain": [
       "1    2023\n",
       "0    1141\n",
       "2      51\n",
       "Name: Winner, dtype: int64"
      ]
     },
     "execution_count": 50,
     "metadata": {},
     "output_type": "execute_result"
    }
   ],
   "source": [
    "data_util_relevante.Winner.value_counts()"
   ]
  },
  {
   "cell_type": "code",
   "execution_count": 51,
   "metadata": {
    "scrolled": false
   },
   "outputs": [],
   "source": [
    "def preparo(X,Y):\n",
    "    X_cp = sm.add_constant(X)\n",
    "    model = sm.OLS(Y,X_cp,missing='drop')\n",
    "    results = model.fit()\n",
    "    return results"
   ]
  },
  {
   "cell_type": "code",
   "execution_count": 52,
   "metadata": {},
   "outputs": [
    {
     "data": {
      "text/html": [
       "<table class=\"simpletable\">\n",
       "<caption>OLS Regression Results</caption>\n",
       "<tr>\n",
       "  <th>Dep. Variable:</th>         <td>Winner</td>      <th>  R-squared:         </th> <td>   0.064</td>\n",
       "</tr>\n",
       "<tr>\n",
       "  <th>Model:</th>                   <td>OLS</td>       <th>  Adj. R-squared:    </th> <td>   0.059</td>\n",
       "</tr>\n",
       "<tr>\n",
       "  <th>Method:</th>             <td>Least Squares</td>  <th>  F-statistic:       </th> <td>   12.13</td>\n",
       "</tr>\n",
       "<tr>\n",
       "  <th>Date:</th>             <td>Tue, 19 Nov 2019</td> <th>  Prob (F-statistic):</th> <td>4.55e-35</td>\n",
       "</tr>\n",
       "<tr>\n",
       "  <th>Time:</th>                 <td>20:07:08</td>     <th>  Log-Likelihood:    </th> <td> -2264.2</td>\n",
       "</tr>\n",
       "<tr>\n",
       "  <th>No. Observations:</th>      <td>  3215</td>      <th>  AIC:               </th> <td>   4566.</td>\n",
       "</tr>\n",
       "<tr>\n",
       "  <th>Df Residuals:</th>          <td>  3196</td>      <th>  BIC:               </th> <td>   4682.</td>\n",
       "</tr>\n",
       "<tr>\n",
       "  <th>Df Model:</th>              <td>    18</td>      <th>                     </th>     <td> </td>   \n",
       "</tr>\n",
       "<tr>\n",
       "  <th>Covariance Type:</th>      <td>nonrobust</td>    <th>                     </th>     <td> </td>   \n",
       "</tr>\n",
       "</table>\n",
       "<table class=\"simpletable\">\n",
       "<tr>\n",
       "               <td></td>                 <th>coef</th>     <th>std err</th>      <th>t</th>      <th>P>|t|</th>  <th>[0.025</th>    <th>0.975]</th>  \n",
       "</tr>\n",
       "<tr>\n",
       "  <th>const</th>                      <td>    0.8770</td> <td>    0.105</td> <td>    8.383</td> <td> 0.000</td> <td>    0.672</td> <td>    1.082</td>\n",
       "</tr>\n",
       "<tr>\n",
       "  <th>R_avg_opp_SIG_STR_pct</th>      <td>   -0.2191</td> <td>    0.096</td> <td>   -2.272</td> <td> 0.023</td> <td>   -0.408</td> <td>   -0.030</td>\n",
       "</tr>\n",
       "<tr>\n",
       "  <th>R_avg_opp_HEAD_landed</th>      <td>   -0.0011</td> <td>    0.003</td> <td>   -0.381</td> <td> 0.703</td> <td>   -0.007</td> <td>    0.005</td>\n",
       "</tr>\n",
       "<tr>\n",
       "  <th>R_avg_opp_SIG_STR_landed</th>   <td>   -0.0037</td> <td>    0.004</td> <td>   -1.008</td> <td> 0.313</td> <td>   -0.011</td> <td>    0.004</td>\n",
       "</tr>\n",
       "<tr>\n",
       "  <th>R_age</th>                      <td>   -0.0165</td> <td>    0.002</td> <td>   -7.615</td> <td> 0.000</td> <td>   -0.021</td> <td>   -0.012</td>\n",
       "</tr>\n",
       "<tr>\n",
       "  <th>R_avg_TD_pct</th>               <td>    0.1004</td> <td>    0.041</td> <td>    2.464</td> <td> 0.014</td> <td>    0.021</td> <td>    0.180</td>\n",
       "</tr>\n",
       "<tr>\n",
       "  <th>B_avg_DISTANCE_landed</th>      <td>    0.0014</td> <td>    0.005</td> <td>    0.277</td> <td> 0.782</td> <td>   -0.008</td> <td>    0.011</td>\n",
       "</tr>\n",
       "<tr>\n",
       "  <th>R_avg_opp_BODY_att</th>         <td>    0.0018</td> <td>    0.006</td> <td>    0.318</td> <td> 0.750</td> <td>   -0.009</td> <td>    0.013</td>\n",
       "</tr>\n",
       "<tr>\n",
       "  <th>B_avg_BODY_att</th>             <td>   -0.0054</td> <td>    0.003</td> <td>   -1.991</td> <td> 0.047</td> <td>   -0.011</td> <td>-8.35e-05</td>\n",
       "</tr>\n",
       "<tr>\n",
       "  <th>R_avg_opp_DISTANCE_landed</th>  <td>    0.0008</td> <td>    0.002</td> <td>    0.397</td> <td> 0.692</td> <td>   -0.003</td> <td>    0.005</td>\n",
       "</tr>\n",
       "<tr>\n",
       "  <th>B_avg_SIG_STR_att</th>          <td>    0.0028</td> <td>    0.004</td> <td>    0.771</td> <td> 0.441</td> <td>   -0.004</td> <td>    0.010</td>\n",
       "</tr>\n",
       "<tr>\n",
       "  <th>B_avg_DISTANCE_att</th>         <td>   -0.0017</td> <td>    0.003</td> <td>   -0.518</td> <td> 0.605</td> <td>   -0.008</td> <td>    0.005</td>\n",
       "</tr>\n",
       "<tr>\n",
       "  <th>R_avg_opp_TOTAL_STR_landed</th> <td>-7.352e-05</td> <td>    0.001</td> <td>   -0.101</td> <td> 0.919</td> <td>   -0.001</td> <td>    0.001</td>\n",
       "</tr>\n",
       "<tr>\n",
       "  <th>R_avg_SIG_STR_pct</th>          <td>    0.2085</td> <td>    0.085</td> <td>    2.456</td> <td> 0.014</td> <td>    0.042</td> <td>    0.375</td>\n",
       "</tr>\n",
       "<tr>\n",
       "  <th>B_age</th>                      <td>    0.0117</td> <td>    0.002</td> <td>    5.261</td> <td> 0.000</td> <td>    0.007</td> <td>    0.016</td>\n",
       "</tr>\n",
       "<tr>\n",
       "  <th>B_avg_opp_TOTAL_STR_landed</th> <td>    0.0015</td> <td>    0.000</td> <td>    3.888</td> <td> 0.000</td> <td>    0.001</td> <td>    0.002</td>\n",
       "</tr>\n",
       "<tr>\n",
       "  <th>B_avg_SIG_STR_landed</th>       <td>   -0.0016</td> <td>    0.004</td> <td>   -0.366</td> <td> 0.714</td> <td>   -0.010</td> <td>    0.007</td>\n",
       "</tr>\n",
       "<tr>\n",
       "  <th>R_avg_opp_BODY_landed</th>      <td>    0.0028</td> <td>    0.008</td> <td>    0.332</td> <td> 0.740</td> <td>   -0.014</td> <td>    0.019</td>\n",
       "</tr>\n",
       "<tr>\n",
       "  <th>B_avg_HEAD_att</th>             <td>   -0.0023</td> <td>    0.002</td> <td>   -1.225</td> <td> 0.221</td> <td>   -0.006</td> <td>    0.001</td>\n",
       "</tr>\n",
       "</table>\n",
       "<table class=\"simpletable\">\n",
       "<tr>\n",
       "  <th>Omnibus:</th>       <td>223.523</td> <th>  Durbin-Watson:     </th> <td>   1.894</td>\n",
       "</tr>\n",
       "<tr>\n",
       "  <th>Prob(Omnibus):</th> <td> 0.000</td>  <th>  Jarque-Bera (JB):  </th> <td>  95.786</td>\n",
       "</tr>\n",
       "<tr>\n",
       "  <th>Skew:</th>          <td>-0.206</td>  <th>  Prob(JB):          </th> <td>1.59e-21</td>\n",
       "</tr>\n",
       "<tr>\n",
       "  <th>Kurtosis:</th>      <td> 2.262</td>  <th>  Cond. No.          </th> <td>2.20e+03</td>\n",
       "</tr>\n",
       "</table><br/><br/>Warnings:<br/>[1] Standard Errors assume that the covariance matrix of the errors is correctly specified.<br/>[2] The condition number is large, 2.2e+03. This might indicate that there are<br/>strong multicollinearity or other numerical problems."
      ],
      "text/plain": [
       "<class 'statsmodels.iolib.summary.Summary'>\n",
       "\"\"\"\n",
       "                            OLS Regression Results                            \n",
       "==============================================================================\n",
       "Dep. Variable:                 Winner   R-squared:                       0.064\n",
       "Model:                            OLS   Adj. R-squared:                  0.059\n",
       "Method:                 Least Squares   F-statistic:                     12.13\n",
       "Date:                Tue, 19 Nov 2019   Prob (F-statistic):           4.55e-35\n",
       "Time:                        20:07:08   Log-Likelihood:                -2264.2\n",
       "No. Observations:                3215   AIC:                             4566.\n",
       "Df Residuals:                    3196   BIC:                             4682.\n",
       "Df Model:                          18                                         \n",
       "Covariance Type:            nonrobust                                         \n",
       "==============================================================================================\n",
       "                                 coef    std err          t      P>|t|      [0.025      0.975]\n",
       "----------------------------------------------------------------------------------------------\n",
       "const                          0.8770      0.105      8.383      0.000       0.672       1.082\n",
       "R_avg_opp_SIG_STR_pct         -0.2191      0.096     -2.272      0.023      -0.408      -0.030\n",
       "R_avg_opp_HEAD_landed         -0.0011      0.003     -0.381      0.703      -0.007       0.005\n",
       "R_avg_opp_SIG_STR_landed      -0.0037      0.004     -1.008      0.313      -0.011       0.004\n",
       "R_age                         -0.0165      0.002     -7.615      0.000      -0.021      -0.012\n",
       "R_avg_TD_pct                   0.1004      0.041      2.464      0.014       0.021       0.180\n",
       "B_avg_DISTANCE_landed          0.0014      0.005      0.277      0.782      -0.008       0.011\n",
       "R_avg_opp_BODY_att             0.0018      0.006      0.318      0.750      -0.009       0.013\n",
       "B_avg_BODY_att                -0.0054      0.003     -1.991      0.047      -0.011   -8.35e-05\n",
       "R_avg_opp_DISTANCE_landed      0.0008      0.002      0.397      0.692      -0.003       0.005\n",
       "B_avg_SIG_STR_att              0.0028      0.004      0.771      0.441      -0.004       0.010\n",
       "B_avg_DISTANCE_att            -0.0017      0.003     -0.518      0.605      -0.008       0.005\n",
       "R_avg_opp_TOTAL_STR_landed -7.352e-05      0.001     -0.101      0.919      -0.001       0.001\n",
       "R_avg_SIG_STR_pct              0.2085      0.085      2.456      0.014       0.042       0.375\n",
       "B_age                          0.0117      0.002      5.261      0.000       0.007       0.016\n",
       "B_avg_opp_TOTAL_STR_landed     0.0015      0.000      3.888      0.000       0.001       0.002\n",
       "B_avg_SIG_STR_landed          -0.0016      0.004     -0.366      0.714      -0.010       0.007\n",
       "R_avg_opp_BODY_landed          0.0028      0.008      0.332      0.740      -0.014       0.019\n",
       "B_avg_HEAD_att                -0.0023      0.002     -1.225      0.221      -0.006       0.001\n",
       "==============================================================================\n",
       "Omnibus:                      223.523   Durbin-Watson:                   1.894\n",
       "Prob(Omnibus):                  0.000   Jarque-Bera (JB):               95.786\n",
       "Skew:                          -0.206   Prob(JB):                     1.59e-21\n",
       "Kurtosis:                       2.262   Cond. No.                     2.20e+03\n",
       "==============================================================================\n",
       "\n",
       "Warnings:\n",
       "[1] Standard Errors assume that the covariance matrix of the errors is correctly specified.\n",
       "[2] The condition number is large, 2.2e+03. This might indicate that there are\n",
       "strong multicollinearity or other numerical problems.\n",
       "\"\"\""
      ]
     },
     "execution_count": 52,
     "metadata": {},
     "output_type": "execute_result"
    }
   ],
   "source": [
    "result = preparo(x,y)\n",
    "result.summary()"
   ]
  },
  {
   "cell_type": "markdown",
   "metadata": {},
   "source": [
    "___\n",
    "## Conclusão Teste 2"
   ]
  },
  {
   "cell_type": "markdown",
   "metadata": {},
   "source": [
    "Após a retirada dos dados considerados inúteis pelo primeiro modelo a acurácia de ambos modelos subiu um pouco, antes com uma média de 64% e agora com uma de 68%, ainda é considerada baixa levando em consideração a maioria das vitórias pelo lado vermelho (62.12112%). Se o modelo só tivesse como resultado vermelho a quantidade de acertos seria quase a mesma.\n",
    "\n",
    "Para melhorar a acurâcia pode-se diminuir ainda mais o número de variáveis que o modelo usa ou até separar os dados por classe de Peso ou feminino e masculino."
   ]
  },
  {
   "cell_type": "markdown",
   "metadata": {},
   "source": [
    "   ___\n",
    "## Criando um dataframe dos fatores mais impactantes no resultado segundo o Teste 2:"
   ]
  },
  {
   "cell_type": "code",
   "execution_count": 63,
   "metadata": {},
   "outputs": [],
   "source": [
    "j2=1\n",
    "lista_j2=list()\n",
    "for i, f in sorted(list(zip(model_random2.feature_importances_, X_train_random2.columns)), reverse=True):\n",
    "    \n",
    "    a=str(j)+'°'\n",
    "    lista_j2.append(a)\n",
    "    j2+=1"
   ]
  },
  {
   "cell_type": "code",
   "execution_count": 66,
   "metadata": {},
   "outputs": [
    {
     "ename": "ValueError",
     "evalue": "Length of values does not match length of index",
     "output_type": "error",
     "traceback": [
      "\u001b[1;31m---------------------------------------------------------------------------\u001b[0m",
      "\u001b[1;31mValueError\u001b[0m                                Traceback (most recent call last)",
      "\u001b[1;32m<ipython-input-66-af91c5e3e795>\u001b[0m in \u001b[0;36m<module>\u001b[1;34m\u001b[0m\n\u001b[0;32m      2\u001b[0m \u001b[0mFator_por_corr2\u001b[0m\u001b[1;33m=\u001b[0m\u001b[0mpd\u001b[0m\u001b[1;33m.\u001b[0m\u001b[0mDataFrame\u001b[0m\u001b[1;33m(\u001b[0m\u001b[0mdata_util_relevante\u001b[0m\u001b[1;33m)\u001b[0m\u001b[1;33m\u001b[0m\u001b[1;33m\u001b[0m\u001b[0m\n\u001b[0;32m      3\u001b[0m \u001b[1;31m#Fator_por_corr2=Fator_por_corr2.sort_values(by='Correlacao', ascending=False)\u001b[0m\u001b[1;33m\u001b[0m\u001b[1;33m\u001b[0m\u001b[1;33m\u001b[0m\u001b[0m\n\u001b[1;32m----> 4\u001b[1;33m \u001b[0mFator_por_corr2\u001b[0m\u001b[1;33m[\u001b[0m\u001b[1;34m'Grau de Importância'\u001b[0m\u001b[1;33m]\u001b[0m\u001b[1;33m=\u001b[0m\u001b[0mlista_j2\u001b[0m\u001b[1;33m\u001b[0m\u001b[1;33m\u001b[0m\u001b[0m\n\u001b[0m\u001b[0;32m      5\u001b[0m \u001b[0mFator_por_corr2\u001b[0m \u001b[1;33m=\u001b[0m \u001b[0mFator_por_corr2\u001b[0m\u001b[1;33m.\u001b[0m\u001b[0mset_index\u001b[0m\u001b[1;33m(\u001b[0m\u001b[1;34m'Grau de Importância'\u001b[0m\u001b[1;33m)\u001b[0m\u001b[1;33m\u001b[0m\u001b[1;33m\u001b[0m\u001b[0m\n\u001b[0;32m      6\u001b[0m \u001b[0mFator_por_corr2\u001b[0m\u001b[1;33m.\u001b[0m\u001b[0mhead\u001b[0m\u001b[1;33m(\u001b[0m\u001b[1;36m2\u001b[0m\u001b[1;33m)\u001b[0m\u001b[1;33m\u001b[0m\u001b[1;33m\u001b[0m\u001b[0m\n",
      "\u001b[1;32mC:\\ProgramData\\Anaconda3\\lib\\site-packages\\pandas\\core\\frame.py\u001b[0m in \u001b[0;36m__setitem__\u001b[1;34m(self, key, value)\u001b[0m\n\u001b[0;32m   3117\u001b[0m         \u001b[1;32melse\u001b[0m\u001b[1;33m:\u001b[0m\u001b[1;33m\u001b[0m\u001b[1;33m\u001b[0m\u001b[0m\n\u001b[0;32m   3118\u001b[0m             \u001b[1;31m# set column\u001b[0m\u001b[1;33m\u001b[0m\u001b[1;33m\u001b[0m\u001b[1;33m\u001b[0m\u001b[0m\n\u001b[1;32m-> 3119\u001b[1;33m             \u001b[0mself\u001b[0m\u001b[1;33m.\u001b[0m\u001b[0m_set_item\u001b[0m\u001b[1;33m(\u001b[0m\u001b[0mkey\u001b[0m\u001b[1;33m,\u001b[0m \u001b[0mvalue\u001b[0m\u001b[1;33m)\u001b[0m\u001b[1;33m\u001b[0m\u001b[1;33m\u001b[0m\u001b[0m\n\u001b[0m\u001b[0;32m   3120\u001b[0m \u001b[1;33m\u001b[0m\u001b[0m\n\u001b[0;32m   3121\u001b[0m     \u001b[1;32mdef\u001b[0m \u001b[0m_setitem_slice\u001b[0m\u001b[1;33m(\u001b[0m\u001b[0mself\u001b[0m\u001b[1;33m,\u001b[0m \u001b[0mkey\u001b[0m\u001b[1;33m,\u001b[0m \u001b[0mvalue\u001b[0m\u001b[1;33m)\u001b[0m\u001b[1;33m:\u001b[0m\u001b[1;33m\u001b[0m\u001b[1;33m\u001b[0m\u001b[0m\n",
      "\u001b[1;32mC:\\ProgramData\\Anaconda3\\lib\\site-packages\\pandas\\core\\frame.py\u001b[0m in \u001b[0;36m_set_item\u001b[1;34m(self, key, value)\u001b[0m\n\u001b[0;32m   3192\u001b[0m \u001b[1;33m\u001b[0m\u001b[0m\n\u001b[0;32m   3193\u001b[0m         \u001b[0mself\u001b[0m\u001b[1;33m.\u001b[0m\u001b[0m_ensure_valid_index\u001b[0m\u001b[1;33m(\u001b[0m\u001b[0mvalue\u001b[0m\u001b[1;33m)\u001b[0m\u001b[1;33m\u001b[0m\u001b[1;33m\u001b[0m\u001b[0m\n\u001b[1;32m-> 3194\u001b[1;33m         \u001b[0mvalue\u001b[0m \u001b[1;33m=\u001b[0m \u001b[0mself\u001b[0m\u001b[1;33m.\u001b[0m\u001b[0m_sanitize_column\u001b[0m\u001b[1;33m(\u001b[0m\u001b[0mkey\u001b[0m\u001b[1;33m,\u001b[0m \u001b[0mvalue\u001b[0m\u001b[1;33m)\u001b[0m\u001b[1;33m\u001b[0m\u001b[1;33m\u001b[0m\u001b[0m\n\u001b[0m\u001b[0;32m   3195\u001b[0m         \u001b[0mNDFrame\u001b[0m\u001b[1;33m.\u001b[0m\u001b[0m_set_item\u001b[0m\u001b[1;33m(\u001b[0m\u001b[0mself\u001b[0m\u001b[1;33m,\u001b[0m \u001b[0mkey\u001b[0m\u001b[1;33m,\u001b[0m \u001b[0mvalue\u001b[0m\u001b[1;33m)\u001b[0m\u001b[1;33m\u001b[0m\u001b[1;33m\u001b[0m\u001b[0m\n\u001b[0;32m   3196\u001b[0m \u001b[1;33m\u001b[0m\u001b[0m\n",
      "\u001b[1;32mC:\\ProgramData\\Anaconda3\\lib\\site-packages\\pandas\\core\\frame.py\u001b[0m in \u001b[0;36m_sanitize_column\u001b[1;34m(self, key, value, broadcast)\u001b[0m\n\u001b[0;32m   3389\u001b[0m \u001b[1;33m\u001b[0m\u001b[0m\n\u001b[0;32m   3390\u001b[0m             \u001b[1;31m# turn me into an ndarray\u001b[0m\u001b[1;33m\u001b[0m\u001b[1;33m\u001b[0m\u001b[1;33m\u001b[0m\u001b[0m\n\u001b[1;32m-> 3391\u001b[1;33m             \u001b[0mvalue\u001b[0m \u001b[1;33m=\u001b[0m \u001b[0m_sanitize_index\u001b[0m\u001b[1;33m(\u001b[0m\u001b[0mvalue\u001b[0m\u001b[1;33m,\u001b[0m \u001b[0mself\u001b[0m\u001b[1;33m.\u001b[0m\u001b[0mindex\u001b[0m\u001b[1;33m,\u001b[0m \u001b[0mcopy\u001b[0m\u001b[1;33m=\u001b[0m\u001b[1;32mFalse\u001b[0m\u001b[1;33m)\u001b[0m\u001b[1;33m\u001b[0m\u001b[1;33m\u001b[0m\u001b[0m\n\u001b[0m\u001b[0;32m   3392\u001b[0m             \u001b[1;32mif\u001b[0m \u001b[1;32mnot\u001b[0m \u001b[0misinstance\u001b[0m\u001b[1;33m(\u001b[0m\u001b[0mvalue\u001b[0m\u001b[1;33m,\u001b[0m \u001b[1;33m(\u001b[0m\u001b[0mnp\u001b[0m\u001b[1;33m.\u001b[0m\u001b[0mndarray\u001b[0m\u001b[1;33m,\u001b[0m \u001b[0mIndex\u001b[0m\u001b[1;33m)\u001b[0m\u001b[1;33m)\u001b[0m\u001b[1;33m:\u001b[0m\u001b[1;33m\u001b[0m\u001b[1;33m\u001b[0m\u001b[0m\n\u001b[0;32m   3393\u001b[0m                 \u001b[1;32mif\u001b[0m \u001b[0misinstance\u001b[0m\u001b[1;33m(\u001b[0m\u001b[0mvalue\u001b[0m\u001b[1;33m,\u001b[0m \u001b[0mlist\u001b[0m\u001b[1;33m)\u001b[0m \u001b[1;32mand\u001b[0m \u001b[0mlen\u001b[0m\u001b[1;33m(\u001b[0m\u001b[0mvalue\u001b[0m\u001b[1;33m)\u001b[0m \u001b[1;33m>\u001b[0m \u001b[1;36m0\u001b[0m\u001b[1;33m:\u001b[0m\u001b[1;33m\u001b[0m\u001b[1;33m\u001b[0m\u001b[0m\n",
      "\u001b[1;32mC:\\ProgramData\\Anaconda3\\lib\\site-packages\\pandas\\core\\series.py\u001b[0m in \u001b[0;36m_sanitize_index\u001b[1;34m(data, index, copy)\u001b[0m\n\u001b[0;32m   3999\u001b[0m \u001b[1;33m\u001b[0m\u001b[0m\n\u001b[0;32m   4000\u001b[0m     \u001b[1;32mif\u001b[0m \u001b[0mlen\u001b[0m\u001b[1;33m(\u001b[0m\u001b[0mdata\u001b[0m\u001b[1;33m)\u001b[0m \u001b[1;33m!=\u001b[0m \u001b[0mlen\u001b[0m\u001b[1;33m(\u001b[0m\u001b[0mindex\u001b[0m\u001b[1;33m)\u001b[0m\u001b[1;33m:\u001b[0m\u001b[1;33m\u001b[0m\u001b[1;33m\u001b[0m\u001b[0m\n\u001b[1;32m-> 4001\u001b[1;33m         \u001b[1;32mraise\u001b[0m \u001b[0mValueError\u001b[0m\u001b[1;33m(\u001b[0m\u001b[1;34m'Length of values does not match length of '\u001b[0m \u001b[1;34m'index'\u001b[0m\u001b[1;33m)\u001b[0m\u001b[1;33m\u001b[0m\u001b[1;33m\u001b[0m\u001b[0m\n\u001b[0m\u001b[0;32m   4002\u001b[0m \u001b[1;33m\u001b[0m\u001b[0m\n\u001b[0;32m   4003\u001b[0m     \u001b[1;32mif\u001b[0m \u001b[0misinstance\u001b[0m\u001b[1;33m(\u001b[0m\u001b[0mdata\u001b[0m\u001b[1;33m,\u001b[0m \u001b[0mABCIndexClass\u001b[0m\u001b[1;33m)\u001b[0m \u001b[1;32mand\u001b[0m \u001b[1;32mnot\u001b[0m \u001b[0mcopy\u001b[0m\u001b[1;33m:\u001b[0m\u001b[1;33m\u001b[0m\u001b[1;33m\u001b[0m\u001b[0m\n",
      "\u001b[1;31mValueError\u001b[0m: Length of values does not match length of index"
     ]
    }
   ],
   "source": [
    "data={'Fator':X_train_random2.columns ,'Correlacao':model_random2.feature_importances_,}\n",
    "Fator_por_corr2=pd.DataFrame(data_util_relevante)\n",
    "#Fator_por_corr2=Fator_por_corr2.sort_values(by='Correlacao', ascending=False)\n",
    "Fator_por_corr2['Grau de Importância']=lista_j2\n",
    "Fator_por_corr2 = Fator_por_corr2.set_index('Grau de Importância')\n",
    "Fator_por_corr2.head(2)"
   ]
  },
  {
   "cell_type": "code",
   "execution_count": 61,
   "metadata": {},
   "outputs": [
    {
     "data": {
      "text/html": [
       "<div>\n",
       "<style scoped>\n",
       "    .dataframe tbody tr th:only-of-type {\n",
       "        vertical-align: middle;\n",
       "    }\n",
       "\n",
       "    .dataframe tbody tr th {\n",
       "        vertical-align: top;\n",
       "    }\n",
       "\n",
       "    .dataframe thead th {\n",
       "        text-align: right;\n",
       "    }\n",
       "</style>\n",
       "<table border=\"1\" class=\"dataframe\">\n",
       "  <thead>\n",
       "    <tr style=\"text-align: right;\">\n",
       "      <th></th>\n",
       "      <th>Fator</th>\n",
       "      <th>Correlação</th>\n",
       "    </tr>\n",
       "    <tr>\n",
       "      <th>Grau de Importância</th>\n",
       "      <th></th>\n",
       "      <th></th>\n",
       "    </tr>\n",
       "  </thead>\n",
       "  <tbody>\n",
       "    <tr>\n",
       "      <th>1°</th>\n",
       "      <td>R_avg_opp_SIG_STR_pct</td>\n",
       "      <td>0.013832</td>\n",
       "    </tr>\n",
       "    <tr>\n",
       "      <th>2°</th>\n",
       "      <td>R_avg_opp_HEAD_landed</td>\n",
       "      <td>0.013196</td>\n",
       "    </tr>\n",
       "  </tbody>\n",
       "</table>\n",
       "</div>"
      ],
      "text/plain": [
       "                                     Fator  Correlação\n",
       "Grau de Importância                                   \n",
       "1°                   R_avg_opp_SIG_STR_pct    0.013832\n",
       "2°                   R_avg_opp_HEAD_landed    0.013196"
      ]
     },
     "execution_count": 61,
     "metadata": {},
     "output_type": "execute_result"
    }
   ],
   "source": [
    "data={'Fator':X_train_random.columns ,'Correlação':model_random.feature_importances_,}\n",
    "Fator_por_corr=pd.DataFrame(data)\n",
    "Fator_por_corr=Fator_por_corr.sort_values(by='Correlação', ascending=False)\n",
    "Fator_por_corr['Grau de Importância']=lista_j\n",
    "Fator_por_corr = Fator_por_corr.set_index('Grau de Importância')\n",
    "Fator_por_corr.head(2)"
   ]
  },
  {
   "cell_type": "markdown",
   "metadata": {},
   "source": [
    "   ___\n",
    "## Escolhendo quais dados devem ser usados nos modelos de predição:"
   ]
  },
  {
   "cell_type": "code",
   "execution_count": null,
   "metadata": {},
   "outputs": [],
   "source": [
    "def relevancia(df,coluna_nome,coluna_correlacao,acuracia):\n",
    "    inuteis = []\n",
    "    uteis = ['Winner']\n",
    "    for index,row in df.iterrows():\n",
    "        if row[coluna_correlacao] >= -acuracia and row[coluna_correlacao] <= acuracia:\n",
    "            inuteis.append(row[coluna_nome])\n",
    "        else:\n",
    "            uteis.append(row[coluna_nome])\n",
    "    return uteis"
   ]
  },
  {
   "cell_type": "code",
   "execution_count": null,
   "metadata": {},
   "outputs": [],
   "source": [
    "uteis2 = relevancia(Fator_por_corr2,'Fator','Correlação',0.05)"
   ]
  },
  {
   "cell_type": "code",
   "execution_count": null,
   "metadata": {},
   "outputs": [],
   "source": []
  },
  {
   "cell_type": "markdown",
   "metadata": {},
   "source": [
    "## Teste 3"
   ]
  },
  {
   "cell_type": "markdown",
   "metadata": {},
   "source": [
    "   ___\n",
    "## Referências"
   ]
  },
  {
   "cell_type": "markdown",
   "metadata": {},
   "source": [
    "[Como usar a biblioteca Scikit-lear](https://scikit-learn.org/stable/modules/linear_model.html#logistic-regression)\n",
    "\n",
    "[Como funciona o Random Forest](https://towardsdatascience.com/understanding-random-forest-58381e0602d2)\n",
    "\n",
    "[Referencia do Random Forest Classifier](https://scikit-learn.org/stable/modules/generated/sklearn.ensemble.RandomForestClassifier.html)\n",
    "\n",
    "[Como funciona regressão linear](https://www.saedsayad.com/logistic_regression.htm)\n",
    "\n",
    "[Como usar a Regressão Linear](https://scikit-learn.org/stable/modules/generated/sklearn.linear_model.LinearRegression.html)\n",
    "\n"
   ]
  },
  {
   "cell_type": "code",
   "execution_count": 97,
   "metadata": {
    "scrolled": true
   },
   "outputs": [
    {
     "ename": "AttributeError",
     "evalue": "'dict' object has no attribute 'loc'",
     "output_type": "error",
     "traceback": [
      "\u001b[1;31m---------------------------------------------------------------------------\u001b[0m",
      "\u001b[1;31mAttributeError\u001b[0m                            Traceback (most recent call last)",
      "\u001b[1;32m<ipython-input-97-34b43fab187b>\u001b[0m in \u001b[0;36m<module>\u001b[1;34m\u001b[0m\n\u001b[0;32m      2\u001b[0m \u001b[0mlista_locB\u001b[0m \u001b[1;33m=\u001b[0m \u001b[1;33m[\u001b[0m\u001b[1;34m\"B_fighter\"\u001b[0m\u001b[1;33m,\u001b[0m \u001b[1;34m\"weight_class\"\u001b[0m\u001b[1;33m,\u001b[0m\u001b[1;34m\"B_Height_cms\"\u001b[0m\u001b[1;33m,\u001b[0m\u001b[1;34m\"B_Reach_cms\"\u001b[0m\u001b[1;33m,\u001b[0m\u001b[1;34m\"B_Weight_lbs\"\u001b[0m\u001b[1;33m,\u001b[0m\u001b[1;34m\"B_age\"\u001b[0m\u001b[1;33m]\u001b[0m\u001b[1;33m\u001b[0m\u001b[1;33m\u001b[0m\u001b[0m\n\u001b[0;32m      3\u001b[0m \u001b[0mlista_locR\u001b[0m \u001b[1;33m=\u001b[0m \u001b[1;33m[\u001b[0m\u001b[1;34m\"R_fighter\"\u001b[0m\u001b[1;33m,\u001b[0m \u001b[1;34m\"weight_class\"\u001b[0m\u001b[1;33m,\u001b[0m\u001b[1;34m\"R_Height_cms\"\u001b[0m\u001b[1;33m,\u001b[0m\u001b[1;34m\"R_Reach_cms\"\u001b[0m\u001b[1;33m,\u001b[0m\u001b[1;34m\"R_Weight_lbs\"\u001b[0m\u001b[1;33m,\u001b[0m\u001b[1;34m\"R_age\"\u001b[0m\u001b[1;33m]\u001b[0m\u001b[1;33m\u001b[0m\u001b[1;33m\u001b[0m\u001b[0m\n\u001b[1;32m----> 4\u001b[1;33m \u001b[0mdata_red\u001b[0m \u001b[1;33m=\u001b[0m \u001b[0mdata\u001b[0m\u001b[1;33m.\u001b[0m\u001b[0mloc\u001b[0m\u001b[1;33m[\u001b[0m\u001b[1;33m:\u001b[0m \u001b[1;33m,\u001b[0m \u001b[0mlista_locR\u001b[0m\u001b[1;33m]\u001b[0m\u001b[1;33m\u001b[0m\u001b[1;33m\u001b[0m\u001b[0m\n\u001b[0m\u001b[0;32m      5\u001b[0m \u001b[0mdata_blue\u001b[0m \u001b[1;33m=\u001b[0m \u001b[0mdata\u001b[0m\u001b[1;33m.\u001b[0m\u001b[0mloc\u001b[0m\u001b[1;33m[\u001b[0m\u001b[1;33m:\u001b[0m \u001b[1;33m,\u001b[0m \u001b[0mlista_locB\u001b[0m\u001b[1;33m]\u001b[0m\u001b[1;33m\u001b[0m\u001b[1;33m\u001b[0m\u001b[0m\n\u001b[0;32m      6\u001b[0m \u001b[1;33m\u001b[0m\u001b[0m\n",
      "\u001b[1;31mAttributeError\u001b[0m: 'dict' object has no attribute 'loc'"
     ]
    }
   ],
   "source": [
    "#criando um novo dataframe\n",
    "lista_locB = [\"B_fighter\", \"weight_class\",\"B_Height_cms\",\"B_Reach_cms\",\"B_Weight_lbs\",\"B_age\"]\n",
    "lista_locR = [\"R_fighter\", \"weight_class\",\"R_Height_cms\",\"R_Reach_cms\",\"R_Weight_lbs\",\"R_age\"]\n",
    "data_red = data.loc[: , lista_locR]\n",
    "data_blue = data.loc[: , lista_locB]\n",
    "\n",
    "data_blue.columns = [\"Fighter\",\"Weight_class\",\"Height_cms\",\"Reach_cms\",\"Weight_lbs\",\"Age\"]\n",
    "data_red.columns = [\"Fighter\",\"Weight_class\",\"Height_cms\",\"Reach_cms\",\"Weight_lbs\",\"Age\"]\n",
    "\n",
    "data_red.head(2)"
   ]
  },
  {
   "cell_type": "code",
   "execution_count": null,
   "metadata": {
    "scrolled": true
   },
   "outputs": [],
   "source": [
    "newdataR = pd.DataFrame()\n",
    "\n",
    "\n",
    "namelist = []\n",
    "\n",
    "for n in range(0,5143):\n",
    "    if data_red.loc[n,:][\"Fighter\"] not in namelist:\n",
    "        namelist.append(data_red.loc[n,:][\"Fighter\"])\n",
    "        newdataR = pd.concat([newdataR,data_red.loc[n,:]], axis=1, join='outer')\n",
    "\n",
    "newdataR = newdataR.transpose()\n",
    "\n",
    "newdataR.head(2)"
   ]
  },
  {
   "cell_type": "code",
   "execution_count": null,
   "metadata": {
    "scrolled": true
   },
   "outputs": [],
   "source": [
    "newdataB = pd.DataFrame()\n",
    "\n",
    "namelist = []\n",
    "\n",
    "for n in range(0,5143):\n",
    "    if data_blue.loc[n,:][\"Fighter\"] not in namelist:\n",
    "        namelist.append(data_blue.loc[n,:][\"Fighter\"])\n",
    "        newdataB = pd.concat([newdataB,data_blue.loc[n,:]], axis=1, join='outer')\n",
    "\n",
    "newdataB = newdataB.transpose()\n",
    "\n",
    "newdataB.head(2)"
   ]
  },
  {
   "cell_type": "code",
   "execution_count": null,
   "metadata": {
    "scrolled": true
   },
   "outputs": [],
   "source": [
    "newdata = pd.concat([newdataB, newdataR], axis=0, join='outer', ignore_index=False, keys=None,levels=None, names=None, verify_integrity=False, copy=True)\n",
    "newdata = newdata.set_index(\"Fighter\")\n",
    "\n",
    "newdata.head(2)"
   ]
  },
  {
   "cell_type": "code",
   "execution_count": null,
   "metadata": {},
   "outputs": [],
   "source": []
  }
 ],
 "metadata": {
  "kernelspec": {
   "display_name": "Python 3",
   "language": "python",
   "name": "python3"
  },
  "language_info": {
   "codemirror_mode": {
    "name": "ipython",
    "version": 3
   },
   "file_extension": ".py",
   "mimetype": "text/x-python",
   "name": "python",
   "nbconvert_exporter": "python",
   "pygments_lexer": "ipython3",
   "version": "3.7.1"
  }
 },
 "nbformat": 4,
 "nbformat_minor": 4
}
