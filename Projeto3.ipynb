{
 "cells": [
  {
   "cell_type": "markdown",
   "metadata": {},
   "source": [
    "# Projeto 3 - Ciência dos Dados\n",
    "___"
   ]
  },
  {
   "cell_type": "markdown",
   "metadata": {},
   "source": [
    "#  Preditor de vitórias de lutas do UFC"
   ]
  },
  {
   "cell_type": "markdown",
   "metadata": {},
   "source": [
    "  "
   ]
  },
  {
   "cell_type": "markdown",
   "metadata": {},
   "source": [
    "Nome: Victor Vergara Arcoverde de Albuquerque Cavalcanti\n",
    "\n",
    "Nome: Edgard Ortiz Neto\n",
    "\n",
    "Nome: Gabriel Yamashita\n",
    "\n",
    "Nome: Henrique Mualem Marti\n",
    "\n"
   ]
  },
  {
   "cell_type": "markdown",
   "metadata": {},
   "source": [
    "  ___\n",
    "## Objetivo:"
   ]
  },
  {
   "cell_type": "markdown",
   "metadata": {},
   "source": [
    "### O objetivo desse projeto é fazer um modelo preditivo baseado em técnicas de aprendizado de máquina (*machine learning*) para prever qual lutador ganhará uma luta do UFC baseado no seu histórico. Para isso serão usados os dados de todas as lutas do UFC (mais de 5 mil), os lutadores, seus históricos e outros dados da luta, a fim de descobrir quais os fatores dos lutadores que impactam mais no resultado das lutas. \n",
    "### Assim esse projeto poderia ser usado para apostadores nas lutas de UFC e os próprios atlétas que participam nessas lutas, pois seria possível comparar os seus dados e os de seus oponentes, assim sabendo como está em relação a eles e quais fatores seria melhor treinar ou manter a fim de manter uma vantagem sobre eles."
   ]
  },
  {
   "cell_type": "markdown",
   "metadata": {},
   "source": [
    "[Database utilizado](https://www.kaggle.com/rajeevw/ufcdata#data.csv)"
   ]
  },
  {
   "cell_type": "markdown",
   "metadata": {},
   "source": [
    "____\n",
    "## Método escolhido:\n",
    "\n",
    "\n"
   ]
  },
  {
   "cell_type": "markdown",
   "metadata": {},
   "source": [
    "    "
   ]
  },
  {
   "cell_type": "markdown",
   "metadata": {},
   "source": [
    "\n",
    "\n",
    "### Random Forest:\n",
    "#### Esse método usa várias árvores de decisão, ou seja várias maneiras diferentes de chegar no resultado fianal, a cada nível das árvores é usado um dos fatoresque determinan o resultado final, geralmente os com maiores pesos são os primeiros. A árvore  que melhor se adequa, a que tem menos erros, com os nossos dados e o resultado que queremos (nesse caso quem é o vencedor da luta) é a utilizada pelo modelo.\n",
    "\n",
    "![Diagrama Random Forest](randomforest2.png)\n",
    "\n",
    "[Exemplo de uma árvore de decisão para prever a temperatura atual](https://miro.medium.com/max/2128/1*H3nZElqhfOE35AFAq8gy0A.png)\n"
   ]
  },
  {
   "cell_type": "markdown",
   "metadata": {},
   "source": [
    "\n",
    "### Regressão Logística:\n",
    "#### Esse método usa a função abaixo que vai sempre tender a 0 ou a 1, assim sendo um classificador binário. Ele atribui um coeficiente (β) para cada fator levado em consideração, sendo que o fator que tem um maior impacto no resultado final tem um coeficiente maior.\n",
    "\n",
    "$$Prob(y = 1 | X = x) = \\frac{1}{1 + e^{-\\left(\\beta_0 + \\beta_1 x_1 + \\beta_2 x_2\\right)}}$$\n",
    "\n",
    "![Gráfico Regressão Logística](re_log.png)\n",
    "\n",
    "[Gráfico da Regressão Logística](https://miro.medium.com/max/2128/1*H3nZElqhfOE35AFAq8gy0A.png)"
   ]
  },
  {
   "cell_type": "markdown",
   "metadata": {},
   "source": [
    "## Naive Bayes:"
   ]
  },
  {
   "cell_type": "markdown",
   "metadata": {},
   "source": [
    "#### Naive Bayes geralmente é utilizado para variaveis discretas, como para classificação e contagem de palavras. Na teoria o método funciona com numeros inteiros, mas na pratica pode acabar funcionando com variaveis continuas também "
   ]
  },
  {
   "cell_type": "markdown",
   "metadata": {},
   "source": [
    " ___\n",
    "## Preparando o ambiente no jupyter:"
   ]
  },
  {
   "cell_type": "markdown",
   "metadata": {},
   "source": [
    "\n",
    "### Imports:"
   ]
  },
  {
   "cell_type": "code",

   "execution_count": 219,

   "metadata": {
    "jupyter": {
     "outputs_hidden": true
    }
   },
   "outputs": [],
   "source": [
    "import math\n",
    "import os.path\n",
    "import pandas as pd\n",
    "import numpy as np\n",
    "import matplotlib\n",
    "import matplotlib.pyplot as plt\n",
    "import json\n",
    "import random\n",
    "import statsmodels.api as sm\n",
    "import seaborn as sns\n",
    "\n",
    "from sklearn.feature_extraction.text import CountVectorizer\n",
    "from sklearn.metrics import accuracy_score\n",
    "from sklearn.naive_bayes import MultinomialNB\n",
    "\n",
    "from sklearn.pipeline import Pipeline\n",
    "from sklearn.ensemble import RandomForestClassifier\n",
    "from sklearn.linear_model import LogisticRegression\n",
    "from sklearn.model_selection import train_test_split\n",
    "from sklearn.naive_bayes import MultinomialNB"
   ]
  },
  {
   "cell_type": "markdown",
   "metadata": {},
   "source": [
    "\n",
    "### Trabalhando com os Excels:"
   ]
  },
  {
   "cell_type": "code",
   "execution_count": 2,
   "metadata": {},
   "outputs": [
    {
     "data": {
      "text/html": [
       "<div>\n",
       "<style scoped>\n",
       "    .dataframe tbody tr th:only-of-type {\n",
       "        vertical-align: middle;\n",
       "    }\n",
       "\n",
       "    .dataframe tbody tr th {\n",
       "        vertical-align: top;\n",
       "    }\n",
       "\n",
       "    .dataframe thead th {\n",
       "        text-align: right;\n",
       "    }\n",
       "</style>\n",
       "<table border=\"1\" class=\"dataframe\">\n",
       "  <thead>\n",
       "    <tr style=\"text-align: right;\">\n",
       "      <th></th>\n",
       "      <th>R_fighter</th>\n",
       "      <th>B_fighter</th>\n",
       "      <th>Referee</th>\n",
       "      <th>date</th>\n",
       "      <th>location</th>\n",
       "      <th>Winner</th>\n",
       "      <th>title_bout</th>\n",
       "      <th>weight_class</th>\n",
       "      <th>no_of_rounds</th>\n",
       "      <th>B_current_lose_streak</th>\n",
       "      <th>...</th>\n",
       "      <th>R_win_by_KO/TKO</th>\n",
       "      <th>R_win_by_Submission</th>\n",
       "      <th>R_win_by_TKO_Doctor_Stoppage</th>\n",
       "      <th>R_wins</th>\n",
       "      <th>R_Stance</th>\n",
       "      <th>R_Height_cms</th>\n",
       "      <th>R_Reach_cms</th>\n",
       "      <th>R_Weight_lbs</th>\n",
       "      <th>B_age</th>\n",
       "      <th>R_age</th>\n",
       "    </tr>\n",
       "  </thead>\n",
       "  <tbody>\n",
       "    <tr>\n",
       "      <th>0</th>\n",
       "      <td>Henry Cejudo</td>\n",
       "      <td>Marlon Moraes</td>\n",
       "      <td>Marc Goddard</td>\n",
       "      <td>2019</td>\n",
       "      <td>Chicago, Illinois, USA</td>\n",
       "      <td>Red</td>\n",
       "      <td>True</td>\n",
       "      <td>Bantamweight</td>\n",
       "      <td>5</td>\n",
       "      <td>0</td>\n",
       "      <td>...</td>\n",
       "      <td>2</td>\n",
       "      <td>0</td>\n",
       "      <td>0</td>\n",
       "      <td>8</td>\n",
       "      <td>Orthodox</td>\n",
       "      <td>162.56</td>\n",
       "      <td>162.56</td>\n",
       "      <td>135.0</td>\n",
       "      <td>31.0</td>\n",
       "      <td>32.0</td>\n",
       "    </tr>\n",
       "    <tr>\n",
       "      <th>1</th>\n",
       "      <td>Valentina Shevchenko</td>\n",
       "      <td>Jessica Eye</td>\n",
       "      <td>Robert Madrigal</td>\n",
       "      <td>2019</td>\n",
       "      <td>Chicago, Illinois, USA</td>\n",
       "      <td>Red</td>\n",
       "      <td>True</td>\n",
       "      <td>Women's Flyweight</td>\n",
       "      <td>5</td>\n",
       "      <td>0</td>\n",
       "      <td>...</td>\n",
       "      <td>0</td>\n",
       "      <td>2</td>\n",
       "      <td>0</td>\n",
       "      <td>5</td>\n",
       "      <td>Southpaw</td>\n",
       "      <td>165.10</td>\n",
       "      <td>167.64</td>\n",
       "      <td>125.0</td>\n",
       "      <td>32.0</td>\n",
       "      <td>31.0</td>\n",
       "    </tr>\n",
       "  </tbody>\n",
       "</table>\n",
       "<p>2 rows × 145 columns</p>\n",
       "</div>"
      ],
      "text/plain": [
       "              R_fighter      B_fighter          Referee  date  \\\n",
       "0          Henry Cejudo  Marlon Moraes     Marc Goddard  2019   \n",
       "1  Valentina Shevchenko    Jessica Eye  Robert Madrigal  2019   \n",
       "\n",
       "                 location Winner  title_bout       weight_class  no_of_rounds  \\\n",
       "0  Chicago, Illinois, USA    Red        True       Bantamweight             5   \n",
       "1  Chicago, Illinois, USA    Red        True  Women's Flyweight             5   \n",
       "\n",
       "   B_current_lose_streak  ...    R_win_by_KO/TKO  R_win_by_Submission  \\\n",
       "0                      0  ...                  2                    0   \n",
       "1                      0  ...                  0                    2   \n",
       "\n",
       "   R_win_by_TKO_Doctor_Stoppage  R_wins  R_Stance  R_Height_cms  R_Reach_cms  \\\n",
       "0                             0       8  Orthodox        162.56       162.56   \n",
       "1                             0       5  Southpaw        165.10       167.64   \n",
       "\n",
       "   R_Weight_lbs  B_age  R_age  \n",
       "0         135.0   31.0   32.0  \n",
       "1         125.0   32.0   31.0  \n",
       "\n",
       "[2 rows x 145 columns]"
      ]
     },
     "execution_count": 2,
     "metadata": {},
     "output_type": "execute_result"
    }
   ],
   "source": [
    "data = pd.read_excel(\"data.xlsx\")\n",
    "data.head(2)"
   ]
  },
  {
   "cell_type": "markdown",
   "metadata": {},
   "source": [
    "#### Sobre o nosso Dataframe"
   ]
  },
  {
   "cell_type": "markdown",
   "metadata": {},
   "source": [
    "   O nosso dataframe consiste em uma coleção de dados de todas as lutas da história do UFC, desde 1993 até 2019, contando com profundas informações dos lutadores do evento, como o histórico do lutador, resultados das últimas lutas, idade e até dados de cada embate, por exemplo de quantos golpes foram desferidos na cabeça do adversário naquele específico combate.\n",
    "   \n",
    "   Após o dataframe ser lido e exibido pela biblioteca do Pandas, nós nos deparamos com uma tabela que separa as lutas pelas cores dos lados do ringue, sendo o \"R_fighter\" o lutador do lado vermelho e o \"B_fighter\" o oponente do lado azul e é assim que se divide as estatísticas das lutas em geral, no caso as informações do lado vermelho começam com o prefixo \"R_\" e segue o mesmo padrão com o lado azul (\"B_\")."
   ]
  },
  {
   "cell_type": "code",
   "execution_count": null,
   "metadata": {},
   "outputs": [],
   "source": [
    "data.weight_class = data.weight_class.astype('category')\n",
    "data.Winner = data.Winner.astype('category')"
   ]
  },
  {
   "cell_type": "markdown",
   "metadata": {},
   "source": [
    "### Análise Exploratória"
   ]
  },
  {
   "cell_type": "code",
   "execution_count": null,
   "metadata": {
    "scrolled": true
   },
   "outputs": [],
   "source": [
    "print(data.Winner.value_counts())\n",
    "ratio=3470/(3470+1591+83)\n",
    "print('Porcentagem de vitórias dos lutadores do lado vermelho:',ratio*100,'%')"
   ]
  },
  {
   "cell_type": "markdown",
   "metadata": {},
   "source": [
    "Como o objetivo do projeto é prever de qual lado/cor é o lutador vencedor do combate, fizemos uma contagem do número de vitórias de cada lado."
   ]
  },
  {
   "cell_type": "code",
   "execution_count": null,
   "metadata": {},
   "outputs": [],
   "source": [
    "plt.title(\"Red wins vs Blue wins\")\n",
    "data.Winner.value_counts().plot(kind='pie', colors=['red','blue','white'], autopct=\"%0.2f\",legend=False);"
   ]
  },
  {
   "cell_type": "markdown",
   "metadata": {},
   "source": [
    "Após plotar o gráfico da frequência relativa da vitória em seus respectivos lados, pudermos perceber que o lado vermelho acumula 67,46% das vitórias enquanto apenas 30,93% do lado azul, desbancando uma ideia inicial de igualdade entre os lados em relação às vitórias. "
   ]
  },
  {
   "cell_type": "markdown",
   "metadata": {},
   "source": [
    "Uma vez sabendo que os lutadores campeões lutam pelo lado vermelho, pensamos que talvez o lado vermelho poderia ter alguma vantagem na porcentagem de vitórias, já que geralmente os campeões são considerados melhores que a maioria de seus oponentes.\n",
    "Portanto, resolvemos plotar um gráfico a fim de analisar esta vantagem e como esperado, os campeões realmente ganham mais que os desafiantes, cerca de uma proporção 4 para 1."
   ]
  },
  {
   "cell_type": "code",
   "execution_count": null,
   "metadata": {},
   "outputs": [],
   "source": [
    "graf_winner_with_title = data.loc[: , [\"Winner\", \"title_bout\"]]\n",
    "graf_winner_with_title1 = graf_winner_with_title.loc[(graf_winner_with_title.title_bout==True),:]\n",
    "plt.title(\"Red wins vs Blue wins em disputas pelo título\")\n",
    "graf_winner_with_title1.Winner.value_counts().plot(kind='pie', colors=['red','blue',\"white\"],autopct=\"%0.2f\",legend=False);"
   ]
  },
  {
   "cell_type": "markdown",
   "metadata": {},
   "source": [
    "Porém, quantas vezes ocorrem disputas por títulos de modo que possa alterar tão significantemente a porcentagem de vitórias dos lados?\n",
    "Para isso, plotamos um gráfico da ocorrência relativa das disputas:"
   ]
  },
  {
   "cell_type": "code",
   "execution_count": null,
   "metadata": {},
   "outputs": [],
   "source": [
    "plt.title(\"Porcentagem de lutas pelo título\")\n",
    "data['title_bout'].value_counts().plot(kind='pie', colors=['green','gold'],autopct=\"%0.2f\",legend=False);"
   ]
  },
  {
   "cell_type": "markdown",
   "metadata": {},
   "source": [
    "De todas as lutas que ocorreram no UFC, 7% são disputas por títulos, mostrando-se uma quantia pequena mas relativamente relevante em relação ao total."
   ]
  },
  {
   "cell_type": "markdown",
   "metadata": {},
   "source": [
    "Agora, para saber se esta vantagem se da apenas pelo fato do lado vermelho ser o campeão, decidimos fazer o mesmo gráfico de  vitórias do Red x vitórias do Blue mas apenas pelas lutas que não disputam o cinturão:"
   ]
  },
  {
   "cell_type": "code",
   "execution_count": null,
   "metadata": {},
   "outputs": [],
   "source": [
    "graf_winner_with_title = data.loc[: , [\"Winner\", \"title_bout\"]]\n",
    "graf_winner_with_title1 = graf_winner_with_title.loc[(graf_winner_with_title.title_bout==False),:]\n",
    "plt.title(\"Red wins vs Blue wins sem disputa pelo título\")\n",
    "graf_winner_with_title1.Winner.value_counts().plot(kind='pie', colors=['red','blue',\"white\"],autopct=\"%0.2f\",legend=False);"
   ]
  },
  {
   "cell_type": "markdown",
   "metadata": {},
   "source": [
    "Como resultado, é possível analisar que mesmo em lutas quais não disputam o título, a vantagem do lado vermelho se mantém. Mas o que explicaria isso?\n",
    "\n",
    "Após pesquisas, descobrimos que o lado vermelho, na maioria das vezes, é defendido por lutadores \"favoritos\" das apostas, ou seja, são lutadores apontados como os possíveis vencedores do confronto devido aos seus últimos resultados nos recentes embates e/ou o \"status\" que o lutador possui."
   ]
  },
  {
   "cell_type": "markdown",
   "metadata": {},
   "source": [
    "##### Mudando de assunto, queriamos saber como é distribuída as categorias de peso no UFC, para futuras análises..."
   ]
  },
  {
   "cell_type": "code",
   "execution_count": null,
   "metadata": {},
   "outputs": [],
   "source": [
    "plt.figure(figsize=(20,15))\n",
    "plt.title(\"Fighters distribuition by weight\")\n",
    "data['weight_class'].value_counts().plot(kind='pie',autopct=\"%0.2f\",legend=False);"
   ]
  },
  {
   "cell_type": "markdown",
   "metadata": {},
   "source": [
    "Após o plot do gráfico, resolvemos dividir as categorias por gênero:"
   ]
  },
  {
   "cell_type": "code",
   "execution_count": null,
   "metadata": {},
   "outputs": [],
   "source": [
    "data_mulher = data.loc[(data.weight_class==\"Women's Bantamweight\")|\n",
    "                       (data.weight_class==\"Women's Featherweight\")|\n",
    "                       (data.weight_class==\"Women's Flyweight\")|\n",
    "                       (data.weight_class==\"Women's Strawweight\"),:]\n",
    "plt.title(\"Women's distribuition by weight\")\n",
    "data_mulher.weight_class.value_counts().plot(kind='pie',autopct=\"%0.2f\",legend=False);"
   ]
  },
  {
   "cell_type": "markdown",
   "metadata": {},
   "source": [
    "São 4 categorias de peso para as mulheres. Destacando-se entre os pesos galos (\"Bantamweight\") e palha (\"Strawweight\")."
   ]
  },
  {
   "cell_type": "code",
   "execution_count": null,
   "metadata": {},
   "outputs": [],
   "source": [
    "data_homem = data.loc[(data.weight_class==\"Flyweight\")|\n",
    "                       (data.weight_class==\"Bantamweight\")|\n",
    "                       (data.weight_class==\"Featherweight\")|\n",
    "                       (data.weight_class==\"Lightweight\")|\n",
    "                       (data.weight_class==\"Welterweight\")|\n",
    "                       (data.weight_class==\"Middleweight\")|\n",
    "                       (data.weight_class==\"Light Heavyweight\")|\n",
    "                       (data.weight_class==\"Heavyweight\"),:]\n",
    "plt.title(\"Men's distribuition by weight\")\n",
    "data_homem.weight_class.value_counts().plot(kind='pie',autopct=\"%0.2f\",legend=False);"
   ]
  },
  {
   "cell_type": "markdown",
   "metadata": {},
   "source": [
    "São 8 categorias na divisão masculina, distribuídas majoritariamente entre os pesos leves (\"Lightweights\"), meio-médios (\"Welterweight\") e médios (\"Middleweight\"). "
   ]
  },
  {
   "cell_type": "markdown",
   "metadata": {},
   "source": [
    "Vamos ver se a superioridade do vermelho sobre o azul prevalece no gênero masculino..."
   ]
  },
  {
   "cell_type": "code",
   "execution_count": null,
   "metadata": {},
   "outputs": [],
   "source": [
    "plt.title(\"Red wins vs Blue wins among men's\")\n",
    "data_homem.Winner.value_counts().plot(kind='pie', colors=['red','blue',\"white\"],autopct=\"%0.2f\",legend=False);"
   ]
  },
  {
   "cell_type": "markdown",
   "metadata": {},
   "source": [
    "Vamos ver se a superioridade do vermelho sobre o azul prevalece também no gênero feminino..."
   ]
  },
  {
   "cell_type": "code",
   "execution_count": null,
   "metadata": {},
   "outputs": [],
   "source": [
    "plt.title(\"Red wins vs Blue wins among women's\")\n",
    "data_mulher.Winner.value_counts().plot(kind='pie', colors=['red','blue',\"white\"],autopct=\"%0.2f\",legend=False);"
   ]
  },
  {
   "cell_type": "markdown",
   "metadata": {},
   "source": [
    "Apesar de ser mais equilibrado, ainda prevalece a vantagem."
   ]
  },
  {
   "cell_type": "markdown",
   "metadata": {},
   "source": [
    "Por fim, vamos analisar se as categorias/pesos também afetam a quantidade de vitórias de cada lado."
   ]
  },
  {
   "cell_type": "markdown",
   "metadata": {},
   "source": [
    "Mas primeiro vamos fazer algumas funções...\n",
    "A primeira, vamos determinar todos os pesos de qualquer divisão de gênero.\n",
    "Enquanto na segunda vamos plotar os gráficos de vitórias entre os lados vermelhos e azuis para os homens."
   ]
  },
  {
   "cell_type": "code",
   "execution_count": null,
   "metadata": {},
   "outputs": [],
   "source": [
    "def pesos(df_pesos):\n",
    "    data_homem_pesos = []\n",
    "    for i in df_pesos:\n",
    "        if i not in data_homem_pesos:\n",
    "            data_homem_pesos.append(i)\n",
    "    return data_homem_pesos"
   ]
  },
  {
   "cell_type": "code",
   "execution_count": null,
   "metadata": {},
   "outputs": [],
   "source": [
    "def plota_graficos_por_peso(df):\n",
    "    v=0\n",
    "    i=-1\n",
    "    for p in pesos(df.weight_class):\n",
    "        v = data_homem.Winner.loc[(df.weight_class==p)]\n",
    "        v.value_counts().plot(kind='pie',colors=['red','blue',\"white\"],autopct=\"%0.2f\",legend=False);\n",
    "        plt.title(p)\n",
    "        plt.figure(i)\n",
    "        i+=1\n",
    "    return None"
   ]
  },
  {
   "cell_type": "markdown",
   "metadata": {},
   "source": [
    "Vamos exibir todos os gráficos de todas as vitórias dos lados em cada categoria masculina."
   ]
  },
  {
   "cell_type": "code",
   "execution_count": null,
   "metadata": {},
   "outputs": [],
   "source": [
    "plota_graficos_por_peso(data_homem)"
   ]
  },
  {
   "cell_type": "markdown",
   "metadata": {},
   "source": [
    "Após a observação dos gráficos, é possivel concluir que o lado vermelho sempre leva vantagem, principalmente nas categorias mais pesadas, como o peso médio (\"Middleweight\"), meio pesado (\"Light Heavyweight\") e pesado (\"Heavyweight\")."
   ]
  },
  {
   "cell_type": "markdown",
   "metadata": {},
   "source": [
    "#### Processando e filtrando os dados"
   ]
  },
  {
   "cell_type": "markdown",
   "metadata": {},
   "source": [
    "Primeiro vamos passar todos os \"booleanos\" das colunas de Embates pelo título (\"tilte_bout\") e dos lados vitoriosos (\"Winner\") para inteiros, a fim de ficar mais fácil o processo de filtração dos dados."
   ]
  },
  {
   "cell_type": "code",
   "execution_count": null,
   "metadata": {},
   "outputs": [],
   "source": [
    "#Escolhendo apenas as lutas entre lutadores da classe 'Heavyweight', pois as característica\n",
    "#data_heavy = data.loc[(data.weight_class=='Heavyweight'),:]\n",
    "bool_to_number = {False: 0, True: 1}\n",
    "string_to_number = {'Blue': 0, 'Red': 1, 'Draw': 2}\n",
    "data['title_bout'] = data['title_bout'].map(bool_to_number)\n",
    "data['Winner'] = data['Winner'].map(string_to_number)\n",
    "data.head(2)"
   ]
  },
  {
   "cell_type": "markdown",
   "metadata": {},
   "source": [
    "#### É importante que fique claro que a partir de agora o lado vermelho (\"Red\") vale 1, o lado azul (\"Blue\") vale 0 e os empates (\"Draws\") valem 2."
   ]
  },
  {
   "cell_type": "markdown",
   "metadata": {},
   "source": [
    "Pelo senso comum do grupo, uma medida \"radical\" de filtração de dados foi tomada, as colunas que envolviam o árbitro (\"Referee\"), a data e local (\"date\" e \"location\", respectivamente) foram excluídas por não afetarem o resultado."
   ]
  },
  {
   "cell_type": "code",
   "execution_count": null,
   "metadata": {},
   "outputs": [],
   "source": [
    "data_util = data.drop(['Referee','date','location'], axis=1)\n",
    "#dados que não se relacionam com os lutadores ou seus resultado"
   ]
  },
  {
   "cell_type": "code",
   "execution_count": null,
   "metadata": {
    "scrolled": true
   },
   "outputs": [],
   "source": [
    "data_util.head(2)"
   ]
  },
  {
   "cell_type": "markdown",
   "metadata": {},
   "source": [
    "Utilizamos o comando \".dropna()\" para tirar todas as linhas com dados não disponíveis."
   ]
  },
  {
   "cell_type": "code",
   "execution_count": null,
   "metadata": {},
   "outputs": [],
   "source": [
    "data_util.dropna()\n",
    "data_util.head(2)"
   ]
  },
  {
   "cell_type": "markdown",
   "metadata": {},
   "source": [
    "Vamos separar as colunas de categóricas e numéricas para nos ajudar nos modelos preditivos (quais apenas serão utilizados dados numéricos)."
   ]
  },
  {
   "cell_type": "code",
   "execution_count": null,
   "metadata": {},
   "outputs": [],
   "source": [
    "#desconsiderando os dados categóricos para o teste\n",
    "categoricas = [\n",
    "    'R_fighter', \n",
    "    'B_fighter', \n",
    "    'weight_class', \n",
    "    'R_Stance', \n",
    "    'B_Stance', \n",
    "]\n",
    "\n",
    "data_cat = data_util[categoricas].astype('category')\n",
    "data_num = data_util.drop(categoricas, axis=1).astype('float')"
   ]
  },
  {
   "cell_type": "markdown",
   "metadata": {},
   "source": [
    "Para definir quais variáveis/colunas vão ser uteis para o nosso classificador, vamos, primeiramente, fazer uma primeira iteração e após sua conclusão, vamos pegar a correlação de cada coluna com a qual nós queremos prever, no caso a \"Winner\" (que nos diz qual cor ganhou tal combate), a fim de poder selecionar apenas as colunas com uma correlação maior, isto é, as que fazem mais \"sentido\" para o projeto."
   ]
  },
  {
   "cell_type": "markdown",
   "metadata": {},
   "source": [
    "___\n",
    "# Teste 1\n",
    "___"
   ]
  },
  {
   "cell_type": "code",
   "execution_count": null,
   "metadata": {},
   "outputs": [],
   "source": [
    "X = data_num.drop('Winner', axis=1)\n",
    "Y = data_num['Winner']"
   ]
  },
  {
   "cell_type": "markdown",
   "metadata": {},
   "source": [
    "\n",
    "## Random Forest 1"
   ]
  },
  {
   "cell_type": "markdown",
   "metadata": {},
   "source": [
    "### Separando os dados em testes e treinamento"
   ]
  },
  {
   "cell_type": "code",
   "execution_count": null,
   "metadata": {},
   "outputs": [],
   "source": [
    "X_train_random, X_test_random, y_train_random, y_test_random = train_test_split(X, Y, test_size=0.25)"
   ]
  },
  {
   "cell_type": "code",
   "execution_count": null,
   "metadata": {},
   "outputs": [],
   "source": [
    "model_random = RandomForestClassifier(n_estimators=10000)\n",
    "\n",
    "model_random.fit(X_train_random, y_train_random)"
   ]
  },
  {
   "cell_type": "markdown",
   "metadata": {},
   "source": [
    "\n",
    "### Verificando a performance \n"
   ]
  },
  {
   "cell_type": "code",
   "execution_count": null,
   "metadata": {},
   "outputs": [],
   "source": [
    "y_pred_random = model_random.predict(X_test_random)"
   ]
  },
  {
   "cell_type": "code",
   "execution_count": null,
   "metadata": {},
   "outputs": [],
   "source": [
    "print('Acurácia do modelo:',accuracy_score(y_test_random, y_pred_random))"
   ]
  },
  {
   "cell_type": "code",
   "execution_count": null,
   "metadata": {
    "scrolled": false
   },
   "outputs": [],
   "source": [
    "y_test_random.value_counts(True)"
   ]
  },
  {
   "cell_type": "code",
   "execution_count": null,
   "metadata": {},
   "outputs": [],
   "source": [
    "data_num.Winner.value_counts()"
   ]
  },
  {
   "cell_type": "markdown",
   "metadata": {},
   "source": [
    "   ___\n",
    "## Conclusão Random Forest 1 :"
   ]
  },
  {
   "cell_type": "markdown",
   "metadata": {},
   "source": [
    "Tendo um acurácia média de 65% no primeiro modelo Random Forest não é um bom resultado, visto que o modelo praticamente sempre tem como resultado o vermelho como vencedor, e como a probabilidade do lutador vermelho ganhar é de 67.46%, se sempre afirmarmos que o vermelho é vencedor teremos uma acurácia maior.\n",
    "\n",
    "Assim é possível concluir que é necessário desconsiderar algumas variáveis para melhorar a acurácia."
   ]
  },
  {
   "cell_type": "markdown",
   "metadata": {},
   "source": [
    "## Regressão Logística 1"
   ]
  },
  {
   "cell_type": "markdown",
   "metadata": {},
   "source": [
    "### Separando os dados em teste e treinamento"
   ]
  },
  {
   "cell_type": "code",
   "execution_count": null,
   "metadata": {},
   "outputs": [],
   "source": [
    "X_train_log, X_test_log, y_train_log, y_test_log = train_test_split(X, Y, test_size=0.25)"
   ]
  },
  {
   "cell_type": "code",
   "execution_count": null,
   "metadata": {},
   "outputs": [],
   "source": [
    "def preparo(X,Y):\n",
    "    X_cp = sm.add_constant(X)\n",
    "    model = sm.OLS(Y,X_cp,missing='drop')\n",
    "    results = model.fit()\n",
    "    return results"
   ]
  },
  {
   "cell_type": "code",
   "execution_count": null,
   "metadata": {},
   "outputs": [],
   "source": [
    "model = LogisticRegression(max_iter=200000,solver='lbfgs', multi_class='auto')\n",
    "\n",
    "model.fit(X_train_log, y_train_log)"
   ]
  },
  {
   "cell_type": "markdown",
   "metadata": {},
   "source": [
    "\n",
    "### Verificando a performance \n"
   ]
  },
  {
   "cell_type": "code",
   "execution_count": null,
   "metadata": {},
   "outputs": [],
   "source": [
    "y_pred_log = model.predict(X_test_log)"
   ]
  },
  {
   "cell_type": "code",
   "execution_count": null,
   "metadata": {},
   "outputs": [],
   "source": [
    "print('Acurácia do modelo:',accuracy_score(y_test_log, y_pred_log))"
   ]
  },
  {
   "cell_type": "code",
   "execution_count": null,
   "metadata": {},
   "outputs": [],
   "source": [
    "y_test_random.value_counts(True)"
   ]
  },
  {
   "cell_type": "code",
   "execution_count": null,
   "metadata": {},
   "outputs": [],
   "source": [
    " data_num.Winner.value_counts()"
   ]
  },
  {
   "cell_type": "code",
   "execution_count": null,
   "metadata": {},
   "outputs": [],
   "source": [
    "result = preparo(X_train_log,y_train_log)\n",
    "#result.summary()"
   ]
  },
  {
   "cell_type": "markdown",
   "metadata": {},
   "source": [
    "   ___\n",
    "## Conclusão Regressão Logística 1 :"
   ]
  },
  {
   "cell_type": "markdown",
   "metadata": {},
   "source": [
    "Tendo um acurácia média de 64% no primeiro modelo de Random Fores não é um bom resultado, visto que o modelo praticamente sempre tem como resultado o vermelho como vencedor, e como a probabilidade do lutador vermelho ganhar é de 67.46%, se sempre afirmarmos que o vermelho é o vencedor teremos uma acuracia maior.\n",
    "\n",
    "Assim é possível concluir que é necessário desconsiderar algumas variáveis para melhorar a acurácia."
   ]
  },
  {
   "cell_type": "markdown",
   "metadata": {},
   "source": [
    "___\n",
    "## Melhor modelo da primeira iteração:  Random Forest (65%)"
   ]
  },
  {
   "cell_type": "markdown",
   "metadata": {},
   "source": [
    "   ___\n",
    "## Criando um dataframe dos fatores mais impactantes no resultado segundo o Teste 1:"
   ]
  },
  {
   "cell_type": "code",
   "execution_count": null,
   "metadata": {},
   "outputs": [],
   "source": [
    "#Fatores que tem o maior peso na decisão da vitória no modelo Random Forest\n",
    "j=1\n",
    "lista_j=list()\n",
    "for i, f in sorted(list(zip(model_random.feature_importances_, X_train_random.columns)), reverse=True):\n",
    "    a=str(j)+'°'\n",
    "    lista_j.append(a)\n",
    "    j+=1"
   ]
  },
  {
   "cell_type": "code",
   "execution_count": null,
   "metadata": {},
   "outputs": [],
   "source": [
    "data={'Fator':X_train_random.columns ,'Correlação':model_random.feature_importances_,}\n",
    "Fator_por_corr=pd.DataFrame(data)\n",
    "Fator_por_corr=Fator_por_corr.sort_values(by='Correlação', ascending=False)\n",
    "Fator_por_corr['Grau de Importância']=lista_j\n",
    "Fator_por_corr = Fator_por_corr.set_index('Grau de Importância')\n",
    "Fator_por_corr.head(2)"
   ]
  },
  {
   "cell_type": "code",
   "execution_count": null,
   "metadata": {},
   "outputs": [],
   "source": [
    "plt.title('Correlation between the columns and the Winner column')\n",
    "plt.scatter(Fator_por_corr.index,Fator_por_corr.Correlação, alpha=0.8)"
   ]
  },
  {
   "cell_type": "markdown",
   "metadata": {},
   "source": [
    "   ___\n",
    "## Escolhendo quais dados devem ser usados nos modelos de predição:"
   ]
  },
  {
   "cell_type": "code",
   "execution_count": 180,
   "metadata": {},
   "outputs": [],
   "source": [
    "def relevancia(df,coluna_nome,coluna_correlacao,acuracia):\n",
    "    inuteis = []\n",
    "    uteis = ['Winner']\n",
    "    for index,row in df.iterrows():\n",
    "        if row[coluna_correlacao] >= -acuracia and row[coluna_correlacao] <= acuracia:\n",
    "            inuteis.append(row[coluna_nome])\n",
    "        else:\n",
    "            uteis.append(row[coluna_nome])\n",
    "    return uteis"
   ]
  },
  {
   "cell_type": "code",
   "execution_count": 181,
   "metadata": {},
   "outputs": [],
   "source": [
    "uteis = relevancia(Fator_por_corr,'Fator','Correlação',0.01)"
   ]
  },
  {
   "cell_type": "code",
   "execution_count": 182,
   "metadata": {
    "scrolled": true
   },
   "outputs": [
    {
     "data": {
      "text/html": [
       "<div>\n",
       "<style scoped>\n",
       "    .dataframe tbody tr th:only-of-type {\n",
       "        vertical-align: middle;\n",
       "    }\n",
       "\n",
       "    .dataframe tbody tr th {\n",
       "        vertical-align: top;\n",
       "    }\n",
       "\n",
       "    .dataframe thead th {\n",
       "        text-align: right;\n",
       "    }\n",
       "</style>\n",
       "<table border=\"1\" class=\"dataframe\">\n",
       "  <thead>\n",
       "    <tr style=\"text-align: right;\">\n",
       "      <th></th>\n",
       "      <th>Winner</th>\n",
       "      <th>R_avg_opp_HEAD_landed</th>\n",
       "      <th>R_age</th>\n",
       "      <th>R_avg_opp_SIG_STR_landed</th>\n",
       "      <th>R_avg_opp_SIG_STR_pct</th>\n",
       "      <th>B_avg_DISTANCE_att</th>\n",
       "      <th>B_avg_opp_SIG_STR_pct</th>\n",
       "      <th>B_avg_HEAD_att</th>\n",
       "      <th>R_avg_opp_DISTANCE_landed</th>\n",
       "      <th>B_avg_TD_att</th>\n",
       "      <th>B_avg_SIG_STR_att</th>\n",
       "      <th>B_avg_opp_DISTANCE_att</th>\n",
       "      <th>B_avg_DISTANCE_landed</th>\n",
       "      <th>B_avg_opp_TOTAL_STR_landed</th>\n",
       "      <th>B_avg_BODY_att</th>\n",
       "      <th>R_avg_opp_HEAD_att</th>\n",
       "      <th>R_avg_opp_TOTAL_STR_landed</th>\n",
       "    </tr>\n",
       "  </thead>\n",
       "  <tbody>\n",
       "    <tr>\n",
       "      <th>0</th>\n",
       "      <td>1</td>\n",
       "      <td>17.300000</td>\n",
       "      <td>32.0</td>\n",
       "      <td>32.200000</td>\n",
       "      <td>0.336000</td>\n",
       "      <td>62.600000</td>\n",
       "      <td>0.236000</td>\n",
       "      <td>48.600000</td>\n",
       "      <td>26.800000</td>\n",
       "      <td>0.80000</td>\n",
       "      <td>65.40</td>\n",
       "      <td>51.200000</td>\n",
       "      <td>20.600000</td>\n",
       "      <td>19.200000</td>\n",
       "      <td>9.200000</td>\n",
       "      <td>76.100000</td>\n",
       "      <td>43.300000</td>\n",
       "    </tr>\n",
       "    <tr>\n",
       "      <th>1</th>\n",
       "      <td>1</td>\n",
       "      <td>12.428571</td>\n",
       "      <td>31.0</td>\n",
       "      <td>44.714286</td>\n",
       "      <td>0.437143</td>\n",
       "      <td>124.700000</td>\n",
       "      <td>0.408000</td>\n",
       "      <td>112.000000</td>\n",
       "      <td>32.571429</td>\n",
       "      <td>1.00000</td>\n",
       "      <td>138.90</td>\n",
       "      <td>101.700000</td>\n",
       "      <td>42.100000</td>\n",
       "      <td>75.400000</td>\n",
       "      <td>14.600000</td>\n",
       "      <td>61.857143</td>\n",
       "      <td>82.285714</td>\n",
       "    </tr>\n",
       "    <tr>\n",
       "      <th>2</th>\n",
       "      <td>1</td>\n",
       "      <td>23.200000</td>\n",
       "      <td>35.0</td>\n",
       "      <td>35.733333</td>\n",
       "      <td>0.340000</td>\n",
       "      <td>84.741935</td>\n",
       "      <td>0.453226</td>\n",
       "      <td>67.645161</td>\n",
       "      <td>32.200000</td>\n",
       "      <td>2.16129</td>\n",
       "      <td>97.00</td>\n",
       "      <td>84.548387</td>\n",
       "      <td>38.580645</td>\n",
       "      <td>49.774194</td>\n",
       "      <td>15.354839</td>\n",
       "      <td>78.266667</td>\n",
       "      <td>38.600000</td>\n",
       "    </tr>\n",
       "    <tr>\n",
       "      <th>3</th>\n",
       "      <td>0</td>\n",
       "      <td>20.375000</td>\n",
       "      <td>29.0</td>\n",
       "      <td>44.875000</td>\n",
       "      <td>0.446250</td>\n",
       "      <td>109.500000</td>\n",
       "      <td>0.337500</td>\n",
       "      <td>116.250000</td>\n",
       "      <td>38.500000</td>\n",
       "      <td>2.50000</td>\n",
       "      <td>136.25</td>\n",
       "      <td>94.250000</td>\n",
       "      <td>48.750000</td>\n",
       "      <td>34.250000</td>\n",
       "      <td>17.000000</td>\n",
       "      <td>77.375000</td>\n",
       "      <td>48.875000</td>\n",
       "    </tr>\n",
       "    <tr>\n",
       "      <th>4</th>\n",
       "      <td>0</td>\n",
       "      <td>14.000000</td>\n",
       "      <td>26.0</td>\n",
       "      <td>22.500000</td>\n",
       "      <td>0.397500</td>\n",
       "      <td>201.000000</td>\n",
       "      <td>0.430000</td>\n",
       "      <td>184.500000</td>\n",
       "      <td>16.250000</td>\n",
       "      <td>0.00000</td>\n",
       "      <td>203.50</td>\n",
       "      <td>205.000000</td>\n",
       "      <td>59.500000</td>\n",
       "      <td>90.000000</td>\n",
       "      <td>17.000000</td>\n",
       "      <td>43.250000</td>\n",
       "      <td>27.750000</td>\n",
       "    </tr>\n",
       "  </tbody>\n",
       "</table>\n",
       "</div>"
      ],
      "text/plain": [
       "   Winner  R_avg_opp_HEAD_landed  R_age  R_avg_opp_SIG_STR_landed  \\\n",
       "0       1              17.300000   32.0                 32.200000   \n",
       "1       1              12.428571   31.0                 44.714286   \n",
       "2       1              23.200000   35.0                 35.733333   \n",
       "3       0              20.375000   29.0                 44.875000   \n",
       "4       0              14.000000   26.0                 22.500000   \n",
       "\n",
       "   R_avg_opp_SIG_STR_pct  B_avg_DISTANCE_att  B_avg_opp_SIG_STR_pct  \\\n",
       "0               0.336000           62.600000               0.236000   \n",
       "1               0.437143          124.700000               0.408000   \n",
       "2               0.340000           84.741935               0.453226   \n",
       "3               0.446250          109.500000               0.337500   \n",
       "4               0.397500          201.000000               0.430000   \n",
       "\n",
       "   B_avg_HEAD_att  R_avg_opp_DISTANCE_landed  B_avg_TD_att  B_avg_SIG_STR_att  \\\n",
       "0       48.600000                  26.800000       0.80000              65.40   \n",
       "1      112.000000                  32.571429       1.00000             138.90   \n",
       "2       67.645161                  32.200000       2.16129              97.00   \n",
       "3      116.250000                  38.500000       2.50000             136.25   \n",
       "4      184.500000                  16.250000       0.00000             203.50   \n",
       "\n",
       "   B_avg_opp_DISTANCE_att  B_avg_DISTANCE_landed  B_avg_opp_TOTAL_STR_landed  \\\n",
       "0               51.200000              20.600000                   19.200000   \n",
       "1              101.700000              42.100000                   75.400000   \n",
       "2               84.548387              38.580645                   49.774194   \n",
       "3               94.250000              48.750000                   34.250000   \n",
       "4              205.000000              59.500000                   90.000000   \n",
       "\n",
       "   B_avg_BODY_att  R_avg_opp_HEAD_att  R_avg_opp_TOTAL_STR_landed  \n",
       "0        9.200000           76.100000                   43.300000  \n",
       "1       14.600000           61.857143                   82.285714  \n",
       "2       15.354839           78.266667                   38.600000  \n",
       "3       17.000000           77.375000                   48.875000  \n",
       "4       17.000000           43.250000                   27.750000  "
      ]
     },
     "execution_count": 182,
     "metadata": {},
     "output_type": "execute_result"
    }
   ],
   "source": [
    "data_util_relevante = data_util.loc[:,uteis]\n",
    "data_util_relevante.head()"
   ]
  },
  {
   "cell_type": "markdown",
   "metadata": {},
   "source": [
    "___\n",
    "# Teste 2\n",
    "____"
   ]
  },
  {
   "cell_type": "code",
   "execution_count": null,
   "metadata": {},
   "outputs": [],
   "source": [
    "x = data_util_relevante.drop('Winner', axis=1)\n",
    "y = data_util_relevante['Winner']"
   ]
  },
  {
   "cell_type": "markdown",
   "metadata": {},
   "source": [
    "___\n",
    "## Random Forest 2"
   ]
  },
  {
   "cell_type": "markdown",
   "metadata": {},
   "source": [
    "### Separando os dados em testes e treinamento"
   ]
  },
  {
   "cell_type": "code",
   "execution_count": 193,
   "metadata": {},
   "outputs": [],
   "source": [
    "X_train_random2, X_test_random2, y_train_random2, y_test_random2 = train_test_split(x, y, test_size=0.25)"
   ]
  },
  {
   "cell_type": "code",
   "execution_count": null,
   "metadata": {},
   "outputs": [],
   "source": [
    "model_random2 = RandomForestClassifier(n_estimators=10000)\n",
    "\n",
    "model_random2.fit(X_train_random2, y_train_random2)"
   ]
  },
  {
   "cell_type": "code",
   "execution_count": null,
   "metadata": {
    "scrolled": true
   },
   "outputs": [],
   "source": [
    "#model_random2.feature_importances_"
   ]
  },
  {
   "cell_type": "code",
   "execution_count": null,
   "metadata": {},
   "outputs": [],
   "source": [
    "y_pred_random2 = model_random2.predict(X_test_random2)"
   ]
  },
  {
   "cell_type": "code",
   "execution_count": null,
   "metadata": {},
   "outputs": [],
   "source": [
    "print('Acurácia do modelo:',accuracy_score(y_test_random2, y_pred_random2))"
   ]
  },
  {
   "cell_type": "code",
   "execution_count": null,
   "metadata": {
    "scrolled": false
   },
   "outputs": [],
   "source": [
    "y_test_random2.value_counts(True)"
   ]
  },
  {
   "cell_type": "code",
   "execution_count": null,
   "metadata": {},
   "outputs": [],
   "source": [
    "data_util_relevante.Winner.value_counts()"
   ]
  },
  {
   "cell_type": "markdown",
   "metadata": {},
   "source": [
    "\n",
    "## Conclusão Random Forest 2"
   ]
  },
  {
   "cell_type": "markdown",
   "metadata": {},
   "source": [
    "Após a retirada dos dados considerados inúteis pelo primeiro modelo de Random Forest a acurácia do modelo Random Forest subiu um pouco, antes com uma média de 65% e agora com uma de 68%, ainda é considerada baixa levando em consideração a maioria das vitórias pelo lado vermelho (67.46%). Se o modelo só tivesse como resultado vermelho a quantidade de acertos seria quase a mesma.\n",
    "\n",
    "Para melhorar a acurácia pode-se diminuir ainda mais o número de variáveis que o modelo utiliza para prever o vencedor"
   ]
  },
  {
   "cell_type": "markdown",
   "metadata": {},
   "source": [
    "___\n",
    "## Montando a Regressão Logística 2\n",
    "\n"
   ]
  },
  {
   "cell_type": "markdown",
   "metadata": {},
   "source": [
    "### Separando os dados em testes e treinamento"
   ]
  },
  {
   "cell_type": "code",
   "execution_count": null,
   "metadata": {},
   "outputs": [],
   "source": [
    "X_train_log2, X_test_log2, y_train_log2, y_test_log2 = train_test_split(x, y, test_size=0.25)"
   ]
  },
  {
   "cell_type": "code",
   "execution_count": null,
   "metadata": {},
   "outputs": [],
   "source": [
    "model = LogisticRegression(max_iter=500000,solver='lbfgs', multi_class='auto')\n",
    "\n",
    "model.fit(X_train_log2, y_train_log2)"
   ]
  },
  {
   "cell_type": "code",
   "execution_count": null,
   "metadata": {},
   "outputs": [],
   "source": [
    "y_pred_log2 = model.predict(X_test_log2)"
   ]
  },
  {
   "cell_type": "code",
   "execution_count": null,
   "metadata": {},
   "outputs": [],
   "source": [
    "print('Acurácia do modelo:',accuracy_score(y_test_log2, y_pred_log2))"
   ]
  },
  {
   "cell_type": "code",
   "execution_count": null,
   "metadata": {},
   "outputs": [],
   "source": [
    "y_test_log2.value_counts(True)"
   ]
  },
  {
   "cell_type": "code",
   "execution_count": null,
   "metadata": {},
   "outputs": [],
   "source": [
    "data_util_relevante.Winner.value_counts()"
   ]
  },
  {
   "cell_type": "code",
   "execution_count": null,
   "metadata": {
    "scrolled": false
   },
   "outputs": [],
   "source": [
    "def preparo(X,Y):\n",
    "    X_cp = sm.add_constant(X)\n",
    "    model = sm.OLS(Y,X_cp,missing='drop')\n",
    "    results = model.fit()\n",
    "    return results"
   ]
  },
  {
   "cell_type": "code",
   "execution_count": null,
   "metadata": {},
   "outputs": [],
   "source": [
    "result = preparo(x,y)\n",
    "result.summary()"
   ]
  },
  {
   "cell_type": "markdown",
   "metadata": {},
   "source": [
    "___\n",
    "## Conclusão Regressão Logística 2"
   ]
  },
  {
   "cell_type": "markdown",
   "metadata": {},
   "source": [
    "Após a retirada dos dados considerados inúteis pelo primeiro modelo a acurácia de ambos modelos subiu um pouco, antes com uma média de 64% e agora com uma de 66.5%, ainda é considerada baixa levando em consideração a maioria das vitórias pelo lado vermelho (67.46%). Se o modelo só tivesse como resultado a vitória do vermelho teriamos uma acurácia maior.\n",
    "\n",
    "Para melhorar a acurâcia pode-se diminuir ainda mais o número de variáveis que o modelo usa para prever a vitória."
   ]
  },
  {
   "cell_type": "markdown",
   "metadata": {},
   "source": [
    "## Melhor modelo da segunda iteração: Random Forest (68%)"
   ]
  },
  {
   "cell_type": "markdown",
   "metadata": {},
   "source": [
    "   ___\n",
    "## Criando um dataframe dos fatores mais impactantes no resultado segundo o Teste 2:"
   ]
  },
  {
   "cell_type": "code",
   "execution_count": null,
   "metadata": {},
   "outputs": [],
   "source": [
    "j2=1\n",
    "lista_j2=list()\n",
    "for i, f in sorted(list(zip(model_random2.feature_importances_, X_train_random2.columns)), reverse=True):\n",
    "    \n",
    "    a2=str(j2)+'°'\n",
    "    lista_j2.append(a2)\n",
    "    j2+=1\n"
   ]
  },
  {
   "cell_type": "code",
   "execution_count": null,
   "metadata": {},
   "outputs": [],
   "source": [
    "data_mais_impor={'Fator':X_train_random2.columns ,'Correlação':model_random2.feature_importances_,}\n",
    "Fator_por_corr2=pd.DataFrame(data_mais_impor)\n",
    "Fator_por_corr2=Fator_por_corr2.sort_values(by='Correlação', ascending=False)\n",
    "Fator_por_corr2['Grau de Importância']=lista_j2\n",
    "Fator_por_corr2 = Fator_por_corr2.set_index('Grau de Importância')\n",
    "Fator_por_corr2.head(2)"
   ]
  },
  {
   "cell_type": "code",
   "execution_count": null,
   "metadata": {},
   "outputs": [],
   "source": [
    "uteis2 = relevancia(Fator_por_corr2,'Fator','Correlação',0.05)"
   ]
  },
  {
   "cell_type": "code",
   "execution_count": null,
   "metadata": {},
   "outputs": [],
   "source": [
    "#uteis2"
   ]
  },
  {
   "cell_type": "code",
   "execution_count": null,
   "metadata": {
    "scrolled": true
   },
   "outputs": [],
   "source": [
    "data_util_relevante2 = data_util.loc[:,uteis2]\n",
    "data_util_relevante2.head(2)"
   ]
  },
  {
   "cell_type": "markdown",
   "metadata": {},
   "source": [
    "## Teste 3"
   ]
  },
  {
   "cell_type": "code",
   "execution_count": null,
   "metadata": {},
   "outputs": [],
   "source": [
    "X3 = data_util_relevante2.drop('Winner', axis=1)\n",
    "Y3 = data_util_relevante2['Winner']"
   ]
  },
  {
   "cell_type": "markdown",
   "metadata": {},
   "source": [
    "\n",
    "## Random Forest 3"
   ]
  },
  {
   "cell_type": "markdown",
   "metadata": {},
   "source": [
    "### Separando os dados em testes e treinamento"
   ]
  },
  {
   "cell_type": "code",
   "execution_count": null,
   "metadata": {},
   "outputs": [],
   "source": [
    "X_train_random3, X_test_random3, y_train_random3, y_test_random3 = train_test_split(X3, Y3, test_size=0.25)"
   ]
  },
  {
   "cell_type": "code",
   "execution_count": null,
   "metadata": {},
   "outputs": [],
   "source": [
    "model_random3 = RandomForestClassifier(n_estimators=10000)\n",
    "\n",
    "model_random3.fit(X_train_random3, y_train_random3)"
   ]
  },
  {
   "cell_type": "code",
   "execution_count": null,
   "metadata": {},
   "outputs": [],
   "source": [
    "#model_random3.feature_importances_"
   ]
  },
  {
   "cell_type": "code",
   "execution_count": null,
   "metadata": {},
   "outputs": [],
   "source": [
    "y_pred_random3 = model_random3.predict(X_test_random3)"
   ]
  },
  {
   "cell_type": "code",
   "execution_count": null,
   "metadata": {},
   "outputs": [],
   "source": [
    "print('Acurácia do modelo:',accuracy_score(y_test_random3, y_pred_random3))"
   ]
  },
  {
   "cell_type": "code",
   "execution_count": null,
   "metadata": {},
   "outputs": [],
   "source": [
    "y_test_random3.value_counts(True)"
   ]
  },
  {
   "cell_type": "code",
   "execution_count": null,
   "metadata": {},
   "outputs": [],
   "source": [
    "data_util_relevante2.Winner.value_counts()"
   ]
  },
  {
   "cell_type": "markdown",
   "metadata": {},
   "source": [
    "___\n",
    "## Conclusão Random Forest 3"
   ]
  },
  {
   "cell_type": "markdown",
   "metadata": {},
   "source": [
    "Após a retirada dos dados que menos impactaram no resultado do Teste 2 a acurácia da terceira iteração do modelo Random Forest piorou: antes com uma média de acurácia de 68%, e agora com uma de 64%. \n",
    "\n",
    "Isso indica que para melhorar a acurácia não adianta reduzir o número de dados, provavelmete para melhorar a acurácia seria necessário separar os dados por classe de peso, ou sexo, ou até em faixas de tempo."
   ]
  },
  {
   "cell_type": "markdown",
   "metadata": {},
   "source": [
    "___\n",
    "## Montando a Regressão Logística 3\n",
    "\n"
   ]
  },
  {
   "cell_type": "markdown",
   "metadata": {},
   "source": [
    "### Separando os dados em testes e treinamento"
   ]
  },
  {
   "cell_type": "code",
   "execution_count": null,
   "metadata": {},
   "outputs": [],
   "source": [
    "X_train_log3, X_test_log3, y_train_log3, y_test_log3 = train_test_split(X3, Y3, test_size=0.25)"
   ]
  },
  {
   "cell_type": "code",
   "execution_count": null,
   "metadata": {},
   "outputs": [],
   "source": [
    "model_log3 = LogisticRegression(max_iter=500000,solver='lbfgs', multi_class='auto')\n",
    "\n",
    "model_log3.fit(X_train_log3, y_train_log3)"
   ]
  },
  {
   "cell_type": "code",
   "execution_count": null,
   "metadata": {},
   "outputs": [],
   "source": [
    "y_pred_log3 = model_log3.predict(X_test_log3)"
   ]
  },
  {
   "cell_type": "code",
   "execution_count": null,
   "metadata": {},
   "outputs": [],
   "source": [
    "print('Acurácia do modelo:',accuracy_score(y_test_log3, y_pred_log3))"
   ]
  },
  {
   "cell_type": "code",
   "execution_count": null,
   "metadata": {},
   "outputs": [],
   "source": [
    "y_test_log3.value_counts(True)"
   ]
  },
  {
   "cell_type": "code",
   "execution_count": null,
   "metadata": {},
   "outputs": [],
   "source": [
    "data_util_relevante2.Winner.value_counts()"
   ]
  },
  {
   "cell_type": "code",
   "execution_count": null,
   "metadata": {},
   "outputs": [],
   "source": [
    "result = preparo(X3,Y3)\n",
    "result.summary()"
   ]
  },
  {
   "cell_type": "markdown",
   "metadata": {},
   "source": [
    "___\n",
    "## Conclusão Regressão Logística 3"
   ]
  },
  {
   "cell_type": "markdown",
   "metadata": {},
   "source": [
    "Após a retirada dos dados que menos impactaram no resultado do Teste 2 a acurácia do modelo Regressão Logística piorou, antes com uma média de 66.5%, e agora com uma de 65%.\n",
    "\n",
    "Isso indica que para melhorar a acurácia não adianta reduzir o número de dados, provavelmete para melhorar a acurácia seria necessário separar os dados por classe de peso, ou sexo, ou até em faixas de tempo."
   ]
  },
  {
   "cell_type": "markdown",
   "metadata": {},
   "source": [
    "___\n",
    "## Melhor modelo da terceira iteração: Regressão Logística (65%)"
   ]
  },
  {
   "cell_type": "markdown",
   "metadata": {},
   "source": [
    "# Naive-Bayes:"
   ]
  },
  {
   "cell_type": "code",
   "execution_count": null,
   "metadata": {},
   "outputs": [],
   "source": []
  },
  {
   "cell_type": "code",
   "execution_count": 218,
   "metadata": {
    "scrolled": true
   },
   "outputs": [
    {
     "ename": "ValueError",
     "evalue": "Expected 2D array, got 1D array instead:\narray=[      title_bout  no_of_rounds  B_current_lose_streak  B_current_win_streak  \\\n99           0.0           5.0                    0.0                   1.0   \n4214         0.0           3.0                    1.0                   0.0   \n2983         0.0           3.0                    0.0                   2.0   \n3227         0.0           3.0                    1.0                   0.0   \n1007         1.0           5.0                    0.0                   3.0   \n938          0.0           3.0                    0.0                   1.0   \n2875         1.0           5.0                    1.0                   0.0   \n4600         0.0           3.0                    2.0                   0.0   \n2468         0.0           3.0                    0.0                   1.0   \n264          0.0           3.0                    0.0                   2.0   \n2523         0.0           3.0                    0.0                   1.0   \n3166         0.0           5.0                    1.0                   0.0   \n1770         1.0           5.0                    0.0                   3.0   \n3684         0.0           3.0                    0.0                   1.0   \n4174         0.0           3.0                    1.0                   0.0   \n3998         0.0           3.0                    0.0                   3.0   \n4095         0.0           3.0                    0.0                   2.0   \n3769         0.0           3.0                    1.0                   0.0   \n2572         1.0           5.0                    0.0                   4.0   \n4604         0.0           3.0                    0.0                   1.0   \n2091         0.0           5.0                    0.0                   1.0   \n4923         1.0           5.0                    0.0                   1.0   \n186          0.0           3.0                    0.0                   1.0   \n3442         0.0           3.0                    0.0                   1.0   \n4378         0.0           3.0                    0.0                   5.0   \n2929         0.0           3.0                    0.0                   4.0   \n1403         0.0           3.0                    1.0                   0.0   \n1549         0.0           3.0                    1.0                   0.0   \n3693         0.0           3.0                    2.0                   0.0   \n3248         0.0           3.0                    0.0                   1.0   \n...          ...           ...                    ...                   ...   \n1            1.0           5.0                    0.0                   3.0   \n2586         0.0           3.0                    0.0                   1.0   \n1701         0.0           3.0                    0.0                   3.0   \n2540         0.0           3.0                    1.0                   0.0   \n3244         0.0           3.0                    1.0                   0.0   \n2689         0.0           3.0                    0.0                   1.0   \n794          1.0           5.0                    0.0                   2.0   \n136          0.0           5.0                    0.0                   2.0   \n3241         0.0           3.0                    0.0                   1.0   \n69           0.0           3.0                    0.0                   1.0   \n13           0.0           5.0                    1.0                   0.0   \n1101         0.0           3.0                    0.0                   1.0   \n205          0.0           3.0                    1.0                   0.0   \n356          0.0           3.0                    1.0                   0.0   \n2060         0.0           3.0                    0.0                   3.0   \n3199         0.0           3.0                    1.0                   0.0   \n1760         0.0           5.0                    2.0                   0.0   \n1697         0.0           3.0                    0.0                   1.0   \n4539         0.0           3.0                    0.0                   3.0   \n3378         0.0           3.0                    0.0                   2.0   \n951          0.0           5.0                    0.0                   4.0   \n3746         0.0           3.0                    0.0                   1.0   \n2558         0.0           3.0                    2.0                   0.0   \n4429         0.0           3.0                    1.0                   0.0   \n414          0.0           3.0                    0.0                   2.0   \n993          0.0           3.0                    1.0                   0.0   \n2211         0.0           3.0                    0.0                   1.0   \n3754         0.0           3.0                    0.0                   1.0   \n3284         0.0           3.0                    0.0                   2.0   \n4665         0.0           3.0                    1.0                   0.0   \n\n      B_draw  B_avg_BODY_att  B_avg_BODY_landed  B_avg_CLINCH_att  \\\n99       0.0       10.000000           8.250000         17.500000   \n4214     0.0        1.600000           1.400000          0.600000   \n2983     0.0       12.285714          10.142857          4.857143   \n3227     0.0       45.000000          35.500000         14.500000   \n1007     0.0       19.200000          14.400000         27.500000   \n938      0.0        4.500000           3.000000          2.500000   \n2875     0.0        8.000000           5.363636          7.909091   \n4600     0.0        7.285714           4.714286         10.571429   \n2468     0.0        4.000000           4.000000         11.000000   \n264      0.0        4.000000           3.100000          5.500000   \n2523     0.0        4.000000           3.500000         25.500000   \n3166     0.0       12.500000           9.777778         12.555556   \n1770     0.0       15.571429          10.428571          8.571429   \n3684     0.0        6.800000           4.800000         13.200000   \n4174     0.0        5.333333           4.666667          5.333333   \n3998     0.0       11.375000           9.500000         13.625000   \n4095     0.0        2.000000           2.000000         12.500000   \n3769     0.0        0.000000           0.000000          0.000000   \n2572     0.0       15.125000           9.750000          6.000000   \n4604     0.0       15.000000          14.000000         15.000000   \n2091     0.0       10.055556           5.611111          6.277778   \n4923     0.0        7.000000           6.500000         14.500000   \n186      0.0        8.500000           6.909091          6.272727   \n3442     0.0        1.000000           0.000000          1.000000   \n4378     0.0        3.000000           2.500000          0.125000   \n2929     0.0        7.166667           4.166667          2.833333   \n1403     0.0        3.000000           1.333333          2.666667   \n1549     0.0       16.000000           6.000000         21.000000   \n3693     0.0        1.000000           1.000000         19.000000   \n3248     0.0        0.000000           0.000000          2.000000   \n...      ...             ...                ...               ...   \n1        0.0       14.600000           9.100000         11.800000   \n2586     0.0        3.000000           3.000000          0.000000   \n1701     0.0       29.666667          22.000000         24.666667   \n2540     0.0        8.333333           5.666667          7.666667   \n3244     0.0        7.000000           4.333333          5.333333   \n2689     0.0        9.750000           6.750000          8.250000   \n794      0.0       15.615385          11.153846         10.923077   \n136      0.0       29.055556          19.555556          8.388889   \n3241     0.0       25.000000          21.000000         18.000000   \n69       0.0       35.000000          21.000000         38.000000   \n13       0.0        9.272727           6.181818          6.818182   \n1101     0.0       21.000000          15.000000          8.000000   \n205      0.0       10.400000           5.000000          6.200000   \n356      0.0        5.000000           1.000000          1.000000   \n2060     0.0        5.333333           4.666667          7.666667   \n3199     0.0        6.000000           5.000000          0.000000   \n1760     0.0        2.714286           1.642857          5.714286   \n1697     0.0        7.000000           4.000000          8.000000   \n4539     0.0        6.666667           6.333333         11.333333   \n3378     0.0       10.500000           8.500000          6.000000   \n951      0.0       13.400000          10.400000          8.400000   \n3746     0.0       19.000000          18.000000          3.000000   \n2558     0.0        5.750000           5.250000         10.000000   \n4429     0.0        5.500000           5.000000          0.500000   \n414      0.0       15.000000          10.000000         13.666667   \n993      0.0        8.000000           5.000000          2.000000   \n2211     0.0        4.333333           2.666667          5.666667   \n3754     0.0        3.666667           2.666667          6.333333   \n3284     0.0       10.133333           8.533333         14.333333   \n4665     0.0        8.307692           6.153846          6.846154   \n\n      B_avg_CLINCH_landed  B_avg_DISTANCE_att  ...  \\\n99              14.750000          141.000000  ...   \n4214             0.600000           24.200000  ...   \n2983             2.857143           87.285714  ...   \n3227             9.500000          107.500000  ...   \n1007            16.200000           90.300000  ...   \n938              1.250000          114.750000  ...   \n2875             5.818182           38.727273  ...   \n4600             6.857143           40.142857  ...   \n2468             8.000000           83.000000  ...   \n264              3.500000           71.700000  ...   \n2523            19.500000           14.000000  ...   \n3166             8.388889           68.111111  ...   \n1770             5.714286           94.000000  ...   \n3684             8.200000           10.800000  ...   \n4174             3.333333            7.000000  ...   \n3998             8.750000           61.125000  ...   \n4095            12.500000           13.000000  ...   \n3769             0.000000            4.000000  ...   \n2572             3.750000           76.250000  ...   \n4604             6.000000           55.000000  ...   \n2091             2.333333          110.666667  ...   \n4923            12.000000            2.000000  ...   \n186              5.227273           40.590909  ...   \n3442             0.500000           24.000000  ...   \n4378             0.000000           22.375000  ...   \n2929             1.833333           66.166667  ...   \n1403             2.000000           39.333333  ...   \n1549             9.000000           24.000000  ...   \n3693            12.000000           36.750000  ...   \n3248             2.000000            7.000000  ...   \n...                   ...                 ...  ...   \n1                7.300000          124.700000  ...   \n2586             0.000000           14.000000  ...   \n1701            15.333333           91.000000  ...   \n2540             3.666667           65.333333  ...   \n3244             2.666667           21.333333  ...   \n2689             5.250000           91.500000  ...   \n794              6.923077          147.461538  ...   \n136              4.888889          104.555556  ...   \n3241            14.000000           47.000000  ...   \n69              30.000000          167.000000  ...   \n13               5.272727           57.181818  ...   \n1101             5.000000          202.000000  ...   \n205              3.200000           77.400000  ...   \n356              1.000000            9.000000  ...   \n2060             6.333333           33.000000  ...   \n3199             0.000000           68.000000  ...   \n1760             2.500000           47.642857  ...   \n1697             6.000000           29.000000  ...   \n4539             9.666667            4.333333  ...   \n3378             6.000000           62.000000  ...   \n951              6.500000           67.600000  ...   \n3746             2.000000           20.000000  ...   \n2558             7.750000           49.750000  ...   \n4429             0.000000            1.000000  ...   \n414             10.666667          143.000000  ...   \n993              1.000000          128.000000  ...   \n2211             4.000000           55.000000  ...   \n3754             3.000000           23.666667  ...   \n3284            12.466667           33.333333  ...   \n4665             5.230769           17.615385  ...   \n\n      R_win_by_Decision_Unanimous  R_win_by_KO/TKO  R_win_by_Submission  \\\n99                            5.0              7.0                  0.0   \n4214                          2.0              0.0                  2.0   \n2983                          0.0              1.0                  0.0   \n3227                          0.0              2.0                  1.0   \n1007                          4.0              2.0                  0.0   \n938                           0.0              2.0                  0.0   \n2875                          3.0              3.0                  5.0   \n4600                          1.0              0.0                  1.0   \n2468                          1.0              2.0                  0.0   \n264                           1.0              0.0                  4.0   \n2523                          0.0              1.0                  0.0   \n3166                          1.0              3.0                  0.0   \n1770                          5.0              1.0                  3.0   \n3684                          0.0              1.0                  0.0   \n4174                          0.0              1.0                  1.0   \n3998                          2.0              0.0                  0.0   \n4095                          5.0              1.0                  1.0   \n3769                          2.0              0.0                  0.0   \n2572                          3.0              1.0                  2.0   \n4604                          2.0              0.0                  1.0   \n2091                          1.0              3.0                  0.0   \n4923                          0.0              2.0                  0.0   \n186                           1.0              2.0                  0.0   \n3442                          1.0              0.0                  0.0   \n4378                          2.0              3.0                  1.0   \n2929                          0.0              1.0                  0.0   \n1403                          0.0              0.0                  1.0   \n1549                          0.0              1.0                  0.0   \n3693                          1.0              2.0                  0.0   \n3248                          1.0              1.0                  1.0   \n...                           ...              ...                  ...   \n1                             2.0              0.0                  2.0   \n2586                          3.0              2.0                  3.0   \n1701                          3.0              0.0                  1.0   \n2540                          1.0              0.0                  0.0   \n3244                          0.0              0.0                  0.0   \n2689                          1.0              2.0                  0.0   \n794                           2.0              4.0                  0.0   \n136                           1.0             10.0                  0.0   \n3241                          3.0              1.0                  0.0   \n69                            4.0              9.0                  2.0   \n13                            3.0              5.0                  2.0   \n1101                          0.0              0.0                  1.0   \n205                           5.0              7.0                  1.0   \n356                           2.0              0.0                  0.0   \n2060                          4.0              2.0                  0.0   \n3199                          0.0              0.0                  0.0   \n1760                          0.0              4.0                  1.0   \n1697                          1.0              1.0                  0.0   \n4539                          0.0              0.0                  0.0   \n3378                          1.0              0.0                  0.0   \n951                           2.0              0.0                  5.0   \n3746                          1.0              1.0                  0.0   \n2558                          2.0              0.0                  0.0   \n4429                          0.0              0.0                  2.0   \n414                           0.0              0.0                  1.0   \n993                           0.0              0.0                  0.0   \n2211                          2.0              1.0                  1.0   \n3754                          3.0              0.0                  1.0   \n3284                          1.0              1.0                  0.0   \n4665                          0.0              2.0                  0.0   \n\n      R_win_by_TKO_Doctor_Stoppage  R_wins  R_Height_cms  R_Reach_cms  \\\n99                             0.0    14.0        180.34       190.50   \n4214                           1.0     5.0        170.18       177.80   \n2983                           0.0     2.0        177.80       182.88   \n3227                           0.0     3.0        182.88       193.04   \n1007                           0.0     7.0        167.64       165.10   \n938                            0.0     3.0        182.88       185.42   \n2875                           0.0    11.0        193.04       213.36   \n4600                           1.0     3.0        167.64       170.18   \n2468                           0.0     4.0        180.34       175.26   \n264                            1.0     7.0        180.34       185.42   \n2523                           0.0     2.0        190.50       203.20   \n3166                           0.0     4.0        180.34       187.96   \n1770                           0.0    10.0        160.02       167.64   \n3684                           0.0     1.0        185.42       193.04   \n4174                           1.0     3.0        187.96       185.42   \n3998                           0.0     4.0        180.34       187.96   \n4095                           0.0     8.0        177.80       182.88   \n3769                           0.0     2.0        175.26       180.34   \n2572                           0.0     6.0        167.64       177.80   \n4604                           0.0     4.0        177.80       182.88   \n2091                           0.0     4.0        175.26       187.96   \n4923                           1.0     3.0        190.50       187.96   \n186                            0.0     4.0        193.04       203.20   \n3442                           0.0     1.0        193.04       198.12   \n4378                           0.0     7.0        180.34       193.04   \n2929                           0.0     2.0        175.26       172.72   \n1403                           0.0     1.0        175.26       175.26   \n1549                           0.0     1.0        175.26       167.64   \n3693                           0.0     4.0        180.34       180.34   \n3248                           0.0     3.0        182.88       193.04   \n...                            ...     ...           ...          ...   \n1                              0.0     5.0        165.10       167.64   \n2586                           0.0     8.0        185.42       185.42   \n1701                           0.0     4.0        165.10       170.18   \n2540                           0.0     1.0        162.56       162.56   \n3244                           0.0     0.0        167.64       167.64   \n2689                           0.0     4.0        185.42       182.88   \n794                            0.0     6.0        172.72       165.10   \n136                            0.0    12.0        190.50       200.66   \n3241                           0.0     5.0        185.42       190.50   \n69                             0.0    16.0        190.50       195.58   \n13                             0.0    10.0        195.58       200.66   \n1101                           0.0     1.0        185.42       195.58   \n205                            1.0    14.0        175.26       177.80   \n356                            0.0     2.0        170.18       165.10   \n2060                           0.0     6.0        190.50       203.20   \n3199                           0.0     0.0        170.18       172.72   \n1760                           0.0     5.0        190.50       198.12   \n1697                           0.0     2.0        162.56       162.56   \n4539                           0.0     3.0        182.88       190.50   \n3378                           0.0     1.0        167.64       170.18   \n951                            0.0     7.0        185.42       190.50   \n3746                           0.0     3.0        175.26       175.26   \n2558                           0.0     2.0        172.72       180.34   \n4429                           0.0     2.0        185.42       193.04   \n414                            0.0     1.0        165.10       170.18   \n993                            0.0     0.0        182.88       190.50   \n2211                           0.0     4.0        165.10       167.64   \n3754                           0.0     4.0        175.26       177.80   \n3284                           0.0     2.0        177.80       182.88   \n4665                           1.0     3.0        182.88       193.04   \n\n      R_Weight_lbs  B_age  R_age  \n99           155.0   30.0   33.0  \n4214         145.0   24.0   26.0  \n2983         170.0   29.0   25.0  \n3227         205.0   32.0   33.0  \n1007         125.0   25.0   29.0  \n938          170.0   28.0   27.0  \n2875         205.0   36.0   25.0  \n4600         155.0   22.0   32.0  \n2468         155.0   23.0   22.0  \n264          170.0   28.0   24.0  \n2523         205.0   22.0   30.0  \n3166         205.0   37.0   35.0  \n1770         125.0   30.0   29.0  \n3684         170.0   29.0   30.0  \n4174         185.0   27.0   24.0  \n3998         185.0   30.0   38.0  \n4095         170.0   27.0   26.0  \n3769         170.0   29.0   34.0  \n2572         135.0   34.0   27.0  \n4604         170.0   24.0   23.0  \n2091         155.0   36.0   26.0  \n4923         205.0   23.0   25.0  \n186          185.0   43.0   29.0  \n3442         265.0   37.0   29.0  \n4378         185.0   29.0   26.0  \n2929         145.0   28.0   33.0  \n1403         155.0   26.0   32.0  \n1549         135.0   29.0   33.0  \n3693         170.0   27.0   30.0  \n3248         170.0   29.0   22.0  \n...            ...    ...    ...  \n1            125.0   32.0   31.0  \n2586         155.0   31.0   30.0  \n1701         125.0   28.0   30.0  \n2540         125.0   29.0   30.0  \n3244         155.0   28.0   25.0  \n2689         135.0   32.0   31.0  \n794          135.0   31.0   26.0  \n136          260.0   35.0   34.0  \n3241         170.0   25.0   24.0  \n69           240.0   27.0   40.0  \n13           205.0   30.0   32.0  \n1101         185.0   35.0   29.0  \n205          170.0   33.0   35.0  \n356          135.0   28.0   36.0  \n2060         170.0   33.0   27.0  \n3199         155.0   31.0   28.0  \n1760         250.0   39.0   37.0  \n1697         145.0   29.0   33.0  \n4539         205.0   31.0   26.0  \n3378         135.0   31.0   32.0  \n951          170.0   24.0   29.0  \n3746         185.0   29.0   26.0  \n2558         155.0   25.0   32.0  \n4429         185.0   26.0   28.0  \n414          115.0   25.0   26.0  \n993          170.0   33.0   23.0  \n2211         135.0   29.0   32.0  \n3754         155.0   29.0   25.0  \n3284         265.0   36.0   37.0  \n4665         185.0   34.0   25.0  \n\n[2411 rows x 136 columns]\n 99      0.0\n4214    1.0\n2983    1.0\n3227    1.0\n1007    1.0\n938     0.0\n2875    1.0\n4600    1.0\n2468    1.0\n264     0.0\n2523    1.0\n3166    0.0\n1770    1.0\n3684    1.0\n4174    1.0\n3998    1.0\n4095    2.0\n3769    0.0\n2572    1.0\n4604    1.0\n2091    1.0\n4923    1.0\n186     1.0\n3442    0.0\n4378    1.0\n2929    0.0\n1403    1.0\n1549    1.0\n3693    0.0\n3248    1.0\n       ... \n1       1.0\n2586    1.0\n1701    0.0\n2540    2.0\n3244    1.0\n2689    0.0\n794     0.0\n136     0.0\n3241    1.0\n69      0.0\n13      0.0\n1101    1.0\n205     1.0\n356     0.0\n2060    1.0\n3199    1.0\n1760    1.0\n1697    0.0\n4539    1.0\n3378    1.0\n951     0.0\n3746    1.0\n2558    0.0\n4429    1.0\n414     0.0\n993     1.0\n2211    0.0\n3754    0.0\n3284    1.0\n4665    1.0\nName: Winner, Length: 2411, dtype: float64].\nReshape your data either using array.reshape(-1, 1) if your data has a single feature or array.reshape(1, -1) if it contains a single sample.",
     "output_type": "error",
     "traceback": [
      "\u001b[1;31m---------------------------------------------------------------------------\u001b[0m",
      "\u001b[1;31mValueError\u001b[0m                                Traceback (most recent call last)",
      "\u001b[1;32m<ipython-input-218-0e5a68b1bec0>\u001b[0m in \u001b[0;36m<module>\u001b[1;34m\u001b[0m\n\u001b[0;32m      3\u001b[0m \u001b[0mNB\u001b[0m\u001b[1;33m.\u001b[0m\u001b[0mfit\u001b[0m\u001b[1;33m(\u001b[0m\u001b[0mX_train_random\u001b[0m\u001b[1;33m,\u001b[0m \u001b[0my_train_random\u001b[0m\u001b[1;33m)\u001b[0m\u001b[1;33m\u001b[0m\u001b[1;33m\u001b[0m\u001b[0m\n\u001b[0;32m      4\u001b[0m \u001b[1;31m#clf.predict(X_test_random, y_test_random)\u001b[0m\u001b[1;33m\u001b[0m\u001b[1;33m\u001b[0m\u001b[1;33m\u001b[0m\u001b[0m\n\u001b[1;32m----> 5\u001b[1;33m \u001b[0mNB\u001b[0m\u001b[1;33m.\u001b[0m\u001b[0mpredict\u001b[0m\u001b[1;33m(\u001b[0m\u001b[1;33m[\u001b[0m\u001b[0mX_train_random\u001b[0m\u001b[1;33m,\u001b[0m \u001b[0my_train_random\u001b[0m\u001b[1;33m]\u001b[0m\u001b[1;33m)\u001b[0m\u001b[1;33m;\u001b[0m\u001b[1;33m\u001b[0m\u001b[1;33m\u001b[0m\u001b[0m\n\u001b[0m",
      "\u001b[1;32m~\\Spyder\\lib\\site-packages\\sklearn\\naive_bayes.py\u001b[0m in \u001b[0;36mpredict\u001b[1;34m(self, X)\u001b[0m\n\u001b[0;32m     64\u001b[0m             \u001b[0mPredicted\u001b[0m \u001b[0mtarget\u001b[0m \u001b[0mvalues\u001b[0m \u001b[1;32mfor\u001b[0m \u001b[0mX\u001b[0m\u001b[1;33m\u001b[0m\u001b[1;33m\u001b[0m\u001b[0m\n\u001b[0;32m     65\u001b[0m         \"\"\"\n\u001b[1;32m---> 66\u001b[1;33m         \u001b[0mjll\u001b[0m \u001b[1;33m=\u001b[0m \u001b[0mself\u001b[0m\u001b[1;33m.\u001b[0m\u001b[0m_joint_log_likelihood\u001b[0m\u001b[1;33m(\u001b[0m\u001b[0mX\u001b[0m\u001b[1;33m)\u001b[0m\u001b[1;33m\u001b[0m\u001b[1;33m\u001b[0m\u001b[0m\n\u001b[0m\u001b[0;32m     67\u001b[0m         \u001b[1;32mreturn\u001b[0m \u001b[0mself\u001b[0m\u001b[1;33m.\u001b[0m\u001b[0mclasses_\u001b[0m\u001b[1;33m[\u001b[0m\u001b[0mnp\u001b[0m\u001b[1;33m.\u001b[0m\u001b[0margmax\u001b[0m\u001b[1;33m(\u001b[0m\u001b[0mjll\u001b[0m\u001b[1;33m,\u001b[0m \u001b[0maxis\u001b[0m\u001b[1;33m=\u001b[0m\u001b[1;36m1\u001b[0m\u001b[1;33m)\u001b[0m\u001b[1;33m]\u001b[0m\u001b[1;33m\u001b[0m\u001b[1;33m\u001b[0m\u001b[0m\n\u001b[0;32m     68\u001b[0m \u001b[1;33m\u001b[0m\u001b[0m\n",
      "\u001b[1;32m~\\Spyder\\lib\\site-packages\\sklearn\\naive_bayes.py\u001b[0m in \u001b[0;36m_joint_log_likelihood\u001b[1;34m(self, X)\u001b[0m\n\u001b[0;32m    430\u001b[0m         \u001b[0mcheck_is_fitted\u001b[0m\u001b[1;33m(\u001b[0m\u001b[0mself\u001b[0m\u001b[1;33m,\u001b[0m \u001b[1;34m\"classes_\"\u001b[0m\u001b[1;33m)\u001b[0m\u001b[1;33m\u001b[0m\u001b[1;33m\u001b[0m\u001b[0m\n\u001b[0;32m    431\u001b[0m \u001b[1;33m\u001b[0m\u001b[0m\n\u001b[1;32m--> 432\u001b[1;33m         \u001b[0mX\u001b[0m \u001b[1;33m=\u001b[0m \u001b[0mcheck_array\u001b[0m\u001b[1;33m(\u001b[0m\u001b[0mX\u001b[0m\u001b[1;33m)\u001b[0m\u001b[1;33m\u001b[0m\u001b[1;33m\u001b[0m\u001b[0m\n\u001b[0m\u001b[0;32m    433\u001b[0m         \u001b[0mjoint_log_likelihood\u001b[0m \u001b[1;33m=\u001b[0m \u001b[1;33m[\u001b[0m\u001b[1;33m]\u001b[0m\u001b[1;33m\u001b[0m\u001b[1;33m\u001b[0m\u001b[0m\n\u001b[0;32m    434\u001b[0m         \u001b[1;32mfor\u001b[0m \u001b[0mi\u001b[0m \u001b[1;32min\u001b[0m \u001b[0mrange\u001b[0m\u001b[1;33m(\u001b[0m\u001b[0mnp\u001b[0m\u001b[1;33m.\u001b[0m\u001b[0msize\u001b[0m\u001b[1;33m(\u001b[0m\u001b[0mself\u001b[0m\u001b[1;33m.\u001b[0m\u001b[0mclasses_\u001b[0m\u001b[1;33m)\u001b[0m\u001b[1;33m)\u001b[0m\u001b[1;33m:\u001b[0m\u001b[1;33m\u001b[0m\u001b[1;33m\u001b[0m\u001b[0m\n",
      "\u001b[1;32m~\\Spyder\\lib\\site-packages\\sklearn\\utils\\validation.py\u001b[0m in \u001b[0;36mcheck_array\u001b[1;34m(array, accept_sparse, accept_large_sparse, dtype, order, copy, force_all_finite, ensure_2d, allow_nd, ensure_min_samples, ensure_min_features, warn_on_dtype, estimator)\u001b[0m\n\u001b[0;32m    550\u001b[0m                     \u001b[1;34m\"Reshape your data either using array.reshape(-1, 1) if \"\u001b[0m\u001b[1;33m\u001b[0m\u001b[1;33m\u001b[0m\u001b[0m\n\u001b[0;32m    551\u001b[0m                     \u001b[1;34m\"your data has a single feature or array.reshape(1, -1) \"\u001b[0m\u001b[1;33m\u001b[0m\u001b[1;33m\u001b[0m\u001b[0m\n\u001b[1;32m--> 552\u001b[1;33m                     \"if it contains a single sample.\".format(array))\n\u001b[0m\u001b[0;32m    553\u001b[0m \u001b[1;33m\u001b[0m\u001b[0m\n\u001b[0;32m    554\u001b[0m         \u001b[1;31m# in the future np.flexible dtypes will be handled like object dtypes\u001b[0m\u001b[1;33m\u001b[0m\u001b[1;33m\u001b[0m\u001b[1;33m\u001b[0m\u001b[0m\n",
      "\u001b[1;31mValueError\u001b[0m: Expected 2D array, got 1D array instead:\narray=[      title_bout  no_of_rounds  B_current_lose_streak  B_current_win_streak  \\\n99           0.0           5.0                    0.0                   1.0   \n4214         0.0           3.0                    1.0                   0.0   \n2983         0.0           3.0                    0.0                   2.0   \n3227         0.0           3.0                    1.0                   0.0   \n1007         1.0           5.0                    0.0                   3.0   \n938          0.0           3.0                    0.0                   1.0   \n2875         1.0           5.0                    1.0                   0.0   \n4600         0.0           3.0                    2.0                   0.0   \n2468         0.0           3.0                    0.0                   1.0   \n264          0.0           3.0                    0.0                   2.0   \n2523         0.0           3.0                    0.0                   1.0   \n3166         0.0           5.0                    1.0                   0.0   \n1770         1.0           5.0                    0.0                   3.0   \n3684         0.0           3.0                    0.0                   1.0   \n4174         0.0           3.0                    1.0                   0.0   \n3998         0.0           3.0                    0.0                   3.0   \n4095         0.0           3.0                    0.0                   2.0   \n3769         0.0           3.0                    1.0                   0.0   \n2572         1.0           5.0                    0.0                   4.0   \n4604         0.0           3.0                    0.0                   1.0   \n2091         0.0           5.0                    0.0                   1.0   \n4923         1.0           5.0                    0.0                   1.0   \n186          0.0           3.0                    0.0                   1.0   \n3442         0.0           3.0                    0.0                   1.0   \n4378         0.0           3.0                    0.0                   5.0   \n2929         0.0           3.0                    0.0                   4.0   \n1403         0.0           3.0                    1.0                   0.0   \n1549         0.0           3.0                    1.0                   0.0   \n3693         0.0           3.0                    2.0                   0.0   \n3248         0.0           3.0                    0.0                   1.0   \n...          ...           ...                    ...                   ...   \n1            1.0           5.0                    0.0                   3.0   \n2586         0.0           3.0                    0.0                   1.0   \n1701         0.0           3.0                    0.0                   3.0   \n2540         0.0           3.0                    1.0                   0.0   \n3244         0.0           3.0                    1.0                   0.0   \n2689         0.0           3.0                    0.0                   1.0   \n794          1.0           5.0                    0.0                   2.0   \n136          0.0           5.0                    0.0                   2.0   \n3241         0.0           3.0                    0.0                   1.0   \n69           0.0           3.0                    0.0                   1.0   \n13           0.0           5.0                    1.0                   0.0   \n1101         0.0           3.0                    0.0                   1.0   \n205          0.0           3.0                    1.0                   0.0   \n356          0.0           3.0                    1.0                   0.0   \n2060         0.0           3.0                    0.0                   3.0   \n3199         0.0           3.0                    1.0                   0.0   \n1760         0.0           5.0                    2.0                   0.0   \n1697         0.0           3.0                    0.0                   1.0   \n4539         0.0           3.0                    0.0                   3.0   \n3378         0.0           3.0                    0.0                   2.0   \n951          0.0           5.0                    0.0                   4.0   \n3746         0.0           3.0                    0.0                   1.0   \n2558         0.0           3.0                    2.0                   0.0   \n4429         0.0           3.0                    1.0                   0.0   \n414          0.0           3.0                    0.0                   2.0   \n993          0.0           3.0                    1.0                   0.0   \n2211         0.0           3.0                    0.0                   1.0   \n3754         0.0           3.0                    0.0                   1.0   \n3284         0.0           3.0                    0.0                   2.0   \n4665         0.0           3.0                    1.0                   0.0   \n\n      B_draw  B_avg_BODY_att  B_avg_BODY_landed  B_avg_CLINCH_att  \\\n99       0.0       10.000000           8.250000         17.500000   \n4214     0.0        1.600000           1.400000          0.600000   \n2983     0.0       12.285714          10.142857          4.857143   \n3227     0.0       45.000000          35.500000         14.500000   \n1007     0.0       19.200000          14.400000         27.500000   \n938      0.0        4.500000           3.000000          2.500000   \n2875     0.0        8.000000           5.363636          7.909091   \n4600     0.0        7.285714           4.714286         10.571429   \n2468     0.0        4.000000           4.000000         11.000000   \n264      0.0        4.000000           3.100000          5.500000   \n2523     0.0        4.000000           3.500000         25.500000   \n3166     0.0       12.500000           9.777778         12.555556   \n1770     0.0       15.571429          10.428571          8.571429   \n3684     0.0        6.800000           4.800000         13.200000   \n4174     0.0        5.333333           4.666667          5.333333   \n3998     0.0       11.375000           9.500000         13.625000   \n4095     0.0        2.000000           2.000000         12.500000   \n3769     0.0        0.000000           0.000000          0.000000   \n2572     0.0       15.125000           9.750000          6.000000   \n4604     0.0       15.000000          14.000000         15.000000   \n2091     0.0       10.055556           5.611111          6.277778   \n4923     0.0        7.000000           6.500000         14.500000   \n186      0.0        8.500000           6.909091          6.272727   \n3442     0.0        1.000000           0.000000          1.000000   \n4378     0.0        3.000000           2.500000          0.125000   \n2929     0.0        7.166667           4.166667          2.833333   \n1403     0.0        3.000000           1.333333          2.666667   \n1549     0.0       16.000000           6.000000         21.000000   \n3693     0.0        1.000000           1.000000         19.000000   \n3248     0.0        0.000000           0.000000          2.000000   \n...      ...             ...                ...               ...   \n1        0.0       14.600000           9.100000         11.800000   \n2586     0.0        3.000000           3.000000          0.000000   \n1701     0.0       29.666667          22.000000         24.666667   \n2540     0.0        8.333333           5.666667          7.666667   \n3244     0.0        7.000000           4.333333          5.333333   \n2689     0.0        9.750000           6.750000          8.250000   \n794      0.0       15.615385          11.153846         10.923077   \n136      0.0       29.055556          19.555556          8.388889   \n3241     0.0       25.000000          21.000000         18.000000   \n69       0.0       35.000000          21.000000         38.000000   \n13       0.0        9.272727           6.181818          6.818182   \n1101     0.0       21.000000          15.000000          8.000000   \n205      0.0       10.400000           5.000000          6.200000   \n356      0.0        5.000000           1.000000          1.000000   \n2060     0.0        5.333333           4.666667          7.666667   \n3199     0.0        6.000000           5.000000          0.000000   \n1760     0.0        2.714286           1.642857          5.714286   \n1697     0.0        7.000000           4.000000          8.000000   \n4539     0.0        6.666667           6.333333         11.333333   \n3378     0.0       10.500000           8.500000          6.000000   \n951      0.0       13.400000          10.400000          8.400000   \n3746     0.0       19.000000          18.000000          3.000000   \n2558     0.0        5.750000           5.250000         10.000000   \n4429     0.0        5.500000           5.000000          0.500000   \n414      0.0       15.000000          10.000000         13.666667   \n993      0.0        8.000000           5.000000          2.000000   \n2211     0.0        4.333333           2.666667          5.666667   \n3754     0.0        3.666667           2.666667          6.333333   \n3284     0.0       10.133333           8.533333         14.333333   \n4665     0.0        8.307692           6.153846          6.846154   \n\n      B_avg_CLINCH_landed  B_avg_DISTANCE_att  ...  \\\n99              14.750000          141.000000  ...   \n4214             0.600000           24.200000  ...   \n2983             2.857143           87.285714  ...   \n3227             9.500000          107.500000  ...   \n1007            16.200000           90.300000  ...   \n938              1.250000          114.750000  ...   \n2875             5.818182           38.727273  ...   \n4600             6.857143           40.142857  ...   \n2468             8.000000           83.000000  ...   \n264              3.500000           71.700000  ...   \n2523            19.500000           14.000000  ...   \n3166             8.388889           68.111111  ...   \n1770             5.714286           94.000000  ...   \n3684             8.200000           10.800000  ...   \n4174             3.333333            7.000000  ...   \n3998             8.750000           61.125000  ...   \n4095            12.500000           13.000000  ...   \n3769             0.000000            4.000000  ...   \n2572             3.750000           76.250000  ...   \n4604             6.000000           55.000000  ...   \n2091             2.333333          110.666667  ...   \n4923            12.000000            2.000000  ...   \n186              5.227273           40.590909  ...   \n3442             0.500000           24.000000  ...   \n4378             0.000000           22.375000  ...   \n2929             1.833333           66.166667  ...   \n1403             2.000000           39.333333  ...   \n1549             9.000000           24.000000  ...   \n3693            12.000000           36.750000  ...   \n3248             2.000000            7.000000  ...   \n...                   ...                 ...  ...   \n1                7.300000          124.700000  ...   \n2586             0.000000           14.000000  ...   \n1701            15.333333           91.000000  ...   \n2540             3.666667           65.333333  ...   \n3244             2.666667           21.333333  ...   \n2689             5.250000           91.500000  ...   \n794              6.923077          147.461538  ...   \n136              4.888889          104.555556  ...   \n3241            14.000000           47.000000  ...   \n69              30.000000          167.000000  ...   \n13               5.272727           57.181818  ...   \n1101             5.000000          202.000000  ...   \n205              3.200000           77.400000  ...   \n356              1.000000            9.000000  ...   \n2060             6.333333           33.000000  ...   \n3199             0.000000           68.000000  ...   \n1760             2.500000           47.642857  ...   \n1697             6.000000           29.000000  ...   \n4539             9.666667            4.333333  ...   \n3378             6.000000           62.000000  ...   \n951              6.500000           67.600000  ...   \n3746             2.000000           20.000000  ...   \n2558             7.750000           49.750000  ...   \n4429             0.000000            1.000000  ...   \n414             10.666667          143.000000  ...   \n993              1.000000          128.000000  ...   \n2211             4.000000           55.000000  ...   \n3754             3.000000           23.666667  ...   \n3284            12.466667           33.333333  ...   \n4665             5.230769           17.615385  ...   \n\n      R_win_by_Decision_Unanimous  R_win_by_KO/TKO  R_win_by_Submission  \\\n99                            5.0              7.0                  0.0   \n4214                          2.0              0.0                  2.0   \n2983                          0.0              1.0                  0.0   \n3227                          0.0              2.0                  1.0   \n1007                          4.0              2.0                  0.0   \n938                           0.0              2.0                  0.0   \n2875                          3.0              3.0                  5.0   \n4600                          1.0              0.0                  1.0   \n2468                          1.0              2.0                  0.0   \n264                           1.0              0.0                  4.0   \n2523                          0.0              1.0                  0.0   \n3166                          1.0              3.0                  0.0   \n1770                          5.0              1.0                  3.0   \n3684                          0.0              1.0                  0.0   \n4174                          0.0              1.0                  1.0   \n3998                          2.0              0.0                  0.0   \n4095                          5.0              1.0                  1.0   \n3769                          2.0              0.0                  0.0   \n2572                          3.0              1.0                  2.0   \n4604                          2.0              0.0                  1.0   \n2091                          1.0              3.0                  0.0   \n4923                          0.0              2.0                  0.0   \n186                           1.0              2.0                  0.0   \n3442                          1.0              0.0                  0.0   \n4378                          2.0              3.0                  1.0   \n2929                          0.0              1.0                  0.0   \n1403                          0.0              0.0                  1.0   \n1549                          0.0              1.0                  0.0   \n3693                          1.0              2.0                  0.0   \n3248                          1.0              1.0                  1.0   \n...                           ...              ...                  ...   \n1                             2.0              0.0                  2.0   \n2586                          3.0              2.0                  3.0   \n1701                          3.0              0.0                  1.0   \n2540                          1.0              0.0                  0.0   \n3244                          0.0              0.0                  0.0   \n2689                          1.0              2.0                  0.0   \n794                           2.0              4.0                  0.0   \n136                           1.0             10.0                  0.0   \n3241                          3.0              1.0                  0.0   \n69                            4.0              9.0                  2.0   \n13                            3.0              5.0                  2.0   \n1101                          0.0              0.0                  1.0   \n205                           5.0              7.0                  1.0   \n356                           2.0              0.0                  0.0   \n2060                          4.0              2.0                  0.0   \n3199                          0.0              0.0                  0.0   \n1760                          0.0              4.0                  1.0   \n1697                          1.0              1.0                  0.0   \n4539                          0.0              0.0                  0.0   \n3378                          1.0              0.0                  0.0   \n951                           2.0              0.0                  5.0   \n3746                          1.0              1.0                  0.0   \n2558                          2.0              0.0                  0.0   \n4429                          0.0              0.0                  2.0   \n414                           0.0              0.0                  1.0   \n993                           0.0              0.0                  0.0   \n2211                          2.0              1.0                  1.0   \n3754                          3.0              0.0                  1.0   \n3284                          1.0              1.0                  0.0   \n4665                          0.0              2.0                  0.0   \n\n      R_win_by_TKO_Doctor_Stoppage  R_wins  R_Height_cms  R_Reach_cms  \\\n99                             0.0    14.0        180.34       190.50   \n4214                           1.0     5.0        170.18       177.80   \n2983                           0.0     2.0        177.80       182.88   \n3227                           0.0     3.0        182.88       193.04   \n1007                           0.0     7.0        167.64       165.10   \n938                            0.0     3.0        182.88       185.42   \n2875                           0.0    11.0        193.04       213.36   \n4600                           1.0     3.0        167.64       170.18   \n2468                           0.0     4.0        180.34       175.26   \n264                            1.0     7.0        180.34       185.42   \n2523                           0.0     2.0        190.50       203.20   \n3166                           0.0     4.0        180.34       187.96   \n1770                           0.0    10.0        160.02       167.64   \n3684                           0.0     1.0        185.42       193.04   \n4174                           1.0     3.0        187.96       185.42   \n3998                           0.0     4.0        180.34       187.96   \n4095                           0.0     8.0        177.80       182.88   \n3769                           0.0     2.0        175.26       180.34   \n2572                           0.0     6.0        167.64       177.80   \n4604                           0.0     4.0        177.80       182.88   \n2091                           0.0     4.0        175.26       187.96   \n4923                           1.0     3.0        190.50       187.96   \n186                            0.0     4.0        193.04       203.20   \n3442                           0.0     1.0        193.04       198.12   \n4378                           0.0     7.0        180.34       193.04   \n2929                           0.0     2.0        175.26       172.72   \n1403                           0.0     1.0        175.26       175.26   \n1549                           0.0     1.0        175.26       167.64   \n3693                           0.0     4.0        180.34       180.34   \n3248                           0.0     3.0        182.88       193.04   \n...                            ...     ...           ...          ...   \n1                              0.0     5.0        165.10       167.64   \n2586                           0.0     8.0        185.42       185.42   \n1701                           0.0     4.0        165.10       170.18   \n2540                           0.0     1.0        162.56       162.56   \n3244                           0.0     0.0        167.64       167.64   \n2689                           0.0     4.0        185.42       182.88   \n794                            0.0     6.0        172.72       165.10   \n136                            0.0    12.0        190.50       200.66   \n3241                           0.0     5.0        185.42       190.50   \n69                             0.0    16.0        190.50       195.58   \n13                             0.0    10.0        195.58       200.66   \n1101                           0.0     1.0        185.42       195.58   \n205                            1.0    14.0        175.26       177.80   \n356                            0.0     2.0        170.18       165.10   \n2060                           0.0     6.0        190.50       203.20   \n3199                           0.0     0.0        170.18       172.72   \n1760                           0.0     5.0        190.50       198.12   \n1697                           0.0     2.0        162.56       162.56   \n4539                           0.0     3.0        182.88       190.50   \n3378                           0.0     1.0        167.64       170.18   \n951                            0.0     7.0        185.42       190.50   \n3746                           0.0     3.0        175.26       175.26   \n2558                           0.0     2.0        172.72       180.34   \n4429                           0.0     2.0        185.42       193.04   \n414                            0.0     1.0        165.10       170.18   \n993                            0.0     0.0        182.88       190.50   \n2211                           0.0     4.0        165.10       167.64   \n3754                           0.0     4.0        175.26       177.80   \n3284                           0.0     2.0        177.80       182.88   \n4665                           1.0     3.0        182.88       193.04   \n\n      R_Weight_lbs  B_age  R_age  \n99           155.0   30.0   33.0  \n4214         145.0   24.0   26.0  \n2983         170.0   29.0   25.0  \n3227         205.0   32.0   33.0  \n1007         125.0   25.0   29.0  \n938          170.0   28.0   27.0  \n2875         205.0   36.0   25.0  \n4600         155.0   22.0   32.0  \n2468         155.0   23.0   22.0  \n264          170.0   28.0   24.0  \n2523         205.0   22.0   30.0  \n3166         205.0   37.0   35.0  \n1770         125.0   30.0   29.0  \n3684         170.0   29.0   30.0  \n4174         185.0   27.0   24.0  \n3998         185.0   30.0   38.0  \n4095         170.0   27.0   26.0  \n3769         170.0   29.0   34.0  \n2572         135.0   34.0   27.0  \n4604         170.0   24.0   23.0  \n2091         155.0   36.0   26.0  \n4923         205.0   23.0   25.0  \n186          185.0   43.0   29.0  \n3442         265.0   37.0   29.0  \n4378         185.0   29.0   26.0  \n2929         145.0   28.0   33.0  \n1403         155.0   26.0   32.0  \n1549         135.0   29.0   33.0  \n3693         170.0   27.0   30.0  \n3248         170.0   29.0   22.0  \n...            ...    ...    ...  \n1            125.0   32.0   31.0  \n2586         155.0   31.0   30.0  \n1701         125.0   28.0   30.0  \n2540         125.0   29.0   30.0  \n3244         155.0   28.0   25.0  \n2689         135.0   32.0   31.0  \n794          135.0   31.0   26.0  \n136          260.0   35.0   34.0  \n3241         170.0   25.0   24.0  \n69           240.0   27.0   40.0  \n13           205.0   30.0   32.0  \n1101         185.0   35.0   29.0  \n205          170.0   33.0   35.0  \n356          135.0   28.0   36.0  \n2060         170.0   33.0   27.0  \n3199         155.0   31.0   28.0  \n1760         250.0   39.0   37.0  \n1697         145.0   29.0   33.0  \n4539         205.0   31.0   26.0  \n3378         135.0   31.0   32.0  \n951          170.0   24.0   29.0  \n3746         185.0   29.0   26.0  \n2558         155.0   25.0   32.0  \n4429         185.0   26.0   28.0  \n414          115.0   25.0   26.0  \n993          170.0   33.0   23.0  \n2211         135.0   29.0   32.0  \n3754         155.0   29.0   25.0  \n3284         265.0   36.0   37.0  \n4665         185.0   34.0   25.0  \n\n[2411 rows x 136 columns]\n 99      0.0\n4214    1.0\n2983    1.0\n3227    1.0\n1007    1.0\n938     0.0\n2875    1.0\n4600    1.0\n2468    1.0\n264     0.0\n2523    1.0\n3166    0.0\n1770    1.0\n3684    1.0\n4174    1.0\n3998    1.0\n4095    2.0\n3769    0.0\n2572    1.0\n4604    1.0\n2091    1.0\n4923    1.0\n186     1.0\n3442    0.0\n4378    1.0\n2929    0.0\n1403    1.0\n1549    1.0\n3693    0.0\n3248    1.0\n       ... \n1       1.0\n2586    1.0\n1701    0.0\n2540    2.0\n3244    1.0\n2689    0.0\n794     0.0\n136     0.0\n3241    1.0\n69      0.0\n13      0.0\n1101    1.0\n205     1.0\n356     0.0\n2060    1.0\n3199    1.0\n1760    1.0\n1697    0.0\n4539    1.0\n3378    1.0\n951     0.0\n3746    1.0\n2558    0.0\n4429    1.0\n414     0.0\n993     1.0\n2211    0.0\n3754    0.0\n3284    1.0\n4665    1.0\nName: Winner, Length: 2411, dtype: float64].\nReshape your data either using array.reshape(-1, 1) if your data has a single feature or array.reshape(1, -1) if it contains a single sample."
     ]
    }
   ],
   "source": [
    "NB = GaussianNB()\n",
    "NB.fit(X_train_random, y_train_random)\n",
    "#clf.predict(X_test_random, y_test_random)\n",
    "NB.predict([X_train_random, y_train_random]);"
   ]
  },
  {
   "cell_type": "code",
   "execution_count": 211,
   "metadata": {},
   "outputs": [
    {
     "data": {
      "text/plain": [
       "0.5470759021153049"
      ]
     },
     "execution_count": 211,
     "metadata": {},
     "output_type": "execute_result"
    }
   ],
   "source": [
    "NB.score(X_train_random, y_train_random)"
   ]
  },
  {
   "cell_type": "markdown",
   "metadata": {},
   "source": [
    "___\n",
    "# Crie a Sua Luta - **Em desenvolvimento**"
   ]
  },
  {
   "cell_type": "markdown",
   "metadata": {},
   "source": [
    "Com o objetivo de poder escolher dois nomes para o algoritimo checar quem provavelmente sairia vitorioso foi criado um novo Dataframe com os nomes e caracteristicas **mais recentes** (evitando assim repetição de nomes) dos mesmos com base em suas lutas."
   ]
  },
  {
   "cell_type": "markdown",
   "metadata": {},
   "source": [
    "E assim esperamos poder usar ao inves de colunas pré-definidas as colunas que possuem maior impacto na probabilidade de alguem vencer e implementar funcionalmente esse mecanismo."
   ]
  },
  {
   "cell_type": "code",
   "execution_count": null,
   "metadata": {},
   "outputs": [],
   "source": [
    "#criando um novo dataframe com apenas os lutadores sem repetição\n",
    "def fighter_clean(data):\n",
    "    newdata = pd.DataFrame()\n",
    "    namelist = []\n",
    "\n",
    "    for n in range(len(data.Fighter)):\n",
    "        if data.loc[n,:][\"Fighter\"] not in namelist:\n",
    "            namelist.append(data.loc[n,:][\"Fighter\"])\n",
    "            newdata = pd.concat([newdata,data.loc[n,:]], axis=1, join='outer')\n",
    "\n",
    "    newdata = newdata.transpose()\n",
    "    return newdata\n"
   ]
  },
  {
   "cell_type": "code",
   "execution_count": null,
   "metadata": {},
   "outputs": [],
   "source": [
    "# Função que separa todos os atributos do red e blue\n",
    "def colunas_RB(df):\n",
    "    coluna_R = ['weight_class']\n",
    "    coluna_B = ['weight_class']\n",
    "    for e in df.columns:\n",
    "        if e != 'Referee':\n",
    "            for i in range(0,1):\n",
    "                if e[i] == 'R':\n",
    "                    coluna_R.append(e)\n",
    "                elif e[i] == 'B':\n",
    "                    coluna_B.append(e)\n",
    "    return coluna_R,coluna_B"
   ]
  },
  {
   "cell_type": "code",
   "execution_count": null,
   "metadata": {
    "scrolled": true
   },
   "outputs": [],
   "source": [
    "#criando um novo dataframe\n",
    "lista_locB = colunas_RB(data)[1]\n",
    "lista_locR = colunas_RB(data)[0]\n",
    "data_red = data.loc[: , lista_locR]\n",
    "data_blue = data.loc[: , lista_locB]\n",
    "\n",
    "data_blue.columns = [\"Fighter\",\"Weight_class\",\"Height_cms\",\"Reach_cms\",\"Weight_lbs\",\"Age\"]\n",
    "data_red.columns = [\"Fighter\",\"Weight_class\",\"Height_cms\",\"Reach_cms\",\"Weight_lbs\",\"Age\"]\n",
    "\n",
    "data_blue = fighter_clean(data_blue)\n",
    "data_red = fighter_clean(data_red)\n",
    "\n",
    "dataRB = pd.concat([data_red,data_blue], axis=0, join='outer')\n",
    "\n",
    "dataRB.reset_index(inplace=True)\n",
    "dataRB = fighter_clean(dataRB).loc[: , [\"Age\",\"Fighter\",\"Height_cms\",\"Reach_cms\",\"Weight_class\",\"Weight_lbs\"]]\n",
    "\n",
    "dataRB = dataRB.set_index(\"Fighter\")\n",
    "\n",
    "dataRB = dataRB.dropna(inplace=True)"
   ]
  },
  {
   "cell_type": "code",
   "execution_count": null,
   "metadata": {},
   "outputs": [],
   "source": [
    "dataRB.loc[\"Henry Cejudo\" , :]"
   ]
  },
  {
   "cell_type": "markdown",
   "metadata": {},
   "source": [
    "___\n",
    "## Conclusão Final:\n",
    "\n",
    "Entre os 6 modelos feitos (3 de Random Forest e 3 de Regressão Logística) melhor modelo feito foi a segunda iteração de Random Forest, em que foi obtido uma média de 68% de acertos. Levando em consideração que 67.46% das lutas do UFC foram vencidas por lutadores do lado vermelho, se o modelo apenas afirmasse que o lado vermelho sempre é o vitorioso a acurácia seria quase a mesma, o modelo não tem um bom encaixe.\n",
    "\n",
    "Para melhorar o modelo usado poderia-se separar os dados por classe de peso, não necessariamente o mesmo fator tem o mesmo nível de importância para o peso pesado (até 120 kg) e para o peso mosca (até 56 kg), sexo, mulheres tendem a ter um estilo de luta diferente que homens, ou até faixa de tempo, o MMA mudou muito desde a criação do UFC(1993).\n",
    "\n",
    "Mas é necessário levar em consideração que por ser um esporte de competição que quer que seus fãs não saibam o resultado para ficarem mais engajados emocionalmente nos embates , o UFC sempre põe lutadores de níveis técnicos muito próximos para não ter um atléta que será  visto como o claro vencedor do embate, assim tendo uma luta \"menos emocionante\", sendo considerada mais entediante, por exemplo a luta de um campeão da categoria e um novato. Assim fazer um preditor que terá como resultado o vencedor da luta não é muito possível de ser feito."
   ]
  },
  {
   "cell_type": "markdown",
   "metadata": {},
   "source": [
    "___\n",
    "## Referências"
   ]
  },
  {
   "cell_type": "markdown",
   "metadata": {},
   "source": [
    "[Como usar a biblioteca Scikit-lear](https://scikit-learn.org/stable/modules/linear_model.html#logistic-regression)\n",
    "\n",
    "[Como funciona o Random Forest](https://towardsdatascience.com/understanding-random-forest-58381e0602d2)\n",
    "\n",
    "[Referencia do Random Forest Classifier](https://scikit-learn.org/stable/modules/generated/sklearn.ensemble.RandomForestClassifier.html)\n",
    "\n",
    "[Como funciona regressão linear](https://www.saedsayad.com/logistic_regression.htm)\n",
    "\n",
    "[Como usar a Regressão Linear](https://scikit-learn.org/stable/modules/generated/sklearn.linear_model.LinearRegression.html)\n",
    "\n"
   ]
  },
  {
   "cell_type": "code",
   "execution_count": null,
   "metadata": {},
   "outputs": [],
   "source": []
  },
  {
   "cell_type": "code",
   "execution_count": null,
   "metadata": {},
   "outputs": [],
   "source": []
  },
  {
   "cell_type": "code",
   "execution_count": null,
   "metadata": {},
   "outputs": [],
   "source": []
  },
  {
   "cell_type": "code",
   "execution_count": null,
   "metadata": {},
   "outputs": [],
   "source": []
  }
 ],
 "metadata": {
  "kernelspec": {
   "display_name": "Python 3",
   "language": "python",
   "name": "python3"
  },
  "language_info": {
   "codemirror_mode": {
    "name": "ipython",
    "version": 3
   },
   "file_extension": ".py",
   "mimetype": "text/x-python",
   "name": "python",
   "nbconvert_exporter": "python",
   "pygments_lexer": "ipython3",
   "version": "3.7.3"
  }
 },
 "nbformat": 4,
 "nbformat_minor": 4
}
